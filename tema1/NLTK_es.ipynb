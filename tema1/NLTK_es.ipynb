{
  "nbformat": 4,
  "nbformat_minor": 0,
  "metadata": {
    "colab": {
      "provenance": []
    },
    "kernelspec": {
      "name": "python3",
      "display_name": "Python 3"
    }
  },
  "cells": [
    {
      "cell_type": "markdown",
      "metadata": {
        "id": "GZfZs1_I1HSi"
      },
      "source": [
        "# NLTK\n",
        "\n",
        "NLTK (Natural Language Toolkit) es una librería de Python que nos permite trabajar con textos en lenguaje natural.  Esta librería permite realizar procesar el textos y realizar varias tareas básicas de PLN. En este tutorial, veremos las siguientes tareas: \n",
        "- división de oraciones y tokenización\n",
        "- stemming y lematización\n",
        "- análisis morfosintáctico (PoS tagging)\n",
        "- análisis sintáctico (parsing). \n",
        "\n",
        "Además de estas tareas básicas, NLTK también permite reconocer entidades. \n",
        "\n"
      ]
    },
    {
      "cell_type": "markdown",
      "metadata": {
        "id": "VOPFoYYF0q1L"
      },
      "source": [
        "## Instalar NLTK\n",
        "\n",
        "First we need to install NLTK. "
      ]
    },
    {
      "cell_type": "code",
      "metadata": {
        "id": "IOMjK0ZkrgIU",
        "outputId": "cd8f3629-8bf1-4fd9-830b-440f41616268",
        "colab": {
          "base_uri": "https://localhost:8080/"
        }
      },
      "source": [
        "!pip install --user -U nltk\n"
      ],
      "execution_count": 1,
      "outputs": [
        {
          "output_type": "stream",
          "name": "stdout",
          "text": [
            "Looking in indexes: https://pypi.org/simple, https://us-python.pkg.dev/colab-wheels/public/simple/\n",
            "Requirement already satisfied: nltk in /root/.local/lib/python3.8/site-packages (3.8.1)\n",
            "Requirement already satisfied: click in /usr/local/lib/python3.8/dist-packages (from nltk) (7.1.2)\n",
            "Requirement already satisfied: joblib in /usr/local/lib/python3.8/dist-packages (from nltk) (1.2.0)\n",
            "Requirement already satisfied: regex>=2021.8.3 in /usr/local/lib/python3.8/dist-packages (from nltk) (2022.6.2)\n",
            "Requirement already satisfied: tqdm in /usr/local/lib/python3.8/dist-packages (from nltk) (4.64.1)\n"
          ]
        }
      ]
    },
    {
      "cell_type": "markdown",
      "source": [
        "Debemos descargar el paquete 'punkt' para realizar las tareas de análisis sintáctico:"
      ],
      "metadata": {
        "id": "Vp91sYKAcHzw"
      }
    },
    {
      "cell_type": "code",
      "source": [
        "import nltk\n",
        "nltk.download('punkt')"
      ],
      "metadata": {
        "colab": {
          "base_uri": "https://localhost:8080/"
        },
        "id": "NDAk269kcCUf",
        "outputId": "0d97c401-da4f-4809-db7a-4cdf79184157"
      },
      "execution_count": 2,
      "outputs": [
        {
          "output_type": "stream",
          "name": "stderr",
          "text": [
            "[nltk_data] Downloading package punkt to /root/nltk_data...\n",
            "[nltk_data]   Package punkt is already up-to-date!\n"
          ]
        },
        {
          "output_type": "execute_result",
          "data": {
            "text/plain": [
              "True"
            ]
          },
          "metadata": {},
          "execution_count": 2
        }
      ]
    },
    {
      "cell_type": "markdown",
      "metadata": {
        "id": "dRssgMxS09v8"
      },
      "source": [
        "## División de oraciones\n",
        "\n",
        "El objetivo de esta tarea es dividir un texto en sus oraciones.\n",
        "Para la mayoría de los textos sería suficiente con considerar el signo de puntuación '.' como carácter para dividir el texto. Sin embargo, esta división no siempre es trivial (por ejemplo, qué ocurre con abreviaturas que contienen '.'). \n",
        "\n",
        "NLTK proporciona un método que segmenta un texto en oraciones de forma robusta, siendo capaz de manejar todo tipo de textos. \n"
      ]
    },
    {
      "cell_type": "code",
      "metadata": {
        "id": "f1KtkYDhifyg",
        "outputId": "aea0fe97-6898-4265-ffde-9867177b3ce0",
        "colab": {
          "base_uri": "https://localhost:8080/"
        }
      },
      "source": [
        "text='Billy always listens to his mother. He always does what she says. ' \\\n",
        "+ 'If his mother says, Brush your teeth, Billy brushes his teeth. ' \\\n",
        "+ 'If his mother says, Go to bed, Billy goes to bed. Billy is a very good boy. ' \\\n",
        "+ 'His father, Dr. Smith, is very proud of him. ' \\\n",
        "\n",
        "\n",
        "sentences = nltk.sent_tokenize(text)\n",
        "for sentence in sentences:\n",
        "    print(sentence)\n"
      ],
      "execution_count": 3,
      "outputs": [
        {
          "output_type": "stream",
          "name": "stdout",
          "text": [
            "Billy always listens to his mother.\n",
            "He always does what she says.\n",
            "If his mother says, Brush your teeth, Billy brushes his teeth.\n",
            "If his mother says, Go to bed, Billy goes to bed.\n",
            "Billy is a very good boy.\n",
            "His father, Dr. Smith, is very proud of him.\n"
          ]
        }
      ]
    },
    {
      "cell_type": "markdown",
      "metadata": {
        "id": "k-ssxWRk1HTI"
      },
      "source": [
        "Para poder dividir un texto en otro idioma distinto al inglés, sería necesario cargar el tokenizador para el idioma correspondiente. "
      ]
    },
    {
      "cell_type": "code",
      "metadata": {
        "id": "oCoAxDbd1HTK",
        "outputId": "a811087c-e42e-4c46-d10c-8fdaf1a77161",
        "colab": {
          "base_uri": "https://localhost:8080/"
        }
      },
      "source": [
        "tokenizer_es = nltk.data.load('tokenizers/punkt/spanish.pickle')\n",
        "text='Este es un curso de NLP. Ahora estamos estudiando NLTK. Luego veremos Spacy.'\n",
        "sentences=tokenizer_es.tokenize(text)\n",
        "print(sentences)\n"
      ],
      "execution_count": 4,
      "outputs": [
        {
          "output_type": "stream",
          "name": "stdout",
          "text": [
            "['Este es un curso de NLP.', 'Ahora estamos estudiando NLTK.', 'Luego veremos Spacy.']\n"
          ]
        }
      ]
    },
    {
      "cell_type": "markdown",
      "metadata": {
        "id": "4pMqW0OviksL"
      },
      "source": [
        "## Tokenización\n",
        "\n",
        "Es la tarea de dividir un texto en sus palabras y signos de puntuación. \n",
        "\n",
        "El método split no es capaz de manejar los signos de puntuacion:\n"
      ]
    },
    {
      "cell_type": "code",
      "metadata": {
        "id": "gSklTFqY1HSl",
        "outputId": "4533d4b9-3be6-4b4f-ebec-37bd2071623f",
        "colab": {
          "base_uri": "https://localhost:8080/"
        }
      },
      "source": [
        "text=\"Mr. O'Neill thinks that the boys' stories about Chile's capital aren't amusing.\"\n",
        "tokens=[t for t in text.split()]\n",
        "print(tokens)"
      ],
      "execution_count": 5,
      "outputs": [
        {
          "output_type": "stream",
          "name": "stdout",
          "text": [
            "['Mr.', \"O'Neill\", 'thinks', 'that', 'the', \"boys'\", 'stories', 'about', \"Chile's\", 'capital', \"aren't\", 'amusing.']\n"
          ]
        }
      ]
    },
    {
      "cell_type": "markdown",
      "metadata": {
        "id": "ErhjCtOP1HSw"
      },
      "source": [
        "NLTK proporciona un método capaz de realizar la tokenización de un texto de forma más robusta que el método split:"
      ]
    },
    {
      "cell_type": "code",
      "metadata": {
        "id": "8A9HHd5t1HSx",
        "outputId": "002039a6-6d4b-4f87-8375-f51a20cedb17",
        "colab": {
          "base_uri": "https://localhost:8080/"
        }
      },
      "source": [
        "tokens=nltk.word_tokenize(text)\n",
        "print(tokens)"
      ],
      "execution_count": 6,
      "outputs": [
        {
          "output_type": "stream",
          "name": "stdout",
          "text": [
            "['Mr.', \"O'Neill\", 'thinks', 'that', 'the', 'boys', \"'\", 'stories', 'about', 'Chile', \"'s\", 'capital', 'are', \"n't\", 'amusing', '.']\n"
          ]
        }
      ]
    },
    {
      "cell_type": "markdown",
      "source": [
        "Además de manejar correctamente los signos de puntuación, NLTK también es capaz de detectar las conjunciones del idioma, por ejemplo, 'aren't' ha sido descompueto en los tokens 'are' y 'n't'."
      ],
      "metadata": {
        "id": "2iWsc7I4fUnc"
      }
    },
    {
      "cell_type": "markdown",
      "source": [
        "## Lemmatization \n",
        "\n",
        "La lematización consiste en el análisis morfológico de una palabra para obtener su lema. Por ejemplo, 'walk', 'walked', 'walks', 'walking' comparten la misma forma base o lema: 'walk'.\n",
        "\n",
        "La lematización está basada en el uso de diccionario (recursos léxicos). También de la información del contexto de la palabra a lematizar. \n"
      ],
      "metadata": {
        "id": "-cOO5IF4pILz"
      }
    },
    {
      "cell_type": "code",
      "source": [
        "nltk.download('wordnet')"
      ],
      "metadata": {
        "colab": {
          "base_uri": "https://localhost:8080/"
        },
        "id": "Ymxf8M7OL2Ws",
        "outputId": "6c452d87-379d-43bc-f38d-54904006bcf6"
      },
      "execution_count": 12,
      "outputs": [
        {
          "output_type": "stream",
          "name": "stderr",
          "text": [
            "[nltk_data] Downloading package wordnet to /root/nltk_data...\n",
            "[nltk_data]   Package wordnet is already up-to-date!\n"
          ]
        },
        {
          "output_type": "execute_result",
          "data": {
            "text/plain": [
              "True"
            ]
          },
          "metadata": {},
          "execution_count": 12
        }
      ]
    },
    {
      "cell_type": "code",
      "metadata": {
        "id": "AxsVp0Vn1HTl",
        "outputId": "288f7e4b-73d5-4e3a-8c43-1c9d8d5c8060",
        "colab": {
          "base_uri": "https://localhost:8080/"
        }
      },
      "source": [
        "from nltk.stem import WordNetLemmatizer\n",
        "\n",
        "sentence='The women sang songs and stories about the thieves.'\n",
        "#sentence='He tries to answer the questions'\n",
        "tokens=nltk.word_tokenize(sentence)\n",
        "lematizer = WordNetLemmatizer()\n",
        "print('Token:\\t\\tLemma:')\n",
        "for t in tokens:\n",
        "    print(t,'\\t\\t',lematizer.lemmatize(t))\n"
      ],
      "execution_count": 8,
      "outputs": [
        {
          "output_type": "stream",
          "name": "stdout",
          "text": [
            "Token:\t\tLemma:\n",
            "The \t\t The\n",
            "women \t\t woman\n",
            "sang \t\t sang\n",
            "songs \t\t song\n",
            "and \t\t and\n",
            "stories \t\t story\n",
            "about \t\t about\n",
            "the \t\t the\n",
            "thieves \t\t thief\n",
            ". \t\t .\n"
          ]
        }
      ]
    },
    {
      "cell_type": "markdown",
      "metadata": {
        "id": "gw3TXFyk1HTr"
      },
      "source": [
        "## Stemming\n",
        "\n",
        "Es el proceso de reducir las palabras flexionadas a su raíz. Por ejemplo, 'fish' es la raíz de las siguientes palabras: 'fishing', 'fished' y 'fisher'.\n",
        "\n",
        "El stemming está basado en un conjunto de reglas (algoritmo de Porter) que tratan de encontrar la raíz de una palabra. Es un proceso menos robusto que la lematización, pero mucho más eficiente. \n"
      ]
    },
    {
      "cell_type": "code",
      "metadata": {
        "id": "mRg-6oeF1HTs",
        "outputId": "3bf75386-5c13-4be3-8945-fd1286e495cb",
        "colab": {
          "base_uri": "https://localhost:8080/"
        }
      },
      "source": [
        "from nltk.stem.porter import PorterStemmer\n",
        "stemmer = PorterStemmer()\n",
        "for t in tokens:\n",
        "    print(t,'\\t\\t',stemmer.stem(t))"
      ],
      "execution_count": 9,
      "outputs": [
        {
          "output_type": "stream",
          "name": "stdout",
          "text": [
            "The \t\t the\n",
            "women \t\t women\n",
            "sang \t\t sang\n",
            "songs \t\t song\n",
            "and \t\t and\n",
            "stories \t\t stori\n",
            "about \t\t about\n",
            "the \t\t the\n",
            "thieves \t\t thiev\n",
            ". \t\t .\n"
          ]
        }
      ]
    },
    {
      "cell_type": "markdown",
      "source": [
        "\n",
        "Ambos procesos ayudan a reducir la variabilidad léxica del lenguaje natural. En muchas aplicaciones de LN (como recuperación de información o respuesta a preguntas) es muy común representar los textos considerando los lemas o las raíces en lugar de las palabras. \n"
      ],
      "metadata": {
        "id": "weJgCpvVqKHj"
      }
    },
    {
      "cell_type": "markdown",
      "source": [
        "Veamos algunos ejemplos. \n",
        "\n",
        "La palabra \"play\" es la forma base de la palabra \"playing\" y, por lo tanto, coincide tanto en la stemming como en la lematización.\n"
      ],
      "metadata": {
        "id": "3Rv0Aj6Esjmd"
      }
    },
    {
      "cell_type": "code",
      "source": [
        "from nltk.corpus import wordnet\n",
        "word='playing'\n",
        "\n",
        "print(word, \", its stem is:\", stemmer.stem(word))\n",
        "print(word, \", its lemma is:\", lematizer.lemmatize(word, wordnet.VERB))\n"
      ],
      "metadata": {
        "colab": {
          "base_uri": "https://localhost:8080/"
        },
        "id": "UcO_BY1-sqSm",
        "outputId": "3e605efd-8e22-4765-f292-c267f39321d3"
      },
      "execution_count": 17,
      "outputs": [
        {
          "output_type": "stream",
          "name": "stdout",
          "text": [
            "playing , its stem is: play\n",
            "playing , its lemma is: play\n",
            "\n"
          ]
        }
      ]
    },
    {
      "cell_type": "markdown",
      "source": [
        "Ejemplos:\n",
        "- La palabra 'better' tiene como lema 'good'. El stemming no es capaz de obtener esta relación. \n",
        "\n"
      ],
      "metadata": {
        "id": "rOXAKRARryux"
      }
    },
    {
      "cell_type": "code",
      "metadata": {
        "id": "R_KLlOo0kga9",
        "outputId": "b1eb5121-2d0a-48eb-c39a-21e2f24d6ce6",
        "colab": {
          "base_uri": "https://localhost:8080/"
        }
      },
      "source": [
        "word='better'\n",
        "print(word, \", its stem is:\", stemmer.stem(word))\n",
        "print(word, \", its lemma is:\", lematizer.lemmatize(word, wordnet.ADJ))"
      ],
      "execution_count": 16,
      "outputs": [
        {
          "output_type": "stream",
          "name": "stdout",
          "text": [
            "better , its stem is: better\n",
            "better , its lemma is: good\n",
            "\n"
          ]
        }
      ]
    },
    {
      "cell_type": "markdown",
      "source": [
        "\n",
        "- El gerundio 'meeting' tiene como lema 'meet', que va a coincidir con su stem. Sin embargo, el lema del sustantivo 'meeting' es 'meeting', que no coincide con el stem. "
      ],
      "metadata": {
        "id": "Og6nAju4sy6p"
      }
    },
    {
      "cell_type": "code",
      "source": [
        "word='meeting'\n",
        "print(word, \", its stem is:\", stemmer.stem(word))\n",
        "print(word, \", its lemma is:\", lematizer.lemmatize(word, wordnet.VERB))\n",
        "print(word, \", its lemma is:\", lematizer.lemmatize(word, wordnet.NOUN))"
      ],
      "metadata": {
        "colab": {
          "base_uri": "https://localhost:8080/"
        },
        "id": "09FT0091temi",
        "outputId": "fb9178a8-3b67-429c-d3d9-2cf88fd541c6"
      },
      "execution_count": 18,
      "outputs": [
        {
          "output_type": "stream",
          "name": "stdout",
          "text": [
            "meeting , its stem is: meet\n",
            "meeting , its lemma is: meet\n",
            "meeting , its lemma is: meeting\n"
          ]
        }
      ]
    },
    {
      "cell_type": "code",
      "source": [
        "word='better'\n",
        "print(word, \", its stem is:\", stemmer.stem(word))\n",
        "print(word, \", its lemma is:\", lematizer.lemmatize(word, wordnet.ADJ))"
      ],
      "metadata": {
        "id": "o9vKsApEs4M4"
      },
      "execution_count": null,
      "outputs": []
    },
    {
      "cell_type": "markdown",
      "source": [
        "Más ejemplos de palabras en los que no coincide el stem y el lema:"
      ],
      "metadata": {
        "id": "9bCu2K39t06b"
      }
    },
    {
      "cell_type": "code",
      "source": [
        "\n",
        "word='seen'\n",
        "\n",
        "print(word, \" Stemmer:\", stemmer.stem(word))\n",
        "print(word, \"Lemmatizer:\", lematizer.lemmatize(word, wordnet.VERB))\n",
        "print()\n",
        "word='drove'\n",
        "\n",
        "print(word, \" Stemmer:\", stemmer.stem(word))\n",
        "print(word, \"Lemmatizer:\", lematizer.lemmatize(word, wordnet.VERB))\n"
      ],
      "metadata": {
        "colab": {
          "base_uri": "https://localhost:8080/"
        },
        "id": "M1AtzwmKsV4a",
        "outputId": "e7c680c5-4322-43f8-d9e4-59f5f9275859"
      },
      "execution_count": 19,
      "outputs": [
        {
          "output_type": "stream",
          "name": "stdout",
          "text": [
            "seen  Stemmer: seen\n",
            "seen Lemmatizer: see\n",
            "\n",
            "drove  Stemmer: drove\n",
            "drove Lemmatizer: drive\n"
          ]
        }
      ]
    },
    {
      "cell_type": "markdown",
      "metadata": {
        "id": "rPJrRhQskmK4"
      },
      "source": [
        "## Stopwords \n",
        "Son palabras que no tienen significado semántico como son los artículos, las preposiciones, las conjunciones, y algunos adverbios. También palabras muy comunes como el verbo 'to be'. \n",
        "\n",
        "Es útil identificar estas palabras en los textos para poder ignorarlas durante la representación de los textos (transformación de palabras en vectores) ya que no añaden información semántica y pueden añadir mucho ruido. \n",
        "\n",
        "\n",
        "La herramienta NLTK tiene una lista predefinida de palabras vacías que hace referencia a las palabras más comunes.\n",
        "\n",
        "La lista de palabras vacías podrían cambiar según su aplicación.\n"
      ]
    },
    {
      "cell_type": "code",
      "metadata": {
        "id": "seujp-10kpLR",
        "outputId": "fa582fde-a1ac-4fc0-dbac-f5612ed85b19",
        "colab": {
          "base_uri": "https://localhost:8080/"
        }
      },
      "source": [
        "nltk.download('stopwords')"
      ],
      "execution_count": 22,
      "outputs": [
        {
          "output_type": "stream",
          "name": "stderr",
          "text": [
            "[nltk_data] Downloading package stopwords to /root/nltk_data...\n",
            "[nltk_data]   Package stopwords is already up-to-date!\n"
          ]
        },
        {
          "output_type": "execute_result",
          "data": {
            "text/plain": [
              "True"
            ]
          },
          "metadata": {},
          "execution_count": 22
        }
      ]
    },
    {
      "cell_type": "code",
      "source": [
        "from nltk.corpus import stopwords\n",
        "print(stopwords.words(\"english\"))"
      ],
      "metadata": {
        "colab": {
          "base_uri": "https://localhost:8080/"
        },
        "id": "toZdlX9YvLgN",
        "outputId": "5c637070-6cf6-4e75-a7c3-74914082bf4d"
      },
      "execution_count": 23,
      "outputs": [
        {
          "output_type": "stream",
          "name": "stdout",
          "text": [
            "['i', 'me', 'my', 'myself', 'we', 'our', 'ours', 'ourselves', 'you', \"you're\", \"you've\", \"you'll\", \"you'd\", 'your', 'yours', 'yourself', 'yourselves', 'he', 'him', 'his', 'himself', 'she', \"she's\", 'her', 'hers', 'herself', 'it', \"it's\", 'its', 'itself', 'they', 'them', 'their', 'theirs', 'themselves', 'what', 'which', 'who', 'whom', 'this', 'that', \"that'll\", 'these', 'those', 'am', 'is', 'are', 'was', 'were', 'be', 'been', 'being', 'have', 'has', 'had', 'having', 'do', 'does', 'did', 'doing', 'a', 'an', 'the', 'and', 'but', 'if', 'or', 'because', 'as', 'until', 'while', 'of', 'at', 'by', 'for', 'with', 'about', 'against', 'between', 'into', 'through', 'during', 'before', 'after', 'above', 'below', 'to', 'from', 'up', 'down', 'in', 'out', 'on', 'off', 'over', 'under', 'again', 'further', 'then', 'once', 'here', 'there', 'when', 'where', 'why', 'how', 'all', 'any', 'both', 'each', 'few', 'more', 'most', 'other', 'some', 'such', 'no', 'nor', 'not', 'only', 'own', 'same', 'so', 'than', 'too', 'very', 's', 't', 'can', 'will', 'just', 'don', \"don't\", 'should', \"should've\", 'now', 'd', 'll', 'm', 'o', 're', 've', 'y', 'ain', 'aren', \"aren't\", 'couldn', \"couldn't\", 'didn', \"didn't\", 'doesn', \"doesn't\", 'hadn', \"hadn't\", 'hasn', \"hasn't\", 'haven', \"haven't\", 'isn', \"isn't\", 'ma', 'mightn', \"mightn't\", 'mustn', \"mustn't\", 'needn', \"needn't\", 'shan', \"shan't\", 'shouldn', \"shouldn't\", 'wasn', \"wasn't\", 'weren', \"weren't\", 'won', \"won't\", 'wouldn', \"wouldn't\"]\n"
          ]
        }
      ]
    },
    {
      "cell_type": "markdown",
      "metadata": {
        "id": "6SlxKpeLkz3H"
      },
      "source": [
        "En la siguiente celda, vemos un ejemplo de código para eliminar las stopwords del texto: "
      ]
    },
    {
      "cell_type": "code",
      "metadata": {
        "id": "bP5Bmp_Kkugn",
        "outputId": "95193d23-1d6f-4a9d-cb3c-48d0d30336de",
        "colab": {
          "base_uri": "https://localhost:8080/"
        }
      },
      "source": [
        "stop_words = set(stopwords.words(\"english\"))\n",
        "sentence = \"Backgammon is one of the oldest known board games.\"\n",
        "\n",
        "words = nltk.word_tokenize(sentence)\n",
        "without_stop_words = [word for word in words if not word in stop_words]\n",
        "print(without_stop_words)"
      ],
      "execution_count": 24,
      "outputs": [
        {
          "output_type": "stream",
          "name": "stdout",
          "text": [
            "['Backgammon', 'one', 'oldest', 'known', 'board', 'games', '.']\n"
          ]
        }
      ]
    },
    {
      "cell_type": "markdown",
      "metadata": {
        "id": "KCPV4be11HTd"
      },
      "source": [
        "## Análisis Morfosintáctico (PoS tagging)\n",
        "\n",
        "Clasificar palabras en sus categorías léxicas (art-of-speech tags). Estas etiquetas nos proporcionan información muy útil para tareas como el reconocimiento de entidades o la extracción de relaciones.\n",
        "Primero, debe tokenizar el texto. Luego, el método **pos_tag** proporciona las etiquetas PoS."
      ]
    },
    {
      "cell_type": "code",
      "source": [
        "nltk.download('averaged_perceptron_tagger')\n"
      ],
      "metadata": {
        "colab": {
          "base_uri": "https://localhost:8080/"
        },
        "id": "gCGY_Pgzv5nR",
        "outputId": "40461617-4a60-474f-da3b-be554a85b3de"
      },
      "execution_count": 25,
      "outputs": [
        {
          "output_type": "stream",
          "name": "stderr",
          "text": [
            "[nltk_data] Downloading package averaged_perceptron_tagger to\n",
            "[nltk_data]     /root/nltk_data...\n",
            "[nltk_data]   Unzipping taggers/averaged_perceptron_tagger.zip.\n"
          ]
        },
        {
          "output_type": "execute_result",
          "data": {
            "text/plain": [
              "True"
            ]
          },
          "metadata": {},
          "execution_count": 25
        }
      ]
    },
    {
      "cell_type": "code",
      "metadata": {
        "id": "U0Ypz7qJ1HTe",
        "outputId": "a351f6b5-1608-419c-8af6-5b3e43bf2d23",
        "colab": {
          "base_uri": "https://localhost:8080/"
        }
      },
      "source": [
        "text=\"At least four people were dead after a man began shooting at a synagogue in the Squirrel Hill neighbourhood of Pittsburgh on Saturday.\"\n",
        "tokens = nltk.word_tokenize(text)\n",
        "tags=nltk.pos_tag(tokens)\n",
        "print(tags)"
      ],
      "execution_count": 26,
      "outputs": [
        {
          "output_type": "stream",
          "name": "stdout",
          "text": [
            "[('At', 'IN'), ('least', 'JJS'), ('four', 'CD'), ('people', 'NNS'), ('were', 'VBD'), ('dead', 'JJ'), ('after', 'IN'), ('a', 'DT'), ('man', 'NN'), ('began', 'VBD'), ('shooting', 'VBG'), ('at', 'IN'), ('a', 'DT'), ('synagogue', 'NN'), ('in', 'IN'), ('the', 'DT'), ('Squirrel', 'NNP'), ('Hill', 'NNP'), ('neighbourhood', 'NN'), ('of', 'IN'), ('Pittsburgh', 'NNP'), ('on', 'IN'), ('Saturday', 'NNP'), ('.', '.')]\n"
          ]
        }
      ]
    },
    {
      "cell_type": "markdown",
      "source": [
        "El lsitado completo de las categorías morfosintácticas de NLTK está disponible en: \n",
        "https://www.ling.upenn.edu/courses/Fall_2003/ling001/penn_treebank_pos.html\n",
        "\n",
        "Además, la siguiente celda también nos permite consultar este listado. "
      ],
      "metadata": {
        "id": "FbQthPbLxP3P"
      }
    },
    {
      "cell_type": "code",
      "source": [
        "nltk.download('tagsets')\n",
        "nltk.help.upenn_tagset()\n"
      ],
      "metadata": {
        "colab": {
          "base_uri": "https://localhost:8080/"
        },
        "id": "CK9PVWh1xI5m",
        "outputId": "84c34212-da3d-4620-c252-c3dcc65e86d0"
      },
      "execution_count": 28,
      "outputs": [
        {
          "output_type": "stream",
          "name": "stdout",
          "text": [
            "$: dollar\n",
            "    $ -$ --$ A$ C$ HK$ M$ NZ$ S$ U.S.$ US$\n",
            "'': closing quotation mark\n",
            "    ' ''\n",
            "(: opening parenthesis\n",
            "    ( [ {\n",
            "): closing parenthesis\n",
            "    ) ] }\n",
            ",: comma\n",
            "    ,\n",
            "--: dash\n",
            "    --\n",
            ".: sentence terminator\n",
            "    . ! ?\n",
            ":: colon or ellipsis\n",
            "    : ; ...\n",
            "CC: conjunction, coordinating\n",
            "    & 'n and both but either et for less minus neither nor or plus so\n",
            "    therefore times v. versus vs. whether yet\n",
            "CD: numeral, cardinal\n",
            "    mid-1890 nine-thirty forty-two one-tenth ten million 0.5 one forty-\n",
            "    seven 1987 twenty '79 zero two 78-degrees eighty-four IX '60s .025\n",
            "    fifteen 271,124 dozen quintillion DM2,000 ...\n",
            "DT: determiner\n",
            "    all an another any both del each either every half la many much nary\n",
            "    neither no some such that the them these this those\n",
            "EX: existential there\n",
            "    there\n",
            "FW: foreign word\n",
            "    gemeinschaft hund ich jeux habeas Haementeria Herr K'ang-si vous\n",
            "    lutihaw alai je jour objets salutaris fille quibusdam pas trop Monte\n",
            "    terram fiche oui corporis ...\n",
            "IN: preposition or conjunction, subordinating\n",
            "    astride among uppon whether out inside pro despite on by throughout\n",
            "    below within for towards near behind atop around if like until below\n",
            "    next into if beside ...\n",
            "JJ: adjective or numeral, ordinal\n",
            "    third ill-mannered pre-war regrettable oiled calamitous first separable\n",
            "    ectoplasmic battery-powered participatory fourth still-to-be-named\n",
            "    multilingual multi-disciplinary ...\n",
            "JJR: adjective, comparative\n",
            "    bleaker braver breezier briefer brighter brisker broader bumper busier\n",
            "    calmer cheaper choosier cleaner clearer closer colder commoner costlier\n",
            "    cozier creamier crunchier cuter ...\n",
            "JJS: adjective, superlative\n",
            "    calmest cheapest choicest classiest cleanest clearest closest commonest\n",
            "    corniest costliest crassest creepiest crudest cutest darkest deadliest\n",
            "    dearest deepest densest dinkiest ...\n",
            "LS: list item marker\n",
            "    A A. B B. C C. D E F First G H I J K One SP-44001 SP-44002 SP-44005\n",
            "    SP-44007 Second Third Three Two * a b c d first five four one six three\n",
            "    two\n",
            "MD: modal auxiliary\n",
            "    can cannot could couldn't dare may might must need ought shall should\n",
            "    shouldn't will would\n",
            "NN: noun, common, singular or mass\n",
            "    common-carrier cabbage knuckle-duster Casino afghan shed thermostat\n",
            "    investment slide humour falloff slick wind hyena override subhumanity\n",
            "    machinist ...\n",
            "NNP: noun, proper, singular\n",
            "    Motown Venneboerger Czestochwa Ranzer Conchita Trumplane Christos\n",
            "    Oceanside Escobar Kreisler Sawyer Cougar Yvette Ervin ODI Darryl CTCA\n",
            "    Shannon A.K.C. Meltex Liverpool ...\n",
            "NNPS: noun, proper, plural\n",
            "    Americans Americas Amharas Amityvilles Amusements Anarcho-Syndicalists\n",
            "    Andalusians Andes Andruses Angels Animals Anthony Antilles Antiques\n",
            "    Apache Apaches Apocrypha ...\n",
            "NNS: noun, common, plural\n",
            "    undergraduates scotches bric-a-brac products bodyguards facets coasts\n",
            "    divestitures storehouses designs clubs fragrances averages\n",
            "    subjectivists apprehensions muses factory-jobs ...\n",
            "PDT: pre-determiner\n",
            "    all both half many quite such sure this\n",
            "POS: genitive marker\n",
            "    ' 's\n",
            "PRP: pronoun, personal\n",
            "    hers herself him himself hisself it itself me myself one oneself ours\n",
            "    ourselves ownself self she thee theirs them themselves they thou thy us\n",
            "PRP$: pronoun, possessive\n",
            "    her his mine my our ours their thy your\n",
            "RB: adverb\n",
            "    occasionally unabatingly maddeningly adventurously professedly\n",
            "    stirringly prominently technologically magisterially predominately\n",
            "    swiftly fiscally pitilessly ...\n",
            "RBR: adverb, comparative\n",
            "    further gloomier grander graver greater grimmer harder harsher\n",
            "    healthier heavier higher however larger later leaner lengthier less-\n",
            "    perfectly lesser lonelier longer louder lower more ...\n",
            "RBS: adverb, superlative\n",
            "    best biggest bluntest earliest farthest first furthest hardest\n",
            "    heartiest highest largest least less most nearest second tightest worst\n",
            "RP: particle\n",
            "    aboard about across along apart around aside at away back before behind\n",
            "    by crop down ever fast for forth from go high i.e. in into just later\n",
            "    low more off on open out over per pie raising start teeth that through\n",
            "    under unto up up-pp upon whole with you\n",
            "SYM: symbol\n",
            "    % & ' '' ''. ) ). * + ,. < = > @ A[fj] U.S U.S.S.R * ** ***\n",
            "TO: \"to\" as preposition or infinitive marker\n",
            "    to\n",
            "UH: interjection\n",
            "    Goodbye Goody Gosh Wow Jeepers Jee-sus Hubba Hey Kee-reist Oops amen\n",
            "    huh howdy uh dammit whammo shucks heck anyways whodunnit honey golly\n",
            "    man baby diddle hush sonuvabitch ...\n",
            "VB: verb, base form\n",
            "    ask assemble assess assign assume atone attention avoid bake balkanize\n",
            "    bank begin behold believe bend benefit bevel beware bless boil bomb\n",
            "    boost brace break bring broil brush build ...\n",
            "VBD: verb, past tense\n",
            "    dipped pleaded swiped regummed soaked tidied convened halted registered\n",
            "    cushioned exacted snubbed strode aimed adopted belied figgered\n",
            "    speculated wore appreciated contemplated ...\n",
            "VBG: verb, present participle or gerund\n",
            "    telegraphing stirring focusing angering judging stalling lactating\n",
            "    hankerin' alleging veering capping approaching traveling besieging\n",
            "    encrypting interrupting erasing wincing ...\n",
            "VBN: verb, past participle\n",
            "    multihulled dilapidated aerosolized chaired languished panelized used\n",
            "    experimented flourished imitated reunifed factored condensed sheared\n",
            "    unsettled primed dubbed desired ...\n",
            "VBP: verb, present tense, not 3rd person singular\n",
            "    predominate wrap resort sue twist spill cure lengthen brush terminate\n",
            "    appear tend stray glisten obtain comprise detest tease attract\n",
            "    emphasize mold postpone sever return wag ...\n",
            "VBZ: verb, present tense, 3rd person singular\n",
            "    bases reconstructs marks mixes displeases seals carps weaves snatches\n",
            "    slumps stretches authorizes smolders pictures emerges stockpiles\n",
            "    seduces fizzes uses bolsters slaps speaks pleads ...\n",
            "WDT: WH-determiner\n",
            "    that what whatever which whichever\n",
            "WP: WH-pronoun\n",
            "    that what whatever whatsoever which who whom whosoever\n",
            "WP$: WH-pronoun, possessive\n",
            "    whose\n",
            "WRB: Wh-adverb\n",
            "    how however whence whenever where whereby whereever wherein whereof why\n",
            "``: opening quotation mark\n",
            "    ` ``\n"
          ]
        },
        {
          "output_type": "stream",
          "name": "stderr",
          "text": [
            "[nltk_data] Downloading package tagsets to /root/nltk_data...\n",
            "[nltk_data]   Unzipping help/tagsets.zip.\n"
          ]
        }
      ]
    },
    {
      "cell_type": "markdown",
      "metadata": {
        "id": "ZGxts6eqs9e-"
      },
      "source": [
        "## Reconocimiento de Entidades\n",
        "\n",
        "NLTK proporciona un clasificador que ya ha sido entrenado para reconocer entidades del tipo PERSONA, ORGANIZACIÓN y GEP, al que se accede con la función nltk.ne_chunk().\n"
      ]
    },
    {
      "cell_type": "code",
      "metadata": {
        "id": "zdmesUb4swU3",
        "outputId": "9b1ddfc5-a7ab-4bd4-96e6-068f39472a35",
        "colab": {
          "base_uri": "https://localhost:8080/"
        }
      },
      "source": [
        "nltk.download('maxent_ne_chunker')\n",
        "nltk.download('words')\n",
        "\n"
      ],
      "execution_count": 30,
      "outputs": [
        {
          "output_type": "stream",
          "name": "stderr",
          "text": [
            "[nltk_data] Downloading package maxent_ne_chunker to\n",
            "[nltk_data]     /root/nltk_data...\n",
            "[nltk_data]   Unzipping chunkers/maxent_ne_chunker.zip.\n",
            "[nltk_data] Downloading package words to /root/nltk_data...\n"
          ]
        },
        {
          "output_type": "stream",
          "name": "stdout",
          "text": [
            "(S\n",
            "  At/IN\n",
            "  least/JJS\n",
            "  four/CD\n",
            "  people/NNS\n",
            "  were/VBD\n",
            "  dead/JJ\n",
            "  after/IN\n",
            "  a/DT\n",
            "  man/NN\n",
            "  began/VBD\n",
            "  shooting/VBG\n",
            "  at/IN\n",
            "  a/DT\n",
            "  synagogue/NN\n",
            "  in/IN\n",
            "  the/DT\n",
            "  (ORGANIZATION Squirrel/NNP Hill/NNP)\n",
            "  neighbourhood/NN\n",
            "  of/IN\n",
            "  (GPE Pittsburgh/NNP)\n",
            "  on/IN\n",
            "  Saturday/NNP\n",
            "  ./.)\n"
          ]
        },
        {
          "output_type": "stream",
          "name": "stderr",
          "text": [
            "[nltk_data]   Unzipping corpora/words.zip.\n"
          ]
        }
      ]
    },
    {
      "cell_type": "code",
      "source": [
        "text=\"At least four people were dead after a man began shooting at a synagogue in the Squirrel Hill neighbourhood of Pittsburgh on Saturday.\"\n",
        "tokens = nltk.word_tokenize(text)\n",
        "tags=nltk.pos_tag(tokens)\n",
        "ner_tags = nltk.ne_chunk(tags)\n",
        "print(ner_tags)\n"
      ],
      "metadata": {
        "colab": {
          "base_uri": "https://localhost:8080/"
        },
        "id": "vixQ07vLyI2A",
        "outputId": "9d03ec8f-716e-43ab-edca-74e3e20be233"
      },
      "execution_count": 32,
      "outputs": [
        {
          "output_type": "stream",
          "name": "stdout",
          "text": [
            "(S\n",
            "  At/IN\n",
            "  least/JJS\n",
            "  four/CD\n",
            "  people/NNS\n",
            "  were/VBD\n",
            "  dead/JJ\n",
            "  after/IN\n",
            "  a/DT\n",
            "  man/NN\n",
            "  began/VBD\n",
            "  shooting/VBG\n",
            "  at/IN\n",
            "  a/DT\n",
            "  synagogue/NN\n",
            "  in/IN\n",
            "  the/DT\n",
            "  (ORGANIZATION Squirrel/NNP Hill/NNP)\n",
            "  neighbourhood/NN\n",
            "  of/IN\n",
            "  (GPE Pittsburgh/NNP)\n",
            "  on/IN\n",
            "  Saturday/NNP\n",
            "  ./.)\n"
          ]
        }
      ]
    }
  ]
}