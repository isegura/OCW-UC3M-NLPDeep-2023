{
  "cells": [
    {
      "cell_type": "markdown",
      "metadata": {
        "id": "view-in-github",
        "colab_type": "text"
      },
      "source": [
        "<a href=\"https://colab.research.google.com/github/isegura/OCW-UC3M-NLPDeep-2023/blob/main/tema1_1_spacy.ipynb\" target=\"_parent\"><img src=\"https://colab.research.google.com/assets/colab-badge.svg\" alt=\"Open In Colab\"/></a>"
      ]
    },
    {
      "cell_type": "markdown",
      "source": [
        "<center>\n",
        "<img src=\"https://upload.wikimedia.org/wikipedia/commons/4/47/Acronimo_y_nombre_uc3m.png\" width=50%/>\n",
        "\n",
        "<h1><font color='#12007a'>Procesamiento de Lenguaje Natural con Aprendizaje Profundo</font></h1>\n",
        "<p>Autora: Isabel Segura Bedmar</p>\n",
        "\n",
        "<img align='right' src=\"https://mirrors.creativecommons.org/presskit/buttons/88x31/png/by-nc-sa.png\" width=15%/>\n",
        "</center>    "
      ],
      "metadata": {
        "id": "1Lhb-_3wUf2K"
      }
    },
    {
      "cell_type": "markdown",
      "metadata": {
        "id": "Ik8s2O5atDBi"
      },
      "source": [
        "# 1.1. Librería Spacy\n",
        "\n",
        "En este ejercicio, trabajaremos con la librería Spacy (https://spacy.io/).\n",
        "\n",
        "Spacy es una librería de Python que nos permite realizar muchas tareas de PLN, como:\n",
        "- tokenización,\n",
        "- análisis morfosintáctico y de dependencias.\n",
        "- reconocimiento de entidades.\n",
        "- modelos de embeddings (vectores de palabras).\n",
        "\n",
        "  "
      ]
    },
    {
      "cell_type": "markdown",
      "source": [
        "\n",
        "## Cómo instalar Spacy\n",
        "\n",
        "Ejecuta la siguiente celda para instalar la librería de Spacy."
      ],
      "metadata": {
        "id": "cFjtuk5iLPjL"
      }
    },
    {
      "cell_type": "code",
      "execution_count": 1,
      "metadata": {
        "id": "BerEdXs_tbFu"
      },
      "outputs": [],
      "source": [
        "!pip install -q spacy"
      ]
    },
    {
      "cell_type": "markdown",
      "metadata": {
        "id": "rsfppRaoFZqo"
      },
      "source": [
        "## Cómo cargar alguno de los modelos de Spacy\n",
        "\n",
        "A continuación debemos cargar alguno de los modelos que proporciona Spacy.\n",
        "\n",
        "En la siguiente página, https://spacy.io/usage/models, puedes revisar los principales modelos de Spacy y conocer sus características.\n",
        "\n",
        " En este ejercicio, vamos a cargar el modelo **en_core_web_sm**. Es el modelo más pequeño, y por tanto, más rápido en cargar, aunque también el menos preciso.\n",
        "\n",
        ""
      ]
    },
    {
      "cell_type": "code",
      "source": [
        "import spacy\n",
        "model = spacy.load('en_core_web_sm')\n",
        "\n",
        "# Otra alternativa para cargar el mismo modelo, sería el código:\n",
        "#import en_core_web_sm\n",
        "#nlp = en_core_web_sm.load()\n"
      ],
      "metadata": {
        "id": "rJjJ5GMzZ26Y"
      },
      "execution_count": 2,
      "outputs": []
    },
    {
      "cell_type": "markdown",
      "metadata": {
        "id": "WzsYeOe9dMug"
      },
      "source": [
        "## Qué tareas podemos realizar con Spacy\n"
      ]
    },
    {
      "cell_type": "markdown",
      "source": [
        "\n",
        "### Cómo dividir un texto en sus oraciones.\n",
        "\n",
        "Para dividir un texto en sus oraciones, simplemente debemos pasar el texto como parámetro al modelo.\n",
        "El modelo devuelve un objeto documento. Dicho objeto documento almacena la lista de oraciones del texto en su atributo **sents**.\n",
        "\n",
        "Ejecuta la siguiente celda para comprobar cómo el texto contenido en la variable *text* es dividido en sus oraciones:"
      ],
      "metadata": {
        "id": "2lRTHWqZhIA_"
      }
    },
    {
      "cell_type": "code",
      "execution_count": 3,
      "metadata": {
        "id": "rOVAf2h9sq0P",
        "colab": {
          "base_uri": "https://localhost:8080/"
        },
        "outputId": "7b75317e-445a-4bf8-8f2e-e0cdd2753c00"
      },
      "outputs": [
        {
          "output_type": "stream",
          "name": "stdout",
          "text": [
            "0 Pedro Sánchez Pérez-Castejón (born 29 February 1972) is a Spanish politician \n",
            "who has been Prime Minister of Spain since June 2018.\n",
            "\n",
            "1 He has also been Secretary-General of the Spanish Socialist Workers' Party (PSOE) \n",
            "since June 2017, having previously held that office from 2014 to 2016. \n",
            "\n",
            "2 Moreover, Sánchez is the current President of the Socialist International, \n",
            "having been elected to that position in November 2022.\n"
          ]
        }
      ],
      "source": [
        "text='''Pedro Sánchez Pérez-Castejón (born 29 February 1972) is a Spanish politician\n",
        "who has been Prime Minister of Spain since June 2018.\n",
        "He has also been Secretary-General of the Spanish Socialist Workers' Party (PSOE)\n",
        "since June 2017, having previously held that office from 2014 to 2016.\n",
        "Moreover, Sánchez is the current President of the Socialist International,\n",
        "having been elected to that position in November 2022.'''\n",
        "\n",
        "document = model(text)\n",
        "\n",
        "for i,s in enumerate(document.sents):\n",
        "    print(i,s)\n"
      ]
    },
    {
      "cell_type": "markdown",
      "metadata": {
        "id": "E2owzCAJFhBH"
      },
      "source": [
        "### Cómo tokenizar un texto\n",
        "\n",
        "La tokenización consiste en dividir un texto en sus palabras y signos de puntuación.\n",
        "\n",
        "Ejecuta la siguiente celda para ver cómo podemos mostrar los tokens de un texto. De cada token, se muestra las siguientes propiedades:\n",
        "\n",
        "- texto original del token (orth_).\n",
        "- palabra en minúsculas (lower_).\n",
        "- lema de la palabra (lemma_).\n",
        "- préfijos y sufijos de la palabra (prefix_ y sufix_).\n",
        "- categoría gramatical de la palabra. También conocida como categoría morfosintáctica (en inglés PoS) ().\n",
        "- patrón (shape_) que representa la forma de la palabra, distinguiendo entre letras (x) y números (d), y entre mayúsculas y minúsculas. También representa el número de carácteres.\n",
        "\n",
        "\n",
        "Estas propiedades son muy útiles en la representación de los tokens para algunas tareas de PLN, como el reconocimiento de entidades.\n",
        "\n"
      ]
    },
    {
      "cell_type": "code",
      "execution_count": 4,
      "metadata": {
        "id": "o8xqE1DQmqM5",
        "colab": {
          "base_uri": "https://localhost:8080/"
        },
        "outputId": "cae474a8-34a4-48b5-c38a-e9c5cc4a1e39"
      },
      "outputs": [
        {
          "output_type": "stream",
          "name": "stdout",
          "text": [
            "original: Pedro\n",
            "lowercased: pedro\n",
            "lemma: Pedro\n",
            "prefix: P\n",
            "suffix: dro\n",
            "shape: Xxxxx\n",
            "PoS tag: PROPN\n",
            "----------------------------------------\n",
            "original: Sánchez\n",
            "lowercased: sánchez\n",
            "lemma: Sánchez\n",
            "prefix: S\n",
            "suffix: hez\n",
            "shape: Xxxxx\n",
            "PoS tag: PROPN\n",
            "----------------------------------------\n",
            "original: is\n",
            "lowercased: is\n",
            "lemma: be\n",
            "prefix: i\n",
            "suffix: is\n",
            "shape: xx\n",
            "PoS tag: AUX\n",
            "----------------------------------------\n",
            "original: the\n",
            "lowercased: the\n",
            "lemma: the\n",
            "prefix: t\n",
            "suffix: the\n",
            "shape: xxx\n",
            "PoS tag: DET\n",
            "----------------------------------------\n",
            "original: Prime\n",
            "lowercased: prime\n",
            "lemma: Prime\n",
            "prefix: P\n",
            "suffix: ime\n",
            "shape: Xxxxx\n",
            "PoS tag: PROPN\n",
            "----------------------------------------\n",
            "original: Minister\n",
            "lowercased: minister\n",
            "lemma: Minister\n",
            "prefix: M\n",
            "suffix: ter\n",
            "shape: Xxxxx\n",
            "PoS tag: PROPN\n",
            "----------------------------------------\n",
            "original: of\n",
            "lowercased: of\n",
            "lemma: of\n",
            "prefix: o\n",
            "suffix: of\n",
            "shape: xx\n",
            "PoS tag: ADP\n",
            "----------------------------------------\n",
            "original: Spain\n",
            "lowercased: spain\n",
            "lemma: Spain\n",
            "prefix: S\n",
            "suffix: ain\n",
            "shape: Xxxxx\n",
            "PoS tag: PROPN\n",
            "----------------------------------------\n",
            "original: since\n",
            "lowercased: since\n",
            "lemma: since\n",
            "prefix: s\n",
            "suffix: nce\n",
            "shape: xxxx\n",
            "PoS tag: SCONJ\n",
            "----------------------------------------\n",
            "original: June\n",
            "lowercased: june\n",
            "lemma: June\n",
            "prefix: J\n",
            "suffix: une\n",
            "shape: Xxxx\n",
            "PoS tag: PROPN\n",
            "----------------------------------------\n",
            "original: 2018\n",
            "lowercased: 2018\n",
            "lemma: 2018\n",
            "prefix: 2\n",
            "suffix: 018\n",
            "shape: dddd\n",
            "PoS tag: NUM\n",
            "----------------------------------------\n",
            "original: .\n",
            "lowercased: .\n",
            "lemma: .\n",
            "prefix: .\n",
            "suffix: .\n",
            "shape: .\n",
            "PoS tag: PUNCT\n",
            "----------------------------------------\n"
          ]
        }
      ],
      "source": [
        "text = 'Pedro Sánchez is the Prime Minister of Spain since June 2018.'\n",
        "document = model(text)\n",
        "for i, token in enumerate(document):\n",
        "    print(\"original:\", token.orth_)\n",
        "    print(\"lowercased:\", token.lower_)\n",
        "    print(\"lemma:\", token.lemma_)\n",
        "    print(\"prefix:\", token.prefix_)\n",
        "    print(\"suffix:\", token.suffix_)\n",
        "    print(\"shape:\", token.shape_)\n",
        "    print(\"PoS tag:\", token.pos_)\n",
        "\n",
        "    print(\"----------------------------------------\")\n"
      ]
    },
    {
      "cell_type": "markdown",
      "source": [
        "\n",
        "En la siguiente página, https://spacy.io/api/token#attributes,  puedes encontrar la descripción de estas y otras propiedades de los tokens.\n"
      ],
      "metadata": {
        "id": "rXPKy9TZi28h"
      }
    },
    {
      "cell_type": "markdown",
      "metadata": {
        "id": "ZXRjw1Puu14a"
      },
      "source": [
        "### Cómo obtener los sintagmas nominales de un textos (análisis superficial)\n",
        "\n",
        "Spacy también proporciona la lista de sintagmas nominales en texto. Esta lista se almacena en la propiedad de **noun_chunks** del objeto document.\n",
        "\n",
        "Para cada sintagma nominal, es posible obtener los siguientes atributos:\n",
        "- el texto del sintagma nominal (text).\n",
        "- el núcleo del sintagma nominal (root.text).\n",
        "- la relación gramatical del sintagma nominal en el texto principal (root.dep_).  \n",
        "\n",
        "Algunas de estas relaciones gramaticales son:\n",
        " - *nsubj*: es el sujeto sintáctico. Por ejemplo, 'Clinton defeated Dole', nsubj(derrotado,Clinton)\n",
        " - *dobj*: es el objeto directo de un VP. Por ejemplo, 'She gave me a raise' -> dobj (gave, raise).\n",
        " - *pobj*: es el objeto de una preposición (por ejemplo, 'I sit on the chair' -> pobj(on, chair)\n",
        "- head: representa el núcleo del sintagama con el que guarda la relación gramatical. Por ejemplo, 'The boy' tiene una relación gramática del sujeto con 'ran'\n",
        "\n",
        "\n",
        "Consulta el siguiente documento en https://nlp.stanford.edu/software/dependencies_manual.pdf, para encontrar más información sobre estas relaciones gramáticales.\n",
        "\n"
      ]
    },
    {
      "cell_type": "code",
      "execution_count": 5,
      "metadata": {
        "id": "vVXpQ512u61y",
        "colab": {
          "base_uri": "https://localhost:8080/"
        },
        "outputId": "ad9adf72-e52b-43ee-8eba-cca386c28a97"
      },
      "outputs": [
        {
          "output_type": "stream",
          "name": "stdout",
          "text": [
            "text chunk: The boy\n",
            "root chunk: boy\n",
            "grammatical dependency: nsubj\n",
            "head chunk: ran\n",
            "---------------------------------\n",
            "text chunk: the spotted dog\n",
            "root chunk: dog\n",
            "grammatical dependency: pobj\n",
            "head chunk: with\n",
            "---------------------------------\n",
            "text chunk: the firetruck\n",
            "root chunk: firetruck\n",
            "grammatical dependency: pobj\n",
            "head chunk: after\n",
            "---------------------------------\n"
          ]
        }
      ],
      "source": [
        "text= \"The boy with the spotted dog quickly ran after the firetruck.\"\n",
        "doc = model(text)\n",
        "\n",
        "for chunk in doc.noun_chunks:\n",
        "    print('text chunk:',chunk.text)\n",
        "    print('root chunk:',chunk.root.text)\n",
        "    print('grammatical dependency:',chunk.root.dep_)\n",
        "    print('head chunk:',chunk.root.head.text)\n",
        "    print('---------------------------------')\n"
      ]
    },
    {
      "cell_type": "markdown",
      "metadata": {
        "id": "ul1i-WequN3M"
      },
      "source": [
        "### Cómo obtener el análisis de dependencias de un texto\n",
        "\n",
        "SpaCy proporciona un analizador de dependencias sintácticas rápido y preciso.\n",
        "\n",
        "Para cada token, el modelo devuelve su relación gramátical con respecto a la oración (dep_).\n",
        "\n",
        "Esta información es crucial para tareas de PLN como la extracción de relaciones.\n",
        "\n",
        "Veamos algunos ejemplos:"
      ]
    },
    {
      "cell_type": "code",
      "source": [
        "example = \"She buys materials for her studies.\"\n",
        "doc = model(example)\n",
        "for token in doc:\n",
        "    print(\"word:\",token.orth_)\n",
        "    print(\"grammatical relation:\", token.dep_)\n",
        "    print(\"connected word (head):\", token.head.orth_)\n",
        "    print('------------------------------------------')\n",
        ""
      ],
      "metadata": {
        "colab": {
          "base_uri": "https://localhost:8080/"
        },
        "id": "eIVK04mnTrhc",
        "outputId": "b9ac886c-ba28-4fb0-ba1d-ce7e9a08ccb2"
      },
      "execution_count": 6,
      "outputs": [
        {
          "output_type": "stream",
          "name": "stdout",
          "text": [
            "word: She\n",
            "grammatical relation: nsubj\n",
            "connected word (head): buys\n",
            "------------------------------------------\n",
            "word: buys\n",
            "grammatical relation: ROOT\n",
            "connected word (head): buys\n",
            "------------------------------------------\n",
            "word: materials\n",
            "grammatical relation: dobj\n",
            "connected word (head): buys\n",
            "------------------------------------------\n",
            "word: for\n",
            "grammatical relation: prep\n",
            "connected word (head): buys\n",
            "------------------------------------------\n",
            "word: her\n",
            "grammatical relation: poss\n",
            "connected word (head): studies\n",
            "------------------------------------------\n",
            "word: studies\n",
            "grammatical relation: pobj\n",
            "connected word (head): for\n",
            "------------------------------------------\n",
            "word: .\n",
            "grammatical relation: punct\n",
            "connected word (head): buys\n",
            "------------------------------------------\n"
          ]
        }
      ]
    },
    {
      "cell_type": "markdown",
      "source": [
        "Spacy proporciona un paquete **displacy** que permite visualizar de forma gráfica las dependencias en una oración. Esta visualización te ayudará a comprender mejor estas relaciones de dependencias:"
      ],
      "metadata": {
        "id": "G1dWaKXco_dB"
      }
    },
    {
      "cell_type": "code",
      "source": [
        "from spacy import displacy\n",
        "displacy.render(doc, jupyter=True, style='dep')\n"
      ],
      "metadata": {
        "colab": {
          "base_uri": "https://localhost:8080/",
          "height": 353
        },
        "id": "7ZR1qw3LoUwG",
        "outputId": "3225fbd8-0858-4580-cf42-2d91f8578cb2"
      },
      "execution_count": 7,
      "outputs": [
        {
          "output_type": "display_data",
          "data": {
            "text/plain": [
              "<IPython.core.display.HTML object>"
            ],
            "text/html": [
              "<span class=\"tex2jax_ignore\"><svg xmlns=\"http://www.w3.org/2000/svg\" xmlns:xlink=\"http://www.w3.org/1999/xlink\" xml:lang=\"en\" id=\"128cb89c84e046c581c1fca214837f8e-0\" class=\"displacy\" width=\"1100\" height=\"312.0\" direction=\"ltr\" style=\"max-width: none; height: 312.0px; color: #000000; background: #ffffff; font-family: Arial; direction: ltr\">\n",
              "<text class=\"displacy-token\" fill=\"currentColor\" text-anchor=\"middle\" y=\"222.0\">\n",
              "    <tspan class=\"displacy-word\" fill=\"currentColor\" x=\"50\">She</tspan>\n",
              "    <tspan class=\"displacy-tag\" dy=\"2em\" fill=\"currentColor\" x=\"50\">PRON</tspan>\n",
              "</text>\n",
              "\n",
              "<text class=\"displacy-token\" fill=\"currentColor\" text-anchor=\"middle\" y=\"222.0\">\n",
              "    <tspan class=\"displacy-word\" fill=\"currentColor\" x=\"225\">buys</tspan>\n",
              "    <tspan class=\"displacy-tag\" dy=\"2em\" fill=\"currentColor\" x=\"225\">VERB</tspan>\n",
              "</text>\n",
              "\n",
              "<text class=\"displacy-token\" fill=\"currentColor\" text-anchor=\"middle\" y=\"222.0\">\n",
              "    <tspan class=\"displacy-word\" fill=\"currentColor\" x=\"400\">materials</tspan>\n",
              "    <tspan class=\"displacy-tag\" dy=\"2em\" fill=\"currentColor\" x=\"400\">NOUN</tspan>\n",
              "</text>\n",
              "\n",
              "<text class=\"displacy-token\" fill=\"currentColor\" text-anchor=\"middle\" y=\"222.0\">\n",
              "    <tspan class=\"displacy-word\" fill=\"currentColor\" x=\"575\">for</tspan>\n",
              "    <tspan class=\"displacy-tag\" dy=\"2em\" fill=\"currentColor\" x=\"575\">ADP</tspan>\n",
              "</text>\n",
              "\n",
              "<text class=\"displacy-token\" fill=\"currentColor\" text-anchor=\"middle\" y=\"222.0\">\n",
              "    <tspan class=\"displacy-word\" fill=\"currentColor\" x=\"750\">her</tspan>\n",
              "    <tspan class=\"displacy-tag\" dy=\"2em\" fill=\"currentColor\" x=\"750\">PRON</tspan>\n",
              "</text>\n",
              "\n",
              "<text class=\"displacy-token\" fill=\"currentColor\" text-anchor=\"middle\" y=\"222.0\">\n",
              "    <tspan class=\"displacy-word\" fill=\"currentColor\" x=\"925\">studies.</tspan>\n",
              "    <tspan class=\"displacy-tag\" dy=\"2em\" fill=\"currentColor\" x=\"925\">NOUN</tspan>\n",
              "</text>\n",
              "\n",
              "<g class=\"displacy-arrow\">\n",
              "    <path class=\"displacy-arc\" id=\"arrow-128cb89c84e046c581c1fca214837f8e-0-0\" stroke-width=\"2px\" d=\"M70,177.0 C70,89.5 220.0,89.5 220.0,177.0\" fill=\"none\" stroke=\"currentColor\"/>\n",
              "    <text dy=\"1.25em\" style=\"font-size: 0.8em; letter-spacing: 1px\">\n",
              "        <textPath xlink:href=\"#arrow-128cb89c84e046c581c1fca214837f8e-0-0\" class=\"displacy-label\" startOffset=\"50%\" side=\"left\" fill=\"currentColor\" text-anchor=\"middle\">nsubj</textPath>\n",
              "    </text>\n",
              "    <path class=\"displacy-arrowhead\" d=\"M70,179.0 L62,167.0 78,167.0\" fill=\"currentColor\"/>\n",
              "</g>\n",
              "\n",
              "<g class=\"displacy-arrow\">\n",
              "    <path class=\"displacy-arc\" id=\"arrow-128cb89c84e046c581c1fca214837f8e-0-1\" stroke-width=\"2px\" d=\"M245,177.0 C245,89.5 395.0,89.5 395.0,177.0\" fill=\"none\" stroke=\"currentColor\"/>\n",
              "    <text dy=\"1.25em\" style=\"font-size: 0.8em; letter-spacing: 1px\">\n",
              "        <textPath xlink:href=\"#arrow-128cb89c84e046c581c1fca214837f8e-0-1\" class=\"displacy-label\" startOffset=\"50%\" side=\"left\" fill=\"currentColor\" text-anchor=\"middle\">dobj</textPath>\n",
              "    </text>\n",
              "    <path class=\"displacy-arrowhead\" d=\"M395.0,179.0 L403.0,167.0 387.0,167.0\" fill=\"currentColor\"/>\n",
              "</g>\n",
              "\n",
              "<g class=\"displacy-arrow\">\n",
              "    <path class=\"displacy-arc\" id=\"arrow-128cb89c84e046c581c1fca214837f8e-0-2\" stroke-width=\"2px\" d=\"M245,177.0 C245,2.0 575.0,2.0 575.0,177.0\" fill=\"none\" stroke=\"currentColor\"/>\n",
              "    <text dy=\"1.25em\" style=\"font-size: 0.8em; letter-spacing: 1px\">\n",
              "        <textPath xlink:href=\"#arrow-128cb89c84e046c581c1fca214837f8e-0-2\" class=\"displacy-label\" startOffset=\"50%\" side=\"left\" fill=\"currentColor\" text-anchor=\"middle\">prep</textPath>\n",
              "    </text>\n",
              "    <path class=\"displacy-arrowhead\" d=\"M575.0,179.0 L583.0,167.0 567.0,167.0\" fill=\"currentColor\"/>\n",
              "</g>\n",
              "\n",
              "<g class=\"displacy-arrow\">\n",
              "    <path class=\"displacy-arc\" id=\"arrow-128cb89c84e046c581c1fca214837f8e-0-3\" stroke-width=\"2px\" d=\"M770,177.0 C770,89.5 920.0,89.5 920.0,177.0\" fill=\"none\" stroke=\"currentColor\"/>\n",
              "    <text dy=\"1.25em\" style=\"font-size: 0.8em; letter-spacing: 1px\">\n",
              "        <textPath xlink:href=\"#arrow-128cb89c84e046c581c1fca214837f8e-0-3\" class=\"displacy-label\" startOffset=\"50%\" side=\"left\" fill=\"currentColor\" text-anchor=\"middle\">poss</textPath>\n",
              "    </text>\n",
              "    <path class=\"displacy-arrowhead\" d=\"M770,179.0 L762,167.0 778,167.0\" fill=\"currentColor\"/>\n",
              "</g>\n",
              "\n",
              "<g class=\"displacy-arrow\">\n",
              "    <path class=\"displacy-arc\" id=\"arrow-128cb89c84e046c581c1fca214837f8e-0-4\" stroke-width=\"2px\" d=\"M595,177.0 C595,2.0 925.0,2.0 925.0,177.0\" fill=\"none\" stroke=\"currentColor\"/>\n",
              "    <text dy=\"1.25em\" style=\"font-size: 0.8em; letter-spacing: 1px\">\n",
              "        <textPath xlink:href=\"#arrow-128cb89c84e046c581c1fca214837f8e-0-4\" class=\"displacy-label\" startOffset=\"50%\" side=\"left\" fill=\"currentColor\" text-anchor=\"middle\">pobj</textPath>\n",
              "    </text>\n",
              "    <path class=\"displacy-arrowhead\" d=\"M925.0,179.0 L933.0,167.0 917.0,167.0\" fill=\"currentColor\"/>\n",
              "</g>\n",
              "</svg></span>"
            ]
          },
          "metadata": {}
        }
      ]
    },
    {
      "cell_type": "markdown",
      "source": [
        "Veamos el análisis de dependencias para una oración compleja (tiene cláusulas subordinadas):"
      ],
      "metadata": {
        "id": "hgdoKZiypaDr"
      }
    },
    {
      "cell_type": "code",
      "execution_count": 8,
      "metadata": {
        "id": "W9SgTwGQsq0a",
        "colab": {
          "base_uri": "https://localhost:8080/"
        },
        "outputId": "22d8a63c-7212-4334-e9d3-c311fbe64f67"
      },
      "outputs": [
        {
          "output_type": "stream",
          "name": "stdout",
          "text": [
            "word: The\n",
            "grammatical relation: det\n",
            "connected word (head): boy\n",
            "------------------------------------------\n",
            "word: boy\n",
            "grammatical relation: nsubj\n",
            "connected word (head): ran\n",
            "------------------------------------------\n",
            "word: with\n",
            "grammatical relation: prep\n",
            "connected word (head): boy\n",
            "------------------------------------------\n",
            "word: the\n",
            "grammatical relation: det\n",
            "connected word (head): dog\n",
            "------------------------------------------\n",
            "word: spotted\n",
            "grammatical relation: amod\n",
            "connected word (head): dog\n",
            "------------------------------------------\n",
            "word: dog\n",
            "grammatical relation: pobj\n",
            "connected word (head): with\n",
            "------------------------------------------\n",
            "word: quickly\n",
            "grammatical relation: advmod\n",
            "connected word (head): ran\n",
            "------------------------------------------\n",
            "word: ran\n",
            "grammatical relation: ROOT\n",
            "connected word (head): ran\n",
            "------------------------------------------\n",
            "word: after\n",
            "grammatical relation: prep\n",
            "connected word (head): ran\n",
            "------------------------------------------\n",
            "word: the\n",
            "grammatical relation: det\n",
            "connected word (head): firetruck\n",
            "------------------------------------------\n",
            "word: firetruck\n",
            "grammatical relation: pobj\n",
            "connected word (head): after\n",
            "------------------------------------------\n",
            "word: .\n",
            "grammatical relation: punct\n",
            "connected word (head): ran\n",
            "------------------------------------------\n"
          ]
        }
      ],
      "source": [
        "example = \"The boy with the spotted dog quickly ran after the firetruck.\"\n",
        "doc = model(example)\n",
        "\n",
        "for token in doc:\n",
        "    print(\"word:\",token.orth_)\n",
        "    print(\"grammatical relation:\", token.dep_)\n",
        "    print(\"connected word (head):\", token.head.orth_)\n",
        "    print('------------------------------------------')"
      ]
    },
    {
      "cell_type": "code",
      "source": [
        "displacy.render(doc, jupyter=True, style='dep')\n"
      ],
      "metadata": {
        "colab": {
          "base_uri": "https://localhost:8080/",
          "height": 528
        },
        "id": "dBGvSVaU0mq-",
        "outputId": "8114d151-b619-4d85-ded2-e3432dea88b7"
      },
      "execution_count": 9,
      "outputs": [
        {
          "output_type": "display_data",
          "data": {
            "text/plain": [
              "<IPython.core.display.HTML object>"
            ],
            "text/html": [
              "<span class=\"tex2jax_ignore\"><svg xmlns=\"http://www.w3.org/2000/svg\" xmlns:xlink=\"http://www.w3.org/1999/xlink\" xml:lang=\"en\" id=\"631e154ffd9d487596102bfa0fe401d3-0\" class=\"displacy\" width=\"1975\" height=\"487.0\" direction=\"ltr\" style=\"max-width: none; height: 487.0px; color: #000000; background: #ffffff; font-family: Arial; direction: ltr\">\n",
              "<text class=\"displacy-token\" fill=\"currentColor\" text-anchor=\"middle\" y=\"397.0\">\n",
              "    <tspan class=\"displacy-word\" fill=\"currentColor\" x=\"50\">The</tspan>\n",
              "    <tspan class=\"displacy-tag\" dy=\"2em\" fill=\"currentColor\" x=\"50\">DET</tspan>\n",
              "</text>\n",
              "\n",
              "<text class=\"displacy-token\" fill=\"currentColor\" text-anchor=\"middle\" y=\"397.0\">\n",
              "    <tspan class=\"displacy-word\" fill=\"currentColor\" x=\"225\">boy</tspan>\n",
              "    <tspan class=\"displacy-tag\" dy=\"2em\" fill=\"currentColor\" x=\"225\">NOUN</tspan>\n",
              "</text>\n",
              "\n",
              "<text class=\"displacy-token\" fill=\"currentColor\" text-anchor=\"middle\" y=\"397.0\">\n",
              "    <tspan class=\"displacy-word\" fill=\"currentColor\" x=\"400\">with</tspan>\n",
              "    <tspan class=\"displacy-tag\" dy=\"2em\" fill=\"currentColor\" x=\"400\">ADP</tspan>\n",
              "</text>\n",
              "\n",
              "<text class=\"displacy-token\" fill=\"currentColor\" text-anchor=\"middle\" y=\"397.0\">\n",
              "    <tspan class=\"displacy-word\" fill=\"currentColor\" x=\"575\">the</tspan>\n",
              "    <tspan class=\"displacy-tag\" dy=\"2em\" fill=\"currentColor\" x=\"575\">DET</tspan>\n",
              "</text>\n",
              "\n",
              "<text class=\"displacy-token\" fill=\"currentColor\" text-anchor=\"middle\" y=\"397.0\">\n",
              "    <tspan class=\"displacy-word\" fill=\"currentColor\" x=\"750\">spotted</tspan>\n",
              "    <tspan class=\"displacy-tag\" dy=\"2em\" fill=\"currentColor\" x=\"750\">VERB</tspan>\n",
              "</text>\n",
              "\n",
              "<text class=\"displacy-token\" fill=\"currentColor\" text-anchor=\"middle\" y=\"397.0\">\n",
              "    <tspan class=\"displacy-word\" fill=\"currentColor\" x=\"925\">dog</tspan>\n",
              "    <tspan class=\"displacy-tag\" dy=\"2em\" fill=\"currentColor\" x=\"925\">NOUN</tspan>\n",
              "</text>\n",
              "\n",
              "<text class=\"displacy-token\" fill=\"currentColor\" text-anchor=\"middle\" y=\"397.0\">\n",
              "    <tspan class=\"displacy-word\" fill=\"currentColor\" x=\"1100\">quickly</tspan>\n",
              "    <tspan class=\"displacy-tag\" dy=\"2em\" fill=\"currentColor\" x=\"1100\">ADV</tspan>\n",
              "</text>\n",
              "\n",
              "<text class=\"displacy-token\" fill=\"currentColor\" text-anchor=\"middle\" y=\"397.0\">\n",
              "    <tspan class=\"displacy-word\" fill=\"currentColor\" x=\"1275\">ran</tspan>\n",
              "    <tspan class=\"displacy-tag\" dy=\"2em\" fill=\"currentColor\" x=\"1275\">VERB</tspan>\n",
              "</text>\n",
              "\n",
              "<text class=\"displacy-token\" fill=\"currentColor\" text-anchor=\"middle\" y=\"397.0\">\n",
              "    <tspan class=\"displacy-word\" fill=\"currentColor\" x=\"1450\">after</tspan>\n",
              "    <tspan class=\"displacy-tag\" dy=\"2em\" fill=\"currentColor\" x=\"1450\">ADP</tspan>\n",
              "</text>\n",
              "\n",
              "<text class=\"displacy-token\" fill=\"currentColor\" text-anchor=\"middle\" y=\"397.0\">\n",
              "    <tspan class=\"displacy-word\" fill=\"currentColor\" x=\"1625\">the</tspan>\n",
              "    <tspan class=\"displacy-tag\" dy=\"2em\" fill=\"currentColor\" x=\"1625\">DET</tspan>\n",
              "</text>\n",
              "\n",
              "<text class=\"displacy-token\" fill=\"currentColor\" text-anchor=\"middle\" y=\"397.0\">\n",
              "    <tspan class=\"displacy-word\" fill=\"currentColor\" x=\"1800\">firetruck.</tspan>\n",
              "    <tspan class=\"displacy-tag\" dy=\"2em\" fill=\"currentColor\" x=\"1800\">NOUN</tspan>\n",
              "</text>\n",
              "\n",
              "<g class=\"displacy-arrow\">\n",
              "    <path class=\"displacy-arc\" id=\"arrow-631e154ffd9d487596102bfa0fe401d3-0-0\" stroke-width=\"2px\" d=\"M70,352.0 C70,264.5 210.0,264.5 210.0,352.0\" fill=\"none\" stroke=\"currentColor\"/>\n",
              "    <text dy=\"1.25em\" style=\"font-size: 0.8em; letter-spacing: 1px\">\n",
              "        <textPath xlink:href=\"#arrow-631e154ffd9d487596102bfa0fe401d3-0-0\" class=\"displacy-label\" startOffset=\"50%\" side=\"left\" fill=\"currentColor\" text-anchor=\"middle\">det</textPath>\n",
              "    </text>\n",
              "    <path class=\"displacy-arrowhead\" d=\"M70,354.0 L62,342.0 78,342.0\" fill=\"currentColor\"/>\n",
              "</g>\n",
              "\n",
              "<g class=\"displacy-arrow\">\n",
              "    <path class=\"displacy-arc\" id=\"arrow-631e154ffd9d487596102bfa0fe401d3-0-1\" stroke-width=\"2px\" d=\"M245,352.0 C245,2.0 1275.0,2.0 1275.0,352.0\" fill=\"none\" stroke=\"currentColor\"/>\n",
              "    <text dy=\"1.25em\" style=\"font-size: 0.8em; letter-spacing: 1px\">\n",
              "        <textPath xlink:href=\"#arrow-631e154ffd9d487596102bfa0fe401d3-0-1\" class=\"displacy-label\" startOffset=\"50%\" side=\"left\" fill=\"currentColor\" text-anchor=\"middle\">nsubj</textPath>\n",
              "    </text>\n",
              "    <path class=\"displacy-arrowhead\" d=\"M245,354.0 L237,342.0 253,342.0\" fill=\"currentColor\"/>\n",
              "</g>\n",
              "\n",
              "<g class=\"displacy-arrow\">\n",
              "    <path class=\"displacy-arc\" id=\"arrow-631e154ffd9d487596102bfa0fe401d3-0-2\" stroke-width=\"2px\" d=\"M245,352.0 C245,264.5 385.0,264.5 385.0,352.0\" fill=\"none\" stroke=\"currentColor\"/>\n",
              "    <text dy=\"1.25em\" style=\"font-size: 0.8em; letter-spacing: 1px\">\n",
              "        <textPath xlink:href=\"#arrow-631e154ffd9d487596102bfa0fe401d3-0-2\" class=\"displacy-label\" startOffset=\"50%\" side=\"left\" fill=\"currentColor\" text-anchor=\"middle\">prep</textPath>\n",
              "    </text>\n",
              "    <path class=\"displacy-arrowhead\" d=\"M385.0,354.0 L393.0,342.0 377.0,342.0\" fill=\"currentColor\"/>\n",
              "</g>\n",
              "\n",
              "<g class=\"displacy-arrow\">\n",
              "    <path class=\"displacy-arc\" id=\"arrow-631e154ffd9d487596102bfa0fe401d3-0-3\" stroke-width=\"2px\" d=\"M595,352.0 C595,177.0 915.0,177.0 915.0,352.0\" fill=\"none\" stroke=\"currentColor\"/>\n",
              "    <text dy=\"1.25em\" style=\"font-size: 0.8em; letter-spacing: 1px\">\n",
              "        <textPath xlink:href=\"#arrow-631e154ffd9d487596102bfa0fe401d3-0-3\" class=\"displacy-label\" startOffset=\"50%\" side=\"left\" fill=\"currentColor\" text-anchor=\"middle\">det</textPath>\n",
              "    </text>\n",
              "    <path class=\"displacy-arrowhead\" d=\"M595,354.0 L587,342.0 603,342.0\" fill=\"currentColor\"/>\n",
              "</g>\n",
              "\n",
              "<g class=\"displacy-arrow\">\n",
              "    <path class=\"displacy-arc\" id=\"arrow-631e154ffd9d487596102bfa0fe401d3-0-4\" stroke-width=\"2px\" d=\"M770,352.0 C770,264.5 910.0,264.5 910.0,352.0\" fill=\"none\" stroke=\"currentColor\"/>\n",
              "    <text dy=\"1.25em\" style=\"font-size: 0.8em; letter-spacing: 1px\">\n",
              "        <textPath xlink:href=\"#arrow-631e154ffd9d487596102bfa0fe401d3-0-4\" class=\"displacy-label\" startOffset=\"50%\" side=\"left\" fill=\"currentColor\" text-anchor=\"middle\">amod</textPath>\n",
              "    </text>\n",
              "    <path class=\"displacy-arrowhead\" d=\"M770,354.0 L762,342.0 778,342.0\" fill=\"currentColor\"/>\n",
              "</g>\n",
              "\n",
              "<g class=\"displacy-arrow\">\n",
              "    <path class=\"displacy-arc\" id=\"arrow-631e154ffd9d487596102bfa0fe401d3-0-5\" stroke-width=\"2px\" d=\"M420,352.0 C420,89.5 920.0,89.5 920.0,352.0\" fill=\"none\" stroke=\"currentColor\"/>\n",
              "    <text dy=\"1.25em\" style=\"font-size: 0.8em; letter-spacing: 1px\">\n",
              "        <textPath xlink:href=\"#arrow-631e154ffd9d487596102bfa0fe401d3-0-5\" class=\"displacy-label\" startOffset=\"50%\" side=\"left\" fill=\"currentColor\" text-anchor=\"middle\">pobj</textPath>\n",
              "    </text>\n",
              "    <path class=\"displacy-arrowhead\" d=\"M920.0,354.0 L928.0,342.0 912.0,342.0\" fill=\"currentColor\"/>\n",
              "</g>\n",
              "\n",
              "<g class=\"displacy-arrow\">\n",
              "    <path class=\"displacy-arc\" id=\"arrow-631e154ffd9d487596102bfa0fe401d3-0-6\" stroke-width=\"2px\" d=\"M1120,352.0 C1120,264.5 1260.0,264.5 1260.0,352.0\" fill=\"none\" stroke=\"currentColor\"/>\n",
              "    <text dy=\"1.25em\" style=\"font-size: 0.8em; letter-spacing: 1px\">\n",
              "        <textPath xlink:href=\"#arrow-631e154ffd9d487596102bfa0fe401d3-0-6\" class=\"displacy-label\" startOffset=\"50%\" side=\"left\" fill=\"currentColor\" text-anchor=\"middle\">advmod</textPath>\n",
              "    </text>\n",
              "    <path class=\"displacy-arrowhead\" d=\"M1120,354.0 L1112,342.0 1128,342.0\" fill=\"currentColor\"/>\n",
              "</g>\n",
              "\n",
              "<g class=\"displacy-arrow\">\n",
              "    <path class=\"displacy-arc\" id=\"arrow-631e154ffd9d487596102bfa0fe401d3-0-7\" stroke-width=\"2px\" d=\"M1295,352.0 C1295,264.5 1435.0,264.5 1435.0,352.0\" fill=\"none\" stroke=\"currentColor\"/>\n",
              "    <text dy=\"1.25em\" style=\"font-size: 0.8em; letter-spacing: 1px\">\n",
              "        <textPath xlink:href=\"#arrow-631e154ffd9d487596102bfa0fe401d3-0-7\" class=\"displacy-label\" startOffset=\"50%\" side=\"left\" fill=\"currentColor\" text-anchor=\"middle\">prep</textPath>\n",
              "    </text>\n",
              "    <path class=\"displacy-arrowhead\" d=\"M1435.0,354.0 L1443.0,342.0 1427.0,342.0\" fill=\"currentColor\"/>\n",
              "</g>\n",
              "\n",
              "<g class=\"displacy-arrow\">\n",
              "    <path class=\"displacy-arc\" id=\"arrow-631e154ffd9d487596102bfa0fe401d3-0-8\" stroke-width=\"2px\" d=\"M1645,352.0 C1645,264.5 1785.0,264.5 1785.0,352.0\" fill=\"none\" stroke=\"currentColor\"/>\n",
              "    <text dy=\"1.25em\" style=\"font-size: 0.8em; letter-spacing: 1px\">\n",
              "        <textPath xlink:href=\"#arrow-631e154ffd9d487596102bfa0fe401d3-0-8\" class=\"displacy-label\" startOffset=\"50%\" side=\"left\" fill=\"currentColor\" text-anchor=\"middle\">det</textPath>\n",
              "    </text>\n",
              "    <path class=\"displacy-arrowhead\" d=\"M1645,354.0 L1637,342.0 1653,342.0\" fill=\"currentColor\"/>\n",
              "</g>\n",
              "\n",
              "<g class=\"displacy-arrow\">\n",
              "    <path class=\"displacy-arc\" id=\"arrow-631e154ffd9d487596102bfa0fe401d3-0-9\" stroke-width=\"2px\" d=\"M1470,352.0 C1470,177.0 1790.0,177.0 1790.0,352.0\" fill=\"none\" stroke=\"currentColor\"/>\n",
              "    <text dy=\"1.25em\" style=\"font-size: 0.8em; letter-spacing: 1px\">\n",
              "        <textPath xlink:href=\"#arrow-631e154ffd9d487596102bfa0fe401d3-0-9\" class=\"displacy-label\" startOffset=\"50%\" side=\"left\" fill=\"currentColor\" text-anchor=\"middle\">pobj</textPath>\n",
              "    </text>\n",
              "    <path class=\"displacy-arrowhead\" d=\"M1790.0,354.0 L1798.0,342.0 1782.0,342.0\" fill=\"currentColor\"/>\n",
              "</g>\n",
              "</svg></span>"
            ]
          },
          "metadata": {}
        }
      ]
    },
    {
      "cell_type": "markdown",
      "source": [
        "\n",
        "Para comparar el análisis proporcionado por Spacy, puedes usar el analizador sintáctico online proporcionado por Standford: http://nlp.stanford.edu:8080/corenlp/process"
      ],
      "metadata": {
        "id": "SOFErw52TN_H"
      }
    },
    {
      "cell_type": "markdown",
      "metadata": {
        "id": "p6rGBImGokLb"
      },
      "source": [
        "### Cómo reconocer entidades nombradas en un texto\n",
        "\n",
        "\n",
        "Una entidad nombrada suelen ser nombres propios, como por ejemplo, nombres de personas, de organizaciones, lugares, etc. En un dominio clínico, los principales tipos de entidades serían: nombres de enfermedades, nombres de medicamentos, etc.\n",
        "\n",
        "Dado un objeto documento, resultado del análisis de un texto con un modelo Spacy, las entidades de dicho texto están contenidas en la propiedad **ents** del objeto documento.\n",
        "\n",
        "Por cada entidad, es posible acceder a las siguientes propiedades:\n",
        "- text: contiene la mención completa de la entidad nombrada.\n",
        "- label_: es el tipo de entidad.\n",
        "- start_char y end_char indican la posición del primer y último carácter de la entidad en el texto, respectivamente.\n",
        "\n",
        "Ejecuta la siguiente celda para ver las entidades del documento procesado en la celda anterior:"
      ]
    },
    {
      "cell_type": "code",
      "execution_count": 10,
      "metadata": {
        "id": "o-GRY0DPsq0h",
        "colab": {
          "base_uri": "https://localhost:8080/"
        },
        "outputId": "81642ba5-71c7-48ec-d4a7-f191e77a7e5e"
      },
      "outputs": [
        {
          "output_type": "stream",
          "name": "stdout",
          "text": [
            "Sentence:  Pedro Sánchez is the Prime Minister of Spain since June 2018.\n",
            "Entities:\n",
            "\t Pedro Sánchez PERSON 0 13\n",
            "\t Spain GPE 39 44\n",
            "\t June 2018 DATE 51 60\n",
            "\n"
          ]
        }
      ],
      "source": [
        "for i,s in enumerate(document.sents):\n",
        "  print(\"Sentence: \", s)\n",
        "  print(\"Entities:\")\n",
        "  for e in s.ents:\n",
        "    print('\\t',e.text,e.label_,e.start_char, e.end_char)\n",
        "  print()\n",
        "\n"
      ]
    },
    {
      "cell_type": "markdown",
      "source": [
        "El paquete displacy también permite resaltar las entidades en el texto:"
      ],
      "metadata": {
        "id": "AcXYvr7UQ7B7"
      }
    },
    {
      "cell_type": "code",
      "source": [
        "displacy.render(document, jupyter=True, style='ent')"
      ],
      "metadata": {
        "id": "ja1dp9vgSV6z",
        "colab": {
          "base_uri": "https://localhost:8080/",
          "height": 52
        },
        "outputId": "c994d710-f362-4eeb-f808-8b0d2d0d1806"
      },
      "execution_count": 11,
      "outputs": [
        {
          "output_type": "display_data",
          "data": {
            "text/plain": [
              "<IPython.core.display.HTML object>"
            ],
            "text/html": [
              "<span class=\"tex2jax_ignore\"><div class=\"entities\" style=\"line-height: 2.5; direction: ltr\">\n",
              "<mark class=\"entity\" style=\"background: #aa9cfc; padding: 0.45em 0.6em; margin: 0 0.25em; line-height: 1; border-radius: 0.35em;\">\n",
              "    Pedro Sánchez\n",
              "    <span style=\"font-size: 0.8em; font-weight: bold; line-height: 1; border-radius: 0.35em; vertical-align: middle; margin-left: 0.5rem\">PERSON</span>\n",
              "</mark>\n",
              " is the Prime Minister of \n",
              "<mark class=\"entity\" style=\"background: #feca74; padding: 0.45em 0.6em; margin: 0 0.25em; line-height: 1; border-radius: 0.35em;\">\n",
              "    Spain\n",
              "    <span style=\"font-size: 0.8em; font-weight: bold; line-height: 1; border-radius: 0.35em; vertical-align: middle; margin-left: 0.5rem\">GPE</span>\n",
              "</mark>\n",
              " since \n",
              "<mark class=\"entity\" style=\"background: #bfe1d9; padding: 0.45em 0.6em; margin: 0 0.25em; line-height: 1; border-radius: 0.35em;\">\n",
              "    June 2018\n",
              "    <span style=\"font-size: 0.8em; font-weight: bold; line-height: 1; border-radius: 0.35em; vertical-align: middle; margin-left: 0.5rem\">DATE</span>\n",
              "</mark>\n",
              ".</div></span>"
            ]
          },
          "metadata": {}
        }
      ]
    },
    {
      "cell_type": "markdown",
      "source": [],
      "metadata": {
        "id": "C1oigEbcp1z-"
      }
    }
  ],
  "metadata": {
    "colab": {
      "provenance": [],
      "include_colab_link": true
    },
    "kernelspec": {
      "display_name": "Python 3",
      "name": "python3"
    }
  },
  "nbformat": 4,
  "nbformat_minor": 0
}
