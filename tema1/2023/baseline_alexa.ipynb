{
  "nbformat": 4,
  "nbformat_minor": 0,
  "metadata": {
    "colab": {
      "provenance": [],
      "toc_visible": true
    },
    "kernelspec": {
      "name": "python3",
      "display_name": "Python 3"
    },
    "language_info": {
      "name": "python"
    }
  },
  "cells": [
    {
      "cell_type": "markdown",
      "source": [
        "<center>\n",
        "<img src=\"https://upload.wikimedia.org/wikipedia/commons/4/47/Acronimo_y_nombre_uc3m.png\"/>\n",
        "\n",
        "<img src=\"https://mirrors.creativecommons.org/presskit/buttons/88x31/png/by-nc-sa.png\" width=15%/>\n",
        "</center>    "
      ],
      "metadata": {
        "id": "aQr9dRLTmI_u"
      }
    },
    {
      "cell_type": "markdown",
      "source": [
        "# Clasificación de textos con un algoritmo clásico de aprendizaje automático. \n",
        "\n",
        "En este notebook, vamos a desarrollar un enfoque basado en un algoritmo clásico de aprendizaje automático. \n",
        "\n",
        "El dataset a utilizar es una colección de reviews de Amazon sobre Alexa. Este dataset puede descargarse desde este [link](#https://www.kaggle.com/datasets/sid321axn/amazon-alexa-reviews) en Kaggle. \n",
        "\n",
        "El dataset contiene aproximadamente unos 3000 comentarios de clientes sobre Alexa. Cada comentario incluye un rating (de 1 a 5 estrellas) para indicar el grado de satisfacción sobre el producto.\n",
        "\n",
        "\n",
        "Además de entrenar y evaluar un algoritmo de aprendizaje automático, en concreto Support Vector Machines, también tendremos la oportunidad de prácticar en la representación de textos para la entrada del algoritmo. \n",
        "\n"
      ],
      "metadata": {
        "id": "Bv2Hbhm0lC8r"
      }
    },
    {
      "cell_type": "markdown",
      "source": [
        "## Cargar un dataset\n",
        "\n",
        "\n",
        "\n"
      ],
      "metadata": {
        "id": "m2vZpV7_lkE6"
      }
    },
    {
      "cell_type": "code",
      "source": [
        "from google.colab import drive\n",
        "# mount your google drive\n",
        "drive.mount('/content/drive')\n",
        "PATH = \"/content/drive/My Drive/Colab Notebooks/data/alexa/\""
      ],
      "metadata": {
        "id": "J5Q1u9f3ljUu",
        "colab": {
          "base_uri": "https://localhost:8080/"
        },
        "outputId": "dd2cd65c-ddf1-4ab9-f18b-f3db08409f36"
      },
      "execution_count": 2,
      "outputs": [
        {
          "output_type": "stream",
          "name": "stdout",
          "text": [
            "Mounted at /content/drive\n"
          ]
        }
      ]
    },
    {
      "cell_type": "code",
      "source": [
        "import pandas as pd\n",
        "\n",
        "df = pd.read_csv(PATH+\"amazon_alexa.tsv\",  sep='\\t', on_bad_lines='skip') \n",
        "print('dataset cargado:', df.shape)\n",
        "\n",
        "# nos quedamos únicamente con el texto y el campo de rating\n",
        "df = df[['verified_reviews','rating']] \n",
        "# renombramos las columnas\n",
        "df=df.rename(columns={\"verified_reviews\": \"Text\", \"rating\": \"Label\"})\n",
        "df.head()\n"
      ],
      "metadata": {
        "colab": {
          "base_uri": "https://localhost:8080/",
          "height": 224
        },
        "id": "Vy_wu_ahqGPT",
        "outputId": "3d6fccdd-7dd8-433e-86ad-acae7197455a"
      },
      "execution_count": 3,
      "outputs": [
        {
          "output_type": "stream",
          "name": "stdout",
          "text": [
            "dataset cargado: (3150, 5)\n"
          ]
        },
        {
          "output_type": "execute_result",
          "data": {
            "text/plain": [
              "                                                Text  Label\n",
              "0                                      Love my Echo!      5\n",
              "1                                          Loved it!      5\n",
              "2  Sometimes while playing a game, you can answer...      4\n",
              "3  I have had a lot of fun with this thing. My 4 ...      5\n",
              "4                                              Music      5"
            ],
            "text/html": [
              "\n",
              "  <div id=\"df-cf1399a3-bd14-4eca-8829-3d826854dd13\">\n",
              "    <div class=\"colab-df-container\">\n",
              "      <div>\n",
              "<style scoped>\n",
              "    .dataframe tbody tr th:only-of-type {\n",
              "        vertical-align: middle;\n",
              "    }\n",
              "\n",
              "    .dataframe tbody tr th {\n",
              "        vertical-align: top;\n",
              "    }\n",
              "\n",
              "    .dataframe thead th {\n",
              "        text-align: right;\n",
              "    }\n",
              "</style>\n",
              "<table border=\"1\" class=\"dataframe\">\n",
              "  <thead>\n",
              "    <tr style=\"text-align: right;\">\n",
              "      <th></th>\n",
              "      <th>Text</th>\n",
              "      <th>Label</th>\n",
              "    </tr>\n",
              "  </thead>\n",
              "  <tbody>\n",
              "    <tr>\n",
              "      <th>0</th>\n",
              "      <td>Love my Echo!</td>\n",
              "      <td>5</td>\n",
              "    </tr>\n",
              "    <tr>\n",
              "      <th>1</th>\n",
              "      <td>Loved it!</td>\n",
              "      <td>5</td>\n",
              "    </tr>\n",
              "    <tr>\n",
              "      <th>2</th>\n",
              "      <td>Sometimes while playing a game, you can answer...</td>\n",
              "      <td>4</td>\n",
              "    </tr>\n",
              "    <tr>\n",
              "      <th>3</th>\n",
              "      <td>I have had a lot of fun with this thing. My 4 ...</td>\n",
              "      <td>5</td>\n",
              "    </tr>\n",
              "    <tr>\n",
              "      <th>4</th>\n",
              "      <td>Music</td>\n",
              "      <td>5</td>\n",
              "    </tr>\n",
              "  </tbody>\n",
              "</table>\n",
              "</div>\n",
              "      <button class=\"colab-df-convert\" onclick=\"convertToInteractive('df-cf1399a3-bd14-4eca-8829-3d826854dd13')\"\n",
              "              title=\"Convert this dataframe to an interactive table.\"\n",
              "              style=\"display:none;\">\n",
              "        \n",
              "  <svg xmlns=\"http://www.w3.org/2000/svg\" height=\"24px\"viewBox=\"0 0 24 24\"\n",
              "       width=\"24px\">\n",
              "    <path d=\"M0 0h24v24H0V0z\" fill=\"none\"/>\n",
              "    <path d=\"M18.56 5.44l.94 2.06.94-2.06 2.06-.94-2.06-.94-.94-2.06-.94 2.06-2.06.94zm-11 1L8.5 8.5l.94-2.06 2.06-.94-2.06-.94L8.5 2.5l-.94 2.06-2.06.94zm10 10l.94 2.06.94-2.06 2.06-.94-2.06-.94-.94-2.06-.94 2.06-2.06.94z\"/><path d=\"M17.41 7.96l-1.37-1.37c-.4-.4-.92-.59-1.43-.59-.52 0-1.04.2-1.43.59L10.3 9.45l-7.72 7.72c-.78.78-.78 2.05 0 2.83L4 21.41c.39.39.9.59 1.41.59.51 0 1.02-.2 1.41-.59l7.78-7.78 2.81-2.81c.8-.78.8-2.07 0-2.86zM5.41 20L4 18.59l7.72-7.72 1.47 1.35L5.41 20z\"/>\n",
              "  </svg>\n",
              "      </button>\n",
              "      \n",
              "  <style>\n",
              "    .colab-df-container {\n",
              "      display:flex;\n",
              "      flex-wrap:wrap;\n",
              "      gap: 12px;\n",
              "    }\n",
              "\n",
              "    .colab-df-convert {\n",
              "      background-color: #E8F0FE;\n",
              "      border: none;\n",
              "      border-radius: 50%;\n",
              "      cursor: pointer;\n",
              "      display: none;\n",
              "      fill: #1967D2;\n",
              "      height: 32px;\n",
              "      padding: 0 0 0 0;\n",
              "      width: 32px;\n",
              "    }\n",
              "\n",
              "    .colab-df-convert:hover {\n",
              "      background-color: #E2EBFA;\n",
              "      box-shadow: 0px 1px 2px rgba(60, 64, 67, 0.3), 0px 1px 3px 1px rgba(60, 64, 67, 0.15);\n",
              "      fill: #174EA6;\n",
              "    }\n",
              "\n",
              "    [theme=dark] .colab-df-convert {\n",
              "      background-color: #3B4455;\n",
              "      fill: #D2E3FC;\n",
              "    }\n",
              "\n",
              "    [theme=dark] .colab-df-convert:hover {\n",
              "      background-color: #434B5C;\n",
              "      box-shadow: 0px 1px 3px 1px rgba(0, 0, 0, 0.15);\n",
              "      filter: drop-shadow(0px 1px 2px rgba(0, 0, 0, 0.3));\n",
              "      fill: #FFFFFF;\n",
              "    }\n",
              "  </style>\n",
              "\n",
              "      <script>\n",
              "        const buttonEl =\n",
              "          document.querySelector('#df-cf1399a3-bd14-4eca-8829-3d826854dd13 button.colab-df-convert');\n",
              "        buttonEl.style.display =\n",
              "          google.colab.kernel.accessAllowed ? 'block' : 'none';\n",
              "\n",
              "        async function convertToInteractive(key) {\n",
              "          const element = document.querySelector('#df-cf1399a3-bd14-4eca-8829-3d826854dd13');\n",
              "          const dataTable =\n",
              "            await google.colab.kernel.invokeFunction('convertToInteractive',\n",
              "                                                     [key], {});\n",
              "          if (!dataTable) return;\n",
              "\n",
              "          const docLinkHtml = 'Like what you see? Visit the ' +\n",
              "            '<a target=\"_blank\" href=https://colab.research.google.com/notebooks/data_table.ipynb>data table notebook</a>'\n",
              "            + ' to learn more about interactive tables.';\n",
              "          element.innerHTML = '';\n",
              "          dataTable['output_type'] = 'display_data';\n",
              "          await google.colab.output.renderOutput(dataTable, element);\n",
              "          const docLink = document.createElement('div');\n",
              "          docLink.innerHTML = docLinkHtml;\n",
              "          element.appendChild(docLink);\n",
              "        }\n",
              "      </script>\n",
              "    </div>\n",
              "  </div>\n",
              "  "
            ]
          },
          "metadata": {},
          "execution_count": 3
        }
      ]
    },
    {
      "cell_type": "markdown",
      "source": [
        "## Crear particiones\n",
        "\n",
        "El dataset se distribuye en un único fichero. Debemos crear tres particiones distintas para entrenamiento, validación y evaluación final (test), con un ratio de 70:10:20.\n",
        "\n"
      ],
      "metadata": {
        "id": "-oYC7aHhpvp5"
      }
    },
    {
      "cell_type": "code",
      "source": [
        "from sklearn.model_selection import train_test_split\n",
        "X=df['Text']\n",
        "y=df['Label']\n",
        "\n",
        "X_train, X_aux, y_train, y_aux = train_test_split(X, y, \n",
        "        test_size=0.30, random_state=42, stratify=y)\n",
        "\n",
        "X_val, X_test, y_val, y_test = train_test_split(X_aux, y_aux, \n",
        "        test_size=2/3, random_state=42, stratify=y_aux)\n",
        "\n",
        "print('Tamaño conjunto de entrenamiento:', len(X_train))\n",
        "print('Tamaño conjunto de validación:', len(X_val))\n",
        "print('Tamaño conjunto de evaluación:', len(X_test))\n",
        "\n"
      ],
      "metadata": {
        "colab": {
          "base_uri": "https://localhost:8080/"
        },
        "id": "4oh1yk22qE8S",
        "outputId": "7be3781f-be14-4b0a-9fc4-097264e6e8ae"
      },
      "execution_count": 4,
      "outputs": [
        {
          "output_type": "stream",
          "name": "stdout",
          "text": [
            "Tamaño conjunto de entrenamiento: 2205\n",
            "Tamaño conjunto de validación: 315\n",
            "Tamaño conjunto de evaluación: 630\n"
          ]
        }
      ]
    },
    {
      "cell_type": "markdown",
      "source": [
        "## Distribución de clases\n",
        "\n"
      ],
      "metadata": {
        "id": "-2yHlawQBmmC"
      }
    },
    {
      "cell_type": "code",
      "source": [
        "counts_train = y_train.value_counts().to_dict()\n",
        "print(\"Distribución en training:\", counts_train)\n",
        "counts_val = y_val.value_counts().to_dict()\n",
        "print(\"Distribución en validación:\", counts_val)\n",
        "counts_test = y_test.value_counts().to_dict()\n",
        "print(\"Distribución en test:\", counts_test)\n",
        "\n",
        "LABELS=counts_train.keys()\n",
        "print(LABELS)"
      ],
      "metadata": {
        "colab": {
          "base_uri": "https://localhost:8080/"
        },
        "id": "QEtiNBpRBsPL",
        "outputId": "bc067d06-38da-4461-ac33-022cf38f610b"
      },
      "execution_count": 5,
      "outputs": [
        {
          "output_type": "stream",
          "name": "stdout",
          "text": [
            "Distribución en training: {5: 1600, 4: 319, 1: 113, 3: 106, 2: 67}\n",
            "Distribución en validación: {5: 229, 4: 45, 1: 16, 3: 15, 2: 10}\n",
            "Distribución en test: {5: 457, 4: 91, 1: 32, 3: 31, 2: 19}\n",
            "dict_keys([5, 4, 1, 3, 2])\n"
          ]
        }
      ]
    },
    {
      "cell_type": "code",
      "source": [
        "import matplotlib.pyplot as plt\n",
        "\n",
        "fig, (ax_train, ax_val, ax_test) = plt.subplots(1, 3, figsize=(20, 4))\n",
        "fig.suptitle('Distribución de clases')\n",
        "ax_train.bar(LABELS, counts_train.values(), width=0.4)\n",
        "ax_train.set_title('Distribución de clases en el conjunto de entrenamiento')\n",
        "ax_train.set_xlabel('Clases')\n",
        "ax_train.set_ylabel('Número de Instancias')\n",
        "\n",
        "ax_val.bar(LABELS, counts_val.values(), width=0.4)\n",
        "ax_val.set_title('Distribución de clases en el conjunto de validación')\n",
        "ax_val.set_xlabel('Clases')\n",
        "ax_val.set_ylabel('Número de Instancias')\n",
        "\n",
        "\n",
        "ax_test.bar(LABELS, counts_test.values(), width=0.4)\n",
        "ax_test.set_title('Distribución de clases en el conjunto de evaluación')\n",
        "ax_test.set_xlabel('Clases')\n",
        "ax_test.set_ylabel('Número de Instancias')"
      ],
      "metadata": {
        "colab": {
          "base_uri": "https://localhost:8080/",
          "height": 190
        },
        "id": "HLktK0Dsssmb",
        "outputId": "a76aac18-1859-4928-cdee-e2232328db2e"
      },
      "execution_count": 6,
      "outputs": [
        {
          "output_type": "execute_result",
          "data": {
            "text/plain": [
              "Text(0, 0.5, 'Número de Instancias')"
            ]
          },
          "metadata": {},
          "execution_count": 6
        },
        {
          "output_type": "display_data",
          "data": {
            "text/plain": [
              "<Figure size 1440x288 with 3 Axes>"
            ],
            "image/png": "[encoded data removed]"
          },
          "metadata": {
            "needs_background": "light"
          }
        }
      ]
    },
    {
      "cell_type": "markdown",
      "source": [
        "## Distribución del tamaño de los textos\n"
      ],
      "metadata": {
        "id": "fPGom1a-2q9q"
      }
    },
    {
      "cell_type": "code",
      "source": [
        "length_train=X_train.apply(lambda text: len(text.split()))\n",
        "length_train.describe()"
      ],
      "metadata": {
        "colab": {
          "base_uri": "https://localhost:8080/"
        },
        "id": "q7sIwW6s5sCz",
        "outputId": "18b44fb4-4b89-47f4-8fa5-8c8ba3a77915"
      },
      "execution_count": 7,
      "outputs": [
        {
          "output_type": "execute_result",
          "data": {
            "text/plain": [
              "count    2205.000000\n",
              "mean       26.170522\n",
              "std        36.618675\n",
              "min         0.000000\n",
              "25%         6.000000\n",
              "50%        15.000000\n",
              "75%        32.000000\n",
              "max       526.000000\n",
              "Name: Text, dtype: float64"
            ]
          },
          "metadata": {},
          "execution_count": 7
        }
      ]
    },
    {
      "cell_type": "code",
      "source": [
        "length_train.describe(percentiles=[0.25, 0.50, 0.75, 0.90, 0.95, 0.99])"
      ],
      "metadata": {
        "colab": {
          "base_uri": "https://localhost:8080/"
        },
        "id": "KjCn5XrSuphq",
        "outputId": "1a9ff341-4004-47cc-b560-1b83316210b4"
      },
      "execution_count": 8,
      "outputs": [
        {
          "output_type": "execute_result",
          "data": {
            "text/plain": [
              "count    2205.000000\n",
              "mean       26.170522\n",
              "std        36.618675\n",
              "min         0.000000\n",
              "25%         6.000000\n",
              "50%        15.000000\n",
              "75%        32.000000\n",
              "90%        60.000000\n",
              "95%        86.800000\n",
              "99%       171.000000\n",
              "max       526.000000\n",
              "Name: Text, dtype: float64"
            ]
          },
          "metadata": {},
          "execution_count": 8
        }
      ]
    },
    {
      "cell_type": "code",
      "source": [
        "length_val=X_val.apply(lambda text: len(text.split()))\n",
        "length_val.describe(percentiles=[0.25, 0.50, 0.75, 0.90, 0.95, 0.99])"
      ],
      "metadata": {
        "colab": {
          "base_uri": "https://localhost:8080/"
        },
        "id": "OvyS6JAluSDG",
        "outputId": "bf73a02d-afed-4575-f241-cfd04841043c"
      },
      "execution_count": 9,
      "outputs": [
        {
          "output_type": "execute_result",
          "data": {
            "text/plain": [
              "count    315.000000\n",
              "mean      21.320635\n",
              "std       25.860762\n",
              "min        0.000000\n",
              "25%        6.000000\n",
              "50%       13.000000\n",
              "75%       26.000000\n",
              "90%       49.000000\n",
              "95%       63.000000\n",
              "99%      125.580000\n",
              "max      177.000000\n",
              "Name: Text, dtype: float64"
            ]
          },
          "metadata": {},
          "execution_count": 9
        }
      ]
    },
    {
      "cell_type": "code",
      "source": [
        "length_test=X_test.apply(lambda text: len(text.split()))\n",
        "length_test.describe(percentiles=[0.25, 0.50, 0.75, 0.90, 0.95, 0.99])"
      ],
      "metadata": {
        "colab": {
          "base_uri": "https://localhost:8080/"
        },
        "id": "Mq09HyhPuVd6",
        "outputId": "de90d43c-b552-495e-d7aa-44618743de6b"
      },
      "execution_count": 10,
      "outputs": [
        {
          "output_type": "execute_result",
          "data": {
            "text/plain": [
              "count    630.000000\n",
              "mean      24.207937\n",
              "std       30.724473\n",
              "min        0.000000\n",
              "25%        5.000000\n",
              "50%       12.000000\n",
              "75%       30.000000\n",
              "90%       64.000000\n",
              "95%       89.550000\n",
              "99%      132.420000\n",
              "max      278.000000\n",
              "Name: Text, dtype: float64"
            ]
          },
          "metadata": {},
          "execution_count": 10
        }
      ]
    },
    {
      "cell_type": "code",
      "source": [
        "import matplotlib.pyplot as plt\n",
        "\n",
        "fig, (ax_train, ax_val, ax_test) = plt.subplots(1, 3, figsize=(20, 4))\n",
        "fig.suptitle('Distribución del tamaño de los textos')\n",
        "\n",
        "ax_train.hist(length_train,  color = 'red', edgecolor = 'black',\n",
        "         bins = int(600/50))\n",
        "ax_train.set_title('Conjunto de entrenamiento')\n",
        "ax_train.set_xlabel('Tamaño')\n",
        "ax_train.set_ylabel('Número de Instancias')\n",
        "\n",
        "ax_val.hist(length_train,  color = 'red', edgecolor = 'black',\n",
        "         bins = int(200/15))\n",
        "ax_val.set_title('Conjunto de validación')\n",
        "ax_val.set_xlabel('Tamaño')\n",
        "ax_val.set_ylabel('Número de Instancias')\n",
        "\n",
        "ax_test.hist(length_train,  color = 'red', edgecolor = 'black',\n",
        "         bins = int(300/15))\n",
        "ax_test.set_title('Conjunto test')\n",
        "ax_test.set_xlabel('Tamaño')\n",
        "ax_test.set_ylabel('Número de Instancias')\n",
        "\n",
        "# Add labels\n",
        "plt.title('Distribución de la longitud de los textos')\n",
        "plt.xlabel('Tamaño (tokens)')\n",
        "plt.ylabel('Número de textos')"
      ],
      "metadata": {
        "colab": {
          "base_uri": "https://localhost:8080/",
          "height": 190
        },
        "id": "vAvcooqD7bkr",
        "outputId": "2b6193fb-c39b-4059-ae54-d91bb39c2cb5"
      },
      "execution_count": 11,
      "outputs": [
        {
          "output_type": "execute_result",
          "data": {
            "text/plain": [
              "Text(0, 0.5, 'Número de textos')"
            ]
          },
          "metadata": {},
          "execution_count": 11
        },
        {
          "output_type": "display_data",
          "data": {
            "text/plain": [
              "<Figure size 1440x288 with 3 Axes>"
            ],
            "image/png": "[encoded data removed]"
          },
          "metadata": {
            "needs_background": "light"
          }
        }
      ]
    },
    {
      "cell_type": "markdown",
      "source": [
        "Gracias a los tres gráficos, podemos afirmar que la distribución de las clases es similar en los tres subconjuntos de datos. "
      ],
      "metadata": {
        "id": "BWA68IeP2dWU"
      }
    },
    {
      "cell_type": "markdown",
      "source": [
        "## Representación de textos\n",
        "La entrada de nuestro algoritmo de clasificación son los textos, pero estos deben ser representados como vectores de números reales.\n",
        "\n",
        "Antes de realizar esta transformación, también vamos a incluir algunas tareas que nos permiten limpiar los textos eliminando palabras y símbolos que no aporten información semántica para la clasificación de los textos:\n",
        "\n"
      ],
      "metadata": {
        "id": "f9DX56kP3vy6"
      }
    },
    {
      "cell_type": "code",
      "source": [
        "import nltk\n",
        "\n",
        "nltk.download('stopwords')\n",
        "nltk.download('punkt')\n",
        "\n",
        "from nltk.corpus import stopwords\n",
        "stopwords_en = stopwords.words(\"english\")\n",
        "\n",
        "from nltk import word_tokenize\n",
        "from nltk.stem.porter import PorterStemmer\n",
        "import re\n",
        "\n",
        "\n",
        "def clean_text(text):\n",
        "    # transformar a minúscula\n",
        "    text=str(text).lower()\n",
        "    # tokenizar\n",
        "    tokens=word_tokenize(text)\n",
        "    # borrar stopwords\n",
        "    tokens = [word for word in tokens if word not in stopwords_en]\n",
        "    # usar los stems\n",
        "    tokens = [PorterStemmer().stem(word) for word in tokens]\n",
        "    # eliminamos las palabras con menos de 3 caráceres\n",
        "    # ignoramos cualquier palabra que contenga un digito o un símbolo especial \n",
        "    min_length = 3\n",
        "    p = re.compile('^[a-zA-Z]+$');\n",
        "    filtered_tokens=[]\n",
        "    for token in tokens:\n",
        "        if len(token)>=min_length and p.match(token):\n",
        "            filtered_tokens.append(token)\n",
        "            \n",
        "    return filtered_tokens"
      ],
      "metadata": {
        "colab": {
          "base_uri": "https://localhost:8080/"
        },
        "id": "zRu03I-A3zWW",
        "outputId": "b61c88f6-4754-4a28-b8e7-9b016aa21fcb"
      },
      "execution_count": 12,
      "outputs": [
        {
          "output_type": "stream",
          "name": "stderr",
          "text": [
            "[nltk_data] Downloading package stopwords to /root/nltk_data...\n",
            "[nltk_data]   Unzipping corpora/stopwords.zip.\n",
            "[nltk_data] Downloading package punkt to /root/nltk_data...\n",
            "[nltk_data]   Unzipping tokenizers/punkt.zip.\n"
          ]
        }
      ]
    },
    {
      "cell_type": "markdown",
      "source": [
        "### tf-idf"
      ],
      "metadata": {
        "id": "nuON_vKf33Sv"
      }
    },
    {
      "cell_type": "code",
      "source": [
        "from sklearn.feature_extraction.text import CountVectorizer\n",
        "from sklearn.feature_extraction.text import TfidfTransformer\n",
        "\n",
        "# entrenamos un modelo de bolsa de palabras\n",
        "bow = CountVectorizer(analyzer=clean_text).fit(X_train)\n",
        "# transformamos el conjunto de entrenamiento a bolsa de palabras\n",
        "X_train_bow = bow.transform(X_train)\n",
        "# transformamos el conjunto de evaluación a bolsa de palabras\n",
        "X_test_bow=bow.transform(X_test)\n",
        "\n",
        "\n",
        "# entrenamos un modelo tf-idf \n",
        "tfidf_transformer = TfidfTransformer().fit(X_train_bow)\n",
        "# transformamos el conjunto de entrenamiento\n",
        "X_train_tfidf = tfidf_transformer.transform(X_train_bow)\n",
        "# transformamos el conjunto de entrenamiento\n",
        "X_test_tfidf = tfidf_transformer.transform(X_test_bow)\n",
        "\n",
        "print('textos han sido representados con el modelo tf-idf ')"
      ],
      "metadata": {
        "colab": {
          "base_uri": "https://localhost:8080/"
        },
        "id": "OhEa91px35ui",
        "outputId": "1f9798f7-8564-41d5-e0e0-9ade280aac3b"
      },
      "execution_count": 13,
      "outputs": [
        {
          "output_type": "stream",
          "name": "stdout",
          "text": [
            "textos han sido representados con el modelo tf-idf \n"
          ]
        }
      ]
    },
    {
      "cell_type": "code",
      "source": [
        "print(X_train[1])\n",
        "print(X_train_bow[1])\n",
        "print(X_train_tfidf[1])"
      ],
      "metadata": {
        "colab": {
          "base_uri": "https://localhost:8080/"
        },
        "id": "bYoBkDEiSrgz",
        "outputId": "eb9d5cdd-062d-4778-9706-37532d5610ce"
      },
      "execution_count": 24,
      "outputs": [
        {
          "output_type": "stream",
          "name": "stdout",
          "text": [
            "Loved it!\n",
            "  (0, 134)\t1\n",
            "  (0, 401)\t1\n",
            "  (0, 641)\t1\n",
            "  (0, 760)\t1\n",
            "  (0, 892)\t1\n",
            "  (0, 969)\t1\n",
            "  (0, 984)\t1\n",
            "  (0, 1172)\t1\n",
            "  (0, 1318)\t1\n",
            "  (0, 1511)\t1\n",
            "  (0, 1605)\t1\n",
            "  (0, 1621)\t1\n",
            "  (0, 1745)\t1\n",
            "  (0, 2074)\t1\n",
            "  (0, 2150)\t1\n",
            "  (0, 2231)\t1\n",
            "  (0, 2231)\t0.24848569048728514\n",
            "  (0, 2150)\t0.25073011141503715\n",
            "  (0, 2074)\t0.2943438793750151\n",
            "  (0, 1745)\t0.24848569048728514\n",
            "  (0, 1621)\t0.39526593882219163\n",
            "  (0, 1605)\t0.2644613840321938\n",
            "  (0, 1511)\t0.19844781431205044\n",
            "  (0, 1318)\t0.1687887849138693\n",
            "  (0, 1172)\t0.23903893603876666\n",
            "  (0, 984)\t0.25386653457291786\n",
            "  (0, 969)\t0.21751925506588043\n",
            "  (0, 892)\t0.14607394870368387\n",
            "  (0, 760)\t0.30316521341041\n",
            "  (0, 641)\t0.14896409999940147\n",
            "  (0, 401)\t0.2739330136813633\n",
            "  (0, 134)\t0.23147535369228014\n"
          ]
        }
      ]
    },
    {
      "cell_type": "markdown",
      "source": [
        "## Clasificación"
      ],
      "metadata": {
        "id": "hzLMS4LrW6nV"
      }
    },
    {
      "cell_type": "code",
      "source": [
        "from sklearn.pipeline import Pipeline\n",
        "from sklearn.svm import SVC\n",
        "from sklearn.model_selection import GridSearchCV\n",
        "\n",
        "# definimos un pipeline que primero transforma los textos a BoW\n",
        "# después los textos se transforma en formato tfidf\n",
        "# finalmente, se aplica el algoritmo\n",
        "pipeline = Pipeline([\n",
        "    ('bow', CountVectorizer(analyzer=clean_text)),  \n",
        "    ('tf', TfidfTransformer()),  \n",
        "    ('svm', SVC()), \n",
        "])\n",
        "\n",
        "#pipeline.fit(X_train, y_train)\n",
        "\n",
        "\n",
        "# Parámetros para el algoritmo SVM\n",
        "grid_params_svm = [{'svm__kernel': ['linear', 'rbf'], \n",
        "                    'svm__C': [0.1, 1], # [0.1, 1, 10, 100, 1000]\n",
        "                    # 'svm__gamma':  [1, 0.1, 0.01, 0.001, 0.0001]\n",
        "                    }]  \n",
        "\n",
        "  \n",
        "gs = GridSearchCV(pipeline, param_grid=grid_params_svm, \n",
        "                  scoring='accuracy', cv=3, verbose = 1)\n",
        "\n",
        "# entrenamos el grid\n",
        "gs.fit(X_train, y_train)\n",
        "print('Los mejores parámetros son : %s' % gs.best_params_)\n",
        "print('Mejor accuracy: %.3f' % gs.best_score_)\n",
        "print(gs.best_estimator_)\n",
        "\n"
      ],
      "metadata": {
        "colab": {
          "base_uri": "https://localhost:8080/"
        },
        "id": "C1lGEWJL3-4h",
        "outputId": "64975d50-b0d0-447c-fcd2-5406ca41173d"
      },
      "execution_count": 30,
      "outputs": [
        {
          "output_type": "stream",
          "name": "stdout",
          "text": [
            "Fitting 3 folds for each of 4 candidates, totalling 12 fits\n",
            "Los mejores parámetros son : {'svm__C': 1, 'svm__kernel': 'rbf'}\n"
          ]
        }
      ]
    },
    {
      "cell_type": "code",
      "source": [
        "predictions = gs.predict(X_test)"
      ],
      "metadata": {
        "id": "xgujBhDRVtcj"
      },
      "execution_count": 35,
      "outputs": []
    },
    {
      "cell_type": "code",
      "source": [
        "from sklearn.metrics import classification_report\n",
        "print( classification_report(y_test, predictions))"
      ],
      "metadata": {
        "colab": {
          "base_uri": "https://localhost:8080/"
        },
        "id": "tvPtPUVw4GGB",
        "outputId": "734aa9d3-7f4b-482d-b9b5-beb6ee66ec4b"
      },
      "execution_count": 36,
      "outputs": [
        {
          "output_type": "stream",
          "name": "stdout",
          "text": [
            "              precision    recall  f1-score   support\n",
            "\n",
            "           1       1.00      0.16      0.27        32\n",
            "           2       1.00      0.05      0.10        19\n",
            "           3       1.00      0.35      0.52        31\n",
            "           4       1.00      0.21      0.35        91\n",
            "           5       0.77      1.00      0.87       457\n",
            "\n",
            "    accuracy                           0.78       630\n",
            "   macro avg       0.95      0.35      0.42       630\n",
            "weighted avg       0.83      0.78      0.72       630\n",
            "\n"
          ]
        }
      ]
    },
    {
      "cell_type": "markdown",
      "source": [
        "## Ejercicio:\n",
        "\n",
        "Prueba con los siguientes algoritmos:\n",
        "- Logistic Regression. Probar con distintos parámetros:\n",
        "    - penalty': ['l1', 'l2']\n",
        "    - C: [1.0, 0.5]\n",
        "    - solver: ['liblinear']\n",
        "- RandomForestClassifier. Probar con distintos parámetros:\n",
        "    - criterion: ['gini', 'entropy'],\n",
        "    - max_depth: [9, 10],\n",
        "    - min_samples_split': [10]\n",
        "\n",
        "¿Cuál es el mejor enfoque?\n"
      ],
      "metadata": {
        "id": "uybb3AA3Wr6I"
      }
    }
  ]
}
