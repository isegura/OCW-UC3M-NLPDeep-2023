{
  "nbformat": 4,
  "nbformat_minor": 0,
  "metadata": {
    "colab": {
      "provenance": []
    },
    "kernelspec": {
      "display_name": "Python 3",
      "name": "python3"
    },
    "language_info": {
      "name": "python"
    }
  },
  "cells": [
    {
      "cell_type": "markdown",
      "metadata": {
        "id": "x_LPLzLoD5lw"
      },
      "source": [
        "# ¿Cómo entrenar un modelo de word embeddings?\n",
        "\n",
        "En este notebook, aprenderemos a construir un modelo de word embeddings a partir de una colección de textos. Para ello, utilizaremos la librería [Gensim](#https://radimrehurek.com/gensim/).\n",
        "\n",
        "El primer paso será instalar esta librería. En algunos casos, tendrás que reinicir el entorno de ejecución. \n",
        "\n",
        "**Nota:** Hay un problemas de incompatibilidad de versiones entre la versión de numpy (numpy-1.22.4) que usa gensim, y la versión actual de numpy instalada en Google Colab (numpy 1.24.1). Por esa razón, debemos desinstalar gensim, y volver a instalar gensim, para forzar a que se copia la versión antigua de numpy. Además, tendrás que reiniciar.\n",
        "\n"
      ]
    },
    {
      "cell_type": "code",
      "metadata": {
        "id": "neA-Mq4gJyIV",
        "colab": {
          "base_uri": "https://localhost:8080/",
          "height": 643
        },
        "outputId": "0a3046d3-0586-40ee-e5f9-51f91f061f07"
      },
      "source": [
        "!pip uninstall gensim\n",
        "!pip install gensim\n",
        "\n"
      ],
      "execution_count": null,
      "outputs": [
        {
          "output_type": "stream",
          "name": "stdout",
          "text": [
            "Found existing installation: gensim 4.3.0\n",
            "Uninstalling gensim-4.3.0:\n",
            "  Would remove:\n",
            "    /usr/local/lib/python3.8/dist-packages/gensim-4.3.0.dist-info/*\n",
            "    /usr/local/lib/python3.8/dist-packages/gensim/*\n",
            "Proceed (Y/n)? Y\n",
            "  Successfully uninstalled gensim-4.3.0\n",
            "Looking in indexes: https://pypi.org/simple, https://us-python.pkg.dev/colab-wheels/public/simple/\n",
            "Collecting gensim\n",
            "  Using cached gensim-4.3.0-cp38-cp38-manylinux_2_12_x86_64.manylinux2010_x86_64.whl (24.1 MB)\n",
            "Requirement already satisfied: FuzzyTM>=0.4.0 in /usr/local/lib/python3.8/dist-packages (from gensim) (2.0.5)\n",
            "Requirement already satisfied: smart-open>=1.8.1 in /usr/local/lib/python3.8/dist-packages (from gensim) (6.3.0)\n",
            "Requirement already satisfied: numpy>=1.18.5 in /usr/local/lib/python3.8/dist-packages (from gensim) (1.22.4)\n",
            "Requirement already satisfied: scipy>=1.7.0 in /usr/local/lib/python3.8/dist-packages (from gensim) (1.7.3)\n",
            "Requirement already satisfied: pandas in /usr/local/lib/python3.8/dist-packages (from FuzzyTM>=0.4.0->gensim) (1.3.5)\n",
            "Requirement already satisfied: pyfume in /usr/local/lib/python3.8/dist-packages (from FuzzyTM>=0.4.0->gensim) (0.2.25)\n",
            "Requirement already satisfied: pytz>=2017.3 in /usr/local/lib/python3.8/dist-packages (from pandas->FuzzyTM>=0.4.0->gensim) (2022.7)\n",
            "Requirement already satisfied: python-dateutil>=2.7.3 in /usr/local/lib/python3.8/dist-packages (from pandas->FuzzyTM>=0.4.0->gensim) (2.8.2)\n",
            "Requirement already satisfied: fst-pso in /usr/local/lib/python3.8/dist-packages (from pyfume->FuzzyTM>=0.4.0->gensim) (1.8.1)\n",
            "Requirement already satisfied: simpful in /usr/local/lib/python3.8/dist-packages (from pyfume->FuzzyTM>=0.4.0->gensim) (2.9.0)\n",
            "Requirement already satisfied: six>=1.5 in /usr/local/lib/python3.8/dist-packages (from python-dateutil>=2.7.3->pandas->FuzzyTM>=0.4.0->gensim) (1.15.0)\n",
            "Requirement already satisfied: miniful in /usr/local/lib/python3.8/dist-packages (from fst-pso->pyfume->FuzzyTM>=0.4.0->gensim) (0.0.6)\n",
            "Requirement already satisfied: requests in /usr/local/lib/python3.8/dist-packages (from simpful->pyfume->FuzzyTM>=0.4.0->gensim) (2.25.1)\n",
            "Requirement already satisfied: urllib3<1.27,>=1.21.1 in /usr/local/lib/python3.8/dist-packages (from requests->simpful->pyfume->FuzzyTM>=0.4.0->gensim) (1.24.3)\n",
            "Requirement already satisfied: certifi>=2017.4.17 in /usr/local/lib/python3.8/dist-packages (from requests->simpful->pyfume->FuzzyTM>=0.4.0->gensim) (2022.12.7)\n",
            "Requirement already satisfied: idna<3,>=2.5 in /usr/local/lib/python3.8/dist-packages (from requests->simpful->pyfume->FuzzyTM>=0.4.0->gensim) (2.10)\n",
            "Requirement already satisfied: chardet<5,>=3.0.2 in /usr/local/lib/python3.8/dist-packages (from requests->simpful->pyfume->FuzzyTM>=0.4.0->gensim) (4.0.0)\n",
            "Installing collected packages: gensim\n",
            "Successfully installed gensim-4.3.0\n"
          ]
        },
        {
          "output_type": "display_data",
          "data": {
            "application/vnd.colab-display-data+json": {
              "pip_warning": {
                "packages": [
                  "gensim"
                ]
              }
            }
          },
          "metadata": {}
        }
      ]
    },
    {
      "cell_type": "markdown",
      "metadata": {
        "id": "h_XPCfcIKBxF"
      },
      "source": [
        "Para entrenar un modelo de word embeddings necesitaríamos una gran colección de textos (por ejemplo, todos los textos de wikipedia). El proceso podría tardar horas. \n",
        "\n",
        "A modo de ejemplo, en este notebook, únicamente utilizaremos un conjunto de oraciones. \n",
        "\n",
        "El modelo necesita como entrada que los textos sean tokenizados. Podríamos utlizar el método split de str, pero como ya conocemos librerías como Spacky o nltk, utilizaremos una de ellas que nos proporcionan una tokenización más correcta que la obtenida con split(): "
      ]
    },
    {
      "cell_type": "code",
      "metadata": {
        "colab": {
          "base_uri": "https://localhost:8080/"
        },
        "id": "gOTyx1fhKLF4",
        "outputId": "6826355a-064b-42e9-ec07-cbd939fe228d"
      },
      "source": [
        "import spacy\n",
        "nlp = spacy.load(\"en_core_web_sm\")\n",
        "\n",
        "# esta es nuestra colección de textos que usaremos para entrenar el modelo de \n",
        "# word embeddings\n",
        "texts=[\"Billy always listens to his mother\", \n",
        "       \"He always does what she says\", \n",
        "       \"If his mother says, 'Brush your teeth' Billy brushes his teeth\", \n",
        "       \"If his mother says, 'Go to bed' Billy goes to bed\", \n",
        "       \"Billy is a very good boy\", \n",
        "       \"A good boy listens to his mother\"] \n",
        "\n",
        "def tokenization(texts):\n",
        "    \"\"\"gets a list of sentences and returns a list of lists of tokens\"\"\"\n",
        "    sequences_of_tokens=[]\n",
        "    for text in texts: \n",
        "        doc = nlp(text)\n",
        "        tokens=[]\n",
        "        for token in doc:\n",
        "            tokens.append(token.text.lower())\n",
        "        sequences_of_tokens.append(tokens)\n",
        "    \n",
        "    return sequences_of_tokens\n",
        "\n",
        "\n",
        "sequences=tokenization(texts)\n",
        "print(sequences)\n"
      ],
      "execution_count": null,
      "outputs": [
        {
          "output_type": "stream",
          "name": "stderr",
          "text": [
            "/usr/local/lib/python3.8/dist-packages/torch/cuda/__init__.py:497: UserWarning: Can't initialize NVML\n",
            "  warnings.warn(\"Can't initialize NVML\")\n"
          ]
        },
        {
          "output_type": "stream",
          "name": "stdout",
          "text": [
            "[['billy', 'always', 'listens', 'to', 'his', 'mother'], ['he', 'always', 'does', 'what', 'she', 'says'], ['if', 'his', 'mother', 'says', ',', \"'\", 'brush', 'your', 'teeth', \"'\", 'billy', 'brushes', 'his', 'teeth'], ['if', 'his', 'mother', 'says', ',', \"'\", 'go', 'to', 'bed', \"'\", 'billy', 'goes', 'to', 'bed'], ['billy', 'is', 'a', 'very', 'good', 'boy'], ['a', 'good', 'boy', 'listens', 'to', 'his', 'mother']]\n"
          ]
        }
      ]
    },
    {
      "cell_type": "markdown",
      "source": [
        "Una vez que tenemos la colección de textos tokenizados, ya podemos entrenar el modelo. Como hemos dicho antes, utilizaremos la librería Gensim, y en particular, su paquete Word2Vec:"
      ],
      "metadata": {
        "id": "pjPuRZtE91YB"
      }
    },
    {
      "cell_type": "code",
      "metadata": {
        "colab": {
          "base_uri": "https://localhost:8080/"
        },
        "id": "e1NFZ0MsLmhq",
        "outputId": "da1bb686-621c-42f9-cb74-63898361f53f"
      },
      "source": [
        "from gensim.models import Word2Vec\n",
        "\n",
        "# min_count: ignorar todas las palabras que aparezcan menos de dos veces.\n",
        "# vector_size: la dimensión de los vectores\n",
        "model = Word2Vec(sequences, vector_size=10, min_count=2, epochs=100) #min_count=2, ignore all words with a frequency < 2\n",
        "\n",
        "# devuelve un diccionario, donde cada palabra tiene asociado un vector\n",
        "word_vectors = model.wv\n",
        "print(model)"
      ],
      "execution_count": null,
      "outputs": [
        {
          "output_type": "stream",
          "name": "stdout",
          "text": [
            "Word2Vec<vocab=15, vector_size=10, alpha=0.025>\n"
          ]
        }
      ]
    },
    {
      "cell_type": "code",
      "metadata": {
        "id": "YVr-IPpnQHvo",
        "colab": {
          "base_uri": "https://localhost:8080/"
        },
        "outputId": "6fac064b-9a9f-4a47-88d3-023938775c32"
      },
      "source": [
        "vector = word_vectors['mother']  # numpy vector of a word\n",
        "print(vector.shape)\n",
        "print(vector)"
      ],
      "execution_count": null,
      "outputs": [
        {
          "output_type": "stream",
          "name": "stdout",
          "text": [
            "(10,)\n",
            "[ 0.07275508  0.05213695  0.07103128  0.01267101  0.06508178 -0.03744158\n",
            " -0.00079871  0.06797002 -0.08599492 -0.0421496 ]\n"
          ]
        }
      ]
    },
    {
      "cell_type": "code",
      "metadata": {
        "id": "rmWTD3jxVgH7",
        "colab": {
          "base_uri": "https://localhost:8080/"
        },
        "outputId": "991e59ce-2251-43bb-c667-a784de8d3cf6"
      },
      "source": [
        "word_vectors.most_similar('mother')\n"
      ],
      "execution_count": null,
      "outputs": [
        {
          "output_type": "execute_result",
          "data": {
            "text/plain": [
              "[('teeth', 0.5320941805839539),\n",
              " ('good', 0.4433230459690094),\n",
              " (\"'\", 0.42452216148376465),\n",
              " ('his', 0.4015263020992279),\n",
              " ('if', 0.327894389629364),\n",
              " (',', 0.06807553768157959),\n",
              " ('bed', 0.06263464689254761),\n",
              " ('boy', 0.00275197415612638),\n",
              " ('a', -0.02174053154885769),\n",
              " ('listens', -0.04804342985153198)]"
            ]
          },
          "metadata": {},
          "execution_count": 12
        }
      ]
    },
    {
      "cell_type": "markdown",
      "source": [
        "Recuerda que también podemos utilizar el método **similar_by_word**:"
      ],
      "metadata": {
        "id": "MsQ0FV21Cf_Q"
      }
    },
    {
      "cell_type": "code",
      "metadata": {
        "id": "UVoiUSGAQaHz",
        "colab": {
          "base_uri": "https://localhost:8080/"
        },
        "outputId": "e595c4ab-2481-49c1-ca7c-b9d05ba46499"
      },
      "source": [
        "result = word_vectors.similar_by_word(\"mother\") #cat\n",
        "for r in result:\n",
        "    print(r)\n",
        "\n",
        "#most_similar_key, similarity = result[0]  # look at the first match\n",
        "#print(f\"{most_similar_key}: {similarity:.4f}\")"
      ],
      "execution_count": null,
      "outputs": [
        {
          "output_type": "stream",
          "name": "stdout",
          "text": [
            "('teeth', 0.5320941805839539)\n",
            "('good', 0.4433230459690094)\n",
            "(\"'\", 0.42452216148376465)\n",
            "('his', 0.4015263020992279)\n",
            "('if', 0.327894389629364)\n",
            "(',', 0.06807553768157959)\n",
            "('bed', 0.06263464689254761)\n",
            "('boy', 0.00275197415612638)\n",
            "('a', -0.02174053154885769)\n",
            "('listens', -0.04804342985153198)\n"
          ]
        }
      ]
    },
    {
      "cell_type": "markdown",
      "source": [
        "En la siguiente celda, como la palabra 'sister' no existe en el vocabulario que se ha creado a partir de las ocho oraciones, el código lanza una excepción"
      ],
      "metadata": {
        "id": "cGikbEQnCD71"
      }
    },
    {
      "cell_type": "code",
      "source": [
        "word_vectors.most_similar('sister')\n"
      ],
      "metadata": {
        "id": "7YTXuuJyCBWM"
      },
      "execution_count": null,
      "outputs": []
    },
    {
      "cell_type": "markdown",
      "metadata": {
        "id": "dLVIRR5jNaxR"
      },
      "source": [
        "Podemos guardar el modelo en local:"
      ]
    },
    {
      "cell_type": "code",
      "metadata": {
        "id": "phi3HfcbNaGk",
        "colab": {
          "base_uri": "https://localhost:8080/"
        },
        "outputId": "848db5d9-f558-4a9d-c397-22f4b0a2e57f"
      },
      "source": [
        "from gensim.models import KeyedVectors\n",
        "word_vectors.save('model.bin')\n",
        "my_model = KeyedVectors.load('model.bin')\n",
        "print(\"vector:\", my_model['mother'])\n"
      ],
      "execution_count": null,
      "outputs": [
        {
          "output_type": "stream",
          "name": "stdout",
          "text": [
            "vector: [ 0.07275508  0.05213695  0.07103128  0.01267101  0.06508178 -0.03744158\n",
            " -0.00079871  0.06797002 -0.08599492 -0.0421496 ]\n"
          ]
        }
      ]
    },
    {
      "cell_type": "markdown",
      "source": [
        "La siguiente función nos permite representar el espacio de los vectores de las palabras:"
      ],
      "metadata": {
        "id": "ekt3UjOdM9sF"
      }
    },
    {
      "cell_type": "code",
      "metadata": {
        "id": "dPkBgMFjYa3V",
        "colab": {
          "base_uri": "https://localhost:8080/",
          "height": 710
        },
        "outputId": "6dc09970-d2f1-42cc-a255-967af4b3fcf3"
      },
      "source": [
        "from sklearn.manifold import TSNE\n",
        "import matplotlib.pyplot as plt\n",
        "\n",
        "def tsne_plot(word_vectors):\n",
        "    \"Create TSNE model and plot it\"\n",
        "    labels = []\n",
        "    tokens = []\n",
        "\n",
        "    words=list(word_vectors.index_to_key)\n",
        "    for word in words:\n",
        "        tokens.append(word_vectors[word])\n",
        "        labels.append(word)\n",
        "    \n",
        "    tsne_model = TSNE(perplexity=40, n_components=2, init='pca', n_iter=2500, random_state=23)\n",
        "    new_values = tsne_model.fit_transform(tokens)\n",
        "\n",
        "    x = []\n",
        "    y = []\n",
        "    for value in new_values:\n",
        "        x.append(value[0])\n",
        "        y.append(value[1])\n",
        "        \n",
        "    plt.figure(figsize=(18, 18)) \n",
        "    for i in range(len(x)):\n",
        "        plt.scatter(x[i],y[i])\n",
        "        plt.annotate(labels[i],\n",
        "                     xy=(x[i], y[i]),\n",
        "                     xytext=(5, 2),\n",
        "                     textcoords='offset points',\n",
        "                     ha='right',\n",
        "                     va='bottom')\n",
        "    plt.show()\n",
        "   \n",
        "tsne_plot(word_vectors)"
      ],
      "execution_count": null,
      "outputs": [
        {
          "output_type": "stream",
          "name": "stderr",
          "text": [
            "/usr/local/lib/python3.8/dist-packages/sklearn/manifold/_t_sne.py:790: FutureWarning: The default learning rate in TSNE will change from 200.0 to 'auto' in 1.2.\n",
            "  warnings.warn(\n",
            "/usr/local/lib/python3.8/dist-packages/sklearn/manifold/_t_sne.py:982: FutureWarning: The PCA initialization in TSNE will change to have the standard deviation of PC1 equal to 1e-4 in 1.2. This will ensure better convergence.\n",
            "  warnings.warn(\n"
          ]
        },
        {
          "output_type": "display_data",
          "data": {
            "text/plain": [
              "<Figure size 1296x1296 with 1 Axes>"
            ],
            "image/png": "[encoded data removed]"
          },
          "metadata": {
            "needs_background": "light"
          }
        }
      ]
    },
    {
      "cell_type": "markdown",
      "source": [
        "## Ejercicio\n",
        "\n",
        "Entrena un modelo de word embeddings utilizando los textos del dataset sobre sarcamo (disponible en aula global). La dimensión de los vectores debe ser 50. \n",
        "\n",
        "Si lo deseas, también puedes utilizar otros datasets. Recuerda que cuanto mayor sea el número de textos, mejor será la calidad de nuestros vectores."
      ],
      "metadata": {
        "id": "y7FL72dcNPwW"
      }
    },
    {
      "cell_type": "code",
      "source": [],
      "metadata": {
        "id": "Qxe2A9d7Hj22"
      },
      "execution_count": null,
      "outputs": []
    }
  ]
}