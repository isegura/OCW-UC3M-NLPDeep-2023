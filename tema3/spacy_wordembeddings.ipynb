{
  "nbformat": 4,
  "nbformat_minor": 0,
  "metadata": {
    "colab": {
      "provenance": []
    },
    "kernelspec": {
      "name": "python3",
      "display_name": "Python 3"
    }
  },
  "cells": [
    {
      "cell_type": "markdown",
      "metadata": {
        "id": "eGrlDTZC4rzv"
      },
      "source": [
        "# Cómo utilizar los vectores de palabras (word embedings) de Spacy. \n",
        "\n",
        "Spacy incluye diferentes modelos de vectores de palabras (https://spacy.io/usage/vectors-similarity). Entre ellos, los modelos con sufijo '_lg' incluye vectores de palabras que nos van a permitir obtener la similitud entre palabras y documentos. \n",
        "\n",
        "El primer paso es descargar el modelo. Tendrás que reiniciar el entorno de ejecución (En el menú Runtime > Restart runtime).\n",
        "\n",
        "\n"
      ]
    },
    {
      "cell_type": "code",
      "metadata": {
        "id": "9AFgePrj_o_0",
        "outputId": "9acafdca-e9b6-45b5-f444-366cc7fa1cbc",
        "colab": {
          "base_uri": "https://localhost:8080/"
        }
      },
      "source": [
        "!python -m spacy download en_core_web_lg"
      ],
      "execution_count": 14,
      "outputs": [
        {
          "output_type": "stream",
          "name": "stdout",
          "text": [
            "/usr/local/lib/python3.8/dist-packages/torch/cuda/__init__.py:497: UserWarning: Can't initialize NVML\n",
            "  warnings.warn(\"Can't initialize NVML\")\n",
            "2023-01-30 17:12:23.864335: E tensorflow/stream_executor/cuda/cuda_driver.cc:271] failed call to cuInit: CUDA_ERROR_NO_DEVICE: no CUDA-capable device is detected\n",
            "Looking in indexes: https://pypi.org/simple, https://us-python.pkg.dev/colab-wheels/public/simple/\n",
            "Collecting en-core-web-lg==3.4.1\n",
            "  Downloading https://github.com/explosion/spacy-models/releases/download/en_core_web_lg-3.4.1/en_core_web_lg-3.4.1-py3-none-any.whl (587.7 MB)\n",
            "\u001b[2K     \u001b[90m━━━━━━━━━━━━━━━━━━━━━━━━━━━━━━━━━━━━━━━\u001b[0m \u001b[32m587.7/587.7 MB\u001b[0m \u001b[31m2.2 MB/s\u001b[0m eta \u001b[36m0:00:00\u001b[0m\n",
            "\u001b[?25hRequirement already satisfied: spacy<3.5.0,>=3.4.0 in /usr/local/lib/python3.8/dist-packages (from en-core-web-lg==3.4.1) (3.4.4)\n",
            "Requirement already satisfied: cymem<2.1.0,>=2.0.2 in /usr/local/lib/python3.8/dist-packages (from spacy<3.5.0,>=3.4.0->en-core-web-lg==3.4.1) (2.0.7)\n",
            "Requirement already satisfied: wasabi<1.1.0,>=0.9.1 in /usr/local/lib/python3.8/dist-packages (from spacy<3.5.0,>=3.4.0->en-core-web-lg==3.4.1) (0.10.1)\n",
            "Requirement already satisfied: spacy-legacy<3.1.0,>=3.0.10 in /usr/local/lib/python3.8/dist-packages (from spacy<3.5.0,>=3.4.0->en-core-web-lg==3.4.1) (3.0.11)\n",
            "Requirement already satisfied: setuptools in /usr/local/lib/python3.8/dist-packages (from spacy<3.5.0,>=3.4.0->en-core-web-lg==3.4.1) (57.4.0)\n",
            "Requirement already satisfied: jinja2 in /usr/local/lib/python3.8/dist-packages (from spacy<3.5.0,>=3.4.0->en-core-web-lg==3.4.1) (2.11.3)\n",
            "Requirement already satisfied: srsly<3.0.0,>=2.4.3 in /usr/local/lib/python3.8/dist-packages (from spacy<3.5.0,>=3.4.0->en-core-web-lg==3.4.1) (2.4.5)\n",
            "Requirement already satisfied: pathy>=0.3.5 in /usr/local/lib/python3.8/dist-packages (from spacy<3.5.0,>=3.4.0->en-core-web-lg==3.4.1) (0.10.1)\n",
            "Requirement already satisfied: spacy-loggers<2.0.0,>=1.0.0 in /usr/local/lib/python3.8/dist-packages (from spacy<3.5.0,>=3.4.0->en-core-web-lg==3.4.1) (1.0.4)\n",
            "Requirement already satisfied: langcodes<4.0.0,>=3.2.0 in /usr/local/lib/python3.8/dist-packages (from spacy<3.5.0,>=3.4.0->en-core-web-lg==3.4.1) (3.3.0)\n",
            "Requirement already satisfied: typer<0.8.0,>=0.3.0 in /usr/local/lib/python3.8/dist-packages (from spacy<3.5.0,>=3.4.0->en-core-web-lg==3.4.1) (0.7.0)\n",
            "Requirement already satisfied: pydantic!=1.8,!=1.8.1,<1.11.0,>=1.7.4 in /usr/local/lib/python3.8/dist-packages (from spacy<3.5.0,>=3.4.0->en-core-web-lg==3.4.1) (1.10.4)\n",
            "Requirement already satisfied: numpy>=1.15.0 in /usr/local/lib/python3.8/dist-packages (from spacy<3.5.0,>=3.4.0->en-core-web-lg==3.4.1) (1.21.6)\n",
            "Requirement already satisfied: catalogue<2.1.0,>=2.0.6 in /usr/local/lib/python3.8/dist-packages (from spacy<3.5.0,>=3.4.0->en-core-web-lg==3.4.1) (2.0.8)\n",
            "Requirement already satisfied: tqdm<5.0.0,>=4.38.0 in /usr/local/lib/python3.8/dist-packages (from spacy<3.5.0,>=3.4.0->en-core-web-lg==3.4.1) (4.64.1)\n",
            "Requirement already satisfied: smart-open<7.0.0,>=5.2.1 in /usr/local/lib/python3.8/dist-packages (from spacy<3.5.0,>=3.4.0->en-core-web-lg==3.4.1) (6.3.0)\n",
            "Requirement already satisfied: thinc<8.2.0,>=8.1.0 in /usr/local/lib/python3.8/dist-packages (from spacy<3.5.0,>=3.4.0->en-core-web-lg==3.4.1) (8.1.6)\n",
            "Requirement already satisfied: murmurhash<1.1.0,>=0.28.0 in /usr/local/lib/python3.8/dist-packages (from spacy<3.5.0,>=3.4.0->en-core-web-lg==3.4.1) (1.0.9)\n",
            "Requirement already satisfied: preshed<3.1.0,>=3.0.2 in /usr/local/lib/python3.8/dist-packages (from spacy<3.5.0,>=3.4.0->en-core-web-lg==3.4.1) (3.0.8)\n",
            "Requirement already satisfied: requests<3.0.0,>=2.13.0 in /usr/local/lib/python3.8/dist-packages (from spacy<3.5.0,>=3.4.0->en-core-web-lg==3.4.1) (2.25.1)\n",
            "Requirement already satisfied: packaging>=20.0 in /usr/local/lib/python3.8/dist-packages (from spacy<3.5.0,>=3.4.0->en-core-web-lg==3.4.1) (21.3)\n",
            "Requirement already satisfied: pyparsing!=3.0.5,>=2.0.2 in /usr/local/lib/python3.8/dist-packages (from packaging>=20.0->spacy<3.5.0,>=3.4.0->en-core-web-lg==3.4.1) (3.0.9)\n",
            "Requirement already satisfied: typing-extensions>=4.2.0 in /usr/local/lib/python3.8/dist-packages (from pydantic!=1.8,!=1.8.1,<1.11.0,>=1.7.4->spacy<3.5.0,>=3.4.0->en-core-web-lg==3.4.1) (4.4.0)\n",
            "Requirement already satisfied: idna<3,>=2.5 in /usr/local/lib/python3.8/dist-packages (from requests<3.0.0,>=2.13.0->spacy<3.5.0,>=3.4.0->en-core-web-lg==3.4.1) (2.10)\n",
            "Requirement already satisfied: urllib3<1.27,>=1.21.1 in /usr/local/lib/python3.8/dist-packages (from requests<3.0.0,>=2.13.0->spacy<3.5.0,>=3.4.0->en-core-web-lg==3.4.1) (1.24.3)\n",
            "Requirement already satisfied: certifi>=2017.4.17 in /usr/local/lib/python3.8/dist-packages (from requests<3.0.0,>=2.13.0->spacy<3.5.0,>=3.4.0->en-core-web-lg==3.4.1) (2022.12.7)\n",
            "Requirement already satisfied: chardet<5,>=3.0.2 in /usr/local/lib/python3.8/dist-packages (from requests<3.0.0,>=2.13.0->spacy<3.5.0,>=3.4.0->en-core-web-lg==3.4.1) (4.0.0)\n",
            "Requirement already satisfied: confection<1.0.0,>=0.0.1 in /usr/local/lib/python3.8/dist-packages (from thinc<8.2.0,>=8.1.0->spacy<3.5.0,>=3.4.0->en-core-web-lg==3.4.1) (0.0.3)\n",
            "Requirement already satisfied: blis<0.8.0,>=0.7.8 in /usr/local/lib/python3.8/dist-packages (from thinc<8.2.0,>=8.1.0->spacy<3.5.0,>=3.4.0->en-core-web-lg==3.4.1) (0.7.9)\n",
            "Requirement already satisfied: click<9.0.0,>=7.1.1 in /usr/local/lib/python3.8/dist-packages (from typer<0.8.0,>=0.3.0->spacy<3.5.0,>=3.4.0->en-core-web-lg==3.4.1) (7.1.2)\n",
            "Requirement already satisfied: MarkupSafe>=0.23 in /usr/local/lib/python3.8/dist-packages (from jinja2->spacy<3.5.0,>=3.4.0->en-core-web-lg==3.4.1) (2.0.1)\n",
            "\u001b[38;5;2m✔ Download and installation successful\u001b[0m\n",
            "You can now load the package via spacy.load('en_core_web_lg')\n"
          ]
        }
      ]
    },
    {
      "cell_type": "markdown",
      "metadata": {
        "id": "FnRCjngTmwsH"
      },
      "source": [
        "Ahora vamos a crear un objeto cargando ese modelo, y vamos a analizar una secuencia de palabras. Para cada palabra vamos a recuperar los siguiente atributos:\n",
        "- text: el texto del token.\n",
        "- has_vector: nos informa si el token cuenta con un vector.\n",
        "- vector_norm: nos devuelve la norma del vector (la raíz cuadrada de la suma de los cuadrados de sus componentes).\n",
        "- is_oov: es True si la palabra forma parte del vocabulario y False en otro caso. \n",
        "\n",
        "Mira que atributos muestra cada palabra en la secuencia:"
      ]
    },
    {
      "cell_type": "code",
      "metadata": {
        "id": "yN1HwyN6lsP1",
        "outputId": "ad7820c9-82a4-4b6a-93d5-1cb2f4beb6bd",
        "colab": {
          "base_uri": "https://localhost:8080/"
        }
      },
      "source": [
        "import spacy\n",
        "\n",
        "nlp = spacy.load(\"en_core_web_lg\")\n",
        "tokens = nlp(\"horse cow apple orange iansdiufnas\")\n",
        "\n",
        "for token in tokens:\n",
        "    print(token.text, token.has_vector, token.vector_norm, token.is_oov)"
      ],
      "execution_count": 21,
      "outputs": [
        {
          "output_type": "stream",
          "name": "stdout",
          "text": [
            "horse True 46.892216 False\n",
            "cow True 54.67789 False\n",
            "apple True 43.366478 False\n",
            "orange True 38.471573 False\n",
            "iansdiufnas False 0.0 True\n"
          ]
        }
      ]
    },
    {
      "cell_type": "markdown",
      "metadata": {
        "id": "FWLeUoWNsmEo"
      },
      "source": [
        "You can also access to the word vector using the .vector attribute of each token:"
      ]
    },
    {
      "cell_type": "code",
      "metadata": {
        "id": "11jCzhqZshRz",
        "colab": {
          "base_uri": "https://localhost:8080/"
        },
        "outputId": "a31d341c-28d6-40fc-96bb-bfe78cb0f447"
      },
      "source": [
        "token1=tokens[0]\n",
        "print(token1.vector)"
      ],
      "execution_count": 22,
      "outputs": [
        {
          "output_type": "stream",
          "name": "stdout",
          "text": [
            "[ 0.64303   0.77474  -3.0145   -1.1485    1.4978    0.69403  -0.08648\n",
            "  7.9744    1.0765    4.0077    3.7039   -0.05152  -1.1523    3.8192\n",
            "  2.0791    0.17663   5.1429   -1.0672    2.1802   -3.1451   -2.7753\n",
            "  2.0465    3.7391   -6.9302    1.6819   -0.11232  -2.9267   -0.22154\n",
            "  1.0612    0.79061  -1.1144    0.19591  -1.4913   -3.4074    1.6202\n",
            " -1.4298   -0.52047   4.8791   -1.0442   -2.3247   -0.13873   2.0687\n",
            "  5.1688    3.8267   -3.3838   -1.517    -2.4958   -1.0546    0.62907\n",
            "  1.5875    2.6928    5.1874    1.493     0.55656  -0.69242  -2.6394\n",
            "  1.34     -2.0892    2.619     2.2504   -3.9171   -6.7628    2.1034\n",
            "  2.4107    2.4431    0.041677 -0.64522  -2.9572   -1.1394    0.20984\n",
            "  0.93855   1.6479   -1.3632    0.49943   2.482    -1.0086    1.2374\n",
            "  2.4374   -2.7413    1.2011   -3.8423    3.2397   -1.0295    1.4107\n",
            "  0.60999  -0.38193   3.6324    0.28095  -4.2943    1.3377   -1.7533\n",
            " -5.4283    2.7186   -3.3175    1.6948   -4.7825   -1.9384    1.9937\n",
            " -0.97536  -0.8333    2.7006   -2.7455    2.8348    0.30658   1.9594\n",
            "  1.1343   -4.1164    1.6569    0.98633  -1.0429   -5.3286   -0.20597\n",
            "  2.9881    3.9726    0.023254  1.6702   -2.9685   -2.5093    4.4737\n",
            "  0.43505  -1.0643   -0.82092  -5.6325    0.92963  -3.7522   -1.6108\n",
            " -0.91881  -2.3563    6.8512    2.2216    4.6501   -0.55526   3.7816\n",
            "  0.88682   0.96263   0.53106   1.2941    3.4908   -1.9096    1.7744\n",
            " -6.5499   -5.7557    1.4213   -5.2878   -2.7651    3.9708    0.34894\n",
            "  1.0055   -3.8784    2.3306   -0.067545  0.39659  -0.62049  -0.64429\n",
            "  1.0263   -3.5672    1.2248   -0.23751  -1.091    -0.19368  -0.096056\n",
            " -0.97506  -1.6837   -1.3049   -4.9714    0.7707   -5.496     5.4084\n",
            "  1.0162    0.25447   2.2719    0.48385   1.2195    1.0613    3.2724\n",
            " -2.6961   -2.7662   -2.7694   -2.559    -1.0964   -0.77432  -1.686\n",
            "  0.23493   0.5036   -3.4238   -1.1825    1.2042   -3.7764   -0.33743\n",
            " -2.8984    2.8347    3.1967    1.7835   -1.829     1.4039   -4.1956\n",
            " -2.1507    3.2501   -0.23487   1.5081   -0.14556   2.9404   -0.82186\n",
            " -2.7488   -2.5516   -0.70433   2.5391   -3.9836    0.1082    3.5397\n",
            " -1.6199    4.776     2.778     0.21934  -4.1693    3.4315    0.54995\n",
            "  0.84977  -1.981    -2.2243   -3.5686   -3.4121   -1.1005    3.483\n",
            " -2.1289    1.5845    0.8755    3.3645    4.2018    0.018525 -2.2069\n",
            " -3.0318   -1.3844    3.3198   -2.1732    1.281    -2.4239    2.8935\n",
            " -1.3704    1.5541    1.8365   -0.37264   4.3577   -3.7482   -3.7102\n",
            " -3.0222   -0.28319   4.3384   -0.47883  -2.6816   -0.40907   3.0356\n",
            " -3.9312   -0.47051  -5.4065    0.92546  -1.7007    1.9081    1.0045\n",
            "  0.67888   2.9254   -1.4124   -1.4324   -1.0616    2.6163   -0.40185\n",
            " -5.0941   -2.4428   -5.3156    6.3783    3.6161   -3.0365   -1.495\n",
            "  0.76797   0.67741  -1.3196   -2.8202    2.6639   -0.99419   4.0252\n",
            "  4.4169   -1.1294    6.7514    1.5254    2.8836   -1.9755   -3.5424\n",
            "  1.4637   -2.8173   -0.075141 -1.2331    1.4171    1.2367    1.6797\n",
            " -3.2898   -0.33404   0.63008   3.4478   -7.0259    0.29184 ]\n"
          ]
        }
      ]
    },
    {
      "cell_type": "markdown",
      "metadata": {
        "id": "ywqcIKk3mco5"
      },
      "source": [
        "Spacy nos proporciona un método para calcular la similaridad entre dos tokens. El método también se puedes aplicar a objetos de tipo document y Span ()."
      ]
    },
    {
      "cell_type": "code",
      "metadata": {
        "id": "6VYVucCXEWsb",
        "outputId": "d3cacf2e-de9a-4c0f-d920-28d5c6d3455f",
        "colab": {
          "base_uri": "https://localhost:8080/"
        }
      },
      "source": [
        "token1=tokens[0]#horse\n",
        "for token in tokens[1:]:\n",
        "    print(token1,token,token1.similarity(token))\n"
      ],
      "execution_count": 17,
      "outputs": [
        {
          "output_type": "stream",
          "name": "stdout",
          "text": [
            "horse cow 0.5475298762321472\n",
            "horse apple 0.19814327359199524\n",
            "horse orange 0.19781306385993958\n",
            "horse iansdiufnas 0.0\n"
          ]
        },
        {
          "output_type": "stream",
          "name": "stderr",
          "text": [
            "<ipython-input-17-99495c1ac253>:3: UserWarning: [W008] Evaluating Token.similarity based on empty vectors.\n",
            "  print(token1,token,token1.similarity(token))\n"
          ]
        }
      ]
    },
    {
      "cell_type": "markdown",
      "metadata": {
        "id": "v5hP9d7zn_PO"
      },
      "source": [
        "También podemos comparar dos oraciones. El método siempre va a devolver un valor entre 0 y 1, donde los valores cercanos a 1 significa que ambas oraciones tienen un significado similar, mientras que los valores a 0 indican que no tienen un significado similar. "
      ]
    },
    {
      "cell_type": "code",
      "metadata": {
        "id": "d6b9N0IgtXM0",
        "colab": {
          "base_uri": "https://localhost:8080/"
        },
        "outputId": "8de16cad-653b-481f-84bc-39d03c64a276"
      },
      "source": [
        "doc1 = nlp(\"How can I uninstall the application?\")\n",
        "doc2 = nlp(\"How can I find true love?\")\n",
        "doc1.similarity(doc2)"
      ],
      "execution_count": 18,
      "outputs": [
        {
          "output_type": "execute_result",
          "data": {
            "text/plain": [
              "0.8370712993197219"
            ]
          },
          "metadata": {},
          "execution_count": 18
        }
      ]
    },
    {
      "cell_type": "markdown",
      "metadata": {
        "id": "UG4ETYcotorj"
      },
      "source": [
        "En el anterior ejemplo, el resultado es bastante alto (0.83) aunque las oraciones no tienen el mismo significado. Esto es debido a que ambas oraciones comparten el principiio de la oración (“How can I”). Si eliminamos ese comienzo, la similitud baja.\n"
      ]
    },
    {
      "cell_type": "code",
      "metadata": {
        "id": "px7Mstw1uCq4",
        "colab": {
          "base_uri": "https://localhost:8080/"
        },
        "outputId": "1f7428d3-a829-479a-fef3-c53ba6c13007"
      },
      "source": [
        "doc1 = nlp(\"uninstall the application\")\n",
        "doc2 = nlp(\"find true lovet\")\n",
        "doc1.similarity(doc2)"
      ],
      "execution_count": 19,
      "outputs": [
        {
          "output_type": "execute_result",
          "data": {
            "text/plain": [
              "0.21691564807033714"
            ]
          },
          "metadata": {},
          "execution_count": 19
        }
      ]
    },
    {
      "cell_type": "code",
      "source": [
        "doc1 = nlp(\"uninstall the application\")\n",
        "doc2 = nlp(\"remove the software\")\n",
        "doc1.similarity(doc2)"
      ],
      "metadata": {
        "colab": {
          "base_uri": "https://localhost:8080/"
        },
        "id": "TkBamWDfo7A4",
        "outputId": "0b1ede89-4c52-49f5-b9a6-b395a8ef02ca"
      },
      "execution_count": 20,
      "outputs": [
        {
          "output_type": "execute_result",
          "data": {
            "text/plain": [
              "0.9160291599882977"
            ]
          },
          "metadata": {},
          "execution_count": 20
        }
      ]
    },
    {
      "cell_type": "markdown",
      "source": [
        "## Conclusión:\n",
        "Spacy incluye diferentes modelos con vectores de palabras. Estos vectores de palabras pueden ser utilizados para representar documentos. Además, gracias el método similarity, Spacy nos proporciona el nivel de similitud entre palabras y entre documentos de una forma sencilla. "
      ],
      "metadata": {
        "id": "Jjh3xoXzpIzw"
      }
    }
  ]
}