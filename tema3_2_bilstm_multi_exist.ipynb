{
  "cells": [
    {
      "cell_type": "markdown",
      "metadata": {
        "id": "view-in-github",
        "colab_type": "text"
      },
      "source": [
        "<a href=\"https://colab.research.google.com/github/isegura/OCW-UC3M-NLPDeep-2023/blob/main/tema3_2_bilstm_multi_exist.ipynb\" target=\"_parent\"><img src=\"https://colab.research.google.com/assets/colab-badge.svg\" alt=\"Open In Colab\"/></a>"
      ]
    },
    {
      "cell_type": "markdown",
      "metadata": {
        "id": "aQr9dRLTmI_u"
      },
      "source": [
        "<center>\n",
        "<img src=\"https://upload.wikimedia.org/wikipedia/commons/4/47/Acronimo_y_nombre_uc3m.png\" width=50%/>\n",
        "\n",
        "<h1><font color='#12007a'>Procesamiento de Lenguaje Natural con Aprendizaje Profundo</font></h1>\n",
        "<p>Autora: Isabel Segura Bedmar</p>\n",
        "\n",
        "<img align='right' src=\"https://mirrors.creativecommons.org/presskit/buttons/88x31/png/by-nc-sa.png\" width=15%/>\n",
        "</center>      "
      ]
    },
    {
      "cell_type": "markdown",
      "metadata": {
        "id": "Bv2Hbhm0lC8r"
      },
      "source": [
        "# 2.2: BiLSTM aplicado a la multi-clasificación de mensajes sexistas.\n",
        "\n",
        "En un ejercicio anterior, aplicamos el modelo CNN a la multi-clasificación binaria de mensajes sexistas. En este nuevo ejercicio, el objetivo  es entrenar y evaluar un modelo BiLSTM para resolver la misma tarea.\n",
        "\n",
        "El dataset a utilizar es la colección de textos proporcionada por los organizadores de la tareas EXIST 2021. Este dataset puede solicitarse para usos en investigación en el siguiente [link](#http://nlp.uned.es/exist2021/).\n",
        "\n",
        "\n",
        "La tarea EXIST proponía dos tareas: i) clasificación binaria para distinguir entre mensajes sexistas y o no sexistas, y ii) multi-clasificación para clasificar los mensajes sexistas en alguna de las siguientes clases:\n",
        "\n",
        "- IDEOLOGICAL AND INEQUALITY: \"I think the whole equality thing is getting out of hand. We are different, thats how were made!\"\n",
        "- STEREOTYPING AND DOMINANCE: \"Most women no longer have the desire or the knowledge to develop a high quality character, even if they wanted to.”\n",
        "- OBJECTIFICATION: \"Pareces una puta con ese pantalón\"\n",
        "- SEXUAL VIOLENCE: \"Estas 4 no han conseguido su objetivo.El juez estima que se abrieron de patas\"\n",
        "- MISOGYNY AND NON-SEXUAL VIOLENCE: \"Las mujeres de hoy en dia te enseñar a querer… estar soltero\".\n",
        "\n",
        "Para ver una descripción más detallada de estas clases, visita este este [link](#http://nlp.uned.es/exist2021/).\n",
        "\n",
        "\n",
        "\n",
        "**NOTA PARA PODER EJECUTAR ESTE NOTEBOOK**:\n",
        "\n",
        "1) Para poder ejercutar correctamente este notebook, deberás abrirlo en tu Google Drive (por ejemplo, en la carpeta 'Colab Notebooks').\n",
        "\n",
        "2) Además, debes guardar el dataset en tu Google Drive, dentro de carpeta 'Colab Notebooks/data/exist2021/'.\n",
        "\n"
      ]
    },
    {
      "cell_type": "markdown",
      "metadata": {
        "id": "m2vZpV7_lkE6"
      },
      "source": [
        "## Cargar el dataset\n",
        "\n",
        "Lo primero que debes hacer es cargar el dataset. Como hemos comentado antes, recuerda que para que puedas ejecutar este notebook, deberás haber descargado los ficheros del dataset y haberlos almacenados en tu carpeta 'Colab Notebooks/data/exist2021/' dentro de tu Gooogle Drive.\n",
        "\n"
      ]
    },
    {
      "cell_type": "code",
      "execution_count": 1,
      "metadata": {
        "colab": {
          "base_uri": "https://localhost:8080/"
        },
        "id": "J5Q1u9f3ljUu",
        "outputId": "7ecd1d26-2bef-45a8-8170-9db98c9c0b57"
      },
      "outputs": [
        {
          "output_type": "stream",
          "name": "stdout",
          "text": [
            "Mounted at /content/drive\n"
          ]
        }
      ],
      "source": [
        "from google.colab import drive\n",
        "# monta tu unidad de google drive\n",
        "drive.mount('/content/drive')\n",
        "\n",
        "# cambiamos el directorio de trabajo a la carpeta donde está almacenado el dataset\n",
        "import os\n",
        "os.chdir('/content/drive/My Drive/Colab Notebooks/data/exist2021/')"
      ]
    },
    {
      "cell_type": "markdown",
      "metadata": {
        "id": "eqCLmDvhk8Cz"
      },
      "source": [
        "Cargamos los conjuntos de datos de training y evaluación en dos objetos dataframes de pandas:"
      ]
    },
    {
      "cell_type": "code",
      "execution_count": 2,
      "metadata": {
        "colab": {
          "base_uri": "https://localhost:8080/",
          "height": 415
        },
        "id": "Vy_wu_ahqGPT",
        "outputId": "1d411e9d-d206-4514-b8ab-75679ee69f01"
      },
      "outputs": [
        {
          "output_type": "stream",
          "name": "stdout",
          "text": [
            "tamaño training: (6977, 7)\n",
            "tamaño test: (4368, 7)\n"
          ]
        },
        {
          "output_type": "execute_result",
          "data": {
            "text/plain": [
              "   test_case  id   source language  \\\n",
              "0  EXIST2021   1  twitter       en   \n",
              "1  EXIST2021   2  twitter       en   \n",
              "2  EXIST2021   3  twitter       en   \n",
              "3  EXIST2021   4  twitter       en   \n",
              "4  EXIST2021   5  twitter       en   \n",
              "\n",
              "                                                text       task1  \\\n",
              "0  She calls herself \"anti-feminazi\" how about sh...      sexist   \n",
              "1  Now, back to these women, the brave and the be...  non-sexist   \n",
              "2  @CurvyBandida @Xalynne_B Wow, your skirt is ve...      sexist   \n",
              "3  @AurelieGuiboud Incredible!  Beautiful!But I l...  non-sexist   \n",
              "4  i find it extremely hard to believe that kelly...  non-sexist   \n",
              "\n",
              "                    task2  \n",
              "0  ideological-inequality  \n",
              "1              non-sexist  \n",
              "2         objectification  \n",
              "3              non-sexist  \n",
              "4              non-sexist  "
            ],
            "text/html": [
              "\n",
              "  <div id=\"df-d79252bc-6b21-4eb0-ac1f-7c7bd1c9f64a\" class=\"colab-df-container\">\n",
              "    <div>\n",
              "<style scoped>\n",
              "    .dataframe tbody tr th:only-of-type {\n",
              "        vertical-align: middle;\n",
              "    }\n",
              "\n",
              "    .dataframe tbody tr th {\n",
              "        vertical-align: top;\n",
              "    }\n",
              "\n",
              "    .dataframe thead th {\n",
              "        text-align: right;\n",
              "    }\n",
              "</style>\n",
              "<table border=\"1\" class=\"dataframe\">\n",
              "  <thead>\n",
              "    <tr style=\"text-align: right;\">\n",
              "      <th></th>\n",
              "      <th>test_case</th>\n",
              "      <th>id</th>\n",
              "      <th>source</th>\n",
              "      <th>language</th>\n",
              "      <th>text</th>\n",
              "      <th>task1</th>\n",
              "      <th>task2</th>\n",
              "    </tr>\n",
              "  </thead>\n",
              "  <tbody>\n",
              "    <tr>\n",
              "      <th>0</th>\n",
              "      <td>EXIST2021</td>\n",
              "      <td>1</td>\n",
              "      <td>twitter</td>\n",
              "      <td>en</td>\n",
              "      <td>She calls herself \"anti-feminazi\" how about sh...</td>\n",
              "      <td>sexist</td>\n",
              "      <td>ideological-inequality</td>\n",
              "    </tr>\n",
              "    <tr>\n",
              "      <th>1</th>\n",
              "      <td>EXIST2021</td>\n",
              "      <td>2</td>\n",
              "      <td>twitter</td>\n",
              "      <td>en</td>\n",
              "      <td>Now, back to these women, the brave and the be...</td>\n",
              "      <td>non-sexist</td>\n",
              "      <td>non-sexist</td>\n",
              "    </tr>\n",
              "    <tr>\n",
              "      <th>2</th>\n",
              "      <td>EXIST2021</td>\n",
              "      <td>3</td>\n",
              "      <td>twitter</td>\n",
              "      <td>en</td>\n",
              "      <td>@CurvyBandida @Xalynne_B Wow, your skirt is ve...</td>\n",
              "      <td>sexist</td>\n",
              "      <td>objectification</td>\n",
              "    </tr>\n",
              "    <tr>\n",
              "      <th>3</th>\n",
              "      <td>EXIST2021</td>\n",
              "      <td>4</td>\n",
              "      <td>twitter</td>\n",
              "      <td>en</td>\n",
              "      <td>@AurelieGuiboud Incredible!  Beautiful!But I l...</td>\n",
              "      <td>non-sexist</td>\n",
              "      <td>non-sexist</td>\n",
              "    </tr>\n",
              "    <tr>\n",
              "      <th>4</th>\n",
              "      <td>EXIST2021</td>\n",
              "      <td>5</td>\n",
              "      <td>twitter</td>\n",
              "      <td>en</td>\n",
              "      <td>i find it extremely hard to believe that kelly...</td>\n",
              "      <td>non-sexist</td>\n",
              "      <td>non-sexist</td>\n",
              "    </tr>\n",
              "  </tbody>\n",
              "</table>\n",
              "</div>\n",
              "    <div class=\"colab-df-buttons\">\n",
              "\n",
              "  <div class=\"colab-df-container\">\n",
              "    <button class=\"colab-df-convert\" onclick=\"convertToInteractive('df-d79252bc-6b21-4eb0-ac1f-7c7bd1c9f64a')\"\n",
              "            title=\"Convert this dataframe to an interactive table.\"\n",
              "            style=\"display:none;\">\n",
              "\n",
              "  <svg xmlns=\"http://www.w3.org/2000/svg\" height=\"24px\" viewBox=\"0 -960 960 960\">\n",
              "    <path d=\"M120-120v-720h720v720H120Zm60-500h600v-160H180v160Zm220 220h160v-160H400v160Zm0 220h160v-160H400v160ZM180-400h160v-160H180v160Zm440 0h160v-160H620v160ZM180-180h160v-160H180v160Zm440 0h160v-160H620v160Z\"/>\n",
              "  </svg>\n",
              "    </button>\n",
              "\n",
              "  <style>\n",
              "    .colab-df-container {\n",
              "      display:flex;\n",
              "      gap: 12px;\n",
              "    }\n",
              "\n",
              "    .colab-df-convert {\n",
              "      background-color: #E8F0FE;\n",
              "      border: none;\n",
              "      border-radius: 50%;\n",
              "      cursor: pointer;\n",
              "      display: none;\n",
              "      fill: #1967D2;\n",
              "      height: 32px;\n",
              "      padding: 0 0 0 0;\n",
              "      width: 32px;\n",
              "    }\n",
              "\n",
              "    .colab-df-convert:hover {\n",
              "      background-color: #E2EBFA;\n",
              "      box-shadow: 0px 1px 2px rgba(60, 64, 67, 0.3), 0px 1px 3px 1px rgba(60, 64, 67, 0.15);\n",
              "      fill: #174EA6;\n",
              "    }\n",
              "\n",
              "    .colab-df-buttons div {\n",
              "      margin-bottom: 4px;\n",
              "    }\n",
              "\n",
              "    [theme=dark] .colab-df-convert {\n",
              "      background-color: #3B4455;\n",
              "      fill: #D2E3FC;\n",
              "    }\n",
              "\n",
              "    [theme=dark] .colab-df-convert:hover {\n",
              "      background-color: #434B5C;\n",
              "      box-shadow: 0px 1px 3px 1px rgba(0, 0, 0, 0.15);\n",
              "      filter: drop-shadow(0px 1px 2px rgba(0, 0, 0, 0.3));\n",
              "      fill: #FFFFFF;\n",
              "    }\n",
              "  </style>\n",
              "\n",
              "    <script>\n",
              "      const buttonEl =\n",
              "        document.querySelector('#df-d79252bc-6b21-4eb0-ac1f-7c7bd1c9f64a button.colab-df-convert');\n",
              "      buttonEl.style.display =\n",
              "        google.colab.kernel.accessAllowed ? 'block' : 'none';\n",
              "\n",
              "      async function convertToInteractive(key) {\n",
              "        const element = document.querySelector('#df-d79252bc-6b21-4eb0-ac1f-7c7bd1c9f64a');\n",
              "        const dataTable =\n",
              "          await google.colab.kernel.invokeFunction('convertToInteractive',\n",
              "                                                    [key], {});\n",
              "        if (!dataTable) return;\n",
              "\n",
              "        const docLinkHtml = 'Like what you see? Visit the ' +\n",
              "          '<a target=\"_blank\" href=https://colab.research.google.com/notebooks/data_table.ipynb>data table notebook</a>'\n",
              "          + ' to learn more about interactive tables.';\n",
              "        element.innerHTML = '';\n",
              "        dataTable['output_type'] = 'display_data';\n",
              "        await google.colab.output.renderOutput(dataTable, element);\n",
              "        const docLink = document.createElement('div');\n",
              "        docLink.innerHTML = docLinkHtml;\n",
              "        element.appendChild(docLink);\n",
              "      }\n",
              "    </script>\n",
              "  </div>\n",
              "\n",
              "\n",
              "<div id=\"df-34b11a9d-4ea9-4e78-8162-11a51e81be16\">\n",
              "  <button class=\"colab-df-quickchart\" onclick=\"quickchart('df-34b11a9d-4ea9-4e78-8162-11a51e81be16')\"\n",
              "            title=\"Suggest charts.\"\n",
              "            style=\"display:none;\">\n",
              "\n",
              "<svg xmlns=\"http://www.w3.org/2000/svg\" height=\"24px\"viewBox=\"0 0 24 24\"\n",
              "     width=\"24px\">\n",
              "    <g>\n",
              "        <path d=\"M19 3H5c-1.1 0-2 .9-2 2v14c0 1.1.9 2 2 2h14c1.1 0 2-.9 2-2V5c0-1.1-.9-2-2-2zM9 17H7v-7h2v7zm4 0h-2V7h2v10zm4 0h-2v-4h2v4z\"/>\n",
              "    </g>\n",
              "</svg>\n",
              "  </button>\n",
              "\n",
              "<style>\n",
              "  .colab-df-quickchart {\n",
              "      --bg-color: #E8F0FE;\n",
              "      --fill-color: #1967D2;\n",
              "      --hover-bg-color: #E2EBFA;\n",
              "      --hover-fill-color: #174EA6;\n",
              "      --disabled-fill-color: #AAA;\n",
              "      --disabled-bg-color: #DDD;\n",
              "  }\n",
              "\n",
              "  [theme=dark] .colab-df-quickchart {\n",
              "      --bg-color: #3B4455;\n",
              "      --fill-color: #D2E3FC;\n",
              "      --hover-bg-color: #434B5C;\n",
              "      --hover-fill-color: #FFFFFF;\n",
              "      --disabled-bg-color: #3B4455;\n",
              "      --disabled-fill-color: #666;\n",
              "  }\n",
              "\n",
              "  .colab-df-quickchart {\n",
              "    background-color: var(--bg-color);\n",
              "    border: none;\n",
              "    border-radius: 50%;\n",
              "    cursor: pointer;\n",
              "    display: none;\n",
              "    fill: var(--fill-color);\n",
              "    height: 32px;\n",
              "    padding: 0;\n",
              "    width: 32px;\n",
              "  }\n",
              "\n",
              "  .colab-df-quickchart:hover {\n",
              "    background-color: var(--hover-bg-color);\n",
              "    box-shadow: 0 1px 2px rgba(60, 64, 67, 0.3), 0 1px 3px 1px rgba(60, 64, 67, 0.15);\n",
              "    fill: var(--button-hover-fill-color);\n",
              "  }\n",
              "\n",
              "  .colab-df-quickchart-complete:disabled,\n",
              "  .colab-df-quickchart-complete:disabled:hover {\n",
              "    background-color: var(--disabled-bg-color);\n",
              "    fill: var(--disabled-fill-color);\n",
              "    box-shadow: none;\n",
              "  }\n",
              "\n",
              "  .colab-df-spinner {\n",
              "    border: 2px solid var(--fill-color);\n",
              "    border-color: transparent;\n",
              "    border-bottom-color: var(--fill-color);\n",
              "    animation:\n",
              "      spin 1s steps(1) infinite;\n",
              "  }\n",
              "\n",
              "  @keyframes spin {\n",
              "    0% {\n",
              "      border-color: transparent;\n",
              "      border-bottom-color: var(--fill-color);\n",
              "      border-left-color: var(--fill-color);\n",
              "    }\n",
              "    20% {\n",
              "      border-color: transparent;\n",
              "      border-left-color: var(--fill-color);\n",
              "      border-top-color: var(--fill-color);\n",
              "    }\n",
              "    30% {\n",
              "      border-color: transparent;\n",
              "      border-left-color: var(--fill-color);\n",
              "      border-top-color: var(--fill-color);\n",
              "      border-right-color: var(--fill-color);\n",
              "    }\n",
              "    40% {\n",
              "      border-color: transparent;\n",
              "      border-right-color: var(--fill-color);\n",
              "      border-top-color: var(--fill-color);\n",
              "    }\n",
              "    60% {\n",
              "      border-color: transparent;\n",
              "      border-right-color: var(--fill-color);\n",
              "    }\n",
              "    80% {\n",
              "      border-color: transparent;\n",
              "      border-right-color: var(--fill-color);\n",
              "      border-bottom-color: var(--fill-color);\n",
              "    }\n",
              "    90% {\n",
              "      border-color: transparent;\n",
              "      border-bottom-color: var(--fill-color);\n",
              "    }\n",
              "  }\n",
              "</style>\n",
              "\n",
              "  <script>\n",
              "    async function quickchart(key) {\n",
              "      const quickchartButtonEl =\n",
              "        document.querySelector('#' + key + ' button');\n",
              "      quickchartButtonEl.disabled = true;  // To prevent multiple clicks.\n",
              "      quickchartButtonEl.classList.add('colab-df-spinner');\n",
              "      try {\n",
              "        const charts = await google.colab.kernel.invokeFunction(\n",
              "            'suggestCharts', [key], {});\n",
              "      } catch (error) {\n",
              "        console.error('Error during call to suggestCharts:', error);\n",
              "      }\n",
              "      quickchartButtonEl.classList.remove('colab-df-spinner');\n",
              "      quickchartButtonEl.classList.add('colab-df-quickchart-complete');\n",
              "    }\n",
              "    (() => {\n",
              "      let quickchartButtonEl =\n",
              "        document.querySelector('#df-34b11a9d-4ea9-4e78-8162-11a51e81be16 button');\n",
              "      quickchartButtonEl.style.display =\n",
              "        google.colab.kernel.accessAllowed ? 'block' : 'none';\n",
              "    })();\n",
              "  </script>\n",
              "</div>\n",
              "    </div>\n",
              "  </div>\n"
            ]
          },
          "metadata": {},
          "execution_count": 2
        }
      ],
      "source": [
        "import pandas as pd\n",
        "\n",
        "df_train = pd.read_csv(\"train.tsv\",  sep='\\t')\n",
        "df_test = pd.read_csv(\"test.tsv\",  sep='\\t')\n",
        "\n",
        "print('tamaño training:', df_train.shape)\n",
        "print('tamaño test:', df_test.shape)\n",
        "\n",
        "# mostramos los primeros registros del training:\n",
        "df_train.head()"
      ]
    },
    {
      "cell_type": "markdown",
      "source": [
        "El dataset es multilingüe, vamos a quedarnos únicamente con los textos en inglés:"
      ],
      "metadata": {
        "id": "zxaC_JZ5oj8B"
      }
    },
    {
      "cell_type": "code",
      "source": [
        "df_train=df_train[df_train['language']=='en']\n",
        "df_test=df_test[df_test['language']=='en']\n",
        "print('tamaño training:', df_train.shape)\n",
        "print('tamaño test:', df_test.shape)\n"
      ],
      "metadata": {
        "colab": {
          "base_uri": "https://localhost:8080/"
        },
        "id": "agVzVcfropBP",
        "outputId": "2c68f353-2f31-4d76-bf3b-2343b2439ab4"
      },
      "execution_count": 3,
      "outputs": [
        {
          "output_type": "stream",
          "name": "stdout",
          "text": [
            "tamaño training: (3436, 7)\n",
            "tamaño test: (2208, 7)\n"
          ]
        }
      ]
    },
    {
      "cell_type": "markdown",
      "source": [
        "En esta tarea, nuestro objetivo es clasificar los mensajes sexistas en las cinco categorías anteriormente definidas. Los mensajes no sexistas no van a ser clasificados y por ese motivo, vamos a eliminarlos, o visto de otra forma, únicamente conservaremos los mensajes clasificados como sexistas en la tarea 1 (task1):"
      ],
      "metadata": {
        "id": "ZxhfNCTMooup"
      }
    },
    {
      "cell_type": "code",
      "source": [
        "df_train = df_train[df_train['task1'] == 'sexist']\n",
        "df_test = df_test[df_test['task1'] == 'sexist']\n",
        "\n",
        "print('tamaño training:', df_train.shape)\n",
        "print('tamaño test:', df_test.shape)\n",
        "\n",
        "df_train.head()"
      ],
      "metadata": {
        "colab": {
          "base_uri": "https://localhost:8080/",
          "height": 470
        },
        "id": "aw6KSckUoxRv",
        "outputId": "08d2da24-57a5-4d6b-a027-96f7a4f5e10f"
      },
      "execution_count": 4,
      "outputs": [
        {
          "output_type": "stream",
          "name": "stdout",
          "text": [
            "tamaño training: (1636, 7)\n",
            "tamaño test: (1158, 7)\n"
          ]
        },
        {
          "output_type": "execute_result",
          "data": {
            "text/plain": [
              "    test_case  id   source language  \\\n",
              "0   EXIST2021   1  twitter       en   \n",
              "2   EXIST2021   3  twitter       en   \n",
              "5   EXIST2021   6  twitter       en   \n",
              "10  EXIST2021  11  twitter       en   \n",
              "15  EXIST2021  16  twitter       en   \n",
              "\n",
              "                                                 text   task1  \\\n",
              "0   She calls herself \"anti-feminazi\" how about sh...  sexist   \n",
              "2   @CurvyBandida @Xalynne_B Wow, your skirt is ve...  sexist   \n",
              "5   @Smithcouple971 Hello....m raj....m with good ...  sexist   \n",
              "10  @hapyshoper79 @Dis_Critic @MairiJCam @cazadams...  sexist   \n",
              "15  @Ponderer_O_Purg @BynameRose @GameOverRos @nat...  sexist   \n",
              "\n",
              "                     task2  \n",
              "0   ideological-inequality  \n",
              "2          objectification  \n",
              "5          sexual-violence  \n",
              "10  ideological-inequality  \n",
              "15  ideological-inequality  "
            ],
            "text/html": [
              "\n",
              "  <div id=\"df-6454ba87-614b-42f4-9d09-e166037aefc4\" class=\"colab-df-container\">\n",
              "    <div>\n",
              "<style scoped>\n",
              "    .dataframe tbody tr th:only-of-type {\n",
              "        vertical-align: middle;\n",
              "    }\n",
              "\n",
              "    .dataframe tbody tr th {\n",
              "        vertical-align: top;\n",
              "    }\n",
              "\n",
              "    .dataframe thead th {\n",
              "        text-align: right;\n",
              "    }\n",
              "</style>\n",
              "<table border=\"1\" class=\"dataframe\">\n",
              "  <thead>\n",
              "    <tr style=\"text-align: right;\">\n",
              "      <th></th>\n",
              "      <th>test_case</th>\n",
              "      <th>id</th>\n",
              "      <th>source</th>\n",
              "      <th>language</th>\n",
              "      <th>text</th>\n",
              "      <th>task1</th>\n",
              "      <th>task2</th>\n",
              "    </tr>\n",
              "  </thead>\n",
              "  <tbody>\n",
              "    <tr>\n",
              "      <th>0</th>\n",
              "      <td>EXIST2021</td>\n",
              "      <td>1</td>\n",
              "      <td>twitter</td>\n",
              "      <td>en</td>\n",
              "      <td>She calls herself \"anti-feminazi\" how about sh...</td>\n",
              "      <td>sexist</td>\n",
              "      <td>ideological-inequality</td>\n",
              "    </tr>\n",
              "    <tr>\n",
              "      <th>2</th>\n",
              "      <td>EXIST2021</td>\n",
              "      <td>3</td>\n",
              "      <td>twitter</td>\n",
              "      <td>en</td>\n",
              "      <td>@CurvyBandida @Xalynne_B Wow, your skirt is ve...</td>\n",
              "      <td>sexist</td>\n",
              "      <td>objectification</td>\n",
              "    </tr>\n",
              "    <tr>\n",
              "      <th>5</th>\n",
              "      <td>EXIST2021</td>\n",
              "      <td>6</td>\n",
              "      <td>twitter</td>\n",
              "      <td>en</td>\n",
              "      <td>@Smithcouple971 Hello....m raj....m with good ...</td>\n",
              "      <td>sexist</td>\n",
              "      <td>sexual-violence</td>\n",
              "    </tr>\n",
              "    <tr>\n",
              "      <th>10</th>\n",
              "      <td>EXIST2021</td>\n",
              "      <td>11</td>\n",
              "      <td>twitter</td>\n",
              "      <td>en</td>\n",
              "      <td>@hapyshoper79 @Dis_Critic @MairiJCam @cazadams...</td>\n",
              "      <td>sexist</td>\n",
              "      <td>ideological-inequality</td>\n",
              "    </tr>\n",
              "    <tr>\n",
              "      <th>15</th>\n",
              "      <td>EXIST2021</td>\n",
              "      <td>16</td>\n",
              "      <td>twitter</td>\n",
              "      <td>en</td>\n",
              "      <td>@Ponderer_O_Purg @BynameRose @GameOverRos @nat...</td>\n",
              "      <td>sexist</td>\n",
              "      <td>ideological-inequality</td>\n",
              "    </tr>\n",
              "  </tbody>\n",
              "</table>\n",
              "</div>\n",
              "    <div class=\"colab-df-buttons\">\n",
              "\n",
              "  <div class=\"colab-df-container\">\n",
              "    <button class=\"colab-df-convert\" onclick=\"convertToInteractive('df-6454ba87-614b-42f4-9d09-e166037aefc4')\"\n",
              "            title=\"Convert this dataframe to an interactive table.\"\n",
              "            style=\"display:none;\">\n",
              "\n",
              "  <svg xmlns=\"http://www.w3.org/2000/svg\" height=\"24px\" viewBox=\"0 -960 960 960\">\n",
              "    <path d=\"M120-120v-720h720v720H120Zm60-500h600v-160H180v160Zm220 220h160v-160H400v160Zm0 220h160v-160H400v160ZM180-400h160v-160H180v160Zm440 0h160v-160H620v160ZM180-180h160v-160H180v160Zm440 0h160v-160H620v160Z\"/>\n",
              "  </svg>\n",
              "    </button>\n",
              "\n",
              "  <style>\n",
              "    .colab-df-container {\n",
              "      display:flex;\n",
              "      gap: 12px;\n",
              "    }\n",
              "\n",
              "    .colab-df-convert {\n",
              "      background-color: #E8F0FE;\n",
              "      border: none;\n",
              "      border-radius: 50%;\n",
              "      cursor: pointer;\n",
              "      display: none;\n",
              "      fill: #1967D2;\n",
              "      height: 32px;\n",
              "      padding: 0 0 0 0;\n",
              "      width: 32px;\n",
              "    }\n",
              "\n",
              "    .colab-df-convert:hover {\n",
              "      background-color: #E2EBFA;\n",
              "      box-shadow: 0px 1px 2px rgba(60, 64, 67, 0.3), 0px 1px 3px 1px rgba(60, 64, 67, 0.15);\n",
              "      fill: #174EA6;\n",
              "    }\n",
              "\n",
              "    .colab-df-buttons div {\n",
              "      margin-bottom: 4px;\n",
              "    }\n",
              "\n",
              "    [theme=dark] .colab-df-convert {\n",
              "      background-color: #3B4455;\n",
              "      fill: #D2E3FC;\n",
              "    }\n",
              "\n",
              "    [theme=dark] .colab-df-convert:hover {\n",
              "      background-color: #434B5C;\n",
              "      box-shadow: 0px 1px 3px 1px rgba(0, 0, 0, 0.15);\n",
              "      filter: drop-shadow(0px 1px 2px rgba(0, 0, 0, 0.3));\n",
              "      fill: #FFFFFF;\n",
              "    }\n",
              "  </style>\n",
              "\n",
              "    <script>\n",
              "      const buttonEl =\n",
              "        document.querySelector('#df-6454ba87-614b-42f4-9d09-e166037aefc4 button.colab-df-convert');\n",
              "      buttonEl.style.display =\n",
              "        google.colab.kernel.accessAllowed ? 'block' : 'none';\n",
              "\n",
              "      async function convertToInteractive(key) {\n",
              "        const element = document.querySelector('#df-6454ba87-614b-42f4-9d09-e166037aefc4');\n",
              "        const dataTable =\n",
              "          await google.colab.kernel.invokeFunction('convertToInteractive',\n",
              "                                                    [key], {});\n",
              "        if (!dataTable) return;\n",
              "\n",
              "        const docLinkHtml = 'Like what you see? Visit the ' +\n",
              "          '<a target=\"_blank\" href=https://colab.research.google.com/notebooks/data_table.ipynb>data table notebook</a>'\n",
              "          + ' to learn more about interactive tables.';\n",
              "        element.innerHTML = '';\n",
              "        dataTable['output_type'] = 'display_data';\n",
              "        await google.colab.output.renderOutput(dataTable, element);\n",
              "        const docLink = document.createElement('div');\n",
              "        docLink.innerHTML = docLinkHtml;\n",
              "        element.appendChild(docLink);\n",
              "      }\n",
              "    </script>\n",
              "  </div>\n",
              "\n",
              "\n",
              "<div id=\"df-84664d94-fcee-45e4-a69e-40ad5cb1f75e\">\n",
              "  <button class=\"colab-df-quickchart\" onclick=\"quickchart('df-84664d94-fcee-45e4-a69e-40ad5cb1f75e')\"\n",
              "            title=\"Suggest charts.\"\n",
              "            style=\"display:none;\">\n",
              "\n",
              "<svg xmlns=\"http://www.w3.org/2000/svg\" height=\"24px\"viewBox=\"0 0 24 24\"\n",
              "     width=\"24px\">\n",
              "    <g>\n",
              "        <path d=\"M19 3H5c-1.1 0-2 .9-2 2v14c0 1.1.9 2 2 2h14c1.1 0 2-.9 2-2V5c0-1.1-.9-2-2-2zM9 17H7v-7h2v7zm4 0h-2V7h2v10zm4 0h-2v-4h2v4z\"/>\n",
              "    </g>\n",
              "</svg>\n",
              "  </button>\n",
              "\n",
              "<style>\n",
              "  .colab-df-quickchart {\n",
              "      --bg-color: #E8F0FE;\n",
              "      --fill-color: #1967D2;\n",
              "      --hover-bg-color: #E2EBFA;\n",
              "      --hover-fill-color: #174EA6;\n",
              "      --disabled-fill-color: #AAA;\n",
              "      --disabled-bg-color: #DDD;\n",
              "  }\n",
              "\n",
              "  [theme=dark] .colab-df-quickchart {\n",
              "      --bg-color: #3B4455;\n",
              "      --fill-color: #D2E3FC;\n",
              "      --hover-bg-color: #434B5C;\n",
              "      --hover-fill-color: #FFFFFF;\n",
              "      --disabled-bg-color: #3B4455;\n",
              "      --disabled-fill-color: #666;\n",
              "  }\n",
              "\n",
              "  .colab-df-quickchart {\n",
              "    background-color: var(--bg-color);\n",
              "    border: none;\n",
              "    border-radius: 50%;\n",
              "    cursor: pointer;\n",
              "    display: none;\n",
              "    fill: var(--fill-color);\n",
              "    height: 32px;\n",
              "    padding: 0;\n",
              "    width: 32px;\n",
              "  }\n",
              "\n",
              "  .colab-df-quickchart:hover {\n",
              "    background-color: var(--hover-bg-color);\n",
              "    box-shadow: 0 1px 2px rgba(60, 64, 67, 0.3), 0 1px 3px 1px rgba(60, 64, 67, 0.15);\n",
              "    fill: var(--button-hover-fill-color);\n",
              "  }\n",
              "\n",
              "  .colab-df-quickchart-complete:disabled,\n",
              "  .colab-df-quickchart-complete:disabled:hover {\n",
              "    background-color: var(--disabled-bg-color);\n",
              "    fill: var(--disabled-fill-color);\n",
              "    box-shadow: none;\n",
              "  }\n",
              "\n",
              "  .colab-df-spinner {\n",
              "    border: 2px solid var(--fill-color);\n",
              "    border-color: transparent;\n",
              "    border-bottom-color: var(--fill-color);\n",
              "    animation:\n",
              "      spin 1s steps(1) infinite;\n",
              "  }\n",
              "\n",
              "  @keyframes spin {\n",
              "    0% {\n",
              "      border-color: transparent;\n",
              "      border-bottom-color: var(--fill-color);\n",
              "      border-left-color: var(--fill-color);\n",
              "    }\n",
              "    20% {\n",
              "      border-color: transparent;\n",
              "      border-left-color: var(--fill-color);\n",
              "      border-top-color: var(--fill-color);\n",
              "    }\n",
              "    30% {\n",
              "      border-color: transparent;\n",
              "      border-left-color: var(--fill-color);\n",
              "      border-top-color: var(--fill-color);\n",
              "      border-right-color: var(--fill-color);\n",
              "    }\n",
              "    40% {\n",
              "      border-color: transparent;\n",
              "      border-right-color: var(--fill-color);\n",
              "      border-top-color: var(--fill-color);\n",
              "    }\n",
              "    60% {\n",
              "      border-color: transparent;\n",
              "      border-right-color: var(--fill-color);\n",
              "    }\n",
              "    80% {\n",
              "      border-color: transparent;\n",
              "      border-right-color: var(--fill-color);\n",
              "      border-bottom-color: var(--fill-color);\n",
              "    }\n",
              "    90% {\n",
              "      border-color: transparent;\n",
              "      border-bottom-color: var(--fill-color);\n",
              "    }\n",
              "  }\n",
              "</style>\n",
              "\n",
              "  <script>\n",
              "    async function quickchart(key) {\n",
              "      const quickchartButtonEl =\n",
              "        document.querySelector('#' + key + ' button');\n",
              "      quickchartButtonEl.disabled = true;  // To prevent multiple clicks.\n",
              "      quickchartButtonEl.classList.add('colab-df-spinner');\n",
              "      try {\n",
              "        const charts = await google.colab.kernel.invokeFunction(\n",
              "            'suggestCharts', [key], {});\n",
              "      } catch (error) {\n",
              "        console.error('Error during call to suggestCharts:', error);\n",
              "      }\n",
              "      quickchartButtonEl.classList.remove('colab-df-spinner');\n",
              "      quickchartButtonEl.classList.add('colab-df-quickchart-complete');\n",
              "    }\n",
              "    (() => {\n",
              "      let quickchartButtonEl =\n",
              "        document.querySelector('#df-84664d94-fcee-45e4-a69e-40ad5cb1f75e button');\n",
              "      quickchartButtonEl.style.display =\n",
              "        google.colab.kernel.accessAllowed ? 'block' : 'none';\n",
              "    })();\n",
              "  </script>\n",
              "</div>\n",
              "    </div>\n",
              "  </div>\n"
            ]
          },
          "metadata": {},
          "execution_count": 4
        }
      ]
    },
    {
      "cell_type": "markdown",
      "metadata": {
        "id": "MKma9AAxDy6F"
      },
      "source": [
        "En este ejercicio, sólo vamos a usar **text** y **task2**:\n"
      ]
    },
    {
      "cell_type": "code",
      "execution_count": 5,
      "metadata": {
        "colab": {
          "base_uri": "https://localhost:8080/",
          "height": 276
        },
        "id": "8QTuQ1t8E3cY",
        "outputId": "5405100e-b946-417b-df54-2c7f31e195ac"
      },
      "outputs": [
        {
          "output_type": "execute_result",
          "data": {
            "text/plain": [
              "   language                                               text  \\\n",
              "0        en  She calls herself \"anti-feminazi\" how about sh...   \n",
              "2        en  @CurvyBandida @Xalynne_B Wow, your skirt is ve...   \n",
              "5        en  @Smithcouple971 Hello....m raj....m with good ...   \n",
              "10       en  @hapyshoper79 @Dis_Critic @MairiJCam @cazadams...   \n",
              "15       en  @Ponderer_O_Purg @BynameRose @GameOverRos @nat...   \n",
              "\n",
              "                     label  \n",
              "0   ideological-inequality  \n",
              "2          objectification  \n",
              "5          sexual-violence  \n",
              "10  ideological-inequality  \n",
              "15  ideological-inequality  "
            ],
            "text/html": [
              "\n",
              "  <div id=\"df-8e480cc8-d0e5-4e0b-8dd0-c26fbe7f1b81\" class=\"colab-df-container\">\n",
              "    <div>\n",
              "<style scoped>\n",
              "    .dataframe tbody tr th:only-of-type {\n",
              "        vertical-align: middle;\n",
              "    }\n",
              "\n",
              "    .dataframe tbody tr th {\n",
              "        vertical-align: top;\n",
              "    }\n",
              "\n",
              "    .dataframe thead th {\n",
              "        text-align: right;\n",
              "    }\n",
              "</style>\n",
              "<table border=\"1\" class=\"dataframe\">\n",
              "  <thead>\n",
              "    <tr style=\"text-align: right;\">\n",
              "      <th></th>\n",
              "      <th>language</th>\n",
              "      <th>text</th>\n",
              "      <th>label</th>\n",
              "    </tr>\n",
              "  </thead>\n",
              "  <tbody>\n",
              "    <tr>\n",
              "      <th>0</th>\n",
              "      <td>en</td>\n",
              "      <td>She calls herself \"anti-feminazi\" how about sh...</td>\n",
              "      <td>ideological-inequality</td>\n",
              "    </tr>\n",
              "    <tr>\n",
              "      <th>2</th>\n",
              "      <td>en</td>\n",
              "      <td>@CurvyBandida @Xalynne_B Wow, your skirt is ve...</td>\n",
              "      <td>objectification</td>\n",
              "    </tr>\n",
              "    <tr>\n",
              "      <th>5</th>\n",
              "      <td>en</td>\n",
              "      <td>@Smithcouple971 Hello....m raj....m with good ...</td>\n",
              "      <td>sexual-violence</td>\n",
              "    </tr>\n",
              "    <tr>\n",
              "      <th>10</th>\n",
              "      <td>en</td>\n",
              "      <td>@hapyshoper79 @Dis_Critic @MairiJCam @cazadams...</td>\n",
              "      <td>ideological-inequality</td>\n",
              "    </tr>\n",
              "    <tr>\n",
              "      <th>15</th>\n",
              "      <td>en</td>\n",
              "      <td>@Ponderer_O_Purg @BynameRose @GameOverRos @nat...</td>\n",
              "      <td>ideological-inequality</td>\n",
              "    </tr>\n",
              "  </tbody>\n",
              "</table>\n",
              "</div>\n",
              "    <div class=\"colab-df-buttons\">\n",
              "\n",
              "  <div class=\"colab-df-container\">\n",
              "    <button class=\"colab-df-convert\" onclick=\"convertToInteractive('df-8e480cc8-d0e5-4e0b-8dd0-c26fbe7f1b81')\"\n",
              "            title=\"Convert this dataframe to an interactive table.\"\n",
              "            style=\"display:none;\">\n",
              "\n",
              "  <svg xmlns=\"http://www.w3.org/2000/svg\" height=\"24px\" viewBox=\"0 -960 960 960\">\n",
              "    <path d=\"M120-120v-720h720v720H120Zm60-500h600v-160H180v160Zm220 220h160v-160H400v160Zm0 220h160v-160H400v160ZM180-400h160v-160H180v160Zm440 0h160v-160H620v160ZM180-180h160v-160H180v160Zm440 0h160v-160H620v160Z\"/>\n",
              "  </svg>\n",
              "    </button>\n",
              "\n",
              "  <style>\n",
              "    .colab-df-container {\n",
              "      display:flex;\n",
              "      gap: 12px;\n",
              "    }\n",
              "\n",
              "    .colab-df-convert {\n",
              "      background-color: #E8F0FE;\n",
              "      border: none;\n",
              "      border-radius: 50%;\n",
              "      cursor: pointer;\n",
              "      display: none;\n",
              "      fill: #1967D2;\n",
              "      height: 32px;\n",
              "      padding: 0 0 0 0;\n",
              "      width: 32px;\n",
              "    }\n",
              "\n",
              "    .colab-df-convert:hover {\n",
              "      background-color: #E2EBFA;\n",
              "      box-shadow: 0px 1px 2px rgba(60, 64, 67, 0.3), 0px 1px 3px 1px rgba(60, 64, 67, 0.15);\n",
              "      fill: #174EA6;\n",
              "    }\n",
              "\n",
              "    .colab-df-buttons div {\n",
              "      margin-bottom: 4px;\n",
              "    }\n",
              "\n",
              "    [theme=dark] .colab-df-convert {\n",
              "      background-color: #3B4455;\n",
              "      fill: #D2E3FC;\n",
              "    }\n",
              "\n",
              "    [theme=dark] .colab-df-convert:hover {\n",
              "      background-color: #434B5C;\n",
              "      box-shadow: 0px 1px 3px 1px rgba(0, 0, 0, 0.15);\n",
              "      filter: drop-shadow(0px 1px 2px rgba(0, 0, 0, 0.3));\n",
              "      fill: #FFFFFF;\n",
              "    }\n",
              "  </style>\n",
              "\n",
              "    <script>\n",
              "      const buttonEl =\n",
              "        document.querySelector('#df-8e480cc8-d0e5-4e0b-8dd0-c26fbe7f1b81 button.colab-df-convert');\n",
              "      buttonEl.style.display =\n",
              "        google.colab.kernel.accessAllowed ? 'block' : 'none';\n",
              "\n",
              "      async function convertToInteractive(key) {\n",
              "        const element = document.querySelector('#df-8e480cc8-d0e5-4e0b-8dd0-c26fbe7f1b81');\n",
              "        const dataTable =\n",
              "          await google.colab.kernel.invokeFunction('convertToInteractive',\n",
              "                                                    [key], {});\n",
              "        if (!dataTable) return;\n",
              "\n",
              "        const docLinkHtml = 'Like what you see? Visit the ' +\n",
              "          '<a target=\"_blank\" href=https://colab.research.google.com/notebooks/data_table.ipynb>data table notebook</a>'\n",
              "          + ' to learn more about interactive tables.';\n",
              "        element.innerHTML = '';\n",
              "        dataTable['output_type'] = 'display_data';\n",
              "        await google.colab.output.renderOutput(dataTable, element);\n",
              "        const docLink = document.createElement('div');\n",
              "        docLink.innerHTML = docLinkHtml;\n",
              "        element.appendChild(docLink);\n",
              "      }\n",
              "    </script>\n",
              "  </div>\n",
              "\n",
              "\n",
              "<div id=\"df-0a73f0fd-6645-4c6e-bcb8-429f232545c6\">\n",
              "  <button class=\"colab-df-quickchart\" onclick=\"quickchart('df-0a73f0fd-6645-4c6e-bcb8-429f232545c6')\"\n",
              "            title=\"Suggest charts.\"\n",
              "            style=\"display:none;\">\n",
              "\n",
              "<svg xmlns=\"http://www.w3.org/2000/svg\" height=\"24px\"viewBox=\"0 0 24 24\"\n",
              "     width=\"24px\">\n",
              "    <g>\n",
              "        <path d=\"M19 3H5c-1.1 0-2 .9-2 2v14c0 1.1.9 2 2 2h14c1.1 0 2-.9 2-2V5c0-1.1-.9-2-2-2zM9 17H7v-7h2v7zm4 0h-2V7h2v10zm4 0h-2v-4h2v4z\"/>\n",
              "    </g>\n",
              "</svg>\n",
              "  </button>\n",
              "\n",
              "<style>\n",
              "  .colab-df-quickchart {\n",
              "      --bg-color: #E8F0FE;\n",
              "      --fill-color: #1967D2;\n",
              "      --hover-bg-color: #E2EBFA;\n",
              "      --hover-fill-color: #174EA6;\n",
              "      --disabled-fill-color: #AAA;\n",
              "      --disabled-bg-color: #DDD;\n",
              "  }\n",
              "\n",
              "  [theme=dark] .colab-df-quickchart {\n",
              "      --bg-color: #3B4455;\n",
              "      --fill-color: #D2E3FC;\n",
              "      --hover-bg-color: #434B5C;\n",
              "      --hover-fill-color: #FFFFFF;\n",
              "      --disabled-bg-color: #3B4455;\n",
              "      --disabled-fill-color: #666;\n",
              "  }\n",
              "\n",
              "  .colab-df-quickchart {\n",
              "    background-color: var(--bg-color);\n",
              "    border: none;\n",
              "    border-radius: 50%;\n",
              "    cursor: pointer;\n",
              "    display: none;\n",
              "    fill: var(--fill-color);\n",
              "    height: 32px;\n",
              "    padding: 0;\n",
              "    width: 32px;\n",
              "  }\n",
              "\n",
              "  .colab-df-quickchart:hover {\n",
              "    background-color: var(--hover-bg-color);\n",
              "    box-shadow: 0 1px 2px rgba(60, 64, 67, 0.3), 0 1px 3px 1px rgba(60, 64, 67, 0.15);\n",
              "    fill: var(--button-hover-fill-color);\n",
              "  }\n",
              "\n",
              "  .colab-df-quickchart-complete:disabled,\n",
              "  .colab-df-quickchart-complete:disabled:hover {\n",
              "    background-color: var(--disabled-bg-color);\n",
              "    fill: var(--disabled-fill-color);\n",
              "    box-shadow: none;\n",
              "  }\n",
              "\n",
              "  .colab-df-spinner {\n",
              "    border: 2px solid var(--fill-color);\n",
              "    border-color: transparent;\n",
              "    border-bottom-color: var(--fill-color);\n",
              "    animation:\n",
              "      spin 1s steps(1) infinite;\n",
              "  }\n",
              "\n",
              "  @keyframes spin {\n",
              "    0% {\n",
              "      border-color: transparent;\n",
              "      border-bottom-color: var(--fill-color);\n",
              "      border-left-color: var(--fill-color);\n",
              "    }\n",
              "    20% {\n",
              "      border-color: transparent;\n",
              "      border-left-color: var(--fill-color);\n",
              "      border-top-color: var(--fill-color);\n",
              "    }\n",
              "    30% {\n",
              "      border-color: transparent;\n",
              "      border-left-color: var(--fill-color);\n",
              "      border-top-color: var(--fill-color);\n",
              "      border-right-color: var(--fill-color);\n",
              "    }\n",
              "    40% {\n",
              "      border-color: transparent;\n",
              "      border-right-color: var(--fill-color);\n",
              "      border-top-color: var(--fill-color);\n",
              "    }\n",
              "    60% {\n",
              "      border-color: transparent;\n",
              "      border-right-color: var(--fill-color);\n",
              "    }\n",
              "    80% {\n",
              "      border-color: transparent;\n",
              "      border-right-color: var(--fill-color);\n",
              "      border-bottom-color: var(--fill-color);\n",
              "    }\n",
              "    90% {\n",
              "      border-color: transparent;\n",
              "      border-bottom-color: var(--fill-color);\n",
              "    }\n",
              "  }\n",
              "</style>\n",
              "\n",
              "  <script>\n",
              "    async function quickchart(key) {\n",
              "      const quickchartButtonEl =\n",
              "        document.querySelector('#' + key + ' button');\n",
              "      quickchartButtonEl.disabled = true;  // To prevent multiple clicks.\n",
              "      quickchartButtonEl.classList.add('colab-df-spinner');\n",
              "      try {\n",
              "        const charts = await google.colab.kernel.invokeFunction(\n",
              "            'suggestCharts', [key], {});\n",
              "      } catch (error) {\n",
              "        console.error('Error during call to suggestCharts:', error);\n",
              "      }\n",
              "      quickchartButtonEl.classList.remove('colab-df-spinner');\n",
              "      quickchartButtonEl.classList.add('colab-df-quickchart-complete');\n",
              "    }\n",
              "    (() => {\n",
              "      let quickchartButtonEl =\n",
              "        document.querySelector('#df-0a73f0fd-6645-4c6e-bcb8-429f232545c6 button');\n",
              "      quickchartButtonEl.style.display =\n",
              "        google.colab.kernel.accessAllowed ? 'block' : 'none';\n",
              "    })();\n",
              "  </script>\n",
              "</div>\n",
              "    </div>\n",
              "  </div>\n"
            ]
          },
          "metadata": {},
          "execution_count": 5
        }
      ],
      "source": [
        "df_train = df_train.drop(['test_case', 'id', 'source', 'task1'], axis=1)\n",
        "df_test = df_test.drop(['test_case', 'id', 'source', 'task1'], axis=1)\n",
        "# renombramos task1 a label\n",
        "df_train = df_train.rename(columns={'task2':'label'})\n",
        "df_test = df_test.rename(columns={'task2':'label'})\n",
        "# mostramos los primeros registros del training\n",
        "df_train.head()"
      ]
    },
    {
      "cell_type": "markdown",
      "source": [
        "### Distribución de las clases\n",
        "\n",
        "En cualquier problema de clasificación, es importante conocer la distribución de las clases en el dataset."
      ],
      "metadata": {
        "id": "h9qXL4ncoJyP"
      }
    },
    {
      "cell_type": "code",
      "source": [
        "counts_train = df_train['label'].value_counts().to_dict()\n",
        "print(\"Distribución en training:\", counts_train)\n",
        "counts_test = df_test['label'].value_counts().to_dict()\n",
        "print(\"Distribución en test:\", counts_test)\n",
        "\n",
        "LABELS=list(counts_train.keys())\n",
        "print(LABELS)\n",
        "NUM_LABELS=len(LABELS)\n",
        "print(NUM_LABELS)\n"
      ],
      "metadata": {
        "colab": {
          "base_uri": "https://localhost:8080/"
        },
        "id": "a9mowly0oX2w",
        "outputId": "f02ebed5-d681-43d6-e4ae-479a460844bf"
      },
      "execution_count": 6,
      "outputs": [
        {
          "output_type": "stream",
          "name": "stdout",
          "text": [
            "Distribución en training: {'ideological-inequality': 386, 'stereotyping-dominance': 366, 'sexual-violence': 344, 'misogyny-non-sexual-violence': 284, 'objectification': 256}\n",
            "Distribución en test: {'ideological-inequality': 333, 'stereotyping-dominance': 262, 'misogyny-non-sexual-violence': 215, 'sexual-violence': 198, 'objectification': 150}\n",
            "['ideological-inequality', 'stereotyping-dominance', 'sexual-violence', 'misogyny-non-sexual-violence', 'objectification']\n",
            "5\n"
          ]
        }
      ]
    },
    {
      "cell_type": "code",
      "source": [
        "import matplotlib.pyplot as plt\n",
        "\n",
        "fig, (ax_train, ax_test) = plt.subplots(1, 2, figsize=(20, 10))\n",
        "fig.suptitle('Distribución de clases')\n",
        "ax_train.bar(list(counts_train.keys()), counts_train.values(), width=0.4)\n",
        "ax_train.set_xticklabels(list(counts_train.keys()), rotation=45)\n",
        "\n",
        "ax_train.set_title('Conjunto de entrenamiento')\n",
        "ax_train.set_xlabel('Clases')\n",
        "ax_train.set_ylabel('Número de Instancias')\n",
        "\n",
        "ax_test.bar(list(counts_test.keys()), counts_test.values(), width=0.4)\n",
        "ax_test.set_xticklabels(list(counts_test.keys()), rotation=45)\n",
        "\n",
        "ax_test.set_title('Conjunto de evaluación')\n",
        "ax_test.set_xlabel('Clases')\n",
        "ax_test.set_ylabel('Número de Instancias')"
      ],
      "metadata": {
        "colab": {
          "base_uri": "https://localhost:8080/",
          "height": 543
        },
        "id": "43IZkdi8oeZA",
        "outputId": "b648838c-5ac1-4d92-835d-7a5ce194d11b"
      },
      "execution_count": 7,
      "outputs": [
        {
          "output_type": "stream",
          "name": "stderr",
          "text": [
            "<ipython-input-7-47cc4b87081f>:6: UserWarning: FixedFormatter should only be used together with FixedLocator\n",
            "  ax_train.set_xticklabels(list(counts_train.keys()), rotation=45)\n",
            "<ipython-input-7-47cc4b87081f>:13: UserWarning: FixedFormatter should only be used together with FixedLocator\n",
            "  ax_test.set_xticklabels(list(counts_test.keys()), rotation=45)\n"
          ]
        },
        {
          "output_type": "execute_result",
          "data": {
            "text/plain": [
              "Text(0, 0.5, 'Número de Instancias')"
            ]
          },
          "metadata": {},
          "execution_count": 7
        },
        {
          "output_type": "display_data",
          "data": {
            "text/plain": [
              "<Figure size 2000x1000 with 2 Axes>"
            ],
            "image/png": "[encoded data removed]"
          },
          "metadata": {}
        }
      ]
    },
    {
      "cell_type": "markdown",
      "source": [
        "La distribución de las clases es similar en los dos conjuntos: training y test.\n",
        "Respecto a las clases, la más frecuente es 'ideological inequality', y la menos 'objetification'. Es de esperar que el modelo proporcione resultados más bajos para las clases menos frecuentes."
      ],
      "metadata": {
        "id": "gTl0RYNspOJs"
      }
    },
    {
      "cell_type": "markdown",
      "metadata": {
        "id": "N0zJ8yE_HfcX"
      },
      "source": [
        "## Label encoding\n",
        "\n",
        "Esta tarea consiste en transformar las labels de formato a texto a un formato numérico.\n",
        "\n",
        "En el caso de multi-clasifición, cada clase se va a representar con un vector one-hot.\n"
      ]
    },
    {
      "cell_type": "code",
      "execution_count": 8,
      "metadata": {
        "colab": {
          "base_uri": "https://localhost:8080/"
        },
        "id": "DbopRfZzGiWA",
        "outputId": "c46eabec-4505-41b0-a49d-0eb7da1f132d"
      },
      "outputs": [
        {
          "output_type": "stream",
          "name": "stdout",
          "text": [
            "antes de transform:  ['ideological-inequality', 'objectification', 'sexual-violence', 'ideological-inequality', 'ideological-inequality', 'stereotyping-dominance', 'ideological-inequality', 'sexual-violence', 'ideological-inequality', 'sexual-violence']\n",
            "después de transform: [0 2 3 0 0 4 0 3 0 3]\n",
            "después de transform: [[1. 0. 0. 0. 0.]\n",
            " [0. 0. 1. 0. 0.]\n",
            " [0. 0. 0. 1. 0.]\n",
            " [1. 0. 0. 0. 0.]\n",
            " [1. 0. 0. 0. 0.]\n",
            " [0. 0. 0. 0. 1.]\n",
            " [1. 0. 0. 0. 0.]\n",
            " [0. 0. 0. 1. 0.]\n",
            " [1. 0. 0. 0. 0.]\n",
            " [0. 0. 0. 1. 0.]]\n"
          ]
        }
      ],
      "source": [
        "from sklearn.preprocessing import LabelEncoder\n",
        "from keras.utils import to_categorical\n",
        "\n",
        "y_train = df_train['label'].tolist()\n",
        "y_test = df_test['label'].tolist()\n",
        "\n",
        "le = LabelEncoder()\n",
        "\n",
        "print(\"antes de transform: \", y_train[:10])\n",
        "y_train = le.fit_transform(y_train)\n",
        "print(\"después de transform:\", y_train[:10])\n",
        "y_train_cat = to_categorical(y_train)\n",
        "print(\"después de transform:\", y_train_cat[:10])\n",
        "\n",
        "y_test = le.fit_transform(y_test)\n",
        "y_test_cat = to_categorical(y_test)\n"
      ]
    },
    {
      "cell_type": "markdown",
      "source": [
        "## Representación de los textos\n",
        "\n",
        "Para que los textos puedan ser interpretados por el modelo CNN, necesitan también ser representado en un formato que pueda entender dicho modelo.\n",
        "Vamos a aplicar los mismo pasos que se utilizaron en el ejercicio 2.1.\n"
      ],
      "metadata": {
        "id": "m8dIqRsN66-B"
      }
    },
    {
      "cell_type": "code",
      "source": [
        "from keras.preprocessing.text import Tokenizer\n",
        "\n",
        "X_train = df_train['text'].tolist()\n",
        "\n",
        "tokenizer = Tokenizer(oov_token = True)\n",
        "tokenizer.fit_on_texts(X_train)\n",
        "\n",
        "tokenizer.word_index['<PAD>'] = 0\n",
        "\n",
        "NUM_WORDS=len(tokenizer.word_index)\n",
        "print(\"Tamaño del vocabulario ={}\".format(NUM_WORDS))"
      ],
      "metadata": {
        "colab": {
          "base_uri": "https://localhost:8080/"
        },
        "id": "SYNMHY0U7_ZW",
        "outputId": "3a70a7ab-0013-4d73-b113-076f9613cd0c"
      },
      "execution_count": 9,
      "outputs": [
        {
          "output_type": "stream",
          "name": "stdout",
          "text": [
            "Tamaño del vocabulario =9427\n"
          ]
        }
      ]
    },
    {
      "cell_type": "code",
      "source": [
        "from keras.utils import pad_sequences\n",
        "MAX_LEN=45\n",
        "encoded_train = tokenizer.texts_to_sequences(X_train)\n",
        "encoded_train_pad = pad_sequences(encoded_train, maxlen = MAX_LEN,\n",
        "                              padding='post', truncating='post')\n"
      ],
      "metadata": {
        "id": "x-IHxP4k-S6C"
      },
      "execution_count": 10,
      "outputs": []
    },
    {
      "cell_type": "markdown",
      "source": [
        "## BiLSTM\n",
        "\n",
        "Una vez que ya hemos procesado el texto, podemos definir el modelo.\n",
        "\n"
      ],
      "metadata": {
        "id": "ELHg0eDvIbsP"
      }
    },
    {
      "cell_type": "code",
      "source": [
        "import tensorflow as tf\n",
        "# asegurar que los experimentos se pueden reproducir\n",
        "tf.random.set_seed(42)\n",
        "tf.__version__"
      ],
      "metadata": {
        "colab": {
          "base_uri": "https://localhost:8080/",
          "height": 35
        },
        "id": "aDiJH4YkIidD",
        "outputId": "6d757037-e3b3-4be0-adfe-f1549d257830"
      },
      "execution_count": 11,
      "outputs": [
        {
          "output_type": "execute_result",
          "data": {
            "text/plain": [
              "'2.13.0'"
            ],
            "application/vnd.google.colaboratory.intrinsic+json": {
              "type": "string"
            }
          },
          "metadata": {},
          "execution_count": 11
        }
      ]
    },
    {
      "cell_type": "markdown",
      "source": [
        "### Crear el modelo\n",
        "\n",
        "El modelo es muy similar al creado en el ejercicio 2.1, donde el objetivo era aplciar un modelo CNN para la tarea de clasificación binaria.\n",
        "La única diferencia es la última capa. En este ejercicio, en lugar de usar una capa con una función sigmoid, vamos a utilizar una capa con una función **softmax**:"
      ],
      "metadata": {
        "id": "zLaF_jiBIre2"
      }
    },
    {
      "cell_type": "code",
      "source": [
        "from keras.models import Sequential\n",
        "from keras.layers import Flatten, Dense, Embedding, Conv1D, MaxPooling1D\n",
        "\n",
        "model = Sequential()\n",
        "EMBEDDING_SIZE=50 #probar con 200, 300\n",
        "model.add(Embedding(NUM_WORDS, EMBEDDING_SIZE, input_length=MAX_LEN))\n",
        "\n",
        "from keras.layers import Bidirectional, LSTM, Dropout, Dense\n",
        "\n",
        "DROPOUT = 0.4\n",
        "\n",
        "model.add(Bidirectional(LSTM(60, return_sequences=True, recurrent_dropout=0.2)))\n",
        "# Añadimos una capaz droput después de la capa bilstm\n",
        "model.add(Dropout(DROPOUT))\n",
        "\n",
        "model.add(Bidirectional(LSTM(32, recurrent_dropout=0.2)))\n",
        "model.add(Dropout(DROPOUT))\n",
        "\n",
        "model.add(Dense(60, activation='relu'))"
      ],
      "metadata": {
        "id": "jorrBYEnIv7x"
      },
      "execution_count": 12,
      "outputs": []
    },
    {
      "cell_type": "markdown",
      "source": [
        "A continuación, ya podemos añadir otras capas como una capa Densa (suelen mejorar los resultados de clasificación).\n",
        "La última capa usa la función **softmax** con cinco neuronas, una por cada clase, y va a devolver una probabilidad por cada una de ellas.\n",
        "El modelo va a proponer la clase con mayor probabilidad.\n",
        "\n",
        "Además, debemos indicar el optimizador y la función de coste, que al ser un problema de multi-clasificación debe ser **categorical_crossentropy**:"
      ],
      "metadata": {
        "id": "1PfbBQZ3LOLa"
      }
    },
    {
      "cell_type": "code",
      "source": [
        "\n",
        "model.add(Dense(NUM_LABELS, activation='softmax'))\n",
        "model.compile(loss='categorical_crossentropy', optimizer='adam', metrics=['accuracy'])\n",
        "\n",
        "model.summary()"
      ],
      "metadata": {
        "id": "ivY86-jUIms4",
        "colab": {
          "base_uri": "https://localhost:8080/"
        },
        "outputId": "1b0fa66f-a9b3-4f1e-80f8-48dac01cfec6"
      },
      "execution_count": 13,
      "outputs": [
        {
          "output_type": "stream",
          "name": "stdout",
          "text": [
            "Model: \"sequential\"\n",
            "_________________________________________________________________\n",
            " Layer (type)                Output Shape              Param #   \n",
            "=================================================================\n",
            " embedding (Embedding)       (None, 45, 50)            471350    \n",
            "                                                                 \n",
            " bidirectional (Bidirection  (None, 45, 120)           53280     \n",
            " al)                                                             \n",
            "                                                                 \n",
            " dropout (Dropout)           (None, 45, 120)           0         \n",
            "                                                                 \n",
            " bidirectional_1 (Bidirecti  (None, 64)                39168     \n",
            " onal)                                                           \n",
            "                                                                 \n",
            " dropout_1 (Dropout)         (None, 64)                0         \n",
            "                                                                 \n",
            " dense (Dense)               (None, 60)                3900      \n",
            "                                                                 \n",
            " dense_1 (Dense)             (None, 5)                 305       \n",
            "                                                                 \n",
            "=================================================================\n",
            "Total params: 568003 (2.17 MB)\n",
            "Trainable params: 568003 (2.17 MB)\n",
            "Non-trainable params: 0 (0.00 Byte)\n",
            "_________________________________________________________________\n"
          ]
        }
      ]
    },
    {
      "cell_type": "markdown",
      "source": [
        "### Entrenar el modelo\n",
        "\n"
      ],
      "metadata": {
        "id": "Rskoc7l4LwyL"
      }
    },
    {
      "cell_type": "code",
      "source": [
        "from keras.callbacks import ModelCheckpoint, EarlyStopping\n",
        "# Para el entrenamiento después de 3 epochs sin el error en el conjunto de validación no mejora\n",
        "earlyStopping = EarlyStopping(monitor='val_loss', min_delta=0, patience=3, verbose=0, mode='auto')\n"
      ],
      "metadata": {
        "id": "gfeaxw4wjKvB"
      },
      "execution_count": 14,
      "outputs": []
    },
    {
      "cell_type": "code",
      "source": [
        "epochs = 10\n",
        "batch_size = 16\n",
        "\n",
        "# training\n",
        "history=model.fit(encoded_train_pad,  # textos preprocesados\n",
        "                  y_train_cat,          # labels en formato one-hot\n",
        "                  epochs=epochs,\n",
        "                  batch_size=batch_size,\n",
        "                  validation_split=0.2,\n",
        "                  callbacks=[earlyStopping],\n",
        "                  )\n"
      ],
      "metadata": {
        "colab": {
          "base_uri": "https://localhost:8080/"
        },
        "id": "msOPoXmMhxWd",
        "outputId": "582b464c-f940-4fa5-f426-336c4fb015de"
      },
      "execution_count": 15,
      "outputs": [
        {
          "output_type": "stream",
          "name": "stdout",
          "text": [
            "Epoch 1/10\n",
            "82/82 [==============================] - 20s 120ms/step - loss: 1.5798 - accuracy: 0.2538 - val_loss: 1.5621 - val_accuracy: 0.2927\n",
            "Epoch 2/10\n",
            "82/82 [==============================] - 9s 110ms/step - loss: 1.3429 - accuracy: 0.3907 - val_loss: 1.4139 - val_accuracy: 0.3506\n",
            "Epoch 3/10\n",
            "82/82 [==============================] - 8s 103ms/step - loss: 1.0340 - accuracy: 0.5054 - val_loss: 1.5244 - val_accuracy: 0.4055\n",
            "Epoch 4/10\n",
            "82/82 [==============================] - 9s 103ms/step - loss: 0.8640 - accuracy: 0.6292 - val_loss: 1.5916 - val_accuracy: 0.3963\n",
            "Epoch 5/10\n",
            "82/82 [==============================] - 10s 118ms/step - loss: 0.6798 - accuracy: 0.7439 - val_loss: 1.6551 - val_accuracy: 0.4329\n"
          ]
        }
      ]
    },
    {
      "cell_type": "markdown",
      "source": [
        "El entrenamiento se detiene en la epoch 5."
      ],
      "metadata": {
        "id": "_o5hSiILj7cW"
      }
    },
    {
      "cell_type": "markdown",
      "source": [
        "### Curvas de aprendizaje\n",
        "\n",
        "Estos gráficos nos permiten ver cómo el modelo aprende a lo largo de su entrenamiento, en concreto, muestran sus resultados al ser evaluados en cada epoch sobre su conjunto de entrenamiento y el conjunto de validación. Se pueden mostrar gráficos distintos para el acuracy y para el error (su comportamiento será opuesto).\n",
        "\n",
        "Estas curvas se utilizan para diagnosticar un modelo que no es capaz de resolver la tarea, que sufre de sobre-aprendizaje (se ajusta perfecgtamente al conjunto de entrenamiento, pero no es capaz de resolver el problema en el conjunto de validación), o si el modelo está bien ajustado.\n",
        "\n",
        "\n"
      ],
      "metadata": {
        "id": "VXJr-jUOjvEL"
      }
    },
    {
      "cell_type": "code",
      "source": [
        "import matplotlib.pyplot as plt\n",
        "\n",
        "history_dict = history.history\n",
        "loss_values = history_dict['loss']\n",
        "val_loss_values = history_dict['val_loss']\n",
        "accuracy = history_dict['accuracy']\n",
        "val_accuracy = history_dict['val_accuracy']\n",
        "\n",
        "epochs = range(1, len(loss_values) + 1)\n",
        "fig, ax = plt.subplots(1, 2, figsize=(14, 6))\n",
        "#\n",
        "# Curva accuracy vs Epochs\n",
        "#\n",
        "ax[0].plot(epochs, accuracy, 'b', label='Training accuracy')\n",
        "ax[0].plot(epochs, val_accuracy, 'red', label='Validation accuracy')\n",
        "ax[0].set_title('Training & Validation Accuracy', fontsize=16)\n",
        "ax[0].set_xlabel('Epochs', fontsize=16)\n",
        "ax[0].set_ylabel('Accuracy', fontsize=16)\n",
        "ax[0].legend()\n",
        "#\n",
        "# Curva loss vs Epochs\n",
        "#\n",
        "ax[1].plot(epochs, loss_values, 'b', label='Training loss')\n",
        "ax[1].plot(epochs, val_loss_values, 'red', label='Validation loss')\n",
        "ax[1].set_title('Training & Validation Loss', fontsize=16)\n",
        "ax[1].set_xlabel('Epochs', fontsize=16)\n",
        "ax[1].set_ylabel('Loss', fontsize=16)\n",
        "ax[1].legend()"
      ],
      "metadata": {
        "colab": {
          "base_uri": "https://localhost:8080/",
          "height": 335
        },
        "id": "P0s4VhwPkH8U",
        "outputId": "56d945b9-2f83-4fd1-b3d9-5429a0bed7ad"
      },
      "execution_count": 16,
      "outputs": [
        {
          "output_type": "execute_result",
          "data": {
            "text/plain": [
              "<matplotlib.legend.Legend at 0x785d569704f0>"
            ]
          },
          "metadata": {},
          "execution_count": 16
        },
        {
          "output_type": "display_data",
          "data": {
            "text/plain": [
              "<Figure size 1400x600 with 2 Axes>"
            ],
            "image/png": "[encoded data removed]"
          },
          "metadata": {}
        }
      ]
    },
    {
      "cell_type": "markdown",
      "source": [
        "Si nos fijamos en las curva del error, mientras que la curva del entrenamiento se aproxima a 0, el error en la validación aumenta. Esto significa que el modelo no ha aprendido a resolver el problema.\n",
        "Por tanto, será necesario utilizar más datos y además, investigar en un modelo más complejo que sea capaz de resolver la tarea.\n",
        "\n",
        "Idealmente, ambas curvas loss deberían tender a 0. Ese caso significa que el modelo es capaz de generalizar y resolve la tarea en el conjunto de validación."
      ],
      "metadata": {
        "id": "WeTLQiCOnJbG"
      }
    },
    {
      "cell_type": "markdown",
      "metadata": {
        "id": "ZvGkVc4mdEeT"
      },
      "source": [
        "### Evaluar el modelo\n",
        "\n"
      ]
    },
    {
      "cell_type": "markdown",
      "source": [
        "Aunque las curvas de aprendizaje nos dicen que deberíamos seguir investigando en mejorar el modelo, vamos a evaluarlo sobre el conjunto test. En primer lugar, vamos a obtener las métricas loss y  accuracy en dicho conjunto (que no ha sido utilizado en ninguna fase del entrenamiento)."
      ],
      "metadata": {
        "id": "Je9L6jw5kcIJ"
      }
    },
    {
      "cell_type": "code",
      "source": [
        "X_test = df_test['text'].tolist()\n",
        "encoded_test = tokenizer.texts_to_sequences(X_test)\n",
        "encoded_test = pad_sequences(encoded_test, maxlen = MAX_LEN, padding='post')\n",
        "\n",
        "loss, accuracy = model.evaluate(encoded_test, y_test_cat, batch_size=batch_size)\n"
      ],
      "metadata": {
        "colab": {
          "base_uri": "https://localhost:8080/"
        },
        "id": "oxC1d2kRkaYy",
        "outputId": "a654398a-0284-4377-c59c-e0b7e3bbce91"
      },
      "execution_count": 17,
      "outputs": [
        {
          "output_type": "stream",
          "name": "stdout",
          "text": [
            "73/73 [==============================] - 1s 18ms/step - loss: 1.7920 - accuracy: 0.4283\n"
          ]
        }
      ]
    },
    {
      "cell_type": "markdown",
      "source": [
        "Es un acuracy bastante bajo (42.8%), ligeramente superior al obtenido por CNN."
      ],
      "metadata": {
        "id": "ITcmguGsnyD7"
      }
    },
    {
      "cell_type": "markdown",
      "source": [
        "Es posible obtener una evaluación más detallada con las métricas de precisión, recall y F1, gracias a la librería sklearn:"
      ],
      "metadata": {
        "id": "vM3ovYXLkgC8"
      }
    },
    {
      "cell_type": "code",
      "execution_count": 18,
      "metadata": {
        "id": "PLEd-07ldKSB",
        "colab": {
          "base_uri": "https://localhost:8080/"
        },
        "outputId": "d1ee0fcd-9782-473c-882b-efb2d7970e03"
      },
      "outputs": [
        {
          "output_type": "stream",
          "name": "stdout",
          "text": [
            "37/37 [==============================] - 2s 29ms/step\n",
            "[0 0 4 1 3 1 4 2 0 0]\n",
            "accuracy: 0.4283246977547496\n",
            "                              precision    recall  f1-score   support\n",
            "\n",
            "      ideological-inequality       0.69      0.45      0.55       333\n",
            "      stereotyping-dominance       0.25      0.39      0.31       215\n",
            "             sexual-violence       0.37      0.41      0.39       150\n",
            "misogyny-non-sexual-violence       0.65      0.50      0.57       198\n",
            "             objectification       0.35      0.39      0.37       262\n",
            "\n",
            "                    accuracy                           0.43      1158\n",
            "                   macro avg       0.46      0.43      0.43      1158\n",
            "                weighted avg       0.48      0.43      0.44      1158\n",
            "\n"
          ]
        }
      ],
      "source": [
        "import numpy as np\n",
        "from sklearn.metrics import accuracy_score, classification_report\n",
        "y_pred = np.argmax(model.predict(encoded_test), axis=1)\n",
        "print(y_pred[0:10])\n",
        "\n",
        "print('accuracy:', accuracy_score(y_test, y_pred))\n",
        "print(classification_report(y_test, y_pred, target_names=LABELS))"
      ]
    },
    {
      "cell_type": "markdown",
      "source": [
        "La macro F1 no supera el 43%, aunque es superior a la obtenida por CNN (37%).\n",
        "La clase con mejor F1 es ideological-inequality (55%), que además es la clase con mayor número de instancias en el training.\n"
      ],
      "metadata": {
        "id": "-6C5PfApn4j9"
      }
    },
    {
      "cell_type": "code",
      "execution_count": 19,
      "metadata": {
        "colab": {
          "base_uri": "https://localhost:8080/",
          "height": 538
        },
        "id": "oWiIoWWMUyWQ",
        "outputId": "be83ff12-ec39-4cd7-ccab-e5e24183ff86"
      },
      "outputs": [
        {
          "output_type": "stream",
          "name": "stdout",
          "text": [
            "[[150  58  14  11 100]\n",
            " [ 18  84  54  19  40]\n",
            " [  7  39  61  18  25]\n",
            " [  2  55  16  99  26]\n",
            " [ 39  96  20   5 102]]\n"
          ]
        },
        {
          "output_type": "display_data",
          "data": {
            "text/plain": [
              "<Figure size 640x480 with 2 Axes>"
            ],
            "image/png": "[encoded data removed]"
          },
          "metadata": {}
        }
      ],
      "source": [
        "import matplotlib.pyplot as plt\n",
        "\n",
        "from sklearn.metrics import confusion_matrix, ConfusionMatrixDisplay\n",
        "print(confusion_matrix(y_test, y_pred))\n",
        "disp=ConfusionMatrixDisplay.from_predictions(y_test, y_pred, cmap=plt.cm.Blues)\n"
      ]
    },
    {
      "cell_type": "markdown",
      "source": [
        "Prueba con otras configuraciones de capas bilstm, prueba con capas GRU.\n",
        "\n",
        "Además, también es recomendable que pruebes con un número distinto de epochs y batch y que modifiques el proceso de EarlyStopping."
      ],
      "metadata": {
        "id": "bN9ZP3d9qBwo"
      }
    }
  ],
  "metadata": {
    "colab": {
      "provenance": [],
      "toc_visible": true,
      "authorship_tag": "ABX9TyMM2WuhKZh0cCnbHxYtiDXY",
      "include_colab_link": true
    },
    "kernelspec": {
      "display_name": "Python 3",
      "name": "python3"
    },
    "language_info": {
      "name": "python"
    }
  },
  "nbformat": 4,
  "nbformat_minor": 0
}