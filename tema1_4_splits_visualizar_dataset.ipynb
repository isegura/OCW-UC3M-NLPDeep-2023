{
  "nbformat": 4,
  "nbformat_minor": 0,
  "metadata": {
    "colab": {
      "provenance": [],
      "toc_visible": true,
      "authorship_tag": "ABX9TyNCglesefTxfSEevB8d7TnE",
      "include_colab_link": true
    },
    "kernelspec": {
      "name": "python3",
      "display_name": "Python 3"
    },
    "language_info": {
      "name": "python"
    }
  },
  "cells": [
    {
      "cell_type": "markdown",
      "metadata": {
        "id": "view-in-github",
        "colab_type": "text"
      },
      "source": [
        "<a href=\"https://colab.research.google.com/github/isegura/OCW-UC3M-NLPDeep-2023/blob/main/tema1_4_splits_visualizar_dataset.ipynb\" target=\"_parent\"><img src=\"https://colab.research.google.com/assets/colab-badge.svg\" alt=\"Open In Colab\"/></a>"
      ]
    },
    {
      "cell_type": "markdown",
      "source": [
        "<center>\n",
        "<img src=\"https://upload.wikimedia.org/wikipedia/commons/4/47/Acronimo_y_nombre_uc3m.png\" width=50%/>\n",
        "\n",
        "<h1><font color='#12007a'>Procesamiento de Lenguaje Natural con Aprendizaje Profundo</font></h1>\n",
        "<p>Autora: Isabel Segura Bedmar</p>\n",
        "\n",
        "<img align='right' src=\"https://mirrors.creativecommons.org/presskit/buttons/88x31/png/by-nc-sa.png\" width=15%/>\n",
        "</center>      "
      ],
      "metadata": {
        "id": "aQr9dRLTmI_u"
      }
    },
    {
      "cell_type": "markdown",
      "source": [
        "# Problema: Crear split y visualización de un dataset.\n",
        "\n",
        "En este notebook, vamos a trabajar una colección de reviews de Amazon sobre Alexa. Este dataset puede descargarse desde este [link](#https://www.kaggle.com/datasets/sid321axn/amazon-alexa-reviews) en Kaggle.\n",
        "\n",
        "El dataset contiene aproximadamente unos 3.000 comentarios de clientes sobre Alexa. Cada comentario incluye un rating (de 1 a 5 estrellas) para indicar el grado de satisfacción sobre el producto.\n",
        "El dataset es distribuido en un único fichero, sin proporcionar ningún tipo de división o split para training, validación y test.\n",
        "\n",
        "En este notebook, aprenderemos:\n",
        "1) Dividir el dataset en tres splits: training, validación y test.\n",
        "2) Estudiar la distribución de clases en el dataset.\n",
        "3) Estudiar la distribución del tamaño de los textos del dataset.\n",
        "\n",
        "\n",
        "**NOTA PARA PODER EJECUTAR ESTE NOTEBOOK**:\n",
        "\n",
        "1) Para poder ejercutar correctamente este notebook, deberás abrirlo en tu Google Drive (por ejemplo, en la carpeta 'Colab Notebooks').\n",
        "\n",
        "2) Además, debes guardar el dataset en tu Google Drive, dentro de carpeta 'Colab Notebooks/data/alexa/'.\n",
        "\n"
      ],
      "metadata": {
        "id": "Bv2Hbhm0lC8r"
      }
    },
    {
      "cell_type": "markdown",
      "source": [
        "## Cargar un dataset\n",
        "\n",
        "\n",
        "\n"
      ],
      "metadata": {
        "id": "m2vZpV7_lkE6"
      }
    },
    {
      "cell_type": "code",
      "source": [
        "from google.colab import drive\n",
        "# mount your google drive\n",
        "drive.mount('/content/drive')\n",
        "\n",
        "# cambiamos el directorio de trabajo a la carpeta donde está almacenado el dataset\n",
        "import os\n",
        "os.chdir('/content/drive/My Drive/Colab Notebooks/data/alexa/')"
      ],
      "metadata": {
        "colab": {
          "base_uri": "https://localhost:8080/"
        },
        "id": "J5Q1u9f3ljUu",
        "outputId": "4e5f7079-5c34-4c76-b854-dea131f48a0f"
      },
      "execution_count": null,
      "outputs": [
        {
          "output_type": "stream",
          "name": "stdout",
          "text": [
            "Mounted at /content/drive\n"
          ]
        }
      ]
    },
    {
      "cell_type": "code",
      "source": [
        "import pandas as pd\n",
        "\n",
        "df = pd.read_csv(\"amazon_alexa.tsv\",  sep='\\t', on_bad_lines='skip')\n",
        "print('tamaño del dataset:', df.shape)\n",
        "\n",
        "#show the first rows\n",
        "df.head()"
      ],
      "metadata": {
        "colab": {
          "base_uri": "https://localhost:8080/",
          "height": 311
        },
        "id": "Vy_wu_ahqGPT",
        "outputId": "d37fe57b-dc62-4cbb-a92b-bfb25de5f52e"
      },
      "execution_count": null,
      "outputs": [
        {
          "output_type": "stream",
          "name": "stdout",
          "text": [
            "tamaño del dataset: (3150, 5)\n"
          ]
        },
        {
          "output_type": "execute_result",
          "data": {
            "text/plain": [
              "   rating       date         variation  \\\n",
              "0       5  31-Jul-18  Charcoal Fabric    \n",
              "1       5  31-Jul-18  Charcoal Fabric    \n",
              "2       4  31-Jul-18    Walnut Finish    \n",
              "3       5  31-Jul-18  Charcoal Fabric    \n",
              "4       5  31-Jul-18  Charcoal Fabric    \n",
              "\n",
              "                                    verified_reviews  feedback  \n",
              "0                                      Love my Echo!         1  \n",
              "1                                          Loved it!         1  \n",
              "2  Sometimes while playing a game, you can answer...         1  \n",
              "3  I have had a lot of fun with this thing. My 4 ...         1  \n",
              "4                                              Music         1  "
            ],
            "text/html": [
              "\n",
              "  <div id=\"df-abc46900-f84c-47f1-b24a-7a0585140fbc\" class=\"colab-df-container\">\n",
              "    <div>\n",
              "<style scoped>\n",
              "    .dataframe tbody tr th:only-of-type {\n",
              "        vertical-align: middle;\n",
              "    }\n",
              "\n",
              "    .dataframe tbody tr th {\n",
              "        vertical-align: top;\n",
              "    }\n",
              "\n",
              "    .dataframe thead th {\n",
              "        text-align: right;\n",
              "    }\n",
              "</style>\n",
              "<table border=\"1\" class=\"dataframe\">\n",
              "  <thead>\n",
              "    <tr style=\"text-align: right;\">\n",
              "      <th></th>\n",
              "      <th>rating</th>\n",
              "      <th>date</th>\n",
              "      <th>variation</th>\n",
              "      <th>verified_reviews</th>\n",
              "      <th>feedback</th>\n",
              "    </tr>\n",
              "  </thead>\n",
              "  <tbody>\n",
              "    <tr>\n",
              "      <th>0</th>\n",
              "      <td>5</td>\n",
              "      <td>31-Jul-18</td>\n",
              "      <td>Charcoal Fabric</td>\n",
              "      <td>Love my Echo!</td>\n",
              "      <td>1</td>\n",
              "    </tr>\n",
              "    <tr>\n",
              "      <th>1</th>\n",
              "      <td>5</td>\n",
              "      <td>31-Jul-18</td>\n",
              "      <td>Charcoal Fabric</td>\n",
              "      <td>Loved it!</td>\n",
              "      <td>1</td>\n",
              "    </tr>\n",
              "    <tr>\n",
              "      <th>2</th>\n",
              "      <td>4</td>\n",
              "      <td>31-Jul-18</td>\n",
              "      <td>Walnut Finish</td>\n",
              "      <td>Sometimes while playing a game, you can answer...</td>\n",
              "      <td>1</td>\n",
              "    </tr>\n",
              "    <tr>\n",
              "      <th>3</th>\n",
              "      <td>5</td>\n",
              "      <td>31-Jul-18</td>\n",
              "      <td>Charcoal Fabric</td>\n",
              "      <td>I have had a lot of fun with this thing. My 4 ...</td>\n",
              "      <td>1</td>\n",
              "    </tr>\n",
              "    <tr>\n",
              "      <th>4</th>\n",
              "      <td>5</td>\n",
              "      <td>31-Jul-18</td>\n",
              "      <td>Charcoal Fabric</td>\n",
              "      <td>Music</td>\n",
              "      <td>1</td>\n",
              "    </tr>\n",
              "  </tbody>\n",
              "</table>\n",
              "</div>\n",
              "    <div class=\"colab-df-buttons\">\n",
              "\n",
              "  <div class=\"colab-df-container\">\n",
              "    <button class=\"colab-df-convert\" onclick=\"convertToInteractive('df-abc46900-f84c-47f1-b24a-7a0585140fbc')\"\n",
              "            title=\"Convert this dataframe to an interactive table.\"\n",
              "            style=\"display:none;\">\n",
              "\n",
              "  <svg xmlns=\"http://www.w3.org/2000/svg\" height=\"24px\" viewBox=\"0 -960 960 960\">\n",
              "    <path d=\"M120-120v-720h720v720H120Zm60-500h600v-160H180v160Zm220 220h160v-160H400v160Zm0 220h160v-160H400v160ZM180-400h160v-160H180v160Zm440 0h160v-160H620v160ZM180-180h160v-160H180v160Zm440 0h160v-160H620v160Z\"/>\n",
              "  </svg>\n",
              "    </button>\n",
              "\n",
              "  <style>\n",
              "    .colab-df-container {\n",
              "      display:flex;\n",
              "      gap: 12px;\n",
              "    }\n",
              "\n",
              "    .colab-df-convert {\n",
              "      background-color: #E8F0FE;\n",
              "      border: none;\n",
              "      border-radius: 50%;\n",
              "      cursor: pointer;\n",
              "      display: none;\n",
              "      fill: #1967D2;\n",
              "      height: 32px;\n",
              "      padding: 0 0 0 0;\n",
              "      width: 32px;\n",
              "    }\n",
              "\n",
              "    .colab-df-convert:hover {\n",
              "      background-color: #E2EBFA;\n",
              "      box-shadow: 0px 1px 2px rgba(60, 64, 67, 0.3), 0px 1px 3px 1px rgba(60, 64, 67, 0.15);\n",
              "      fill: #174EA6;\n",
              "    }\n",
              "\n",
              "    .colab-df-buttons div {\n",
              "      margin-bottom: 4px;\n",
              "    }\n",
              "\n",
              "    [theme=dark] .colab-df-convert {\n",
              "      background-color: #3B4455;\n",
              "      fill: #D2E3FC;\n",
              "    }\n",
              "\n",
              "    [theme=dark] .colab-df-convert:hover {\n",
              "      background-color: #434B5C;\n",
              "      box-shadow: 0px 1px 3px 1px rgba(0, 0, 0, 0.15);\n",
              "      filter: drop-shadow(0px 1px 2px rgba(0, 0, 0, 0.3));\n",
              "      fill: #FFFFFF;\n",
              "    }\n",
              "  </style>\n",
              "\n",
              "    <script>\n",
              "      const buttonEl =\n",
              "        document.querySelector('#df-abc46900-f84c-47f1-b24a-7a0585140fbc button.colab-df-convert');\n",
              "      buttonEl.style.display =\n",
              "        google.colab.kernel.accessAllowed ? 'block' : 'none';\n",
              "\n",
              "      async function convertToInteractive(key) {\n",
              "        const element = document.querySelector('#df-abc46900-f84c-47f1-b24a-7a0585140fbc');\n",
              "        const dataTable =\n",
              "          await google.colab.kernel.invokeFunction('convertToInteractive',\n",
              "                                                    [key], {});\n",
              "        if (!dataTable) return;\n",
              "\n",
              "        const docLinkHtml = 'Like what you see? Visit the ' +\n",
              "          '<a target=\"_blank\" href=https://colab.research.google.com/notebooks/data_table.ipynb>data table notebook</a>'\n",
              "          + ' to learn more about interactive tables.';\n",
              "        element.innerHTML = '';\n",
              "        dataTable['output_type'] = 'display_data';\n",
              "        await google.colab.output.renderOutput(dataTable, element);\n",
              "        const docLink = document.createElement('div');\n",
              "        docLink.innerHTML = docLinkHtml;\n",
              "        element.appendChild(docLink);\n",
              "      }\n",
              "    </script>\n",
              "  </div>\n",
              "\n",
              "\n",
              "<div id=\"df-a02bd4f0-4d98-4ab3-a40d-47388f2a255d\">\n",
              "  <button class=\"colab-df-quickchart\" onclick=\"quickchart('df-a02bd4f0-4d98-4ab3-a40d-47388f2a255d')\"\n",
              "            title=\"Suggest charts.\"\n",
              "            style=\"display:none;\">\n",
              "\n",
              "<svg xmlns=\"http://www.w3.org/2000/svg\" height=\"24px\"viewBox=\"0 0 24 24\"\n",
              "     width=\"24px\">\n",
              "    <g>\n",
              "        <path d=\"M19 3H5c-1.1 0-2 .9-2 2v14c0 1.1.9 2 2 2h14c1.1 0 2-.9 2-2V5c0-1.1-.9-2-2-2zM9 17H7v-7h2v7zm4 0h-2V7h2v10zm4 0h-2v-4h2v4z\"/>\n",
              "    </g>\n",
              "</svg>\n",
              "  </button>\n",
              "\n",
              "<style>\n",
              "  .colab-df-quickchart {\n",
              "      --bg-color: #E8F0FE;\n",
              "      --fill-color: #1967D2;\n",
              "      --hover-bg-color: #E2EBFA;\n",
              "      --hover-fill-color: #174EA6;\n",
              "      --disabled-fill-color: #AAA;\n",
              "      --disabled-bg-color: #DDD;\n",
              "  }\n",
              "\n",
              "  [theme=dark] .colab-df-quickchart {\n",
              "      --bg-color: #3B4455;\n",
              "      --fill-color: #D2E3FC;\n",
              "      --hover-bg-color: #434B5C;\n",
              "      --hover-fill-color: #FFFFFF;\n",
              "      --disabled-bg-color: #3B4455;\n",
              "      --disabled-fill-color: #666;\n",
              "  }\n",
              "\n",
              "  .colab-df-quickchart {\n",
              "    background-color: var(--bg-color);\n",
              "    border: none;\n",
              "    border-radius: 50%;\n",
              "    cursor: pointer;\n",
              "    display: none;\n",
              "    fill: var(--fill-color);\n",
              "    height: 32px;\n",
              "    padding: 0;\n",
              "    width: 32px;\n",
              "  }\n",
              "\n",
              "  .colab-df-quickchart:hover {\n",
              "    background-color: var(--hover-bg-color);\n",
              "    box-shadow: 0 1px 2px rgba(60, 64, 67, 0.3), 0 1px 3px 1px rgba(60, 64, 67, 0.15);\n",
              "    fill: var(--button-hover-fill-color);\n",
              "  }\n",
              "\n",
              "  .colab-df-quickchart-complete:disabled,\n",
              "  .colab-df-quickchart-complete:disabled:hover {\n",
              "    background-color: var(--disabled-bg-color);\n",
              "    fill: var(--disabled-fill-color);\n",
              "    box-shadow: none;\n",
              "  }\n",
              "\n",
              "  .colab-df-spinner {\n",
              "    border: 2px solid var(--fill-color);\n",
              "    border-color: transparent;\n",
              "    border-bottom-color: var(--fill-color);\n",
              "    animation:\n",
              "      spin 1s steps(1) infinite;\n",
              "  }\n",
              "\n",
              "  @keyframes spin {\n",
              "    0% {\n",
              "      border-color: transparent;\n",
              "      border-bottom-color: var(--fill-color);\n",
              "      border-left-color: var(--fill-color);\n",
              "    }\n",
              "    20% {\n",
              "      border-color: transparent;\n",
              "      border-left-color: var(--fill-color);\n",
              "      border-top-color: var(--fill-color);\n",
              "    }\n",
              "    30% {\n",
              "      border-color: transparent;\n",
              "      border-left-color: var(--fill-color);\n",
              "      border-top-color: var(--fill-color);\n",
              "      border-right-color: var(--fill-color);\n",
              "    }\n",
              "    40% {\n",
              "      border-color: transparent;\n",
              "      border-right-color: var(--fill-color);\n",
              "      border-top-color: var(--fill-color);\n",
              "    }\n",
              "    60% {\n",
              "      border-color: transparent;\n",
              "      border-right-color: var(--fill-color);\n",
              "    }\n",
              "    80% {\n",
              "      border-color: transparent;\n",
              "      border-right-color: var(--fill-color);\n",
              "      border-bottom-color: var(--fill-color);\n",
              "    }\n",
              "    90% {\n",
              "      border-color: transparent;\n",
              "      border-bottom-color: var(--fill-color);\n",
              "    }\n",
              "  }\n",
              "</style>\n",
              "\n",
              "  <script>\n",
              "    async function quickchart(key) {\n",
              "      const quickchartButtonEl =\n",
              "        document.querySelector('#' + key + ' button');\n",
              "      quickchartButtonEl.disabled = true;  // To prevent multiple clicks.\n",
              "      quickchartButtonEl.classList.add('colab-df-spinner');\n",
              "      try {\n",
              "        const charts = await google.colab.kernel.invokeFunction(\n",
              "            'suggestCharts', [key], {});\n",
              "      } catch (error) {\n",
              "        console.error('Error during call to suggestCharts:', error);\n",
              "      }\n",
              "      quickchartButtonEl.classList.remove('colab-df-spinner');\n",
              "      quickchartButtonEl.classList.add('colab-df-quickchart-complete');\n",
              "    }\n",
              "    (() => {\n",
              "      let quickchartButtonEl =\n",
              "        document.querySelector('#df-a02bd4f0-4d98-4ab3-a40d-47388f2a255d button');\n",
              "      quickchartButtonEl.style.display =\n",
              "        google.colab.kernel.accessAllowed ? 'block' : 'none';\n",
              "    })();\n",
              "  </script>\n",
              "</div>\n",
              "    </div>\n",
              "  </div>\n"
            ]
          },
          "metadata": {},
          "execution_count": 2
        }
      ]
    },
    {
      "cell_type": "markdown",
      "source": [
        "Únicamente nos interesan los campos: **verified_reviews** (textos) y **rating** (clases)Ignoramos las otras columnas. Vamos a ignorar el resto de campos. Además, vamos a renombrar los campos para que se llamen **text** y **label**.\n"
      ],
      "metadata": {
        "id": "XXGpw6Ziv15Z"
      }
    },
    {
      "cell_type": "code",
      "source": [
        "df = df[['verified_reviews','rating']] # we ignore the other columns\n",
        "df = df.rename(columns={'verified_reviews':'text','rating':'label'})\n",
        "\n",
        "df.head()\n"
      ],
      "metadata": {
        "colab": {
          "base_uri": "https://localhost:8080/",
          "height": 206
        },
        "id": "q6yzJajHv_Gp",
        "outputId": "eb4e95c9-85e8-4750-ed39-44361e4ded27"
      },
      "execution_count": null,
      "outputs": [
        {
          "output_type": "execute_result",
          "data": {
            "text/plain": [
              "                                                text  label\n",
              "0                                      Love my Echo!      5\n",
              "1                                          Loved it!      5\n",
              "2  Sometimes while playing a game, you can answer...      4\n",
              "3  I have had a lot of fun with this thing. My 4 ...      5\n",
              "4                                              Music      5"
            ],
            "text/html": [
              "\n",
              "  <div id=\"df-ba18a7cb-c00e-41c4-8ad9-0fec05ad0da6\" class=\"colab-df-container\">\n",
              "    <div>\n",
              "<style scoped>\n",
              "    .dataframe tbody tr th:only-of-type {\n",
              "        vertical-align: middle;\n",
              "    }\n",
              "\n",
              "    .dataframe tbody tr th {\n",
              "        vertical-align: top;\n",
              "    }\n",
              "\n",
              "    .dataframe thead th {\n",
              "        text-align: right;\n",
              "    }\n",
              "</style>\n",
              "<table border=\"1\" class=\"dataframe\">\n",
              "  <thead>\n",
              "    <tr style=\"text-align: right;\">\n",
              "      <th></th>\n",
              "      <th>text</th>\n",
              "      <th>label</th>\n",
              "    </tr>\n",
              "  </thead>\n",
              "  <tbody>\n",
              "    <tr>\n",
              "      <th>0</th>\n",
              "      <td>Love my Echo!</td>\n",
              "      <td>5</td>\n",
              "    </tr>\n",
              "    <tr>\n",
              "      <th>1</th>\n",
              "      <td>Loved it!</td>\n",
              "      <td>5</td>\n",
              "    </tr>\n",
              "    <tr>\n",
              "      <th>2</th>\n",
              "      <td>Sometimes while playing a game, you can answer...</td>\n",
              "      <td>4</td>\n",
              "    </tr>\n",
              "    <tr>\n",
              "      <th>3</th>\n",
              "      <td>I have had a lot of fun with this thing. My 4 ...</td>\n",
              "      <td>5</td>\n",
              "    </tr>\n",
              "    <tr>\n",
              "      <th>4</th>\n",
              "      <td>Music</td>\n",
              "      <td>5</td>\n",
              "    </tr>\n",
              "  </tbody>\n",
              "</table>\n",
              "</div>\n",
              "    <div class=\"colab-df-buttons\">\n",
              "\n",
              "  <div class=\"colab-df-container\">\n",
              "    <button class=\"colab-df-convert\" onclick=\"convertToInteractive('df-ba18a7cb-c00e-41c4-8ad9-0fec05ad0da6')\"\n",
              "            title=\"Convert this dataframe to an interactive table.\"\n",
              "            style=\"display:none;\">\n",
              "\n",
              "  <svg xmlns=\"http://www.w3.org/2000/svg\" height=\"24px\" viewBox=\"0 -960 960 960\">\n",
              "    <path d=\"M120-120v-720h720v720H120Zm60-500h600v-160H180v160Zm220 220h160v-160H400v160Zm0 220h160v-160H400v160ZM180-400h160v-160H180v160Zm440 0h160v-160H620v160ZM180-180h160v-160H180v160Zm440 0h160v-160H620v160Z\"/>\n",
              "  </svg>\n",
              "    </button>\n",
              "\n",
              "  <style>\n",
              "    .colab-df-container {\n",
              "      display:flex;\n",
              "      gap: 12px;\n",
              "    }\n",
              "\n",
              "    .colab-df-convert {\n",
              "      background-color: #E8F0FE;\n",
              "      border: none;\n",
              "      border-radius: 50%;\n",
              "      cursor: pointer;\n",
              "      display: none;\n",
              "      fill: #1967D2;\n",
              "      height: 32px;\n",
              "      padding: 0 0 0 0;\n",
              "      width: 32px;\n",
              "    }\n",
              "\n",
              "    .colab-df-convert:hover {\n",
              "      background-color: #E2EBFA;\n",
              "      box-shadow: 0px 1px 2px rgba(60, 64, 67, 0.3), 0px 1px 3px 1px rgba(60, 64, 67, 0.15);\n",
              "      fill: #174EA6;\n",
              "    }\n",
              "\n",
              "    .colab-df-buttons div {\n",
              "      margin-bottom: 4px;\n",
              "    }\n",
              "\n",
              "    [theme=dark] .colab-df-convert {\n",
              "      background-color: #3B4455;\n",
              "      fill: #D2E3FC;\n",
              "    }\n",
              "\n",
              "    [theme=dark] .colab-df-convert:hover {\n",
              "      background-color: #434B5C;\n",
              "      box-shadow: 0px 1px 3px 1px rgba(0, 0, 0, 0.15);\n",
              "      filter: drop-shadow(0px 1px 2px rgba(0, 0, 0, 0.3));\n",
              "      fill: #FFFFFF;\n",
              "    }\n",
              "  </style>\n",
              "\n",
              "    <script>\n",
              "      const buttonEl =\n",
              "        document.querySelector('#df-ba18a7cb-c00e-41c4-8ad9-0fec05ad0da6 button.colab-df-convert');\n",
              "      buttonEl.style.display =\n",
              "        google.colab.kernel.accessAllowed ? 'block' : 'none';\n",
              "\n",
              "      async function convertToInteractive(key) {\n",
              "        const element = document.querySelector('#df-ba18a7cb-c00e-41c4-8ad9-0fec05ad0da6');\n",
              "        const dataTable =\n",
              "          await google.colab.kernel.invokeFunction('convertToInteractive',\n",
              "                                                    [key], {});\n",
              "        if (!dataTable) return;\n",
              "\n",
              "        const docLinkHtml = 'Like what you see? Visit the ' +\n",
              "          '<a target=\"_blank\" href=https://colab.research.google.com/notebooks/data_table.ipynb>data table notebook</a>'\n",
              "          + ' to learn more about interactive tables.';\n",
              "        element.innerHTML = '';\n",
              "        dataTable['output_type'] = 'display_data';\n",
              "        await google.colab.output.renderOutput(dataTable, element);\n",
              "        const docLink = document.createElement('div');\n",
              "        docLink.innerHTML = docLinkHtml;\n",
              "        element.appendChild(docLink);\n",
              "      }\n",
              "    </script>\n",
              "  </div>\n",
              "\n",
              "\n",
              "<div id=\"df-cbcc88ee-a2c1-4d76-b828-7f151695b563\">\n",
              "  <button class=\"colab-df-quickchart\" onclick=\"quickchart('df-cbcc88ee-a2c1-4d76-b828-7f151695b563')\"\n",
              "            title=\"Suggest charts.\"\n",
              "            style=\"display:none;\">\n",
              "\n",
              "<svg xmlns=\"http://www.w3.org/2000/svg\" height=\"24px\"viewBox=\"0 0 24 24\"\n",
              "     width=\"24px\">\n",
              "    <g>\n",
              "        <path d=\"M19 3H5c-1.1 0-2 .9-2 2v14c0 1.1.9 2 2 2h14c1.1 0 2-.9 2-2V5c0-1.1-.9-2-2-2zM9 17H7v-7h2v7zm4 0h-2V7h2v10zm4 0h-2v-4h2v4z\"/>\n",
              "    </g>\n",
              "</svg>\n",
              "  </button>\n",
              "\n",
              "<style>\n",
              "  .colab-df-quickchart {\n",
              "      --bg-color: #E8F0FE;\n",
              "      --fill-color: #1967D2;\n",
              "      --hover-bg-color: #E2EBFA;\n",
              "      --hover-fill-color: #174EA6;\n",
              "      --disabled-fill-color: #AAA;\n",
              "      --disabled-bg-color: #DDD;\n",
              "  }\n",
              "\n",
              "  [theme=dark] .colab-df-quickchart {\n",
              "      --bg-color: #3B4455;\n",
              "      --fill-color: #D2E3FC;\n",
              "      --hover-bg-color: #434B5C;\n",
              "      --hover-fill-color: #FFFFFF;\n",
              "      --disabled-bg-color: #3B4455;\n",
              "      --disabled-fill-color: #666;\n",
              "  }\n",
              "\n",
              "  .colab-df-quickchart {\n",
              "    background-color: var(--bg-color);\n",
              "    border: none;\n",
              "    border-radius: 50%;\n",
              "    cursor: pointer;\n",
              "    display: none;\n",
              "    fill: var(--fill-color);\n",
              "    height: 32px;\n",
              "    padding: 0;\n",
              "    width: 32px;\n",
              "  }\n",
              "\n",
              "  .colab-df-quickchart:hover {\n",
              "    background-color: var(--hover-bg-color);\n",
              "    box-shadow: 0 1px 2px rgba(60, 64, 67, 0.3), 0 1px 3px 1px rgba(60, 64, 67, 0.15);\n",
              "    fill: var(--button-hover-fill-color);\n",
              "  }\n",
              "\n",
              "  .colab-df-quickchart-complete:disabled,\n",
              "  .colab-df-quickchart-complete:disabled:hover {\n",
              "    background-color: var(--disabled-bg-color);\n",
              "    fill: var(--disabled-fill-color);\n",
              "    box-shadow: none;\n",
              "  }\n",
              "\n",
              "  .colab-df-spinner {\n",
              "    border: 2px solid var(--fill-color);\n",
              "    border-color: transparent;\n",
              "    border-bottom-color: var(--fill-color);\n",
              "    animation:\n",
              "      spin 1s steps(1) infinite;\n",
              "  }\n",
              "\n",
              "  @keyframes spin {\n",
              "    0% {\n",
              "      border-color: transparent;\n",
              "      border-bottom-color: var(--fill-color);\n",
              "      border-left-color: var(--fill-color);\n",
              "    }\n",
              "    20% {\n",
              "      border-color: transparent;\n",
              "      border-left-color: var(--fill-color);\n",
              "      border-top-color: var(--fill-color);\n",
              "    }\n",
              "    30% {\n",
              "      border-color: transparent;\n",
              "      border-left-color: var(--fill-color);\n",
              "      border-top-color: var(--fill-color);\n",
              "      border-right-color: var(--fill-color);\n",
              "    }\n",
              "    40% {\n",
              "      border-color: transparent;\n",
              "      border-right-color: var(--fill-color);\n",
              "      border-top-color: var(--fill-color);\n",
              "    }\n",
              "    60% {\n",
              "      border-color: transparent;\n",
              "      border-right-color: var(--fill-color);\n",
              "    }\n",
              "    80% {\n",
              "      border-color: transparent;\n",
              "      border-right-color: var(--fill-color);\n",
              "      border-bottom-color: var(--fill-color);\n",
              "    }\n",
              "    90% {\n",
              "      border-color: transparent;\n",
              "      border-bottom-color: var(--fill-color);\n",
              "    }\n",
              "  }\n",
              "</style>\n",
              "\n",
              "  <script>\n",
              "    async function quickchart(key) {\n",
              "      const quickchartButtonEl =\n",
              "        document.querySelector('#' + key + ' button');\n",
              "      quickchartButtonEl.disabled = true;  // To prevent multiple clicks.\n",
              "      quickchartButtonEl.classList.add('colab-df-spinner');\n",
              "      try {\n",
              "        const charts = await google.colab.kernel.invokeFunction(\n",
              "            'suggestCharts', [key], {});\n",
              "      } catch (error) {\n",
              "        console.error('Error during call to suggestCharts:', error);\n",
              "      }\n",
              "      quickchartButtonEl.classList.remove('colab-df-spinner');\n",
              "      quickchartButtonEl.classList.add('colab-df-quickchart-complete');\n",
              "    }\n",
              "    (() => {\n",
              "      let quickchartButtonEl =\n",
              "        document.querySelector('#df-cbcc88ee-a2c1-4d76-b828-7f151695b563 button');\n",
              "      quickchartButtonEl.style.display =\n",
              "        google.colab.kernel.accessAllowed ? 'block' : 'none';\n",
              "    })();\n",
              "  </script>\n",
              "</div>\n",
              "    </div>\n",
              "  </div>\n"
            ]
          },
          "metadata": {},
          "execution_count": 3
        }
      ]
    },
    {
      "cell_type": "markdown",
      "source": [
        "## Crear particiones\n",
        "\n",
        "El dataset se distribuye en un único fichero. Debemos crear tres particiones distintas para entrenamiento, validación y evaluación final (test), con un ratio de 70:10:20.\n",
        "\n"
      ],
      "metadata": {
        "id": "-oYC7aHhpvp5"
      }
    },
    {
      "cell_type": "markdown",
      "source": [
        "Los tamaños esperados serían:"
      ],
      "metadata": {
        "id": "nwNXEnpOrkTd"
      }
    },
    {
      "cell_type": "code",
      "source": [
        "size_total = df.shape[0]\n",
        "size_training = size_total*0.70\n",
        "size_val = size_total*0.10\n",
        "size_test = size_total*0.20\n",
        "\n",
        "print(size_total, \", training:\", size_training, \", validación:\",size_val, \", test:\",size_test)\n"
      ],
      "metadata": {
        "colab": {
          "base_uri": "https://localhost:8080/"
        },
        "id": "pHW9aGRcrFXJ",
        "outputId": "85ae30e1-518f-45ab-c9eb-cae7501106ce"
      },
      "execution_count": null,
      "outputs": [
        {
          "output_type": "stream",
          "name": "stdout",
          "text": [
            "3150 , training: 2205.0 , validación: 315.0 , test: 630.0\n"
          ]
        }
      ]
    },
    {
      "cell_type": "markdown",
      "source": [
        "Utilizamos el método **train_test_split** de la librería sklearn. Primero creamos la particion de training (70%) dejando el resto para validación y test."
      ],
      "metadata": {
        "id": "Xb1w3YGwqOnf"
      }
    },
    {
      "cell_type": "code",
      "source": [
        "from sklearn.model_selection import train_test_split\n",
        "\n",
        "X=df['text']\n",
        "y=df['label']\n",
        "\n",
        "X_train, X_aux, y_train, y_aux = train_test_split(X, y,\n",
        "        test_size=0.30, random_state=42, stratify=y)\n",
        "\n",
        "print('Tamaño conjunto de entrenamiento:', len(X_train))\n",
        "print('Resto :', len(X_aux))"
      ],
      "metadata": {
        "colab": {
          "base_uri": "https://localhost:8080/"
        },
        "id": "4oh1yk22qE8S",
        "outputId": "9d929a41-ea51-471d-e714-a2afe5c4f03d"
      },
      "execution_count": null,
      "outputs": [
        {
          "output_type": "stream",
          "name": "stdout",
          "text": [
            "Tamaño conjunto de entrenamiento: 2205\n",
            "Resto : 945\n"
          ]
        }
      ]
    },
    {
      "cell_type": "markdown",
      "source": [
        "Los parámetros **stratify** y random_state son muy importantes. Con el primero conseguimos que ambas particiones tengan la misma distribución de clases que en el original (y).\n",
        "\n",
        "Respecto a **random_state**, este nos permite obtener siempre las mismas particiones. De esta forma, nos aseguramos que cualquier que quiera repetir nuestra experimentación lo esté haciendo exactamente con el mismo conjunto de datos que nosotros hemos utilizado."
      ],
      "metadata": {
        "id": "lntU46VF10Bv"
      }
    },
    {
      "cell_type": "markdown",
      "source": [
        "Ahora tenemos que dividir X_aux, y_aux, para crear el conjunto de validación y el de test."
      ],
      "metadata": {
        "id": "UByYIWtYqh7T"
      }
    },
    {
      "cell_type": "code",
      "source": [
        "X_val, X_test, y_val, y_test = train_test_split(X_aux, y_aux,\n",
        "        test_size=2/3, random_state=42, stratify=y_aux)\n",
        "\n",
        "print('Tamaño conjunto de entrenamiento:', len(X_train))\n",
        "print('Tamaño conjunto de validación:', len(X_val))\n",
        "print('Tamaño conjunto de evaluación:', len(X_test))"
      ],
      "metadata": {
        "colab": {
          "base_uri": "https://localhost:8080/"
        },
        "id": "bCwWkZVbqsqM",
        "outputId": "48837ef2-becc-4f06-9c73-73c0f1b36820"
      },
      "execution_count": null,
      "outputs": [
        {
          "output_type": "stream",
          "name": "stdout",
          "text": [
            "Tamaño conjunto de entrenamiento: 2205\n",
            "Tamaño conjunto de validación: 315\n",
            "Tamaño conjunto de evaluación: 630\n"
          ]
        }
      ]
    },
    {
      "cell_type": "markdown",
      "source": [
        "## Distribución de clases\n",
        "\n"
      ],
      "metadata": {
        "id": "-2yHlawQBmmC"
      }
    },
    {
      "cell_type": "code",
      "source": [
        "counts_train = y_train.value_counts().to_dict()\n",
        "print(\"Distribución en training:\", counts_train)\n",
        "counts_val = y_val.value_counts().to_dict()\n",
        "print(\"Distribución en validación:\", counts_val)\n",
        "counts_test = y_test.value_counts().to_dict()\n",
        "print(\"Distribución en test:\", counts_test)\n",
        "\n",
        "LABELS=counts_train.keys()\n",
        "print(LABELS)"
      ],
      "metadata": {
        "colab": {
          "base_uri": "https://localhost:8080/"
        },
        "id": "QEtiNBpRBsPL",
        "outputId": "155d4646-b379-4d0c-e19c-131baa8d22c7"
      },
      "execution_count": null,
      "outputs": [
        {
          "output_type": "stream",
          "name": "stdout",
          "text": [
            "Distribución en training: {5: 1600, 4: 319, 1: 113, 3: 106, 2: 67}\n",
            "Distribución en validación: {5: 229, 4: 45, 1: 16, 3: 15, 2: 10}\n",
            "Distribución en test: {5: 457, 4: 91, 1: 32, 3: 31, 2: 19}\n",
            "dict_keys([5, 4, 1, 3, 2])\n"
          ]
        }
      ]
    },
    {
      "cell_type": "markdown",
      "source": [
        "Podemos ver que en las tres particiones, las clases siempre conservan la misma proporción, siendo 5 la clase con más instancias, y 2 la clase con menor número de instancias.\n",
        "Vamos a representarlo mejor en un gráfico"
      ],
      "metadata": {
        "id": "REActNXMlvgh"
      }
    },
    {
      "cell_type": "code",
      "source": [
        "import matplotlib.pyplot as plt\n",
        "\n",
        "fig, (ax_train, ax_val, ax_test) = plt.subplots(1, 3, figsize=(20, 4))\n",
        "fig.suptitle('Distribución de clases')\n",
        "ax_train.bar(LABELS, counts_train.values(), width=0.4)\n",
        "ax_train.set_title('Conjunto de entrenamiento')\n",
        "ax_train.set_xlabel('Clases')\n",
        "ax_train.set_ylabel('Número de Instancias')\n",
        "\n",
        "ax_val.bar(LABELS, counts_val.values(), width=0.4)\n",
        "ax_val.set_title('Conjunto de validación')\n",
        "ax_val.set_xlabel('Clases')\n",
        "ax_val.set_ylabel('Número de Instancias')\n",
        "\n",
        "\n",
        "ax_test.bar(LABELS, counts_test.values(), width=0.4)\n",
        "ax_test.set_title('Conjunto de evaluación')\n",
        "ax_test.set_xlabel('Clases')\n",
        "ax_test.set_ylabel('Número de Instancias')"
      ],
      "metadata": {
        "colab": {
          "base_uri": "https://localhost:8080/",
          "height": 193
        },
        "id": "HLktK0Dsssmb",
        "outputId": "09e2726f-1a77-4af9-85bb-e5fec6520770"
      },
      "execution_count": null,
      "outputs": [
        {
          "output_type": "execute_result",
          "data": {
            "text/plain": [
              "Text(0, 0.5, 'Número de Instancias')"
            ]
          },
          "metadata": {},
          "execution_count": 12
        },
        {
          "output_type": "display_data",
          "data": {
            "text/plain": [
              "<Figure size 2000x400 with 3 Axes>"
            ],
            "image/png": "[encoded data removed]"
          },
          "metadata": {}
        }
      ]
    },
    {
      "cell_type": "markdown",
      "source": [
        "Gracias a los gráficos es más fácil ver la distribución de cada clase en cada dataset.\n",
        "Podemos ver que la clase 5 es la que tiene más instancias, seguida de la clase 4, aunque con bastante diferencia en número de instancias.\n",
        "La clase 2 es la clase con menor número de instancias, aunque las clases 1 y 3, en realidad, tienen un tamaño similar al de la clase 2.\n",
        "\n",
        "La distribución de las clases es similar en los tres subconjuntos."
      ],
      "metadata": {
        "id": "5z82lFsFs-A2"
      }
    },
    {
      "cell_type": "markdown",
      "source": [
        "## Distribución del tamaño de los textos\n",
        "\n",
        "La longitud de los textos (número de tokens) es una de las propiedades que necesitamos estudiar en un dataset. En particular, conocer la distribución de los tamaños es útil a la hora de seleccionar un tamaño que sea lo suficientemente representativo para todos los textos.\n",
        "\n",
        "Por el momento, utilizaremos el método split() para dividir un texto en sus tokens."
      ],
      "metadata": {
        "id": "fPGom1a-2q9q"
      }
    },
    {
      "cell_type": "markdown",
      "source": [
        "Podríamos calcular directamente la longitud:"
      ],
      "metadata": {
        "id": "h2bT82Vb5Vs8"
      }
    },
    {
      "cell_type": "code",
      "source": [
        "length_train=X_train.apply(lambda text: len(text.split()))\n",
        "length_train.describe()"
      ],
      "metadata": {
        "colab": {
          "base_uri": "https://localhost:8080/"
        },
        "id": "q7sIwW6s5sCz",
        "outputId": "e4081b27-f4b6-469c-d8a9-63ef9f5abf3c"
      },
      "execution_count": null,
      "outputs": [
        {
          "output_type": "execute_result",
          "data": {
            "text/plain": [
              "count    2205.000000\n",
              "mean       26.170522\n",
              "std        36.618675\n",
              "min         0.000000\n",
              "25%         6.000000\n",
              "50%        15.000000\n",
              "75%        32.000000\n",
              "max       526.000000\n",
              "Name: Text, dtype: float64"
            ]
          },
          "metadata": {},
          "execution_count": 44
        }
      ]
    },
    {
      "cell_type": "markdown",
      "source": [
        "El tamaño medio de los textos en el conjunto de entrenamiento es de 26.17 tokens, muy lejos del tamaño máximo que es 525. Podemos ver el 75% de los textos tienen menos de 32 tokens.\n"
      ],
      "metadata": {
        "id": "-OBDb7AAuY8K"
      }
    },
    {
      "cell_type": "code",
      "source": [
        "length_train.describe(percentiles=[0.25, 0.50, 0.75, 0.90, 0.95, 0.99])"
      ],
      "metadata": {
        "colab": {
          "base_uri": "https://localhost:8080/"
        },
        "id": "KjCn5XrSuphq",
        "outputId": "02a8cdd5-49be-469a-f26a-79321d2249d1"
      },
      "execution_count": null,
      "outputs": [
        {
          "output_type": "execute_result",
          "data": {
            "text/plain": [
              "count    2205.000000\n",
              "mean       26.170522\n",
              "std        36.618675\n",
              "min         0.000000\n",
              "25%         6.000000\n",
              "50%        15.000000\n",
              "75%        32.000000\n",
              "90%        60.000000\n",
              "95%        86.800000\n",
              "99%       171.000000\n",
              "max       526.000000\n",
              "Name: Text, dtype: float64"
            ]
          },
          "metadata": {},
          "execution_count": 48
        }
      ]
    },
    {
      "cell_type": "markdown",
      "source": [
        "De hecho, el 95% de los textos en el conjunto de entrenamiento tienen menos de 86.8 tokens."
      ],
      "metadata": {
        "id": "TZ_27OGTuxL6"
      }
    },
    {
      "cell_type": "code",
      "source": [
        "length_val=X_val.apply(lambda text: len(text.split()))\n",
        "length_val.describe(percentiles=[0.25, 0.50, 0.75, 0.90, 0.95, 0.99])"
      ],
      "metadata": {
        "colab": {
          "base_uri": "https://localhost:8080/"
        },
        "id": "OvyS6JAluSDG",
        "outputId": "ec557afb-6c63-45cb-96db-95be6ff28a33"
      },
      "execution_count": null,
      "outputs": [
        {
          "output_type": "execute_result",
          "data": {
            "text/plain": [
              "count    315.000000\n",
              "mean      21.320635\n",
              "std       25.860762\n",
              "min        0.000000\n",
              "25%        6.000000\n",
              "50%       13.000000\n",
              "75%       26.000000\n",
              "90%       49.000000\n",
              "95%       63.000000\n",
              "99%      125.580000\n",
              "max      177.000000\n",
              "Name: Text, dtype: float64"
            ]
          },
          "metadata": {},
          "execution_count": 49
        }
      ]
    },
    {
      "cell_type": "markdown",
      "source": [
        "En el conjunto de validación, el tamaño medio es de 21.3 tokens. El tamaño máximo es mucho menor que el tamaño máximo en el conjunto de entrenamiento. Podemos ver que el 95% de los textos tienen menos de 63 tokens en el conjunto de validación."
      ],
      "metadata": {
        "id": "Qt1N08ZZu37j"
      }
    },
    {
      "cell_type": "code",
      "source": [
        "length_test=X_test.apply(lambda text: len(text.split()))\n",
        "length_test.describe(percentiles=[0.25, 0.50, 0.75, 0.90, 0.95, 0.99])"
      ],
      "metadata": {
        "colab": {
          "base_uri": "https://localhost:8080/"
        },
        "id": "Mq09HyhPuVd6",
        "outputId": "d548e455-e80d-418a-ec48-fca742cc611c"
      },
      "execution_count": null,
      "outputs": [
        {
          "output_type": "execute_result",
          "data": {
            "text/plain": [
              "count    630.000000\n",
              "mean      24.207937\n",
              "std       30.724473\n",
              "min        0.000000\n",
              "25%        5.000000\n",
              "50%       12.000000\n",
              "75%       30.000000\n",
              "90%       64.000000\n",
              "95%       89.550000\n",
              "99%      132.420000\n",
              "max      278.000000\n",
              "Name: Text, dtype: float64"
            ]
          },
          "metadata": {},
          "execution_count": 50
        }
      ]
    },
    {
      "cell_type": "markdown",
      "source": [
        "Respecto al conjunto de test, el tamaño medio es de 24.2 tokens. El tamaño máximo (278) es mucho menor que el tamaño máximo en el conjunto de entrenamiento. Podemos ver que el 95% de los textos tienen menos de 80.5 tokens en el conjunto de test."
      ],
      "metadata": {
        "id": "sL-EfY6zvHF6"
      }
    },
    {
      "cell_type": "markdown",
      "source": [
        "Además de analizar la información proporcionada por el método describe(), es interesante construir un histograma que te permita ver visualmente la distribución de los tamaños de los textos.\n",
        "\n",
        "El objeto Series de Pandas ya proporciona directamente un métodos hist() para ver esta distribución de la serie:"
      ],
      "metadata": {
        "id": "es97TIqD6u2H"
      }
    },
    {
      "cell_type": "code",
      "source": [
        "import numpy as np\n",
        "length_train.hist(bins = np.arange(0,600,25))"
      ],
      "metadata": {
        "colab": {
          "base_uri": "https://localhost:8080/",
          "height": 283
        },
        "id": "eWq76yhR6u1L",
        "outputId": "6c93414f-3df0-4cee-942f-241b590f92b2"
      },
      "execution_count": null,
      "outputs": [
        {
          "output_type": "execute_result",
          "data": {
            "text/plain": [
              "<matplotlib.axes._subplots.AxesSubplot at 0x7f858a093160>"
            ]
          },
          "metadata": {},
          "execution_count": 54
        },
        {
          "output_type": "display_data",
          "data": {
            "text/plain": [
              "<Figure size 432x288 with 1 Axes>"
            ],
            "image/png": "[encoded data removed]"
          },
          "metadata": {
            "needs_background": "light"
          }
        }
      ]
    },
    {
      "cell_type": "code",
      "source": [
        "length_val.hist(bins = np.arange(0,200,5))"
      ],
      "metadata": {
        "colab": {
          "base_uri": "https://localhost:8080/",
          "height": 283
        },
        "id": "gf6ZNqQTvpeG",
        "outputId": "ff809d11-1ba5-4ea0-8647-4e172b05cfa3"
      },
      "execution_count": null,
      "outputs": [
        {
          "output_type": "execute_result",
          "data": {
            "text/plain": [
              "<matplotlib.axes._subplots.AxesSubplot at 0x7f858a8f2c10>"
            ]
          },
          "metadata": {},
          "execution_count": 57
        },
        {
          "output_type": "display_data",
          "data": {
            "text/plain": [
              "<Figure size 432x288 with 1 Axes>"
            ],
            "image/png": "[encoded data removed]"
          },
          "metadata": {
            "needs_background": "light"
          }
        }
      ]
    },
    {
      "cell_type": "code",
      "source": [
        "length_test.hist(bins = np.arange(0,300,15))"
      ],
      "metadata": {
        "colab": {
          "base_uri": "https://localhost:8080/",
          "height": 284
        },
        "id": "_8tvt19Fvxs0",
        "outputId": "ce761f3d-3c67-4d5c-b517-4c1423e01e61"
      },
      "execution_count": null,
      "outputs": [
        {
          "output_type": "execute_result",
          "data": {
            "text/plain": [
              "<matplotlib.axes._subplots.AxesSubplot at 0x7f858a442fd0>"
            ]
          },
          "metadata": {},
          "execution_count": 58
        },
        {
          "output_type": "display_data",
          "data": {
            "text/plain": [
              "<Figure size 432x288 with 1 Axes>"
            ],
            "image/png": "[encoded data removed]"
          },
          "metadata": {
            "needs_background": "light"
          }
        }
      ]
    },
    {
      "cell_type": "markdown",
      "source": [
        "La librería seaborn también nos permite construir un histograma:"
      ],
      "metadata": {
        "id": "eUOiYQKkxpXT"
      }
    },
    {
      "cell_type": "code",
      "source": [
        "import seaborn as sns\n",
        "sns.distplot(length_train, hist=True, kde=False,\n",
        "             bins=int(600/50), color = 'red',\n",
        "             hist_kws={'edgecolor':'black'})"
      ],
      "metadata": {
        "colab": {
          "base_uri": "https://localhost:8080/",
          "height": 353
        },
        "id": "QvU4LAlr8_ZY",
        "outputId": "d3a5de92-1cc1-44ca-def3-6ea27254e3de"
      },
      "execution_count": null,
      "outputs": [
        {
          "output_type": "stream",
          "name": "stderr",
          "text": [
            "/usr/local/lib/python3.8/dist-packages/seaborn/distributions.py:2619: FutureWarning: `distplot` is a deprecated function and will be removed in a future version. Please adapt your code to use either `displot` (a figure-level function with similar flexibility) or `histplot` (an axes-level function for histograms).\n",
            "  warnings.warn(msg, FutureWarning)\n"
          ]
        },
        {
          "output_type": "execute_result",
          "data": {
            "text/plain": [
              "<matplotlib.axes._subplots.AxesSubplot at 0x7f8589670d60>"
            ]
          },
          "metadata": {},
          "execution_count": 65
        },
        {
          "output_type": "display_data",
          "data": {
            "text/plain": [
              "<Figure size 432x288 with 1 Axes>"
            ],
            "image/png": "[encoded data removed]"
          },
          "metadata": {
            "needs_background": "light"
          }
        }
      ]
    },
    {
      "cell_type": "markdown",
      "source": [
        "Otra alternativa es utilizar la librería de matplotlib. En este caso, mostramos los tres gráficos en una única imagen:"
      ],
      "metadata": {
        "id": "AMBbuHHV7xuT"
      }
    },
    {
      "cell_type": "code",
      "source": [
        "import matplotlib.pyplot as plt\n",
        "\n",
        "fig, (ax_train, ax_val, ax_test) = plt.subplots(1, 3, figsize=(20, 4))\n",
        "fig.suptitle('Distribución del tamaño de los textos')\n",
        "\n",
        "ax_train.hist(length_train,  color = 'red', edgecolor = 'black',\n",
        "         bins = int(600/50))\n",
        "ax_train.set_title('Conjunto de entrenamiento')\n",
        "ax_train.set_xlabel('Tamaño')\n",
        "ax_train.set_ylabel('Número de Instancias')\n",
        "\n",
        "ax_val.hist(length_train,  color = 'red', edgecolor = 'black',\n",
        "         bins = int(200/15))\n",
        "ax_val.set_title('Conjunto de validación')\n",
        "ax_val.set_xlabel('Tamaño')\n",
        "ax_val.set_ylabel('Número de Instancias')\n",
        "\n",
        "ax_test.hist(length_train,  color = 'red', edgecolor = 'black',\n",
        "         bins = int(300/15))\n",
        "ax_test.set_title('Conjunto test')\n",
        "ax_test.set_xlabel('Tamaño')\n",
        "ax_test.set_ylabel('Número de Instancias')\n",
        "\n",
        "# Add labels\n",
        "plt.title('Distribución de la longitud de los textos')\n",
        "plt.xlabel('Tamaño (tokens)')\n",
        "plt.ylabel('Número de textos')"
      ],
      "metadata": {
        "colab": {
          "base_uri": "https://localhost:8080/",
          "height": 326
        },
        "id": "vAvcooqD7bkr",
        "outputId": "4d4f288a-dc64-47f6-d2d2-d069a4d8275b"
      },
      "execution_count": null,
      "outputs": [
        {
          "output_type": "execute_result",
          "data": {
            "text/plain": [
              "Text(0, 0.5, 'Número de textos')"
            ]
          },
          "metadata": {},
          "execution_count": 63
        },
        {
          "output_type": "display_data",
          "data": {
            "text/plain": [
              "<Figure size 1440x288 with 3 Axes>"
            ],
            "image/png": "[encoded data removed]"
          },
          "metadata": {
            "needs_background": "light"
          }
        }
      ]
    },
    {
      "cell_type": "markdown",
      "source": [
        "\n",
        "\n",
        "\n",
        "También nos podría ser interesante conocer si los textos de una determinada clase tienen la misma longitud que los textos del resto de clases. En este caso, lo mejor es utilizar un gráfico de densidad.\n",
        "En este caso, lo cálcularemos para todo el dataset.\n",
        "\n"
      ],
      "metadata": {
        "id": "So_zeCsv8Ud5"
      }
    },
    {
      "cell_type": "code",
      "source": [
        "df['Length'] = df['Text'].apply(lambda text: len(text.split()))\n",
        "sns.kdeplot(data=df, x='Length', hue='Label')\n",
        "plt.legend(LABELS)\n",
        "plt.title('Densidad con multiples clases')\n",
        "plt.xlabel('Tamaño')\n",
        "plt.ylabel('Densidad')"
      ],
      "metadata": {
        "colab": {
          "base_uri": "https://localhost:8080/",
          "height": 313
        },
        "id": "-VH-NiGk0DHl",
        "outputId": "7c60a32d-f862-4584-a28f-4f695416af64"
      },
      "execution_count": null,
      "outputs": [
        {
          "output_type": "execute_result",
          "data": {
            "text/plain": [
              "Text(0, 0.5, 'Densidad')"
            ]
          },
          "metadata": {},
          "execution_count": 80
        },
        {
          "output_type": "display_data",
          "data": {
            "text/plain": [
              "<Figure size 432x288 with 1 Axes>"
            ],
            "image/png": "[encoded data removed]"
          },
          "metadata": {
            "needs_background": "light"
          }
        }
      ]
    },
    {
      "cell_type": "markdown",
      "source": [
        "Gracias a los tres gráficos, podemos afirmar que la distribución de las clases es similar en los tres subconjuntos de datos."
      ],
      "metadata": {
        "id": "BWA68IeP2dWU"
      }
    }
  ]
}