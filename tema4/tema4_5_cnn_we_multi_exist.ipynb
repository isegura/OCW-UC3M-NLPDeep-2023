{
  "cells": [
    {
      "cell_type": "markdown",
      "metadata": {
        "id": "view-in-github",
        "colab_type": "text"
      },
      "source": [
        "<a href=\"https://colab.research.google.com/github/isegura/OCW-UC3M-NLPDeep-2023/blob/main/tema4_5_cnn_we_multi_exist.ipynb\" target=\"_parent\"><img src=\"https://colab.research.google.com/assets/colab-badge.svg\" alt=\"Open In Colab\"/></a>"
      ]
    },
    {
      "cell_type": "markdown",
      "metadata": {
        "id": "aQr9dRLTmI_u"
      },
      "source": [
        "<center>\n",
        "<img src=\"https://upload.wikimedia.org/wikipedia/commons/4/47/Acronimo_y_nombre_uc3m.png\" width=50%/>\n",
        "\n",
        "<h1><font color='#12007a'>Procesamiento de Lenguaje Natural con Aprendizaje Profundo</font></h1>\n",
        "<p>Autora: Isabel Segura Bedmar</p>\n",
        "\n",
        "<img align='right' src=\"https://mirrors.creativecommons.org/presskit/buttons/88x31/png/by-nc-sa.png\" width=15%/>\n",
        "</center>      "
      ]
    },
    {
      "cell_type": "markdown",
      "metadata": {
        "id": "Bv2Hbhm0lC8r"
      },
      "source": [
        "# 4.5: Inicializando un modelo CNN con word embeddings para la multi-clasificación de mensajes sexistas.\n",
        "\n",
        "En un ejercicio anterior, ya aplicamos un modelo CNN a la multi-clasificación  de mensajes sexistas en el dataset EXIST 202 (http://nlp.uned.es/exist2021/). Dicho modelo obtenía una macro F1 bastante baja (37%).\n",
        "\n",
        "Vamos a ver si el uso de un modelo de word embeddings para inicializar los pesos del modelo CNN proporciona alguna mejora respecto a la inicialización aleatoria. Usaremos la misma arquitectura, excepto el tipo de inicialización.\n",
        "\n",
        "**NOTA PARA PODER EJECUTAR ESTE NOTEBOOK**:\n",
        "\n",
        "1) Para poder ejercutar correctamente este notebook, deberás abrirlo en tu Google Drive (por ejemplo, en la carpeta 'Colab Notebooks').\n",
        "\n",
        "2) Además, debes guardar el dataset en tu Google Drive, dentro de carpeta 'Colab Notebooks/data/exist2021/'.\n",
        "\n"
      ]
    },
    {
      "cell_type": "markdown",
      "metadata": {
        "id": "m2vZpV7_lkE6"
      },
      "source": [
        "## Cargar el dataset\n",
        "\n",
        "Lo primero que debes hacer es cargar el dataset. Como hemos comentado antes, recuerda que para que puedas ejecutar este notebook, deberás haber descargado los ficheros del dataset y haberlos almacenados en tu carpeta 'Colab Notebooks/data/exist2021/' dentro de tu Gooogle Drive.\n",
        "\n"
      ]
    },
    {
      "cell_type": "code",
      "execution_count": 1,
      "metadata": {
        "colab": {
          "base_uri": "https://localhost:8080/"
        },
        "id": "J5Q1u9f3ljUu",
        "outputId": "b8ffcb2c-58fa-48fc-ad11-b932fd13636a"
      },
      "outputs": [
        {
          "output_type": "stream",
          "name": "stdout",
          "text": [
            "Drive already mounted at /content/drive; to attempt to forcibly remount, call drive.mount(\"/content/drive\", force_remount=True).\n"
          ]
        }
      ],
      "source": [
        "from google.colab import drive\n",
        "# monta tu unidad de google drive\n",
        "drive.mount('/content/drive')\n",
        "\n",
        "# cambiamos el directorio de trabajo a la carpeta donde está almacenado el dataset\n",
        "import os\n",
        "os.chdir('/content/drive/My Drive/Colab Notebooks/data/exist2021/')"
      ]
    },
    {
      "cell_type": "markdown",
      "metadata": {
        "id": "eqCLmDvhk8Cz"
      },
      "source": [
        "Cargamos los conjuntos de datos de training y evaluación en dos objetos dataframes de pandas:"
      ]
    },
    {
      "cell_type": "code",
      "execution_count": 2,
      "metadata": {
        "colab": {
          "base_uri": "https://localhost:8080/",
          "height": 328
        },
        "id": "Vy_wu_ahqGPT",
        "outputId": "b4d2f8f8-efb5-4541-e019-3968d26580bb"
      },
      "outputs": [
        {
          "output_type": "stream",
          "name": "stdout",
          "text": [
            "tamaño training: (6977, 7)\n",
            "tamaño test: (4368, 7)\n"
          ]
        },
        {
          "output_type": "execute_result",
          "data": {
            "text/plain": [
              "   test_case  id   source language  \\\n",
              "0  EXIST2021   1  twitter       en   \n",
              "1  EXIST2021   2  twitter       en   \n",
              "2  EXIST2021   3  twitter       en   \n",
              "3  EXIST2021   4  twitter       en   \n",
              "4  EXIST2021   5  twitter       en   \n",
              "\n",
              "                                                text       task1  \\\n",
              "0  She calls herself \"anti-feminazi\" how about sh...      sexist   \n",
              "1  Now, back to these women, the brave and the be...  non-sexist   \n",
              "2  @CurvyBandida @Xalynne_B Wow, your skirt is ve...      sexist   \n",
              "3  @AurelieGuiboud Incredible!  Beautiful!But I l...  non-sexist   \n",
              "4  i find it extremely hard to believe that kelly...  non-sexist   \n",
              "\n",
              "                    task2  \n",
              "0  ideological-inequality  \n",
              "1              non-sexist  \n",
              "2         objectification  \n",
              "3              non-sexist  \n",
              "4              non-sexist  "
            ],
            "text/html": [
              "\n",
              "  <div id=\"df-4fb8cfe0-b9b7-4be5-96c6-9470ab432e95\" class=\"colab-df-container\">\n",
              "    <div>\n",
              "<style scoped>\n",
              "    .dataframe tbody tr th:only-of-type {\n",
              "        vertical-align: middle;\n",
              "    }\n",
              "\n",
              "    .dataframe tbody tr th {\n",
              "        vertical-align: top;\n",
              "    }\n",
              "\n",
              "    .dataframe thead th {\n",
              "        text-align: right;\n",
              "    }\n",
              "</style>\n",
              "<table border=\"1\" class=\"dataframe\">\n",
              "  <thead>\n",
              "    <tr style=\"text-align: right;\">\n",
              "      <th></th>\n",
              "      <th>test_case</th>\n",
              "      <th>id</th>\n",
              "      <th>source</th>\n",
              "      <th>language</th>\n",
              "      <th>text</th>\n",
              "      <th>task1</th>\n",
              "      <th>task2</th>\n",
              "    </tr>\n",
              "  </thead>\n",
              "  <tbody>\n",
              "    <tr>\n",
              "      <th>0</th>\n",
              "      <td>EXIST2021</td>\n",
              "      <td>1</td>\n",
              "      <td>twitter</td>\n",
              "      <td>en</td>\n",
              "      <td>She calls herself \"anti-feminazi\" how about sh...</td>\n",
              "      <td>sexist</td>\n",
              "      <td>ideological-inequality</td>\n",
              "    </tr>\n",
              "    <tr>\n",
              "      <th>1</th>\n",
              "      <td>EXIST2021</td>\n",
              "      <td>2</td>\n",
              "      <td>twitter</td>\n",
              "      <td>en</td>\n",
              "      <td>Now, back to these women, the brave and the be...</td>\n",
              "      <td>non-sexist</td>\n",
              "      <td>non-sexist</td>\n",
              "    </tr>\n",
              "    <tr>\n",
              "      <th>2</th>\n",
              "      <td>EXIST2021</td>\n",
              "      <td>3</td>\n",
              "      <td>twitter</td>\n",
              "      <td>en</td>\n",
              "      <td>@CurvyBandida @Xalynne_B Wow, your skirt is ve...</td>\n",
              "      <td>sexist</td>\n",
              "      <td>objectification</td>\n",
              "    </tr>\n",
              "    <tr>\n",
              "      <th>3</th>\n",
              "      <td>EXIST2021</td>\n",
              "      <td>4</td>\n",
              "      <td>twitter</td>\n",
              "      <td>en</td>\n",
              "      <td>@AurelieGuiboud Incredible!  Beautiful!But I l...</td>\n",
              "      <td>non-sexist</td>\n",
              "      <td>non-sexist</td>\n",
              "    </tr>\n",
              "    <tr>\n",
              "      <th>4</th>\n",
              "      <td>EXIST2021</td>\n",
              "      <td>5</td>\n",
              "      <td>twitter</td>\n",
              "      <td>en</td>\n",
              "      <td>i find it extremely hard to believe that kelly...</td>\n",
              "      <td>non-sexist</td>\n",
              "      <td>non-sexist</td>\n",
              "    </tr>\n",
              "  </tbody>\n",
              "</table>\n",
              "</div>\n",
              "    <div class=\"colab-df-buttons\">\n",
              "\n",
              "  <div class=\"colab-df-container\">\n",
              "    <button class=\"colab-df-convert\" onclick=\"convertToInteractive('df-4fb8cfe0-b9b7-4be5-96c6-9470ab432e95')\"\n",
              "            title=\"Convert this dataframe to an interactive table.\"\n",
              "            style=\"display:none;\">\n",
              "\n",
              "  <svg xmlns=\"http://www.w3.org/2000/svg\" height=\"24px\" viewBox=\"0 -960 960 960\">\n",
              "    <path d=\"M120-120v-720h720v720H120Zm60-500h600v-160H180v160Zm220 220h160v-160H400v160Zm0 220h160v-160H400v160ZM180-400h160v-160H180v160Zm440 0h160v-160H620v160ZM180-180h160v-160H180v160Zm440 0h160v-160H620v160Z\"/>\n",
              "  </svg>\n",
              "    </button>\n",
              "\n",
              "  <style>\n",
              "    .colab-df-container {\n",
              "      display:flex;\n",
              "      gap: 12px;\n",
              "    }\n",
              "\n",
              "    .colab-df-convert {\n",
              "      background-color: #E8F0FE;\n",
              "      border: none;\n",
              "      border-radius: 50%;\n",
              "      cursor: pointer;\n",
              "      display: none;\n",
              "      fill: #1967D2;\n",
              "      height: 32px;\n",
              "      padding: 0 0 0 0;\n",
              "      width: 32px;\n",
              "    }\n",
              "\n",
              "    .colab-df-convert:hover {\n",
              "      background-color: #E2EBFA;\n",
              "      box-shadow: 0px 1px 2px rgba(60, 64, 67, 0.3), 0px 1px 3px 1px rgba(60, 64, 67, 0.15);\n",
              "      fill: #174EA6;\n",
              "    }\n",
              "\n",
              "    .colab-df-buttons div {\n",
              "      margin-bottom: 4px;\n",
              "    }\n",
              "\n",
              "    [theme=dark] .colab-df-convert {\n",
              "      background-color: #3B4455;\n",
              "      fill: #D2E3FC;\n",
              "    }\n",
              "\n",
              "    [theme=dark] .colab-df-convert:hover {\n",
              "      background-color: #434B5C;\n",
              "      box-shadow: 0px 1px 3px 1px rgba(0, 0, 0, 0.15);\n",
              "      filter: drop-shadow(0px 1px 2px rgba(0, 0, 0, 0.3));\n",
              "      fill: #FFFFFF;\n",
              "    }\n",
              "  </style>\n",
              "\n",
              "    <script>\n",
              "      const buttonEl =\n",
              "        document.querySelector('#df-4fb8cfe0-b9b7-4be5-96c6-9470ab432e95 button.colab-df-convert');\n",
              "      buttonEl.style.display =\n",
              "        google.colab.kernel.accessAllowed ? 'block' : 'none';\n",
              "\n",
              "      async function convertToInteractive(key) {\n",
              "        const element = document.querySelector('#df-4fb8cfe0-b9b7-4be5-96c6-9470ab432e95');\n",
              "        const dataTable =\n",
              "          await google.colab.kernel.invokeFunction('convertToInteractive',\n",
              "                                                    [key], {});\n",
              "        if (!dataTable) return;\n",
              "\n",
              "        const docLinkHtml = 'Like what you see? Visit the ' +\n",
              "          '<a target=\"_blank\" href=https://colab.research.google.com/notebooks/data_table.ipynb>data table notebook</a>'\n",
              "          + ' to learn more about interactive tables.';\n",
              "        element.innerHTML = '';\n",
              "        dataTable['output_type'] = 'display_data';\n",
              "        await google.colab.output.renderOutput(dataTable, element);\n",
              "        const docLink = document.createElement('div');\n",
              "        docLink.innerHTML = docLinkHtml;\n",
              "        element.appendChild(docLink);\n",
              "      }\n",
              "    </script>\n",
              "  </div>\n",
              "\n",
              "\n",
              "<div id=\"df-3cead5e1-1bb7-4906-907f-50fa708528ba\">\n",
              "  <button class=\"colab-df-quickchart\" onclick=\"quickchart('df-3cead5e1-1bb7-4906-907f-50fa708528ba')\"\n",
              "            title=\"Suggest charts.\"\n",
              "            style=\"display:none;\">\n",
              "\n",
              "<svg xmlns=\"http://www.w3.org/2000/svg\" height=\"24px\"viewBox=\"0 0 24 24\"\n",
              "     width=\"24px\">\n",
              "    <g>\n",
              "        <path d=\"M19 3H5c-1.1 0-2 .9-2 2v14c0 1.1.9 2 2 2h14c1.1 0 2-.9 2-2V5c0-1.1-.9-2-2-2zM9 17H7v-7h2v7zm4 0h-2V7h2v10zm4 0h-2v-4h2v4z\"/>\n",
              "    </g>\n",
              "</svg>\n",
              "  </button>\n",
              "\n",
              "<style>\n",
              "  .colab-df-quickchart {\n",
              "      --bg-color: #E8F0FE;\n",
              "      --fill-color: #1967D2;\n",
              "      --hover-bg-color: #E2EBFA;\n",
              "      --hover-fill-color: #174EA6;\n",
              "      --disabled-fill-color: #AAA;\n",
              "      --disabled-bg-color: #DDD;\n",
              "  }\n",
              "\n",
              "  [theme=dark] .colab-df-quickchart {\n",
              "      --bg-color: #3B4455;\n",
              "      --fill-color: #D2E3FC;\n",
              "      --hover-bg-color: #434B5C;\n",
              "      --hover-fill-color: #FFFFFF;\n",
              "      --disabled-bg-color: #3B4455;\n",
              "      --disabled-fill-color: #666;\n",
              "  }\n",
              "\n",
              "  .colab-df-quickchart {\n",
              "    background-color: var(--bg-color);\n",
              "    border: none;\n",
              "    border-radius: 50%;\n",
              "    cursor: pointer;\n",
              "    display: none;\n",
              "    fill: var(--fill-color);\n",
              "    height: 32px;\n",
              "    padding: 0;\n",
              "    width: 32px;\n",
              "  }\n",
              "\n",
              "  .colab-df-quickchart:hover {\n",
              "    background-color: var(--hover-bg-color);\n",
              "    box-shadow: 0 1px 2px rgba(60, 64, 67, 0.3), 0 1px 3px 1px rgba(60, 64, 67, 0.15);\n",
              "    fill: var(--button-hover-fill-color);\n",
              "  }\n",
              "\n",
              "  .colab-df-quickchart-complete:disabled,\n",
              "  .colab-df-quickchart-complete:disabled:hover {\n",
              "    background-color: var(--disabled-bg-color);\n",
              "    fill: var(--disabled-fill-color);\n",
              "    box-shadow: none;\n",
              "  }\n",
              "\n",
              "  .colab-df-spinner {\n",
              "    border: 2px solid var(--fill-color);\n",
              "    border-color: transparent;\n",
              "    border-bottom-color: var(--fill-color);\n",
              "    animation:\n",
              "      spin 1s steps(1) infinite;\n",
              "  }\n",
              "\n",
              "  @keyframes spin {\n",
              "    0% {\n",
              "      border-color: transparent;\n",
              "      border-bottom-color: var(--fill-color);\n",
              "      border-left-color: var(--fill-color);\n",
              "    }\n",
              "    20% {\n",
              "      border-color: transparent;\n",
              "      border-left-color: var(--fill-color);\n",
              "      border-top-color: var(--fill-color);\n",
              "    }\n",
              "    30% {\n",
              "      border-color: transparent;\n",
              "      border-left-color: var(--fill-color);\n",
              "      border-top-color: var(--fill-color);\n",
              "      border-right-color: var(--fill-color);\n",
              "    }\n",
              "    40% {\n",
              "      border-color: transparent;\n",
              "      border-right-color: var(--fill-color);\n",
              "      border-top-color: var(--fill-color);\n",
              "    }\n",
              "    60% {\n",
              "      border-color: transparent;\n",
              "      border-right-color: var(--fill-color);\n",
              "    }\n",
              "    80% {\n",
              "      border-color: transparent;\n",
              "      border-right-color: var(--fill-color);\n",
              "      border-bottom-color: var(--fill-color);\n",
              "    }\n",
              "    90% {\n",
              "      border-color: transparent;\n",
              "      border-bottom-color: var(--fill-color);\n",
              "    }\n",
              "  }\n",
              "</style>\n",
              "\n",
              "  <script>\n",
              "    async function quickchart(key) {\n",
              "      const quickchartButtonEl =\n",
              "        document.querySelector('#' + key + ' button');\n",
              "      quickchartButtonEl.disabled = true;  // To prevent multiple clicks.\n",
              "      quickchartButtonEl.classList.add('colab-df-spinner');\n",
              "      try {\n",
              "        const charts = await google.colab.kernel.invokeFunction(\n",
              "            'suggestCharts', [key], {});\n",
              "      } catch (error) {\n",
              "        console.error('Error during call to suggestCharts:', error);\n",
              "      }\n",
              "      quickchartButtonEl.classList.remove('colab-df-spinner');\n",
              "      quickchartButtonEl.classList.add('colab-df-quickchart-complete');\n",
              "    }\n",
              "    (() => {\n",
              "      let quickchartButtonEl =\n",
              "        document.querySelector('#df-3cead5e1-1bb7-4906-907f-50fa708528ba button');\n",
              "      quickchartButtonEl.style.display =\n",
              "        google.colab.kernel.accessAllowed ? 'block' : 'none';\n",
              "    })();\n",
              "  </script>\n",
              "</div>\n",
              "    </div>\n",
              "  </div>\n"
            ]
          },
          "metadata": {},
          "execution_count": 2
        }
      ],
      "source": [
        "import pandas as pd\n",
        "\n",
        "df_train = pd.read_csv(\"train.tsv\",  sep='\\t')\n",
        "df_test = pd.read_csv(\"test.tsv\",  sep='\\t')\n",
        "\n",
        "print('tamaño training:', df_train.shape)\n",
        "print('tamaño test:', df_test.shape)\n",
        "\n",
        "# mostramos los primeros registros del training:\n",
        "df_train.head()"
      ]
    },
    {
      "cell_type": "markdown",
      "source": [
        "El dataset es multilingüe, vamos a quedarnos únicamente con los textos en inglés:"
      ],
      "metadata": {
        "id": "zxaC_JZ5oj8B"
      }
    },
    {
      "cell_type": "code",
      "source": [
        "df_train=df_train[df_train['language']=='en']\n",
        "df_test=df_test[df_test['language']=='en']\n",
        "print('tamaño training:', df_train.shape)\n",
        "print('tamaño test:', df_test.shape)\n"
      ],
      "metadata": {
        "colab": {
          "base_uri": "https://localhost:8080/"
        },
        "id": "agVzVcfropBP",
        "outputId": "887c8c75-9283-4d80-e5a4-a88db7c6be06"
      },
      "execution_count": 3,
      "outputs": [
        {
          "output_type": "stream",
          "name": "stdout",
          "text": [
            "tamaño training: (3436, 7)\n",
            "tamaño test: (2208, 7)\n"
          ]
        }
      ]
    },
    {
      "cell_type": "markdown",
      "source": [
        "En esta tarea, nuestro objetivo es clasificar los mensajes sexistas en las cinco categorías anteriormente definidas. Los mensajes no sexistas no van a ser clasificados y por ese motivo, vamos a eliminarlos, o visto de otra forma, únicamente conservaremos los mensajes clasificados como sexistas en la tarea 1 (task1):"
      ],
      "metadata": {
        "id": "ZxhfNCTMooup"
      }
    },
    {
      "cell_type": "code",
      "source": [
        "df_train = df_train[df_train['task1'] == 'sexist']\n",
        "df_test = df_test[df_test['task1'] == 'sexist']\n",
        "\n",
        "print('tamaño training:', df_train.shape)\n",
        "print('tamaño test:', df_test.shape)\n",
        "\n",
        "df_train.head()"
      ],
      "metadata": {
        "colab": {
          "base_uri": "https://localhost:8080/",
          "height": 311
        },
        "id": "aw6KSckUoxRv",
        "outputId": "7f08c021-ebaf-4cc5-abcb-86ba96875f18"
      },
      "execution_count": 4,
      "outputs": [
        {
          "output_type": "stream",
          "name": "stdout",
          "text": [
            "tamaño training: (1636, 7)\n",
            "tamaño test: (1158, 7)\n"
          ]
        },
        {
          "output_type": "execute_result",
          "data": {
            "text/plain": [
              "    test_case  id   source language  \\\n",
              "0   EXIST2021   1  twitter       en   \n",
              "2   EXIST2021   3  twitter       en   \n",
              "5   EXIST2021   6  twitter       en   \n",
              "10  EXIST2021  11  twitter       en   \n",
              "15  EXIST2021  16  twitter       en   \n",
              "\n",
              "                                                 text   task1  \\\n",
              "0   She calls herself \"anti-feminazi\" how about sh...  sexist   \n",
              "2   @CurvyBandida @Xalynne_B Wow, your skirt is ve...  sexist   \n",
              "5   @Smithcouple971 Hello....m raj....m with good ...  sexist   \n",
              "10  @hapyshoper79 @Dis_Critic @MairiJCam @cazadams...  sexist   \n",
              "15  @Ponderer_O_Purg @BynameRose @GameOverRos @nat...  sexist   \n",
              "\n",
              "                     task2  \n",
              "0   ideological-inequality  \n",
              "2          objectification  \n",
              "5          sexual-violence  \n",
              "10  ideological-inequality  \n",
              "15  ideological-inequality  "
            ],
            "text/html": [
              "\n",
              "  <div id=\"df-3455e9bc-8187-4447-a010-e96fa48e6f00\" class=\"colab-df-container\">\n",
              "    <div>\n",
              "<style scoped>\n",
              "    .dataframe tbody tr th:only-of-type {\n",
              "        vertical-align: middle;\n",
              "    }\n",
              "\n",
              "    .dataframe tbody tr th {\n",
              "        vertical-align: top;\n",
              "    }\n",
              "\n",
              "    .dataframe thead th {\n",
              "        text-align: right;\n",
              "    }\n",
              "</style>\n",
              "<table border=\"1\" class=\"dataframe\">\n",
              "  <thead>\n",
              "    <tr style=\"text-align: right;\">\n",
              "      <th></th>\n",
              "      <th>test_case</th>\n",
              "      <th>id</th>\n",
              "      <th>source</th>\n",
              "      <th>language</th>\n",
              "      <th>text</th>\n",
              "      <th>task1</th>\n",
              "      <th>task2</th>\n",
              "    </tr>\n",
              "  </thead>\n",
              "  <tbody>\n",
              "    <tr>\n",
              "      <th>0</th>\n",
              "      <td>EXIST2021</td>\n",
              "      <td>1</td>\n",
              "      <td>twitter</td>\n",
              "      <td>en</td>\n",
              "      <td>She calls herself \"anti-feminazi\" how about sh...</td>\n",
              "      <td>sexist</td>\n",
              "      <td>ideological-inequality</td>\n",
              "    </tr>\n",
              "    <tr>\n",
              "      <th>2</th>\n",
              "      <td>EXIST2021</td>\n",
              "      <td>3</td>\n",
              "      <td>twitter</td>\n",
              "      <td>en</td>\n",
              "      <td>@CurvyBandida @Xalynne_B Wow, your skirt is ve...</td>\n",
              "      <td>sexist</td>\n",
              "      <td>objectification</td>\n",
              "    </tr>\n",
              "    <tr>\n",
              "      <th>5</th>\n",
              "      <td>EXIST2021</td>\n",
              "      <td>6</td>\n",
              "      <td>twitter</td>\n",
              "      <td>en</td>\n",
              "      <td>@Smithcouple971 Hello....m raj....m with good ...</td>\n",
              "      <td>sexist</td>\n",
              "      <td>sexual-violence</td>\n",
              "    </tr>\n",
              "    <tr>\n",
              "      <th>10</th>\n",
              "      <td>EXIST2021</td>\n",
              "      <td>11</td>\n",
              "      <td>twitter</td>\n",
              "      <td>en</td>\n",
              "      <td>@hapyshoper79 @Dis_Critic @MairiJCam @cazadams...</td>\n",
              "      <td>sexist</td>\n",
              "      <td>ideological-inequality</td>\n",
              "    </tr>\n",
              "    <tr>\n",
              "      <th>15</th>\n",
              "      <td>EXIST2021</td>\n",
              "      <td>16</td>\n",
              "      <td>twitter</td>\n",
              "      <td>en</td>\n",
              "      <td>@Ponderer_O_Purg @BynameRose @GameOverRos @nat...</td>\n",
              "      <td>sexist</td>\n",
              "      <td>ideological-inequality</td>\n",
              "    </tr>\n",
              "  </tbody>\n",
              "</table>\n",
              "</div>\n",
              "    <div class=\"colab-df-buttons\">\n",
              "\n",
              "  <div class=\"colab-df-container\">\n",
              "    <button class=\"colab-df-convert\" onclick=\"convertToInteractive('df-3455e9bc-8187-4447-a010-e96fa48e6f00')\"\n",
              "            title=\"Convert this dataframe to an interactive table.\"\n",
              "            style=\"display:none;\">\n",
              "\n",
              "  <svg xmlns=\"http://www.w3.org/2000/svg\" height=\"24px\" viewBox=\"0 -960 960 960\">\n",
              "    <path d=\"M120-120v-720h720v720H120Zm60-500h600v-160H180v160Zm220 220h160v-160H400v160Zm0 220h160v-160H400v160ZM180-400h160v-160H180v160Zm440 0h160v-160H620v160ZM180-180h160v-160H180v160Zm440 0h160v-160H620v160Z\"/>\n",
              "  </svg>\n",
              "    </button>\n",
              "\n",
              "  <style>\n",
              "    .colab-df-container {\n",
              "      display:flex;\n",
              "      gap: 12px;\n",
              "    }\n",
              "\n",
              "    .colab-df-convert {\n",
              "      background-color: #E8F0FE;\n",
              "      border: none;\n",
              "      border-radius: 50%;\n",
              "      cursor: pointer;\n",
              "      display: none;\n",
              "      fill: #1967D2;\n",
              "      height: 32px;\n",
              "      padding: 0 0 0 0;\n",
              "      width: 32px;\n",
              "    }\n",
              "\n",
              "    .colab-df-convert:hover {\n",
              "      background-color: #E2EBFA;\n",
              "      box-shadow: 0px 1px 2px rgba(60, 64, 67, 0.3), 0px 1px 3px 1px rgba(60, 64, 67, 0.15);\n",
              "      fill: #174EA6;\n",
              "    }\n",
              "\n",
              "    .colab-df-buttons div {\n",
              "      margin-bottom: 4px;\n",
              "    }\n",
              "\n",
              "    [theme=dark] .colab-df-convert {\n",
              "      background-color: #3B4455;\n",
              "      fill: #D2E3FC;\n",
              "    }\n",
              "\n",
              "    [theme=dark] .colab-df-convert:hover {\n",
              "      background-color: #434B5C;\n",
              "      box-shadow: 0px 1px 3px 1px rgba(0, 0, 0, 0.15);\n",
              "      filter: drop-shadow(0px 1px 2px rgba(0, 0, 0, 0.3));\n",
              "      fill: #FFFFFF;\n",
              "    }\n",
              "  </style>\n",
              "\n",
              "    <script>\n",
              "      const buttonEl =\n",
              "        document.querySelector('#df-3455e9bc-8187-4447-a010-e96fa48e6f00 button.colab-df-convert');\n",
              "      buttonEl.style.display =\n",
              "        google.colab.kernel.accessAllowed ? 'block' : 'none';\n",
              "\n",
              "      async function convertToInteractive(key) {\n",
              "        const element = document.querySelector('#df-3455e9bc-8187-4447-a010-e96fa48e6f00');\n",
              "        const dataTable =\n",
              "          await google.colab.kernel.invokeFunction('convertToInteractive',\n",
              "                                                    [key], {});\n",
              "        if (!dataTable) return;\n",
              "\n",
              "        const docLinkHtml = 'Like what you see? Visit the ' +\n",
              "          '<a target=\"_blank\" href=https://colab.research.google.com/notebooks/data_table.ipynb>data table notebook</a>'\n",
              "          + ' to learn more about interactive tables.';\n",
              "        element.innerHTML = '';\n",
              "        dataTable['output_type'] = 'display_data';\n",
              "        await google.colab.output.renderOutput(dataTable, element);\n",
              "        const docLink = document.createElement('div');\n",
              "        docLink.innerHTML = docLinkHtml;\n",
              "        element.appendChild(docLink);\n",
              "      }\n",
              "    </script>\n",
              "  </div>\n",
              "\n",
              "\n",
              "<div id=\"df-52f0b100-b7c8-44c8-9e0d-04ca74c37a48\">\n",
              "  <button class=\"colab-df-quickchart\" onclick=\"quickchart('df-52f0b100-b7c8-44c8-9e0d-04ca74c37a48')\"\n",
              "            title=\"Suggest charts.\"\n",
              "            style=\"display:none;\">\n",
              "\n",
              "<svg xmlns=\"http://www.w3.org/2000/svg\" height=\"24px\"viewBox=\"0 0 24 24\"\n",
              "     width=\"24px\">\n",
              "    <g>\n",
              "        <path d=\"M19 3H5c-1.1 0-2 .9-2 2v14c0 1.1.9 2 2 2h14c1.1 0 2-.9 2-2V5c0-1.1-.9-2-2-2zM9 17H7v-7h2v7zm4 0h-2V7h2v10zm4 0h-2v-4h2v4z\"/>\n",
              "    </g>\n",
              "</svg>\n",
              "  </button>\n",
              "\n",
              "<style>\n",
              "  .colab-df-quickchart {\n",
              "      --bg-color: #E8F0FE;\n",
              "      --fill-color: #1967D2;\n",
              "      --hover-bg-color: #E2EBFA;\n",
              "      --hover-fill-color: #174EA6;\n",
              "      --disabled-fill-color: #AAA;\n",
              "      --disabled-bg-color: #DDD;\n",
              "  }\n",
              "\n",
              "  [theme=dark] .colab-df-quickchart {\n",
              "      --bg-color: #3B4455;\n",
              "      --fill-color: #D2E3FC;\n",
              "      --hover-bg-color: #434B5C;\n",
              "      --hover-fill-color: #FFFFFF;\n",
              "      --disabled-bg-color: #3B4455;\n",
              "      --disabled-fill-color: #666;\n",
              "  }\n",
              "\n",
              "  .colab-df-quickchart {\n",
              "    background-color: var(--bg-color);\n",
              "    border: none;\n",
              "    border-radius: 50%;\n",
              "    cursor: pointer;\n",
              "    display: none;\n",
              "    fill: var(--fill-color);\n",
              "    height: 32px;\n",
              "    padding: 0;\n",
              "    width: 32px;\n",
              "  }\n",
              "\n",
              "  .colab-df-quickchart:hover {\n",
              "    background-color: var(--hover-bg-color);\n",
              "    box-shadow: 0 1px 2px rgba(60, 64, 67, 0.3), 0 1px 3px 1px rgba(60, 64, 67, 0.15);\n",
              "    fill: var(--button-hover-fill-color);\n",
              "  }\n",
              "\n",
              "  .colab-df-quickchart-complete:disabled,\n",
              "  .colab-df-quickchart-complete:disabled:hover {\n",
              "    background-color: var(--disabled-bg-color);\n",
              "    fill: var(--disabled-fill-color);\n",
              "    box-shadow: none;\n",
              "  }\n",
              "\n",
              "  .colab-df-spinner {\n",
              "    border: 2px solid var(--fill-color);\n",
              "    border-color: transparent;\n",
              "    border-bottom-color: var(--fill-color);\n",
              "    animation:\n",
              "      spin 1s steps(1) infinite;\n",
              "  }\n",
              "\n",
              "  @keyframes spin {\n",
              "    0% {\n",
              "      border-color: transparent;\n",
              "      border-bottom-color: var(--fill-color);\n",
              "      border-left-color: var(--fill-color);\n",
              "    }\n",
              "    20% {\n",
              "      border-color: transparent;\n",
              "      border-left-color: var(--fill-color);\n",
              "      border-top-color: var(--fill-color);\n",
              "    }\n",
              "    30% {\n",
              "      border-color: transparent;\n",
              "      border-left-color: var(--fill-color);\n",
              "      border-top-color: var(--fill-color);\n",
              "      border-right-color: var(--fill-color);\n",
              "    }\n",
              "    40% {\n",
              "      border-color: transparent;\n",
              "      border-right-color: var(--fill-color);\n",
              "      border-top-color: var(--fill-color);\n",
              "    }\n",
              "    60% {\n",
              "      border-color: transparent;\n",
              "      border-right-color: var(--fill-color);\n",
              "    }\n",
              "    80% {\n",
              "      border-color: transparent;\n",
              "      border-right-color: var(--fill-color);\n",
              "      border-bottom-color: var(--fill-color);\n",
              "    }\n",
              "    90% {\n",
              "      border-color: transparent;\n",
              "      border-bottom-color: var(--fill-color);\n",
              "    }\n",
              "  }\n",
              "</style>\n",
              "\n",
              "  <script>\n",
              "    async function quickchart(key) {\n",
              "      const quickchartButtonEl =\n",
              "        document.querySelector('#' + key + ' button');\n",
              "      quickchartButtonEl.disabled = true;  // To prevent multiple clicks.\n",
              "      quickchartButtonEl.classList.add('colab-df-spinner');\n",
              "      try {\n",
              "        const charts = await google.colab.kernel.invokeFunction(\n",
              "            'suggestCharts', [key], {});\n",
              "      } catch (error) {\n",
              "        console.error('Error during call to suggestCharts:', error);\n",
              "      }\n",
              "      quickchartButtonEl.classList.remove('colab-df-spinner');\n",
              "      quickchartButtonEl.classList.add('colab-df-quickchart-complete');\n",
              "    }\n",
              "    (() => {\n",
              "      let quickchartButtonEl =\n",
              "        document.querySelector('#df-52f0b100-b7c8-44c8-9e0d-04ca74c37a48 button');\n",
              "      quickchartButtonEl.style.display =\n",
              "        google.colab.kernel.accessAllowed ? 'block' : 'none';\n",
              "    })();\n",
              "  </script>\n",
              "</div>\n",
              "    </div>\n",
              "  </div>\n"
            ]
          },
          "metadata": {},
          "execution_count": 4
        }
      ]
    },
    {
      "cell_type": "markdown",
      "metadata": {
        "id": "MKma9AAxDy6F"
      },
      "source": [
        "En este ejercicio, sólo vamos a usar **text** y **task2**:\n"
      ]
    },
    {
      "cell_type": "code",
      "execution_count": 5,
      "metadata": {
        "colab": {
          "base_uri": "https://localhost:8080/",
          "height": 206
        },
        "id": "8QTuQ1t8E3cY",
        "outputId": "7934fdb2-91fc-45da-cba5-a33e186f7578"
      },
      "outputs": [
        {
          "output_type": "execute_result",
          "data": {
            "text/plain": [
              "   language                                               text  \\\n",
              "0        en  She calls herself \"anti-feminazi\" how about sh...   \n",
              "2        en  @CurvyBandida @Xalynne_B Wow, your skirt is ve...   \n",
              "5        en  @Smithcouple971 Hello....m raj....m with good ...   \n",
              "10       en  @hapyshoper79 @Dis_Critic @MairiJCam @cazadams...   \n",
              "15       en  @Ponderer_O_Purg @BynameRose @GameOverRos @nat...   \n",
              "\n",
              "                     label  \n",
              "0   ideological-inequality  \n",
              "2          objectification  \n",
              "5          sexual-violence  \n",
              "10  ideological-inequality  \n",
              "15  ideological-inequality  "
            ],
            "text/html": [
              "\n",
              "  <div id=\"df-7f946c50-8fa9-4299-be08-5a0b52ccfb3a\" class=\"colab-df-container\">\n",
              "    <div>\n",
              "<style scoped>\n",
              "    .dataframe tbody tr th:only-of-type {\n",
              "        vertical-align: middle;\n",
              "    }\n",
              "\n",
              "    .dataframe tbody tr th {\n",
              "        vertical-align: top;\n",
              "    }\n",
              "\n",
              "    .dataframe thead th {\n",
              "        text-align: right;\n",
              "    }\n",
              "</style>\n",
              "<table border=\"1\" class=\"dataframe\">\n",
              "  <thead>\n",
              "    <tr style=\"text-align: right;\">\n",
              "      <th></th>\n",
              "      <th>language</th>\n",
              "      <th>text</th>\n",
              "      <th>label</th>\n",
              "    </tr>\n",
              "  </thead>\n",
              "  <tbody>\n",
              "    <tr>\n",
              "      <th>0</th>\n",
              "      <td>en</td>\n",
              "      <td>She calls herself \"anti-feminazi\" how about sh...</td>\n",
              "      <td>ideological-inequality</td>\n",
              "    </tr>\n",
              "    <tr>\n",
              "      <th>2</th>\n",
              "      <td>en</td>\n",
              "      <td>@CurvyBandida @Xalynne_B Wow, your skirt is ve...</td>\n",
              "      <td>objectification</td>\n",
              "    </tr>\n",
              "    <tr>\n",
              "      <th>5</th>\n",
              "      <td>en</td>\n",
              "      <td>@Smithcouple971 Hello....m raj....m with good ...</td>\n",
              "      <td>sexual-violence</td>\n",
              "    </tr>\n",
              "    <tr>\n",
              "      <th>10</th>\n",
              "      <td>en</td>\n",
              "      <td>@hapyshoper79 @Dis_Critic @MairiJCam @cazadams...</td>\n",
              "      <td>ideological-inequality</td>\n",
              "    </tr>\n",
              "    <tr>\n",
              "      <th>15</th>\n",
              "      <td>en</td>\n",
              "      <td>@Ponderer_O_Purg @BynameRose @GameOverRos @nat...</td>\n",
              "      <td>ideological-inequality</td>\n",
              "    </tr>\n",
              "  </tbody>\n",
              "</table>\n",
              "</div>\n",
              "    <div class=\"colab-df-buttons\">\n",
              "\n",
              "  <div class=\"colab-df-container\">\n",
              "    <button class=\"colab-df-convert\" onclick=\"convertToInteractive('df-7f946c50-8fa9-4299-be08-5a0b52ccfb3a')\"\n",
              "            title=\"Convert this dataframe to an interactive table.\"\n",
              "            style=\"display:none;\">\n",
              "\n",
              "  <svg xmlns=\"http://www.w3.org/2000/svg\" height=\"24px\" viewBox=\"0 -960 960 960\">\n",
              "    <path d=\"M120-120v-720h720v720H120Zm60-500h600v-160H180v160Zm220 220h160v-160H400v160Zm0 220h160v-160H400v160ZM180-400h160v-160H180v160Zm440 0h160v-160H620v160ZM180-180h160v-160H180v160Zm440 0h160v-160H620v160Z\"/>\n",
              "  </svg>\n",
              "    </button>\n",
              "\n",
              "  <style>\n",
              "    .colab-df-container {\n",
              "      display:flex;\n",
              "      gap: 12px;\n",
              "    }\n",
              "\n",
              "    .colab-df-convert {\n",
              "      background-color: #E8F0FE;\n",
              "      border: none;\n",
              "      border-radius: 50%;\n",
              "      cursor: pointer;\n",
              "      display: none;\n",
              "      fill: #1967D2;\n",
              "      height: 32px;\n",
              "      padding: 0 0 0 0;\n",
              "      width: 32px;\n",
              "    }\n",
              "\n",
              "    .colab-df-convert:hover {\n",
              "      background-color: #E2EBFA;\n",
              "      box-shadow: 0px 1px 2px rgba(60, 64, 67, 0.3), 0px 1px 3px 1px rgba(60, 64, 67, 0.15);\n",
              "      fill: #174EA6;\n",
              "    }\n",
              "\n",
              "    .colab-df-buttons div {\n",
              "      margin-bottom: 4px;\n",
              "    }\n",
              "\n",
              "    [theme=dark] .colab-df-convert {\n",
              "      background-color: #3B4455;\n",
              "      fill: #D2E3FC;\n",
              "    }\n",
              "\n",
              "    [theme=dark] .colab-df-convert:hover {\n",
              "      background-color: #434B5C;\n",
              "      box-shadow: 0px 1px 3px 1px rgba(0, 0, 0, 0.15);\n",
              "      filter: drop-shadow(0px 1px 2px rgba(0, 0, 0, 0.3));\n",
              "      fill: #FFFFFF;\n",
              "    }\n",
              "  </style>\n",
              "\n",
              "    <script>\n",
              "      const buttonEl =\n",
              "        document.querySelector('#df-7f946c50-8fa9-4299-be08-5a0b52ccfb3a button.colab-df-convert');\n",
              "      buttonEl.style.display =\n",
              "        google.colab.kernel.accessAllowed ? 'block' : 'none';\n",
              "\n",
              "      async function convertToInteractive(key) {\n",
              "        const element = document.querySelector('#df-7f946c50-8fa9-4299-be08-5a0b52ccfb3a');\n",
              "        const dataTable =\n",
              "          await google.colab.kernel.invokeFunction('convertToInteractive',\n",
              "                                                    [key], {});\n",
              "        if (!dataTable) return;\n",
              "\n",
              "        const docLinkHtml = 'Like what you see? Visit the ' +\n",
              "          '<a target=\"_blank\" href=https://colab.research.google.com/notebooks/data_table.ipynb>data table notebook</a>'\n",
              "          + ' to learn more about interactive tables.';\n",
              "        element.innerHTML = '';\n",
              "        dataTable['output_type'] = 'display_data';\n",
              "        await google.colab.output.renderOutput(dataTable, element);\n",
              "        const docLink = document.createElement('div');\n",
              "        docLink.innerHTML = docLinkHtml;\n",
              "        element.appendChild(docLink);\n",
              "      }\n",
              "    </script>\n",
              "  </div>\n",
              "\n",
              "\n",
              "<div id=\"df-7729c9a9-a828-422c-8b39-0e9b3f3e60cd\">\n",
              "  <button class=\"colab-df-quickchart\" onclick=\"quickchart('df-7729c9a9-a828-422c-8b39-0e9b3f3e60cd')\"\n",
              "            title=\"Suggest charts.\"\n",
              "            style=\"display:none;\">\n",
              "\n",
              "<svg xmlns=\"http://www.w3.org/2000/svg\" height=\"24px\"viewBox=\"0 0 24 24\"\n",
              "     width=\"24px\">\n",
              "    <g>\n",
              "        <path d=\"M19 3H5c-1.1 0-2 .9-2 2v14c0 1.1.9 2 2 2h14c1.1 0 2-.9 2-2V5c0-1.1-.9-2-2-2zM9 17H7v-7h2v7zm4 0h-2V7h2v10zm4 0h-2v-4h2v4z\"/>\n",
              "    </g>\n",
              "</svg>\n",
              "  </button>\n",
              "\n",
              "<style>\n",
              "  .colab-df-quickchart {\n",
              "      --bg-color: #E8F0FE;\n",
              "      --fill-color: #1967D2;\n",
              "      --hover-bg-color: #E2EBFA;\n",
              "      --hover-fill-color: #174EA6;\n",
              "      --disabled-fill-color: #AAA;\n",
              "      --disabled-bg-color: #DDD;\n",
              "  }\n",
              "\n",
              "  [theme=dark] .colab-df-quickchart {\n",
              "      --bg-color: #3B4455;\n",
              "      --fill-color: #D2E3FC;\n",
              "      --hover-bg-color: #434B5C;\n",
              "      --hover-fill-color: #FFFFFF;\n",
              "      --disabled-bg-color: #3B4455;\n",
              "      --disabled-fill-color: #666;\n",
              "  }\n",
              "\n",
              "  .colab-df-quickchart {\n",
              "    background-color: var(--bg-color);\n",
              "    border: none;\n",
              "    border-radius: 50%;\n",
              "    cursor: pointer;\n",
              "    display: none;\n",
              "    fill: var(--fill-color);\n",
              "    height: 32px;\n",
              "    padding: 0;\n",
              "    width: 32px;\n",
              "  }\n",
              "\n",
              "  .colab-df-quickchart:hover {\n",
              "    background-color: var(--hover-bg-color);\n",
              "    box-shadow: 0 1px 2px rgba(60, 64, 67, 0.3), 0 1px 3px 1px rgba(60, 64, 67, 0.15);\n",
              "    fill: var(--button-hover-fill-color);\n",
              "  }\n",
              "\n",
              "  .colab-df-quickchart-complete:disabled,\n",
              "  .colab-df-quickchart-complete:disabled:hover {\n",
              "    background-color: var(--disabled-bg-color);\n",
              "    fill: var(--disabled-fill-color);\n",
              "    box-shadow: none;\n",
              "  }\n",
              "\n",
              "  .colab-df-spinner {\n",
              "    border: 2px solid var(--fill-color);\n",
              "    border-color: transparent;\n",
              "    border-bottom-color: var(--fill-color);\n",
              "    animation:\n",
              "      spin 1s steps(1) infinite;\n",
              "  }\n",
              "\n",
              "  @keyframes spin {\n",
              "    0% {\n",
              "      border-color: transparent;\n",
              "      border-bottom-color: var(--fill-color);\n",
              "      border-left-color: var(--fill-color);\n",
              "    }\n",
              "    20% {\n",
              "      border-color: transparent;\n",
              "      border-left-color: var(--fill-color);\n",
              "      border-top-color: var(--fill-color);\n",
              "    }\n",
              "    30% {\n",
              "      border-color: transparent;\n",
              "      border-left-color: var(--fill-color);\n",
              "      border-top-color: var(--fill-color);\n",
              "      border-right-color: var(--fill-color);\n",
              "    }\n",
              "    40% {\n",
              "      border-color: transparent;\n",
              "      border-right-color: var(--fill-color);\n",
              "      border-top-color: var(--fill-color);\n",
              "    }\n",
              "    60% {\n",
              "      border-color: transparent;\n",
              "      border-right-color: var(--fill-color);\n",
              "    }\n",
              "    80% {\n",
              "      border-color: transparent;\n",
              "      border-right-color: var(--fill-color);\n",
              "      border-bottom-color: var(--fill-color);\n",
              "    }\n",
              "    90% {\n",
              "      border-color: transparent;\n",
              "      border-bottom-color: var(--fill-color);\n",
              "    }\n",
              "  }\n",
              "</style>\n",
              "\n",
              "  <script>\n",
              "    async function quickchart(key) {\n",
              "      const quickchartButtonEl =\n",
              "        document.querySelector('#' + key + ' button');\n",
              "      quickchartButtonEl.disabled = true;  // To prevent multiple clicks.\n",
              "      quickchartButtonEl.classList.add('colab-df-spinner');\n",
              "      try {\n",
              "        const charts = await google.colab.kernel.invokeFunction(\n",
              "            'suggestCharts', [key], {});\n",
              "      } catch (error) {\n",
              "        console.error('Error during call to suggestCharts:', error);\n",
              "      }\n",
              "      quickchartButtonEl.classList.remove('colab-df-spinner');\n",
              "      quickchartButtonEl.classList.add('colab-df-quickchart-complete');\n",
              "    }\n",
              "    (() => {\n",
              "      let quickchartButtonEl =\n",
              "        document.querySelector('#df-7729c9a9-a828-422c-8b39-0e9b3f3e60cd button');\n",
              "      quickchartButtonEl.style.display =\n",
              "        google.colab.kernel.accessAllowed ? 'block' : 'none';\n",
              "    })();\n",
              "  </script>\n",
              "</div>\n",
              "    </div>\n",
              "  </div>\n"
            ]
          },
          "metadata": {},
          "execution_count": 5
        }
      ],
      "source": [
        "df_train = df_train.drop(['test_case', 'id', 'source', 'task1'], axis=1)\n",
        "df_test = df_test.drop(['test_case', 'id', 'source', 'task1'], axis=1)\n",
        "# renombramos task1 a label\n",
        "df_train = df_train.rename(columns={'task2':'label'})\n",
        "df_test = df_test.rename(columns={'task2':'label'})\n",
        "# mostramos los primeros registros del training\n",
        "df_train.head()"
      ]
    },
    {
      "cell_type": "markdown",
      "source": [
        "Ya vimos en el ejercicio anterior, que la distribución de las clases es similar en los dos conjuntos: training y test.\n",
        "Respecto a las clases, la más frecuente es 'ideological inequality', y la menos 'objetification'. Es de esperar que el modelo proporcione resultados más bajos para las clases menos frecuentes."
      ],
      "metadata": {
        "id": "gTl0RYNspOJs"
      }
    },
    {
      "cell_type": "markdown",
      "metadata": {
        "id": "N0zJ8yE_HfcX"
      },
      "source": [
        "## Label encoding\n",
        "\n",
        "Esta tarea consiste en transformar las labels de formato a texto a un formato numérico.\n",
        "\n",
        "En el caso de multi-clasifición, cada clase se va a representar con un vector one-hot.\n"
      ]
    },
    {
      "cell_type": "code",
      "execution_count": 30,
      "metadata": {
        "colab": {
          "base_uri": "https://localhost:8080/"
        },
        "id": "DbopRfZzGiWA",
        "outputId": "c48d7157-492d-4e64-ff77-3cf3762b6b51"
      },
      "outputs": [
        {
          "output_type": "stream",
          "name": "stdout",
          "text": [
            "{'stereotyping-dominance', 'misogyny-non-sexual-violence', 'sexual-violence', 'objectification', 'ideological-inequality'}\n",
            "antes de transform:  ['ideological-inequality', 'objectification', 'sexual-violence', 'ideological-inequality', 'ideological-inequality', 'stereotyping-dominance', 'ideological-inequality', 'sexual-violence', 'ideological-inequality', 'sexual-violence']\n",
            "labels: ['ideological-inequality' 'misogyny-non-sexual-violence' 'objectification'\n",
            " 'sexual-violence' 'stereotyping-dominance']\n",
            "después de transform: [0 2 3 0 0 4 0 3 0 3]\n",
            "después de transform: [[1. 0. 0. 0. 0.]\n",
            " [0. 0. 1. 0. 0.]\n",
            " [0. 0. 0. 1. 0.]\n",
            " [1. 0. 0. 0. 0.]\n",
            " [1. 0. 0. 0. 0.]\n",
            " [0. 0. 0. 0. 1.]\n",
            " [1. 0. 0. 0. 0.]\n",
            " [0. 0. 0. 1. 0.]\n",
            " [1. 0. 0. 0. 0.]\n",
            " [0. 0. 0. 1. 0.]]\n"
          ]
        }
      ],
      "source": [
        "from sklearn.preprocessing import LabelEncoder\n",
        "from keras.utils import to_categorical\n",
        "\n",
        "y_train = df_train['label'].tolist()\n",
        "# print(NUM_LABELS)\n",
        "\n",
        "\n",
        "y_test = df_test['label'].tolist()\n",
        "\n",
        "le = LabelEncoder()\n",
        "\n",
        "print(\"antes de transform: \", y_train[:10])\n",
        "y_train = le.fit_transform(y_train)\n",
        "print(\"labels:\", le.classes_)\n",
        "LABELS = le.classes_\n",
        "NUM_LABELS = len(LABELS)\n",
        "\n",
        "print(\"después de transform:\", y_train[:10])\n",
        "y_train_cat = to_categorical(y_train)\n",
        "print(\"después de transform:\", y_train_cat[:10])\n",
        "\n",
        "y_test = le.fit_transform(y_test)\n",
        "y_test_cat = to_categorical(y_test)\n"
      ]
    },
    {
      "cell_type": "markdown",
      "source": [
        "## Representación de los textos\n",
        "\n",
        "Para que los textos puedan ser interpretados por el modelo CNN, necesitan también ser representado en un formato que pueda entender dicho modelo.\n",
        "Vamos a aplicar los mismo pasos que se utilizaron en el ejercicio 2.1.\n"
      ],
      "metadata": {
        "id": "m8dIqRsN66-B"
      }
    },
    {
      "cell_type": "code",
      "source": [
        "from keras.preprocessing.text import Tokenizer\n",
        "\n",
        "X_train = df_train['text'].tolist()\n",
        "\n",
        "tokenizer = Tokenizer(oov_token = True)\n",
        "tokenizer.fit_on_texts(X_train)\n",
        "\n",
        "tokenizer.word_index['<PAD>'] = 0\n",
        "\n",
        "NUM_WORDS=len(tokenizer.word_index)\n",
        "print(\"Tamaño del vocabulario ={}\".format(NUM_WORDS))"
      ],
      "metadata": {
        "colab": {
          "base_uri": "https://localhost:8080/"
        },
        "id": "SYNMHY0U7_ZW",
        "outputId": "de5eb4e0-86f1-4d69-d731-329bef9519c8"
      },
      "execution_count": 7,
      "outputs": [
        {
          "output_type": "stream",
          "name": "stdout",
          "text": [
            "Tamaño del vocabulario =9427\n"
          ]
        }
      ]
    },
    {
      "cell_type": "code",
      "source": [
        "from keras.utils import pad_sequences\n",
        "MAX_LEN=45\n",
        "encoded_train = tokenizer.texts_to_sequences(X_train)\n",
        "encoded_train_pad = pad_sequences(encoded_train, maxlen = MAX_LEN,\n",
        "                              padding='post', truncating='post')\n"
      ],
      "metadata": {
        "id": "x-IHxP4k-S6C"
      },
      "execution_count": 13,
      "outputs": []
    },
    {
      "cell_type": "markdown",
      "source": [
        "## Cargar el modelo de word embeddings\n",
        "El siguiente paso será cargar el modelo pre-entrenado de word embeddings. En este ejercicio, vamos a utilizar el modelo **glove-wiki-gigaword-50**, que es relativamente pequeño (y nos permitirá ejecutar este notebook en un tiempo corto). Para cargarlo usaremos la librería Gensim.\n",
        "\n",
        "Puedes probar con otros modelos de word embeddings (https://github.com/RaRe-Technologies/gensim-data)."
      ],
      "metadata": {
        "id": "4DEJ2j-KSHm8"
      }
    },
    {
      "cell_type": "code",
      "source": [
        "import gensim.downloader as api\n",
        "model_we = api.load(\"glove-wiki-gigaword-50\")\n"
      ],
      "metadata": {
        "colab": {
          "base_uri": "https://localhost:8080/"
        },
        "id": "nbi3KfpfSMmg",
        "outputId": "d032d28a-6a4d-4a11-efde-0c9350b91300"
      },
      "execution_count": 8,
      "outputs": [
        {
          "output_type": "stream",
          "name": "stdout",
          "text": [
            "[==================================================] 100.0% 66.0/66.0MB downloaded\n"
          ]
        }
      ]
    },
    {
      "cell_type": "markdown",
      "source": [
        "Obtenemos la dimensión de los embeddings:"
      ],
      "metadata": {
        "id": "Tb9tlNz6SXaW"
      }
    },
    {
      "cell_type": "code",
      "source": [
        "wv = model_we['house']\n",
        "print(wv.shape)\n",
        "EMBED_SIZE=wv.shape[0]\n",
        "print(EMBED_SIZE)\n"
      ],
      "metadata": {
        "colab": {
          "base_uri": "https://localhost:8080/"
        },
        "id": "vOreIa9BSZYw",
        "outputId": "9fc50582-9def-4d6d-8700-61acf601f798"
      },
      "execution_count": 9,
      "outputs": [
        {
          "output_type": "stream",
          "name": "stdout",
          "text": [
            "(50,)\n",
            "50\n"
          ]
        }
      ]
    },
    {
      "cell_type": "markdown",
      "source": [
        "## Crear matriz de embeddings\n",
        "Una vez cargado el modelo, continuamos creando una matriz de tamaño |V| x d, donde |V| ya hemos visto que es igual a 16645, y d es 50 (la dimensión de los vectores en el modelo glove-wiki-gigaword-50). La matriz la inicializamos a 0."
      ],
      "metadata": {
        "id": "Y88qdKZZST_K"
      }
    },
    {
      "cell_type": "code",
      "source": [
        "import numpy as np\n",
        "embedding_matrix = np.zeros((NUM_WORDS, EMBED_SIZE))\n",
        "for word, i in tokenizer.word_index.items():\n",
        "    try:\n",
        "        embedding_vector = model_we[word]\n",
        "        # word embedding para la palabra con índice i\n",
        "        embedding_matrix[i] = embedding_vector\n",
        "    except:\n",
        "        #if word does not exist, we do not udpate the matrix\n",
        "        pass\n",
        "\n",
        "print('matriz creada')\n",
        "\n",
        "embedding_matrix"
      ],
      "metadata": {
        "colab": {
          "base_uri": "https://localhost:8080/"
        },
        "id": "1_KkkMZgSeZL",
        "outputId": "28f46310-f3fa-4977-f960-5f88cfb3f895"
      },
      "execution_count": 14,
      "outputs": [
        {
          "output_type": "stream",
          "name": "stdout",
          "text": [
            "matriz creada\n"
          ]
        },
        {
          "output_type": "execute_result",
          "data": {
            "text/plain": [
              "array([[ 0.00000000e+00,  0.00000000e+00,  0.00000000e+00, ...,\n",
              "         0.00000000e+00,  0.00000000e+00,  0.00000000e+00],\n",
              "       [ 0.00000000e+00,  0.00000000e+00,  0.00000000e+00, ...,\n",
              "         0.00000000e+00,  0.00000000e+00,  0.00000000e+00],\n",
              "       [ 2.17050001e-01,  4.65149999e-01, -4.67570007e-01, ...,\n",
              "        -4.37819995e-02,  4.10129994e-01,  1.79600000e-01],\n",
              "       ...,\n",
              "       [-1.87619999e-01, -5.59580028e-01, -1.22950003e-01, ...,\n",
              "         3.03319991e-01, -6.16909981e-01,  4.10899997e-01],\n",
              "       [ 0.00000000e+00,  0.00000000e+00,  0.00000000e+00, ...,\n",
              "         0.00000000e+00,  0.00000000e+00,  0.00000000e+00],\n",
              "       [ 5.09389997e-01, -8.13610017e-01, -2.60380004e-02, ...,\n",
              "         8.20909976e-04, -8.71699989e-01, -3.34560007e-01]])"
            ]
          },
          "metadata": {},
          "execution_count": 14
        }
      ]
    },
    {
      "cell_type": "markdown",
      "source": [
        "## CNN\n",
        "\n",
        "Una vez que ya hemos procesado el texto, podemos definir el modelo.\n",
        "\n"
      ],
      "metadata": {
        "id": "ELHg0eDvIbsP"
      }
    },
    {
      "cell_type": "code",
      "source": [
        "import tensorflow as tf\n",
        "# asegurar que los experimentos se pueden reproducir\n",
        "tf.random.set_seed(42)\n",
        "tf.__version__"
      ],
      "metadata": {
        "colab": {
          "base_uri": "https://localhost:8080/",
          "height": 36
        },
        "id": "aDiJH4YkIidD",
        "outputId": "07b10b25-b5fa-4b1f-ff55-bc4e83880419"
      },
      "execution_count": 11,
      "outputs": [
        {
          "output_type": "execute_result",
          "data": {
            "text/plain": [
              "'2.13.0'"
            ],
            "application/vnd.google.colaboratory.intrinsic+json": {
              "type": "string"
            }
          },
          "metadata": {},
          "execution_count": 11
        }
      ]
    },
    {
      "cell_type": "markdown",
      "source": [
        "### Crear el modelo\n",
        "En este ejercicio, vamos a emplear la misma arquitectura CNN que ya usamos para resolver la multi-clasificación de mensajes sexistas.\n",
        "La única diferencia está en la capa Embedding, donde vamos a pasar al argumento **weights** la matriz que acabamos de crear:"
      ],
      "metadata": {
        "id": "zLaF_jiBIre2"
      }
    },
    {
      "cell_type": "code",
      "source": [
        "from keras.models import Sequential\n",
        "from keras.layers import Flatten, Dense, Embedding, Conv1D, MaxPooling1D\n",
        "\n",
        "model = Sequential()\n",
        "EMBEDDING_SIZE=50 #probar con 200, 300\n",
        "\n",
        "### Esta es la única capa que se ve modificada\n",
        "model.add(Embedding(NUM_WORDS, EMBED_SIZE,\n",
        "                        input_length=MAX_LEN,\n",
        "                        weights=[embedding_matrix]))\n",
        "\n",
        "model.add(Conv1D(filters=128, kernel_size=4, padding='same', activation='relu'))\n",
        "model.add(MaxPooling1D(pool_size=2))\n",
        "\n",
        "model.add(Conv1D(filters=64, kernel_size=3, padding='same', activation='relu'))\n",
        "model.add(MaxPooling1D(pool_size=2))\n",
        "\n",
        "model.add(Conv1D(filters=32, kernel_size=2, padding='same', activation='relu'))\n",
        "model.add(MaxPooling1D(pool_size=2))"
      ],
      "metadata": {
        "id": "jorrBYEnIv7x"
      },
      "execution_count": 18,
      "outputs": []
    },
    {
      "cell_type": "markdown",
      "source": [
        "A continuación, ya podemos añadir otras capas como una capa Densa (suelen mejorar los resultados de clasificación).\n",
        "La última capa usa la función **softmax** con cinco neuronas, una por cada clase, y va a devolver una probabilidad por cada una de ellas.\n",
        "El modelo va a proponer la clase con mayor probabilidad.\n",
        "\n",
        "Además, debemos indicar el optimizador y la función de coste, que al ser un problema de multi-clasificación debe ser **categorical_crossentropy**:"
      ],
      "metadata": {
        "id": "1PfbBQZ3LOLa"
      }
    },
    {
      "cell_type": "code",
      "source": [
        "\n",
        "model.add(Flatten())\n",
        "model.add(Dense(50, activation='relu'))\n",
        "model.add(Dense(NUM_LABELS, activation='softmax'))\n",
        "model.compile(loss='categorical_crossentropy', optimizer='adam', metrics=['accuracy'])\n",
        "\n",
        "model.summary()"
      ],
      "metadata": {
        "id": "ivY86-jUIms4",
        "colab": {
          "base_uri": "https://localhost:8080/"
        },
        "outputId": "54aafa99-fdc0-4d49-a939-a1ac818443be"
      },
      "execution_count": 21,
      "outputs": [
        {
          "output_type": "stream",
          "name": "stdout",
          "text": [
            "Model: \"sequential_3\"\n",
            "_________________________________________________________________\n",
            " Layer (type)                Output Shape              Param #   \n",
            "=================================================================\n",
            " embedding_2 (Embedding)     (None, 45, 50)            471350    \n",
            "                                                                 \n",
            " conv1d_6 (Conv1D)           (None, 45, 128)           25728     \n",
            "                                                                 \n",
            " max_pooling1d_6 (MaxPoolin  (None, 22, 128)           0         \n",
            " g1D)                                                            \n",
            "                                                                 \n",
            " conv1d_7 (Conv1D)           (None, 22, 64)            24640     \n",
            "                                                                 \n",
            " max_pooling1d_7 (MaxPoolin  (None, 11, 64)            0         \n",
            " g1D)                                                            \n",
            "                                                                 \n",
            " conv1d_8 (Conv1D)           (None, 11, 32)            4128      \n",
            "                                                                 \n",
            " max_pooling1d_8 (MaxPoolin  (None, 5, 32)             0         \n",
            " g1D)                                                            \n",
            "                                                                 \n",
            " flatten (Flatten)           (None, 160)               0         \n",
            "                                                                 \n",
            " dense (Dense)               (None, 50)                8050      \n",
            "                                                                 \n",
            " flatten_1 (Flatten)         (None, 50)                0         \n",
            "                                                                 \n",
            " dense_1 (Dense)             (None, 50)                2550      \n",
            "                                                                 \n",
            " dense_2 (Dense)             (None, 5)                 255       \n",
            "                                                                 \n",
            "=================================================================\n",
            "Total params: 536701 (2.05 MB)\n",
            "Trainable params: 536701 (2.05 MB)\n",
            "Non-trainable params: 0 (0.00 Byte)\n",
            "_________________________________________________________________\n"
          ]
        }
      ]
    },
    {
      "cell_type": "markdown",
      "source": [
        "### Entrenar el modelo\n",
        "\n"
      ],
      "metadata": {
        "id": "Rskoc7l4LwyL"
      }
    },
    {
      "cell_type": "code",
      "source": [
        "from keras.callbacks import ModelCheckpoint, EarlyStopping\n",
        "# Para el entrenamiento después de 3 epochs sin el error en el conjunto de validación no mejora\n",
        "earlyStopping = EarlyStopping(monitor='val_loss', min_delta=0, patience=3, verbose=0, mode='auto')\n"
      ],
      "metadata": {
        "id": "gfeaxw4wjKvB"
      },
      "execution_count": 22,
      "outputs": []
    },
    {
      "cell_type": "code",
      "source": [
        "epochs = 10\n",
        "batch_size = 16\n",
        "\n",
        "# training\n",
        "history=model.fit(encoded_train_pad,  # textos preprocesados\n",
        "                  y_train_cat,          # labels en formato one-hot\n",
        "                  epochs=epochs,\n",
        "                  batch_size=batch_size,\n",
        "                  validation_split=0.2,\n",
        "                  callbacks=[earlyStopping],\n",
        "                  )\n"
      ],
      "metadata": {
        "colab": {
          "base_uri": "https://localhost:8080/"
        },
        "id": "msOPoXmMhxWd",
        "outputId": "1e8d95cf-5fdb-42b0-d7c3-10445cb03a2d"
      },
      "execution_count": 23,
      "outputs": [
        {
          "output_type": "stream",
          "name": "stdout",
          "text": [
            "Epoch 1/10\n",
            "82/82 [==============================] - 2s 12ms/step - loss: 1.5657 - accuracy: 0.2943 - val_loss: 1.5506 - val_accuracy: 0.3628\n",
            "Epoch 2/10\n",
            "82/82 [==============================] - 1s 11ms/step - loss: 1.3815 - accuracy: 0.4358 - val_loss: 1.3762 - val_accuracy: 0.4482\n",
            "Epoch 3/10\n",
            "82/82 [==============================] - 1s 11ms/step - loss: 1.1471 - accuracy: 0.5352 - val_loss: 1.3933 - val_accuracy: 0.4238\n",
            "Epoch 4/10\n",
            "82/82 [==============================] - 1s 10ms/step - loss: 0.8574 - accuracy: 0.6789 - val_loss: 1.4159 - val_accuracy: 0.4390\n",
            "Epoch 5/10\n",
            "82/82 [==============================] - 1s 8ms/step - loss: 0.5619 - accuracy: 0.8050 - val_loss: 1.4290 - val_accuracy: 0.4878\n"
          ]
        }
      ]
    },
    {
      "cell_type": "markdown",
      "source": [
        "El entrenamiento se detiene en la epoch 5."
      ],
      "metadata": {
        "id": "_o5hSiILj7cW"
      }
    },
    {
      "cell_type": "markdown",
      "source": [
        "### Curvas de aprendizaje\n",
        "\n",
        "Estos gráficos nos permiten ver cómo el modelo aprende a lo largo de su entrenamiento, en concreto, muestran sus resultados al ser evaluados en cada epoch sobre su conjunto de entrenamiento y el conjunto de validación. Se pueden mostrar gráficos distintos para el acuracy y para el error (su comportamiento será opuesto).\n",
        "\n",
        "Estas curvas se utilizan para diagnosticar un modelo que no es capaz de resolver la tarea, que sufre de sobre-aprendizaje (se ajusta perfecgtamente al conjunto de entrenamiento, pero no es capaz de resolver el problema en el conjunto de validación), o si el modelo está bien ajustado.\n",
        "\n",
        "\n"
      ],
      "metadata": {
        "id": "VXJr-jUOjvEL"
      }
    },
    {
      "cell_type": "code",
      "source": [
        "import matplotlib.pyplot as plt\n",
        "\n",
        "history_dict = history.history\n",
        "loss_values = history_dict['loss']\n",
        "val_loss_values = history_dict['val_loss']\n",
        "accuracy = history_dict['accuracy']\n",
        "val_accuracy = history_dict['val_accuracy']\n",
        "\n",
        "epochs = range(1, len(loss_values) + 1)\n",
        "fig, ax = plt.subplots(1, 2, figsize=(14, 6))\n",
        "#\n",
        "# Curva accuracy vs Epochs\n",
        "#\n",
        "ax[0].plot(epochs, accuracy, 'b', label='Training accuracy')\n",
        "ax[0].plot(epochs, val_accuracy, 'red', label='Validation accuracy')\n",
        "ax[0].set_title('Training & Validation Accuracy', fontsize=16)\n",
        "ax[0].set_xlabel('Epochs', fontsize=16)\n",
        "ax[0].set_ylabel('Accuracy', fontsize=16)\n",
        "ax[0].legend()\n",
        "#\n",
        "# Curva loss vs Epochs\n",
        "#\n",
        "ax[1].plot(epochs, loss_values, 'b', label='Training loss')\n",
        "ax[1].plot(epochs, val_loss_values, 'red', label='Validation loss')\n",
        "ax[1].set_title('Training & Validation Loss', fontsize=16)\n",
        "ax[1].set_xlabel('Epochs', fontsize=16)\n",
        "ax[1].set_ylabel('Loss', fontsize=16)\n",
        "ax[1].legend()"
      ],
      "metadata": {
        "colab": {
          "base_uri": "https://localhost:8080/",
          "height": 444
        },
        "id": "P0s4VhwPkH8U",
        "outputId": "463e1988-abf4-4f43-afaa-0ca9f0e48374"
      },
      "execution_count": 24,
      "outputs": [
        {
          "output_type": "execute_result",
          "data": {
            "text/plain": [
              "<matplotlib.legend.Legend at 0x785e5642ed40>"
            ]
          },
          "metadata": {},
          "execution_count": 24
        },
        {
          "output_type": "display_data",
          "data": {
            "text/plain": [
              "<Figure size 1400x600 with 2 Axes>"
            ],
            "image/png": "[encoded data removed]"
          },
          "metadata": {}
        }
      ]
    },
    {
      "cell_type": "markdown",
      "source": [
        "Si nos fijamos en las curva del error, mientras que la curva del entrenamiento se aproxima a 0, el error en la validación aumenta. Esto significa que el modelo no ha aprendido a resolver el problema.\n",
        "Por tanto, será necesario utilizar más datos y además, investigar en un modelo más complejo que sea capaz de resolver la tarea.\n",
        "\n",
        "Idealmente, ambas curvas loss deberían tender a 0. Ese caso significa que el modelo es capaz de generalizar y resolve la tarea en el conjunto de validación."
      ],
      "metadata": {
        "id": "WeTLQiCOnJbG"
      }
    },
    {
      "cell_type": "markdown",
      "metadata": {
        "id": "ZvGkVc4mdEeT"
      },
      "source": [
        "### Evaluar el modelo\n",
        "\n"
      ]
    },
    {
      "cell_type": "markdown",
      "source": [
        "Aunque las curvas de aprendizaje nos dicen que deberíamos seguir investigando en mejorar el modelo, vamos a evaluarlo sobre el conjunto test. En primer lugar, vamos a obtener las métricas loss y  accuracy en dicho conjunto (que no ha sido utilizado en ninguna fase del entrenamiento).\n",
        "En el modelo CNN con inicialización aleatoria, los resultados eran:\n",
        "loss: 2.6302 - accuracy: 0.4050\n",
        "\n"
      ],
      "metadata": {
        "id": "Je9L6jw5kcIJ"
      }
    },
    {
      "cell_type": "code",
      "source": [
        "X_test = df_test['text'].tolist()\n",
        "encoded_test = tokenizer.texts_to_sequences(X_test)\n",
        "encoded_test = pad_sequences(encoded_test, maxlen = MAX_LEN, padding='post')\n",
        "\n",
        "loss, accuracy = model.evaluate(encoded_test, y_test_cat, batch_size=batch_size)\n"
      ],
      "metadata": {
        "colab": {
          "base_uri": "https://localhost:8080/"
        },
        "id": "oxC1d2kRkaYy",
        "outputId": "766f1339-b494-4c27-9995-6f643d5b4e4f"
      },
      "execution_count": 25,
      "outputs": [
        {
          "output_type": "stream",
          "name": "stdout",
          "text": [
            "73/73 [==============================] - 0s 2ms/step - loss: 1.5233 - accuracy: 0.4594\n"
          ]
        }
      ]
    },
    {
      "cell_type": "markdown",
      "source": [
        "Por tanto, podemos concluir que el uso de word embeddings ha mejorado los resultados (aunque todavía son muy bajos y sería necesario investigar con otra arquitectura e hiperparámetros)."
      ],
      "metadata": {
        "id": "D52FgWDpT7oO"
      }
    },
    {
      "cell_type": "markdown",
      "source": [
        "\n",
        "\n",
        "Es posible obtener una evaluación más detallada con las métricas de precisión, recall y F1, para cada clase, gracias a la librería sklearn.\n",
        "\n",
        "Antes vamos a recordar los resultados que obtenía el modelo CNN con inicialización aleatoria:\n",
        "\n",
        "||precision|    recall|  f1-score|   support|\n",
        "|--|--|--|--|--|\n",
        "|ideological-inequality|0.47|0.62|0.54|333|\n",
        "|stereotyping-dominance|0.36|0.24|0.29|215|\n",
        "|sexual-violence|0.42|0.24|0.31|150|\n",
        "|misogyny-non-sexual-violence|0.61|0.22|0.33|198|\n",
        "|objectification|0.31|0.50|0.38|262|\n",
        "|accuracy |--|--|0.41|1158|\n",
        "|macro avg|0.44|0.36|0.37|1158|\n",
        "|weighted avg|0.43|0.41|0.39|1158|"
      ],
      "metadata": {
        "id": "vM3ovYXLkgC8"
      }
    },
    {
      "cell_type": "code",
      "execution_count": 31,
      "metadata": {
        "id": "PLEd-07ldKSB",
        "colab": {
          "base_uri": "https://localhost:8080/"
        },
        "outputId": "d6310876-3caf-4f6b-d981-b3aef6faef4c"
      },
      "outputs": [
        {
          "output_type": "stream",
          "name": "stdout",
          "text": [
            "37/37 [==============================] - 0s 3ms/step\n",
            "accuracy: 0.459412780656304\n",
            "                              precision    recall  f1-score   support\n",
            "\n",
            "      stereotyping-dominance       0.55      0.70      0.61       333\n",
            "misogyny-non-sexual-violence       0.43      0.14      0.22       215\n",
            "             sexual-violence       0.36      0.29      0.32       150\n",
            "             objectification       0.44      0.45      0.44       198\n",
            "      ideological-inequality       0.40      0.51      0.45       262\n",
            "\n",
            "                    accuracy                           0.46      1158\n",
            "                   macro avg       0.44      0.42      0.41      1158\n",
            "                weighted avg       0.45      0.46      0.44      1158\n",
            "\n"
          ]
        }
      ],
      "source": [
        "import numpy as np\n",
        "from sklearn.metrics import accuracy_score, classification_report\n",
        "y_pred = np.argmax(model.predict(encoded_test), axis=1)\n",
        "# print(y_pred[0:10])\n",
        "\n",
        "print('accuracy:', accuracy_score(y_test, y_pred))\n",
        "print(classification_report(y_test, y_pred, target_names=LABELS))"
      ]
    },
    {
      "cell_type": "markdown",
      "source": [
        "Podemos ver que aunque los resultados siguen siendo bastante bajos, la macro-F1 y la mayoría de las F1 se ven mejoradas con el uso de los word embeddings.\n"
      ],
      "metadata": {
        "id": "-6C5PfApn4j9"
      }
    },
    {
      "cell_type": "code",
      "execution_count": 32,
      "metadata": {
        "colab": {
          "base_uri": "https://localhost:8080/",
          "height": 538
        },
        "id": "oWiIoWWMUyWQ",
        "outputId": "9d2f5868-6592-440c-8ace-86fa6e3f8efa"
      },
      "outputs": [
        {
          "output_type": "stream",
          "name": "stdout",
          "text": [
            "[[234  14   7  21  57]\n",
            " [ 55  31  27  55  47]\n",
            " [ 16   5  44  29  56]\n",
            " [ 29  17  26  89  37]\n",
            " [ 94   5  19  10 134]]\n"
          ]
        },
        {
          "output_type": "display_data",
          "data": {
            "text/plain": [
              "<Figure size 640x480 with 2 Axes>"
            ],
            "image/png": "[encoded data removed]"
          },
          "metadata": {}
        }
      ],
      "source": [
        "import matplotlib.pyplot as plt\n",
        "\n",
        "from sklearn.metrics import confusion_matrix, ConfusionMatrixDisplay\n",
        "print(confusion_matrix(y_test, y_pred))\n",
        "disp=ConfusionMatrixDisplay.from_predictions(y_test, y_pred, cmap=plt.cm.Blues)\n"
      ]
    },
    {
      "cell_type": "markdown",
      "source": [
        "Prueba con otras configuraciones de capas convolucionales y maxpooling.\n",
        "Además, también es recomendable que pruebes con un número distinto de epochs y batch y que modifiques el proceso de EarlyStopping."
      ],
      "metadata": {
        "id": "bN9ZP3d9qBwo"
      }
    }
  ],
  "metadata": {
    "colab": {
      "provenance": [],
      "toc_visible": true,
      "authorship_tag": "ABX9TyNSpJ+Ny+6y4CuLYYmWNIYj",
      "include_colab_link": true
    },
    "kernelspec": {
      "display_name": "Python 3",
      "name": "python3"
    },
    "language_info": {
      "name": "python"
    }
  },
  "nbformat": 4,
  "nbformat_minor": 0
}
