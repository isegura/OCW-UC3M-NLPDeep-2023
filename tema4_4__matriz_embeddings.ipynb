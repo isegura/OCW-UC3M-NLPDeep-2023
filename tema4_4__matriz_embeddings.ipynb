{
  "cells": [
    {
      "cell_type": "markdown",
      "metadata": {
        "id": "view-in-github",
        "colab_type": "text"
      },
      "source": [
        "<a href=\"https://colab.research.google.com/github/isegura/OCW-UC3M-NLPDeep-2023/blob/main/tema4_4__matriz_embeddings.ipynb\" target=\"_parent\"><img src=\"https://colab.research.google.com/assets/colab-badge.svg\" alt=\"Open In Colab\"/></a>"
      ]
    },
    {
      "cell_type": "markdown",
      "metadata": {
        "id": "4btRBQljoPw8"
      },
      "source": [
        "<center>\n",
        "<img src=\"https://upload.wikimedia.org/wikipedia/commons/4/47/Acronimo_y_nombre_uc3m.png\" width=50%/>\n",
        "\n",
        "<h1><font color='#12007a'>Procesamiento de Lenguaje Natural con Aprendizaje Profundo</font></h1>\n",
        "<p>Autora: Isabel Segura Bedmar</p>\n",
        "\n",
        "<img align='right' src=\"https://mirrors.creativecommons.org/presskit/buttons/88x31/png/by-nc-sa.png\" width=15%/>\n",
        "</center>   "
      ]
    },
    {
      "cell_type": "markdown",
      "metadata": {
        "id": "f64bBXyhpxTR"
      },
      "source": [
        "# 4.4 ¿Cómo crear una matriz de word embeddings a partir de un modelo de word embeddings?\n",
        "\n"
      ]
    },
    {
      "cell_type": "markdown",
      "metadata": {
        "id": "4tQuGHo4aBe1"
      },
      "source": [
        "En los temas 2 y 3, aprendimos a entrenar modelos de deep learning, en particular CNN y BiLSTM, para la tarea de clasificación de textos. En dichos modelos, los tokens eran reprsentados por vectores que se inicializaban de forma aleatoria en la capa Embedding.\n",
        "\n",
        "En este ejercicio, aprenderemos a crear una matriz de embeddings a partir de un modelo de word embeddings. La matriz tendrá tantas filas como número de tokens distintos en la colección de textos utilizada para entrenar un modelo de deep learning. Cada fila representa el word embedding de un determinado token, que será de un modelo pre-entrenado de word embedding.\n",
        "El número de columnas será igual a la dimensión de los embeddings en dicho modelo pre-entrenado.\n",
        "\n",
        "\n",
        "De esta forma, cuando vayamos a inicializar los vectores de los tokens en nuestro modelo de deep learning, en lugar de hacerlo de forma aleatoria, usaremos dicha matriz."
      ]
    },
    {
      "cell_type": "markdown",
      "source": [
        "El dataset a utilizar es la colección de textos proporcionada por los organizadores de la competición EXIST 2021, cuyo principal objetivo era detectar mensajes sexistas en las redes sociales.\n",
        "\n",
        "Este dataset puede solicitarse para usos en investigación en el siguiente http://nlp.uned.es/exist2021/.\n",
        "\n",
        "\n",
        "\n",
        "**NOTA PARA PODER EJECUTAR ESTE NOTEBOOK**:\n",
        "\n",
        "1) Para poder ejercutar correctamente este notebook, deberás abrirlo en tu Google Drive (por ejemplo, en la carpeta 'Colab Notebooks').\n",
        "\n",
        "2) Además, debes guardar el dataset en tu Google Drive, dentro de carpeta 'Colab Notebooks/data/exist2021/'.\n"
      ],
      "metadata": {
        "id": "rf3u4dW1uwp8"
      }
    },
    {
      "cell_type": "markdown",
      "metadata": {
        "id": "HXV_Kwa-dNPU"
      },
      "source": [
        "## Cargar el dataset\n",
        "Lo primero que debes hacer es cargar el dataset. Como hemos comentado antes, recuerda que para que puedas ejecutar este notebook, deberás haber descargado los ficheros del dataset y haberlos almacenados en tu carpeta 'Colab Notebooks/data/exist2021/' dentro de tu Gooogle Drive."
      ]
    },
    {
      "cell_type": "code",
      "source": [
        "from google.colab import drive\n",
        "# monta tu unidad de google drive\n",
        "drive.mount('/content/drive')\n",
        "\n",
        "# cambiamos el directorio de trabajo a la carpeta donde está almacenado el dataset\n",
        "import os\n",
        "os.chdir('/content/drive/My Drive/Colab Notebooks/data/exist2021/')"
      ],
      "metadata": {
        "colab": {
          "base_uri": "https://localhost:8080/"
        },
        "id": "sqRUUlnWvNk2",
        "outputId": "d7cbd369-6780-430b-950d-e80297b6cb2c"
      },
      "execution_count": 28,
      "outputs": [
        {
          "output_type": "stream",
          "name": "stdout",
          "text": [
            "Drive already mounted at /content/drive; to attempt to forcibly remount, call drive.mount(\"/content/drive\", force_remount=True).\n"
          ]
        }
      ]
    },
    {
      "cell_type": "markdown",
      "source": [
        "En este ejercicio, únicamente vamos a cargar el dataset de entrenamiento:"
      ],
      "metadata": {
        "id": "zNH6vjqxwNGe"
      }
    },
    {
      "cell_type": "code",
      "source": [
        "import pandas as pd\n",
        "\n",
        "df_train = pd.read_csv(\"train.tsv\",  sep='\\t')\n",
        "print('tamaño training:', df_train.shape)\n",
        "\n",
        "# mostramos los primeros registros del training:\n",
        "df_train.head()"
      ],
      "metadata": {
        "colab": {
          "base_uri": "https://localhost:8080/",
          "height": 224
        },
        "id": "1fvi1ByawOZc",
        "outputId": "3143d454-7374-4a64-dd64-d7a34455acdd"
      },
      "execution_count": 29,
      "outputs": [
        {
          "output_type": "stream",
          "name": "stdout",
          "text": [
            "tamaño training: (6977, 7)\n"
          ]
        },
        {
          "output_type": "execute_result",
          "data": {
            "text/plain": [
              "   test_case  id   source language  \\\n",
              "0  EXIST2021   1  twitter       en   \n",
              "1  EXIST2021   2  twitter       en   \n",
              "2  EXIST2021   3  twitter       en   \n",
              "3  EXIST2021   4  twitter       en   \n",
              "4  EXIST2021   5  twitter       en   \n",
              "\n",
              "                                                text       task1  \\\n",
              "0  She calls herself \"anti-feminazi\" how about sh...      sexist   \n",
              "1  Now, back to these women, the brave and the be...  non-sexist   \n",
              "2  @CurvyBandida @Xalynne_B Wow, your skirt is ve...      sexist   \n",
              "3  @AurelieGuiboud Incredible!  Beautiful!But I l...  non-sexist   \n",
              "4  i find it extremely hard to believe that kelly...  non-sexist   \n",
              "\n",
              "                    task2  \n",
              "0  ideological-inequality  \n",
              "1              non-sexist  \n",
              "2         objectification  \n",
              "3              non-sexist  \n",
              "4              non-sexist  "
            ],
            "text/html": [
              "\n",
              "  <div id=\"df-7a6e49c0-2487-484b-b132-cabfaaefb662\" class=\"colab-df-container\">\n",
              "    <div>\n",
              "<style scoped>\n",
              "    .dataframe tbody tr th:only-of-type {\n",
              "        vertical-align: middle;\n",
              "    }\n",
              "\n",
              "    .dataframe tbody tr th {\n",
              "        vertical-align: top;\n",
              "    }\n",
              "\n",
              "    .dataframe thead th {\n",
              "        text-align: right;\n",
              "    }\n",
              "</style>\n",
              "<table border=\"1\" class=\"dataframe\">\n",
              "  <thead>\n",
              "    <tr style=\"text-align: right;\">\n",
              "      <th></th>\n",
              "      <th>test_case</th>\n",
              "      <th>id</th>\n",
              "      <th>source</th>\n",
              "      <th>language</th>\n",
              "      <th>text</th>\n",
              "      <th>task1</th>\n",
              "      <th>task2</th>\n",
              "    </tr>\n",
              "  </thead>\n",
              "  <tbody>\n",
              "    <tr>\n",
              "      <th>0</th>\n",
              "      <td>EXIST2021</td>\n",
              "      <td>1</td>\n",
              "      <td>twitter</td>\n",
              "      <td>en</td>\n",
              "      <td>She calls herself \"anti-feminazi\" how about sh...</td>\n",
              "      <td>sexist</td>\n",
              "      <td>ideological-inequality</td>\n",
              "    </tr>\n",
              "    <tr>\n",
              "      <th>1</th>\n",
              "      <td>EXIST2021</td>\n",
              "      <td>2</td>\n",
              "      <td>twitter</td>\n",
              "      <td>en</td>\n",
              "      <td>Now, back to these women, the brave and the be...</td>\n",
              "      <td>non-sexist</td>\n",
              "      <td>non-sexist</td>\n",
              "    </tr>\n",
              "    <tr>\n",
              "      <th>2</th>\n",
              "      <td>EXIST2021</td>\n",
              "      <td>3</td>\n",
              "      <td>twitter</td>\n",
              "      <td>en</td>\n",
              "      <td>@CurvyBandida @Xalynne_B Wow, your skirt is ve...</td>\n",
              "      <td>sexist</td>\n",
              "      <td>objectification</td>\n",
              "    </tr>\n",
              "    <tr>\n",
              "      <th>3</th>\n",
              "      <td>EXIST2021</td>\n",
              "      <td>4</td>\n",
              "      <td>twitter</td>\n",
              "      <td>en</td>\n",
              "      <td>@AurelieGuiboud Incredible!  Beautiful!But I l...</td>\n",
              "      <td>non-sexist</td>\n",
              "      <td>non-sexist</td>\n",
              "    </tr>\n",
              "    <tr>\n",
              "      <th>4</th>\n",
              "      <td>EXIST2021</td>\n",
              "      <td>5</td>\n",
              "      <td>twitter</td>\n",
              "      <td>en</td>\n",
              "      <td>i find it extremely hard to believe that kelly...</td>\n",
              "      <td>non-sexist</td>\n",
              "      <td>non-sexist</td>\n",
              "    </tr>\n",
              "  </tbody>\n",
              "</table>\n",
              "</div>\n",
              "    <div class=\"colab-df-buttons\">\n",
              "\n",
              "  <div class=\"colab-df-container\">\n",
              "    <button class=\"colab-df-convert\" onclick=\"convertToInteractive('df-7a6e49c0-2487-484b-b132-cabfaaefb662')\"\n",
              "            title=\"Convert this dataframe to an interactive table.\"\n",
              "            style=\"display:none;\">\n",
              "\n",
              "  <svg xmlns=\"http://www.w3.org/2000/svg\" height=\"24px\" viewBox=\"0 -960 960 960\">\n",
              "    <path d=\"M120-120v-720h720v720H120Zm60-500h600v-160H180v160Zm220 220h160v-160H400v160Zm0 220h160v-160H400v160ZM180-400h160v-160H180v160Zm440 0h160v-160H620v160ZM180-180h160v-160H180v160Zm440 0h160v-160H620v160Z\"/>\n",
              "  </svg>\n",
              "    </button>\n",
              "\n",
              "  <style>\n",
              "    .colab-df-container {\n",
              "      display:flex;\n",
              "      gap: 12px;\n",
              "    }\n",
              "\n",
              "    .colab-df-convert {\n",
              "      background-color: #E8F0FE;\n",
              "      border: none;\n",
              "      border-radius: 50%;\n",
              "      cursor: pointer;\n",
              "      display: none;\n",
              "      fill: #1967D2;\n",
              "      height: 32px;\n",
              "      padding: 0 0 0 0;\n",
              "      width: 32px;\n",
              "    }\n",
              "\n",
              "    .colab-df-convert:hover {\n",
              "      background-color: #E2EBFA;\n",
              "      box-shadow: 0px 1px 2px rgba(60, 64, 67, 0.3), 0px 1px 3px 1px rgba(60, 64, 67, 0.15);\n",
              "      fill: #174EA6;\n",
              "    }\n",
              "\n",
              "    .colab-df-buttons div {\n",
              "      margin-bottom: 4px;\n",
              "    }\n",
              "\n",
              "    [theme=dark] .colab-df-convert {\n",
              "      background-color: #3B4455;\n",
              "      fill: #D2E3FC;\n",
              "    }\n",
              "\n",
              "    [theme=dark] .colab-df-convert:hover {\n",
              "      background-color: #434B5C;\n",
              "      box-shadow: 0px 1px 3px 1px rgba(0, 0, 0, 0.15);\n",
              "      filter: drop-shadow(0px 1px 2px rgba(0, 0, 0, 0.3));\n",
              "      fill: #FFFFFF;\n",
              "    }\n",
              "  </style>\n",
              "\n",
              "    <script>\n",
              "      const buttonEl =\n",
              "        document.querySelector('#df-7a6e49c0-2487-484b-b132-cabfaaefb662 button.colab-df-convert');\n",
              "      buttonEl.style.display =\n",
              "        google.colab.kernel.accessAllowed ? 'block' : 'none';\n",
              "\n",
              "      async function convertToInteractive(key) {\n",
              "        const element = document.querySelector('#df-7a6e49c0-2487-484b-b132-cabfaaefb662');\n",
              "        const dataTable =\n",
              "          await google.colab.kernel.invokeFunction('convertToInteractive',\n",
              "                                                    [key], {});\n",
              "        if (!dataTable) return;\n",
              "\n",
              "        const docLinkHtml = 'Like what you see? Visit the ' +\n",
              "          '<a target=\"_blank\" href=https://colab.research.google.com/notebooks/data_table.ipynb>data table notebook</a>'\n",
              "          + ' to learn more about interactive tables.';\n",
              "        element.innerHTML = '';\n",
              "        dataTable['output_type'] = 'display_data';\n",
              "        await google.colab.output.renderOutput(dataTable, element);\n",
              "        const docLink = document.createElement('div');\n",
              "        docLink.innerHTML = docLinkHtml;\n",
              "        element.appendChild(docLink);\n",
              "      }\n",
              "    </script>\n",
              "  </div>\n",
              "\n",
              "\n",
              "<div id=\"df-2d67f845-5c0c-4a4a-9934-95f2c8dfbbb8\">\n",
              "  <button class=\"colab-df-quickchart\" onclick=\"quickchart('df-2d67f845-5c0c-4a4a-9934-95f2c8dfbbb8')\"\n",
              "            title=\"Suggest charts.\"\n",
              "            style=\"display:none;\">\n",
              "\n",
              "<svg xmlns=\"http://www.w3.org/2000/svg\" height=\"24px\"viewBox=\"0 0 24 24\"\n",
              "     width=\"24px\">\n",
              "    <g>\n",
              "        <path d=\"M19 3H5c-1.1 0-2 .9-2 2v14c0 1.1.9 2 2 2h14c1.1 0 2-.9 2-2V5c0-1.1-.9-2-2-2zM9 17H7v-7h2v7zm4 0h-2V7h2v10zm4 0h-2v-4h2v4z\"/>\n",
              "    </g>\n",
              "</svg>\n",
              "  </button>\n",
              "\n",
              "<style>\n",
              "  .colab-df-quickchart {\n",
              "      --bg-color: #E8F0FE;\n",
              "      --fill-color: #1967D2;\n",
              "      --hover-bg-color: #E2EBFA;\n",
              "      --hover-fill-color: #174EA6;\n",
              "      --disabled-fill-color: #AAA;\n",
              "      --disabled-bg-color: #DDD;\n",
              "  }\n",
              "\n",
              "  [theme=dark] .colab-df-quickchart {\n",
              "      --bg-color: #3B4455;\n",
              "      --fill-color: #D2E3FC;\n",
              "      --hover-bg-color: #434B5C;\n",
              "      --hover-fill-color: #FFFFFF;\n",
              "      --disabled-bg-color: #3B4455;\n",
              "      --disabled-fill-color: #666;\n",
              "  }\n",
              "\n",
              "  .colab-df-quickchart {\n",
              "    background-color: var(--bg-color);\n",
              "    border: none;\n",
              "    border-radius: 50%;\n",
              "    cursor: pointer;\n",
              "    display: none;\n",
              "    fill: var(--fill-color);\n",
              "    height: 32px;\n",
              "    padding: 0;\n",
              "    width: 32px;\n",
              "  }\n",
              "\n",
              "  .colab-df-quickchart:hover {\n",
              "    background-color: var(--hover-bg-color);\n",
              "    box-shadow: 0 1px 2px rgba(60, 64, 67, 0.3), 0 1px 3px 1px rgba(60, 64, 67, 0.15);\n",
              "    fill: var(--button-hover-fill-color);\n",
              "  }\n",
              "\n",
              "  .colab-df-quickchart-complete:disabled,\n",
              "  .colab-df-quickchart-complete:disabled:hover {\n",
              "    background-color: var(--disabled-bg-color);\n",
              "    fill: var(--disabled-fill-color);\n",
              "    box-shadow: none;\n",
              "  }\n",
              "\n",
              "  .colab-df-spinner {\n",
              "    border: 2px solid var(--fill-color);\n",
              "    border-color: transparent;\n",
              "    border-bottom-color: var(--fill-color);\n",
              "    animation:\n",
              "      spin 1s steps(1) infinite;\n",
              "  }\n",
              "\n",
              "  @keyframes spin {\n",
              "    0% {\n",
              "      border-color: transparent;\n",
              "      border-bottom-color: var(--fill-color);\n",
              "      border-left-color: var(--fill-color);\n",
              "    }\n",
              "    20% {\n",
              "      border-color: transparent;\n",
              "      border-left-color: var(--fill-color);\n",
              "      border-top-color: var(--fill-color);\n",
              "    }\n",
              "    30% {\n",
              "      border-color: transparent;\n",
              "      border-left-color: var(--fill-color);\n",
              "      border-top-color: var(--fill-color);\n",
              "      border-right-color: var(--fill-color);\n",
              "    }\n",
              "    40% {\n",
              "      border-color: transparent;\n",
              "      border-right-color: var(--fill-color);\n",
              "      border-top-color: var(--fill-color);\n",
              "    }\n",
              "    60% {\n",
              "      border-color: transparent;\n",
              "      border-right-color: var(--fill-color);\n",
              "    }\n",
              "    80% {\n",
              "      border-color: transparent;\n",
              "      border-right-color: var(--fill-color);\n",
              "      border-bottom-color: var(--fill-color);\n",
              "    }\n",
              "    90% {\n",
              "      border-color: transparent;\n",
              "      border-bottom-color: var(--fill-color);\n",
              "    }\n",
              "  }\n",
              "</style>\n",
              "\n",
              "  <script>\n",
              "    async function quickchart(key) {\n",
              "      const quickchartButtonEl =\n",
              "        document.querySelector('#' + key + ' button');\n",
              "      quickchartButtonEl.disabled = true;  // To prevent multiple clicks.\n",
              "      quickchartButtonEl.classList.add('colab-df-spinner');\n",
              "      try {\n",
              "        const charts = await google.colab.kernel.invokeFunction(\n",
              "            'suggestCharts', [key], {});\n",
              "      } catch (error) {\n",
              "        console.error('Error during call to suggestCharts:', error);\n",
              "      }\n",
              "      quickchartButtonEl.classList.remove('colab-df-spinner');\n",
              "      quickchartButtonEl.classList.add('colab-df-quickchart-complete');\n",
              "    }\n",
              "    (() => {\n",
              "      let quickchartButtonEl =\n",
              "        document.querySelector('#df-2d67f845-5c0c-4a4a-9934-95f2c8dfbbb8 button');\n",
              "      quickchartButtonEl.style.display =\n",
              "        google.colab.kernel.accessAllowed ? 'block' : 'none';\n",
              "    })();\n",
              "  </script>\n",
              "</div>\n",
              "    </div>\n",
              "  </div>\n"
            ]
          },
          "metadata": {},
          "execution_count": 29
        }
      ]
    },
    {
      "cell_type": "markdown",
      "source": [
        "Es un dataset multilingüe. Nos vamos a quedar únicamente con los textos en inglés, porque el modelo pre-entrenado de word embeddings que vamos a utilizar en este ejercicio es un modelo que sólo contiene palabras en inglés:"
      ],
      "metadata": {
        "id": "oSfiyjjd0wFK"
      }
    },
    {
      "cell_type": "code",
      "source": [
        "df_train = df_train.loc[df_train['language'] == 'en']\n",
        "df_train.shape"
      ],
      "metadata": {
        "colab": {
          "base_uri": "https://localhost:8080/"
        },
        "id": "7C4x8boG0-Nz",
        "outputId": "d8d72156-3ec2-414f-c37a-a5c22f0c779e"
      },
      "execution_count": 30,
      "outputs": [
        {
          "output_type": "execute_result",
          "data": {
            "text/plain": [
              "(3436, 7)"
            ]
          },
          "metadata": {},
          "execution_count": 30
        }
      ]
    },
    {
      "cell_type": "markdown",
      "source": [
        "Como hemos dicho antes la matriz tendrá una dimensión de |V| x d, donde V es el vocabulario del conjunto de entrenamiento (es decir, el conjunto de tokens distintos en la colección de textos) y d la dimensión de los word embeddings del modelos pre-entrenado de word embeddings que cargaremos más tarde.\n",
        "\n",
        "Para obtener el vocabulario V, vamos a tokenizar la colección de textos. Para ello vamos a utilizar el tokenizador de Keras:\n"
      ],
      "metadata": {
        "id": "iPyoiZtOvljo"
      }
    },
    {
      "cell_type": "code",
      "source": [
        "from keras.preprocessing.text import Tokenizer\n",
        "from keras.utils import pad_sequences\n",
        "\n",
        "tokenizer = Tokenizer(oov_token = True)\n",
        "X_train = list(df_train['text'])\n",
        "\n",
        "tokenizer.fit_on_texts(X_train)\n",
        "tokenizer.word_index['<PAD>'] = 0\n",
        "\n",
        "NUM_WORDS=len(tokenizer.word_index)\n",
        "print(\"Tamaño del vocabulario ={}\".format(NUM_WORDS))\n",
        "\n"
      ],
      "metadata": {
        "colab": {
          "base_uri": "https://localhost:8080/"
        },
        "id": "vaP55hxAvmPo",
        "outputId": "cb1c7bd6-d990-4cf2-a1ae-14930f3a6d39"
      },
      "execution_count": 31,
      "outputs": [
        {
          "output_type": "stream",
          "name": "stdout",
          "text": [
            "Tamaño del vocabulario =16645\n"
          ]
        }
      ]
    },
    {
      "cell_type": "markdown",
      "source": [
        "El siguiente paso será cargar el modelo pre-entrenado de word embeddings. En concreto, vamos a utilizar el modelo **glove-wiki-gigaword-50**, que es relativamente pequeño (y nos permitirá ejecutar este notebook en un tiempo corto). Para descargarlo y cargarlo usaremos la librería Gensim.\n",
        "\n",
        "Puedes probar con otros modelos de word embeddings (https://github.com/RaRe-Technologies/gensim-data)."
      ],
      "metadata": {
        "id": "Z64KPCIJ4uIJ"
      }
    },
    {
      "cell_type": "code",
      "source": [
        "import gensim.downloader as api\n",
        "\n",
        "model_we = api.load(\"glove-wiki-gigaword-50\")\n"
      ],
      "metadata": {
        "id": "_5W98IxBxpVz"
      },
      "execution_count": 32,
      "outputs": []
    },
    {
      "cell_type": "markdown",
      "source": [
        "La dimensión de los vectores de ese modelo es 50, pero de todas formas, vamos a obtenerlo de forma automática. Para ello recuperamos el vector de alguna palabra común en inglés, por ejemplo, house (que seguro está en el modelo). Guardamos dicho valor en la variable EMBED_SIZE."
      ],
      "metadata": {
        "id": "YaKiilrEyl4Y"
      }
    },
    {
      "cell_type": "code",
      "source": [
        "wv = model_we['house']\n",
        "print(wv.shape)\n",
        "EMBED_SIZE=wv.shape[0]\n",
        "print(EMBED_SIZE)\n"
      ],
      "metadata": {
        "colab": {
          "base_uri": "https://localhost:8080/"
        },
        "id": "9QleEhjJylGZ",
        "outputId": "fced4c64-ab56-46aa-9dbb-87bb9405b5a6"
      },
      "execution_count": 33,
      "outputs": [
        {
          "output_type": "stream",
          "name": "stdout",
          "text": [
            "(50,)\n",
            "50\n"
          ]
        }
      ]
    },
    {
      "cell_type": "markdown",
      "source": [
        "Una vez cargado el modelo, continuamos creando una matriz de tamaño |V| x d, donde |V| ya hemos visto que es igual a 16645, y d es 50 (la dimensión de los vectores en el modelo glove-wiki-gigaword-50). La matriz la inicializamos a 0.\n"
      ],
      "metadata": {
        "id": "Cf398ow05mxu"
      }
    },
    {
      "cell_type": "code",
      "source": [
        "import numpy as np\n",
        "embedding_matrix = np.zeros((NUM_WORDS, EMBED_SIZE))\n",
        "embedding_matrix"
      ],
      "metadata": {
        "colab": {
          "base_uri": "https://localhost:8080/"
        },
        "id": "9-vVGJLIxuG2",
        "outputId": "6de3fe95-5757-4c85-b729-b6d26bfb300c"
      },
      "execution_count": 34,
      "outputs": [
        {
          "output_type": "execute_result",
          "data": {
            "text/plain": [
              "array([[0., 0., 0., ..., 0., 0., 0.],\n",
              "       [0., 0., 0., ..., 0., 0., 0.],\n",
              "       [0., 0., 0., ..., 0., 0., 0.],\n",
              "       ...,\n",
              "       [0., 0., 0., ..., 0., 0., 0.],\n",
              "       [0., 0., 0., ..., 0., 0., 0.],\n",
              "       [0., 0., 0., ..., 0., 0., 0.]])"
            ]
          },
          "metadata": {},
          "execution_count": 34
        }
      ]
    },
    {
      "cell_type": "markdown",
      "source": [
        "El siguiente paso ya sí es modificar la matriz con los vectores del modelo de word embeddings.\n",
        "Cada fila de la matriz será el word embeddings de un determinado token en el vocabulario V.\n",
        "\n",
        "Para acceder a las palabras del vocabulario, usamos el tokenizador que acabamos de entrenar con la colección de textos.\n",
        "```\n",
        "tokenizer.word_index.items()\n",
        "```\n",
        "Los tokens están ordenados por frecuencia (excepto el primer token que es pad) y son representados por un índice (que será también el índice de su fila en la matriz).\n",
        "\n",
        "Debemos recorrer los tokens en dicho vocabulario, y vamos a mirar si en el modelo pre-entrenado de word embeddings existe un vector para dicho token. Si existe, reemplazamos la fila i por dicho vector, donde i es además el índice del token en el vocabulario.\n",
        "Si dicho token no existe en el modelo pre-entrenado, no modificamos la matriz (la fila para esa palabra seguirá siendo un vector de 0's).  \n"
      ],
      "metadata": {
        "id": "iHOrBJFhzBH9"
      }
    },
    {
      "cell_type": "code",
      "source": [
        "for word, i in tokenizer.word_index.items():\n",
        "    try:\n",
        "        embedding_vector = model_we[word]\n",
        "        # word embedding para la palabra con índice i\n",
        "        embedding_matrix[i] = embedding_vector\n",
        "    except:\n",
        "        #if word does not exist, we do not udpate the matrix\n",
        "        pass\n",
        "\n",
        "print('matriz creada')\n",
        "\n",
        "embedding_matrix"
      ],
      "metadata": {
        "id": "xKnnkmZEwzaR",
        "colab": {
          "base_uri": "https://localhost:8080/"
        },
        "outputId": "c978ffc1-0082-49e8-8921-1079da199b33"
      },
      "execution_count": 35,
      "outputs": [
        {
          "output_type": "stream",
          "name": "stdout",
          "text": [
            "matriz creada\n"
          ]
        },
        {
          "output_type": "execute_result",
          "data": {
            "text/plain": [
              "array([[ 0.        ,  0.        ,  0.        , ...,  0.        ,\n",
              "         0.        ,  0.        ],\n",
              "       [ 0.        ,  0.        ,  0.        , ...,  0.        ,\n",
              "         0.        ,  0.        ],\n",
              "       [ 0.41800001,  0.24968   , -0.41242   , ..., -0.18411   ,\n",
              "        -0.11514   , -0.78580999],\n",
              "       ...,\n",
              "       [-0.18762   , -0.55958003, -0.12295   , ...,  0.30331999,\n",
              "        -0.61690998,  0.4109    ],\n",
              "       [ 0.        ,  0.        ,  0.        , ...,  0.        ,\n",
              "         0.        ,  0.        ],\n",
              "       [ 0.        ,  0.        ,  0.        , ...,  0.        ,\n",
              "         0.        ,  0.        ]])"
            ]
          },
          "metadata": {},
          "execution_count": 35
        }
      ]
    },
    {
      "cell_type": "markdown",
      "source": [
        "Mostramos las 10 primeras palabras del vocabulario y sus vectores. La primera fila es la fila del token con índice 0, que es el token PAD."
      ],
      "metadata": {
        "id": "YKcXFrQZ1rF0"
      }
    },
    {
      "cell_type": "code",
      "source": [
        "print(embedding_matrix.shape)\n",
        "for word, i in tokenizer.word_index.items():\n",
        "    print(word,  embedding_matrix[i])\n",
        "    if i==10:\n",
        "        break\n"
      ],
      "metadata": {
        "colab": {
          "base_uri": "https://localhost:8080/"
        },
        "id": "ArjCfZWKySR5",
        "outputId": "6f3eef95-e988-40f0-d49a-1be8a6bc0b10"
      },
      "execution_count": 36,
      "outputs": [
        {
          "output_type": "stream",
          "name": "stdout",
          "text": [
            "(16645, 50)\n",
            "True [0. 0. 0. 0. 0. 0. 0. 0. 0. 0. 0. 0. 0. 0. 0. 0. 0. 0. 0. 0. 0. 0. 0. 0.\n",
            " 0. 0. 0. 0. 0. 0. 0. 0. 0. 0. 0. 0. 0. 0. 0. 0. 0. 0. 0. 0. 0. 0. 0. 0.\n",
            " 0. 0.]\n",
            "the [ 4.18000013e-01  2.49679998e-01 -4.12420005e-01  1.21699996e-01\n",
            "  3.45270008e-01 -4.44569997e-02 -4.96879995e-01 -1.78619996e-01\n",
            " -6.60229998e-04 -6.56599998e-01  2.78430015e-01 -1.47670001e-01\n",
            " -5.56770027e-01  1.46579996e-01 -9.50950012e-03  1.16579998e-02\n",
            "  1.02040000e-01 -1.27920002e-01 -8.44299972e-01 -1.21809997e-01\n",
            " -1.68009996e-02 -3.32789987e-01 -1.55200005e-01 -2.31309995e-01\n",
            " -1.91809997e-01 -1.88230002e+00 -7.67459989e-01  9.90509987e-02\n",
            " -4.21249986e-01 -1.95260003e-01  4.00710011e+00 -1.85939997e-01\n",
            " -5.22870004e-01 -3.16810012e-01  5.92130003e-04  7.44489999e-03\n",
            "  1.77780002e-01 -1.58969998e-01  1.20409997e-02 -5.42230010e-02\n",
            " -2.98709989e-01 -1.57490000e-01 -3.47579986e-01 -4.56370004e-02\n",
            " -4.42510009e-01  1.87849998e-01  2.78489990e-03 -1.84110001e-01\n",
            " -1.15139998e-01 -7.85809994e-01]\n",
            "to [ 0.68046999 -0.039263    0.30186    -0.17792     0.42962     0.032246\n",
            " -0.41376001  0.13228001 -0.29846999 -0.085253    0.17117999  0.22419\n",
            " -0.10046    -0.43652999  0.33418     0.67846     0.057204   -0.34448001\n",
            " -0.42785001 -0.43274999  0.55962998  0.10032     0.18677001 -0.26853999\n",
            "  0.037334   -2.09319997  0.22171    -0.39868     0.20912001 -0.55725002\n",
            "  3.88260007  0.47466001 -0.95657998 -0.37788001  0.20869    -0.32752001\n",
            "  0.12751     0.088359    0.16350999 -0.21634001 -0.094375    0.018324\n",
            "  0.21048    -0.03088    -0.19722     0.082279   -0.09434    -0.073297\n",
            " -0.064699   -0.26043999]\n",
            "a [ 0.21705     0.46515    -0.46757001  0.10082     1.01349998  0.74844998\n",
            " -0.53104001 -0.26256001  0.16812     0.13181999 -0.24909    -0.44185001\n",
            " -0.21739     0.51003999  0.13448    -0.43141001 -0.03123     0.20674001\n",
            " -0.78138    -0.20148    -0.097401    0.16088    -0.61835998 -0.18504\n",
            " -0.12461    -2.25259995 -0.22321001  0.5043      0.32257     0.15312999\n",
            "  3.96359992 -0.71364999 -0.67012     0.28388     0.21738     0.14432999\n",
            "  0.25926     0.23434     0.42739999 -0.44451001  0.13812999  0.36973\n",
            " -0.64288998  0.024142   -0.039315   -0.26036999  0.12017    -0.043782\n",
            "  0.41012999  0.1796    ]\n",
            "and [ 0.26818001  0.14346001 -0.27877     0.016257    0.11384     0.69923002\n",
            " -0.51332003 -0.47367999 -0.33074999 -0.13834     0.27020001  0.30937999\n",
            " -0.45012    -0.4127     -0.09932     0.038085    0.029749    0.10076\n",
            " -0.25058001 -0.51818001  0.34558001  0.44922     0.48791    -0.080866\n",
            " -0.10121    -1.37769997 -0.10866    -0.23201001  0.012839   -0.46507999\n",
            "  3.84629989  0.31362     0.13643    -0.52244002  0.33019999  0.33706999\n",
            " -0.35600999  0.32431     0.12041     0.35120001 -0.069043    0.36884999\n",
            "  0.25167999 -0.24517     0.25380999  0.1367     -0.31178001 -0.63209999\n",
            " -0.25027999 -0.38097   ]\n",
            "you [-1.09190005e-03  3.33240002e-01  3.57430011e-01 -5.40409982e-01\n",
            "  8.20320010e-01 -4.93910015e-01 -3.25879991e-01  1.99720007e-03\n",
            " -2.38289997e-01  3.55540007e-01 -6.06549978e-01  9.89319980e-01\n",
            " -2.17859998e-01  1.12360001e-01  1.14940000e+00  7.32840002e-01\n",
            "  5.11820018e-01  2.92869985e-01  2.83879995e-01 -1.35899997e+00\n",
            " -3.79509985e-01  5.09429991e-01  7.07099974e-01  6.29410028e-01\n",
            "  1.05340004e+00 -2.17560005e+00 -1.32040000e+00  4.00009990e-01\n",
            "  1.57410002e+00 -1.65999997e+00  3.77209997e+00  8.69490027e-01\n",
            " -8.04390013e-01  1.83899999e-01 -3.43320012e-01  1.07140001e-02\n",
            "  2.39690006e-01  6.67480007e-02  7.01170027e-01 -7.37020016e-01\n",
            "  2.08770007e-01  1.15640000e-01 -1.51899993e-01  8.59080017e-01\n",
            "  2.26199999e-01  1.65189996e-01  3.63090008e-01 -4.56970006e-01\n",
            " -4.89690006e-02  1.13160002e+00]\n",
            "i [ 1.18910000e-01  1.52549997e-01 -8.20730031e-02 -7.41439998e-01\n",
            "  7.59169996e-01 -4.83280003e-01 -3.10090005e-01  5.14760017e-01\n",
            " -9.87079978e-01  6.17570011e-04 -1.50429994e-01  8.37700009e-01\n",
            " -1.07969999e+00 -5.14599979e-01  1.31879997e+00  6.20069981e-01\n",
            "  1.37789994e-01  4.71080005e-01 -7.28740022e-02 -7.26750016e-01\n",
            " -7.41159976e-01  7.52629995e-01  8.81799996e-01  2.95610011e-01\n",
            "  1.35479999e+00 -2.57010007e+00 -1.35230005e+00  4.58799988e-01\n",
            "  1.00680006e+00 -1.18560004e+00  3.47370005e+00  7.78980017e-01\n",
            " -7.29290009e-01  2.51020014e-01 -2.61559993e-01 -3.46839994e-01\n",
            "  5.58409989e-01  7.50980020e-01  4.98299986e-01 -2.68229991e-01\n",
            " -2.74430006e-03 -1.82980001e-02 -2.80959994e-01  5.53179979e-01\n",
            "  3.77059989e-02  1.85550004e-01 -1.50250003e-01 -5.75119972e-01\n",
            " -2.66710013e-01  9.21209991e-01]\n",
            "of [ 0.70853001  0.57088    -0.4716      0.18048     0.54448998  0.72602999\n",
            "  0.18156999 -0.52393001  0.10381    -0.17566     0.078852   -0.36216\n",
            " -0.11829    -0.83336002  0.11917    -0.16605     0.061555   -0.012719\n",
            " -0.56623     0.013616    0.22851001 -0.14396    -0.067549   -0.38157001\n",
            " -0.23698001 -1.70369995 -0.86691999 -0.26704001 -0.25889999  0.1767\n",
            "  3.86759996 -0.1613     -0.13273001 -0.68880999  0.18444     0.0052464\n",
            " -0.33873999 -0.078956    0.24185     0.36576    -0.34727001  0.28483\n",
            "  0.075693   -0.062178   -0.38988     0.22902    -0.21617    -0.22562\n",
            " -0.093918   -0.80374998]\n",
            "is [ 6.18499994e-01  6.42539978e-01 -4.65519994e-01  3.75699997e-01\n",
            "  7.48380005e-01  5.37389994e-01  2.22390005e-03 -6.05769992e-01\n",
            "  2.64079988e-01  1.17030002e-01  4.37220007e-01  2.00920001e-01\n",
            " -5.78589998e-02 -3.45889986e-01  2.16639996e-01  5.85730016e-01\n",
            "  5.39189994e-01  6.94899976e-01 -1.56179994e-01  5.58300018e-02\n",
            " -6.05149984e-01 -2.89970011e-01 -2.55939998e-02  5.55930018e-01\n",
            "  2.53560007e-01 -1.96120000e+00 -5.13809979e-01  6.90959990e-01\n",
            "  6.62460029e-02 -5.42239994e-02  3.78710008e+00 -7.74030030e-01\n",
            " -1.26890004e-01 -5.14649987e-01  6.67050034e-02 -3.29329997e-01\n",
            "  1.34829998e-01  1.90490007e-01  1.38119996e-01 -2.15030000e-01\n",
            " -1.65730007e-02  3.12000006e-01 -3.31889987e-01 -2.60010008e-02\n",
            " -3.82030010e-01  1.94030002e-01 -1.24660000e-01 -2.75570005e-01\n",
            "  3.08990002e-01  4.84970003e-01]\n",
            "women [-0.95897001  0.86149001 -0.53064001 -0.19908001  0.42945001  0.93177003\n",
            "  0.067319   -0.21413     0.39488    -0.53561002  0.42881    -1.33340001\n",
            " -0.038192   -0.15667     0.94351    -0.21873    -0.15586001  0.084439\n",
            " -0.058604   -0.55145001 -0.53280997  1.24339998  0.63441002  0.79233998\n",
            "  0.0097936  -1.71239996 -0.77291    -1.00240004 -0.69471997 -0.50487\n",
            "  3.05170012  1.49810004 -0.32957    -0.53871    -0.21201    -0.14259\n",
            " -0.02706     0.58579999 -0.56642002 -0.55984002 -0.60904998 -0.57062\n",
            "  1.33379996  0.67097002  1.06429994 -0.4181     -0.44273001 -1.0158\n",
            " -0.35795    -0.31110999]\n"
          ]
        }
      ]
    },
    {
      "cell_type": "markdown",
      "source": [
        "Ahora ya podríamos utilizar la matriz para inicializar los vectores en un modelo de deep learning.\n",
        "Para ello simplemente, en la capa de Embeddings del modelo deberemos pasar dicha matriz al argumento **weights**.\n",
        "                     \n",
        "\n",
        "```\n",
        "# Capa embeddings\n",
        "model.add(Embedding(NUM_WORDS, EMBED_SIZE,\n",
        "                        input_length=MAX_LEN,\n",
        "                        weights=[embedding_matrix]))\n",
        "```\n",
        "\n",
        "Consulta las prácticas de este curso OCW para encontrar ejemplos concretos sobre esta inicialización."
      ],
      "metadata": {
        "id": "iEa9VWeu14Qa"
      }
    }
  ],
  "metadata": {
    "accelerator": "GPU",
    "anaconda-cloud": {},
    "colab": {
      "provenance": [],
      "include_colab_link": true
    },
    "kernelspec": {
      "display_name": "Python 3",
      "language": "python",
      "name": "python3"
    },
    "language_info": {
      "codemirror_mode": {
        "name": "ipython",
        "version": 3
      },
      "file_extension": ".py",
      "mimetype": "text/x-python",
      "name": "python",
      "nbconvert_exporter": "python",
      "pygments_lexer": "ipython3",
      "version": "3.6.8"
    }
  },
  "nbformat": 4,
  "nbformat_minor": 0
}