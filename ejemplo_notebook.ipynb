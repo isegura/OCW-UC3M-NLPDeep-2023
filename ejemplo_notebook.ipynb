{
  "nbformat": 4,
  "nbformat_minor": 0,
  "metadata": {
    "colab": {
      "provenance": []
    },
    "kernelspec": {
      "name": "python3",
      "display_name": "Python 3"
    },
    "language_info": {
      "name": "python"
    }
  },
  "cells": [
    {
      "cell_type": "markdown",
      "source": [
        "<center>\n",
        "<img src=\"https://upload.wikimedia.org/wikipedia/commons/4/47/Acronimo_y_nombre_uc3m.png\"/>\n",
        "\n",
        "<img src=\"https://mirrors.creativecommons.org/presskit/buttons/88x31/png/by-nc-sa.png\" width=15%/>\n",
        "</center>    "
      ],
      "metadata": {
        "id": "i7_Q_nXP2Jmk"
      }
    },
    {
      "cell_type": "markdown",
      "source": [
        "\n",
        "# EJEMPLO DE NOTEBOOK\n",
        "\n",
        "Este es un pequeño ejemplo para entender que es un notebook. Lo bueno que tienen es que en un mismo notebook puedes tener celdas de texto para explicar los contenidos, y a continuación una celda para código (python) donde se incluye el código que ejemplifica el contenido descrito. \n",
        "\n",
        "Vamos a ver cómo funciona una celda de código. En la siguiente celda, simplemente se muestra un mensaje (para ejecutarlo simlemente tienes que darle al play)"
      ],
      "metadata": {
        "id": "HgvAjGYUyWNn"
      }
    },
    {
      "cell_type": "code",
      "source": [
        "print('Hola Belén')"
      ],
      "metadata": {
        "colab": {
          "base_uri": "https://localhost:8080/"
        },
        "id": "O6T4kNoByuoH",
        "outputId": "e627f77a-d569-4c28-90dc-cf1fd6f611ab"
      },
      "execution_count": null,
      "outputs": [
        {
          "output_type": "stream",
          "name": "stdout",
          "text": [
            "Hola Belén\n"
          ]
        }
      ]
    },
    {
      "cell_type": "markdown",
      "source": [
        "Ahora vamos a hacer algo más, complejo, vamos a permitir que el usuario, introduzca una serie de datos, en concreto el nombre y la fecha de nacimiento. Con esos datos, la celda será capaz de calcular su edad actual en años. \n",
        "\n",
        "\n",
        "Por favor, introduce los datos que te solicita. Después de introducir un dato, únicamente tienes que darle al botón de \"Enter\" de tu teclado. \n"
      ],
      "metadata": {
        "id": "lBKJu41CyzHs"
      }
    },
    {
      "cell_type": "code",
      "source": [
        "import datetime \n",
        "from datetime import datetime, date\n",
        "from dateutil.relativedelta import relativedelta\n",
        "\n",
        "\n",
        "nombre = input (\"Introduce tu nombre :\") \n",
        "print(nombre) \n",
        "\n",
        "fecha_nac = input(\"Introduce tu fecha de nacimiento (dd-mm-aaaa) : \") \n",
        "print(fecha_nac) \n",
        "\n",
        "start_date = datetime.strptime(fecha_nac, '%d-%m-%Y')\n",
        "end_date = date.today()\n",
        "\n",
        "difference_in_years = relativedelta(end_date, start_date).years\n",
        "\n",
        "\n",
        "# Printing the output\n",
        "print (\"Nombre\", nombre) \n",
        "print (\"Tú edad es {} años\".format(difference_in_years))\n"
      ],
      "metadata": {
        "colab": {
          "base_uri": "https://localhost:8080/"
        },
        "id": "8t5RRUyAy98H",
        "outputId": "893c18a6-ccf6-4019-f005-41116b3f0939"
      },
      "execution_count": null,
      "outputs": [
        {
          "output_type": "stream",
          "name": "stdout",
          "text": [
            "Introduce tu nombre :Isa\n",
            "Isa\n",
            "Introduce tu fecha de nacimiento (dd-mm-aaaa) : 08-08-1974\n",
            "08-08-1974\n",
            "Nombre Isa\n",
            "Tú edad es 48 años\n"
          ]
        }
      ]
    },
    {
      "cell_type": "markdown",
      "source": [
        "## Ejercicio: \n",
        "\n",
        "Ahora es tu turno, ¿cuántas semanas crees que ha vivido, aproximadamente, una persona con 80 años?"
      ],
      "metadata": {
        "id": "nOA0sr5t3m7h"
      }
    },
    {
      "cell_type": "code",
      "source": [
        "# completa tu solución"
      ],
      "metadata": {
        "id": "idUhd2MD4hK_"
      },
      "execution_count": null,
      "outputs": []
    },
    {
      "cell_type": "markdown",
      "source": [
        "Aquí debajo te pongo la solución: \n"
      ],
      "metadata": {
        "id": "EOfYXA204jS8"
      }
    },
    {
      "cell_type": "code",
      "source": [
        "start_date = datetime.strptime(\"28-11-1942\", '%d-%m-%Y')\n",
        "end_date = date.today()\n",
        "\n",
        "difference_in_years = relativedelta(end_date, start_date).years\n",
        "print('years:', difference_in_years)\n",
        "print('weeks:', difference_in_years*52)"
      ],
      "metadata": {
        "colab": {
          "base_uri": "https://localhost:8080/"
        },
        "id": "KfK1wrj138mr",
        "outputId": "c0930860-1798-459f-af98-fe42e3ac10fe"
      },
      "execution_count": null,
      "outputs": [
        {
          "output_type": "stream",
          "name": "stdout",
          "text": [
            "years: 80\n",
            "weeks: 4160\n"
          ]
        }
      ]
    },
    {
      "cell_type": "markdown",
      "source": [
        "Como puedes ver son únicamente unas 4000 semanas. Aprovecha tu tiempo en cosas que realmente importen!!!. "
      ],
      "metadata": {
        "id": "kY-5jAEf45nA"
      }
    }
  ]
}