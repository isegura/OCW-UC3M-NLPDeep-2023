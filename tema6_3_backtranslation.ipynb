{
  "nbformat": 4,
  "nbformat_minor": 0,
  "metadata": {
    "colab": {
      "provenance": [],
      "toc_visible": true,
      "authorship_tag": "ABX9TyPjHbf1TJv2PkXREOUWRVSf",
      "include_colab_link": true
    },
    "kernelspec": {
      "name": "python3",
      "display_name": "Python 3"
    },
    "language_info": {
      "name": "python"
    }
  },
  "cells": [
    {
      "cell_type": "markdown",
      "metadata": {
        "id": "view-in-github",
        "colab_type": "text"
      },
      "source": [
        "<a href=\"https://colab.research.google.com/github/isegura/OCW-UC3M-NLPDeep-2023/blob/main/tema6_3_backtranslation.ipynb\" target=\"_parent\"><img src=\"https://colab.research.google.com/assets/colab-badge.svg\" alt=\"Open In Colab\"/></a>"
      ]
    },
    {
      "cell_type": "markdown",
      "source": [
        "<center>\n",
        "<img src=\"https://upload.wikimedia.org/wikipedia/commons/4/47/Acronimo_y_nombre_uc3m.png\" width=50%/>\n",
        "\n",
        "<h1><font color='#12007a'>Procesamiento de Lenguaje Natural con Aprendizaje Profundo</font></h1>\n",
        "<p>Autora: Isabel Segura Bedmar</p>\n",
        "\n",
        "<img align='right' src=\"https://mirrors.creativecommons.org/presskit/buttons/88x31/png/by-nc-sa.png\" width=15%/>\n",
        "</center>   "
      ],
      "metadata": {
        "id": "p2_tpSbFqxA9"
      }
    },
    {
      "cell_type": "markdown",
      "source": [
        "# 6.3. Back translation para generar textos sintéticos\n",
        "\n",
        "En este ejercicio, vamos a estudiar una técnica de generación automática de textos basada en \"back translation\".\n",
        "La idea básica de este método es traducir el texto de entrada a un idioma, y volver a traducirlo al idioma original. De esta forma, podemos generar un nuevo texto con diferentes palabras conservando el significado del texto original. Por ejemplo:\n",
        "\n",
        "- **Texto original**: *No me esperes para el almuerzo* => (español a inglés) *Don’t wait me for lunch* => (de inglés a español)\n",
        "- **Texto generado**:  *No me esperes para almorzar*.\n",
        "\n",
        "En el ejemplo anterior, podemos ver que el texto generado tiene el mismo significado que el texto original, y además no tiene errores sintácticos.\n",
        "\n",
        "\n",
        "\n",
        "\n",
        "\n",
        "\n",
        "\n"
      ],
      "metadata": {
        "id": "k-PR7ClDT-mL"
      }
    },
    {
      "cell_type": "markdown",
      "source": [
        "## Back-translation con textaugment\n",
        "\n",
        "Algunas librerías de Python ya implementan esta técnica. Por ejemplo, la librería **textaugment**, proporciona una clase **Translate** para generar un nuevo texto usando back translation. Es necesario indicar el idioma de origen, y el idioma que se utiliza como paso intermedio.\n"
      ],
      "metadata": {
        "id": "RwUICMfgpYnn"
      }
    },
    {
      "cell_type": "code",
      "source": [
        "! pip install -q textaugment"
      ],
      "metadata": {
        "id": "x7yCmrwrpvBm"
      },
      "execution_count": 1,
      "outputs": []
    },
    {
      "cell_type": "code",
      "source": [
        "from textaugment import Translate\n",
        "SRC = \"es\" # idioma de los textos\n",
        "TO = \"en\" # idioma que se utiliza para traducir como paso intermedio\n",
        "\n",
        "\n",
        "texts = [\"El cambio climático unido al fenómeno de ‘El Niño’ impulsan las temperaturas globales hasta marcas nunca documentadas.\",\n",
        "         \"Cada vez son más tristes las canciones de amor.\",\n",
        "         \"Pozuelo de Alarcón, en Madrid, repite como la localidad con la renta más alta, de 80.244 euros, frente a los 12.737 de Higuera de Vargas (Badajoz).\",\n",
        "         \"La Cumbre de Granada cobra extrema relevancia porque formalmente marcará el comienzo del debate al más alto nivel sobre la capacidad de los Veintisiete para integrar nuevos miembros.\",\n",
        "         'El bono estadounidense llega a máximos desde 2007 y el alemán, a su mayor cota desde 2011.',\n",
        "         'El presidente de Ucrania realiza su primera visita a España desde que comenzó la guerra.'\n",
        "    ]\n",
        "\n",
        "t = Translate(src=SRC, to=TO)\n",
        "for text in texts:\n",
        "    print('Texto original:', text)\n",
        "    print('Texto generado:', t.augment(text))\n",
        "    print()\n"
      ],
      "metadata": {
        "colab": {
          "base_uri": "https://localhost:8080/"
        },
        "id": "uHHBN_3xp72J",
        "outputId": "f2b2d45d-63ce-4c92-b901-6c766becbc2c"
      },
      "execution_count": 2,
      "outputs": [
        {
          "output_type": "stream",
          "name": "stdout",
          "text": [
            "Texto original: El cambio climático unido al fenómeno de ‘El Niño’ impulsan las temperaturas globales hasta marcas nunca documentadas.\n",
            "Texto generado: el cambio climático vinculado al fenómeno de \"el niño\" promueve las temperaturas globales a las marcas nunca documentadas.\n",
            "\n",
            "Texto original: Cada vez son más tristes las canciones de amor.\n",
            "Texto generado: las canciones de amor son cada vez más tristes.\n",
            "\n",
            "Texto original: Pozuelo de Alarcón, en Madrid, repite como la localidad con la renta más alta, de 80.244 euros, frente a los 12.737 de Higuera de Vargas (Badajoz).\n",
            "Texto generado: pozuelo de alarcón, en madrid, repite cómo la ciudad con el mayor ingreso, de 80,244 euros, en comparación con los 12,737 de higuera de vargas (badajoz).\n",
            "\n",
            "Texto original: La Cumbre de Granada cobra extrema relevancia porque formalmente marcará el comienzo del debate al más alto nivel sobre la capacidad de los Veintisiete para integrar nuevos miembros.\n",
            "Texto generado: la cumbre de granada cobra relevancia extrema porque marcará formalmente el comienzo del debate al más alto nivel sobre la capacidad de los veintisiete para integrar nuevos miembros.\n",
            "\n",
            "Texto original: El bono estadounidense llega a máximos desde 2007 y el alemán, a su mayor cota desde 2011.\n",
            "Texto generado: el bono estadounidense alcanza el máximo desde 2007 y el alemán, a su nivel más grande desde 2011.\n",
            "\n",
            "Texto original: El presidente de Ucrania realiza su primera visita a España desde que comenzó la guerra.\n",
            "Texto generado: el presidente de ucrania hizo su primera visita a españa desde que comenzó la guerra.\n",
            "\n"
          ]
        }
      ]
    },
    {
      "cell_type": "markdown",
      "source": [
        "Podemos ver que las oraciones generadas mantienen el significado de las oraciones originales. Además, en general, son correctas sintácticamente.\n"
      ],
      "metadata": {
        "id": "s0Q_reqvE7Nn"
      }
    },
    {
      "cell_type": "markdown",
      "source": [
        "## Implementando nuestro método de back-translation (usando googletrans)\n",
        "También es posible implementar nosotros mismo un método que permita generar un nuevo texto usando este enfoque de back translation. Para ello, usaremos la librería de Python **googletrans**, que actúa como interfaz para llamar al API de Google translator.\n",
        "\n",
        "Para que dicha librería funcione correctamente en Google Colab, es necesario instalar la versión 3.1.0a0, tal y como se indica en la siguiente celda:\n"
      ],
      "metadata": {
        "id": "3bSJKrx2W2Zp"
      }
    },
    {
      "cell_type": "code",
      "source": [
        "#!pip3 uninstall googletrans\n",
        "!pip3 install -q googletrans==3.1.0a0"
      ],
      "metadata": {
        "id": "LgdzZzQTW89D"
      },
      "execution_count": 3,
      "outputs": []
    },
    {
      "cell_type": "markdown",
      "source": [
        "Una vez instalada, vamos a ver cómo utilizar esta librería.\n",
        "\n",
        "En principio, no sería necesario indicar el idioma de origen, porque la librería es capaz de detectar el idioma de un texto.\n",
        "Puede tardar unos minutos.\n"
      ],
      "metadata": {
        "id": "ZN6N1XZOLxq2"
      }
    },
    {
      "cell_type": "code",
      "source": [
        "from googletrans import Translator\n",
        "#creamos el objeto translator\n",
        "\n",
        "translator = Translator()\n",
        "translation = translator.translate(\"Cada vez son más tristes las canciones de amor.\", dest=\"en\", src='es')\n",
        "print(translation.origin, ' -> ', translation.text)\n"
      ],
      "metadata": {
        "colab": {
          "base_uri": "https://localhost:8080/"
        },
        "id": "nZjZ4yA2K01G",
        "outputId": "48ca453b-23d7-4aba-f15c-188cae3dffb5"
      },
      "execution_count": 4,
      "outputs": [
        {
          "output_type": "stream",
          "name": "stdout",
          "text": [
            "Cada vez son más tristes las canciones de amor.  ->  Love songs are getting sadder and sadder.\n"
          ]
        }
      ]
    },
    {
      "cell_type": "markdown",
      "source": [
        "Ahora vamos a volver a traducir de inglés a español, usando el mismo método, y simplemente cambiando los argumentos de entrada:"
      ],
      "metadata": {
        "id": "rEYfWMA0NXBf"
      }
    },
    {
      "cell_type": "code",
      "source": [
        "\n",
        "translation = translator.translate(translation.text, dest=\"es\", src='en')\n",
        "print(translation.origin, ' -> ', translation.text)\n"
      ],
      "metadata": {
        "colab": {
          "base_uri": "https://localhost:8080/"
        },
        "id": "X5opEa8nNXqn",
        "outputId": "5f40e110-2937-4428-e6b6-fe008d0c2144"
      },
      "execution_count": 5,
      "outputs": [
        {
          "output_type": "stream",
          "name": "stdout",
          "text": [
            "Love songs are getting sadder and sadder.  ->  Las canciones de amor son cada vez más tristes.\n"
          ]
        }
      ]
    },
    {
      "cell_type": "markdown",
      "source": [
        "Vamos a definir una función que reciba un texto, y devuelva el texto generado basado en este enfoque de back translation:"
      ],
      "metadata": {
        "id": "-8uiEGzENiRo"
      }
    },
    {
      "cell_type": "code",
      "source": [
        "def back_translate(input_text, src_lang, to_lang) -> str:\n",
        "    \"\"\"gets an input text and translate it from src_lang to to_lang. Now, this translation\n",
        "    is againg translated from to_lang to src_lang. This final translation is returned\"\"\"\n",
        "    translator = Translator()\n",
        "    translation = translator.translate(input_text, src=src_lang, dest=to_lang)\n",
        "    # print(translation.origin, ' -> ', translation.text)\n",
        "    translated_text = translation.text\n",
        "    translation = translator.translate(translated_text, src=to_lang, dest=src_lang)\n",
        "    return translation.text\n",
        ""
      ],
      "metadata": {
        "id": "qbT-vtRRNqyX"
      },
      "execution_count": 6,
      "outputs": []
    },
    {
      "cell_type": "markdown",
      "source": [
        "Procesamos ahora nuestra colección de oraciones para generar  nuevos textos:"
      ],
      "metadata": {
        "id": "46tJ2ZLjOTZh"
      }
    },
    {
      "cell_type": "code",
      "source": [
        "for input_text in texts:\n",
        "    synthetic_text = back_translate(input_text,'es','en')\n",
        "    print('Texto original:', input_text)\n",
        "    print('Texto generado:', synthetic_text)\n",
        "    print()"
      ],
      "metadata": {
        "colab": {
          "base_uri": "https://localhost:8080/"
        },
        "id": "hfLU-U92JwED",
        "outputId": "3e4bd388-137c-4dc7-b04f-b57865775839"
      },
      "execution_count": 7,
      "outputs": [
        {
          "output_type": "stream",
          "name": "stdout",
          "text": [
            "Texto original: El cambio climático unido al fenómeno de ‘El Niño’ impulsan las temperaturas globales hasta marcas nunca documentadas.\n",
            "Texto generado: El cambio climático combinado con el fenómeno de 'El Niño' está elevando las temperaturas globales a niveles nunca antes documentados.\n",
            "\n",
            "Texto original: Cada vez son más tristes las canciones de amor.\n",
            "Texto generado: Las canciones de amor son cada vez más tristes.\n",
            "\n",
            "Texto original: Pozuelo de Alarcón, en Madrid, repite como la localidad con la renta más alta, de 80.244 euros, frente a los 12.737 de Higuera de Vargas (Badajoz).\n",
            "Texto generado: Pozuelo de Alarcón, en Madrid, repite como la localidad con mayores ingresos, 80.244 euros, frente a los 12.737 de Higuera de Vargas (Badajoz).\n",
            "\n",
            "Texto original: La Cumbre de Granada cobra extrema relevancia porque formalmente marcará el comienzo del debate al más alto nivel sobre la capacidad de los Veintisiete para integrar nuevos miembros.\n",
            "Texto generado: La Cumbre de Granada es sumamente relevante porque marcará formalmente el inicio del debate al más alto nivel sobre la capacidad de los Veintisiete para integrar nuevos miembros.\n",
            "\n",
            "Texto original: El bono estadounidense llega a máximos desde 2007 y el alemán, a su mayor cota desde 2011.\n",
            "Texto generado: El bono estadounidense alcanza su nivel más alto desde 2007 y el bono alemán alcanza su nivel más alto desde 2011.\n",
            "\n",
            "Texto original: El presidente de Ucrania realiza su primera visita a España desde que comenzó la guerra.\n",
            "Texto generado: El presidente de Ucrania realiza su primera visita a España desde que comenzó la guerra.\n",
            "\n"
          ]
        }
      ]
    },
    {
      "cell_type": "markdown",
      "source": [
        "Te animo a que pruebes con otras otras APIs de traducción automática, como por ejemplo, Deepl (https://www.deepl.com/en/blog/announcing-python-client-library-for-deepl-api) o Yandex (https://cloud.yandex.com/en/docs/tracker/user/python)."
      ],
      "metadata": {
        "id": "kpLHMAUYPH8d"
      }
    }
  ]
}