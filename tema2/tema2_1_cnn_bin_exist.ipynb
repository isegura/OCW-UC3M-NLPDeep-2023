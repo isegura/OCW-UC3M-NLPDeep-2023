{
  "cells": [
    {
      "cell_type": "markdown",
      "metadata": {
        "id": "view-in-github",
        "colab_type": "text"
      },
      "source": [
        "<a href=\"https://colab.research.google.com/github/isegura/OCW-UC3M-NLPDeep-2023/blob/main/tema2_1_cnn_bin_exist.ipynb\" target=\"_parent\"><img src=\"https://colab.research.google.com/assets/colab-badge.svg\" alt=\"Open In Colab\"/></a>"
      ]
    },
    {
      "cell_type": "markdown",
      "metadata": {
        "id": "aQr9dRLTmI_u"
      },
      "source": [
        "<center>\n",
        "<img src=\"https://upload.wikimedia.org/wikipedia/commons/4/47/Acronimo_y_nombre_uc3m.png\" width=50%/>\n",
        "\n",
        "<h1><font color='#12007a'>Procesamiento de Lenguaje Natural con Aprendizaje Profundo</font></h1>\n",
        "<p>Autora: Isabel Segura Bedmar</p>\n",
        "\n",
        "<img align='right' src=\"https://mirrors.creativecommons.org/presskit/buttons/88x31/png/by-nc-sa.png\" width=15%/>\n",
        "</center>      "
      ]
    },
    {
      "cell_type": "markdown",
      "metadata": {
        "id": "Bv2Hbhm0lC8r"
      },
      "source": [
        "# 2.1: CNN aplicado a la clasificación binaria de mensajes sexistas.\n",
        "\n",
        "El objetivo de este problema es entrenar y evaluar un modelo CNN para la clasificación de mensajes sexistas.\n",
        "\n",
        "El dataset a utilizar es la colección de textos proporcionada por los organizadores de la tareas EXIST 2021. Este dataset puede solicitarse para usos en investigación en el siguiente [link](#http://nlp.uned.es/exist2021/).\n",
        "\n",
        "\n",
        "Dicho dataset está compuesto por una colección de tweets y comentarios de Gab (conocida por ser una red social de usuarios de extrema derecha). Hay textos tanto en inglés como en español, y han sido anotados para indicar si contienen un mensaje sexista o no. Un texto se considera sexista, si tiene un mensaje sexista, pero también aquellos que están describiendo una situación sexista o están criticando un comportamiento sexista.\n",
        "\n",
        "- **SEXIST**: Por ejemplo, “Mujer al volante, tenga cuidado!\", \"El comportamiento de Rubiales ha sido intolerable\" (no es un mensaje sexista, pero sí informa sobre un comportamiento sexista).\n",
        "- **NOT SEXIST**: “Alguien me explica que zorra hace la gente en el cajero que se demora tanto.\"\n",
        "\n",
        "El dataset contiene 6.977 tweets para entrenaiento y 3.386 para evaluación. En ambos conjunto, las clases sexist y not sexist están balanceadas.\n",
        "\n",
        "\n",
        "\n",
        "**NOTA PARA PODER EJECUTAR ESTE NOTEBOOK**:\n",
        "\n",
        "1) Para poder ejercutar correctamente este notebook, deberás abrirlo en tu Google Drive (por ejemplo, en la carpeta 'Colab Notebooks').\n",
        "\n",
        "2) Además, debes guardar el dataset en tu Google Drive, dentro de carpeta 'Colab Notebooks/data/exist2021/'.\n",
        "\n"
      ]
    },
    {
      "cell_type": "markdown",
      "metadata": {
        "id": "m2vZpV7_lkE6"
      },
      "source": [
        "## Cargar el dataset\n",
        "\n",
        "Lo primero que debes hacer es cargar el dataset. Como hemos comentado antes, recuerda que para que puedas ejecutar este notebook, deberás haber descargado los ficheros del dataset y haberlos almacenados en tu carpeta 'Colab Notebooks/data/exist2021/' dentro de tu Gooogle Drive.\n",
        "\n"
      ]
    },
    {
      "cell_type": "code",
      "execution_count": null,
      "metadata": {
        "colab": {
          "base_uri": "https://localhost:8080/"
        },
        "id": "J5Q1u9f3ljUu",
        "outputId": "e1593b74-e192-44e2-f5bd-4858c4c2e923"
      },
      "outputs": [
        {
          "output_type": "stream",
          "name": "stdout",
          "text": [
            "Drive already mounted at /content/drive; to attempt to forcibly remount, call drive.mount(\"/content/drive\", force_remount=True).\n"
          ]
        }
      ],
      "source": [
        "from google.colab import drive\n",
        "# monta tu unidad de google drive\n",
        "drive.mount('/content/drive')\n",
        "\n",
        "# cambiamos el directorio de trabajo a la carpeta donde está almacenado el dataset\n",
        "import os\n",
        "os.chdir('/content/drive/My Drive/Colab Notebooks/data/exist2021/')"
      ]
    },
    {
      "cell_type": "markdown",
      "metadata": {
        "id": "eqCLmDvhk8Cz"
      },
      "source": [
        "Cargamos los conjuntos de datos de training y evaluación en dos objetos dataframes de pandas:"
      ]
    },
    {
      "cell_type": "code",
      "execution_count": null,
      "metadata": {
        "colab": {
          "base_uri": "https://localhost:8080/",
          "height": 415
        },
        "id": "Vy_wu_ahqGPT",
        "outputId": "c1772313-c1a8-4fba-e36e-525223fbd8fb"
      },
      "outputs": [
        {
          "output_type": "stream",
          "name": "stdout",
          "text": [
            "tamaño training: (6977, 7)\n",
            "tamaño test: (4368, 7)\n"
          ]
        },
        {
          "output_type": "execute_result",
          "data": {
            "text/plain": [
              "   test_case  id   source language  \\\n",
              "0  EXIST2021   1  twitter       en   \n",
              "1  EXIST2021   2  twitter       en   \n",
              "2  EXIST2021   3  twitter       en   \n",
              "3  EXIST2021   4  twitter       en   \n",
              "4  EXIST2021   5  twitter       en   \n",
              "\n",
              "                                                text       task1  \\\n",
              "0  She calls herself \"anti-feminazi\" how about sh...      sexist   \n",
              "1  Now, back to these women, the brave and the be...  non-sexist   \n",
              "2  @CurvyBandida @Xalynne_B Wow, your skirt is ve...      sexist   \n",
              "3  @AurelieGuiboud Incredible!  Beautiful!But I l...  non-sexist   \n",
              "4  i find it extremely hard to believe that kelly...  non-sexist   \n",
              "\n",
              "                    task2  \n",
              "0  ideological-inequality  \n",
              "1              non-sexist  \n",
              "2         objectification  \n",
              "3              non-sexist  \n",
              "4              non-sexist  "
            ],
            "text/html": [
              "\n",
              "  <div id=\"df-e75b55aa-a3a8-4ee8-9c10-475e078803e7\" class=\"colab-df-container\">\n",
              "    <div>\n",
              "<style scoped>\n",
              "    .dataframe tbody tr th:only-of-type {\n",
              "        vertical-align: middle;\n",
              "    }\n",
              "\n",
              "    .dataframe tbody tr th {\n",
              "        vertical-align: top;\n",
              "    }\n",
              "\n",
              "    .dataframe thead th {\n",
              "        text-align: right;\n",
              "    }\n",
              "</style>\n",
              "<table border=\"1\" class=\"dataframe\">\n",
              "  <thead>\n",
              "    <tr style=\"text-align: right;\">\n",
              "      <th></th>\n",
              "      <th>test_case</th>\n",
              "      <th>id</th>\n",
              "      <th>source</th>\n",
              "      <th>language</th>\n",
              "      <th>text</th>\n",
              "      <th>task1</th>\n",
              "      <th>task2</th>\n",
              "    </tr>\n",
              "  </thead>\n",
              "  <tbody>\n",
              "    <tr>\n",
              "      <th>0</th>\n",
              "      <td>EXIST2021</td>\n",
              "      <td>1</td>\n",
              "      <td>twitter</td>\n",
              "      <td>en</td>\n",
              "      <td>She calls herself \"anti-feminazi\" how about sh...</td>\n",
              "      <td>sexist</td>\n",
              "      <td>ideological-inequality</td>\n",
              "    </tr>\n",
              "    <tr>\n",
              "      <th>1</th>\n",
              "      <td>EXIST2021</td>\n",
              "      <td>2</td>\n",
              "      <td>twitter</td>\n",
              "      <td>en</td>\n",
              "      <td>Now, back to these women, the brave and the be...</td>\n",
              "      <td>non-sexist</td>\n",
              "      <td>non-sexist</td>\n",
              "    </tr>\n",
              "    <tr>\n",
              "      <th>2</th>\n",
              "      <td>EXIST2021</td>\n",
              "      <td>3</td>\n",
              "      <td>twitter</td>\n",
              "      <td>en</td>\n",
              "      <td>@CurvyBandida @Xalynne_B Wow, your skirt is ve...</td>\n",
              "      <td>sexist</td>\n",
              "      <td>objectification</td>\n",
              "    </tr>\n",
              "    <tr>\n",
              "      <th>3</th>\n",
              "      <td>EXIST2021</td>\n",
              "      <td>4</td>\n",
              "      <td>twitter</td>\n",
              "      <td>en</td>\n",
              "      <td>@AurelieGuiboud Incredible!  Beautiful!But I l...</td>\n",
              "      <td>non-sexist</td>\n",
              "      <td>non-sexist</td>\n",
              "    </tr>\n",
              "    <tr>\n",
              "      <th>4</th>\n",
              "      <td>EXIST2021</td>\n",
              "      <td>5</td>\n",
              "      <td>twitter</td>\n",
              "      <td>en</td>\n",
              "      <td>i find it extremely hard to believe that kelly...</td>\n",
              "      <td>non-sexist</td>\n",
              "      <td>non-sexist</td>\n",
              "    </tr>\n",
              "  </tbody>\n",
              "</table>\n",
              "</div>\n",
              "    <div class=\"colab-df-buttons\">\n",
              "\n",
              "  <div class=\"colab-df-container\">\n",
              "    <button class=\"colab-df-convert\" onclick=\"convertToInteractive('df-e75b55aa-a3a8-4ee8-9c10-475e078803e7')\"\n",
              "            title=\"Convert this dataframe to an interactive table.\"\n",
              "            style=\"display:none;\">\n",
              "\n",
              "  <svg xmlns=\"http://www.w3.org/2000/svg\" height=\"24px\" viewBox=\"0 -960 960 960\">\n",
              "    <path d=\"M120-120v-720h720v720H120Zm60-500h600v-160H180v160Zm220 220h160v-160H400v160Zm0 220h160v-160H400v160ZM180-400h160v-160H180v160Zm440 0h160v-160H620v160ZM180-180h160v-160H180v160Zm440 0h160v-160H620v160Z\"/>\n",
              "  </svg>\n",
              "    </button>\n",
              "\n",
              "  <style>\n",
              "    .colab-df-container {\n",
              "      display:flex;\n",
              "      gap: 12px;\n",
              "    }\n",
              "\n",
              "    .colab-df-convert {\n",
              "      background-color: #E8F0FE;\n",
              "      border: none;\n",
              "      border-radius: 50%;\n",
              "      cursor: pointer;\n",
              "      display: none;\n",
              "      fill: #1967D2;\n",
              "      height: 32px;\n",
              "      padding: 0 0 0 0;\n",
              "      width: 32px;\n",
              "    }\n",
              "\n",
              "    .colab-df-convert:hover {\n",
              "      background-color: #E2EBFA;\n",
              "      box-shadow: 0px 1px 2px rgba(60, 64, 67, 0.3), 0px 1px 3px 1px rgba(60, 64, 67, 0.15);\n",
              "      fill: #174EA6;\n",
              "    }\n",
              "\n",
              "    .colab-df-buttons div {\n",
              "      margin-bottom: 4px;\n",
              "    }\n",
              "\n",
              "    [theme=dark] .colab-df-convert {\n",
              "      background-color: #3B4455;\n",
              "      fill: #D2E3FC;\n",
              "    }\n",
              "\n",
              "    [theme=dark] .colab-df-convert:hover {\n",
              "      background-color: #434B5C;\n",
              "      box-shadow: 0px 1px 3px 1px rgba(0, 0, 0, 0.15);\n",
              "      filter: drop-shadow(0px 1px 2px rgba(0, 0, 0, 0.3));\n",
              "      fill: #FFFFFF;\n",
              "    }\n",
              "  </style>\n",
              "\n",
              "    <script>\n",
              "      const buttonEl =\n",
              "        document.querySelector('#df-e75b55aa-a3a8-4ee8-9c10-475e078803e7 button.colab-df-convert');\n",
              "      buttonEl.style.display =\n",
              "        google.colab.kernel.accessAllowed ? 'block' : 'none';\n",
              "\n",
              "      async function convertToInteractive(key) {\n",
              "        const element = document.querySelector('#df-e75b55aa-a3a8-4ee8-9c10-475e078803e7');\n",
              "        const dataTable =\n",
              "          await google.colab.kernel.invokeFunction('convertToInteractive',\n",
              "                                                    [key], {});\n",
              "        if (!dataTable) return;\n",
              "\n",
              "        const docLinkHtml = 'Like what you see? Visit the ' +\n",
              "          '<a target=\"_blank\" href=https://colab.research.google.com/notebooks/data_table.ipynb>data table notebook</a>'\n",
              "          + ' to learn more about interactive tables.';\n",
              "        element.innerHTML = '';\n",
              "        dataTable['output_type'] = 'display_data';\n",
              "        await google.colab.output.renderOutput(dataTable, element);\n",
              "        const docLink = document.createElement('div');\n",
              "        docLink.innerHTML = docLinkHtml;\n",
              "        element.appendChild(docLink);\n",
              "      }\n",
              "    </script>\n",
              "  </div>\n",
              "\n",
              "\n",
              "<div id=\"df-4c1b05a3-f5a7-4f82-8dd9-054dc98e0c20\">\n",
              "  <button class=\"colab-df-quickchart\" onclick=\"quickchart('df-4c1b05a3-f5a7-4f82-8dd9-054dc98e0c20')\"\n",
              "            title=\"Suggest charts.\"\n",
              "            style=\"display:none;\">\n",
              "\n",
              "<svg xmlns=\"http://www.w3.org/2000/svg\" height=\"24px\"viewBox=\"0 0 24 24\"\n",
              "     width=\"24px\">\n",
              "    <g>\n",
              "        <path d=\"M19 3H5c-1.1 0-2 .9-2 2v14c0 1.1.9 2 2 2h14c1.1 0 2-.9 2-2V5c0-1.1-.9-2-2-2zM9 17H7v-7h2v7zm4 0h-2V7h2v10zm4 0h-2v-4h2v4z\"/>\n",
              "    </g>\n",
              "</svg>\n",
              "  </button>\n",
              "\n",
              "<style>\n",
              "  .colab-df-quickchart {\n",
              "      --bg-color: #E8F0FE;\n",
              "      --fill-color: #1967D2;\n",
              "      --hover-bg-color: #E2EBFA;\n",
              "      --hover-fill-color: #174EA6;\n",
              "      --disabled-fill-color: #AAA;\n",
              "      --disabled-bg-color: #DDD;\n",
              "  }\n",
              "\n",
              "  [theme=dark] .colab-df-quickchart {\n",
              "      --bg-color: #3B4455;\n",
              "      --fill-color: #D2E3FC;\n",
              "      --hover-bg-color: #434B5C;\n",
              "      --hover-fill-color: #FFFFFF;\n",
              "      --disabled-bg-color: #3B4455;\n",
              "      --disabled-fill-color: #666;\n",
              "  }\n",
              "\n",
              "  .colab-df-quickchart {\n",
              "    background-color: var(--bg-color);\n",
              "    border: none;\n",
              "    border-radius: 50%;\n",
              "    cursor: pointer;\n",
              "    display: none;\n",
              "    fill: var(--fill-color);\n",
              "    height: 32px;\n",
              "    padding: 0;\n",
              "    width: 32px;\n",
              "  }\n",
              "\n",
              "  .colab-df-quickchart:hover {\n",
              "    background-color: var(--hover-bg-color);\n",
              "    box-shadow: 0 1px 2px rgba(60, 64, 67, 0.3), 0 1px 3px 1px rgba(60, 64, 67, 0.15);\n",
              "    fill: var(--button-hover-fill-color);\n",
              "  }\n",
              "\n",
              "  .colab-df-quickchart-complete:disabled,\n",
              "  .colab-df-quickchart-complete:disabled:hover {\n",
              "    background-color: var(--disabled-bg-color);\n",
              "    fill: var(--disabled-fill-color);\n",
              "    box-shadow: none;\n",
              "  }\n",
              "\n",
              "  .colab-df-spinner {\n",
              "    border: 2px solid var(--fill-color);\n",
              "    border-color: transparent;\n",
              "    border-bottom-color: var(--fill-color);\n",
              "    animation:\n",
              "      spin 1s steps(1) infinite;\n",
              "  }\n",
              "\n",
              "  @keyframes spin {\n",
              "    0% {\n",
              "      border-color: transparent;\n",
              "      border-bottom-color: var(--fill-color);\n",
              "      border-left-color: var(--fill-color);\n",
              "    }\n",
              "    20% {\n",
              "      border-color: transparent;\n",
              "      border-left-color: var(--fill-color);\n",
              "      border-top-color: var(--fill-color);\n",
              "    }\n",
              "    30% {\n",
              "      border-color: transparent;\n",
              "      border-left-color: var(--fill-color);\n",
              "      border-top-color: var(--fill-color);\n",
              "      border-right-color: var(--fill-color);\n",
              "    }\n",
              "    40% {\n",
              "      border-color: transparent;\n",
              "      border-right-color: var(--fill-color);\n",
              "      border-top-color: var(--fill-color);\n",
              "    }\n",
              "    60% {\n",
              "      border-color: transparent;\n",
              "      border-right-color: var(--fill-color);\n",
              "    }\n",
              "    80% {\n",
              "      border-color: transparent;\n",
              "      border-right-color: var(--fill-color);\n",
              "      border-bottom-color: var(--fill-color);\n",
              "    }\n",
              "    90% {\n",
              "      border-color: transparent;\n",
              "      border-bottom-color: var(--fill-color);\n",
              "    }\n",
              "  }\n",
              "</style>\n",
              "\n",
              "  <script>\n",
              "    async function quickchart(key) {\n",
              "      const quickchartButtonEl =\n",
              "        document.querySelector('#' + key + ' button');\n",
              "      quickchartButtonEl.disabled = true;  // To prevent multiple clicks.\n",
              "      quickchartButtonEl.classList.add('colab-df-spinner');\n",
              "      try {\n",
              "        const charts = await google.colab.kernel.invokeFunction(\n",
              "            'suggestCharts', [key], {});\n",
              "      } catch (error) {\n",
              "        console.error('Error during call to suggestCharts:', error);\n",
              "      }\n",
              "      quickchartButtonEl.classList.remove('colab-df-spinner');\n",
              "      quickchartButtonEl.classList.add('colab-df-quickchart-complete');\n",
              "    }\n",
              "    (() => {\n",
              "      let quickchartButtonEl =\n",
              "        document.querySelector('#df-4c1b05a3-f5a7-4f82-8dd9-054dc98e0c20 button');\n",
              "      quickchartButtonEl.style.display =\n",
              "        google.colab.kernel.accessAllowed ? 'block' : 'none';\n",
              "    })();\n",
              "  </script>\n",
              "</div>\n",
              "    </div>\n",
              "  </div>\n"
            ]
          },
          "metadata": {},
          "execution_count": 2
        }
      ],
      "source": [
        "import pandas as pd\n",
        "\n",
        "df_train = pd.read_csv(\"train.tsv\",  sep='\\t')\n",
        "df_test = pd.read_csv(\"test.tsv\",  sep='\\t')\n",
        "\n",
        "print('tamaño training:', df_train.shape)\n",
        "print('tamaño test:', df_test.shape)\n",
        "\n",
        "# mostramos los primeros registros del training:\n",
        "df_train.head()"
      ]
    },
    {
      "cell_type": "markdown",
      "source": [
        "El dataset es multilingüe, vamos a quedarnos únicamente con los textos en inglés:"
      ],
      "metadata": {
        "id": "zxaC_JZ5oj8B"
      }
    },
    {
      "cell_type": "code",
      "source": [
        "df_train=df_train[df_train['language']=='en']\n",
        "df_test=df_test[df_test['language']=='en']\n",
        "print('tamaño training:', df_train.shape)\n",
        "print('tamaño test:', df_test.shape)\n"
      ],
      "metadata": {
        "colab": {
          "base_uri": "https://localhost:8080/"
        },
        "id": "agVzVcfropBP",
        "outputId": "250cbdc9-6762-447f-f9fa-706727f01eb7"
      },
      "execution_count": null,
      "outputs": [
        {
          "output_type": "stream",
          "name": "stdout",
          "text": [
            "tamaño training: (3436, 7)\n",
            "tamaño test: (2208, 7)\n"
          ]
        }
      ]
    },
    {
      "cell_type": "markdown",
      "metadata": {
        "id": "MKma9AAxDy6F"
      },
      "source": [
        "La competición EXIST 2021 proponía dos tareas: la clasificación binaria de los comenarios (sexistas y no sexistas) y una multiclasificación de los mensajes sexistas en distintos tipos. En este problema nos centramos en la tarea binaria. Las etiquetas de esta tarea están almacenadas en el campo **task1**. En realidad, únicamente vamos a uilizar los campos **task1** y **task1**. Podemos eliminar el resto de los campos:"
      ]
    },
    {
      "cell_type": "code",
      "execution_count": null,
      "metadata": {
        "colab": {
          "base_uri": "https://localhost:8080/",
          "height": 206
        },
        "id": "8QTuQ1t8E3cY",
        "outputId": "fcfcc5b2-3867-42a6-fc8c-d974eae2191f"
      },
      "outputs": [
        {
          "output_type": "execute_result",
          "data": {
            "text/plain": [
              "  language                                               text       label\n",
              "0       en  She calls herself \"anti-feminazi\" how about sh...      sexist\n",
              "1       en  Now, back to these women, the brave and the be...  non-sexist\n",
              "2       en  @CurvyBandida @Xalynne_B Wow, your skirt is ve...      sexist\n",
              "3       en  @AurelieGuiboud Incredible!  Beautiful!But I l...  non-sexist\n",
              "4       en  i find it extremely hard to believe that kelly...  non-sexist"
            ],
            "text/html": [
              "\n",
              "  <div id=\"df-c9f50899-ee66-41bc-9980-0cdf01eaa545\" class=\"colab-df-container\">\n",
              "    <div>\n",
              "<style scoped>\n",
              "    .dataframe tbody tr th:only-of-type {\n",
              "        vertical-align: middle;\n",
              "    }\n",
              "\n",
              "    .dataframe tbody tr th {\n",
              "        vertical-align: top;\n",
              "    }\n",
              "\n",
              "    .dataframe thead th {\n",
              "        text-align: right;\n",
              "    }\n",
              "</style>\n",
              "<table border=\"1\" class=\"dataframe\">\n",
              "  <thead>\n",
              "    <tr style=\"text-align: right;\">\n",
              "      <th></th>\n",
              "      <th>language</th>\n",
              "      <th>text</th>\n",
              "      <th>label</th>\n",
              "    </tr>\n",
              "  </thead>\n",
              "  <tbody>\n",
              "    <tr>\n",
              "      <th>0</th>\n",
              "      <td>en</td>\n",
              "      <td>She calls herself \"anti-feminazi\" how about sh...</td>\n",
              "      <td>sexist</td>\n",
              "    </tr>\n",
              "    <tr>\n",
              "      <th>1</th>\n",
              "      <td>en</td>\n",
              "      <td>Now, back to these women, the brave and the be...</td>\n",
              "      <td>non-sexist</td>\n",
              "    </tr>\n",
              "    <tr>\n",
              "      <th>2</th>\n",
              "      <td>en</td>\n",
              "      <td>@CurvyBandida @Xalynne_B Wow, your skirt is ve...</td>\n",
              "      <td>sexist</td>\n",
              "    </tr>\n",
              "    <tr>\n",
              "      <th>3</th>\n",
              "      <td>en</td>\n",
              "      <td>@AurelieGuiboud Incredible!  Beautiful!But I l...</td>\n",
              "      <td>non-sexist</td>\n",
              "    </tr>\n",
              "    <tr>\n",
              "      <th>4</th>\n",
              "      <td>en</td>\n",
              "      <td>i find it extremely hard to believe that kelly...</td>\n",
              "      <td>non-sexist</td>\n",
              "    </tr>\n",
              "  </tbody>\n",
              "</table>\n",
              "</div>\n",
              "    <div class=\"colab-df-buttons\">\n",
              "\n",
              "  <div class=\"colab-df-container\">\n",
              "    <button class=\"colab-df-convert\" onclick=\"convertToInteractive('df-c9f50899-ee66-41bc-9980-0cdf01eaa545')\"\n",
              "            title=\"Convert this dataframe to an interactive table.\"\n",
              "            style=\"display:none;\">\n",
              "\n",
              "  <svg xmlns=\"http://www.w3.org/2000/svg\" height=\"24px\" viewBox=\"0 -960 960 960\">\n",
              "    <path d=\"M120-120v-720h720v720H120Zm60-500h600v-160H180v160Zm220 220h160v-160H400v160Zm0 220h160v-160H400v160ZM180-400h160v-160H180v160Zm440 0h160v-160H620v160ZM180-180h160v-160H180v160Zm440 0h160v-160H620v160Z\"/>\n",
              "  </svg>\n",
              "    </button>\n",
              "\n",
              "  <style>\n",
              "    .colab-df-container {\n",
              "      display:flex;\n",
              "      gap: 12px;\n",
              "    }\n",
              "\n",
              "    .colab-df-convert {\n",
              "      background-color: #E8F0FE;\n",
              "      border: none;\n",
              "      border-radius: 50%;\n",
              "      cursor: pointer;\n",
              "      display: none;\n",
              "      fill: #1967D2;\n",
              "      height: 32px;\n",
              "      padding: 0 0 0 0;\n",
              "      width: 32px;\n",
              "    }\n",
              "\n",
              "    .colab-df-convert:hover {\n",
              "      background-color: #E2EBFA;\n",
              "      box-shadow: 0px 1px 2px rgba(60, 64, 67, 0.3), 0px 1px 3px 1px rgba(60, 64, 67, 0.15);\n",
              "      fill: #174EA6;\n",
              "    }\n",
              "\n",
              "    .colab-df-buttons div {\n",
              "      margin-bottom: 4px;\n",
              "    }\n",
              "\n",
              "    [theme=dark] .colab-df-convert {\n",
              "      background-color: #3B4455;\n",
              "      fill: #D2E3FC;\n",
              "    }\n",
              "\n",
              "    [theme=dark] .colab-df-convert:hover {\n",
              "      background-color: #434B5C;\n",
              "      box-shadow: 0px 1px 3px 1px rgba(0, 0, 0, 0.15);\n",
              "      filter: drop-shadow(0px 1px 2px rgba(0, 0, 0, 0.3));\n",
              "      fill: #FFFFFF;\n",
              "    }\n",
              "  </style>\n",
              "\n",
              "    <script>\n",
              "      const buttonEl =\n",
              "        document.querySelector('#df-c9f50899-ee66-41bc-9980-0cdf01eaa545 button.colab-df-convert');\n",
              "      buttonEl.style.display =\n",
              "        google.colab.kernel.accessAllowed ? 'block' : 'none';\n",
              "\n",
              "      async function convertToInteractive(key) {\n",
              "        const element = document.querySelector('#df-c9f50899-ee66-41bc-9980-0cdf01eaa545');\n",
              "        const dataTable =\n",
              "          await google.colab.kernel.invokeFunction('convertToInteractive',\n",
              "                                                    [key], {});\n",
              "        if (!dataTable) return;\n",
              "\n",
              "        const docLinkHtml = 'Like what you see? Visit the ' +\n",
              "          '<a target=\"_blank\" href=https://colab.research.google.com/notebooks/data_table.ipynb>data table notebook</a>'\n",
              "          + ' to learn more about interactive tables.';\n",
              "        element.innerHTML = '';\n",
              "        dataTable['output_type'] = 'display_data';\n",
              "        await google.colab.output.renderOutput(dataTable, element);\n",
              "        const docLink = document.createElement('div');\n",
              "        docLink.innerHTML = docLinkHtml;\n",
              "        element.appendChild(docLink);\n",
              "      }\n",
              "    </script>\n",
              "  </div>\n",
              "\n",
              "\n",
              "<div id=\"df-e4fdac40-019b-4066-a708-6073314de048\">\n",
              "  <button class=\"colab-df-quickchart\" onclick=\"quickchart('df-e4fdac40-019b-4066-a708-6073314de048')\"\n",
              "            title=\"Suggest charts.\"\n",
              "            style=\"display:none;\">\n",
              "\n",
              "<svg xmlns=\"http://www.w3.org/2000/svg\" height=\"24px\"viewBox=\"0 0 24 24\"\n",
              "     width=\"24px\">\n",
              "    <g>\n",
              "        <path d=\"M19 3H5c-1.1 0-2 .9-2 2v14c0 1.1.9 2 2 2h14c1.1 0 2-.9 2-2V5c0-1.1-.9-2-2-2zM9 17H7v-7h2v7zm4 0h-2V7h2v10zm4 0h-2v-4h2v4z\"/>\n",
              "    </g>\n",
              "</svg>\n",
              "  </button>\n",
              "\n",
              "<style>\n",
              "  .colab-df-quickchart {\n",
              "      --bg-color: #E8F0FE;\n",
              "      --fill-color: #1967D2;\n",
              "      --hover-bg-color: #E2EBFA;\n",
              "      --hover-fill-color: #174EA6;\n",
              "      --disabled-fill-color: #AAA;\n",
              "      --disabled-bg-color: #DDD;\n",
              "  }\n",
              "\n",
              "  [theme=dark] .colab-df-quickchart {\n",
              "      --bg-color: #3B4455;\n",
              "      --fill-color: #D2E3FC;\n",
              "      --hover-bg-color: #434B5C;\n",
              "      --hover-fill-color: #FFFFFF;\n",
              "      --disabled-bg-color: #3B4455;\n",
              "      --disabled-fill-color: #666;\n",
              "  }\n",
              "\n",
              "  .colab-df-quickchart {\n",
              "    background-color: var(--bg-color);\n",
              "    border: none;\n",
              "    border-radius: 50%;\n",
              "    cursor: pointer;\n",
              "    display: none;\n",
              "    fill: var(--fill-color);\n",
              "    height: 32px;\n",
              "    padding: 0;\n",
              "    width: 32px;\n",
              "  }\n",
              "\n",
              "  .colab-df-quickchart:hover {\n",
              "    background-color: var(--hover-bg-color);\n",
              "    box-shadow: 0 1px 2px rgba(60, 64, 67, 0.3), 0 1px 3px 1px rgba(60, 64, 67, 0.15);\n",
              "    fill: var(--button-hover-fill-color);\n",
              "  }\n",
              "\n",
              "  .colab-df-quickchart-complete:disabled,\n",
              "  .colab-df-quickchart-complete:disabled:hover {\n",
              "    background-color: var(--disabled-bg-color);\n",
              "    fill: var(--disabled-fill-color);\n",
              "    box-shadow: none;\n",
              "  }\n",
              "\n",
              "  .colab-df-spinner {\n",
              "    border: 2px solid var(--fill-color);\n",
              "    border-color: transparent;\n",
              "    border-bottom-color: var(--fill-color);\n",
              "    animation:\n",
              "      spin 1s steps(1) infinite;\n",
              "  }\n",
              "\n",
              "  @keyframes spin {\n",
              "    0% {\n",
              "      border-color: transparent;\n",
              "      border-bottom-color: var(--fill-color);\n",
              "      border-left-color: var(--fill-color);\n",
              "    }\n",
              "    20% {\n",
              "      border-color: transparent;\n",
              "      border-left-color: var(--fill-color);\n",
              "      border-top-color: var(--fill-color);\n",
              "    }\n",
              "    30% {\n",
              "      border-color: transparent;\n",
              "      border-left-color: var(--fill-color);\n",
              "      border-top-color: var(--fill-color);\n",
              "      border-right-color: var(--fill-color);\n",
              "    }\n",
              "    40% {\n",
              "      border-color: transparent;\n",
              "      border-right-color: var(--fill-color);\n",
              "      border-top-color: var(--fill-color);\n",
              "    }\n",
              "    60% {\n",
              "      border-color: transparent;\n",
              "      border-right-color: var(--fill-color);\n",
              "    }\n",
              "    80% {\n",
              "      border-color: transparent;\n",
              "      border-right-color: var(--fill-color);\n",
              "      border-bottom-color: var(--fill-color);\n",
              "    }\n",
              "    90% {\n",
              "      border-color: transparent;\n",
              "      border-bottom-color: var(--fill-color);\n",
              "    }\n",
              "  }\n",
              "</style>\n",
              "\n",
              "  <script>\n",
              "    async function quickchart(key) {\n",
              "      const quickchartButtonEl =\n",
              "        document.querySelector('#' + key + ' button');\n",
              "      quickchartButtonEl.disabled = true;  // To prevent multiple clicks.\n",
              "      quickchartButtonEl.classList.add('colab-df-spinner');\n",
              "      try {\n",
              "        const charts = await google.colab.kernel.invokeFunction(\n",
              "            'suggestCharts', [key], {});\n",
              "      } catch (error) {\n",
              "        console.error('Error during call to suggestCharts:', error);\n",
              "      }\n",
              "      quickchartButtonEl.classList.remove('colab-df-spinner');\n",
              "      quickchartButtonEl.classList.add('colab-df-quickchart-complete');\n",
              "    }\n",
              "    (() => {\n",
              "      let quickchartButtonEl =\n",
              "        document.querySelector('#df-e4fdac40-019b-4066-a708-6073314de048 button');\n",
              "      quickchartButtonEl.style.display =\n",
              "        google.colab.kernel.accessAllowed ? 'block' : 'none';\n",
              "    })();\n",
              "  </script>\n",
              "</div>\n",
              "    </div>\n",
              "  </div>\n"
            ]
          },
          "metadata": {},
          "execution_count": 4
        }
      ],
      "source": [
        "df_train = df_train.drop(['test_case', 'id', 'source', 'task2'], axis=1)\n",
        "df_test = df_test.drop(['test_case', 'id', 'source', 'task2'], axis=1)\n",
        "# renombramos task1 a label\n",
        "df_train = df_train.rename(columns={'task1':'label'})\n",
        "df_test = df_test.rename(columns={'task1':'label'})\n",
        "# mostramos los primeros registros del training\n",
        "df_train.head()"
      ]
    },
    {
      "cell_type": "markdown",
      "metadata": {
        "id": "N0zJ8yE_HfcX"
      },
      "source": [
        "## Label encoding\n",
        "\n",
        "Esta tarea consiste en transformar las labels de formato a texto a un formato numérico.\n",
        "\n",
        "En el caso de clasifición binaria, solo necesitamos transformar las labels de texto a número entero:\n",
        "\n",
        "- non-sexist -> 0\n",
        "- sexist -> 1\n",
        "\n",
        "En nuestra red CNN, la última capa está formada por una única neurona con la función de activación sigmoidea, que devuelve una probabilidad, que se transformará al valor 0 o 1.\n",
        "\n",
        "Por ese motivo, no necesitamos transformar los etiquetas a categorical (vectores one-hot que presentan cada clase), y simplemente será suficiente con transformarlas a un entero.\n"
      ]
    },
    {
      "cell_type": "code",
      "execution_count": null,
      "metadata": {
        "colab": {
          "base_uri": "https://localhost:8080/"
        },
        "id": "DbopRfZzGiWA",
        "outputId": "a362136d-b45c-4b40-bc58-78254fa75c6b"
      },
      "outputs": [
        {
          "output_type": "stream",
          "name": "stdout",
          "text": [
            "Labels: {'non-sexist': 0, 'sexist': 1}\n",
            "\n",
            "antes de transform:  ['sexist', 'non-sexist', 'sexist', 'non-sexist', 'non-sexist', 'sexist', 'non-sexist', 'non-sexist', 'non-sexist', 'non-sexist']\n",
            "después de transform: [1 0 1 0 0 1 0 0 0 0]\n",
            "antes de transform:  ['non-sexist', 'non-sexist', 'sexist', 'sexist', 'non-sexist', 'non-sexist', 'non-sexist', 'sexist', 'sexist', 'non-sexist']\n",
            "después de transform: [0 0 1 1 0 0 0 1 1 0]\n"
          ]
        }
      ],
      "source": [
        "from sklearn.preprocessing import LabelEncoder\n",
        "from keras.utils import to_categorical\n",
        "\n",
        "y_train = df_train['label'].tolist()\n",
        "y_test = df_test['label'].tolist()\n",
        "\n",
        "LABELS = sorted(set(y_train))\n",
        "# print(LABELS)\n",
        "idx2label={}\n",
        "label2idx={}\n",
        "for index, label in enumerate(LABELS):\n",
        "    label2idx.update([(label, index)])\n",
        "    idx2label.update([(index, label)])\n",
        "\n",
        "# print(idx2label)\n",
        "print('Labels:', label2idx)\n",
        "print()\n",
        "\n",
        "le = LabelEncoder()\n",
        "\n",
        "print(\"antes de transform: \", y_train[:10])\n",
        "y_train = le.fit_transform(y_train)\n",
        "print(\"después de transform:\", y_train[:10])\n",
        "\n",
        "print(\"antes de transform: \", y_test[:10])\n",
        "y_test = le.transform(y_test)\n",
        "print(\"después de transform:\", y_test[:10])\n",
        "\n",
        "#y_train_cat = to_categorical(y_train)\n",
        "#y_test_cat = to_categorical(y_test)"
      ]
    },
    {
      "cell_type": "markdown",
      "source": [
        "## Representación de los textos\n",
        "\n",
        "Para que los textos puedan ser interpretados por el modelo CNN, necesitan también ser representado en un formato que pueda entender dicho modelo.\n",
        "En concreto, los tokens son representados como vectores.\n",
        "\n",
        "Para ello, lo que vamos a hacer es tokenizar los textos con el tokenizador de Keras. Este tokenizador recibe una colección de textos (la colección de entrenamiento) y construye un vocabulario (conjunto de tokens distintos).\n",
        "\n",
        "El token PAD, que se utiliza en el proceso de padding para conseguir que todas los textos tengan la misma longitud, es almacenado con el índice 0.\n",
        "\n",
        "\n"
      ],
      "metadata": {
        "id": "m8dIqRsN66-B"
      }
    },
    {
      "cell_type": "code",
      "source": [
        "from keras.preprocessing.text import Tokenizer\n",
        "\n",
        "# guardamos en una lista los textos del training\n",
        "X_train = df_train['text'].tolist()\n",
        "\n",
        "tokenizer = Tokenizer(oov_token = True)\n",
        "# entrenamos el tokenizador usando los textos\n",
        "tokenizer.fit_on_texts(X_train)\n",
        "\n",
        "# el índice 0, en principio, no ha sido asignado a ningún token y está reservado\n",
        "# en nuestro caso, lo usamos para representar el token para padding\n",
        "tokenizer.word_index['<PAD>'] = 0\n",
        "\n",
        "NUM_WORDS=len(tokenizer.word_index)\n",
        "print(\"Tamaño del vocabulario ={}\".format(NUM_WORDS))"
      ],
      "metadata": {
        "colab": {
          "base_uri": "https://localhost:8080/"
        },
        "id": "SYNMHY0U7_ZW",
        "outputId": "7984a5e1-bff6-451a-893c-dd343b6baa00"
      },
      "execution_count": null,
      "outputs": [
        {
          "output_type": "stream",
          "name": "stdout",
          "text": [
            "Tamaño del vocabulario =16645\n"
          ]
        }
      ]
    },
    {
      "cell_type": "markdown",
      "source": [
        "El vocabulario consiste de una lista de las palabras de la colección del texto. Todos los signos de puntuación son eliminados.\n",
        "\n",
        "Vamos a mostrar algunas palabras del vocabulario y su índice.\n"
      ],
      "metadata": {
        "id": "Qz_93fRM8kI4"
      }
    },
    {
      "cell_type": "code",
      "source": [
        "for (word,index) in tokenizer.word_index.items():\n",
        "    print(index,word)\n",
        "    if index==5:\n",
        "        break"
      ],
      "metadata": {
        "colab": {
          "base_uri": "https://localhost:8080/"
        },
        "id": "6MSQQyN68jaP",
        "outputId": "9d42dafd-3652-44aa-a3af-dd4d94916604"
      },
      "execution_count": null,
      "outputs": [
        {
          "output_type": "stream",
          "name": "stdout",
          "text": [
            "1 True\n",
            "2 the\n",
            "3 to\n",
            "4 a\n",
            "5 and\n"
          ]
        }
      ]
    },
    {
      "cell_type": "markdown",
      "source": [
        "El siguiente paso será aplicar el tokenizador sobre cada uno de los textos. De esta forma, un texto, que no es más que una secuencia de tokens, es represntado como una secuencia de enteros, donde cada entero es el índice del token en el vocabulario.\n"
      ],
      "metadata": {
        "id": "pFO9TDgk-Qcx"
      }
    },
    {
      "cell_type": "code",
      "source": [
        "# Cada texto es transformado en una secuencia de enteros.\n",
        "# En el vocabulario, cada palabra tiene asociado un entero\n",
        "encoded_train = tokenizer.texts_to_sequences(X_train)\n"
      ],
      "metadata": {
        "id": "x-IHxP4k-S6C"
      },
      "execution_count": null,
      "outputs": []
    },
    {
      "cell_type": "markdown",
      "source": [
        "Vamos a mostrar el primer texto y su tokenización:"
      ],
      "metadata": {
        "id": "w_XDQBW8-Vo7"
      }
    },
    {
      "cell_type": "code",
      "source": [
        "print(X_train[0])\n",
        "print(encoded_train[0])"
      ],
      "metadata": {
        "colab": {
          "base_uri": "https://localhost:8080/"
        },
        "id": "nWZR46ke-bYr",
        "outputId": "7a44406c-4f0f-42fb-885f-901389ef0f1a"
      },
      "execution_count": null,
      "outputs": [
        {
          "output_type": "stream",
          "name": "stdout",
          "text": [
            "She calls herself \"anti-feminazi\" how about shut the fucking up on your vile commentary on an elderly responsible citizen tu sach muuch ghani baawri-bewdi hai bey https://t.co/ZMxTDwsY5D\n",
            "[44, 977, 639, 521, 285, 65, 45, 541, 2, 133, 53, 24, 29, 1348, 3531, 24, 73, 2628, 1163, 5426, 3532, 5427, 5428, 5429, 5430, 5431, 3533, 5432, 16, 13, 14, 5433]\n"
          ]
        }
      ]
    },
    {
      "cell_type": "markdown",
      "source": [
        "Las redes neuronales necesitan que todas las entradas (en neustro caso textos) tengan el mismo tamaño (en nuestro caso, número de tokens).\n",
        "\n",
        "Sin embargo, lo más normal es que los textos tengan diferentes tamaños, como se puede ver en la siguiente celda:\n",
        "\n"
      ],
      "metadata": {
        "id": "COmdQ-dJ-fqN"
      }
    },
    {
      "cell_type": "code",
      "source": [
        "length_train=[len(s) for s in encoded_train]\n",
        "print(length_train)"
      ],
      "metadata": {
        "colab": {
          "base_uri": "https://localhost:8080/"
        },
        "id": "YBgrzjXo_OnE",
        "outputId": "435e7bc7-8dec-47ec-fbec-63053ab8fb2b"
      },
      "execution_count": null,
      "outputs": [
        {
          "output_type": "stream",
          "name": "stdout",
          "text": [
            "[32, 48, 17, 26, 53, 35, 54, 47, 35, 56, 52, 36, 5, 24, 29, 102, 10, 16, 21, 55, 25, 18, 45, 14, 38, 56, 22, 7, 27, 47, 36, 50, 49, 18, 36, 12, 25, 55, 9, 49, 51, 19, 44, 16, 6, 14, 16, 18, 37, 41, 28, 36, 14, 53, 27, 14, 53, 51, 20, 9, 16, 35, 36, 38, 46, 4, 14, 40, 36, 53, 12, 60, 12, 54, 32, 58, 54, 41, 58, 25, 11, 10, 49, 24, 54, 47, 22, 49, 35, 34, 43, 12, 26, 62, 5, 31, 51, 25, 9, 14, 17, 19, 18, 55, 24, 15, 8, 39, 3, 39, 56, 3, 3, 11, 9, 60, 9, 51, 17, 49, 48, 7, 59, 24, 46, 11, 55, 25, 28, 51, 12, 49, 4, 22, 17, 32, 57, 22, 45, 21, 43, 27, 46, 55, 35, 21, 17, 61, 43, 21, 59, 29, 25, 31, 28, 43, 50, 6, 31, 33, 5, 20, 4, 39, 2, 18, 40, 30, 14, 22, 23, 20, 11, 9, 9, 46, 49, 45, 44, 35, 43, 6, 50, 52, 27, 6, 8, 45, 43, 25, 12, 6, 16, 34, 19, 56, 50, 26, 19, 25, 27, 32, 4, 51, 14, 48, 25, 8, 13, 52, 28, 40, 7, 25, 19, 53, 35, 23, 16, 58, 6, 54, 7, 14, 29, 37, 18, 34, 16, 24, 5, 11, 18, 17, 16, 15, 19, 46, 25, 41, 29, 57, 35, 48, 41, 29, 24, 7, 26, 55, 54, 11, 6, 10, 16, 44, 56, 18, 41, 39, 11, 10, 57, 42, 25, 9, 25, 9, 15, 46, 50, 43, 8, 43, 23, 9, 49, 45, 8, 90, 7, 22, 15, 37, 12, 54, 60, 52, 40, 15, 28, 57, 5, 48, 10, 55, 17, 50, 34, 51, 28, 38, 49, 27, 48, 57, 41, 11, 6, 34, 41, 49, 11, 44, 12, 38, 20, 47, 3, 47, 5, 12, 38, 46, 40, 16, 55, 54, 36, 13, 50, 18, 47, 22, 54, 38, 37, 10, 48, 20, 47, 52, 51, 53, 36, 48, 31, 25, 3, 25, 31, 49, 46, 35, 32, 44, 49, 42, 41, 29, 8, 26, 13, 16, 40, 43, 14, 28, 44, 56, 20, 13, 5, 52, 34, 42, 33, 7, 20, 9, 36, 27, 15, 32, 16, 8, 21, 24, 19, 34, 29, 7, 48, 40, 44, 30, 23, 5, 16, 25, 42, 31, 52, 52, 59, 8, 37, 48, 44, 42, 40, 46, 35, 30, 8, 44, 42, 10, 26, 37, 25, 6, 38, 51, 35, 51, 49, 7, 13, 7, 61, 17, 28, 27, 23, 22, 9, 6, 13, 5, 33, 44, 25, 22, 41, 57, 9, 28, 48, 10, 32, 11, 26, 43, 43, 32, 14, 60, 23, 32, 40, 49, 18, 14, 52, 52, 35, 17, 35, 51, 46, 12, 10, 20, 18, 50, 26, 65, 28, 13, 55, 40, 45, 20, 14, 42, 35, 17, 17, 9, 45, 8, 50, 47, 5, 33, 30, 5, 47, 20, 51, 30, 44, 41, 31, 30, 13, 12, 48, 30, 19, 8, 13, 11, 14, 46, 7, 26, 48, 6, 6, 34, 50, 46, 56, 6, 32, 49, 7, 16, 23, 43, 40, 14, 47, 54, 9, 10, 42, 34, 28, 23, 32, 51, 45, 27, 27, 11, 46, 47, 20, 54, 17, 32, 40, 58, 9, 46, 26, 62, 28, 51, 27, 23, 16, 30, 26, 16, 12, 23, 21, 19, 6, 62, 36, 44, 45, 26, 17, 16, 8, 20, 33, 45, 16, 14, 20, 35, 40, 40, 18, 33, 3, 33, 21, 12, 16, 30, 9, 43, 30, 47, 60, 17, 12, 48, 43, 19, 40, 15, 49, 21, 22, 27, 34, 31, 40, 18, 10, 37, 11, 44, 21, 31, 11, 22, 20, 27, 21, 3, 57, 18, 12, 16, 33, 17, 27, 16, 37, 9, 12, 38, 45, 11, 13, 25, 38, 3, 55, 55, 43, 21, 11, 7, 57, 51, 14, 8, 58, 41, 11, 21, 50, 47, 22, 26, 8, 36, 14, 31, 6, 46, 48, 58, 30, 20, 9, 22, 16, 46, 49, 62, 5, 39, 12, 33, 40, 37, 22, 15, 37, 53, 23, 28, 18, 34, 14, 40, 46, 25, 9, 25, 12, 58, 46, 14, 8, 49, 4, 46, 17, 10, 13, 15, 32, 34, 35, 15, 33, 22, 8, 47, 5, 37, 41, 22, 30, 54, 36, 25, 42, 30, 3, 55, 52, 44, 38, 18, 41, 17, 56, 8, 47, 27, 39, 13, 36, 19, 24, 47, 20, 45, 9, 10, 7, 47, 57, 56, 56, 29, 40, 7, 24, 36, 8, 24, 7, 27, 29, 49, 16, 46, 14, 15, 16, 32, 32, 22, 48, 14, 28, 16, 19, 7, 53, 45, 28, 15, 41, 53, 49, 50, 11, 20, 30, 10, 51, 33, 10, 36, 22, 12, 49, 24, 43, 36, 6, 48, 30, 103, 22, 69, 10, 12, 9, 7, 91, 55, 31, 55, 43, 22, 27, 24, 37, 15, 20, 47, 16, 59, 19, 56, 15, 44, 7, 20, 10, 23, 55, 45, 21, 19, 24, 43, 11, 12, 43, 37, 55, 34, 51, 52, 17, 9, 6, 13, 3, 28, 35, 11, 17, 36, 49, 25, 25, 29, 51, 24, 3, 55, 10, 49, 28, 12, 23, 45, 54, 59, 54, 31, 39, 50, 32, 27, 19, 29, 20, 49, 31, 51, 45, 14, 53, 39, 8, 52, 44, 35, 18, 11, 45, 22, 49, 14, 20, 52, 29, 15, 19, 31, 55, 21, 42, 17, 54, 14, 12, 38, 17, 44, 54, 49, 37, 27, 43, 36, 16, 47, 38, 7, 27, 34, 29, 38, 49, 6, 39, 19, 27, 35, 8, 37, 26, 33, 21, 48, 49, 13, 42, 17, 14, 60, 53, 38, 46, 35, 35, 57, 13, 39, 12, 35, 48, 56, 35, 14, 44, 26, 40, 40, 13, 41, 9, 58, 28, 50, 49, 47, 23, 7, 8, 35, 40, 4, 9, 46, 34, 37, 58, 8, 36, 28, 20, 18, 50, 9, 50, 14, 51, 52, 12, 52, 44, 10, 5, 49, 49, 3, 19, 21, 25, 14, 46, 26, 23, 44, 87, 43, 12, 53, 45, 5, 32, 11, 41, 4, 19, 29, 14, 37, 28, 24, 49, 54, 40, 13, 44, 48, 44, 43, 48, 21, 7, 41, 36, 6, 29, 49, 53, 21, 31, 7, 45, 14, 46, 4, 46, 13, 16, 52, 31, 49, 60, 10, 31, 44, 8, 46, 7, 12, 11, 20, 50, 23, 47, 26, 15, 51, 15, 31, 42, 9, 27, 51, 52, 47, 55, 53, 49, 22, 13, 10, 23, 38, 46, 58, 38, 49, 6, 110, 27, 11, 36, 38, 32, 29, 56, 28, 31, 27, 35, 23, 35, 50, 22, 52, 38, 40, 51, 14, 8, 43, 16, 45, 19, 25, 53, 18, 47, 41, 47, 47, 49, 23, 18, 51, 49, 47, 38, 8, 49, 40, 15, 40, 41, 45, 9, 17, 52, 50, 30, 44, 27, 10, 29, 21, 25, 53, 54, 9, 40, 28, 9, 26, 56, 46, 25, 30, 53, 48, 17, 38, 14, 24, 47, 21, 11, 31, 10, 55, 10, 11, 53, 15, 26, 37, 23, 24, 13, 17, 15, 8, 20, 29, 38, 17, 18, 36, 16, 32, 57, 35, 14, 47, 35, 27, 43, 4, 12, 12, 19, 49, 10, 36, 25, 5, 18, 15, 11, 7, 13, 20, 7, 18, 13, 57, 7, 38, 16, 24, 32, 27, 7, 41, 46, 24, 32, 55, 51, 20, 13, 28, 5, 43, 47, 31, 43, 46, 33, 11, 52, 47, 53, 40, 50, 4, 6, 13, 30, 7, 35, 52, 13, 6, 11, 34, 12, 18, 54, 48, 10, 39, 82, 10, 26, 14, 30, 4, 24, 32, 21, 24, 8, 30, 20, 13, 31, 45, 14, 3, 31, 37, 37, 9, 29, 52, 15, 14, 41, 52, 51, 38, 50, 24, 35, 46, 50, 13, 3, 53, 34, 5, 3, 56, 12, 20, 14, 5, 59, 53, 24, 15, 36, 8, 31, 45, 28, 49, 46, 6, 45, 50, 54, 38, 22, 16, 40, 15, 13, 26, 25, 10, 46, 15, 27, 44, 21, 35, 35, 34, 43, 7, 19, 19, 5, 33, 33, 32, 25, 42, 24, 12, 8, 63, 28, 43, 49, 13, 50, 26, 13, 5, 48, 56, 4, 52, 57, 16, 25, 15, 43, 14, 47, 16, 19, 48, 13, 50, 50, 53, 41, 52, 9, 25, 56, 26, 6, 20, 45, 7, 57, 27, 32, 36, 17, 40, 13, 13, 7, 54, 31, 28, 6, 48, 48, 43, 41, 48, 51, 30, 8, 8, 55, 44, 20, 26, 29, 37, 26, 24, 18, 29, 11, 22, 22, 12, 38, 49, 58, 54, 41, 55, 52, 37, 57, 31, 6, 44, 22, 45, 36, 6, 10, 8, 47, 21, 37, 47, 16, 17, 22, 12, 10, 41, 50, 13, 40, 19, 26, 10, 49, 53, 55, 48, 19, 11, 42, 50, 25, 23, 42, 30, 12, 59, 53, 33, 8, 20, 54, 13, 33, 46, 50, 42, 25, 33, 49, 25, 14, 13, 25, 43, 9, 52, 50, 47, 34, 9, 61, 7, 29, 64, 26, 4, 46, 25, 12, 36, 27, 19, 51, 55, 57, 5, 10, 49, 5, 34, 44, 20, 40, 34, 7, 3, 42, 65, 33, 35, 25, 51, 21, 39, 42, 22, 51, 25, 22, 21, 41, 12, 12, 31, 23, 53, 12, 32, 42, 30, 23, 33, 36, 52, 19, 50, 19, 29, 15, 16, 60, 8, 9, 14, 48, 48, 10, 35, 36, 36, 55, 53, 11, 52, 37, 32, 44, 14, 17, 7, 7, 51, 44, 43, 36, 6, 28, 11, 7, 22, 44, 59, 16, 49, 14, 47, 19, 20, 12, 26, 19, 49, 33, 52, 15, 36, 54, 49, 40, 30, 27, 17, 24, 52, 20, 22, 19, 23, 10, 16, 19, 11, 33, 23, 13, 16, 5, 22, 30, 21, 14, 38, 10, 54, 13, 51, 43, 15, 4, 34, 33, 53, 55, 23, 48, 55, 60, 12, 10, 50, 30, 40, 52, 82, 15, 35, 9, 52, 20, 27, 15, 57, 55, 74, 13, 40, 24, 34, 53, 30, 49, 11, 54, 47, 15, 20, 58, 14, 49, 8, 48, 35, 11, 25, 32, 39, 7, 54, 41, 28, 13, 52, 11, 11, 54, 6, 53, 59, 18, 15, 32, 24, 8, 46, 50, 7, 14, 8, 37, 17, 54, 36, 24, 10, 45, 37, 40, 53, 6, 14, 24, 36, 40, 35, 18, 9, 36, 18, 51, 53, 19, 16, 47, 42, 11, 30, 47, 15, 22, 56, 26, 24, 5, 21, 10, 56, 10, 50, 15, 36, 37, 50, 19, 46, 43, 26, 11, 46, 18, 44, 30, 8, 4, 8, 30, 9, 21, 48, 38, 25, 3, 54, 72, 13, 8, 4, 43, 14, 33, 36, 35, 7, 26, 52, 50, 53, 14, 51, 5, 12, 61, 57, 43, 65, 24, 28, 13, 58, 39, 5, 18, 16, 11, 40, 11, 6, 33, 6, 56, 30, 36, 47, 52, 14, 32, 48, 5, 46, 50, 27, 48, 17, 32, 40, 10, 19, 46, 19, 43, 41, 35, 9, 10, 16, 39, 58, 58, 30, 41, 45, 34, 11, 41, 38, 26, 51, 34, 18, 35, 40, 44, 51, 21, 45, 10, 28, 51, 49, 16, 12, 14, 56, 11, 38, 13, 13, 11, 19, 52, 26, 42, 33, 20, 23, 32, 40, 9, 36, 52, 38, 13, 38, 32, 40, 14, 10, 23, 26, 53, 58, 33, 38, 35, 9, 53, 17, 45, 8, 10, 47, 9, 47, 12, 49, 43, 30, 51, 8, 33, 21, 36, 57, 10, 13, 16, 22, 3, 36, 27, 33, 35, 31, 25, 38, 51, 13, 29, 27, 16, 50, 22, 42, 30, 9, 17, 48, 55, 38, 49, 31, 38, 54, 50, 20, 44, 54, 25, 29, 23, 25, 37, 30, 16, 7, 37, 48, 22, 55, 49, 29, 8, 37, 32, 19, 27, 46, 65, 15, 20, 27, 33, 27, 23, 29, 11, 10, 18, 19, 6, 34, 16, 17, 14, 33, 33, 36, 18, 24, 11, 25, 54, 20, 11, 20, 23, 43, 59, 27, 9, 60, 24, 17, 6, 17, 25, 9, 52, 8, 31, 56, 25, 31, 53, 14, 37, 23, 34, 45, 52, 31, 10, 17, 14, 18, 48, 43, 26, 39, 48, 11, 17, 13, 59, 34, 35, 38, 4, 39, 38, 20, 55, 15, 34, 50, 22, 39, 13, 15, 53, 37, 34, 19, 47, 19, 17, 36, 17, 18, 19, 42, 38, 51, 64, 53, 29, 38, 59, 55, 9, 4, 8, 20, 35, 29, 23, 8, 7, 35, 34, 54, 24, 14, 35, 31, 55, 43, 9, 35, 35, 9, 47, 14, 7, 14, 51, 54, 14, 7, 5, 8, 54, 50, 29, 10, 25, 50, 14, 21, 24, 41, 27, 11, 25, 13, 25, 14, 26, 16, 5, 50, 42, 56, 12, 42, 21, 22, 56, 8, 23, 33, 23, 11, 46, 22, 25, 39, 14, 3, 19, 48, 48, 16, 27, 52, 40, 24, 39, 34, 21, 38, 48, 34, 11, 47, 43, 20, 34, 50, 23, 28, 16, 13, 17, 36, 40, 35, 20, 26, 6, 45, 49, 4, 11, 28, 10, 25, 57, 11, 42, 43, 58, 13, 13, 21, 38, 42, 12, 21, 38, 12, 47, 47, 5, 48, 42, 47, 9, 15, 10, 25, 18, 43, 14, 6, 2, 12, 25, 52, 10, 46, 16, 14, 20, 45, 23, 52, 14, 17, 15, 10, 38, 13, 18, 13, 3, 6, 45, 13, 6, 52, 21, 54, 37, 43, 8, 19, 25, 50, 47, 37, 27, 49, 40, 14, 10, 6, 27, 48, 8, 47, 56, 39, 54, 36, 20, 50, 5, 14, 28, 10, 47, 8, 18, 41, 29, 28, 34, 44, 53, 7, 38, 4, 50, 42, 24, 8, 28, 20, 57, 52, 52, 17, 9, 29, 47, 33, 21, 50, 14, 21, 52, 20, 7, 36, 44, 17, 30, 8, 34, 7, 54, 22, 8, 13, 9, 49, 22, 41, 5, 48, 56, 4, 49, 20, 44, 46, 45, 25, 41, 18, 10, 36, 13, 15, 39, 44, 57, 10, 46, 22, 51, 27, 40, 45, 40, 18, 39, 24, 45, 30, 12, 30, 24, 31, 36, 43, 52, 14, 13, 23, 13, 9, 13, 16, 5, 37, 44, 6, 30, 12, 23, 50, 12, 3, 22, 9, 19, 35, 33, 39, 16, 6, 45, 6, 43, 13, 8, 37, 27, 23, 50, 22, 21, 59, 50, 21, 12, 23, 41, 55, 28, 35, 22, 38, 14, 40, 22, 18, 53, 50, 54, 6, 42, 13, 42, 49, 23, 40, 16, 17, 54, 13, 31, 15, 42, 14, 43, 32, 15, 15, 44, 56, 48, 7, 51, 35, 40, 34, 6, 40, 3, 57, 30, 59, 15, 40, 18, 45, 25, 9, 40, 10, 21, 50, 3, 51, 48, 25, 34, 12, 44, 42, 12, 38, 56, 19, 13, 9, 49, 8, 6, 18, 9, 47, 49, 13, 34, 23, 40, 32, 20, 51, 21, 13, 24, 38, 16, 13, 17, 9, 19, 56, 11, 30, 26, 48, 13, 55, 41, 48, 32, 50, 40, 16, 44, 45, 25, 4, 30, 30, 38, 30, 50, 54, 58, 16, 43, 23, 21, 9, 23, 30, 55, 42, 46, 28, 14, 27, 16, 52, 28, 40, 21, 18, 59, 62, 40, 51, 27, 37, 20, 42, 16, 24, 32, 26, 20, 56, 45, 6, 24, 9, 12, 14, 24, 28, 11, 9, 35, 14, 54, 19, 36, 46, 34, 35, 19, 8, 40, 33, 34, 30, 34, 48, 46, 46, 37, 17, 43, 11, 53, 5, 54, 43, 39, 49, 9, 17, 17, 45, 43, 10, 44, 55, 38, 50, 54, 45, 48, 8, 28, 23, 43, 34, 30, 13, 7, 32, 5, 49, 40, 54, 40, 112, 8, 44, 53, 4, 54, 16, 3, 45, 37, 14, 13, 13, 32, 15, 47, 30, 29, 18, 35, 36, 16, 5, 45, 110, 43, 19, 50, 37, 15, 50, 23, 40, 72, 17, 3, 46, 30, 47, 24, 17, 46, 39, 24, 9, 34, 17, 11, 49, 44, 27, 56, 43, 56, 10, 56, 9, 41, 26, 51, 32, 3, 49, 41, 6, 50, 19, 46, 39, 26, 41, 50, 8, 58, 22, 48, 17, 3, 28, 60, 41, 7, 30, 37, 13, 46, 18, 22, 12, 31, 11, 36, 36, 38, 51, 53, 54, 21, 32, 10, 52, 22, 37, 65, 18, 55, 30, 18, 32, 12, 35, 45, 49, 4, 15, 8, 14, 17, 28, 9, 12, 6, 42, 45, 32, 44, 15, 37, 26, 48, 35, 9, 42, 42, 20, 13, 34, 59, 30, 9, 38, 12, 50, 40, 27, 17, 18, 31, 47, 59, 37, 49, 52, 4, 24, 33, 30, 31, 17, 41, 60, 17, 8, 17, 33, 50, 11, 35, 27, 20, 6, 46, 7, 42, 45, 21, 17, 6, 33, 42, 6, 39, 23, 22, 40, 35, 54, 22, 29, 41, 42, 53, 8, 36, 35, 13, 43, 8, 60, 12, 55, 30, 34, 32, 43, 31, 49, 36, 45, 24, 44, 7, 43, 39, 48, 59, 6, 31, 106, 17, 21, 45, 5, 6, 7, 41, 24, 33, 60, 37, 18, 25, 47, 13, 27, 14, 25, 38, 57, 50, 49, 26, 40, 38, 24, 58, 35, 6, 6, 25, 7, 43, 37, 35, 11, 31, 46, 54, 21, 29, 8, 25, 39, 30, 35, 21, 18, 6, 33, 33, 8, 22, 27, 49, 17, 20, 38, 19, 34, 56, 36, 33, 23, 16, 13, 50, 40, 56, 9, 48, 8, 34, 10, 15, 11, 40, 49, 37, 5, 50, 32, 7, 48, 11, 54, 52, 8, 44, 17, 27, 57, 47, 49, 10, 50, 29, 11, 33, 46, 26, 15, 12, 28, 17, 13, 21, 24, 47, 12, 48, 10, 10, 24, 47, 44, 52, 9, 39, 45, 17, 30, 31, 22, 30, 19, 36, 44, 29, 16, 11, 16, 49, 17, 51, 25, 7, 22, 38, 27, 33, 22, 31, 53, 46, 37, 22, 44, 30, 13, 41, 49, 46, 8, 47, 14, 42, 53, 13, 3, 50, 44, 29, 10, 11, 56, 15, 10, 22, 48, 47, 26, 37, 39, 8, 46, 14, 9, 36, 33, 27, 44, 46, 23, 41, 9, 51, 19, 5, 46, 5, 53, 20, 28, 40, 8, 35, 108, 23, 7, 49, 10, 30, 38, 47, 35, 7, 35, 42, 7, 54, 43, 40, 22, 46, 54, 5, 23, 18, 22, 48, 35, 12, 31, 54, 26, 16, 11, 16, 41, 39, 14, 11, 45, 18, 8, 6, 18, 21, 25, 27, 5, 21, 8, 57, 6, 51, 48, 46, 8, 49, 23, 53, 53, 54, 34, 51, 21, 45, 5, 24, 49, 13, 36, 18, 31, 22, 50, 14, 23, 39, 18, 46, 22, 41, 16, 16, 44, 22, 5, 16, 54, 23, 9, 40, 79, 45, 46, 16, 18, 47, 37, 3, 28, 16, 32, 27, 16, 51, 53, 36, 15, 29, 25, 17, 37, 17, 11, 15, 16, 50, 49, 19, 52, 54, 52, 11, 57, 5, 10, 51, 18, 52, 11, 25, 16, 45, 56, 46, 26, 54, 38, 9, 49, 48, 26, 12, 73, 46, 26, 28, 23, 41, 15, 15, 5, 28, 25, 17, 42, 8, 18, 18, 40, 47, 36, 50, 9, 7, 48, 48, 51, 30, 16, 27, 31, 29, 9, 33, 47, 11, 13, 44, 46, 52, 26, 27, 15, 53, 10, 18, 61, 55, 13, 10, 25, 53, 31, 20, 37, 29, 25, 14, 13, 43, 44, 13, 10, 7, 37, 12, 50, 16, 35, 39, 38, 21, 10, 31, 50, 33, 30, 24, 35, 8, 10, 12, 7, 50, 55, 16, 28, 39, 35, 25, 26, 19, 15, 57, 53, 18, 12, 27, 50, 50, 11, 18, 51, 10, 35, 5, 25, 49, 14, 51, 42, 39, 27, 10, 29, 46, 23, 41, 13, 34, 17, 2, 27, 37, 6, 57, 34, 34, 38, 49, 5, 13, 4, 34, 9, 12, 47, 17, 52, 44, 19, 39, 22, 18, 43, 28, 42, 56, 48, 14, 16, 27, 51, 27, 14, 16, 17, 34, 12, 33, 84, 32, 31, 16, 11, 52, 9, 14, 23, 36, 16, 13, 8, 10, 40, 40, 55, 48, 33, 62, 14, 36, 40, 29, 24, 39, 42, 59, 26, 50, 29, 27, 4, 39, 47, 16, 49, 27, 46, 12, 27, 46, 10, 54, 29, 48, 15, 40, 48, 62, 5, 22, 30, 20, 20, 44, 43, 10, 43, 33, 54, 20, 28, 46, 14, 12, 13, 40, 23, 15, 32, 25, 24, 12, 27, 39, 55, 12, 26, 16, 14, 12, 47, 4, 50, 15, 34, 57, 13, 50, 35, 50, 60, 28, 24, 54, 11, 7, 50, 43, 41, 50, 8, 31, 15, 39, 27, 8, 49, 53, 9]\n"
          ]
        }
      ]
    },
    {
      "cell_type": "markdown",
      "source": [
        "Vamos a estudiar la distribución de los tamaños en esta colección de textos. Esto nos ayudará a elegir un tamaño lo suficientemente representativo para poder representar todos los textos.\n"
      ],
      "metadata": {
        "id": "fuC7Koy1_UG8"
      }
    },
    {
      "cell_type": "code",
      "source": [
        "# Creamos un objeto Series para almacenar dichas longitudes,\n",
        "df_lengths = pd.Series(length_train)\n",
        "# el método describe nos permite estudiar su distribución\n",
        "df_lengths.describe(percentiles=[0.25, 0.50, 0.75, 0.90, 0.95, 0.99])\n"
      ],
      "metadata": {
        "colab": {
          "base_uri": "https://localhost:8080/"
        },
        "id": "e6YFHjaI-44M",
        "outputId": "cfef531a-4979-46fd-ff6b-595136824ca6"
      },
      "execution_count": null,
      "outputs": [
        {
          "output_type": "execute_result",
          "data": {
            "text/plain": [
              "count    3436.000000\n",
              "mean       30.281432\n",
              "std        16.635215\n",
              "min         2.000000\n",
              "25%        16.000000\n",
              "50%        29.000000\n",
              "75%        45.000000\n",
              "90%        52.000000\n",
              "95%        55.000000\n",
              "99%        61.000000\n",
              "max       112.000000\n",
              "dtype: float64"
            ]
          },
          "metadata": {},
          "execution_count": 11
        }
      ]
    },
    {
      "cell_type": "code",
      "source": [
        "df_lengths.hist()\n"
      ],
      "metadata": {
        "colab": {
          "base_uri": "https://localhost:8080/",
          "height": 448
        },
        "id": "kCAq_303D5MD",
        "outputId": "4c59977f-5d03-4ae5-9104-c15d0c79abf7"
      },
      "execution_count": null,
      "outputs": [
        {
          "output_type": "execute_result",
          "data": {
            "text/plain": [
              "<Axes: >"
            ]
          },
          "metadata": {},
          "execution_count": 12
        },
        {
          "output_type": "display_data",
          "data": {
            "text/plain": [
              "<Figure size 640x480 with 1 Axes>"
            ],
            "image/png": "[encoded data removed]"
          },
          "metadata": {}
        }
      ]
    },
    {
      "cell_type": "markdown",
      "source": [
        "El tamaño máximo es de 112 tokens, pero podemos ver que el tamaño medio de los textos es de 30 tokens, y que el 99% de los textos tienen 60 o menos tokens. Por tanto, si elegimos una representación de 112 tokens, estamos desperdiciando mucha memoria.\n",
        "Si vamos a entrenar con un corpus muy grande, nos interesa utilizar una representación lo más óptima posible para que el rendimiento de la red no se vea afectado.\n",
        "Un tamaño de 45 tokens o incluso 60, sería suficiente."
      ],
      "metadata": {
        "id": "08T2Tyyn_wOB"
      }
    },
    {
      "cell_type": "markdown",
      "source": [
        "Para asegurarnos que todas las secuencias de entrada tengan la misma longitud, utilizaremos el método **pad_sequences**, que lo que hará será:\n",
        "- padding, si la secuencia de entrada tiene un tamaño menor que el indicado en **MAX_LEN** (en nuestro caso 60). Podemos indicar si el padding se aplicará al inicio de la secuencia (pre) o al final (post). 'pre' es la opción por defecto.\n",
        "- truncation, si la secuencia tiene una longitud mayor, se eliminarán tokens para que su tamaño sea igual al indicado en **MAX_LEN**. Como en el caso del padding, el proceso **truncating** se puede aplicar al principio (pre, es la opción por defecto) o al final (post) de la secuencia.\n",
        "\n"
      ],
      "metadata": {
        "id": "RgMw_-QKEA_y"
      }
    },
    {
      "cell_type": "code",
      "source": [
        "from keras.utils import pad_sequences\n",
        "MAX_LEN=45\n",
        "encoded_train_pad = pad_sequences(encoded_train, maxlen = MAX_LEN,\n",
        "                              padding='post', truncating='post')\n"
      ],
      "metadata": {
        "id": "DZFXDy1ZEHsF"
      },
      "execution_count": null,
      "outputs": []
    },
    {
      "cell_type": "markdown",
      "source": [
        "Puedes probar con distintas opciones de los argumentos de la función pad_sequences, para estudiar su efecto sobre la secuencias procesadas."
      ],
      "metadata": {
        "id": "Gq5FO7MwITdb"
      }
    },
    {
      "cell_type": "code",
      "source": [
        "print(encoded_train_pad[0])\n",
        "print(encoded_train[0])\n",
        "print(X_train[0])\n"
      ],
      "metadata": {
        "colab": {
          "base_uri": "https://localhost:8080/"
        },
        "id": "Ply8DQ-DEx-k",
        "outputId": "12d8db6c-4697-46d6-93b9-381d08e69a8a"
      },
      "execution_count": null,
      "outputs": [
        {
          "output_type": "stream",
          "name": "stdout",
          "text": [
            "[  44  977  639  521  285   65   45  541    2  133   53   24   29 1348\n",
            " 3531   24   73 2628 1163 5426 3532 5427 5428 5429 5430 5431 3533 5432\n",
            "   16   13   14 5433    0    0    0    0    0    0    0    0    0    0\n",
            "    0    0    0]\n",
            "[44, 977, 639, 521, 285, 65, 45, 541, 2, 133, 53, 24, 29, 1348, 3531, 24, 73, 2628, 1163, 5426, 3532, 5427, 5428, 5429, 5430, 5431, 3533, 5432, 16, 13, 14, 5433]\n",
            "She calls herself \"anti-feminazi\" how about shut the fucking up on your vile commentary on an elderly responsible citizen tu sach muuch ghani baawri-bewdi hai bey https://t.co/ZMxTDwsY5D\n"
          ]
        }
      ]
    },
    {
      "cell_type": "markdown",
      "source": [
        "## CNN\n",
        "\n",
        "Una vez que ya hemos procesado el texto, podemos definir el modelo.\n",
        "\n"
      ],
      "metadata": {
        "id": "ELHg0eDvIbsP"
      }
    },
    {
      "cell_type": "code",
      "source": [
        "import tensorflow as tf\n",
        "# asegurar que los experimentos se pueden reproducir\n",
        "tf.random.set_seed(42)\n",
        "tf.__version__"
      ],
      "metadata": {
        "colab": {
          "base_uri": "https://localhost:8080/",
          "height": 35
        },
        "id": "aDiJH4YkIidD",
        "outputId": "4e5797ad-25d0-4dad-efcb-789f36a60535"
      },
      "execution_count": null,
      "outputs": [
        {
          "output_type": "execute_result",
          "data": {
            "text/plain": [
              "'2.13.0'"
            ],
            "application/vnd.google.colaboratory.intrinsic+json": {
              "type": "string"
            }
          },
          "metadata": {},
          "execution_count": 15
        }
      ]
    },
    {
      "cell_type": "markdown",
      "source": [
        "### Crear el modelo\n",
        "Vamos a utilizar keras, que es una interfaz que nos facilita crear una arquitectura. En concreto, el modelo será un objeto de la clase **Sequential**, porque vamos a añadir varias capas de forma secuencial:"
      ],
      "metadata": {
        "id": "zLaF_jiBIre2"
      }
    },
    {
      "cell_type": "code",
      "source": [
        "from keras.models import Sequential\n",
        "from keras.layers import Flatten, Dense, Embedding, Conv1D, MaxPooling1D\n",
        "\n",
        "model = Sequential()\n"
      ],
      "metadata": {
        "id": "jorrBYEnIv7x"
      },
      "execution_count": null,
      "outputs": []
    },
    {
      "cell_type": "markdown",
      "source": [
        "La primera capaz es la capaz de embeddings, que se encargará de representar cada texto como una matriz de vectores. La matriz tendrá como número de filas el valor de la variable **MAX_LEN**, es decir, la longitud de las secuencias de entrada. Como número de columnas, tendremos que decidir que dimensión queremos utilizar para represntar los vectores de los tokens. En este ejemplo, vamos a utilizar 50, pero podríamos probar con otras dimensiones como 100, 200 o 300 (son las más utilizadas).\n",
        "\n",
        "La capa **Embedding** lo que hará será inicializar una matriz por cada texto. Como se ha dicho antes la matriz, tendrá una dimensión de MAX_LEN x EMBEDDING_SIZE.\n",
        "\n",
        "En este ejercicio, la matriz se inicializa con pesos aleaotorios, pero en el tema 4, aprenderemos a inicializar la matriz a partir de un modelo pre-entrenado de word embeddings.\n"
      ],
      "metadata": {
        "id": "P_Dj7YYRI5om"
      }
    },
    {
      "cell_type": "code",
      "source": [
        "EMBEDDING_SIZE=50 #probar con 200, 300\n",
        "model.add(Embedding(NUM_WORDS, EMBEDDING_SIZE, input_length=MAX_LEN))\n"
      ],
      "metadata": {
        "id": "CXhFPqJjJZYo"
      },
      "execution_count": null,
      "outputs": []
    },
    {
      "cell_type": "markdown",
      "source": [
        "A continuación, ya podemos añadir las capas características de esta arquitectura: convolucional y pooling.\n",
        "\n",
        "En nuestro ejemplo, vamos a añadir tres niveles de convolución acompañado de una capaz max-pooling.\n",
        "\n",
        "Para textos, la capa convolucional se crea con la clase **Conv1D**.\n",
        "\n",
        "En cada capa de convolución, debemos indicar el número de filtros (a mayor número de filtros, mayor capacidad de representación, pero también mayor coste computacional), y el tamaño del kernel (tamaño de la ventana que se desplaza por la entrada).\n",
        "\n",
        "En la capa convolucional además podemos indicar cómo se aplicará el padding. \"SAME\" intenta rellenar uniformemente hacia la izquierda y hacia la derecha, pero si la cantidad de columnas que se añaden es impar, agregará la adicional a la derecha.\n",
        "\n",
        "\n",
        "\n",
        "REspecto a la capa de max-pooling, usamos pool-size = 2, que significa que de la salida de la capa convolucional, tomará los dos elementos mayores.\n",
        "\n",
        "\n",
        "Para determinar el  número óptimo de filtros y su tamaño, el tamaño de la capa de max-pooling, así cómo de otros parámetros, es recomendable realizar varios experimentos.\n"
      ],
      "metadata": {
        "id": "tmvyRjWQJwn1"
      }
    },
    {
      "cell_type": "code",
      "source": [
        "\n",
        "model.add(Conv1D(filters=128, kernel_size=4, padding='same', activation='relu'))\n",
        "model.add(MaxPooling1D(pool_size=2))\n",
        "\n",
        "model.add(Conv1D(filters=64, kernel_size=3, padding='same', activation='relu'))\n",
        "model.add(MaxPooling1D(pool_size=2))\n",
        "\n",
        "model.add(Conv1D(filters=32, kernel_size=2, padding='same', activation='relu'))\n",
        "model.add(MaxPooling1D(pool_size=2))\n"
      ],
      "metadata": {
        "id": "ivY86-jUIms4"
      },
      "execution_count": null,
      "outputs": []
    },
    {
      "cell_type": "markdown",
      "source": [
        "A continuación, ya podemos añadir otras capas como una capa Densa (suelen mejorar los resultados de clasificación).\n",
        "La última capa usa la función sigmoid y devuelve una probabilidad. Si la probabilidad es cercana a 1, la capa devuelve 1, y 0 en otro caso.\n"
      ],
      "metadata": {
        "id": "1PfbBQZ3LOLa"
      }
    },
    {
      "cell_type": "code",
      "source": [
        "\n",
        "model.add(Flatten())\n",
        "model.add(Dense(50, activation='relu'))\n",
        "# Para clasificación binaria\n",
        "model.add(Dense(1, activation='sigmoid'))\n"
      ],
      "metadata": {
        "id": "Ox_IlsICLNYs"
      },
      "execution_count": null,
      "outputs": []
    },
    {
      "cell_type": "markdown",
      "source": [
        "Finalmente, debemos compilar el modelo, indicando el optimizador, la función de error y las métricas que se utilizarán en cada epoch."
      ],
      "metadata": {
        "id": "zrDGIOOhLepu"
      }
    },
    {
      "cell_type": "code",
      "source": [
        "model.compile(loss='binary_crossentropy', optimizer='adam', metrics=['accuracy'])\n",
        "model.summary()"
      ],
      "metadata": {
        "colab": {
          "base_uri": "https://localhost:8080/"
        },
        "id": "ZRp2RhmzLgSK",
        "outputId": "be4eeb5c-3eaf-4a62-9260-745bb3d5d6a4"
      },
      "execution_count": null,
      "outputs": [
        {
          "output_type": "stream",
          "name": "stdout",
          "text": [
            "Model: \"sequential\"\n",
            "_________________________________________________________________\n",
            " Layer (type)                Output Shape              Param #   \n",
            "=================================================================\n",
            " embedding (Embedding)       (None, 45, 50)            832250    \n",
            "                                                                 \n",
            " conv1d (Conv1D)             (None, 45, 128)           25728     \n",
            "                                                                 \n",
            " max_pooling1d (MaxPooling1  (None, 22, 128)           0         \n",
            " D)                                                              \n",
            "                                                                 \n",
            " conv1d_1 (Conv1D)           (None, 22, 64)            24640     \n",
            "                                                                 \n",
            " max_pooling1d_1 (MaxPoolin  (None, 11, 64)            0         \n",
            " g1D)                                                            \n",
            "                                                                 \n",
            " conv1d_2 (Conv1D)           (None, 11, 32)            4128      \n",
            "                                                                 \n",
            " max_pooling1d_2 (MaxPoolin  (None, 5, 32)             0         \n",
            " g1D)                                                            \n",
            "                                                                 \n",
            " flatten (Flatten)           (None, 160)               0         \n",
            "                                                                 \n",
            " dense (Dense)               (None, 50)                8050      \n",
            "                                                                 \n",
            " dense_1 (Dense)             (None, 1)                 51        \n",
            "                                                                 \n",
            "=================================================================\n",
            "Total params: 894847 (3.41 MB)\n",
            "Trainable params: 894847 (3.41 MB)\n",
            "Non-trainable params: 0 (0.00 Byte)\n",
            "_________________________________________________________________\n"
          ]
        }
      ]
    },
    {
      "cell_type": "markdown",
      "source": [
        "### Entrenar el modelo\n",
        "\n",
        "Para entrenar el modelo, simplemente tenemes que llamar al método **fit** del modelo. Este método recibe como argumentos:\n",
        "- los textos preprocesados y almacenados en la variable **encoded_train_pad**, y sus labels correspondientes, que el modelo utilizará para medir el error y aprender.\n",
        "- el número de epochs y el tamaño del batch. En este ejercicio, utilizaremos 10 epochs y un tamaño de batch de 16. Sin embargo, deberías probar con diferentes valores para ver cuáles proporcionan los mejores resultados.\n",
        "\n",
        "- Como no tenemos un conjunto de validación explícito, en el método **fit** (para entrenar el modelo) específicamos usando el argumento **validation_split** qué porcentaje del training vamos a usar como conjunto de validación.\n",
        "\n",
        "- Además, también vamos a usar **EarlyStopping** que nos permitirá parar el entrenamiento si después de 3 epochs (**patience**), el error sobre el conjunto de valiación no ha disminuido.\n"
      ],
      "metadata": {
        "id": "Rskoc7l4LwyL"
      }
    },
    {
      "cell_type": "code",
      "source": [
        "from keras.callbacks import ModelCheckpoint, EarlyStopping\n",
        "# Para el entrenamiento después de 3 epochs sin el error en el conjunto de validación no mejora\n",
        "earlyStopping = EarlyStopping(monitor='val_loss', min_delta=0, patience=3, verbose=0, mode='auto')\n"
      ],
      "metadata": {
        "id": "gfeaxw4wjKvB"
      },
      "execution_count": null,
      "outputs": []
    },
    {
      "cell_type": "markdown",
      "source": [
        "Al ejecutar la siguiente celda, podemos ver el proceso de entrenamiento y qué resultados se obtienen en cada epoch sobre el conjunto de validación:"
      ],
      "metadata": {
        "id": "t4Rs4_7OjmCw"
      }
    },
    {
      "cell_type": "code",
      "source": [
        "epochs = 10\n",
        "batch_size = 16\n",
        "\n",
        "# training\n",
        "history=model.fit(encoded_train_pad,  # textos preprocesados\n",
        "                  y_train,          # labels\n",
        "                  epochs=epochs,\n",
        "                  batch_size=batch_size,\n",
        "                  validation_split=0.2,\n",
        "                  callbacks=[earlyStopping],\n",
        "                  )\n"
      ],
      "metadata": {
        "colab": {
          "base_uri": "https://localhost:8080/"
        },
        "id": "msOPoXmMhxWd",
        "outputId": "04adbec8-84cb-4740-fa04-de73e074e3d1"
      },
      "execution_count": null,
      "outputs": [
        {
          "output_type": "stream",
          "name": "stdout",
          "text": [
            "Epoch 1/10\n",
            "172/172 [==============================] - 14s 43ms/step - loss: 0.6924 - accuracy: 0.5215 - val_loss: 0.6954 - val_accuracy: 0.4985\n",
            "Epoch 2/10\n",
            "172/172 [==============================] - 8s 46ms/step - loss: 0.6006 - accuracy: 0.6783 - val_loss: 0.5997 - val_accuracy: 0.6831\n",
            "Epoch 3/10\n",
            "172/172 [==============================] - 7s 39ms/step - loss: 0.2461 - accuracy: 0.9098 - val_loss: 0.7784 - val_accuracy: 0.6541\n",
            "Epoch 4/10\n",
            "172/172 [==============================] - 8s 47ms/step - loss: 0.0641 - accuracy: 0.9822 - val_loss: 1.1517 - val_accuracy: 0.6672\n",
            "Epoch 5/10\n",
            "172/172 [==============================] - 6s 36ms/step - loss: 0.0178 - accuracy: 0.9956 - val_loss: 1.3982 - val_accuracy: 0.6439\n"
          ]
        }
      ]
    },
    {
      "cell_type": "markdown",
      "source": [
        "El entrenamiento se detiene en la epoch 5."
      ],
      "metadata": {
        "id": "_o5hSiILj7cW"
      }
    },
    {
      "cell_type": "markdown",
      "source": [
        "### Curvas de aprendizaje\n",
        "\n",
        "Estos gráficos nos permiten ver cómo el modelo aprende a lo largo de su entrenamiento, en concreto, muestran sus resultados al ser evaluados en cada epoch sobre su conjunto de entrenamiento y el conjunto de validación. Se pueden mostrar gráficos distintos para el acuracy y para el error (su comportamiento será opuesto).\n",
        "\n",
        "Estas curvas se utilizan para diagnosticar un modelo que no es capaz de resolver la tarea, que sufre de sobre-aprendizaje (se ajusta perfecgtamente al conjunto de entrenamiento, pero no es capaz de resolver el problema en el conjunto de validación), o si el modelo está bien ajustado.\n",
        "\n",
        "\n"
      ],
      "metadata": {
        "id": "VXJr-jUOjvEL"
      }
    },
    {
      "cell_type": "code",
      "source": [
        "import matplotlib.pyplot as plt\n",
        "\n",
        "history_dict = history.history\n",
        "loss_values = history_dict['loss']\n",
        "val_loss_values = history_dict['val_loss']\n",
        "accuracy = history_dict['accuracy']\n",
        "val_accuracy = history_dict['val_accuracy']\n",
        "\n",
        "epochs = range(1, len(loss_values) + 1)\n",
        "fig, ax = plt.subplots(1, 2, figsize=(14, 6))\n",
        "#\n",
        "# Curva accuracy vs Epochs\n",
        "#\n",
        "ax[0].plot(epochs, accuracy, 'b', label='Training accuracy')\n",
        "ax[0].plot(epochs, val_accuracy, 'red', label='Validation accuracy')\n",
        "ax[0].set_title('Training & Validation Accuracy', fontsize=16)\n",
        "ax[0].set_xlabel('Epochs', fontsize=16)\n",
        "ax[0].set_ylabel('Accuracy', fontsize=16)\n",
        "ax[0].legend()\n",
        "#\n",
        "# Curva loss vs Epochs\n",
        "#\n",
        "ax[1].plot(epochs, loss_values, 'b', label='Training loss')\n",
        "ax[1].plot(epochs, val_loss_values, 'red', label='Validation loss')\n",
        "ax[1].set_title('Training & Validation Loss', fontsize=16)\n",
        "ax[1].set_xlabel('Epochs', fontsize=16)\n",
        "ax[1].set_ylabel('Loss', fontsize=16)\n",
        "ax[1].legend()"
      ],
      "metadata": {
        "colab": {
          "base_uri": "https://localhost:8080/",
          "height": 335
        },
        "id": "P0s4VhwPkH8U",
        "outputId": "6cf279aa-a26a-488f-8edf-01a199cc48bb"
      },
      "execution_count": null,
      "outputs": [
        {
          "output_type": "execute_result",
          "data": {
            "text/plain": [
              "<matplotlib.legend.Legend at 0x7abc6e1283a0>"
            ]
          },
          "metadata": {},
          "execution_count": 27
        },
        {
          "output_type": "display_data",
          "data": {
            "text/plain": [
              "<Figure size 1400x600 with 2 Axes>"
            ],
            "image/png": "[encoded data removed]"
          },
          "metadata": {}
        }
      ]
    },
    {
      "cell_type": "markdown",
      "source": [
        "Si nos fijamos en las curva del error, mientras que la curva del entrenamiento se aproxima a 0, el error en la validación aumenta. Esto significa que el modelo no ha aprendido a resolver el problema.\n",
        "Por tanto, será necesario utilizar más datos y además, investigar en un modelo más complejo que sea capaz de resolver la tarea.\n",
        "\n",
        "Idealmente, ambas curvas loss deberían tender a 0. Ese caso significa que el modelo es capaz de generalizar y resolve la tarea en el conjunto de validación."
      ],
      "metadata": {
        "id": "WeTLQiCOnJbG"
      }
    },
    {
      "cell_type": "markdown",
      "metadata": {
        "id": "ZvGkVc4mdEeT"
      },
      "source": [
        "### Evaluar el modelo\n",
        "\n"
      ]
    },
    {
      "cell_type": "markdown",
      "source": [
        "Aunque las curvas de aprendizaje nos dicen que deberíamos seguir investigando en mejorar el modelo, vamos a evaluarlo sobre el conjunto test. En primer lugar, vamos a obtener las métricas loss y  accuracy en dicho conjunto (que no ha sido utilizado en ninguna fase del entrenamiento)."
      ],
      "metadata": {
        "id": "Je9L6jw5kcIJ"
      }
    },
    {
      "cell_type": "code",
      "source": [
        "X_test = df_test['text'].tolist()\n",
        "encoded_test = tokenizer.texts_to_sequences(X_test)\n",
        "encoded_test = pad_sequences(encoded_test, maxlen = MAX_LEN, padding='post')\n",
        "\n",
        "loss, accuracy = model.evaluate(encoded_test, y_test, batch_size=batch_size)\n"
      ],
      "metadata": {
        "colab": {
          "base_uri": "https://localhost:8080/"
        },
        "id": "oxC1d2kRkaYy",
        "outputId": "31015744-0cf4-4035-e334-af80939c3919"
      },
      "execution_count": null,
      "outputs": [
        {
          "output_type": "stream",
          "name": "stdout",
          "text": [
            "138/138 [==============================] - 1s 6ms/step - loss: 1.6389 - accuracy: 0.6264\n"
          ]
        }
      ]
    },
    {
      "cell_type": "markdown",
      "source": [
        "Es un acuracy bastante bajo (62%)"
      ],
      "metadata": {
        "id": "ITcmguGsnyD7"
      }
    },
    {
      "cell_type": "markdown",
      "source": [
        "Es posible obtener una evaluación más detallada con las métricas de precisión, recall y F1, gracias a la librería sklearn:"
      ],
      "metadata": {
        "id": "vM3ovYXLkgC8"
      }
    },
    {
      "cell_type": "code",
      "execution_count": null,
      "metadata": {
        "id": "PLEd-07ldKSB",
        "colab": {
          "base_uri": "https://localhost:8080/"
        },
        "outputId": "3db8f3ac-e632-47d9-d669-7116bfc0921b"
      },
      "outputs": [
        {
          "output_type": "stream",
          "name": "stdout",
          "text": [
            "69/69 [==============================] - 1s 12ms/step\n",
            "accuracy: 0.626358695652174\n",
            "              precision    recall  f1-score   support\n",
            "\n",
            "  non-sexist       0.63      0.53      0.57      1050\n",
            "      sexist       0.63      0.72      0.67      1158\n",
            "\n",
            "    accuracy                           0.63      2208\n",
            "   macro avg       0.63      0.62      0.62      2208\n",
            "weighted avg       0.63      0.63      0.62      2208\n",
            "\n"
          ]
        }
      ],
      "source": [
        "import numpy as np\n",
        "from sklearn.metrics import accuracy_score, classification_report\n",
        "\n",
        "# generamos las prediciones del modelo sobre el conjunto test\n",
        "y_pred = np.round(model.predict(encoded_test))\n",
        "\n",
        "print('accuracy:', accuracy_score(y_test, y_pred))\n",
        "print(classification_report(y_test, y_pred, target_names=LABELS))\n"
      ]
    },
    {
      "cell_type": "markdown",
      "source": [
        "La F1 de la clase positiva (sexist) no supera el 67%."
      ],
      "metadata": {
        "id": "-6C5PfApn4j9"
      }
    },
    {
      "cell_type": "code",
      "execution_count": null,
      "metadata": {
        "colab": {
          "base_uri": "https://localhost:8080/",
          "height": 485
        },
        "id": "oWiIoWWMUyWQ",
        "outputId": "23d5d677-c5f5-411d-82cc-ebc737599907"
      },
      "outputs": [
        {
          "output_type": "stream",
          "name": "stdout",
          "text": [
            "[[553 497]\n",
            " [328 830]]\n"
          ]
        },
        {
          "output_type": "display_data",
          "data": {
            "text/plain": [
              "<Figure size 640x480 with 2 Axes>"
            ],
            "image/png": "[encoded data removed]"
          },
          "metadata": {}
        }
      ],
      "source": [
        "import matplotlib.pyplot as plt\n",
        "\n",
        "from sklearn.metrics import confusion_matrix, ConfusionMatrixDisplay\n",
        "print(confusion_matrix(y_test, y_pred))\n",
        "disp=ConfusionMatrixDisplay.from_predictions(y_test, y_pred, cmap=plt.cm.Blues)\n"
      ]
    },
    {
      "cell_type": "markdown",
      "source": [
        "El modelo clasifica correctamente un alto número de mensajes  sexistas (830 de un total de 1158). Sin embargo, de los 1050 mensajes no sexistas, el modelo únicamente es capaz de clasificar correctamente la mitad (553). El resto (1462) lo está clasificando como sexistas.\n",
        "Por tanto, el modelo está generando muchos falsos positivos (muchos mensajes sexistas son incorrectamente clasificados como no sexistas)."
      ],
      "metadata": {
        "id": "D4eFzdHHoH0O"
      }
    },
    {
      "cell_type": "markdown",
      "source": [
        "Prueba con otras configuraciones de capas convolucionales y maxpooling.\n",
        "Además, también es recomendable que pruebes con un número distinto de epochs y batch y que modifiques el proceso de EarlyStopping."
      ],
      "metadata": {
        "id": "bN9ZP3d9qBwo"
      }
    }
  ],
  "metadata": {
    "colab": {
      "provenance": [],
      "toc_visible": true,
      "authorship_tag": "ABX9TyMwm9IN0FipZp9s//oNvO4O",
      "include_colab_link": true
    },
    "kernelspec": {
      "display_name": "Python 3",
      "name": "python3"
    },
    "language_info": {
      "name": "python"
    }
  },
  "nbformat": 4,
  "nbformat_minor": 0
}
