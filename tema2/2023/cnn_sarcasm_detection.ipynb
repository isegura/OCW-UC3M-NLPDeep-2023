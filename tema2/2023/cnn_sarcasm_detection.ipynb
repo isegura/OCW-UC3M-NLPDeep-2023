{
  "nbformat": 4,
  "nbformat_minor": 0,
  "metadata": {
    "accelerator": "GPU",
    "colab": {
      "provenance": []
    },
    "kernelspec": {
      "display_name": "Python 3",
      "language": "python",
      "name": "python3"
    },
    "language_info": {
      "codemirror_mode": {
        "name": "ipython",
        "version": 3
      },
      "file_extension": ".py",
      "mimetype": "text/x-python",
      "name": "python",
      "nbconvert_exporter": "python",
      "pygments_lexer": "ipython3",
      "version": "3.7.7"
    },
    "notify_time": "5",
    "toc": {
      "base_numbering": 1,
      "nav_menu": {},
      "number_sections": true,
      "sideBar": true,
      "skip_h1_title": false,
      "title_cell": "Table of Contents",
      "title_sidebar": "Contents",
      "toc_cell": false,
      "toc_position": {},
      "toc_section_display": true,
      "toc_window_display": false
    },
    "varInspector": {
      "cols": {
        "lenName": 16,
        "lenType": 16,
        "lenVar": 40
      },
      "kernels_config": {
        "python": {
          "delete_cmd_postfix": "",
          "delete_cmd_prefix": "del ",
          "library": "var_list.py",
          "varRefreshCmd": "print(var_dic_list())"
        },
        "r": {
          "delete_cmd_postfix": ") ",
          "delete_cmd_prefix": "rm(",
          "library": "var_list.r",
          "varRefreshCmd": "cat(var_dic_list()) "
        }
      },
      "position": {
        "height": "510.85px",
        "left": "1550px",
        "right": "20px",
        "top": "120px",
        "width": "350px"
      },
      "types_to_exclude": [
        "module",
        "function",
        "builtin_function_or_method",
        "instance",
        "_Feature"
      ],
      "window_display": true
    }
  },
  "cells": [
    {
      "cell_type": "markdown",
      "metadata": {
        "id": "XqvvBLQkx3-q"
      },
      "source": [
        "# Convolutional Neural Network for Sarcasm Detection\n",
        "\n",
        "\n",
        "### Objective:\n",
        "Using the dataset [News Headlines Dataset For Sarcasm Detection](https://www.kaggle.com/rmisra/news-headlines-dataset-for-sarcasm-detection) created by [Rishabh Misra and Prahal Arora](https://arxiv.org/abs/1908.07414), the goal of this notebook is to illustrate the implementation of CNN for sarcasm detection.\n"
      ]
    },
    {
      "cell_type": "markdown",
      "metadata": {
        "id": "gIyMIwvVx3-3"
      },
      "source": [
        "## Data"
      ]
    },
    {
      "cell_type": "code",
      "metadata": {
        "ExecuteTime": {
          "end_time": "2021-06-14T17:07:09.565092Z",
          "start_time": "2021-06-14T17:07:09.530302Z"
        },
        "id": "qOpyIc-fymIH",
        "colab": {
          "base_uri": "https://localhost:8080/"
        },
        "outputId": "a4c536f4-4162-4392-8660-8721bb710ad5"
      },
      "source": [
        "# Load the Drive helper and mount\n",
        "from google.colab import drive\n",
        "drive.mount('/content/drive')"
      ],
      "execution_count": null,
      "outputs": [
        {
          "output_type": "stream",
          "name": "stdout",
          "text": [
            "Drive already mounted at /content/drive; to attempt to forcibly remount, call drive.mount(\"/content/drive\", force_remount=True).\n"
          ]
        }
      ]
    },
    {
      "cell_type": "code",
      "metadata": {
        "ExecuteTime": {
          "end_time": "2021-06-14T17:04:20.421212Z",
          "start_time": "2021-06-14T17:04:20.293241Z"
        },
        "id": "-RuMjGnAx3-4",
        "colab": {
          "base_uri": "https://localhost:8080/",
          "height": 206
        },
        "outputId": "85371432-0bc4-4198-adbd-eb38f8aa7d47"
      },
      "source": [
        "import pandas as pd\n",
        "\n",
        "root='/content/drive/My Drive/Colab Notebooks/data/'\n",
        "train = pd.read_csv(root+\"sarcasm/train.csv\")\n",
        "val = pd.read_csv(root+\"sarcasm/val.csv\")\n",
        "test = pd.read_csv(root+\"sarcasm/test.csv\")\n",
        "\n",
        "train.head()"
      ],
      "execution_count": null,
      "outputs": [
        {
          "output_type": "execute_result",
          "data": {
            "text/plain": [
              "   Unnamed: 0                                           headline  is_sarcastic\n",
              "0       23789                                the great vanishing             0\n",
              "1       15323                  mccain gets hammered at local vfw             1\n",
              "2       18908  pissed off from a lack of sleep? you might be ...             0\n",
              "3       21878  sitting inside cardboard box the safest 6-year...             1\n",
              "4       15129  marcellus williams prosecutor drew scrutiny in...             0"
            ],
            "text/html": [
              "\n",
              "  <div id=\"df-8b2b954b-acd4-4566-b4cb-0973695508f8\">\n",
              "    <div class=\"colab-df-container\">\n",
              "      <div>\n",
              "<style scoped>\n",
              "    .dataframe tbody tr th:only-of-type {\n",
              "        vertical-align: middle;\n",
              "    }\n",
              "\n",
              "    .dataframe tbody tr th {\n",
              "        vertical-align: top;\n",
              "    }\n",
              "\n",
              "    .dataframe thead th {\n",
              "        text-align: right;\n",
              "    }\n",
              "</style>\n",
              "<table border=\"1\" class=\"dataframe\">\n",
              "  <thead>\n",
              "    <tr style=\"text-align: right;\">\n",
              "      <th></th>\n",
              "      <th>Unnamed: 0</th>\n",
              "      <th>headline</th>\n",
              "      <th>is_sarcastic</th>\n",
              "    </tr>\n",
              "  </thead>\n",
              "  <tbody>\n",
              "    <tr>\n",
              "      <th>0</th>\n",
              "      <td>23789</td>\n",
              "      <td>the great vanishing</td>\n",
              "      <td>0</td>\n",
              "    </tr>\n",
              "    <tr>\n",
              "      <th>1</th>\n",
              "      <td>15323</td>\n",
              "      <td>mccain gets hammered at local vfw</td>\n",
              "      <td>1</td>\n",
              "    </tr>\n",
              "    <tr>\n",
              "      <th>2</th>\n",
              "      <td>18908</td>\n",
              "      <td>pissed off from a lack of sleep? you might be ...</td>\n",
              "      <td>0</td>\n",
              "    </tr>\n",
              "    <tr>\n",
              "      <th>3</th>\n",
              "      <td>21878</td>\n",
              "      <td>sitting inside cardboard box the safest 6-year...</td>\n",
              "      <td>1</td>\n",
              "    </tr>\n",
              "    <tr>\n",
              "      <th>4</th>\n",
              "      <td>15129</td>\n",
              "      <td>marcellus williams prosecutor drew scrutiny in...</td>\n",
              "      <td>0</td>\n",
              "    </tr>\n",
              "  </tbody>\n",
              "</table>\n",
              "</div>\n",
              "      <button class=\"colab-df-convert\" onclick=\"convertToInteractive('df-8b2b954b-acd4-4566-b4cb-0973695508f8')\"\n",
              "              title=\"Convert this dataframe to an interactive table.\"\n",
              "              style=\"display:none;\">\n",
              "        \n",
              "  <svg xmlns=\"http://www.w3.org/2000/svg\" height=\"24px\"viewBox=\"0 0 24 24\"\n",
              "       width=\"24px\">\n",
              "    <path d=\"M0 0h24v24H0V0z\" fill=\"none\"/>\n",
              "    <path d=\"M18.56 5.44l.94 2.06.94-2.06 2.06-.94-2.06-.94-.94-2.06-.94 2.06-2.06.94zm-11 1L8.5 8.5l.94-2.06 2.06-.94-2.06-.94L8.5 2.5l-.94 2.06-2.06.94zm10 10l.94 2.06.94-2.06 2.06-.94-2.06-.94-.94-2.06-.94 2.06-2.06.94z\"/><path d=\"M17.41 7.96l-1.37-1.37c-.4-.4-.92-.59-1.43-.59-.52 0-1.04.2-1.43.59L10.3 9.45l-7.72 7.72c-.78.78-.78 2.05 0 2.83L4 21.41c.39.39.9.59 1.41.59.51 0 1.02-.2 1.41-.59l7.78-7.78 2.81-2.81c.8-.78.8-2.07 0-2.86zM5.41 20L4 18.59l7.72-7.72 1.47 1.35L5.41 20z\"/>\n",
              "  </svg>\n",
              "      </button>\n",
              "      \n",
              "  <style>\n",
              "    .colab-df-container {\n",
              "      display:flex;\n",
              "      flex-wrap:wrap;\n",
              "      gap: 12px;\n",
              "    }\n",
              "\n",
              "    .colab-df-convert {\n",
              "      background-color: #E8F0FE;\n",
              "      border: none;\n",
              "      border-radius: 50%;\n",
              "      cursor: pointer;\n",
              "      display: none;\n",
              "      fill: #1967D2;\n",
              "      height: 32px;\n",
              "      padding: 0 0 0 0;\n",
              "      width: 32px;\n",
              "    }\n",
              "\n",
              "    .colab-df-convert:hover {\n",
              "      background-color: #E2EBFA;\n",
              "      box-shadow: 0px 1px 2px rgba(60, 64, 67, 0.3), 0px 1px 3px 1px rgba(60, 64, 67, 0.15);\n",
              "      fill: #174EA6;\n",
              "    }\n",
              "\n",
              "    [theme=dark] .colab-df-convert {\n",
              "      background-color: #3B4455;\n",
              "      fill: #D2E3FC;\n",
              "    }\n",
              "\n",
              "    [theme=dark] .colab-df-convert:hover {\n",
              "      background-color: #434B5C;\n",
              "      box-shadow: 0px 1px 3px 1px rgba(0, 0, 0, 0.15);\n",
              "      filter: drop-shadow(0px 1px 2px rgba(0, 0, 0, 0.3));\n",
              "      fill: #FFFFFF;\n",
              "    }\n",
              "  </style>\n",
              "\n",
              "      <script>\n",
              "        const buttonEl =\n",
              "          document.querySelector('#df-8b2b954b-acd4-4566-b4cb-0973695508f8 button.colab-df-convert');\n",
              "        buttonEl.style.display =\n",
              "          google.colab.kernel.accessAllowed ? 'block' : 'none';\n",
              "\n",
              "        async function convertToInteractive(key) {\n",
              "          const element = document.querySelector('#df-8b2b954b-acd4-4566-b4cb-0973695508f8');\n",
              "          const dataTable =\n",
              "            await google.colab.kernel.invokeFunction('convertToInteractive',\n",
              "                                                     [key], {});\n",
              "          if (!dataTable) return;\n",
              "\n",
              "          const docLinkHtml = 'Like what you see? Visit the ' +\n",
              "            '<a target=\"_blank\" href=https://colab.research.google.com/notebooks/data_table.ipynb>data table notebook</a>'\n",
              "            + ' to learn more about interactive tables.';\n",
              "          element.innerHTML = '';\n",
              "          dataTable['output_type'] = 'display_data';\n",
              "          await google.colab.output.renderOutput(dataTable, element);\n",
              "          const docLink = document.createElement('div');\n",
              "          docLink.innerHTML = docLinkHtml;\n",
              "          element.appendChild(docLink);\n",
              "        }\n",
              "      </script>\n",
              "    </div>\n",
              "  </div>\n",
              "  "
            ]
          },
          "metadata": {},
          "execution_count": 2
        }
      ]
    },
    {
      "cell_type": "code",
      "source": [
        "print(len(train),len(val),len(test))"
      ],
      "metadata": {
        "colab": {
          "base_uri": "https://localhost:8080/"
        },
        "id": "pIMhc-HDhVC-",
        "outputId": "ed7528d5-f93b-4f7b-850d-ddf09fb60210"
      },
      "execution_count": null,
      "outputs": [
        {
          "output_type": "stream",
          "name": "stdout",
          "text": [
            "19952 2850 5701\n"
          ]
        }
      ]
    },
    {
      "cell_type": "markdown",
      "source": [
        "Let us to study the dataset. We can see that the dataset is balanced, that is, both classes (is_sarcastic) have similar number of instances."
      ],
      "metadata": {
        "id": "eO_9CJAaL6WL"
      }
    },
    {
      "cell_type": "code",
      "source": [
        "import matplotlib.pyplot as plt\n",
        "\n",
        "df1=train.groupby('is_sarcastic')['headline'].nunique()\n",
        "df2=val.groupby('is_sarcastic')['headline'].nunique()\n",
        "df3=test.groupby('is_sarcastic')['headline'].nunique()\n",
        "\n",
        "# make a list of all dataframes \n",
        "nrow=1\n",
        "ncol=3\n",
        "\n",
        "df_list = [df1 ,df2, df3]\n",
        "fig, axes = plt.subplots(1, 3)\n",
        "\n",
        "# plot counter\n",
        "count=0\n",
        "for c in range(3):\n",
        "    if c==0:\n",
        "        strTitle='Training'\n",
        "    elif c=='1':\n",
        "        strTitle='Validation'\n",
        "    else:\n",
        "        strTitle='Test'\n",
        "\n",
        "    df_list[count].plot(ax=axes[c], kind='pie', title=strTitle)\n",
        "    count+=1\n",
        "\n",
        "plt.show()\n"
      ],
      "metadata": {
        "colab": {
          "base_uri": "https://localhost:8080/",
          "height": 145
        },
        "id": "d0X_l7q5MKVj",
        "outputId": "98cea2d2-8aae-4452-fa8c-db1a04cb838c"
      },
      "execution_count": null,
      "outputs": [
        {
          "output_type": "display_data",
          "data": {
            "text/plain": [
              "<Figure size 432x288 with 3 Axes>"
            ],
            "image/png": "[encoded data removed]"
          },
          "metadata": {}
        }
      ]
    },
    {
      "cell_type": "markdown",
      "source": [
        "\n",
        "Moreover, we will study some characteristics of the headline (maximum length, average lenght, etc)\n"
      ],
      "metadata": {
        "id": "s39lyb8HRAIq"
      }
    },
    {
      "cell_type": "code",
      "source": [
        "train['length']=train['headline'].apply(len)\n",
        "print('Maximum length:', max(train['length']))\n",
        "print('Average length:',train['length'].mean())\n",
        "train[['length']].describe()"
      ],
      "metadata": {
        "colab": {
          "base_uri": "https://localhost:8080/",
          "height": 336
        },
        "id": "tlI56DrSRKXo",
        "outputId": "7d5ad103-5547-45a7-d293-41524d51199c"
      },
      "execution_count": null,
      "outputs": [
        {
          "output_type": "stream",
          "name": "stdout",
          "text": [
            "Maximum length: 926\n",
            "Average length: 62.258670809943865\n"
          ]
        },
        {
          "output_type": "execute_result",
          "data": {
            "text/plain": [
              "             length\n",
              "count  19952.000000\n",
              "mean      62.258671\n",
              "std       21.041714\n",
              "min        7.000000\n",
              "25%       49.000000\n",
              "50%       62.000000\n",
              "75%       74.000000\n",
              "max      926.000000"
            ],
            "text/html": [
              "\n",
              "  <div id=\"df-a576b939-8c84-4d57-bbfa-f9aa3b682d8f\">\n",
              "    <div class=\"colab-df-container\">\n",
              "      <div>\n",
              "<style scoped>\n",
              "    .dataframe tbody tr th:only-of-type {\n",
              "        vertical-align: middle;\n",
              "    }\n",
              "\n",
              "    .dataframe tbody tr th {\n",
              "        vertical-align: top;\n",
              "    }\n",
              "\n",
              "    .dataframe thead th {\n",
              "        text-align: right;\n",
              "    }\n",
              "</style>\n",
              "<table border=\"1\" class=\"dataframe\">\n",
              "  <thead>\n",
              "    <tr style=\"text-align: right;\">\n",
              "      <th></th>\n",
              "      <th>length</th>\n",
              "    </tr>\n",
              "  </thead>\n",
              "  <tbody>\n",
              "    <tr>\n",
              "      <th>count</th>\n",
              "      <td>19952.000000</td>\n",
              "    </tr>\n",
              "    <tr>\n",
              "      <th>mean</th>\n",
              "      <td>62.258671</td>\n",
              "    </tr>\n",
              "    <tr>\n",
              "      <th>std</th>\n",
              "      <td>21.041714</td>\n",
              "    </tr>\n",
              "    <tr>\n",
              "      <th>min</th>\n",
              "      <td>7.000000</td>\n",
              "    </tr>\n",
              "    <tr>\n",
              "      <th>25%</th>\n",
              "      <td>49.000000</td>\n",
              "    </tr>\n",
              "    <tr>\n",
              "      <th>50%</th>\n",
              "      <td>62.000000</td>\n",
              "    </tr>\n",
              "    <tr>\n",
              "      <th>75%</th>\n",
              "      <td>74.000000</td>\n",
              "    </tr>\n",
              "    <tr>\n",
              "      <th>max</th>\n",
              "      <td>926.000000</td>\n",
              "    </tr>\n",
              "  </tbody>\n",
              "</table>\n",
              "</div>\n",
              "      <button class=\"colab-df-convert\" onclick=\"convertToInteractive('df-a576b939-8c84-4d57-bbfa-f9aa3b682d8f')\"\n",
              "              title=\"Convert this dataframe to an interactive table.\"\n",
              "              style=\"display:none;\">\n",
              "        \n",
              "  <svg xmlns=\"http://www.w3.org/2000/svg\" height=\"24px\"viewBox=\"0 0 24 24\"\n",
              "       width=\"24px\">\n",
              "    <path d=\"M0 0h24v24H0V0z\" fill=\"none\"/>\n",
              "    <path d=\"M18.56 5.44l.94 2.06.94-2.06 2.06-.94-2.06-.94-.94-2.06-.94 2.06-2.06.94zm-11 1L8.5 8.5l.94-2.06 2.06-.94-2.06-.94L8.5 2.5l-.94 2.06-2.06.94zm10 10l.94 2.06.94-2.06 2.06-.94-2.06-.94-.94-2.06-.94 2.06-2.06.94z\"/><path d=\"M17.41 7.96l-1.37-1.37c-.4-.4-.92-.59-1.43-.59-.52 0-1.04.2-1.43.59L10.3 9.45l-7.72 7.72c-.78.78-.78 2.05 0 2.83L4 21.41c.39.39.9.59 1.41.59.51 0 1.02-.2 1.41-.59l7.78-7.78 2.81-2.81c.8-.78.8-2.07 0-2.86zM5.41 20L4 18.59l7.72-7.72 1.47 1.35L5.41 20z\"/>\n",
              "  </svg>\n",
              "      </button>\n",
              "      \n",
              "  <style>\n",
              "    .colab-df-container {\n",
              "      display:flex;\n",
              "      flex-wrap:wrap;\n",
              "      gap: 12px;\n",
              "    }\n",
              "\n",
              "    .colab-df-convert {\n",
              "      background-color: #E8F0FE;\n",
              "      border: none;\n",
              "      border-radius: 50%;\n",
              "      cursor: pointer;\n",
              "      display: none;\n",
              "      fill: #1967D2;\n",
              "      height: 32px;\n",
              "      padding: 0 0 0 0;\n",
              "      width: 32px;\n",
              "    }\n",
              "\n",
              "    .colab-df-convert:hover {\n",
              "      background-color: #E2EBFA;\n",
              "      box-shadow: 0px 1px 2px rgba(60, 64, 67, 0.3), 0px 1px 3px 1px rgba(60, 64, 67, 0.15);\n",
              "      fill: #174EA6;\n",
              "    }\n",
              "\n",
              "    [theme=dark] .colab-df-convert {\n",
              "      background-color: #3B4455;\n",
              "      fill: #D2E3FC;\n",
              "    }\n",
              "\n",
              "    [theme=dark] .colab-df-convert:hover {\n",
              "      background-color: #434B5C;\n",
              "      box-shadow: 0px 1px 3px 1px rgba(0, 0, 0, 0.15);\n",
              "      filter: drop-shadow(0px 1px 2px rgba(0, 0, 0, 0.3));\n",
              "      fill: #FFFFFF;\n",
              "    }\n",
              "  </style>\n",
              "\n",
              "      <script>\n",
              "        const buttonEl =\n",
              "          document.querySelector('#df-a576b939-8c84-4d57-bbfa-f9aa3b682d8f button.colab-df-convert');\n",
              "        buttonEl.style.display =\n",
              "          google.colab.kernel.accessAllowed ? 'block' : 'none';\n",
              "\n",
              "        async function convertToInteractive(key) {\n",
              "          const element = document.querySelector('#df-a576b939-8c84-4d57-bbfa-f9aa3b682d8f');\n",
              "          const dataTable =\n",
              "            await google.colab.kernel.invokeFunction('convertToInteractive',\n",
              "                                                     [key], {});\n",
              "          if (!dataTable) return;\n",
              "\n",
              "          const docLinkHtml = 'Like what you see? Visit the ' +\n",
              "            '<a target=\"_blank\" href=https://colab.research.google.com/notebooks/data_table.ipynb>data table notebook</a>'\n",
              "            + ' to learn more about interactive tables.';\n",
              "          element.innerHTML = '';\n",
              "          dataTable['output_type'] = 'display_data';\n",
              "          await google.colab.output.renderOutput(dataTable, element);\n",
              "          const docLink = document.createElement('div');\n",
              "          docLink.innerHTML = docLinkHtml;\n",
              "          element.appendChild(docLink);\n",
              "        }\n",
              "      </script>\n",
              "    </div>\n",
              "  </div>\n",
              "  "
            ]
          },
          "metadata": {},
          "execution_count": 5
        }
      ]
    },
    {
      "cell_type": "markdown",
      "source": [
        "Moreover, we show a histogram of the length of the texts. We can see that most texts have less than 100 characters"
      ],
      "metadata": {
        "id": "YfZQx5Zwhqwp"
      }
    },
    {
      "cell_type": "code",
      "source": [
        "train.hist(column='length',bins=100)\n"
      ],
      "metadata": {
        "colab": {
          "base_uri": "https://localhost:8080/",
          "height": 317
        },
        "id": "GK9GCdKzWjV6",
        "outputId": "293b56ab-e4f6-49b1-9f10-56ade3cf833c"
      },
      "execution_count": null,
      "outputs": [
        {
          "output_type": "execute_result",
          "data": {
            "text/plain": [
              "array([[<matplotlib.axes._subplots.AxesSubplot object at 0x7f29030d1750>]],\n",
              "      dtype=object)"
            ]
          },
          "metadata": {},
          "execution_count": 6
        },
        {
          "output_type": "display_data",
          "data": {
            "text/plain": [
              "<Figure size 432x288 with 1 Axes>"
            ],
            "image/png": "[encoded data removed]"
          },
          "metadata": {
            "needs_background": "light"
          }
        }
      ]
    },
    {
      "cell_type": "markdown",
      "metadata": {
        "id": "V9KhphwGx3-_"
      },
      "source": [
        "### Tokenization\n",
        "\n",
        "Keras (a deep learning API in Python) already provides a Tokenizer to split the text into tokens. \n",
        "\n",
        "We can train the tokenizer on the texts of the training data. Using the parameter oov_token (oov = out of vocabulary), we can reserve a special token for unknown words (oov_token=True). This special token allow us to represent words (from new data) that the model has never seen. "
      ]
    },
    {
      "cell_type": "code",
      "source": [
        "from keras.preprocessing.text import Tokenizer\n",
        "\n",
        "# create the tokenizer with the maximum number of words to keep, \n",
        "# based on word frequency. \n",
        "# Only the most common num_words-1 words will be kept.\n",
        "tokenizer = Tokenizer(oov_token = True)\n",
        "\n",
        "# fit the tokenizer on the headlines\n",
        "tokenizer.fit_on_texts(list(train['headline']))\n",
        "tokenizer.word_index['<PAD>'] = 0\n",
        "\n"
      ],
      "metadata": {
        "id": "2b4BPIykIcyK"
      },
      "execution_count": null,
      "outputs": []
    },
    {
      "cell_type": "code",
      "source": [
        "NUM_WORDS=len(tokenizer.word_index)\n",
        "print(\"Vocabulary size ={}\".format(NUM_WORDS))\n"
      ],
      "metadata": {
        "colab": {
          "base_uri": "https://localhost:8080/"
        },
        "id": "3JcHsnyHEbiq",
        "outputId": "b3185269-ff27-4ce9-ab7d-8b1a671fd2f5"
      },
      "execution_count": null,
      "outputs": [
        {
          "output_type": "stream",
          "name": "stdout",
          "text": [
            "Vocabulary size =25989\n"
          ]
        }
      ]
    },
    {
      "cell_type": "code",
      "source": [
        "\n",
        "# Transforms each text in texts to a sequence of integers.\n",
        "encoded_train = tokenizer.texts_to_sequences(train['headline'])\n",
        "encoded_test = tokenizer.texts_to_sequences(test['headline'])\n",
        "encoded_val = tokenizer.texts_to_sequences(val['headline'])"
      ],
      "metadata": {
        "id": "YbcDK9KWn9h0"
      },
      "execution_count": null,
      "outputs": []
    },
    {
      "cell_type": "markdown",
      "source": [
        "We can see that the (training) sequences have different lengths:"
      ],
      "metadata": {
        "id": "bj_fwZ60isHU"
      }
    },
    {
      "cell_type": "code",
      "source": [
        "for i in range(5):\n",
        "    print(train.iloc[i]['headline'])\n",
        "    print(encoded_train[i], \" len:\", len(encoded_train[i]))\n",
        "    print()"
      ],
      "metadata": {
        "colab": {
          "base_uri": "https://localhost:8080/"
        },
        "id": "UMgZ16M1h3Q0",
        "outputId": "783dbb2c-933d-4298-aa67-6e91804a66b9"
      },
      "execution_count": null,
      "outputs": [
        {
          "output_type": "stream",
          "name": "stdout",
          "text": [
            "the great vanishing\n",
            "[4, 317, 12918]  len: 3\n",
            "\n",
            "mccain gets hammered at local vfw\n",
            "[1468, 166, 9004, 15, 165, 12919]  len: 6\n",
            "\n",
            "pissed off from a lack of sleep? you might be 'slangry'\n",
            "[2453, 65, 16, 7, 1274, 3, 478, 19, 371, 24, 12920]  len: 11\n",
            "\n",
            "sitting inside cardboard box the safest 6-year-old will feel for remainder of life\n",
            "[1179, 435, 3432, 615, 4, 7039, 215, 46, 62, 42, 536, 6, 4934, 3, 66]  len: 15\n",
            "\n",
            "marcellus williams prosecutor drew scrutiny in ferguson police shooting\n",
            "[12921, 763, 3120, 5798, 9005, 5, 910, 126, 308]  len: 9\n",
            "\n"
          ]
        }
      ]
    },
    {
      "cell_type": "markdown",
      "source": [
        "We want to study the length distribution of the input headline from the training texts. "
      ],
      "metadata": {
        "id": "uqANGiJnmsPK"
      }
    },
    {
      "cell_type": "code",
      "source": [
        "length_tokens=pd.Series([len(v) for v in encoded_train])\n",
        "length_tokens.describe(percentiles=[0.25,0.5,0.75,0.90, 0.95])"
      ],
      "metadata": {
        "colab": {
          "base_uri": "https://localhost:8080/"
        },
        "id": "7Q6vz1y2i5FU",
        "outputId": "ab93660b-29f8-4c4b-f7f1-3c30f3a0e370"
      },
      "execution_count": null,
      "outputs": [
        {
          "output_type": "execute_result",
          "data": {
            "text/plain": [
              "count    19952.000000\n",
              "mean        10.252356\n",
              "std          3.470537\n",
              "min          2.000000\n",
              "25%          8.000000\n",
              "50%         10.000000\n",
              "75%         12.000000\n",
              "90%         14.000000\n",
              "95%         16.000000\n",
              "max        152.000000\n",
              "dtype: float64"
            ]
          },
          "metadata": {},
          "execution_count": 11
        }
      ]
    },
    {
      "cell_type": "markdown",
      "source": [
        "Therefore, most sequences have less than 16 tokens. So, we can define MAX_LENGTH as 20 tokens. "
      ],
      "metadata": {
        "id": "n-nTH4k6j4Sx"
      }
    },
    {
      "cell_type": "code",
      "source": [
        "MAX_LEN=20"
      ],
      "metadata": {
        "id": "ZujinasIkCwH"
      },
      "execution_count": null,
      "outputs": []
    },
    {
      "cell_type": "markdown",
      "source": [
        "In this way, all sequences will be represented as vectors of dimension 20. Shorter sequences than 20 tokens will be extended by adding special pad tokens.\n",
        "Larger sequences than 20 will be truncated (on the rigth). \n"
      ],
      "metadata": {
        "id": "sRYTOyVhm2N5"
      }
    },
    {
      "cell_type": "markdown",
      "source": [
        "Each token is represented as a vector. We can use random vectors (which will be fitted during the training) or word embeddings from a pre-trained word embedding model. \n",
        "\n",
        "Then, a text could be represented as a matrix as many rows as number of tokens in the text. The number of columns will be the dimension of the vectors. \n",
        "\n",
        "The input of the CNN model will be matrices (as many matrices as texts in the training dataset). We need that all matrices have the same dimension (number of tokens * dimension of the vector). \n",
        "Therefore, we need that all texts have the same number of tokens. For this reason, we use the function pad_sequences. \n",
        "\n",
        "\n",
        "We need that all texts have the same number of tokens. "
      ],
      "metadata": {
        "id": "x45Y1uZmKNDY"
      }
    },
    {
      "cell_type": "code",
      "metadata": {
        "ExecuteTime": {
          "end_time": "2020-05-10T08:38:47.348652Z",
          "start_time": "2020-05-10T08:38:45.724660Z"
        },
        "id": "vyi3UEMhx3-_"
      },
      "source": [
        "from keras.utils import pad_sequences \n",
        "\n",
        "# transforms a list of num_samples sequences (lists of integers)\n",
        "# into a 2D Numpy array of shape (num_samples, num_timesteps).\n",
        "encoded_train = pad_sequences(encoded_train, maxlen = MAX_LEN, padding='post')\n",
        "encoded_val = pad_sequences(encoded_val, maxlen = MAX_LEN, padding='post')\n",
        "encoded_test = pad_sequences(encoded_test, maxlen = MAX_LEN, padding='post')\n"
      ],
      "execution_count": null,
      "outputs": []
    },
    {
      "cell_type": "code",
      "source": [
        "for i in range(5):\n",
        "    print(train.iloc[i]['headline'])\n",
        "    print(encoded_train[i], \", len:\", len(encoded_train[i]))\n",
        "    print()"
      ],
      "metadata": {
        "colab": {
          "base_uri": "https://localhost:8080/"
        },
        "id": "ymjd_Kgik2oQ",
        "outputId": "7f238d44-82db-424a-c98c-3fb7415bcd29"
      },
      "execution_count": null,
      "outputs": [
        {
          "output_type": "stream",
          "name": "stdout",
          "text": [
            "the great vanishing\n",
            "[    4   317 12918     0     0     0     0     0     0     0     0     0\n",
            "     0     0     0     0     0     0     0     0] , len: 20\n",
            "\n",
            "mccain gets hammered at local vfw\n",
            "[ 1468   166  9004    15   165 12919     0     0     0     0     0     0\n",
            "     0     0     0     0     0     0     0     0] , len: 20\n",
            "\n",
            "pissed off from a lack of sleep? you might be 'slangry'\n",
            "[ 2453    65    16     7  1274     3   478    19   371    24 12920     0\n",
            "     0     0     0     0     0     0     0     0] , len: 20\n",
            "\n",
            "sitting inside cardboard box the safest 6-year-old will feel for remainder of life\n",
            "[1179  435 3432  615    4 7039  215   46   62   42  536    6 4934    3\n",
            "   66    0    0    0    0    0] , len: 20\n",
            "\n",
            "marcellus williams prosecutor drew scrutiny in ferguson police shooting\n",
            "[12921   763  3120  5798  9005     5   910   126   308     0     0     0\n",
            "     0     0     0     0     0     0     0     0] , len: 20\n",
            "\n"
          ]
        }
      ]
    },
    {
      "cell_type": "markdown",
      "source": [
        "We get the labels. We do not need to encoding them because they are all 0s or 1s. "
      ],
      "metadata": {
        "id": "Fwx0kh2blBhZ"
      }
    },
    {
      "cell_type": "code",
      "source": [
        "y_train = train['is_sarcastic']\n",
        "y_test = test['is_sarcastic']\n",
        "y_val = val['is_sarcastic']"
      ],
      "metadata": {
        "id": "MLm78FRqkqbo"
      },
      "execution_count": null,
      "outputs": []
    },
    {
      "cell_type": "markdown",
      "metadata": {
        "id": "Lw1eZlpxksaM"
      },
      "source": [
        "### Build CNN Model\n",
        "Model Parameters:\n",
        "\n",
        "- **Activation Function**: I have used ReLU as the activation function. ReLU is a non-linear activation function, which helps complex relationships in the data to be captured by the model.\n",
        "\n",
        "- **Optimizer**: We use adam optimizer, which is an adaptive learning rate optimizer.\n",
        "\n",
        "- **Loss function**: We will train a network to output a probability over the 2 classes using Sigmoid Loss."
      ]
    },
    {
      "cell_type": "code",
      "metadata": {
        "ExecuteTime": {
          "end_time": "2020-05-10T08:48:19.482797Z",
          "start_time": "2020-05-10T08:38:46.714Z"
        },
        "id": "ZDFK2g3Kk183",
        "colab": {
          "base_uri": "https://localhost:8080/"
        },
        "outputId": "6649d761-d8d3-4255-903d-119d4475077d"
      },
      "source": [
        "from keras.models import Sequential\n",
        "from keras.layers import Flatten, Dense, Embedding, Conv1D, MaxPooling1D\n",
        "\n",
        "EMBEDDING_SIZE=200\n",
        "model = Sequential()\n",
        "\n",
        "model.add(Embedding(NUM_WORDS, EMBEDDING_SIZE, input_length=MAX_LEN))\n",
        "model.add(Conv1D(filters=128, kernel_size=4, padding='same', activation='relu'))\n",
        "model.add(MaxPooling1D(pool_size=2))\n",
        "model.add(Conv1D(filters=64, kernel_size=4, padding='same', activation='relu'))\n",
        "model.add(MaxPooling1D(pool_size=2))\n",
        "model.add(Conv1D(filters=32, kernel_size=4, padding='same', activation='relu'))\n",
        "model.add(MaxPooling1D(pool_size=2))\n",
        "model.add(Flatten())\n",
        "model.add(Dense(256, activation='relu'))\n",
        "model.add(Dense(1, activation='sigmoid'))\n",
        "model.compile(loss='binary_crossentropy', optimizer='adam', metrics=['acc'])\n",
        "model.summary()\n",
        "\n",
        "\n"
      ],
      "execution_count": null,
      "outputs": [
        {
          "output_type": "stream",
          "name": "stdout",
          "text": [
            "Model: \"sequential\"\n",
            "_________________________________________________________________\n",
            " Layer (type)                Output Shape              Param #   \n",
            "=================================================================\n",
            " embedding (Embedding)       (None, 20, 200)           5197800   \n",
            "                                                                 \n",
            " conv1d (Conv1D)             (None, 20, 128)           102528    \n",
            "                                                                 \n",
            " max_pooling1d (MaxPooling1D  (None, 10, 128)          0         \n",
            " )                                                               \n",
            "                                                                 \n",
            " conv1d_1 (Conv1D)           (None, 10, 64)            32832     \n",
            "                                                                 \n",
            " max_pooling1d_1 (MaxPooling  (None, 5, 64)            0         \n",
            " 1D)                                                             \n",
            "                                                                 \n",
            " conv1d_2 (Conv1D)           (None, 5, 32)             8224      \n",
            "                                                                 \n",
            " max_pooling1d_2 (MaxPooling  (None, 2, 32)            0         \n",
            " 1D)                                                             \n",
            "                                                                 \n",
            " flatten (Flatten)           (None, 64)                0         \n",
            "                                                                 \n",
            " dense (Dense)               (None, 256)               16640     \n",
            "                                                                 \n",
            " dense_1 (Dense)             (None, 1)                 257       \n",
            "                                                                 \n",
            "=================================================================\n",
            "Total params: 5,358,281\n",
            "Trainable params: 5,358,281\n",
            "Non-trainable params: 0\n",
            "_________________________________________________________________\n"
          ]
        }
      ]
    },
    {
      "cell_type": "markdown",
      "metadata": {
        "id": "ysvBfLhAx3_Q"
      },
      "source": [
        "### Save the best model and early stopping\n",
        "To prevent the model from overfitting early stopping has been enabled.\n",
        "\n",
        "Early stopping is a method that allows us to specify an arbitrary large number of training epochs and stop training once the model performance stops improving on a hold out/validation dataset.\n"
      ]
    },
    {
      "cell_type": "code",
      "metadata": {
        "ExecuteTime": {
          "end_time": "2020-05-10T08:48:19.494511Z",
          "start_time": "2020-05-10T08:38:58.047Z"
        },
        "id": "kP9f8-oNx3_R"
      },
      "source": [
        "from keras.callbacks import ModelCheckpoint, EarlyStopping\n",
        "# Save the model after every epoch.\n",
        "# saveBestModel = ModelCheckpoint(root+'CNNbest.hdf5', monitor='val_acc', verbose=0, save_best_only=True, save_weights_only=False, mode='auto', period=1)\n",
        "\n",
        "# Stop training when a monitored quantity has stopped improving.\n",
        "earlyStopping = EarlyStopping(monitor='val_loss', min_delta=0, patience=3, verbose=0, mode='auto')"
      ],
      "execution_count": null,
      "outputs": []
    },
    {
      "cell_type": "markdown",
      "metadata": {
        "id": "mI73ldeoi6rH"
      },
      "source": [
        "### Fit the model"
      ]
    },
    {
      "cell_type": "code",
      "metadata": {
        "colab": {
          "base_uri": "https://localhost:8080/"
        },
        "id": "DePKu3MZx3_U",
        "outputId": "655a858a-35dd-4b02-d5c6-cf08a0d8f684"
      },
      "source": [
        "# Fit the model\n",
        "batch_size = 16 #number of samples processed before the model is updated.\n",
        "epochs = 10 #number of complete passes through the training dataset.\n",
        "#model.fit(train_X, train_y, batch_size=batch_size, epochs=epochs, validation_data=(val_X, val_y), callbacks=[saveBestModel, earlyStopping])\n",
        "history=model.fit(encoded_train, y_train, batch_size=batch_size, epochs=epochs, validation_data=(encoded_val, y_val), callbacks=[earlyStopping])"
      ],
      "execution_count": null,
      "outputs": [
        {
          "output_type": "stream",
          "name": "stdout",
          "text": [
            "Epoch 1/10\n",
            "1247/1247 [==============================] - 16s 9ms/step - loss: 0.3850 - acc: 0.8172 - val_loss: 0.3239 - val_acc: 0.8568\n",
            "Epoch 2/10\n",
            "1247/1247 [==============================] - 8s 7ms/step - loss: 0.1088 - acc: 0.9589 - val_loss: 0.3998 - val_acc: 0.8495\n",
            "Epoch 3/10\n",
            "1247/1247 [==============================] - 9s 7ms/step - loss: 0.0195 - acc: 0.9934 - val_loss: 0.5816 - val_acc: 0.8463\n",
            "Epoch 4/10\n",
            "1247/1247 [==============================] - 9s 7ms/step - loss: 0.0099 - acc: 0.9968 - val_loss: 0.7094 - val_acc: 0.8386\n"
          ]
        }
      ]
    },
    {
      "cell_type": "markdown",
      "metadata": {
        "id": "mWBKsDHBx3_Y"
      },
      "source": [
        "Stops in the Epoch 5 out of 25, this is thanks to the validation set, that prevents us to overfit the model."
      ]
    },
    {
      "cell_type": "markdown",
      "metadata": {
        "id": "Moc3Pr8Ox3_Z"
      },
      "source": [
        "### Evaluate model results with test data"
      ]
    },
    {
      "cell_type": "code",
      "metadata": {
        "colab": {
          "base_uri": "https://localhost:8080/"
        },
        "id": "4k9Dap4Ix3_a",
        "outputId": "99827ded-89e1-4a0c-957e-37dad17e4ae5"
      },
      "source": [
        "model.metrics_names"
      ],
      "execution_count": null,
      "outputs": [
        {
          "output_type": "execute_result",
          "data": {
            "text/plain": [
              "['loss', 'acc']"
            ]
          },
          "metadata": {},
          "execution_count": 19
        }
      ]
    },
    {
      "cell_type": "markdown",
      "source": [
        "By using the evaluate method, we can assess the model on the test split. However, this method only return the loss (0.6217) and accuracy (0.85) scores. "
      ],
      "metadata": {
        "id": "UcHY1rm_sLHp"
      }
    },
    {
      "cell_type": "code",
      "metadata": {
        "colab": {
          "base_uri": "https://localhost:8080/"
        },
        "id": "4FcLBrBTx3_e",
        "outputId": "20c3910b-47f0-47e6-852b-736f12f99655"
      },
      "source": [
        "loss, accuracy = model.evaluate(encoded_test, y_test, batch_size=batch_size)"
      ],
      "execution_count": null,
      "outputs": [
        {
          "output_type": "stream",
          "name": "stdout",
          "text": [
            "357/357 [==============================] - 1s 3ms/step - loss: 0.6217 - acc: 0.8535\n"
          ]
        }
      ]
    },
    {
      "cell_type": "markdown",
      "source": [
        "We can use the sklearn library to obtain other metrics such as precision, recall and f1. We use the predict model to obtain the predictions for the test dataset:"
      ],
      "metadata": {
        "id": "j_-S45kMsnAJ"
      }
    },
    {
      "cell_type": "code",
      "source": [
        "import numpy as np\n",
        "from sklearn.metrics import accuracy_score, classification_report \n",
        "\n",
        "y_pred = np.round(model.predict(encoded_test))\n",
        "\n",
        "print('accuracy:', accuracy_score(y_test, y_pred))\n",
        "\n",
        "print(classification_report(y_test, y_pred))\n",
        "\n",
        "\n"
      ],
      "metadata": {
        "id": "Z1NswVjslm8D",
        "colab": {
          "base_uri": "https://localhost:8080/"
        },
        "outputId": "189cd6ba-983c-4d4b-9975-a7428ff1c9b6"
      },
      "execution_count": null,
      "outputs": [
        {
          "output_type": "stream",
          "name": "stdout",
          "text": [
            "179/179 [==============================] - 0s 2ms/step\n",
            "accuracy: 0.8535344676372566\n",
            "              precision    recall  f1-score   support\n",
            "\n",
            "           0       0.86      0.87      0.86      2989\n",
            "           1       0.85      0.84      0.84      2712\n",
            "\n",
            "    accuracy                           0.85      5701\n",
            "   macro avg       0.85      0.85      0.85      5701\n",
            "weighted avg       0.85      0.85      0.85      5701\n",
            "\n"
          ]
        }
      ]
    },
    {
      "cell_type": "code",
      "source": [
        "from sklearn.metrics import  confusion_matrix\n",
        "\n",
        "cf_matrix = confusion_matrix(y_test, y_pred)\n",
        "print(cf_matrix)\n",
        "tn, fp, fn, tp = cf_matrix.ravel()\n",
        "print('tn, fp, fn, tp:',tn,fp,fn,tp)\n",
        "\n",
        "print()\n"
      ],
      "metadata": {
        "colab": {
          "base_uri": "https://localhost:8080/"
        },
        "id": "UgwszsMbmT9F",
        "outputId": "5110555c-7d4f-4cb9-aacf-4d1a0e5afece"
      },
      "execution_count": null,
      "outputs": [
        {
          "output_type": "stream",
          "name": "stdout",
          "text": [
            "[[2590  399]\n",
            " [ 436 2276]]\n",
            "tn, fp, fn, tp: 2590 399 436 2276\n",
            "\n"
          ]
        }
      ]
    },
    {
      "cell_type": "code",
      "source": [
        "import seaborn as sns\n",
        "\n",
        "ax = sns.heatmap(cf_matrix/np.sum(cf_matrix), annot=True, fmt='.1%', cmap='Blues')\n",
        "# ax = sns.heatmap(cf_matrix, annot=True, cmap='Blues')\n",
        "\n",
        "ax.set_title('Seaborn Confusion Matrix with labels\\n\\n');\n",
        "ax.set_xlabel('\\nPredicted Values')\n",
        "ax.set_ylabel('Actual Values ');\n",
        "\n",
        "## Ticket labels - List must be in alphabetical order\n",
        "ax.xaxis.set_ticklabels(['False','True'])\n",
        "ax.yaxis.set_ticklabels(['False','True'])\n",
        "\n",
        "## Display the visualization of the Confusion Matrix.\n",
        "plt.show()"
      ],
      "metadata": {
        "colab": {
          "base_uri": "https://localhost:8080/",
          "height": 377
        },
        "id": "M5mayhFTvHET",
        "outputId": "6b15d0df-e4b3-416c-9530-5431dd82c103"
      },
      "execution_count": null,
      "outputs": [
        {
          "output_type": "display_data",
          "data": {
            "text/plain": [
              "<Figure size 432x288 with 2 Axes>"
            ],
            "image/png": "[encoded data removed]"
          },
          "metadata": {}
        }
      ]
    }
  ]
}
