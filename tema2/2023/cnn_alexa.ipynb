{
  "nbformat": 4,
  "nbformat_minor": 0,
  "metadata": {
    "colab": {
      "provenance": [],
      "toc_visible": true
    },
    "kernelspec": {
      "name": "python3",
      "display_name": "Python 3"
    },
    "language_info": {
      "name": "python"
    },
    "accelerator": "GPU",
    "gpuClass": "standard"
  },
  "cells": [
    {
      "cell_type": "markdown",
      "source": [
        "<center>\n",
        "<img src=\"https://upload.wikimedia.org/wikipedia/commons/4/47/Acronimo_y_nombre_uc3m.png\"/>\n",
        "\n",
        "<img src=\"https://mirrors.creativecommons.org/presskit/buttons/88x31/png/by-nc-sa.png\" width=15%/>\n",
        "</center>    "
      ],
      "metadata": {
        "id": "aQr9dRLTmI_u"
      }
    },
    {
      "cell_type": "markdown",
      "source": [
        "# Clasificación de textos con CNN. \n",
        "\n",
        "\n",
        "En este notebook, vamos a desarrollar un enfoque basado en BiLSTM para clasificar las reviews de Amazon sobre Alexa. Este dataset puede descargarse desde este [link](#https://www.kaggle.com/datasets/sid321axn/amazon-alexa-reviews) en Kaggle. \n",
        "\n"
      ],
      "metadata": {
        "id": "Bv2Hbhm0lC8r"
      }
    },
    {
      "cell_type": "markdown",
      "source": [
        "## Dataset"
      ],
      "metadata": {
        "id": "m2vZpV7_lkE6"
      }
    },
    {
      "cell_type": "code",
      "source": [
        "from google.colab import drive\n",
        "# mount your google drive\n",
        "drive.mount('/content/drive')\n",
        "PATH = \"/content/drive/My Drive/Colab Notebooks/data/alexa/\""
      ],
      "metadata": {
        "id": "J5Q1u9f3ljUu",
        "colab": {
          "base_uri": "https://localhost:8080/"
        },
        "outputId": "4ef916f5-f2fc-4d6b-f819-93b0d2e8d1c5"
      },
      "execution_count": 1,
      "outputs": [
        {
          "output_type": "stream",
          "name": "stdout",
          "text": [
            "Mounted at /content/drive\n"
          ]
        }
      ]
    },
    {
      "cell_type": "code",
      "source": [
        "import pandas as pd\n",
        "\n",
        "df = pd.read_csv(PATH+\"amazon_alexa.tsv\",  sep='\\t', on_bad_lines='skip') \n",
        "print('dataset cargado:', df.shape)\n",
        "\n",
        "# nos quedamos únicamente con el texto y el campo de rating\n",
        "df = df[['verified_reviews','rating']] \n",
        "# renombramos las columnas\n",
        "df=df.rename(columns={\"verified_reviews\": \"Text\", \"rating\": \"Label\"})\n",
        "df.head()\n"
      ],
      "metadata": {
        "colab": {
          "base_uri": "https://localhost:8080/",
          "height": 224
        },
        "id": "Vy_wu_ahqGPT",
        "outputId": "5d95ceea-d071-4e7a-acec-4c58d8e65487"
      },
      "execution_count": 2,
      "outputs": [
        {
          "output_type": "stream",
          "name": "stdout",
          "text": [
            "dataset cargado: (3150, 5)\n"
          ]
        },
        {
          "output_type": "execute_result",
          "data": {
            "text/plain": [
              "                                                Text  Label\n",
              "0                                      Love my Echo!      5\n",
              "1                                          Loved it!      5\n",
              "2  Sometimes while playing a game, you can answer...      4\n",
              "3  I have had a lot of fun with this thing. My 4 ...      5\n",
              "4                                              Music      5"
            ],
            "text/html": [
              "\n",
              "  <div id=\"df-ab99d87a-157d-4bd9-a72d-d648a5d1580c\">\n",
              "    <div class=\"colab-df-container\">\n",
              "      <div>\n",
              "<style scoped>\n",
              "    .dataframe tbody tr th:only-of-type {\n",
              "        vertical-align: middle;\n",
              "    }\n",
              "\n",
              "    .dataframe tbody tr th {\n",
              "        vertical-align: top;\n",
              "    }\n",
              "\n",
              "    .dataframe thead th {\n",
              "        text-align: right;\n",
              "    }\n",
              "</style>\n",
              "<table border=\"1\" class=\"dataframe\">\n",
              "  <thead>\n",
              "    <tr style=\"text-align: right;\">\n",
              "      <th></th>\n",
              "      <th>Text</th>\n",
              "      <th>Label</th>\n",
              "    </tr>\n",
              "  </thead>\n",
              "  <tbody>\n",
              "    <tr>\n",
              "      <th>0</th>\n",
              "      <td>Love my Echo!</td>\n",
              "      <td>5</td>\n",
              "    </tr>\n",
              "    <tr>\n",
              "      <th>1</th>\n",
              "      <td>Loved it!</td>\n",
              "      <td>5</td>\n",
              "    </tr>\n",
              "    <tr>\n",
              "      <th>2</th>\n",
              "      <td>Sometimes while playing a game, you can answer...</td>\n",
              "      <td>4</td>\n",
              "    </tr>\n",
              "    <tr>\n",
              "      <th>3</th>\n",
              "      <td>I have had a lot of fun with this thing. My 4 ...</td>\n",
              "      <td>5</td>\n",
              "    </tr>\n",
              "    <tr>\n",
              "      <th>4</th>\n",
              "      <td>Music</td>\n",
              "      <td>5</td>\n",
              "    </tr>\n",
              "  </tbody>\n",
              "</table>\n",
              "</div>\n",
              "      <button class=\"colab-df-convert\" onclick=\"convertToInteractive('df-ab99d87a-157d-4bd9-a72d-d648a5d1580c')\"\n",
              "              title=\"Convert this dataframe to an interactive table.\"\n",
              "              style=\"display:none;\">\n",
              "        \n",
              "  <svg xmlns=\"http://www.w3.org/2000/svg\" height=\"24px\"viewBox=\"0 0 24 24\"\n",
              "       width=\"24px\">\n",
              "    <path d=\"M0 0h24v24H0V0z\" fill=\"none\"/>\n",
              "    <path d=\"M18.56 5.44l.94 2.06.94-2.06 2.06-.94-2.06-.94-.94-2.06-.94 2.06-2.06.94zm-11 1L8.5 8.5l.94-2.06 2.06-.94-2.06-.94L8.5 2.5l-.94 2.06-2.06.94zm10 10l.94 2.06.94-2.06 2.06-.94-2.06-.94-.94-2.06-.94 2.06-2.06.94z\"/><path d=\"M17.41 7.96l-1.37-1.37c-.4-.4-.92-.59-1.43-.59-.52 0-1.04.2-1.43.59L10.3 9.45l-7.72 7.72c-.78.78-.78 2.05 0 2.83L4 21.41c.39.39.9.59 1.41.59.51 0 1.02-.2 1.41-.59l7.78-7.78 2.81-2.81c.8-.78.8-2.07 0-2.86zM5.41 20L4 18.59l7.72-7.72 1.47 1.35L5.41 20z\"/>\n",
              "  </svg>\n",
              "      </button>\n",
              "      \n",
              "  <style>\n",
              "    .colab-df-container {\n",
              "      display:flex;\n",
              "      flex-wrap:wrap;\n",
              "      gap: 12px;\n",
              "    }\n",
              "\n",
              "    .colab-df-convert {\n",
              "      background-color: #E8F0FE;\n",
              "      border: none;\n",
              "      border-radius: 50%;\n",
              "      cursor: pointer;\n",
              "      display: none;\n",
              "      fill: #1967D2;\n",
              "      height: 32px;\n",
              "      padding: 0 0 0 0;\n",
              "      width: 32px;\n",
              "    }\n",
              "\n",
              "    .colab-df-convert:hover {\n",
              "      background-color: #E2EBFA;\n",
              "      box-shadow: 0px 1px 2px rgba(60, 64, 67, 0.3), 0px 1px 3px 1px rgba(60, 64, 67, 0.15);\n",
              "      fill: #174EA6;\n",
              "    }\n",
              "\n",
              "    [theme=dark] .colab-df-convert {\n",
              "      background-color: #3B4455;\n",
              "      fill: #D2E3FC;\n",
              "    }\n",
              "\n",
              "    [theme=dark] .colab-df-convert:hover {\n",
              "      background-color: #434B5C;\n",
              "      box-shadow: 0px 1px 3px 1px rgba(0, 0, 0, 0.15);\n",
              "      filter: drop-shadow(0px 1px 2px rgba(0, 0, 0, 0.3));\n",
              "      fill: #FFFFFF;\n",
              "    }\n",
              "  </style>\n",
              "\n",
              "      <script>\n",
              "        const buttonEl =\n",
              "          document.querySelector('#df-ab99d87a-157d-4bd9-a72d-d648a5d1580c button.colab-df-convert');\n",
              "        buttonEl.style.display =\n",
              "          google.colab.kernel.accessAllowed ? 'block' : 'none';\n",
              "\n",
              "        async function convertToInteractive(key) {\n",
              "          const element = document.querySelector('#df-ab99d87a-157d-4bd9-a72d-d648a5d1580c');\n",
              "          const dataTable =\n",
              "            await google.colab.kernel.invokeFunction('convertToInteractive',\n",
              "                                                     [key], {});\n",
              "          if (!dataTable) return;\n",
              "\n",
              "          const docLinkHtml = 'Like what you see? Visit the ' +\n",
              "            '<a target=\"_blank\" href=https://colab.research.google.com/notebooks/data_table.ipynb>data table notebook</a>'\n",
              "            + ' to learn more about interactive tables.';\n",
              "          element.innerHTML = '';\n",
              "          dataTable['output_type'] = 'display_data';\n",
              "          await google.colab.output.renderOutput(dataTable, element);\n",
              "          const docLink = document.createElement('div');\n",
              "          docLink.innerHTML = docLinkHtml;\n",
              "          element.appendChild(docLink);\n",
              "        }\n",
              "      </script>\n",
              "    </div>\n",
              "  </div>\n",
              "  "
            ]
          },
          "metadata": {},
          "execution_count": 2
        }
      ]
    },
    {
      "cell_type": "markdown",
      "source": [
        "### Particiones\n",
        "Creamos 3 particiones: entrenamiento, validación y evaluación final (test), con un ratio de 70:10:20.\n",
        "\n"
      ],
      "metadata": {
        "id": "-oYC7aHhpvp5"
      }
    },
    {
      "cell_type": "code",
      "source": [
        "from sklearn.model_selection import train_test_split\n",
        "X=df['Text']\n",
        "y=df['Label']\n",
        "\n",
        "X_train, X_aux, y_train, y_aux = train_test_split(X, y, \n",
        "        test_size=0.30, random_state=42, stratify=y)\n",
        "\n",
        "X_val, X_test, y_val, y_test = train_test_split(X_aux, y_aux, \n",
        "        test_size=2/3, random_state=42, stratify=y_aux)\n",
        "\n",
        "print('Tamaño conjunto de entrenamiento:', len(X_train))\n",
        "print('Tamaño conjunto de validación:', len(X_val))\n",
        "print('Tamaño conjunto de evaluación:', len(X_test))\n"
      ],
      "metadata": {
        "colab": {
          "base_uri": "https://localhost:8080/"
        },
        "id": "4oh1yk22qE8S",
        "outputId": "42ad9d36-fdb4-476f-8176-9dca5a480e43"
      },
      "execution_count": 3,
      "outputs": [
        {
          "output_type": "stream",
          "name": "stdout",
          "text": [
            "Tamaño conjunto de entrenamiento: 2205\n",
            "Tamaño conjunto de validación: 315\n",
            "Tamaño conjunto de evaluación: 630\n"
          ]
        }
      ]
    },
    {
      "cell_type": "markdown",
      "source": [
        "## Label Encoding\n",
        "\n"
      ],
      "metadata": {
        "id": "kax-dDi4zCu0"
      }
    },
    {
      "cell_type": "code",
      "source": [
        "LABELS = list(set(y_train))\n",
        "print(LABELS)\n",
        "NUM_LABELS = len(LABELS)\n",
        "\n",
        "\n",
        "y_train = y_train.tolist()\n",
        "y_val = y_val.tolist()\n",
        "y_test = y_test.tolist()\n",
        "\n",
        "\n",
        "print(y_train[:10])"
      ],
      "metadata": {
        "colab": {
          "base_uri": "https://localhost:8080/"
        },
        "id": "RIDIbaJa0iu4",
        "outputId": "d747f476-8408-42ca-d1d5-f18cc05aaf34"
      },
      "execution_count": 6,
      "outputs": [
        {
          "output_type": "stream",
          "name": "stdout",
          "text": [
            "[1, 2, 3, 4, 5]\n",
            "[5, 5, 5, 5, 5, 1, 5, 1, 2, 4]\n"
          ]
        }
      ]
    },
    {
      "cell_type": "code",
      "source": [
        "from sklearn.preprocessing import LabelEncoder\n",
        "from keras.utils import to_categorical\n",
        "\n",
        "le = LabelEncoder()\n",
        "\n",
        "print(\"antes de transform: \", y_train[:10])\n",
        "y_train = le.fit_transform(y_train)\n",
        "# las clases pasan de ser 1,2,3,4,5 a 0,1,2,3,4\n",
        "print(\"después de transform:\", y_train[:10])\n",
        "# cada clase se representa como un vector one-hot de dimension 5\n",
        "y_train_cat = to_categorical(y_train)\n",
        "# print(y_train_cat[:10])\n",
        "\n",
        "y_val = le.fit_transform(y_val)\n",
        "y_val_cat = to_categorical(y_val)\n",
        "\n",
        "print(y_test[:10])\n",
        "y_test = le.fit_transform(y_test)\n",
        "print(y_test[:10])\n",
        "\n",
        "y_test_cat = to_categorical(y_test)\n"
      ],
      "metadata": {
        "colab": {
          "base_uri": "https://localhost:8080/"
        },
        "id": "rFq70WwlzHiz",
        "outputId": "1490e252-7485-44d2-f8ca-458417b995e1"
      },
      "execution_count": 7,
      "outputs": [
        {
          "output_type": "stream",
          "name": "stdout",
          "text": [
            "antes de transform:  [5, 5, 5, 5, 5, 1, 5, 1, 2, 4]\n",
            "después de transform: [4 4 4 4 4 0 4 0 1 3]\n",
            "[5, 5, 4, 5, 2, 5, 3, 4, 3, 5]\n",
            "[4 4 3 4 1 4 2 3 2 4]\n"
          ]
        }
      ]
    },
    {
      "cell_type": "markdown",
      "source": [
        "### Tokenización\n",
        "\n",
        "Puedes consultar más información sobre el tokenizador de keras en este [link](#https://www.tensorflow.org/api_docs/python/tf/keras/preprocessing/text/Tokenizer).\n"
      ],
      "metadata": {
        "id": "f9DX56kP3vy6"
      }
    },
    {
      "cell_type": "code",
      "source": [
        "X_train = list(X_train)\n",
        "X_val = list(X_val)\n",
        "X_test = list(X_test)"
      ],
      "metadata": {
        "id": "ldxe3rbQnmYr"
      },
      "execution_count": 8,
      "outputs": []
    },
    {
      "cell_type": "code",
      "source": [
        "from keras.preprocessing.text import Tokenizer\n",
        "\n",
        "tokenizer = Tokenizer(oov_token = True)\n",
        "# entrenamos el tokenizador usando los textos del conjunto de entrenamiento\n",
        "tokenizer.fit_on_texts(X_train)\n",
        "\n",
        "# el índice 0, en principio, no ha sido asignado a ningún token y está reservado\n",
        "# en nuestro caso, lo usamos para representar el token para padding\n",
        "tokenizer.word_index['<PAD>'] = 0\n",
        "\n",
        "NUM_WORDS=len(tokenizer.word_index)\n",
        "print(\"Tamaño del vocabulario ={}\".format(NUM_WORDS))\n"
      ],
      "metadata": {
        "colab": {
          "base_uri": "https://localhost:8080/"
        },
        "id": "zRu03I-A3zWW",
        "outputId": "5055b668-a1cc-45dc-e6de-58b66ef53547"
      },
      "execution_count": 9,
      "outputs": [
        {
          "output_type": "stream",
          "name": "stdout",
          "text": [
            "Tamaño del vocabulario =3740\n"
          ]
        }
      ]
    },
    {
      "cell_type": "markdown",
      "source": [
        "El vocabulario consiste de una lista de las palabras de la colección del texto. Todos los signos de puntuación son eliminados. \n",
        "\n",
        "Vamos a mostrar algunas palabras del vocabulario y su índice.\n",
        "\n"
      ],
      "metadata": {
        "id": "5LPUikCopklB"
      }
    },
    {
      "cell_type": "code",
      "source": [
        "for (word,index) in tokenizer.word_index.items():\n",
        "    print(index,word)\n",
        "    if index==20:\n",
        "        break"
      ],
      "metadata": {
        "colab": {
          "base_uri": "https://localhost:8080/"
        },
        "id": "YSNbwpIkpgDG",
        "outputId": "2eaf2744-36d2-4245-c36b-47d94058a37d"
      },
      "execution_count": 10,
      "outputs": [
        {
          "output_type": "stream",
          "name": "stdout",
          "text": [
            "1 True\n",
            "2 the\n",
            "3 i\n",
            "4 to\n",
            "5 it\n",
            "6 and\n",
            "7 a\n",
            "8 my\n",
            "9 is\n",
            "10 for\n",
            "11 love\n",
            "12 echo\n",
            "13 this\n",
            "14 with\n",
            "15 of\n",
            "16 have\n",
            "17 great\n",
            "18 that\n",
            "19 in\n",
            "20 but\n"
          ]
        }
      ]
    },
    {
      "cell_type": "markdown",
      "source": [
        "El tokenizador nos permite representar los textos como una secuencia de enteros. Es decir cada palabra es reemplazada por su índice en el vocabulario. "
      ],
      "metadata": {
        "id": "K93_hsH6m7WP"
      }
    },
    {
      "cell_type": "code",
      "source": [
        "# Cada texto es transformado en una secuencia de enteros. \n",
        "# En el vocabulario, cada palabra tiene asociado un entero\n",
        "\n",
        "encoded_train = tokenizer.texts_to_sequences(X_train)\n",
        "encoded_val = tokenizer.texts_to_sequences(X_val)\n",
        "encoded_test = tokenizer.texts_to_sequences(X_test)\n",
        "\n",
        "# print(X_train[4])\n",
        "# print(encoded_train[4])\n",
        "for i in range(5):\n",
        "    print(X_train[i])\n",
        "    print(encoded_train[i], \" len:\", len(encoded_train[i]))\n",
        "    print()\n",
        "\n"
      ],
      "metadata": {
        "colab": {
          "base_uri": "https://localhost:8080/"
        },
        "id": "X0XYpnbLm-3F",
        "outputId": "3475456c-9f6b-4f22-8e6d-e8d66463e16b"
      },
      "execution_count": 11,
      "outputs": [
        {
          "output_type": "stream",
          "name": "stdout",
          "text": [
            "Great!!\n",
            "[17]  len: 1\n",
            "\n",
            "Echos are great I have a few of them through out our home .  All in voice range to ask a question. Say a command to turn lights on or off. Or my favorite is play music all though the house.\n",
            "[362, 52, 17, 3, 16, 7, 234, 15, 129, 183, 71, 72, 61, 34, 19, 125, 786, 4, 126, 7, 587, 166, 7, 336, 4, 147, 138, 22, 49, 112, 49, 8, 295, 9, 68, 28, 34, 228, 2, 127]  len: 40\n",
            "\n",
            "Excellent product, mint condition for a refurbished unit - you would never know it's been refurbished!\n",
            "[395, 54, 2167, 723, 10, 7, 186, 348, 24, 63, 282, 134, 60, 141, 186]  len: 15\n",
            "\n",
            "This was just an additional one for my other TV. Loved it so much use it on the regular TV. Easy to set up and fairly easy to navigate. I don’t waste my money on regular TV cable or anything else. This is enough for me as I don’t watch too much TV.\n",
            "[13, 31, 40, 48, 629, 36, 10, 8, 73, 110, 245, 5, 23, 75, 32, 5, 22, 2, 433, 110, 42, 4, 43, 30, 6, 787, 42, 4, 1275, 3, 241, 724, 8, 273, 22, 433, 110, 414, 49, 255, 305, 13, 9, 260, 10, 44, 26, 3, 241, 213, 159, 75, 110]  len: 53\n",
            "\n",
            "Well-made product.Echo Spot - White\n",
            "[90, 220, 54, 12, 144, 380]  len: 6\n",
            "\n"
          ]
        }
      ]
    },
    {
      "cell_type": "markdown",
      "source": [
        "Podemos ver que cada secuencia tiene un tamaño distinto. Nuestro modelo necesita que todas las secuencias tengan la misma longitud. ¿Cómo podemos estimar la longitud más apropiadas?\n",
        "\n",
        "Sabemos que la secuencia más larga es de 526 tokens, sin embargo, vemos que el 99% de las oraciones tienen menos de 170 tokens y el 90% tienen menos de 60 tokens. Por tanto, si elegimos 526 como el tamaño de la secuencia, estaríamos desperdiciando mucha memoria (el tamaño medio es solo de 26 tokens).\n",
        "\n"
      ],
      "metadata": {
        "id": "7fxZKhepticW"
      }
    },
    {
      "cell_type": "code",
      "source": [
        "length_train.describe(percentiles=[0.25, 0.50, 0.75, 0.90, 0.95, 0.99])\n"
      ],
      "metadata": {
        "colab": {
          "base_uri": "https://localhost:8080/"
        },
        "id": "OOnCuD8jt0xV",
        "outputId": "46dae75c-d660-43f1-d9b0-96a50ad098c3"
      },
      "execution_count": 12,
      "outputs": [
        {
          "output_type": "execute_result",
          "data": {
            "text/plain": [
              "count    2205.000000\n",
              "mean       26.170522\n",
              "std        36.618675\n",
              "min         0.000000\n",
              "25%         6.000000\n",
              "50%        15.000000\n",
              "75%        32.000000\n",
              "90%        60.000000\n",
              "95%        86.800000\n",
              "99%       171.000000\n",
              "max       526.000000\n",
              "Name: Text, dtype: float64"
            ]
          },
          "metadata": {},
          "execution_count": 12
        }
      ]
    },
    {
      "cell_type": "markdown",
      "source": [
        "\n",
        "Vamos a considerar el tamaño máximo como 60 tokens. Se aplicará padding (añadir el token espacial <pad>) a las oraciones con una longitud menor de 60 tokens. Por el contrario, si la oración tiene una longitud mayor, será truncada. Se puede elegir si el padding (o el trunking) es aplicado al principio o final de la oración. Por defecto, siempre se añade el padding y se realiza el trunking al principio de la oración. "
      ],
      "metadata": {
        "id": "2OtYa0FZvEAP"
      }
    },
    {
      "cell_type": "code",
      "source": [
        "MAX_LEN=60"
      ],
      "metadata": {
        "id": "DI3zOLdYvGgj"
      },
      "execution_count": 13,
      "outputs": []
    },
    {
      "cell_type": "markdown",
      "source": [
        "Aplicamos el método pad_sequences que se encargará tanto del padding como del recortar las oraciones con una longitud mayor a 60 tokens. Hemos decidido aplicare el padding al final de la oración (post). No decimos nada respecto al truncating, por tanto, las oraciones con una longitud mayor a 60 serán recortadas en el principio (por defecto). "
      ],
      "metadata": {
        "id": "MMQvPbPvvPCe"
      }
    },
    {
      "cell_type": "code",
      "source": [
        "from keras.utils import pad_sequences \n",
        "\n",
        "encoded_train = pad_sequences(encoded_train, maxlen = MAX_LEN, padding='post')\n",
        "encoded_val = pad_sequences(encoded_val, maxlen = MAX_LEN, padding='post')\n",
        "encoded_test = pad_sequences(encoded_test, maxlen = MAX_LEN, padding='post')"
      ],
      "metadata": {
        "id": "OWO6Z1dvvLRb"
      },
      "execution_count": 14,
      "outputs": []
    },
    {
      "cell_type": "code",
      "source": [
        "for i in range(3):\n",
        "    print(X_train[i])\n",
        "    print(encoded_train[i], \" len:\", len(encoded_train[i]))\n",
        "    print()"
      ],
      "metadata": {
        "colab": {
          "base_uri": "https://localhost:8080/"
        },
        "id": "TU1LxSaDwFl5",
        "outputId": "1a32b854-1637-443f-faec-4779b3990601"
      },
      "execution_count": 15,
      "outputs": [
        {
          "output_type": "stream",
          "name": "stdout",
          "text": [
            "Great!!\n",
            "[17  0  0  0  0  0  0  0  0  0  0  0  0  0  0  0  0  0  0  0  0  0  0  0\n",
            "  0  0  0  0  0  0  0  0  0  0  0  0  0  0  0  0  0  0  0  0  0  0  0  0\n",
            "  0  0  0  0  0  0  0  0  0  0  0  0]  len: 60\n",
            "\n",
            "Echos are great I have a few of them through out our home .  All in voice range to ask a question. Say a command to turn lights on or off. Or my favorite is play music all though the house.\n",
            "[362  52  17   3  16   7 234  15 129 183  71  72  61  34  19 125 786   4\n",
            " 126   7 587 166   7 336   4 147 138  22  49 112  49   8 295   9  68  28\n",
            "  34 228   2 127   0   0   0   0   0   0   0   0   0   0   0   0   0   0\n",
            "   0   0   0   0   0   0]  len: 60\n",
            "\n",
            "Excellent product, mint condition for a refurbished unit - you would never know it's been refurbished!\n",
            "[ 395   54 2167  723   10    7  186  348   24   63  282  134   60  141\n",
            "  186    0    0    0    0    0    0    0    0    0    0    0    0    0\n",
            "    0    0    0    0    0    0    0    0    0    0    0    0    0    0\n",
            "    0    0    0    0    0    0    0    0    0    0    0    0    0    0\n",
            "    0    0    0    0]  len: 60\n",
            "\n"
          ]
        }
      ]
    },
    {
      "cell_type": "markdown",
      "source": [
        "## CNN"
      ],
      "metadata": {
        "id": "nuON_vKf33Sv"
      }
    },
    {
      "cell_type": "code",
      "source": [
        "import tensorflow as tf \n",
        "tf.__version__"
      ],
      "metadata": {
        "colab": {
          "base_uri": "https://localhost:8080/",
          "height": 35
        },
        "id": "ZDs1NatL4UeE",
        "outputId": "16cddf90-f813-4d67-ea06-76e9dce875bd"
      },
      "execution_count": 16,
      "outputs": [
        {
          "output_type": "execute_result",
          "data": {
            "text/plain": [
              "'2.11.0'"
            ],
            "application/vnd.google.colaboratory.intrinsic+json": {
              "type": "string"
            }
          },
          "metadata": {},
          "execution_count": 16
        }
      ]
    },
    {
      "cell_type": "code",
      "source": [
        "from keras.models import Sequential\n",
        "from keras.layers import Flatten, Dense, Embedding, Conv1D, MaxPooling1D\n",
        "\n",
        "EMBEDDING_SIZE=200\n",
        "model = Sequential()\n",
        "\n",
        "model.add(Embedding(NUM_WORDS, EMBEDDING_SIZE, input_length=MAX_LEN))\n",
        "model.add(Conv1D(filters=128, kernel_size=4, padding='same', activation='relu'))\n",
        "model.add(MaxPooling1D(pool_size=2))\n",
        "\n",
        "model.add(Conv1D(filters=64, kernel_size=3, padding='same', activation='relu'))\n",
        "model.add(MaxPooling1D(pool_size=2))\n",
        "\n",
        "model.add(Conv1D(filters=32, kernel_size=2, padding='same', activation='relu'))\n",
        "model.add(MaxPooling1D(pool_size=2))\n",
        "\n",
        "model.add(Flatten())\n",
        "model.add(Dense(256, activation='relu'))\n",
        "model.add(Dense(NUM_LABELS, activation='softmax'))\n",
        "model.compile(loss='categorical_crossentropy', optimizer='adam', metrics=['accuracy'])\n",
        "\n",
        "model.summary()"
      ],
      "metadata": {
        "colab": {
          "base_uri": "https://localhost:8080/"
        },
        "id": "OhEa91px35ui",
        "outputId": "07a14cd7-3553-4bab-9d03-6b44a0d68f96"
      },
      "execution_count": 17,
      "outputs": [
        {
          "output_type": "stream",
          "name": "stdout",
          "text": [
            "Model: \"sequential\"\n",
            "_________________________________________________________________\n",
            " Layer (type)                Output Shape              Param #   \n",
            "=================================================================\n",
            " embedding (Embedding)       (None, 60, 200)           748000    \n",
            "                                                                 \n",
            " conv1d (Conv1D)             (None, 60, 128)           102528    \n",
            "                                                                 \n",
            " max_pooling1d (MaxPooling1D  (None, 30, 128)          0         \n",
            " )                                                               \n",
            "                                                                 \n",
            " conv1d_1 (Conv1D)           (None, 30, 64)            24640     \n",
            "                                                                 \n",
            " max_pooling1d_1 (MaxPooling  (None, 15, 64)           0         \n",
            " 1D)                                                             \n",
            "                                                                 \n",
            " conv1d_2 (Conv1D)           (None, 15, 32)            4128      \n",
            "                                                                 \n",
            " max_pooling1d_2 (MaxPooling  (None, 7, 32)            0         \n",
            " 1D)                                                             \n",
            "                                                                 \n",
            " flatten (Flatten)           (None, 224)               0         \n",
            "                                                                 \n",
            " dense (Dense)               (None, 256)               57600     \n",
            "                                                                 \n",
            " dense_1 (Dense)             (None, 5)                 1285      \n",
            "                                                                 \n",
            "=================================================================\n",
            "Total params: 938,181\n",
            "Trainable params: 938,181\n",
            "Non-trainable params: 0\n",
            "_________________________________________________________________\n"
          ]
        }
      ]
    },
    {
      "cell_type": "code",
      "source": [
        "from keras.callbacks import ModelCheckpoint, EarlyStopping\n",
        "# Save the model after every epoch.\n",
        "# saveBestModel = ModelCheckpoint(root+'CNNbest.hdf5', monitor='val_acc', verbose=0, save_best_only=True, save_weights_only=False, mode='auto', period=1)\n",
        "\n",
        "# Stop training when a monitored quantity has stopped improving.\n",
        "earlyStopping = EarlyStopping(monitor='val_loss', min_delta=0, patience=3, verbose=0, mode='auto')\n"
      ],
      "metadata": {
        "id": "rZxSOzOXx6qo"
      },
      "execution_count": 18,
      "outputs": []
    },
    {
      "cell_type": "markdown",
      "source": [
        "### Training"
      ],
      "metadata": {
        "id": "4UXEpbyx6E4j"
      }
    },
    {
      "cell_type": "code",
      "source": [
        "# Entrenamos el modelo\n",
        "epochs = 20 # número de veces que pasamos sobre el conjunto de aprendizaje\n",
        "\n",
        "#número de ejemplos que procesamos antes de acutalizar los pesos\n",
        "# El tamaño del conjunto aprendizaje es 2205, 2205/16 = 138. \n",
        "# En cada epoch, entrenamos 138 veces y actualizamos\n",
        "batch_size = 16 \n",
        "\n",
        "# training\n",
        "history=model.fit(encoded_train, y_train_cat, batch_size=batch_size, epochs=epochs, validation_data=(encoded_val, y_val_cat), callbacks=[earlyStopping])\n",
        "# history=model.fit(encoded_train, y_train_cat, batch_size=batch_size, epochs=epochs, validation_data=(encoded_val, y_val_cat))\n"
      ],
      "metadata": {
        "colab": {
          "base_uri": "https://localhost:8080/"
        },
        "id": "dVBSB6zEx-D3",
        "outputId": "439ba8a6-a1a2-4941-ac17-cd4a3d172373"
      },
      "execution_count": 19,
      "outputs": [
        {
          "output_type": "stream",
          "name": "stdout",
          "text": [
            "Epoch 1/20\n",
            "138/138 [==============================] - 29s 121ms/step - loss: 0.9066 - accuracy: 0.7211 - val_loss: 0.8206 - val_accuracy: 0.7270\n",
            "Epoch 2/20\n",
            "138/138 [==============================] - 7s 50ms/step - loss: 0.6788 - accuracy: 0.7519 - val_loss: 0.8100 - val_accuracy: 0.7460\n",
            "Epoch 3/20\n",
            "138/138 [==============================] - 5s 36ms/step - loss: 0.5013 - accuracy: 0.8082 - val_loss: 0.7864 - val_accuracy: 0.6921\n",
            "Epoch 4/20\n",
            "138/138 [==============================] - 4s 33ms/step - loss: 0.3903 - accuracy: 0.8422 - val_loss: 0.7987 - val_accuracy: 0.7238\n",
            "Epoch 5/20\n",
            "138/138 [==============================] - 2s 16ms/step - loss: 0.3078 - accuracy: 0.8812 - val_loss: 1.0308 - val_accuracy: 0.7397\n",
            "Epoch 6/20\n",
            "138/138 [==============================] - 2s 17ms/step - loss: 0.2055 - accuracy: 0.9175 - val_loss: 1.0505 - val_accuracy: 0.7492\n",
            "Epoch 7/20\n",
            "138/138 [==============================] - 2s 13ms/step - loss: 0.1414 - accuracy: 0.9478 - val_loss: 1.3141 - val_accuracy: 0.7683\n",
            "Epoch 8/20\n",
            "138/138 [==============================] - 2s 14ms/step - loss: 0.1074 - accuracy: 0.9624 - val_loss: 1.6319 - val_accuracy: 0.7429\n",
            "Epoch 9/20\n",
            "138/138 [==============================] - 1s 11ms/step - loss: 0.0954 - accuracy: 0.9651 - val_loss: 1.7336 - val_accuracy: 0.7778\n",
            "Epoch 10/20\n",
            "138/138 [==============================] - 2s 13ms/step - loss: 0.0922 - accuracy: 0.9701 - val_loss: 1.6524 - val_accuracy: 0.7841\n",
            "Epoch 11/20\n",
            "138/138 [==============================] - 2s 12ms/step - loss: 0.0791 - accuracy: 0.9723 - val_loss: 1.5100 - val_accuracy: 0.7587\n",
            "Epoch 12/20\n",
            "138/138 [==============================] - 1s 6ms/step - loss: 0.0691 - accuracy: 0.9773 - val_loss: 1.8293 - val_accuracy: 0.7968\n",
            "Epoch 13/20\n",
            "138/138 [==============================] - 2s 11ms/step - loss: 0.0575 - accuracy: 0.9805 - val_loss: 1.6403 - val_accuracy: 0.7714\n",
            "Epoch 14/20\n",
            "138/138 [==============================] - 1s 10ms/step - loss: 0.0583 - accuracy: 0.9832 - val_loss: 2.0404 - val_accuracy: 0.7778\n",
            "Epoch 15/20\n",
            "138/138 [==============================] - 1s 6ms/step - loss: 0.0558 - accuracy: 0.9800 - val_loss: 1.9092 - val_accuracy: 0.7714\n",
            "Epoch 16/20\n",
            "138/138 [==============================] - 1s 6ms/step - loss: 0.0748 - accuracy: 0.9751 - val_loss: 1.7482 - val_accuracy: 0.7746\n",
            "Epoch 17/20\n",
            "138/138 [==============================] - 2s 11ms/step - loss: 0.0765 - accuracy: 0.9751 - val_loss: 1.5310 - val_accuracy: 0.7810\n",
            "Epoch 18/20\n",
            "138/138 [==============================] - 2s 9ms/step - loss: 0.0646 - accuracy: 0.9778 - val_loss: 1.8747 - val_accuracy: 0.7810\n",
            "Epoch 19/20\n",
            "138/138 [==============================] - 2s 13ms/step - loss: 0.0492 - accuracy: 0.9832 - val_loss: 1.7981 - val_accuracy: 0.7746\n",
            "Epoch 20/20\n",
            "138/138 [==============================] - 1s 8ms/step - loss: 0.0483 - accuracy: 0.9823 - val_loss: 1.7886 - val_accuracy: 0.7841\n"
          ]
        }
      ]
    },
    {
      "cell_type": "markdown",
      "source": [
        "### Curvas de aprendizaje\n",
        "\n",
        "En las curva de aprenzije, el modelo es evaluado en el conjunto de entrenamiento para saber cómo de bien el modelo es capaz de aprender.\n",
        "Además, el modelo también se evalúa en el conjunto de validación para saber cómo de bien el modelo es capaz de generalizar. "
      ],
      "metadata": {
        "id": "g1oe7nof6k4r"
      }
    },
    {
      "cell_type": "code",
      "source": [
        "import matplotlib.pyplot as plt\n",
        "\n",
        "history_dict = history.history\n",
        "loss_values = history_dict['loss']\n",
        "val_loss_values = history_dict['val_loss']\n",
        "accuracy = history_dict['accuracy']\n",
        "val_accuracy = history_dict['val_accuracy']\n",
        " \n",
        "epochs = range(1, len(loss_values) + 1)\n",
        "fig, ax = plt.subplots(1, 2, figsize=(14, 6))\n",
        "#\n",
        "# Plot the model accuracy vs Epochs\n",
        "#\n",
        "ax[0].plot(epochs, accuracy, 'b', label='Training accuracy')\n",
        "ax[0].plot(epochs, val_accuracy, 'red', label='Validation accuracy')\n",
        "ax[0].set_title('Training & Validation Accuracy', fontsize=16)\n",
        "ax[0].set_xlabel('Epochs', fontsize=16)\n",
        "ax[0].set_ylabel('Accuracy', fontsize=16)\n",
        "ax[0].legend()\n",
        "#\n",
        "# Plot the loss vs Epochs\n",
        "#\n",
        "ax[1].plot(epochs, loss_values, 'b', label='Training loss')\n",
        "ax[1].plot(epochs, val_loss_values, 'red', label='Validation loss')\n",
        "ax[1].set_title('Training & Validation Loss', fontsize=16)\n",
        "ax[1].set_xlabel('Epochs', fontsize=16)\n",
        "ax[1].set_ylabel('Loss', fontsize=16)\n",
        "ax[1].legend()"
      ],
      "metadata": {
        "colab": {
          "base_uri": "https://localhost:8080/",
          "height": 329
        },
        "id": "gfzskPP0NgVI",
        "outputId": "02859abe-5107-479e-c99a-e48547d6f4ad"
      },
      "execution_count": 25,
      "outputs": [
        {
          "output_type": "execute_result",
          "data": {
            "text/plain": [
              "<matplotlib.legend.Legend at 0x7f7c28478190>"
            ]
          },
          "metadata": {},
          "execution_count": 25
        },
        {
          "output_type": "display_data",
          "data": {
            "text/plain": [
              "<Figure size 1008x432 with 2 Axes>"
            ],
            "image/png": "[encoded data removed]"
          },
          "metadata": {
            "needs_background": "light"
          }
        }
      ]
    },
    {
      "cell_type": "markdown",
      "source": [
        "### Evaluación"
      ],
      "metadata": {
        "id": "hzLMS4LrW6nV"
      }
    },
    {
      "cell_type": "code",
      "source": [
        "loss, accuracy = model.evaluate(encoded_test, y_test_cat, batch_size=batch_size)\n",
        "# El tamaño del conjunto test es de 630\n",
        "# SE evalua en batch de 16: 630 / 16 = 40 veces"
      ],
      "metadata": {
        "id": "xgujBhDRVtcj",
        "colab": {
          "base_uri": "https://localhost:8080/"
        },
        "outputId": "03f6d7d4-2e9e-42c5-b3aa-35e9053c357d"
      },
      "execution_count": 21,
      "outputs": [
        {
          "output_type": "stream",
          "name": "stdout",
          "text": [
            "40/40 [==============================] - 0s 5ms/step - loss: 1.7922 - accuracy: 0.7889\n"
          ]
        }
      ]
    },
    {
      "cell_type": "markdown",
      "source": [
        "También podemos hacer la evaluación usando las función **classification_report** que nos dará más información sobre los resultados para cada clase:"
      ],
      "metadata": {
        "id": "medL15Ia6XEw"
      }
    },
    {
      "cell_type": "code",
      "source": [
        "import numpy as np\n",
        "from sklearn.metrics import accuracy_score, classification_report \n",
        "\n",
        "y_pred = np.argmax(model.predict(encoded_test), axis=1)\n",
        "print(y_pred[0:10])\n",
        "print('accuracy:', accuracy_score(y_test, y_pred))\n",
        "\n",
        "print(classification_report(y_test, y_pred, target_names=['1','2','3','4','5']))"
      ],
      "metadata": {
        "colab": {
          "base_uri": "https://localhost:8080/"
        },
        "id": "tAWiguYs1W6D",
        "outputId": "621858c2-e0e6-4490-92ec-1f6ffac4e3db"
      },
      "execution_count": 22,
      "outputs": [
        {
          "output_type": "stream",
          "name": "stdout",
          "text": [
            "20/20 [==============================] - 0s 6ms/step\n",
            "[3 4 3 4 2 4 2 3 2 4]\n",
            "accuracy: 0.7888888888888889\n",
            "              precision    recall  f1-score   support\n",
            "\n",
            "           1       0.60      0.28      0.38        32\n",
            "           2       0.78      0.37      0.50        19\n",
            "           3       0.57      0.52      0.54        31\n",
            "           4       0.48      0.56      0.52        91\n",
            "           5       0.88      0.91      0.89       457\n",
            "\n",
            "    accuracy                           0.79       630\n",
            "   macro avg       0.66      0.53      0.57       630\n",
            "weighted avg       0.79      0.79      0.78       630\n",
            "\n"
          ]
        }
      ]
    },
    {
      "cell_type": "code",
      "source": [
        "from sklearn.metrics import confusion_matrix, ConfusionMatrixDisplay\n",
        "cm = confusion_matrix(y_test, y_pred)\n",
        "print(cm)"
      ],
      "metadata": {
        "colab": {
          "base_uri": "https://localhost:8080/"
        },
        "id": "XLcZQBK4Rdy-",
        "outputId": "05ec0a5f-9dd9-4fcd-a2ec-6aedb90c4090"
      },
      "execution_count": 23,
      "outputs": [
        {
          "output_type": "stream",
          "name": "stdout",
          "text": [
            "[[  9   0   1  14   8]\n",
            " [  1   7   3   2   6]\n",
            " [  3   0  16   4   8]\n",
            " [  2   0   3  51  35]\n",
            " [  0   2   5  36 414]]\n"
          ]
        }
      ]
    },
    {
      "cell_type": "code",
      "source": [
        "\n",
        "disp = ConfusionMatrixDisplay(confusion_matrix=cm,\n",
        "                              display_labels=['1','2','3','4','5'])\n",
        "disp.plot(cmap=plt.cm.Blues,values_format='g')\n"
      ],
      "metadata": {
        "colab": {
          "base_uri": "https://localhost:8080/",
          "height": 315
        },
        "id": "JwWhsYzYSqBD",
        "outputId": "0d976a25-2e6b-4b19-94b1-b1bccdb2f74e"
      },
      "execution_count": 24,
      "outputs": [
        {
          "output_type": "execute_result",
          "data": {
            "text/plain": [
              "<sklearn.metrics._plot.confusion_matrix.ConfusionMatrixDisplay at 0x7f7c285b2af0>"
            ]
          },
          "metadata": {},
          "execution_count": 24
        },
        {
          "output_type": "display_data",
          "data": {
            "text/plain": [
              "<Figure size 432x288 with 2 Axes>"
            ],
            "image/png": "[encoded data removed]"
          },
          "metadata": {
            "needs_background": "light"
          }
        }
      ]
    }
  ]
}
