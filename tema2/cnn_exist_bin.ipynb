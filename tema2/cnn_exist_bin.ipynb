{
  "nbformat": 4,
  "nbformat_minor": 0,
  "metadata": {
    "colab": {
      "provenance": [],
      "toc_visible": true
    },
    "kernelspec": {
      "name": "python3",
      "display_name": "Python 3"
    },
    "language_info": {
      "name": "python"
    },
    "accelerator": "GPU",
    "gpuClass": "standard"
  },
  "cells": [
    {
      "cell_type": "markdown",
      "source": [
        "<center>\n",
        "<img src=\"https://upload.wikimedia.org/wikipedia/commons/4/47/Acronimo_y_nombre_uc3m.png\"/>\n",
        "\n",
        "<img src=\"https://mirrors.creativecommons.org/presskit/buttons/88x31/png/by-nc-sa.png\" width=15%/>\n",
        "</center>    "
      ],
      "metadata": {
        "id": "aQr9dRLTmI_u"
      }
    },
    {
      "cell_type": "markdown",
      "source": [
        "# Detección de mensajes sexistas con CNN\n",
        "\n",
        "En este notebook, vamos a trabajar con el dataset de la competición [EXIST 2021](#http://nlp.uned.es/exist2021/) cuyo objetivo es la identificación de mensajes sexitas en las redes sociales. \n",
        "\n",
        "Este dataset ha sido anotado para las siguientes tareas:\n",
        "\n",
        "- 1) Clasificación binaria: cada texto es clasificado como un texto con contenido sexista (sexist) o no sexista (non-sexist).\n",
        "- 2) Una vez que se han clasificado los mensajes sexistas, la segunda tarea es determimar el tipo de sexismo. En particular, se proponen cinco clases: Una vez que un mensaje ha sido catalogado como sexista, la segunda tarea tiene como objetivo categorizar el mensaje según el tipo de sexismo (según la categorización propuesta por expertos y que tiene en cuenta las diferentes facetas de la mujer que se desvirtúan). En particular, proponemos una tarea de cinco clasificaciones:IDEOLOGICAL AND INEQUALITY, STEREOTYPING AND DOMINANCE, OBJECTIFICATION, SEXUAL VIOLENCE, MISOGYNY AND NON-SEXUAL VIOLENCE. Para ver una descripción más detallada de estas clases, visitar este [link](#http://nlp.uned.es/exist2021/).\n",
        "\n",
        "En este notebook, nos centraremos únicamente en la primera tarea que consiste en una clasificación binaria de los textos. \n",
        "\n",
        "El datase debe solicitarse a los organizadores de la competición: jcalbornoz@lsi.uned.es, frodriguez.sanchez@invi.uned.es or lplaza@lsi.uned.es \n",
        "\n",
        "- The dataset should only be used for scientific or research purposes. Any other use is explicitly prohibited.\n",
        "- The datasets must not be redistributed or shared in part or full to any third party. Redirect interested parties to this website.\n",
        "- All data released for these tasks are under the CC BY-SA 4.0 License (https://creativecommons.org/licenses/by-sa/4.0/legalcode).\n",
        "- Data must not be used for providing surveillance, analyses or research that isolates a group of individuals or any single individual for any unlawful or discriminatory purpose.\n",
        "\n",
        "\n"
      ],
      "metadata": {
        "id": "Bv2Hbhm0lC8r"
      }
    },
    {
      "cell_type": "markdown",
      "source": [
        "## Dataset"
      ],
      "metadata": {
        "id": "m2vZpV7_lkE6"
      }
    },
    {
      "cell_type": "code",
      "source": [
        "from google.colab import drive\n",
        "# mount your google drive\n",
        "drive.mount('/content/drive')\n",
        "PATH = \"/content/drive/My Drive/Colab Notebooks/data/exist2022/\"\n",
        "\n",
        "import pandas as pd\n",
        "\n",
        "df_train = pd.read_csv(PATH+\"EXIST2021_training.tsv\",  sep='\\t') \n",
        "df_test = pd.read_csv(PATH+\"EXIST2021_test.tsv\",  sep='\\t') \n",
        "\n",
        "print('tamaño training:', df_train.shape)\n",
        "print('tamaño test:', df_test.shape)\n",
        "\n",
        "df_train.head()"
      ],
      "metadata": {
        "id": "J5Q1u9f3ljUu",
        "colab": {
          "base_uri": "https://localhost:8080/",
          "height": 322
        },
        "outputId": "9ec47402-a9b9-4c03-9670-cb5fe77e0e8a"
      },
      "execution_count": 8,
      "outputs": [
        {
          "output_type": "stream",
          "name": "stdout",
          "text": [
            "Drive already mounted at /content/drive; to attempt to forcibly remount, call drive.mount(\"/content/drive\", force_remount=True).\n",
            "tamaño training: (6977, 7)\n",
            "tamaño test: (4368, 7)\n"
          ]
        },
        {
          "output_type": "execute_result",
          "data": {
            "text/plain": [
              "   test_case  id   source language  \\\n",
              "0  EXIST2021   1  twitter       en   \n",
              "1  EXIST2021   2  twitter       en   \n",
              "2  EXIST2021   3  twitter       en   \n",
              "3  EXIST2021   4  twitter       en   \n",
              "4  EXIST2021   5  twitter       en   \n",
              "\n",
              "                                                text       task1  \\\n",
              "0  She calls herself \"anti-feminazi\" how about sh...      sexist   \n",
              "1  Now, back to these women, the brave and the be...  non-sexist   \n",
              "2  @CurvyBandida @Xalynne_B Wow, your skirt is ve...      sexist   \n",
              "3  @AurelieGuiboud Incredible!  Beautiful!But I l...  non-sexist   \n",
              "4  i find it extremely hard to believe that kelly...  non-sexist   \n",
              "\n",
              "                    task2  \n",
              "0  ideological-inequality  \n",
              "1              non-sexist  \n",
              "2         objectification  \n",
              "3              non-sexist  \n",
              "4              non-sexist  "
            ],
            "text/html": [
              "\n",
              "  <div id=\"df-b460f6cb-3acd-41ce-9d66-0cb1e678d462\">\n",
              "    <div class=\"colab-df-container\">\n",
              "      <div>\n",
              "<style scoped>\n",
              "    .dataframe tbody tr th:only-of-type {\n",
              "        vertical-align: middle;\n",
              "    }\n",
              "\n",
              "    .dataframe tbody tr th {\n",
              "        vertical-align: top;\n",
              "    }\n",
              "\n",
              "    .dataframe thead th {\n",
              "        text-align: right;\n",
              "    }\n",
              "</style>\n",
              "<table border=\"1\" class=\"dataframe\">\n",
              "  <thead>\n",
              "    <tr style=\"text-align: right;\">\n",
              "      <th></th>\n",
              "      <th>test_case</th>\n",
              "      <th>id</th>\n",
              "      <th>source</th>\n",
              "      <th>language</th>\n",
              "      <th>text</th>\n",
              "      <th>task1</th>\n",
              "      <th>task2</th>\n",
              "    </tr>\n",
              "  </thead>\n",
              "  <tbody>\n",
              "    <tr>\n",
              "      <th>0</th>\n",
              "      <td>EXIST2021</td>\n",
              "      <td>1</td>\n",
              "      <td>twitter</td>\n",
              "      <td>en</td>\n",
              "      <td>She calls herself \"anti-feminazi\" how about sh...</td>\n",
              "      <td>sexist</td>\n",
              "      <td>ideological-inequality</td>\n",
              "    </tr>\n",
              "    <tr>\n",
              "      <th>1</th>\n",
              "      <td>EXIST2021</td>\n",
              "      <td>2</td>\n",
              "      <td>twitter</td>\n",
              "      <td>en</td>\n",
              "      <td>Now, back to these women, the brave and the be...</td>\n",
              "      <td>non-sexist</td>\n",
              "      <td>non-sexist</td>\n",
              "    </tr>\n",
              "    <tr>\n",
              "      <th>2</th>\n",
              "      <td>EXIST2021</td>\n",
              "      <td>3</td>\n",
              "      <td>twitter</td>\n",
              "      <td>en</td>\n",
              "      <td>@CurvyBandida @Xalynne_B Wow, your skirt is ve...</td>\n",
              "      <td>sexist</td>\n",
              "      <td>objectification</td>\n",
              "    </tr>\n",
              "    <tr>\n",
              "      <th>3</th>\n",
              "      <td>EXIST2021</td>\n",
              "      <td>4</td>\n",
              "      <td>twitter</td>\n",
              "      <td>en</td>\n",
              "      <td>@AurelieGuiboud Incredible!  Beautiful!But I l...</td>\n",
              "      <td>non-sexist</td>\n",
              "      <td>non-sexist</td>\n",
              "    </tr>\n",
              "    <tr>\n",
              "      <th>4</th>\n",
              "      <td>EXIST2021</td>\n",
              "      <td>5</td>\n",
              "      <td>twitter</td>\n",
              "      <td>en</td>\n",
              "      <td>i find it extremely hard to believe that kelly...</td>\n",
              "      <td>non-sexist</td>\n",
              "      <td>non-sexist</td>\n",
              "    </tr>\n",
              "  </tbody>\n",
              "</table>\n",
              "</div>\n",
              "      <button class=\"colab-df-convert\" onclick=\"convertToInteractive('df-b460f6cb-3acd-41ce-9d66-0cb1e678d462')\"\n",
              "              title=\"Convert this dataframe to an interactive table.\"\n",
              "              style=\"display:none;\">\n",
              "        \n",
              "  <svg xmlns=\"http://www.w3.org/2000/svg\" height=\"24px\"viewBox=\"0 0 24 24\"\n",
              "       width=\"24px\">\n",
              "    <path d=\"M0 0h24v24H0V0z\" fill=\"none\"/>\n",
              "    <path d=\"M18.56 5.44l.94 2.06.94-2.06 2.06-.94-2.06-.94-.94-2.06-.94 2.06-2.06.94zm-11 1L8.5 8.5l.94-2.06 2.06-.94-2.06-.94L8.5 2.5l-.94 2.06-2.06.94zm10 10l.94 2.06.94-2.06 2.06-.94-2.06-.94-.94-2.06-.94 2.06-2.06.94z\"/><path d=\"M17.41 7.96l-1.37-1.37c-.4-.4-.92-.59-1.43-.59-.52 0-1.04.2-1.43.59L10.3 9.45l-7.72 7.72c-.78.78-.78 2.05 0 2.83L4 21.41c.39.39.9.59 1.41.59.51 0 1.02-.2 1.41-.59l7.78-7.78 2.81-2.81c.8-.78.8-2.07 0-2.86zM5.41 20L4 18.59l7.72-7.72 1.47 1.35L5.41 20z\"/>\n",
              "  </svg>\n",
              "      </button>\n",
              "      \n",
              "  <style>\n",
              "    .colab-df-container {\n",
              "      display:flex;\n",
              "      flex-wrap:wrap;\n",
              "      gap: 12px;\n",
              "    }\n",
              "\n",
              "    .colab-df-convert {\n",
              "      background-color: #E8F0FE;\n",
              "      border: none;\n",
              "      border-radius: 50%;\n",
              "      cursor: pointer;\n",
              "      display: none;\n",
              "      fill: #1967D2;\n",
              "      height: 32px;\n",
              "      padding: 0 0 0 0;\n",
              "      width: 32px;\n",
              "    }\n",
              "\n",
              "    .colab-df-convert:hover {\n",
              "      background-color: #E2EBFA;\n",
              "      box-shadow: 0px 1px 2px rgba(60, 64, 67, 0.3), 0px 1px 3px 1px rgba(60, 64, 67, 0.15);\n",
              "      fill: #174EA6;\n",
              "    }\n",
              "\n",
              "    [theme=dark] .colab-df-convert {\n",
              "      background-color: #3B4455;\n",
              "      fill: #D2E3FC;\n",
              "    }\n",
              "\n",
              "    [theme=dark] .colab-df-convert:hover {\n",
              "      background-color: #434B5C;\n",
              "      box-shadow: 0px 1px 3px 1px rgba(0, 0, 0, 0.15);\n",
              "      filter: drop-shadow(0px 1px 2px rgba(0, 0, 0, 0.3));\n",
              "      fill: #FFFFFF;\n",
              "    }\n",
              "  </style>\n",
              "\n",
              "      <script>\n",
              "        const buttonEl =\n",
              "          document.querySelector('#df-b460f6cb-3acd-41ce-9d66-0cb1e678d462 button.colab-df-convert');\n",
              "        buttonEl.style.display =\n",
              "          google.colab.kernel.accessAllowed ? 'block' : 'none';\n",
              "\n",
              "        async function convertToInteractive(key) {\n",
              "          const element = document.querySelector('#df-b460f6cb-3acd-41ce-9d66-0cb1e678d462');\n",
              "          const dataTable =\n",
              "            await google.colab.kernel.invokeFunction('convertToInteractive',\n",
              "                                                     [key], {});\n",
              "          if (!dataTable) return;\n",
              "\n",
              "          const docLinkHtml = 'Like what you see? Visit the ' +\n",
              "            '<a target=\"_blank\" href=https://colab.research.google.com/notebooks/data_table.ipynb>data table notebook</a>'\n",
              "            + ' to learn more about interactive tables.';\n",
              "          element.innerHTML = '';\n",
              "          dataTable['output_type'] = 'display_data';\n",
              "          await google.colab.output.renderOutput(dataTable, element);\n",
              "          const docLink = document.createElement('div');\n",
              "          docLink.innerHTML = docLinkHtml;\n",
              "          element.appendChild(docLink);\n",
              "        }\n",
              "      </script>\n",
              "    </div>\n",
              "  </div>\n",
              "  "
            ]
          },
          "metadata": {},
          "execution_count": 8
        }
      ]
    },
    {
      "cell_type": "markdown",
      "source": [
        "Para la tarea de clasificación binaria, vamos a utilizar únicamente el texto y el campo task1, que es nuestro campo label. "
      ],
      "metadata": {
        "id": "IPmbQZX5Gi_8"
      }
    },
    {
      "cell_type": "code",
      "source": [
        "df_train = df_train.drop(['test_case', 'id', 'source', 'task2'], axis=1)\n",
        "df_test = df_test.drop(['test_case', 'id', 'source', 'task2'], axis=1)\n",
        "df_train = df_train.rename(columns={'task1':'label'})\n",
        "df_test = df_test.rename(columns={'task1':'label'})\n",
        "\n",
        "df_train.head()"
      ],
      "metadata": {
        "colab": {
          "base_uri": "https://localhost:8080/",
          "height": 206
        },
        "id": "EvVoASj_Gj4b",
        "outputId": "68800025-3174-4a53-9394-31c546ffdb17"
      },
      "execution_count": 9,
      "outputs": [
        {
          "output_type": "execute_result",
          "data": {
            "text/plain": [
              "  language                                               text       label\n",
              "0       en  She calls herself \"anti-feminazi\" how about sh...      sexist\n",
              "1       en  Now, back to these women, the brave and the be...  non-sexist\n",
              "2       en  @CurvyBandida @Xalynne_B Wow, your skirt is ve...      sexist\n",
              "3       en  @AurelieGuiboud Incredible!  Beautiful!But I l...  non-sexist\n",
              "4       en  i find it extremely hard to believe that kelly...  non-sexist"
            ],
            "text/html": [
              "\n",
              "  <div id=\"df-a558cfed-a0fc-479b-a171-0764e4134ded\">\n",
              "    <div class=\"colab-df-container\">\n",
              "      <div>\n",
              "<style scoped>\n",
              "    .dataframe tbody tr th:only-of-type {\n",
              "        vertical-align: middle;\n",
              "    }\n",
              "\n",
              "    .dataframe tbody tr th {\n",
              "        vertical-align: top;\n",
              "    }\n",
              "\n",
              "    .dataframe thead th {\n",
              "        text-align: right;\n",
              "    }\n",
              "</style>\n",
              "<table border=\"1\" class=\"dataframe\">\n",
              "  <thead>\n",
              "    <tr style=\"text-align: right;\">\n",
              "      <th></th>\n",
              "      <th>language</th>\n",
              "      <th>text</th>\n",
              "      <th>label</th>\n",
              "    </tr>\n",
              "  </thead>\n",
              "  <tbody>\n",
              "    <tr>\n",
              "      <th>0</th>\n",
              "      <td>en</td>\n",
              "      <td>She calls herself \"anti-feminazi\" how about sh...</td>\n",
              "      <td>sexist</td>\n",
              "    </tr>\n",
              "    <tr>\n",
              "      <th>1</th>\n",
              "      <td>en</td>\n",
              "      <td>Now, back to these women, the brave and the be...</td>\n",
              "      <td>non-sexist</td>\n",
              "    </tr>\n",
              "    <tr>\n",
              "      <th>2</th>\n",
              "      <td>en</td>\n",
              "      <td>@CurvyBandida @Xalynne_B Wow, your skirt is ve...</td>\n",
              "      <td>sexist</td>\n",
              "    </tr>\n",
              "    <tr>\n",
              "      <th>3</th>\n",
              "      <td>en</td>\n",
              "      <td>@AurelieGuiboud Incredible!  Beautiful!But I l...</td>\n",
              "      <td>non-sexist</td>\n",
              "    </tr>\n",
              "    <tr>\n",
              "      <th>4</th>\n",
              "      <td>en</td>\n",
              "      <td>i find it extremely hard to believe that kelly...</td>\n",
              "      <td>non-sexist</td>\n",
              "    </tr>\n",
              "  </tbody>\n",
              "</table>\n",
              "</div>\n",
              "      <button class=\"colab-df-convert\" onclick=\"convertToInteractive('df-a558cfed-a0fc-479b-a171-0764e4134ded')\"\n",
              "              title=\"Convert this dataframe to an interactive table.\"\n",
              "              style=\"display:none;\">\n",
              "        \n",
              "  <svg xmlns=\"http://www.w3.org/2000/svg\" height=\"24px\"viewBox=\"0 0 24 24\"\n",
              "       width=\"24px\">\n",
              "    <path d=\"M0 0h24v24H0V0z\" fill=\"none\"/>\n",
              "    <path d=\"M18.56 5.44l.94 2.06.94-2.06 2.06-.94-2.06-.94-.94-2.06-.94 2.06-2.06.94zm-11 1L8.5 8.5l.94-2.06 2.06-.94-2.06-.94L8.5 2.5l-.94 2.06-2.06.94zm10 10l.94 2.06.94-2.06 2.06-.94-2.06-.94-.94-2.06-.94 2.06-2.06.94z\"/><path d=\"M17.41 7.96l-1.37-1.37c-.4-.4-.92-.59-1.43-.59-.52 0-1.04.2-1.43.59L10.3 9.45l-7.72 7.72c-.78.78-.78 2.05 0 2.83L4 21.41c.39.39.9.59 1.41.59.51 0 1.02-.2 1.41-.59l7.78-7.78 2.81-2.81c.8-.78.8-2.07 0-2.86zM5.41 20L4 18.59l7.72-7.72 1.47 1.35L5.41 20z\"/>\n",
              "  </svg>\n",
              "      </button>\n",
              "      \n",
              "  <style>\n",
              "    .colab-df-container {\n",
              "      display:flex;\n",
              "      flex-wrap:wrap;\n",
              "      gap: 12px;\n",
              "    }\n",
              "\n",
              "    .colab-df-convert {\n",
              "      background-color: #E8F0FE;\n",
              "      border: none;\n",
              "      border-radius: 50%;\n",
              "      cursor: pointer;\n",
              "      display: none;\n",
              "      fill: #1967D2;\n",
              "      height: 32px;\n",
              "      padding: 0 0 0 0;\n",
              "      width: 32px;\n",
              "    }\n",
              "\n",
              "    .colab-df-convert:hover {\n",
              "      background-color: #E2EBFA;\n",
              "      box-shadow: 0px 1px 2px rgba(60, 64, 67, 0.3), 0px 1px 3px 1px rgba(60, 64, 67, 0.15);\n",
              "      fill: #174EA6;\n",
              "    }\n",
              "\n",
              "    [theme=dark] .colab-df-convert {\n",
              "      background-color: #3B4455;\n",
              "      fill: #D2E3FC;\n",
              "    }\n",
              "\n",
              "    [theme=dark] .colab-df-convert:hover {\n",
              "      background-color: #434B5C;\n",
              "      box-shadow: 0px 1px 3px 1px rgba(0, 0, 0, 0.15);\n",
              "      filter: drop-shadow(0px 1px 2px rgba(0, 0, 0, 0.3));\n",
              "      fill: #FFFFFF;\n",
              "    }\n",
              "  </style>\n",
              "\n",
              "      <script>\n",
              "        const buttonEl =\n",
              "          document.querySelector('#df-a558cfed-a0fc-479b-a171-0764e4134ded button.colab-df-convert');\n",
              "        buttonEl.style.display =\n",
              "          google.colab.kernel.accessAllowed ? 'block' : 'none';\n",
              "\n",
              "        async function convertToInteractive(key) {\n",
              "          const element = document.querySelector('#df-a558cfed-a0fc-479b-a171-0764e4134ded');\n",
              "          const dataTable =\n",
              "            await google.colab.kernel.invokeFunction('convertToInteractive',\n",
              "                                                     [key], {});\n",
              "          if (!dataTable) return;\n",
              "\n",
              "          const docLinkHtml = 'Like what you see? Visit the ' +\n",
              "            '<a target=\"_blank\" href=https://colab.research.google.com/notebooks/data_table.ipynb>data table notebook</a>'\n",
              "            + ' to learn more about interactive tables.';\n",
              "          element.innerHTML = '';\n",
              "          dataTable['output_type'] = 'display_data';\n",
              "          await google.colab.output.renderOutput(dataTable, element);\n",
              "          const docLink = document.createElement('div');\n",
              "          docLink.innerHTML = docLinkHtml;\n",
              "          element.appendChild(docLink);\n",
              "        }\n",
              "      </script>\n",
              "    </div>\n",
              "  </div>\n",
              "  "
            ]
          },
          "metadata": {},
          "execution_count": 9
        }
      ]
    },
    {
      "cell_type": "markdown",
      "source": [
        "## Label Encoding\n",
        "\n"
      ],
      "metadata": {
        "id": "kax-dDi4zCu0"
      }
    },
    {
      "cell_type": "markdown",
      "source": [
        "En el caso de clasifición binaria, solo necesitamos transformar las labels de texto a número entero:\n",
        "- non-sexist -> 0\n",
        "- sexist -> 1\n",
        "\n",
        "En nuestra red CNN, la última capa está formada por una única neurona con la función de activación sigmoidea, que devuelve una probabilidad, que se transformará al valor 0 o 1. \n",
        "\n",
        "Por ese motivo, no necesitamos transformar los etiquetas a categorical (vectores one-hot que presentan cada clase). "
      ],
      "metadata": {
        "id": "tsGi0XFWRcjM"
      }
    },
    {
      "cell_type": "code",
      "source": [
        "from sklearn.preprocessing import LabelEncoder\n",
        "from keras.utils import to_categorical\n",
        "\n",
        "y_train = df_train['label'].tolist()\n",
        "y_test = df_test['label'].tolist()\n",
        "\n",
        "le = LabelEncoder()\n",
        "\n",
        "print(\"antes de transform: \", y_train[:10])\n",
        "y_train = le.fit_transform(y_train)\n",
        "LABELS = le.classes_\n",
        "\n",
        "print(\"después de transform:\", y_train[:10])\n",
        "\n",
        "y_test = le.fit_transform(y_test)\n"
      ],
      "metadata": {
        "colab": {
          "base_uri": "https://localhost:8080/"
        },
        "id": "rFq70WwlzHiz",
        "outputId": "e70c37d0-e2f7-4732-b90a-498400560e5c"
      },
      "execution_count": 33,
      "outputs": [
        {
          "output_type": "stream",
          "name": "stdout",
          "text": [
            "antes de transform:  ['sexist', 'non-sexist', 'sexist', 'non-sexist', 'non-sexist', 'sexist', 'non-sexist', 'non-sexist', 'non-sexist', 'non-sexist']\n",
            "después de transform: [1 0 1 0 0 1 0 0 0 0]\n"
          ]
        }
      ]
    },
    {
      "cell_type": "markdown",
      "source": [
        "### Tokenización\n",
        "\n",
        "Puedes consultar más información sobre el tokenizador de keras en este [link](#https://www.tensorflow.org/api_docs/python/tf/keras/preprocessing/text/Tokenizer).\n"
      ],
      "metadata": {
        "id": "f9DX56kP3vy6"
      }
    },
    {
      "cell_type": "code",
      "source": [
        "from keras.preprocessing.text import Tokenizer\n",
        "\n",
        "X_train = df_train['text'].tolist()\n",
        "\n",
        "tokenizer = Tokenizer(oov_token = True)\n",
        "# entrenamos el tokenizador usando los textos del conjunto de entrenamiento\n",
        "tokenizer.fit_on_texts(X_train)\n",
        "\n",
        "# el índice 0, en principio, no ha sido asignado a ningún token y está reservado\n",
        "# en nuestro caso, lo usamos para representar el token para padding\n",
        "tokenizer.word_index['<PAD>'] = 0\n",
        "\n",
        "NUM_WORDS=len(tokenizer.word_index)\n",
        "print(\"Tamaño del vocabulario ={}\".format(NUM_WORDS))\n"
      ],
      "metadata": {
        "colab": {
          "base_uri": "https://localhost:8080/"
        },
        "id": "zRu03I-A3zWW",
        "outputId": "46835eb8-512c-4c87-f066-5367edc5dcf0"
      },
      "execution_count": 14,
      "outputs": [
        {
          "output_type": "stream",
          "name": "stdout",
          "text": [
            "Tamaño del vocabulario =35472\n"
          ]
        }
      ]
    },
    {
      "cell_type": "markdown",
      "source": [
        "El vocabulario consiste de una lista de las palabras de la colección del texto. Todos los signos de puntuación son eliminados. \n",
        "\n",
        "Vamos a mostrar algunas palabras del vocabulario y su índice.\n",
        "\n"
      ],
      "metadata": {
        "id": "5LPUikCopklB"
      }
    },
    {
      "cell_type": "code",
      "source": [
        "for (word,index) in tokenizer.word_index.items():\n",
        "    print(index,word)\n",
        "    if index==5:\n",
        "        break"
      ],
      "metadata": {
        "colab": {
          "base_uri": "https://localhost:8080/"
        },
        "id": "YSNbwpIkpgDG",
        "outputId": "07ddafa7-769d-4ba6-a928-8280f6cfc6e5"
      },
      "execution_count": 15,
      "outputs": [
        {
          "output_type": "stream",
          "name": "stdout",
          "text": [
            "1 True\n",
            "2 a\n",
            "3 que\n",
            "4 de\n",
            "5 la\n"
          ]
        }
      ]
    },
    {
      "cell_type": "markdown",
      "source": [
        "El tokenizador nos permite representar los textos como una secuencia de enteros. Es decir cada palabra es reemplazada por su índice en el vocabulario. "
      ],
      "metadata": {
        "id": "K93_hsH6m7WP"
      }
    },
    {
      "cell_type": "code",
      "source": [
        "# Cada texto es transformado en una secuencia de enteros. \n",
        "# En el vocabulario, cada palabra tiene asociado un entero\n",
        "encoded_train = tokenizer.texts_to_sequences(X_train)\n"
      ],
      "metadata": {
        "id": "X0XYpnbLm-3F"
      },
      "execution_count": 16,
      "outputs": []
    },
    {
      "cell_type": "markdown",
      "source": [
        "### ¿Cuál es la distribución de la longitud de los textos en el training?\n"
      ],
      "metadata": {
        "id": "fPGom1a-2q9q"
      }
    },
    {
      "cell_type": "code",
      "source": [
        "length_train=df_train['text'].apply(lambda text: len(text.split()))\n",
        "length_train.describe(percentiles=[0.25, 0.50, 0.75, 0.90, 0.95, 0.99])\n"
      ],
      "metadata": {
        "colab": {
          "base_uri": "https://localhost:8080/"
        },
        "id": "thCYTNSePC6R",
        "outputId": "2575dee7-8085-424a-e654-c75ec6b6d3a2"
      },
      "execution_count": 17,
      "outputs": [
        {
          "output_type": "execute_result",
          "data": {
            "text/plain": [
              "count    6977.000000\n",
              "mean       28.870861\n",
              "std        15.884901\n",
              "min         2.000000\n",
              "25%        15.000000\n",
              "50%        28.000000\n",
              "75%        43.000000\n",
              "90%        50.000000\n",
              "95%        53.000000\n",
              "99%        58.000000\n",
              "max       101.000000\n",
              "Name: text, dtype: float64"
            ]
          },
          "metadata": {},
          "execution_count": 17
        }
      ]
    },
    {
      "cell_type": "code",
      "source": [
        "length_train.describe(percentiles=[0.25, 0.50, 0.75, 0.90, 0.95, 0.99])\n"
      ],
      "metadata": {
        "colab": {
          "base_uri": "https://localhost:8080/"
        },
        "id": "OOnCuD8jt0xV",
        "outputId": "17767543-1a51-469e-f55a-ccbe8c1ae059"
      },
      "execution_count": 18,
      "outputs": [
        {
          "output_type": "execute_result",
          "data": {
            "text/plain": [
              "count    6977.000000\n",
              "mean       28.870861\n",
              "std        15.884901\n",
              "min         2.000000\n",
              "25%        15.000000\n",
              "50%        28.000000\n",
              "75%        43.000000\n",
              "90%        50.000000\n",
              "95%        53.000000\n",
              "99%        58.000000\n",
              "max       101.000000\n",
              "Name: text, dtype: float64"
            ]
          },
          "metadata": {},
          "execution_count": 18
        }
      ]
    },
    {
      "cell_type": "markdown",
      "source": [
        "\n",
        "Vamos a considerar el tamaño máximo como 50 tokens. "
      ],
      "metadata": {
        "id": "2OtYa0FZvEAP"
      }
    },
    {
      "cell_type": "code",
      "source": [
        "from keras.utils import pad_sequences \n",
        "MAX_LEN=50\n",
        "encoded_train = pad_sequences(encoded_train, maxlen = MAX_LEN, padding='post')\n"
      ],
      "metadata": {
        "id": "OWO6Z1dvvLRb"
      },
      "execution_count": 19,
      "outputs": []
    },
    {
      "cell_type": "markdown",
      "source": [
        "## CNN"
      ],
      "metadata": {
        "id": "nuON_vKf33Sv"
      }
    },
    {
      "cell_type": "code",
      "source": [
        "import tensorflow as tf \n",
        "# asegurar que los experimentos se pueden reproducir\n",
        "tf.random.set_seed(42)\n",
        "\n",
        "tf.__version__"
      ],
      "metadata": {
        "colab": {
          "base_uri": "https://localhost:8080/",
          "height": 35
        },
        "id": "ZDs1NatL4UeE",
        "outputId": "9dfec1f0-ac1b-46d0-8425-56bdae640bba"
      },
      "execution_count": 20,
      "outputs": [
        {
          "output_type": "execute_result",
          "data": {
            "text/plain": [
              "'2.11.0'"
            ],
            "application/vnd.google.colaboratory.intrinsic+json": {
              "type": "string"
            }
          },
          "metadata": {},
          "execution_count": 20
        }
      ]
    },
    {
      "cell_type": "code",
      "source": [
        "from keras.models import Sequential\n",
        "from keras.layers import Flatten, Dense, Embedding, Conv1D, MaxPooling1D\n",
        "\n",
        "EMBEDDING_SIZE=50 #probar con 200, 300\n",
        "model = Sequential()\n",
        "\n",
        "model.add(Embedding(NUM_WORDS, EMBEDDING_SIZE, input_length=MAX_LEN))\n",
        "\n",
        "model.add(Conv1D(filters=128, kernel_size=4, padding='same', activation='relu'))\n",
        "model.add(MaxPooling1D(pool_size=2))\n",
        "\n",
        "model.add(Conv1D(filters=64, kernel_size=4, padding='same', activation='relu'))\n",
        "model.add(MaxPooling1D(pool_size=2))\n",
        "\n",
        "model.add(Conv1D(filters=32, kernel_size=4, padding='same', activation='relu'))\n",
        "model.add(MaxPooling1D(pool_size=2))\n",
        "\n",
        "model.add(Flatten())\n",
        "model.add(Dense(50, activation='relu'))\n",
        "# Para clasificación binaria\n",
        "model.add(Dense(1, activation='sigmoid'))\n",
        "model.compile(loss='binary_crossentropy', optimizer='adam', metrics=['accuracy'])\n",
        "\n",
        "model.summary()"
      ],
      "metadata": {
        "colab": {
          "base_uri": "https://localhost:8080/"
        },
        "id": "OhEa91px35ui",
        "outputId": "4270733d-d761-46ae-ffb8-d8971a6cb374"
      },
      "execution_count": 21,
      "outputs": [
        {
          "output_type": "stream",
          "name": "stdout",
          "text": [
            "Model: \"sequential\"\n",
            "_________________________________________________________________\n",
            " Layer (type)                Output Shape              Param #   \n",
            "=================================================================\n",
            " embedding (Embedding)       (None, 50, 50)            1773600   \n",
            "                                                                 \n",
            " conv1d (Conv1D)             (None, 50, 128)           25728     \n",
            "                                                                 \n",
            " max_pooling1d (MaxPooling1D  (None, 25, 128)          0         \n",
            " )                                                               \n",
            "                                                                 \n",
            " conv1d_1 (Conv1D)           (None, 25, 64)            32832     \n",
            "                                                                 \n",
            " max_pooling1d_1 (MaxPooling  (None, 12, 64)           0         \n",
            " 1D)                                                             \n",
            "                                                                 \n",
            " conv1d_2 (Conv1D)           (None, 12, 32)            8224      \n",
            "                                                                 \n",
            " max_pooling1d_2 (MaxPooling  (None, 6, 32)            0         \n",
            " 1D)                                                             \n",
            "                                                                 \n",
            " flatten (Flatten)           (None, 192)               0         \n",
            "                                                                 \n",
            " dense (Dense)               (None, 50)                9650      \n",
            "                                                                 \n",
            " dense_1 (Dense)             (None, 1)                 51        \n",
            "                                                                 \n",
            "=================================================================\n",
            "Total params: 1,850,085\n",
            "Trainable params: 1,850,085\n",
            "Non-trainable params: 0\n",
            "_________________________________________________________________\n"
          ]
        }
      ]
    },
    {
      "cell_type": "code",
      "source": [
        "from keras.callbacks import ModelCheckpoint, EarlyStopping\n",
        "# Para el entrenamiento después de 3 epochs sin el error en el conjunto de validación no mejora\n",
        "earlyStopping = EarlyStopping(monitor='val_loss', min_delta=0, patience=3, verbose=0, mode='auto')\n"
      ],
      "metadata": {
        "id": "rZxSOzOXx6qo"
      },
      "execution_count": 22,
      "outputs": []
    },
    {
      "cell_type": "markdown",
      "source": [
        "### Training\n",
        "\n",
        "Como no tenemos un conjunto de validación explícito, en el método compile específicamos usando el argumento **        validation_split** qué porcentaje del training vamos a usar como conjunto de validación:"
      ],
      "metadata": {
        "id": "4UXEpbyx6E4j"
      }
    },
    {
      "cell_type": "code",
      "source": [
        "epochs = 10 \n",
        "batch_size = 16 \n",
        "\n",
        "# training\n",
        "history=model.fit(encoded_train, y_train, \n",
        "                    validation_split=0.2,\n",
        "                  batch_size=batch_size, epochs=epochs,\n",
        "                  callbacks=[earlyStopping],\n",
        "                  )\n"
      ],
      "metadata": {
        "colab": {
          "base_uri": "https://localhost:8080/"
        },
        "id": "dVBSB6zEx-D3",
        "outputId": "4d0dfa6e-b0f4-4113-a755-2dab34cc85ee"
      },
      "execution_count": 23,
      "outputs": [
        {
          "output_type": "stream",
          "name": "stdout",
          "text": [
            "Epoch 1/10\n",
            "349/349 [==============================] - 47s 99ms/step - loss: 0.6538 - accuracy: 0.6114 - val_loss: 0.9481 - val_accuracy: 0.4685\n",
            "Epoch 2/10\n",
            "349/349 [==============================] - 9s 25ms/step - loss: 0.3505 - accuracy: 0.8490 - val_loss: 1.7726 - val_accuracy: 0.4713\n",
            "Epoch 3/10\n",
            "349/349 [==============================] - 6s 16ms/step - loss: 0.0811 - accuracy: 0.9708 - val_loss: 2.2282 - val_accuracy: 0.5050\n",
            "Epoch 4/10\n",
            "349/349 [==============================] - 5s 13ms/step - loss: 0.0157 - accuracy: 0.9961 - val_loss: 2.5555 - val_accuracy: 0.5817\n"
          ]
        }
      ]
    },
    {
      "cell_type": "markdown",
      "source": [
        "### Curvas de aprendizaje\n",
        "\n",
        "En las curva de aprenzije, el modelo es evaluado en el conjunto de entrenamiento para saber cómo de bien el modelo es capaz de aprender.\n",
        "Además, el modelo también se evalúa en el conjunto de validación para saber cómo de bien el modelo es capaz de generalizar. "
      ],
      "metadata": {
        "id": "g1oe7nof6k4r"
      }
    },
    {
      "cell_type": "code",
      "source": [
        "import matplotlib.pyplot as plt\n",
        "\n",
        "history_dict = history.history\n",
        "loss_values = history_dict['loss']\n",
        "val_loss_values = history_dict['val_loss']\n",
        "accuracy = history_dict['accuracy']\n",
        "val_accuracy = history_dict['val_accuracy']\n",
        " \n",
        "epochs = range(1, len(loss_values) + 1)\n",
        "fig, ax = plt.subplots(1, 2, figsize=(14, 6))\n",
        "#\n",
        "# Curva de a  the model accuracy vs Epochs\n",
        "#\n",
        "ax[0].plot(epochs, accuracy, 'b', label='Training accuracy')\n",
        "ax[0].plot(epochs, val_accuracy, 'red', label='Validation accuracy')\n",
        "ax[0].set_title('Training & Validation Accuracy', fontsize=16)\n",
        "ax[0].set_xlabel('Epochs', fontsize=16)\n",
        "ax[0].set_ylabel('Accuracy', fontsize=16)\n",
        "ax[0].legend()\n",
        "#\n",
        "# Plot the loss vs Epochs\n",
        "#\n",
        "ax[1].plot(epochs, loss_values, 'b', label='Training loss')\n",
        "ax[1].plot(epochs, val_loss_values, 'red', label='Validation loss')\n",
        "ax[1].set_title('Training & Validation Loss', fontsize=16)\n",
        "ax[1].set_xlabel('Epochs', fontsize=16)\n",
        "ax[1].set_ylabel('Loss', fontsize=16)\n",
        "ax[1].legend()"
      ],
      "metadata": {
        "colab": {
          "base_uri": "https://localhost:8080/",
          "height": 428
        },
        "id": "gfzskPP0NgVI",
        "outputId": "9f1cda17-0db3-4e4f-c6c0-4e978e9639fb"
      },
      "execution_count": 25,
      "outputs": [
        {
          "output_type": "execute_result",
          "data": {
            "text/plain": [
              "<matplotlib.legend.Legend at 0x7f2efcfb1ac0>"
            ]
          },
          "metadata": {},
          "execution_count": 25
        },
        {
          "output_type": "display_data",
          "data": {
            "text/plain": [
              "<Figure size 1008x432 with 2 Axes>"
            ],
            "image/png": "[encoded data removed]"
          },
          "metadata": {
            "needs_background": "light"
          }
        }
      ]
    },
    {
      "cell_type": "markdown",
      "source": [
        "### Evaluación\n",
        "\n",
        "\n",
        "Aplicamos el modelo sobre el conjunto test, para poder obtener las métricas loss y  accuracy sobre el conjunto final."
      ],
      "metadata": {
        "id": "hzLMS4LrW6nV"
      }
    },
    {
      "cell_type": "code",
      "source": [
        "encoded_test = tokenizer.texts_to_sequences(X_test)\n",
        "encoded_test = pad_sequences(encoded_test, maxlen = MAX_LEN, padding='post')\n",
        "\n",
        "loss, accuracy = model.evaluate(encoded_test, y_test, batch_size=batch_size)\n"
      ],
      "metadata": {
        "id": "xgujBhDRVtcj",
        "colab": {
          "base_uri": "https://localhost:8080/"
        },
        "outputId": "544fc25b-e39d-486c-b74e-aaa1ebed9c8a"
      },
      "execution_count": 29,
      "outputs": [
        {
          "output_type": "stream",
          "name": "stdout",
          "text": [
            "273/273 [==============================] - 1s 3ms/step - loss: 2.0042 - accuracy: 0.6392\n"
          ]
        }
      ]
    },
    {
      "cell_type": "markdown",
      "source": [
        "También podemos hacer la evaluación usando las función **classification_report** que nos dará más información sobre los resultados para cada clase:"
      ],
      "metadata": {
        "id": "medL15Ia6XEw"
      }
    },
    {
      "cell_type": "code",
      "source": [
        "import numpy as np\n",
        "from sklearn.metrics import accuracy_score, classification_report \n",
        "y_pred = np.round(model.predict(encoded_test))\n",
        "\n",
        "print('accuracy:', accuracy_score(y_test, y_pred))\n",
        "print(classification_report(y_test, y_pred, target_names=LABELS))"
      ],
      "metadata": {
        "colab": {
          "base_uri": "https://localhost:8080/"
        },
        "id": "tAWiguYs1W6D",
        "outputId": "ef6cb6ae-9334-49b7-b999-4d428ccd447e"
      },
      "execution_count": 34,
      "outputs": [
        {
          "output_type": "stream",
          "name": "stdout",
          "text": [
            "137/137 [==============================] - 0s 2ms/step\n",
            "accuracy: 0.6391941391941391\n",
            "              precision    recall  f1-score   support\n",
            "\n",
            "  non-sexist       0.59      0.80      0.68      2087\n",
            "      sexist       0.73      0.50      0.59      2281\n",
            "\n",
            "    accuracy                           0.64      4368\n",
            "   macro avg       0.66      0.65      0.63      4368\n",
            "weighted avg       0.66      0.64      0.63      4368\n",
            "\n"
          ]
        }
      ]
    },
    {
      "cell_type": "code",
      "source": [
        "from sklearn.metrics import confusion_matrix, ConfusionMatrixDisplay\n",
        "cm = confusion_matrix(y_test, y_pred)\n",
        "print(cm)"
      ],
      "metadata": {
        "colab": {
          "base_uri": "https://localhost:8080/"
        },
        "id": "XLcZQBK4Rdy-",
        "outputId": "84a2f406-89f6-4778-ee40-4c06c2773db2"
      },
      "execution_count": 35,
      "outputs": [
        {
          "output_type": "stream",
          "name": "stdout",
          "text": [
            "[[1661  426]\n",
            " [1150 1131]]\n"
          ]
        }
      ]
    },
    {
      "cell_type": "code",
      "source": [
        "\n",
        "disp = ConfusionMatrixDisplay(confusion_matrix=cm,\n",
        "                              display_labels=LABELS)\n",
        "disp.plot(cmap=plt.cm.Blues,values_format='g')\n"
      ],
      "metadata": {
        "colab": {
          "base_uri": "https://localhost:8080/",
          "height": 296
        },
        "id": "JwWhsYzYSqBD",
        "outputId": "719e81ab-1f4a-4956-8a90-2e59259aeee4"
      },
      "execution_count": 36,
      "outputs": [
        {
          "output_type": "execute_result",
          "data": {
            "text/plain": [
              "<sklearn.metrics._plot.confusion_matrix.ConfusionMatrixDisplay at 0x7f2f203587c0>"
            ]
          },
          "metadata": {},
          "execution_count": 36
        },
        {
          "output_type": "display_data",
          "data": {
            "text/plain": [
              "<Figure size 432x288 with 2 Axes>"
            ],
            "image/png": "[encoded data removed]"
          },
          "metadata": {
            "needs_background": "light"
          }
        }
      ]
    },
    {
      "cell_type": "markdown",
      "source": [
        "## Discusión\n",
        "\n",
        "\n",
        "- ¿Qué nos dice la matriz de confusion?\n",
        "- ¿Supera CNN a SVM?\n"
      ],
      "metadata": {
        "id": "jLBpvzwxbh2K"
      }
    }
  ]
}