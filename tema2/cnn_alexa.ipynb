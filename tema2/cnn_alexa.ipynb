{
  "nbformat": 4,
  "nbformat_minor": 0,
  "metadata": {
    "colab": {
      "provenance": [],
      "toc_visible": true
    },
    "kernelspec": {
      "name": "python3",
      "display_name": "Python 3"
    },
    "language_info": {
      "name": "python"
    },
    "accelerator": "GPU",
    "gpuClass": "standard"
  },
  "cells": [
    {
      "cell_type": "markdown",
      "source": [
        "<center>\n",
        "<img src=\"https://upload.wikimedia.org/wikipedia/commons/4/47/Acronimo_y_nombre_uc3m.png\"/>\n",
        "\n",
        "<img src=\"https://mirrors.creativecommons.org/presskit/buttons/88x31/png/by-nc-sa.png\" width=15%/>\n",
        "</center>    "
      ],
      "metadata": {
        "id": "aQr9dRLTmI_u"
      }
    },
    {
      "cell_type": "markdown",
      "source": [
        "# Clasificación de textos con CNN. \n",
        "\n",
        "En este notebook, vamos a desarrollar un enfoque basado en un algoritmo clásico de aprendizaje automático. \n",
        "\n",
        "El dataset a utilizar es una colección de reviews de Amazon sobre Alexa. Este dataset puede descargarse desde este [link](#https://www.kaggle.com/datasets/sid321axn/amazon-alexa-reviews) en Kaggle. \n",
        "\n"
      ],
      "metadata": {
        "id": "Bv2Hbhm0lC8r"
      }
    },
    {
      "cell_type": "markdown",
      "source": [
        "## Dataset"
      ],
      "metadata": {
        "id": "m2vZpV7_lkE6"
      }
    },
    {
      "cell_type": "code",
      "source": [
        "from google.colab import drive\n",
        "# mount your google drive\n",
        "drive.mount('/content/drive')\n",
        "PATH = \"/content/drive/My Drive/Colab Notebooks/data/alexa/\""
      ],
      "metadata": {
        "id": "J5Q1u9f3ljUu",
        "colab": {
          "base_uri": "https://localhost:8080/"
        },
        "outputId": "394e3849-e004-486f-e26f-9c08c290430d"
      },
      "execution_count": 2,
      "outputs": [
        {
          "output_type": "stream",
          "name": "stdout",
          "text": [
            "Mounted at /content/drive\n"
          ]
        }
      ]
    },
    {
      "cell_type": "code",
      "source": [
        "import pandas as pd\n",
        "\n",
        "df = pd.read_csv(PATH+\"amazon_alexa.tsv\",  sep='\\t', on_bad_lines='skip') \n",
        "print('dataset cargado:', df.shape)\n",
        "\n",
        "# nos quedamos únicamente con el texto y el campo de rating\n",
        "df = df[['verified_reviews','rating']] \n",
        "# renombramos las columnas\n",
        "df=df.rename(columns={\"verified_reviews\": \"Text\", \"rating\": \"Label\"})\n",
        "df.head()\n"
      ],
      "metadata": {
        "colab": {
          "base_uri": "https://localhost:8080/",
          "height": 224
        },
        "id": "Vy_wu_ahqGPT",
        "outputId": "16c21df4-dc5f-4c88-e4f7-030b41d5f010"
      },
      "execution_count": 3,
      "outputs": [
        {
          "output_type": "stream",
          "name": "stdout",
          "text": [
            "dataset cargado: (3150, 5)\n"
          ]
        },
        {
          "output_type": "execute_result",
          "data": {
            "text/plain": [
              "                                                Text  Label\n",
              "0                                      Love my Echo!      5\n",
              "1                                          Loved it!      5\n",
              "2  Sometimes while playing a game, you can answer...      4\n",
              "3  I have had a lot of fun with this thing. My 4 ...      5\n",
              "4                                              Music      5"
            ],
            "text/html": [
              "\n",
              "  <div id=\"df-e973c1c9-9674-4012-a882-970d90c2ddc9\">\n",
              "    <div class=\"colab-df-container\">\n",
              "      <div>\n",
              "<style scoped>\n",
              "    .dataframe tbody tr th:only-of-type {\n",
              "        vertical-align: middle;\n",
              "    }\n",
              "\n",
              "    .dataframe tbody tr th {\n",
              "        vertical-align: top;\n",
              "    }\n",
              "\n",
              "    .dataframe thead th {\n",
              "        text-align: right;\n",
              "    }\n",
              "</style>\n",
              "<table border=\"1\" class=\"dataframe\">\n",
              "  <thead>\n",
              "    <tr style=\"text-align: right;\">\n",
              "      <th></th>\n",
              "      <th>Text</th>\n",
              "      <th>Label</th>\n",
              "    </tr>\n",
              "  </thead>\n",
              "  <tbody>\n",
              "    <tr>\n",
              "      <th>0</th>\n",
              "      <td>Love my Echo!</td>\n",
              "      <td>5</td>\n",
              "    </tr>\n",
              "    <tr>\n",
              "      <th>1</th>\n",
              "      <td>Loved it!</td>\n",
              "      <td>5</td>\n",
              "    </tr>\n",
              "    <tr>\n",
              "      <th>2</th>\n",
              "      <td>Sometimes while playing a game, you can answer...</td>\n",
              "      <td>4</td>\n",
              "    </tr>\n",
              "    <tr>\n",
              "      <th>3</th>\n",
              "      <td>I have had a lot of fun with this thing. My 4 ...</td>\n",
              "      <td>5</td>\n",
              "    </tr>\n",
              "    <tr>\n",
              "      <th>4</th>\n",
              "      <td>Music</td>\n",
              "      <td>5</td>\n",
              "    </tr>\n",
              "  </tbody>\n",
              "</table>\n",
              "</div>\n",
              "      <button class=\"colab-df-convert\" onclick=\"convertToInteractive('df-e973c1c9-9674-4012-a882-970d90c2ddc9')\"\n",
              "              title=\"Convert this dataframe to an interactive table.\"\n",
              "              style=\"display:none;\">\n",
              "        \n",
              "  <svg xmlns=\"http://www.w3.org/2000/svg\" height=\"24px\"viewBox=\"0 0 24 24\"\n",
              "       width=\"24px\">\n",
              "    <path d=\"M0 0h24v24H0V0z\" fill=\"none\"/>\n",
              "    <path d=\"M18.56 5.44l.94 2.06.94-2.06 2.06-.94-2.06-.94-.94-2.06-.94 2.06-2.06.94zm-11 1L8.5 8.5l.94-2.06 2.06-.94-2.06-.94L8.5 2.5l-.94 2.06-2.06.94zm10 10l.94 2.06.94-2.06 2.06-.94-2.06-.94-.94-2.06-.94 2.06-2.06.94z\"/><path d=\"M17.41 7.96l-1.37-1.37c-.4-.4-.92-.59-1.43-.59-.52 0-1.04.2-1.43.59L10.3 9.45l-7.72 7.72c-.78.78-.78 2.05 0 2.83L4 21.41c.39.39.9.59 1.41.59.51 0 1.02-.2 1.41-.59l7.78-7.78 2.81-2.81c.8-.78.8-2.07 0-2.86zM5.41 20L4 18.59l7.72-7.72 1.47 1.35L5.41 20z\"/>\n",
              "  </svg>\n",
              "      </button>\n",
              "      \n",
              "  <style>\n",
              "    .colab-df-container {\n",
              "      display:flex;\n",
              "      flex-wrap:wrap;\n",
              "      gap: 12px;\n",
              "    }\n",
              "\n",
              "    .colab-df-convert {\n",
              "      background-color: #E8F0FE;\n",
              "      border: none;\n",
              "      border-radius: 50%;\n",
              "      cursor: pointer;\n",
              "      display: none;\n",
              "      fill: #1967D2;\n",
              "      height: 32px;\n",
              "      padding: 0 0 0 0;\n",
              "      width: 32px;\n",
              "    }\n",
              "\n",
              "    .colab-df-convert:hover {\n",
              "      background-color: #E2EBFA;\n",
              "      box-shadow: 0px 1px 2px rgba(60, 64, 67, 0.3), 0px 1px 3px 1px rgba(60, 64, 67, 0.15);\n",
              "      fill: #174EA6;\n",
              "    }\n",
              "\n",
              "    [theme=dark] .colab-df-convert {\n",
              "      background-color: #3B4455;\n",
              "      fill: #D2E3FC;\n",
              "    }\n",
              "\n",
              "    [theme=dark] .colab-df-convert:hover {\n",
              "      background-color: #434B5C;\n",
              "      box-shadow: 0px 1px 3px 1px rgba(0, 0, 0, 0.15);\n",
              "      filter: drop-shadow(0px 1px 2px rgba(0, 0, 0, 0.3));\n",
              "      fill: #FFFFFF;\n",
              "    }\n",
              "  </style>\n",
              "\n",
              "      <script>\n",
              "        const buttonEl =\n",
              "          document.querySelector('#df-e973c1c9-9674-4012-a882-970d90c2ddc9 button.colab-df-convert');\n",
              "        buttonEl.style.display =\n",
              "          google.colab.kernel.accessAllowed ? 'block' : 'none';\n",
              "\n",
              "        async function convertToInteractive(key) {\n",
              "          const element = document.querySelector('#df-e973c1c9-9674-4012-a882-970d90c2ddc9');\n",
              "          const dataTable =\n",
              "            await google.colab.kernel.invokeFunction('convertToInteractive',\n",
              "                                                     [key], {});\n",
              "          if (!dataTable) return;\n",
              "\n",
              "          const docLinkHtml = 'Like what you see? Visit the ' +\n",
              "            '<a target=\"_blank\" href=https://colab.research.google.com/notebooks/data_table.ipynb>data table notebook</a>'\n",
              "            + ' to learn more about interactive tables.';\n",
              "          element.innerHTML = '';\n",
              "          dataTable['output_type'] = 'display_data';\n",
              "          await google.colab.output.renderOutput(dataTable, element);\n",
              "          const docLink = document.createElement('div');\n",
              "          docLink.innerHTML = docLinkHtml;\n",
              "          element.appendChild(docLink);\n",
              "        }\n",
              "      </script>\n",
              "    </div>\n",
              "  </div>\n",
              "  "
            ]
          },
          "metadata": {},
          "execution_count": 3
        }
      ]
    },
    {
      "cell_type": "markdown",
      "source": [
        "### Particiones\n",
        "\n",
        "El dataset se distribuye en un único fichero. Debemos crear tres particiones distintas para entrenamiento, validación y evaluación final (test), con un ratio de 70:10:20.\n",
        "\n"
      ],
      "metadata": {
        "id": "-oYC7aHhpvp5"
      }
    },
    {
      "cell_type": "code",
      "source": [
        "from sklearn.model_selection import train_test_split\n",
        "X=df['Text']\n",
        "y=df['Label']\n",
        "\n",
        "X_train, X_aux, y_train, y_aux = train_test_split(X, y, \n",
        "        test_size=0.30, random_state=42, stratify=y)\n",
        "\n",
        "X_val, X_test, y_val, y_test = train_test_split(X_aux, y_aux, \n",
        "        test_size=2/3, random_state=42, stratify=y_aux)\n",
        "\n",
        "print('Tamaño conjunto de entrenamiento:', len(X_train))\n",
        "print('Tamaño conjunto de validación:', len(X_val))\n",
        "print('Tamaño conjunto de evaluación:', len(X_test))\n"
      ],
      "metadata": {
        "colab": {
          "base_uri": "https://localhost:8080/"
        },
        "id": "4oh1yk22qE8S",
        "outputId": "85d416dc-1269-47d1-dfe6-59defd5d9a7e"
      },
      "execution_count": 4,
      "outputs": [
        {
          "output_type": "stream",
          "name": "stdout",
          "text": [
            "Tamaño conjunto de entrenamiento: 2205\n",
            "Tamaño conjunto de validación: 315\n",
            "Tamaño conjunto de evaluación: 630\n"
          ]
        }
      ]
    },
    {
      "cell_type": "markdown",
      "source": [
        "### Distribución de clases\n",
        "\n"
      ],
      "metadata": {
        "id": "-2yHlawQBmmC"
      }
    },
    {
      "cell_type": "code",
      "source": [
        "import matplotlib.pyplot as plt\n",
        "\n",
        "counts_train = y_train.value_counts().to_dict()\n",
        "print(\"Distribución en training:\", counts_train)\n",
        "counts_val = y_val.value_counts().to_dict()\n",
        "print(\"Distribución en validación:\", counts_val)\n",
        "counts_test = y_test.value_counts().to_dict()\n",
        "print(\"Distribución en test:\", counts_test)\n",
        "\n",
        "LABELS=counts_train.keys()\n",
        "print(LABELS)\n",
        "\n",
        "\n",
        "fig, (ax_train, ax_val, ax_test) = plt.subplots(1, 3, figsize=(20, 4))\n",
        "fig.suptitle('Distribución de clases')\n",
        "ax_train.bar(LABELS, counts_train.values(), width=0.4)\n",
        "ax_train.set_title('Distribución de clases en el conjunto de entrenamiento')\n",
        "ax_train.set_xlabel('Clases')\n",
        "ax_train.set_ylabel('Número de Instancias')\n",
        "\n",
        "ax_val.bar(LABELS, counts_val.values(), width=0.4)\n",
        "ax_val.set_title('Distribución de clases en el conjunto de validación')\n",
        "ax_val.set_xlabel('Clases')\n",
        "ax_val.set_ylabel('Número de Instancias')\n",
        "\n",
        "\n",
        "ax_test.bar(LABELS, counts_test.values(), width=0.4)\n",
        "ax_test.set_title('Distribución de clases en el conjunto de evaluación')\n",
        "ax_test.set_xlabel('Clases')\n",
        "ax_test.set_ylabel('Número de Instancias')"
      ],
      "metadata": {
        "colab": {
          "base_uri": "https://localhost:8080/",
          "height": 262
        },
        "id": "QEtiNBpRBsPL",
        "outputId": "2c43c992-8407-429d-c707-2e4b5f8563cd"
      },
      "execution_count": 5,
      "outputs": [
        {
          "output_type": "stream",
          "name": "stdout",
          "text": [
            "Distribución en training: {5: 1600, 4: 319, 1: 113, 3: 106, 2: 67}\n",
            "Distribución en validación: {5: 229, 4: 45, 1: 16, 3: 15, 2: 10}\n",
            "Distribución en test: {5: 457, 4: 91, 1: 32, 3: 31, 2: 19}\n",
            "dict_keys([5, 4, 1, 3, 2])\n"
          ]
        },
        {
          "output_type": "execute_result",
          "data": {
            "text/plain": [
              "Text(0, 0.5, 'Número de Instancias')"
            ]
          },
          "metadata": {},
          "execution_count": 5
        },
        {
          "output_type": "display_data",
          "data": {
            "text/plain": [
              "<Figure size 1440x288 with 3 Axes>"
            ],
            "image/png": "[encoded data removed]"
          },
          "metadata": {
            "needs_background": "light"
          }
        }
      ]
    },
    {
      "cell_type": "markdown",
      "source": [
        "### Distribución del tamaño de los textos\n"
      ],
      "metadata": {
        "id": "fPGom1a-2q9q"
      }
    },
    {
      "cell_type": "code",
      "source": [
        "length_train=X_train.apply(lambda text: len(text.split()))\n",
        "# length_train.describe(percentiles=[0.25, 0.50, 0.75, 0.90, 0.95, 0.99])\n",
        "length_val=X_val.apply(lambda text: len(text.split()))\n",
        "length_test=X_test.apply(lambda text: len(text.split()))\n",
        "\n",
        "fig, (ax_train, ax_val, ax_test) = plt.subplots(1, 3, figsize=(20, 4))\n",
        "fig.suptitle('Distribución del tamaño de los textos')\n",
        "\n",
        "ax_train.hist(length_train,  color = 'red', edgecolor = 'black',\n",
        "         bins = int(600/50))\n",
        "ax_train.set_title('Conjunto de entrenamiento')\n",
        "ax_train.set_xlabel('Tamaño')\n",
        "ax_train.set_ylabel('Número de Instancias')\n",
        "\n",
        "ax_val.hist(length_train,  color = 'red', edgecolor = 'black',\n",
        "         bins = int(200/15))\n",
        "ax_val.set_title('Conjunto de validación')\n",
        "ax_val.set_xlabel('Tamaño')\n",
        "ax_val.set_ylabel('Número de Instancias')\n",
        "\n",
        "ax_test.hist(length_train,  color = 'red', edgecolor = 'black',\n",
        "         bins = int(300/15))\n",
        "ax_test.set_title('Conjunto test')\n",
        "ax_test.set_xlabel('Tamaño')\n",
        "ax_test.set_ylabel('Número de Instancias')\n",
        "\n",
        "# Add labels\n",
        "plt.title('Distribución de la longitud de los textos')\n",
        "plt.xlabel('Tamaño (tokens)')\n",
        "plt.ylabel('Número de textos')"
      ],
      "metadata": {
        "colab": {
          "base_uri": "https://localhost:8080/",
          "height": 190
        },
        "id": "q7sIwW6s5sCz",
        "outputId": "6a6ae7fd-3ea6-48ee-eed1-97eb5bda51e0"
      },
      "execution_count": 6,
      "outputs": [
        {
          "output_type": "execute_result",
          "data": {
            "text/plain": [
              "Text(0, 0.5, 'Número de textos')"
            ]
          },
          "metadata": {},
          "execution_count": 6
        },
        {
          "output_type": "display_data",
          "data": {
            "text/plain": [
              "<Figure size 1440x288 with 3 Axes>"
            ],
            "image/png": "[encoded data removed]"
          },
          "metadata": {
            "needs_background": "light"
          }
        }
      ]
    },
    {
      "cell_type": "markdown",
      "source": [
        "Gracias a los tres gráficos, podemos afirmar que la distribución de las clases es similar en los tres subconjuntos de datos. "
      ],
      "metadata": {
        "id": "BWA68IeP2dWU"
      }
    },
    {
      "cell_type": "markdown",
      "source": [
        "## Label Encoding\n",
        "\n"
      ],
      "metadata": {
        "id": "kax-dDi4zCu0"
      }
    },
    {
      "cell_type": "code",
      "source": [
        "LABELS = list(set(y_train))\n",
        "print(LABELS)\n",
        "NUM_LABELS = len(LABELS)\n",
        "\n",
        "\n",
        "y_train = y_train.tolist()\n",
        "y_val = y_val.tolist()\n",
        "y_test = y_test.tolist()\n",
        "\n",
        "\n",
        "print(y_train[:10])"
      ],
      "metadata": {
        "colab": {
          "base_uri": "https://localhost:8080/"
        },
        "id": "RIDIbaJa0iu4",
        "outputId": "ee3d609b-610b-4a7d-93c3-810a4e5dfa20"
      },
      "execution_count": 7,
      "outputs": [
        {
          "output_type": "stream",
          "name": "stdout",
          "text": [
            "[1, 2, 3, 4, 5]\n",
            "[5, 5, 5, 5, 5, 1, 5, 1, 2, 4]\n"
          ]
        }
      ]
    },
    {
      "cell_type": "code",
      "source": [
        "from sklearn.preprocessing import LabelEncoder\n",
        "from keras.utils import to_categorical\n",
        "\n",
        "le = LabelEncoder()\n",
        "\n",
        "print(\"antes de transform: \", y_train[:10])\n",
        "y_train = le.fit_transform(y_train)\n",
        "# las clases pasan de ser 1,2,3,4,5 a 0,1,2,3,4\n",
        "print(\"después de transform:\", y_train[:10])\n",
        "# cada clase se representa como un vector one-hot de dimension 5\n",
        "y_train_cat = to_categorical(y_train)\n",
        "# print(y_train_cat[:10])\n",
        "\n",
        "y_val = le.fit_transform(y_val)\n",
        "y_val_cat = to_categorical(y_val)\n",
        "\n",
        "print(y_test[:10])\n",
        "y_test = le.fit_transform(y_test)\n",
        "print(y_test[:10])\n",
        "\n",
        "y_test_cat = to_categorical(y_test)\n"
      ],
      "metadata": {
        "colab": {
          "base_uri": "https://localhost:8080/"
        },
        "id": "rFq70WwlzHiz",
        "outputId": "35ba1514-818b-40c6-9546-606cea0bf24f"
      },
      "execution_count": 8,
      "outputs": [
        {
          "output_type": "stream",
          "name": "stdout",
          "text": [
            "antes de transform:  [5, 5, 5, 5, 5, 1, 5, 1, 2, 4]\n",
            "después de transform: [4 4 4 4 4 0 4 0 1 3]\n",
            "[5, 5, 4, 5, 2, 5, 3, 4, 3, 5]\n",
            "[4 4 3 4 1 4 2 3 2 4]\n"
          ]
        }
      ]
    },
    {
      "cell_type": "markdown",
      "source": [
        "### Tokenización\n",
        "\n",
        "Puedes consultar más información sobre el tokenizador de keras en este [link](#https://www.tensorflow.org/api_docs/python/tf/keras/preprocessing/text/Tokenizer).\n"
      ],
      "metadata": {
        "id": "f9DX56kP3vy6"
      }
    },
    {
      "cell_type": "code",
      "source": [
        "X_train = list(X_train)\n",
        "X_val = list(X_val)\n",
        "X_test = list(X_test)"
      ],
      "metadata": {
        "id": "ldxe3rbQnmYr"
      },
      "execution_count": 9,
      "outputs": []
    },
    {
      "cell_type": "code",
      "source": [
        "from keras.preprocessing.text import Tokenizer\n",
        "\n",
        "tokenizer = Tokenizer(oov_token = True)\n",
        "# entrenamos el tokenizador usando los textos del conjunto de entrenamiento\n",
        "tokenizer.fit_on_texts(X_train)\n",
        "\n",
        "# el índice 0, en principio, no ha sido asignado a ningún token y está reservado\n",
        "# en nuestro caso, lo usamos para representar el token para padding\n",
        "tokenizer.word_index['<PAD>'] = 0\n",
        "\n",
        "NUM_WORDS=len(tokenizer.word_index)\n",
        "print(\"Tamaño del vocabulario ={}\".format(NUM_WORDS))\n"
      ],
      "metadata": {
        "colab": {
          "base_uri": "https://localhost:8080/"
        },
        "id": "zRu03I-A3zWW",
        "outputId": "c86a5251-bad3-4751-a303-70ed150abe62"
      },
      "execution_count": 10,
      "outputs": [
        {
          "output_type": "stream",
          "name": "stdout",
          "text": [
            "Tamaño del vocabulario =3740\n"
          ]
        }
      ]
    },
    {
      "cell_type": "markdown",
      "source": [
        "El vocabulario consiste de una lista de las palabras de la colección del texto. Todos los signos de puntuación son eliminados. \n",
        "\n",
        "Vamos a mostrar algunas palabras del vocabulario y su índice.\n",
        "\n"
      ],
      "metadata": {
        "id": "5LPUikCopklB"
      }
    },
    {
      "cell_type": "code",
      "source": [
        "for (word,index) in tokenizer.word_index.items():\n",
        "    print(index,word)\n",
        "    if index==20:\n",
        "        break"
      ],
      "metadata": {
        "colab": {
          "base_uri": "https://localhost:8080/"
        },
        "id": "YSNbwpIkpgDG",
        "outputId": "7c36f741-fdf8-4282-ec90-81a9140823e8"
      },
      "execution_count": 11,
      "outputs": [
        {
          "output_type": "stream",
          "name": "stdout",
          "text": [
            "1 True\n",
            "2 the\n",
            "3 i\n",
            "4 to\n",
            "5 it\n",
            "6 and\n",
            "7 a\n",
            "8 my\n",
            "9 is\n",
            "10 for\n",
            "11 love\n",
            "12 echo\n",
            "13 this\n",
            "14 with\n",
            "15 of\n",
            "16 have\n",
            "17 great\n",
            "18 that\n",
            "19 in\n",
            "20 but\n"
          ]
        }
      ]
    },
    {
      "cell_type": "markdown",
      "source": [
        "El tokenizador nos permite representar los textos como una secuencia de enteros. Es decir cada palabra es reemplazada por su índice en el vocabulario. "
      ],
      "metadata": {
        "id": "K93_hsH6m7WP"
      }
    },
    {
      "cell_type": "code",
      "source": [
        "# Cada texto es transformado en una secuencia de enteros. \n",
        "# En el vocabulario, cada palabra tiene asociado un entero\n",
        "\n",
        "encoded_train = tokenizer.texts_to_sequences(X_train)\n",
        "encoded_val = tokenizer.texts_to_sequences(X_val)\n",
        "encoded_test = tokenizer.texts_to_sequences(X_test)\n",
        "\n",
        "# print(X_train[4])\n",
        "# print(encoded_train[4])\n",
        "for i in range(5):\n",
        "    print(X_train[i])\n",
        "    print(encoded_train[i], \" len:\", len(encoded_train[i]))\n",
        "    print()\n",
        "\n"
      ],
      "metadata": {
        "colab": {
          "base_uri": "https://localhost:8080/"
        },
        "id": "X0XYpnbLm-3F",
        "outputId": "88aedb4d-cc8f-440a-e4ea-7aefdc79571f"
      },
      "execution_count": 12,
      "outputs": [
        {
          "output_type": "stream",
          "name": "stdout",
          "text": [
            "Great!!\n",
            "[17]  len: 1\n",
            "\n",
            "Echos are great I have a few of them through out our home .  All in voice range to ask a question. Say a command to turn lights on or off. Or my favorite is play music all though the house.\n",
            "[362, 52, 17, 3, 16, 7, 234, 15, 129, 183, 71, 72, 61, 34, 19, 125, 786, 4, 126, 7, 587, 166, 7, 336, 4, 147, 138, 22, 49, 112, 49, 8, 295, 9, 68, 28, 34, 228, 2, 127]  len: 40\n",
            "\n",
            "Excellent product, mint condition for a refurbished unit - you would never know it's been refurbished!\n",
            "[395, 54, 2167, 723, 10, 7, 186, 348, 24, 63, 282, 134, 60, 141, 186]  len: 15\n",
            "\n",
            "This was just an additional one for my other TV. Loved it so much use it on the regular TV. Easy to set up and fairly easy to navigate. I don’t waste my money on regular TV cable or anything else. This is enough for me as I don’t watch too much TV.\n",
            "[13, 31, 40, 48, 629, 36, 10, 8, 73, 110, 245, 5, 23, 75, 32, 5, 22, 2, 433, 110, 42, 4, 43, 30, 6, 787, 42, 4, 1275, 3, 241, 724, 8, 273, 22, 433, 110, 414, 49, 255, 305, 13, 9, 260, 10, 44, 26, 3, 241, 213, 159, 75, 110]  len: 53\n",
            "\n",
            "Well-made product.Echo Spot - White\n",
            "[90, 220, 54, 12, 144, 380]  len: 6\n",
            "\n"
          ]
        }
      ]
    },
    {
      "cell_type": "markdown",
      "source": [
        "Podemos ver que cada secuencia tiene un tamaño distinto. Nuestro modelo necesita que todas las secuencias tengan la misma longitud. ¿Cómo podemos estimar la longitud más apropiadas?\n",
        "\n",
        "Sabemos que la secuencia más larga es de 526 tokens, sin embargo, vemos que el 99% de las oraciones tienen menos de 170 tokens y el 90% tienen menos de 60 tokens. Por tanto, si elegimos 526 como el tamaño de la secuencia, estaríamos desperdiciando mucha memoria (el tamaño medio es solo de 26 tokens).\n",
        "\n"
      ],
      "metadata": {
        "id": "7fxZKhepticW"
      }
    },
    {
      "cell_type": "code",
      "source": [
        "length_train.describe(percentiles=[0.25, 0.50, 0.75, 0.90, 0.95, 0.99])\n"
      ],
      "metadata": {
        "colab": {
          "base_uri": "https://localhost:8080/"
        },
        "id": "OOnCuD8jt0xV",
        "outputId": "a1ee2cb1-0d30-41d0-dafb-af531dc67090"
      },
      "execution_count": 13,
      "outputs": [
        {
          "output_type": "execute_result",
          "data": {
            "text/plain": [
              "count    2205.000000\n",
              "mean       26.170522\n",
              "std        36.618675\n",
              "min         0.000000\n",
              "25%         6.000000\n",
              "50%        15.000000\n",
              "75%        32.000000\n",
              "90%        60.000000\n",
              "95%        86.800000\n",
              "99%       171.000000\n",
              "max       526.000000\n",
              "Name: Text, dtype: float64"
            ]
          },
          "metadata": {},
          "execution_count": 13
        }
      ]
    },
    {
      "cell_type": "markdown",
      "source": [
        "\n",
        "Vamos a considerar el tamaño máximo como 60 tokens. Se aplicará padding (añadir el token espacial <pad>) a las oraciones con una longitud menor de 60 tokens. Por el contrario, si la oración tiene una longitud mayor, será truncada. Se puede elegir si el padding (o el trunking) es aplicado al principio o final de la oración. Por defecto, siempre se añade el padding y se realiza el trunking al principio de la oración. "
      ],
      "metadata": {
        "id": "2OtYa0FZvEAP"
      }
    },
    {
      "cell_type": "code",
      "source": [
        "MAX_LEN=60"
      ],
      "metadata": {
        "id": "DI3zOLdYvGgj"
      },
      "execution_count": 14,
      "outputs": []
    },
    {
      "cell_type": "markdown",
      "source": [
        "Aplicamos el método pad_sequences que se encargará tanto del padding como del recortar las oraciones con una longitud mayor a 60 tokens. Hemos decidido aplicare el padding al final de la oración (post). No decimos nada respecto al truncating, por tanto, las oraciones con una longitud mayor a 60 serán recortadas en el principio (por defecto). "
      ],
      "metadata": {
        "id": "MMQvPbPvvPCe"
      }
    },
    {
      "cell_type": "code",
      "source": [
        "from keras.utils import pad_sequences \n",
        "\n",
        "encoded_train = pad_sequences(encoded_train, maxlen = MAX_LEN, padding='post')\n",
        "encoded_val = pad_sequences(encoded_val, maxlen = MAX_LEN, padding='post')\n",
        "encoded_test = pad_sequences(encoded_test, maxlen = MAX_LEN, padding='post')"
      ],
      "metadata": {
        "id": "OWO6Z1dvvLRb"
      },
      "execution_count": 15,
      "outputs": []
    },
    {
      "cell_type": "code",
      "source": [
        "for i in range(3):\n",
        "    print(X_train[i])\n",
        "    print(encoded_train[i], \" len:\", len(encoded_train[i]))\n",
        "    print()"
      ],
      "metadata": {
        "colab": {
          "base_uri": "https://localhost:8080/"
        },
        "id": "TU1LxSaDwFl5",
        "outputId": "9c270aa8-402b-46cc-b678-cee8f9c1d2d0"
      },
      "execution_count": 16,
      "outputs": [
        {
          "output_type": "stream",
          "name": "stdout",
          "text": [
            "Great!!\n",
            "[17  0  0  0  0  0  0  0  0  0  0  0  0  0  0  0  0  0  0  0  0  0  0  0\n",
            "  0  0  0  0  0  0  0  0  0  0  0  0  0  0  0  0  0  0  0  0  0  0  0  0\n",
            "  0  0  0  0  0  0  0  0  0  0  0  0]  len: 60\n",
            "\n",
            "Echos are great I have a few of them through out our home .  All in voice range to ask a question. Say a command to turn lights on or off. Or my favorite is play music all though the house.\n",
            "[362  52  17   3  16   7 234  15 129 183  71  72  61  34  19 125 786   4\n",
            " 126   7 587 166   7 336   4 147 138  22  49 112  49   8 295   9  68  28\n",
            "  34 228   2 127   0   0   0   0   0   0   0   0   0   0   0   0   0   0\n",
            "   0   0   0   0   0   0]  len: 60\n",
            "\n",
            "Excellent product, mint condition for a refurbished unit - you would never know it's been refurbished!\n",
            "[ 395   54 2167  723   10    7  186  348   24   63  282  134   60  141\n",
            "  186    0    0    0    0    0    0    0    0    0    0    0    0    0\n",
            "    0    0    0    0    0    0    0    0    0    0    0    0    0    0\n",
            "    0    0    0    0    0    0    0    0    0    0    0    0    0    0\n",
            "    0    0    0    0]  len: 60\n",
            "\n"
          ]
        }
      ]
    },
    {
      "cell_type": "markdown",
      "source": [
        "## CNN"
      ],
      "metadata": {
        "id": "nuON_vKf33Sv"
      }
    },
    {
      "cell_type": "code",
      "source": [
        "import tensorflow as tf \n",
        "tf.__version__"
      ],
      "metadata": {
        "colab": {
          "base_uri": "https://localhost:8080/",
          "height": 35
        },
        "id": "ZDs1NatL4UeE",
        "outputId": "8ab1fa41-59d1-410f-9b99-7b886835da19"
      },
      "execution_count": 17,
      "outputs": [
        {
          "output_type": "execute_result",
          "data": {
            "text/plain": [
              "'2.9.2'"
            ],
            "application/vnd.google.colaboratory.intrinsic+json": {
              "type": "string"
            }
          },
          "metadata": {},
          "execution_count": 17
        }
      ]
    },
    {
      "cell_type": "code",
      "source": [
        "from keras.models import Sequential\n",
        "from keras.layers import Flatten, Dense, Embedding, Conv1D, MaxPooling1D\n",
        "\n",
        "EMBEDDING_SIZE=200\n",
        "model = Sequential()\n",
        "\n",
        "model.add(Embedding(NUM_WORDS, EMBEDDING_SIZE, input_length=MAX_LEN))\n",
        "model.add(Conv1D(filters=128, kernel_size=4, padding='same', activation='relu'))\n",
        "model.add(Conv1D(filters=64, kernel_size=4, padding='same', activation='relu'))\n",
        "model.add(Conv1D(filters=32, kernel_size=4, padding='same', activation='relu'))\n",
        "model.add(MaxPooling1D(pool_size=2))\n",
        "\n",
        "model.add(Flatten())\n",
        "model.add(Dense(256, activation='relu'))\n",
        "model.add(Dense(NUM_LABELS, activation='softmax'))\n",
        "model.compile(loss='categorical_crossentropy', optimizer='adam', metrics=['accuracy'])\n",
        "\n",
        "model.summary()"
      ],
      "metadata": {
        "colab": {
          "base_uri": "https://localhost:8080/"
        },
        "id": "OhEa91px35ui",
        "outputId": "d1213042-a1b1-43f6-a83a-39b8b30c5fc1"
      },
      "execution_count": 18,
      "outputs": [
        {
          "output_type": "stream",
          "name": "stdout",
          "text": [
            "Model: \"sequential\"\n",
            "_________________________________________________________________\n",
            " Layer (type)                Output Shape              Param #   \n",
            "=================================================================\n",
            " embedding (Embedding)       (None, 60, 200)           748000    \n",
            "                                                                 \n",
            " conv1d (Conv1D)             (None, 60, 128)           102528    \n",
            "                                                                 \n",
            " conv1d_1 (Conv1D)           (None, 60, 64)            32832     \n",
            "                                                                 \n",
            " conv1d_2 (Conv1D)           (None, 60, 32)            8224      \n",
            "                                                                 \n",
            " max_pooling1d (MaxPooling1D  (None, 30, 32)           0         \n",
            " )                                                               \n",
            "                                                                 \n",
            " flatten (Flatten)           (None, 960)               0         \n",
            "                                                                 \n",
            " dense (Dense)               (None, 256)               246016    \n",
            "                                                                 \n",
            " dense_1 (Dense)             (None, 5)                 1285      \n",
            "                                                                 \n",
            "=================================================================\n",
            "Total params: 1,138,885\n",
            "Trainable params: 1,138,885\n",
            "Non-trainable params: 0\n",
            "_________________________________________________________________\n"
          ]
        }
      ]
    },
    {
      "cell_type": "code",
      "source": [
        "from keras.callbacks import ModelCheckpoint, EarlyStopping\n",
        "# Save the model after every epoch.\n",
        "# saveBestModel = ModelCheckpoint(root+'CNNbest.hdf5', monitor='val_acc', verbose=0, save_best_only=True, save_weights_only=False, mode='auto', period=1)\n",
        "\n",
        "# Stop training when a monitored quantity has stopped improving.\n",
        "earlyStopping = EarlyStopping(monitor='val_loss', min_delta=0, patience=3, verbose=0, mode='auto')\n"
      ],
      "metadata": {
        "id": "rZxSOzOXx6qo"
      },
      "execution_count": 19,
      "outputs": []
    },
    {
      "cell_type": "markdown",
      "source": [
        "### Training"
      ],
      "metadata": {
        "id": "4UXEpbyx6E4j"
      }
    },
    {
      "cell_type": "code",
      "source": [
        "# Entrenamos el modelo\n",
        "epochs = 20 # número de veces que pasamos sobre el conjunto de aprendizaje\n",
        "\n",
        "#número de ejemplos que procesamos antes de acutalizar los pesos\n",
        "# El tamaño del conjunto aprendizaje es 2205, 2205/16 = 138. \n",
        "# En cada epoch, entrenamos 138 veces y actualizamos\n",
        "batch_size = 16 \n",
        "\n",
        "# training\n",
        "# history=model.fit(encoded_train, y_train_cat, batch_size=batch_size, epochs=epochs, validation_data=(encoded_val, y_val_cat), callbacks=[earlyStopping])\n",
        "history=model.fit(encoded_train, y_train_cat, batch_size=batch_size, epochs=epochs, validation_data=(encoded_val, y_val_cat))\n"
      ],
      "metadata": {
        "colab": {
          "base_uri": "https://localhost:8080/"
        },
        "id": "dVBSB6zEx-D3",
        "outputId": "d1e8f523-bb8b-4a70-eb0a-031b19eac824"
      },
      "execution_count": 24,
      "outputs": [
        {
          "output_type": "stream",
          "name": "stdout",
          "text": [
            "Epoch 1/20\n",
            "138/138 [==============================] - 1s 6ms/step - loss: 0.0727 - accuracy: 0.9737 - val_loss: 2.0997 - val_accuracy: 0.7016\n",
            "Epoch 2/20\n",
            "138/138 [==============================] - 1s 5ms/step - loss: 0.0732 - accuracy: 0.9787 - val_loss: 2.0953 - val_accuracy: 0.7460\n",
            "Epoch 3/20\n",
            "138/138 [==============================] - 1s 5ms/step - loss: 0.0535 - accuracy: 0.9819 - val_loss: 2.4561 - val_accuracy: 0.7333\n",
            "Epoch 4/20\n",
            "138/138 [==============================] - 1s 5ms/step - loss: 0.0543 - accuracy: 0.9800 - val_loss: 2.3276 - val_accuracy: 0.7460\n",
            "Epoch 5/20\n",
            "138/138 [==============================] - 1s 5ms/step - loss: 0.0515 - accuracy: 0.9819 - val_loss: 2.7011 - val_accuracy: 0.7587\n",
            "Epoch 6/20\n",
            "138/138 [==============================] - 1s 5ms/step - loss: 0.0505 - accuracy: 0.9819 - val_loss: 2.5888 - val_accuracy: 0.7397\n",
            "Epoch 7/20\n",
            "138/138 [==============================] - 1s 5ms/step - loss: 0.0485 - accuracy: 0.9832 - val_loss: 2.7201 - val_accuracy: 0.7460\n",
            "Epoch 8/20\n",
            "138/138 [==============================] - 1s 5ms/step - loss: 0.0472 - accuracy: 0.9832 - val_loss: 2.8406 - val_accuracy: 0.7556\n",
            "Epoch 9/20\n",
            "138/138 [==============================] - 1s 5ms/step - loss: 0.0485 - accuracy: 0.9814 - val_loss: 2.5190 - val_accuracy: 0.7397\n",
            "Epoch 10/20\n",
            "138/138 [==============================] - 1s 5ms/step - loss: 0.0466 - accuracy: 0.9828 - val_loss: 2.5970 - val_accuracy: 0.7556\n",
            "Epoch 11/20\n",
            "138/138 [==============================] - 1s 5ms/step - loss: 0.0459 - accuracy: 0.9828 - val_loss: 2.6294 - val_accuracy: 0.7397\n",
            "Epoch 12/20\n",
            "138/138 [==============================] - 1s 5ms/step - loss: 0.0456 - accuracy: 0.9823 - val_loss: 3.1648 - val_accuracy: 0.7619\n",
            "Epoch 13/20\n",
            "138/138 [==============================] - 1s 5ms/step - loss: 0.0468 - accuracy: 0.9819 - val_loss: 2.9471 - val_accuracy: 0.7524\n",
            "Epoch 14/20\n",
            "138/138 [==============================] - 1s 5ms/step - loss: 0.0468 - accuracy: 0.9823 - val_loss: 2.7759 - val_accuracy: 0.7524\n",
            "Epoch 15/20\n",
            "138/138 [==============================] - 1s 5ms/step - loss: 0.0454 - accuracy: 0.9819 - val_loss: 2.8551 - val_accuracy: 0.7556\n",
            "Epoch 16/20\n",
            "138/138 [==============================] - 1s 5ms/step - loss: 0.0480 - accuracy: 0.9814 - val_loss: 2.9193 - val_accuracy: 0.7429\n",
            "Epoch 17/20\n",
            "138/138 [==============================] - 1s 5ms/step - loss: 0.1618 - accuracy: 0.9497 - val_loss: 1.5464 - val_accuracy: 0.7429\n",
            "Epoch 18/20\n",
            "138/138 [==============================] - 1s 5ms/step - loss: 0.1430 - accuracy: 0.9542 - val_loss: 1.6920 - val_accuracy: 0.7619\n",
            "Epoch 19/20\n",
            "138/138 [==============================] - 1s 5ms/step - loss: 0.0864 - accuracy: 0.9723 - val_loss: 1.5189 - val_accuracy: 0.7302\n",
            "Epoch 20/20\n",
            "138/138 [==============================] - 1s 5ms/step - loss: 0.0547 - accuracy: 0.9810 - val_loss: 1.9259 - val_accuracy: 0.7492\n"
          ]
        }
      ]
    },
    {
      "cell_type": "markdown",
      "source": [
        "### Curvas de aprendizaje\n",
        "\n",
        "En las curva de aprenzije, el modelo es evaluado en el conjunto de entrenamiento para saber cómo de bien el modelo es capaz de aprender.\n",
        "Además, el modelo también se evalúa en el conjunto de validación para saber cómo de bien el modelo es capaz de generalizar. "
      ],
      "metadata": {
        "id": "g1oe7nof6k4r"
      }
    },
    {
      "cell_type": "code",
      "source": [
        "history_dict = history.history\n",
        "loss_values = history_dict['loss']\n",
        "val_loss_values = history_dict['val_loss']\n",
        "accuracy = history_dict['accuracy']\n",
        "val_accuracy = history_dict['val_accuracy']\n",
        " \n",
        "epochs = range(1, len(loss_values) + 1)\n",
        "fig, ax = plt.subplots(1, 2, figsize=(14, 6))\n",
        "#\n",
        "# Plot the model accuracy vs Epochs\n",
        "#\n",
        "ax[0].plot(epochs, accuracy, 'b', label='Training accuracy')\n",
        "ax[0].plot(epochs, val_accuracy, 'red', label='Validation accuracy')\n",
        "ax[0].set_title('Training & Validation Accuracy', fontsize=16)\n",
        "ax[0].set_xlabel('Epochs', fontsize=16)\n",
        "ax[0].set_ylabel('Accuracy', fontsize=16)\n",
        "ax[0].legend()\n",
        "#\n",
        "# Plot the loss vs Epochs\n",
        "#\n",
        "ax[1].plot(epochs, loss_values, 'b', label='Training loss')\n",
        "ax[1].plot(epochs, val_loss_values, 'red', label='Validation loss')\n",
        "ax[1].set_title('Training & Validation Loss', fontsize=16)\n",
        "ax[1].set_xlabel('Epochs', fontsize=16)\n",
        "ax[1].set_ylabel('Loss', fontsize=16)\n",
        "ax[1].legend()"
      ],
      "metadata": {
        "colab": {
          "base_uri": "https://localhost:8080/",
          "height": 329
        },
        "id": "gfzskPP0NgVI",
        "outputId": "c413b3fd-3840-4aec-ec65-b8d9e7982dc1"
      },
      "execution_count": 25,
      "outputs": [
        {
          "output_type": "execute_result",
          "data": {
            "text/plain": [
              "<matplotlib.legend.Legend at 0x7f64e65b6d60>"
            ]
          },
          "metadata": {},
          "execution_count": 25
        },
        {
          "output_type": "display_data",
          "data": {
            "text/plain": [
              "<Figure size 1008x432 with 2 Axes>"
            ],
            "image/png": "[encoded data removed]"
          },
          "metadata": {
            "needs_background": "light"
          }
        }
      ]
    },
    {
      "cell_type": "markdown",
      "source": [
        "### Evaluación"
      ],
      "metadata": {
        "id": "hzLMS4LrW6nV"
      }
    },
    {
      "cell_type": "code",
      "source": [
        "loss, accuracy = model.evaluate(encoded_test, y_test_cat, batch_size=batch_size)\n",
        "# El tamaño del conjunto test es de 630\n",
        "# SE evalua en batch de 16: 630 / 16 = 40 veces"
      ],
      "metadata": {
        "id": "xgujBhDRVtcj",
        "colab": {
          "base_uri": "https://localhost:8080/"
        },
        "outputId": "a2b524d1-26e6-496e-ec9d-49f49c914247"
      },
      "execution_count": 26,
      "outputs": [
        {
          "output_type": "stream",
          "name": "stdout",
          "text": [
            "40/40 [==============================] - 0s 5ms/step - loss: 1.7300 - accuracy: 0.7810\n"
          ]
        }
      ]
    },
    {
      "cell_type": "markdown",
      "source": [
        "También podemos hacer la evaluación usando las función **classification_report** que nos dará más información sobre los resultados para cada clase:"
      ],
      "metadata": {
        "id": "medL15Ia6XEw"
      }
    },
    {
      "cell_type": "code",
      "source": [
        "import numpy as np\n",
        "from sklearn.metrics import accuracy_score, classification_report \n",
        "\n",
        "y_pred = np.argmax(model.predict(encoded_test), axis=1)\n",
        "print(y_pred[0:10])\n",
        "print('accuracy:', accuracy_score(y_test, y_pred))\n",
        "\n",
        "print(classification_report(y_test, y_pred, target_names=['1','2','3','4','5']))"
      ],
      "metadata": {
        "colab": {
          "base_uri": "https://localhost:8080/"
        },
        "id": "tAWiguYs1W6D",
        "outputId": "d396038b-8ad7-42dd-c7a7-b73d73d1a240"
      },
      "execution_count": 27,
      "outputs": [
        {
          "output_type": "stream",
          "name": "stdout",
          "text": [
            "20/20 [==============================] - 0s 6ms/step\n",
            "[3 4 3 4 3 4 2 4 2 4]\n",
            "accuracy: 0.780952380952381\n",
            "              precision    recall  f1-score   support\n",
            "\n",
            "           1       0.38      0.25      0.30        32\n",
            "           2       0.43      0.32      0.36        19\n",
            "           3       0.70      0.52      0.59        31\n",
            "           4       0.52      0.55      0.53        91\n",
            "           5       0.87      0.90      0.88       457\n",
            "\n",
            "    accuracy                           0.78       630\n",
            "   macro avg       0.58      0.51      0.53       630\n",
            "weighted avg       0.77      0.78      0.77       630\n",
            "\n"
          ]
        }
      ]
    }
  ]
}