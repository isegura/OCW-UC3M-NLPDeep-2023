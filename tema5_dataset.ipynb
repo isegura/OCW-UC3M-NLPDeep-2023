{
  "cells": [
    {
      "cell_type": "markdown",
      "metadata": {
        "id": "view-in-github",
        "colab_type": "text"
      },
      "source": [
        "<a href=\"https://colab.research.google.com/github/isegura/OCW-UC3M-NLPDeep-2023/blob/main/tema5_dataset.ipynb\" target=\"_parent\"><img src=\"https://colab.research.google.com/assets/colab-badge.svg\" alt=\"Open In Colab\"/></a>"
      ]
    },
    {
      "cell_type": "markdown",
      "source": [
        "<center>\n",
        "<img src=\"https://upload.wikimedia.org/wikipedia/commons/4/47/Acronimo_y_nombre_uc3m.png\" width=50%/>\n",
        "\n",
        "<h1><font color='#12007a'>Procesamiento de Lenguaje Natural con Aprendizaje Profundo</font></h1>\n",
        "<p>Autora: Isabel Segura Bedmar</p>\n",
        "\n",
        "<img align='right' src=\"https://mirrors.creativecommons.org/presskit/buttons/88x31/png/by-nc-sa.png\" width=15%/>\n",
        "</center>   "
      ],
      "metadata": {
        "id": "-KBSpq_kesma"
      }
    },
    {
      "cell_type": "markdown",
      "metadata": {
        "id": "sAV7hBMZ3bIB"
      },
      "source": [
        "# 5.1. Cómo cargar un dataset de Hugging Face\n",
        "\n",
        "El principal de Hugging Face (https://huggingface.co/) es proporcionar una plataforma donde los investigadores en aprendizaje automático, y en particular, las personas que trabajan en PLN o en visión artificial, colaboren compartiendo sus modelos, datasets, y aplicaciones.\n",
        "\n",
        "En este ejercicio, aprenderemos a cargar y explorar uno de los datasets alojado en el repositorio de Hugging Face (https://huggingface.co/datasets), donde los usuarios comparten sus colecciones de datos.\n",
        "\n",
        "\n"
      ]
    },
    {
      "cell_type": "markdown",
      "metadata": {
        "id": "cMm-ZCT32rgM"
      },
      "source": [
        "## Instalación de la librería datasets\n",
        "El primer paso será instalar la librería **datasets** proporcionada por Hugging Face. La opción -q nos permite instalarla en modo silencioso, sin mostrar todas las librerías y dependencias implicadas en la instalación."
      ]
    },
    {
      "cell_type": "code",
      "execution_count": 1,
      "metadata": {
        "id": "1A__GPoP3h11",
        "colab": {
          "base_uri": "https://localhost:8080/"
        },
        "outputId": "2ac20a2b-99e4-483c-97b4-0ef282550c0c"
      },
      "outputs": [
        {
          "output_type": "stream",
          "name": "stdout",
          "text": [
            "\u001b[2K     \u001b[90m━━━━━━━━━━━━━━━━━━━━━━━━━━━━━━━━━━━━━━━\u001b[0m \u001b[32m519.6/519.6 kB\u001b[0m \u001b[31m7.8 MB/s\u001b[0m eta \u001b[36m0:00:00\u001b[0m\n",
            "\u001b[2K     \u001b[90m━━━━━━━━━━━━━━━━━━━━━━━━━━━━━━━━━━━━━━\u001b[0m \u001b[32m115.3/115.3 kB\u001b[0m \u001b[31m10.0 MB/s\u001b[0m eta \u001b[36m0:00:00\u001b[0m\n",
            "\u001b[2K     \u001b[90m━━━━━━━━━━━━━━━━━━━━━━━━━━━━━━━━━━━━━━\u001b[0m \u001b[32m194.1/194.1 kB\u001b[0m \u001b[31m19.5 MB/s\u001b[0m eta \u001b[36m0:00:00\u001b[0m\n",
            "\u001b[2K     \u001b[90m━━━━━━━━━━━━━━━━━━━━━━━━━━━━━━━━━━━━━━\u001b[0m \u001b[32m134.8/134.8 kB\u001b[0m \u001b[31m15.2 MB/s\u001b[0m eta \u001b[36m0:00:00\u001b[0m\n",
            "\u001b[2K     \u001b[90m━━━━━━━━━━━━━━━━━━━━━━━━━━━━━━━━━━━━━━\u001b[0m \u001b[32m295.0/295.0 kB\u001b[0m \u001b[31m30.5 MB/s\u001b[0m eta \u001b[36m0:00:00\u001b[0m\n",
            "\u001b[?25h"
          ]
        }
      ],
      "source": [
        "!pip install -q datasets"
      ]
    },
    {
      "cell_type": "markdown",
      "metadata": {
        "id": "OissruTyHAjo"
      },
      "source": [
        "## Obtener información sobre un dataset (sin necesidad de descargarlo)\n",
        "\n",
        "En este ejercicio, vamos a trabajar con el dataset  **rotten_tomatoes**, compuesto por reseñas de usuarios sobre películas recolectadas de la web Rotten Tomatoes.\n",
        "\n",
        "\n",
        "La función **load_dataset_builder()** nos pérmite obtener la información asociada a un dataset sin necesidad de descargarlo.\n"
      ]
    },
    {
      "cell_type": "code",
      "execution_count": 4,
      "metadata": {
        "colab": {
          "base_uri": "https://localhost:8080/"
        },
        "id": "C1jJsYGl2qvF",
        "outputId": "8d1b7f9e-3d96-42cf-c42a-48bce06da828"
      },
      "outputs": [
        {
          "output_type": "stream",
          "name": "stdout",
          "text": [
            "Descripción del dataset: Movie Review Dataset.\n",
            "This is a dataset of containing 5,331 positive and 5,331 negative processed\n",
            "sentences from Rotten Tomatoes movie reviews. This data was first used in Bo\n",
            "Pang and Lillian Lee, ``Seeing stars: Exploiting class relationships for\n",
            "sentiment categorization with respect to rating scales.'', Proceedings of the\n",
            "ACL, 2005.\n",
            "\n",
            "Características (features) del dataset: {'text': Value(dtype='string', id=None), 'label': ClassLabel(names=['neg', 'pos'], id=None)}\n"
          ]
        }
      ],
      "source": [
        "from datasets import load_dataset_builder\n",
        "ds_builder = load_dataset_builder(\"rotten_tomatoes\")\n",
        "\n",
        "print(\"Descripción del dataset:\", ds_builder.info.description)\n",
        "print(\"Características (features) del dataset:\", ds_builder.info.features)\n",
        "\n"
      ]
    },
    {
      "cell_type": "markdown",
      "source": [
        "Después de ejecutar la celda, podemos ver que el dataset contienen 5.331 oraciones clasificadas como positivas (polaridad o sentimiento positivo) y 5.331 negativas.\n",
        "También indica el artículo donde este dataset fue utilizado por primera vez.\n",
        "\n",
        "Otra información relevante es la información sobre las características (features) o campos del datataset. En este caso, el dataset únicamente tiene dos campos: **text** de tipo String, y que es el campo que contiene el texto de las oraciones, y **label** que es el campo que almacena la polaridad (positiva o negativa) del texto asociado."
      ],
      "metadata": {
        "id": "Wwj8VvWVhEXX"
      }
    },
    {
      "cell_type": "markdown",
      "metadata": {
        "id": "w3gsHuMs5hV9"
      },
      "source": [
        "## Mostrar las particiones (splits) de un dataset\n",
        "\n",
        "El método **get_dataset_split_names** nos proporciona el conjunto de splits que se proporcionan en el dataset. En el caso de nuestro ejemplo, el dataset tiene tres splits: uno para entrenar (**train**), otro que será utilizado durante la fase de entrenamiento para validar en el modelo en cada epoch o paso (**validation**), y otro que será utilizado para proporcionar una evaluación final del modelo sobre un cojunto de textos que no han sido empleados durante el entrenamiento (**test**). Esto es una gran ventaja, porque el investigador se puede despreocupar de generar estos splits."
      ]
    },
    {
      "cell_type": "code",
      "execution_count": null,
      "metadata": {
        "colab": {
          "base_uri": "https://localhost:8080/"
        },
        "id": "TVYG8VVVBJCf",
        "outputId": "be5ea0eb-2bf2-4ce5-ed27-99a9f63e6f5c"
      },
      "outputs": [
        {
          "output_type": "execute_result",
          "data": {
            "text/plain": [
              "['train', 'validation', 'test']"
            ]
          },
          "metadata": {},
          "execution_count": 14
        }
      ],
      "source": [
        "from datasets import get_dataset_split_names\n",
        "get_dataset_split_names(\"rotten_tomatoes\")\n"
      ]
    },
    {
      "cell_type": "markdown",
      "source": [
        "Sin embargo, hay otros corpus que proporcionan únicamente un split (normalmente con el nombre de 'train'), como por ejemplo, el dataset **app_reviews** formado por comentarios de usuarios sobre aplicaciones de Android."
      ],
      "metadata": {
        "id": "IkVWmEKniTWA"
      }
    },
    {
      "cell_type": "code",
      "source": [
        "from datasets import get_dataset_split_names\n",
        "ds_builder = load_dataset_builder(\"app_reviews\")\n",
        "\n",
        "print(\"Descripción del dataset:\", ds_builder.info.description)\n",
        "print(\"Características (features) del dataset:\", ds_builder.info.features)\n",
        "print(\"Splits: \", get_dataset_split_names(\"app_reviews\"))\n"
      ],
      "metadata": {
        "colab": {
          "base_uri": "https://localhost:8080/"
        },
        "id": "fBcGv_Q1iZi6",
        "outputId": "57849df0-c1c6-4550-e544-63ed6dc2dce7"
      },
      "execution_count": 9,
      "outputs": [
        {
          "output_type": "stream",
          "name": "stdout",
          "text": [
            "Descripción del dataset: It is a large dataset of Android applications belonging to 23 differentapps categories, which provides an overview of the types of feedback users report on the apps and documents the evolution of the related code metrics. The dataset contains about 395 applications of the F-Droid repository, including around 600 versions, 280,000 user reviews (extracted with specific text mining approaches)\n",
            "\n",
            "Características (features) del dataset: {'package_name': Value(dtype='string', id=None), 'review': Value(dtype='string', id=None), 'date': Value(dtype='string', id=None), 'star': Value(dtype='int8', id=None)}\n",
            "Splits:  ['train']\n"
          ]
        }
      ]
    },
    {
      "cell_type": "markdown",
      "source": [
        "Si quieres usar el dataset anterior para desarrollar un modelo para la clasificación de sus textos, tendrás que crear los splits 'validation' y 'train' con el método **train_test_split**. Eso lo veremos en otro ejercicio de este tema."
      ],
      "metadata": {
        "id": "mo6daGD6jab5"
      }
    },
    {
      "cell_type": "markdown",
      "metadata": {
        "id": "8ArzlpXEByuQ"
      },
      "source": [
        "## Cargar un dataset\n",
        "\n",
        "Ahora ya sí vamos a cargar nuestro dataset con el método **load_dataset**. Únicamente tenemos que pasarle como argumento el nombre del dataset en el repositorio de Hugging Face:\n"
      ]
    },
    {
      "cell_type": "code",
      "execution_count": 10,
      "metadata": {
        "colab": {
          "base_uri": "https://localhost:8080/",
          "height": 394,
          "referenced_widgets": [
            "63bdb4088cce4293bcf8ec3239f031b9",
            "63908f8093f44a8791c458768e018423",
            "217dbe999e4547a49f46f70728568790",
            "e1757b6bbfbd440c9bff8c7f34db1ea0",
            "08e88ca0958d4b248bdd77fc339f9140",
            "4e9b8406937d47ac81b607411f2b0e54",
            "0928a4994f7c40dfa0b493960e30b6ae",
            "a6edeebedce7472dbe81cafc2f8a5c30",
            "f566c7773a7641bea1c7e3384f5d2e41",
            "7d971ef819fa4d8da84323cb16bd289f",
            "14aa91dbc73d41609128f731705bff2a",
            "0660f6d6193145bfb430b07315609139",
            "55dbce5d280f474fb7999124ae6c651d",
            "984cc5f96cc345da96c2aff6ea1996a8",
            "b34856f900544e5786f4efe7df039435",
            "9bd68a999a014c16ae078fe989404cd1",
            "91af8b075fb74cbab0c53d8552cc1f20",
            "3b701e4f4085425ea6734f3365d9f564",
            "e1d9ad05e8404e3a8d7d29dfa01affb2",
            "e328facc4c054a788e18a30bcc1dee59",
            "2b26cb05172e47f1af9f95e52c574a9b",
            "b247f75e18a34c3ca7f01ca269034ccc",
            "7f725fc8f17846b2a5772cc493be2ce3",
            "1b50db4f1c8747a2a16006bcb3af59b9",
            "12040b3efc8b49d09078f4b9e0d1b1f2",
            "d8de961b704e455595e972ba87c63cbb",
            "63842ffe716d4b368e4d938c43c3c6d0",
            "92b090f950cd43fcbc17255909c701d5",
            "253f6f48cbfc486393203f796f5f5c50",
            "8e4830574f5145b1ba0f621c96416912",
            "2cbb8c04db7f43c3a21e40bfca2e8865",
            "3c8dc3c88ff44ad39d0277d0ae8f08d4",
            "888cf7873e51479ca4d438f14d845839",
            "b971be9dbc0a4de88b988597e158ca07",
            "f4b44f7ed557437e8d3e5a189b271823",
            "ed8f4e29e01c413ba94e1908e7157655",
            "9da5c7df07f5479ca6aa2a86dd34b4bf",
            "55691ab9efa541e28f811937369603cd",
            "d39c4fc793d741219573b2d55b90abac",
            "6b22f9d68803454d8a21a109c6cd6e42",
            "5caebf1f4e4641b0aa2ab5cee6cf0e19",
            "84cba19d33074bb89c17e593f8a84857",
            "017866522b814a18a00bbfd2f3d8d7d5",
            "effce98c830c4d849da1731969f42d10"
          ]
        },
        "id": "lBRbrLQ9B2w7",
        "outputId": "c02d140a-4f87-4e6a-b067-321086e3c89a"
      },
      "outputs": [
        {
          "output_type": "display_data",
          "data": {
            "text/plain": [
              "Downloading data:   0%|          | 0.00/488k [00:00<?, ?B/s]"
            ],
            "application/vnd.jupyter.widget-view+json": {
              "version_major": 2,
              "version_minor": 0,
              "model_id": "63bdb4088cce4293bcf8ec3239f031b9"
            }
          },
          "metadata": {}
        },
        {
          "output_type": "display_data",
          "data": {
            "text/plain": [
              "Generating train split:   0%|          | 0/8530 [00:00<?, ? examples/s]"
            ],
            "application/vnd.jupyter.widget-view+json": {
              "version_major": 2,
              "version_minor": 0,
              "model_id": "0660f6d6193145bfb430b07315609139"
            }
          },
          "metadata": {}
        },
        {
          "output_type": "display_data",
          "data": {
            "text/plain": [
              "Generating validation split:   0%|          | 0/1066 [00:00<?, ? examples/s]"
            ],
            "application/vnd.jupyter.widget-view+json": {
              "version_major": 2,
              "version_minor": 0,
              "model_id": "7f725fc8f17846b2a5772cc493be2ce3"
            }
          },
          "metadata": {}
        },
        {
          "output_type": "display_data",
          "data": {
            "text/plain": [
              "Generating test split:   0%|          | 0/1066 [00:00<?, ? examples/s]"
            ],
            "application/vnd.jupyter.widget-view+json": {
              "version_major": 2,
              "version_minor": 0,
              "model_id": "b971be9dbc0a4de88b988597e158ca07"
            }
          },
          "metadata": {}
        },
        {
          "output_type": "execute_result",
          "data": {
            "text/plain": [
              "DatasetDict({\n",
              "    train: Dataset({\n",
              "        features: ['text', 'label'],\n",
              "        num_rows: 8530\n",
              "    })\n",
              "    validation: Dataset({\n",
              "        features: ['text', 'label'],\n",
              "        num_rows: 1066\n",
              "    })\n",
              "    test: Dataset({\n",
              "        features: ['text', 'label'],\n",
              "        num_rows: 1066\n",
              "    })\n",
              "})"
            ]
          },
          "metadata": {},
          "execution_count": 10
        }
      ],
      "source": [
        "from datasets import load_dataset\n",
        "load_dataset(\"rotten_tomatoes\")\n"
      ]
    },
    {
      "cell_type": "markdown",
      "source": [
        "La ejecución de la celda anterior nos muestra que el método **load_dataset** devuelve un objeto **DatasetDict** que es un diccionario de objetos Dataset. Las clases (keys) del diccionario son los nombres de los splits: train, validation, y test.\n",
        "Asociado a cada clave (a cada split), tenemos un objeto Dataset. Por ejemplo, en el caso del 'train', tenemos un dataset con 8,530 filas (es decir, registros o instancias). Cada instancia tiene dos campos: 'text', 'label', como ya explicamos anteriormente.\n",
        "Como es de esperar, los splits y de validación y test son bastante más pequeños, y sólo contienen 1.066 instancias, cada uno de ellos.\n",
        "\n"
      ],
      "metadata": {
        "id": "YYX3cAuxj5w6"
      }
    },
    {
      "cell_type": "markdown",
      "source": [
        "### Otras opciones de load_dataset\n",
        "\n",
        "Podemos cargar directamente una de las particiones (split), por ejemplo, 'train':"
      ],
      "metadata": {
        "id": "C9UeHCHn8Syg"
      }
    },
    {
      "cell_type": "code",
      "execution_count": 11,
      "metadata": {
        "colab": {
          "base_uri": "https://localhost:8080/"
        },
        "id": "zzv3kqghCViB",
        "outputId": "234428c7-b38d-40a3-8ebe-fc9a3680b499"
      },
      "outputs": [
        {
          "output_type": "execute_result",
          "data": {
            "text/plain": [
              "Dataset({\n",
              "    features: ['text', 'label'],\n",
              "    num_rows: 8530\n",
              "})"
            ]
          },
          "metadata": {},
          "execution_count": 11
        }
      ],
      "source": [
        "load_dataset(\"rotten_tomatoes\", split=\"train\")\n"
      ]
    },
    {
      "cell_type": "markdown",
      "source": [
        "En este caso, podemos ver que el método no devuelve un diccionario, sino que devuelve únicamente un objeto Dataset con 8.530 instancias."
      ],
      "metadata": {
        "id": "EtGKYu6hkis_"
      }
    },
    {
      "cell_type": "markdown",
      "metadata": {
        "id": "5lIAkp4DC5oY"
      },
      "source": [
        "También es posible cargar distintas combinaciones. Por ejemplo, podemos cargar en un mismo dataset los splits de training y validación:"
      ]
    },
    {
      "cell_type": "code",
      "execution_count": 12,
      "metadata": {
        "colab": {
          "base_uri": "https://localhost:8080/"
        },
        "id": "jZ9MDKoGC9OI",
        "outputId": "f6f85d99-7753-4016-e064-027db59fb647"
      },
      "outputs": [
        {
          "output_type": "execute_result",
          "data": {
            "text/plain": [
              "Dataset({\n",
              "    features: ['text', 'label'],\n",
              "    num_rows: 9596\n",
              "})"
            ]
          },
          "metadata": {},
          "execution_count": 12
        }
      ],
      "source": [
        "load_dataset(\"rotten_tomatoes\", split=\"train+validation\")\n"
      ]
    },
    {
      "cell_type": "markdown",
      "source": [
        "Date cuenta ahora que el número de filas (instancias) es 8.530 + 1.066 = 9.596"
      ],
      "metadata": {
        "id": "-dtDVoDekwZC"
      }
    },
    {
      "cell_type": "markdown",
      "source": [
        "También podemos cargar una pequeña muestra o subconjunto de un split. En el siguiente ejemplo, vamos a cargar únicamente el primer 1% de instancias del split train (es decir, unas 85 instancias):"
      ],
      "metadata": {
        "id": "gazUZfvHBPbi"
      }
    },
    {
      "cell_type": "code",
      "source": [
        "sample = load_dataset('rotten_tomatoes', split='train[:1%]')\n",
        "print(sample.num_rows, ' instancias')\n"
      ],
      "metadata": {
        "colab": {
          "base_uri": "https://localhost:8080/"
        },
        "id": "G5xdqe6KBUMZ",
        "outputId": "953b1a65-de1c-4f8d-ab50-06e1aec86071"
      },
      "execution_count": 13,
      "outputs": [
        {
          "output_type": "stream",
          "name": "stdout",
          "text": [
            "85  instancias\n"
          ]
        }
      ]
    },
    {
      "cell_type": "markdown",
      "source": [
        "Vamos las instancias de dicho subconjunto. Para acceder a cada instancia es necesario indicar el índice. Después simplemente tenemos que indicar el campo que queremos mostrar:"
      ],
      "metadata": {
        "id": "aZHq399hlF8q"
      }
    },
    {
      "cell_type": "code",
      "source": [
        "for i in range(sample.num_rows):\n",
        "    print(\"text: \", sample[i]['text'], \"label: \", sample[i]['label'])\n"
      ],
      "metadata": {
        "colab": {
          "base_uri": "https://localhost:8080/"
        },
        "id": "2JdIp9IoDkzh",
        "outputId": "b9a5e02c-d97f-4afb-a43d-d8a49f8568ac"
      },
      "execution_count": 14,
      "outputs": [
        {
          "output_type": "stream",
          "name": "stdout",
          "text": [
            "text:  the rock is destined to be the 21st century's new \" conan \" and that he's going to make a splash even greater than arnold schwarzenegger , jean-claud van damme or steven segal . label:  1\n",
            "text:  the gorgeously elaborate continuation of \" the lord of the rings \" trilogy is so huge that a column of words cannot adequately describe co-writer/director peter jackson's expanded vision of j . r . r . tolkien's middle-earth . label:  1\n",
            "text:  effective but too-tepid biopic label:  1\n",
            "text:  if you sometimes like to go to the movies to have fun , wasabi is a good place to start . label:  1\n",
            "text:  emerges as something rare , an issue movie that's so honest and keenly observed that it doesn't feel like one . label:  1\n",
            "text:  the film provides some great insight into the neurotic mindset of all comics -- even those who have reached the absolute top of the game . label:  1\n",
            "text:  offers that rare combination of entertainment and education . label:  1\n",
            "text:  perhaps no picture ever made has more literally showed that the road to hell is paved with good intentions . label:  1\n",
            "text:  steers turns in a snappy screenplay that curls at the edges ; it's so clever you want to hate it . but he somehow pulls it off . label:  1\n",
            "text:  take care of my cat offers a refreshingly different slice of asian cinema . label:  1\n",
            "text:  this is a film well worth seeing , talking and singing heads and all . label:  1\n",
            "text:  what really surprises about wisegirls is its low-key quality and genuine tenderness . label:  1\n",
            "text:  ( wendigo is ) why we go to the cinema : to be fed through the eye , the heart , the mind . label:  1\n",
            "text:  one of the greatest family-oriented , fantasy-adventure movies ever . label:  1\n",
            "text:  ultimately , it ponders the reasons we need stories so much . label:  1\n",
            "text:  an utterly compelling 'who wrote it' in which the reputation of the most famous author who ever lived comes into question . label:  1\n",
            "text:  illuminating if overly talky documentary . label:  1\n",
            "text:  a masterpiece four years in the making . label:  1\n",
            "text:  the movie's ripe , enrapturing beauty will tempt those willing to probe its inscrutable mysteries . label:  1\n",
            "text:  offers a breath of the fresh air of true sophistication . label:  1\n",
            "text:  a thoughtful , provocative , insistently humanizing film . label:  1\n",
            "text:  with a cast that includes some of the top actors working in independent film , lovely & amazing involves us because it is so incisive , so bleakly amusing about how we go about our lives . label:  1\n",
            "text:  a disturbing and frighteningly evocative assembly of imagery and hypnotic music composed by philip glass . label:  1\n",
            "text:  not for everyone , but for those with whom it will connect , it's a nice departure from standard moviegoing fare . label:  1\n",
            "text:  scores a few points for doing what it does with a dedicated and good-hearted professionalism . label:  1\n",
            "text:  occasionally melodramatic , it's also extremely effective . label:  1\n",
            "text:  spiderman rocks label:  1\n",
            "text:  an idealistic love story that brings out the latent 15-year-old romantic in everyone . label:  1\n",
            "text:  at about 95 minutes , treasure planet maintains a brisk pace as it races through the familiar story . however , it lacks grandeur and that epic quality often associated with stevenson's tale as well as with earlier disney efforts . label:  1\n",
            "text:  it helps that lil bow wow . . . tones down his pint-sized gangsta act to play someone who resembles a real kid . label:  1\n",
            "text:  guaranteed to move anyone who ever shook , rattled , or rolled . label:  1\n",
            "text:  a masterful film from a master filmmaker , unique in its deceptive grimness , compelling in its fatalist worldview . label:  1\n",
            "text:  light , cute and forgettable . label:  1\n",
            "text:  if there's a way to effectively teach kids about the dangers of drugs , i think it's in projects like the ( unfortunately r-rated ) paid . label:  1\n",
            "text:  while it would be easy to give crush the new title of two weddings and a funeral , it's a far more thoughtful film than any slice of hugh grant whimsy . label:  1\n",
            "text:  though everything might be literate and smart , it never took off and always seemed static . label:  1\n",
            "text:  cantet perfectly captures the hotel lobbies , two-lane highways , and roadside cafes that permeate vincent's days label:  1\n",
            "text:  ms . fulford-wierzbicki is almost spooky in her sulky , calculating lolita turn . label:  1\n",
            "text:  though it is by no means his best work , laissez-passer is a distinguished and distinctive effort by a bona-fide master , a fascinating film replete with rewards to be had by all willing to make the effort to reap them . label:  1\n",
            "text:  like most bond outings in recent years , some of the stunts are so outlandish that they border on being cartoonlike . a heavy reliance on cgi technology is beginning to creep into the series . label:  1\n",
            "text:  newton draws our attention like a magnet , and acts circles around her better known co-star , mark wahlberg . label:  1\n",
            "text:  the story loses its bite in a last-minute happy ending that's even less plausible than the rest of the picture . much of the way , though , this is a refreshingly novel ride . label:  1\n",
            "text:  fuller would surely have called this gutsy and at times exhilarating movie a great yarn . label:  1\n",
            "text:  'compleja e intelectualmente retadora , el ladrón de orquídeas es uno de esos filmes que vale la pena ver precisamente por su originalidad . ' label:  1\n",
            "text:  the film makes a strong case for the importance of the musicians in creating the motown sound . label:  1\n",
            "text:  karmen moves like rhythm itself , her lips chanting to the beat , her long , braided hair doing little to wipe away the jeweled beads of sweat . label:  1\n",
            "text:  gosling provides an amazing performance that dwarfs everything else in the film . label:  1\n",
            "text:  a real movie , about real people , that gives us a rare glimpse into a culture most of us don't know . label:  1\n",
            "text:  tender yet lacerating and darkly funny fable . label:  1\n",
            "text:  may be spoofing an easy target -- those old '50's giant creature features -- but . . . it acknowledges and celebrates their cheesiness as the reason why people get a kick out of watching them today . label:  1\n",
            "text:  an engaging overview of johnson's eccentric career . label:  1\n",
            "text:  in its ragged , cheap and unassuming way , the movie works . label:  1\n",
            "text:  some actors have so much charisma that you'd be happy to listen to them reading the phone book . hugh grant and sandra bullock are two such likeable actors . label:  1\n",
            "text:  sandra nettelbeck beautifully orchestrates the transformation of the chilly , neurotic , and self-absorbed martha as her heart begins to open . label:  1\n",
            "text:  behind the snow games and lovable siberian huskies ( plus one sheep dog ) , the picture hosts a parka-wrapped dose of heart . label:  1\n",
            "text:  everytime you think undercover brother has run out of steam , it finds a new way to surprise and amuse . label:  1\n",
            "text:  manages to be original , even though it rips off many of its ideas . label:  1\n",
            "text:  singer/composer bryan adams contributes a slew of songs  a few potential hits , a few more simply intrusive to the story  but the whole package certainly captures the intended , er , spirit of the piece . label:  1\n",
            "text:  you'd think by now america would have had enough of plucky british eccentrics with hearts of gold . yet the act is still charming here . label:  1\n",
            "text:  whether or not you're enlightened by any of derrida's lectures on \" the other \" and \" the self , \" derrida is an undeniably fascinating and playful fellow . label:  1\n",
            "text:  a pleasant enough movie , held together by skilled ensemble actors . label:  1\n",
            "text:  this is the best american movie about troubled teens since 1998's whatever . label:  1\n",
            "text:  disney has always been hit-or-miss when bringing beloved kids' books to the screen . . . tuck everlasting is a little of both . label:  1\n",
            "text:  just the labour involved in creating the layered richness of the imagery in this chiaroscuro of madness and light is astonishing . label:  1\n",
            "text:  the animated subplot keenly depicts the inner struggles of our adolescent heroes - insecure , uncontrolled , and intense . label:  1\n",
            "text:  the invincible werner herzog is alive and well and living in la label:  1\n",
            "text:  morton is a great actress portraying a complex character , but morvern callar grows less compelling the farther it meanders from its shocking start . label:  1\n",
            "text:  part of the charm of satin rouge is that it avoids the obvious with humour and lightness . label:  1\n",
            "text:  son of the bride may be a good half-hour too long but comes replete with a flattering sense of mystery and quietness . label:  1\n",
            "text:  a simmering psychological drama in which the bursts of sudden violence are all the more startling for the slow buildup that has preceded them . label:  1\n",
            "text:  a taut , intelligent psychological drama . label:  1\n",
            "text:  a compelling coming-of-age drama about the arduous journey of a sensitive young girl through a series of foster homes and a fierce struggle to pull free from her dangerous and domineering mother's hold over her . label:  1\n",
            "text:  a truly moving experience , and a perfect example of how art -- when done right -- can help heal , clarify , and comfort . label:  1\n",
            "text:  this delicately observed story , deeply felt and masterfully stylized , is a triumph for its maverick director . label:  1\n",
            "text:  at heart the movie is a deftly wrought suspense yarn whose richer shadings work as coloring rather than substance . label:  1\n",
            "text:  the appearance of treebeard and gollum's expanded role will either have you loving what you're seeing , or rolling your eyes . i loved it ! gollum's 'performance' is incredible ! label:  1\n",
            "text:  a screenplay more ingeniously constructed than \" memento \" label:  1\n",
            "text:  if this movie were a book , it would be a page-turner , you can't wait to see what happens next . label:  1\n",
            "text:  haneke challenges us to confront the reality of sexual aberration . label:  1\n",
            "text:  absorbing and disturbing -- perhaps more disturbing than originally intended -- but a little clarity would have gone a long way . label:  1\n",
            "text:  it's the best film of the year so far , the benchmark against which all other best picture contenders should be measured . label:  1\n",
            "text:  painful to watch , but viewers willing to take a chance will be rewarded with two of the year's most accomplished and riveting film performances . label:  1\n",
            "text:  this is a startling film that gives you a fascinating , albeit depressing view of iranian rural life close to the iraqi border . label:  1\n",
            "text:  an imaginative comedy/thriller . label:  1\n",
            "text:  a few artsy flourishes aside , narc is as gritty as a movie gets these days . label:  1\n"
          ]
        }
      ]
    },
    {
      "cell_type": "markdown",
      "metadata": {
        "id": "x8ZLC_QsCqUI"
      },
      "source": [
        "En este otro ejemplo, vamos a crear un subconjunto formado por las instancias del split de training cuyos índices van desde 10 hasta el 20 (sin incluir el 20):\n"
      ]
    },
    {
      "cell_type": "code",
      "execution_count": 16,
      "metadata": {
        "colab": {
          "base_uri": "https://localhost:8080/"
        },
        "id": "JvTasa80CsWx",
        "outputId": "e0921f17-c48c-433c-8094-443fad59437a"
      },
      "outputs": [
        {
          "output_type": "stream",
          "name": "stdout",
          "text": [
            "10  instancias\n",
            "text:  this is a film well worth seeing , talking and singing heads and all . label:  1\n",
            "text:  what really surprises about wisegirls is its low-key quality and genuine tenderness . label:  1\n",
            "text:  ( wendigo is ) why we go to the cinema : to be fed through the eye , the heart , the mind . label:  1\n",
            "text:  one of the greatest family-oriented , fantasy-adventure movies ever . label:  1\n",
            "text:  ultimately , it ponders the reasons we need stories so much . label:  1\n",
            "text:  an utterly compelling 'who wrote it' in which the reputation of the most famous author who ever lived comes into question . label:  1\n",
            "text:  illuminating if overly talky documentary . label:  1\n",
            "text:  a masterpiece four years in the making . label:  1\n",
            "text:  the movie's ripe , enrapturing beauty will tempt those willing to probe its inscrutable mysteries . label:  1\n",
            "text:  offers a breath of the fresh air of true sophistication . label:  1\n"
          ]
        }
      ],
      "source": [
        "sample = load_dataset('rotten_tomatoes', split='train[10:20]')\n",
        "print(sample.num_rows, ' instancias')\n",
        "for i in range(sample.num_rows):\n",
        "    print(\"text: \", sample[i]['text'], \"label: \", sample[i]['label'])\n"
      ]
    },
    {
      "cell_type": "markdown",
      "source": [
        "\n",
        "Puedes encontrar más ejemplos en\n",
        "https://huggingface.co/docs/datasets/v1.11.0/splits.html\n"
      ],
      "metadata": {
        "id": "bZzzoY2uEQUE"
      }
    },
    {
      "cell_type": "markdown",
      "source": [
        "Cargar un dataset desde Hugging Face es una opción muy atractiva porque no necesitamos tenerlo alojarlo en local o en alguno de nuestro servidores, y como hemos visto el proceso de carga es bastante sencillo.\n",
        "\n",
        "Visita la página  https://huggingface.co/datasets donde podrás buscar otros datasets. La página te permite buscar datasets indicando la tarea (por ejemplo para generación de resúmenes o clasificación de tokens), el idioma, o incluso el tamaño.\n",
        "\n",
        "Selecciona cualquiera de esos datasets y práctica con lo que has aprendido en este ejercicio.\n",
        "\n",
        "\n"
      ],
      "metadata": {
        "id": "vlV9WBzEf9WF"
      }
    }
  ],
  "metadata": {
    "colab": {
      "collapsed_sections": [
        "OissruTyHAjo",
        "G2985O1T57A6",
        "8ArzlpXEByuQ",
        "ouGQtOQzF6xE",
        "mY3-x-DpGqgP",
        "kYUbc6SuS_L_",
        "jMMnsXT49Rl-",
        "ovysxhoiAAzd",
        "ge_h02JiSfEY"
      ],
      "provenance": [],
      "authorship_tag": "ABX9TyMA3TbmInFV6MyYO3UVxmm4",
      "include_colab_link": true
    },
    "kernelspec": {
      "display_name": "Python 3",
      "name": "python3"
    },
    "language_info": {
      "name": "python"
    },
    "widgets": {
      "application/vnd.jupyter.widget-state+json": {
        "63bdb4088cce4293bcf8ec3239f031b9": {
          "model_module": "@jupyter-widgets/controls",
          "model_name": "HBoxModel",
          "model_module_version": "1.5.0",
          "state": {
            "_dom_classes": [],
            "_model_module": "@jupyter-widgets/controls",
            "_model_module_version": "1.5.0",
            "_model_name": "HBoxModel",
            "_view_count": null,
            "_view_module": "@jupyter-widgets/controls",
            "_view_module_version": "1.5.0",
            "_view_name": "HBoxView",
            "box_style": "",
            "children": [
              "IPY_MODEL_63908f8093f44a8791c458768e018423",
              "IPY_MODEL_217dbe999e4547a49f46f70728568790",
              "IPY_MODEL_e1757b6bbfbd440c9bff8c7f34db1ea0"
            ],
            "layout": "IPY_MODEL_08e88ca0958d4b248bdd77fc339f9140"
          }
        },
        "63908f8093f44a8791c458768e018423": {
          "model_module": "@jupyter-widgets/controls",
          "model_name": "HTMLModel",
          "model_module_version": "1.5.0",
          "state": {
            "_dom_classes": [],
            "_model_module": "@jupyter-widgets/controls",
            "_model_module_version": "1.5.0",
            "_model_name": "HTMLModel",
            "_view_count": null,
            "_view_module": "@jupyter-widgets/controls",
            "_view_module_version": "1.5.0",
            "_view_name": "HTMLView",
            "description": "",
            "description_tooltip": null,
            "layout": "IPY_MODEL_4e9b8406937d47ac81b607411f2b0e54",
            "placeholder": "​",
            "style": "IPY_MODEL_0928a4994f7c40dfa0b493960e30b6ae",
            "value": "Downloading data: 100%"
          }
        },
        "217dbe999e4547a49f46f70728568790": {
          "model_module": "@jupyter-widgets/controls",
          "model_name": "FloatProgressModel",
          "model_module_version": "1.5.0",
          "state": {
            "_dom_classes": [],
            "_model_module": "@jupyter-widgets/controls",
            "_model_module_version": "1.5.0",
            "_model_name": "FloatProgressModel",
            "_view_count": null,
            "_view_module": "@jupyter-widgets/controls",
            "_view_module_version": "1.5.0",
            "_view_name": "ProgressView",
            "bar_style": "success",
            "description": "",
            "description_tooltip": null,
            "layout": "IPY_MODEL_a6edeebedce7472dbe81cafc2f8a5c30",
            "max": 487770,
            "min": 0,
            "orientation": "horizontal",
            "style": "IPY_MODEL_f566c7773a7641bea1c7e3384f5d2e41",
            "value": 487770
          }
        },
        "e1757b6bbfbd440c9bff8c7f34db1ea0": {
          "model_module": "@jupyter-widgets/controls",
          "model_name": "HTMLModel",
          "model_module_version": "1.5.0",
          "state": {
            "_dom_classes": [],
            "_model_module": "@jupyter-widgets/controls",
            "_model_module_version": "1.5.0",
            "_model_name": "HTMLModel",
            "_view_count": null,
            "_view_module": "@jupyter-widgets/controls",
            "_view_module_version": "1.5.0",
            "_view_name": "HTMLView",
            "description": "",
            "description_tooltip": null,
            "layout": "IPY_MODEL_7d971ef819fa4d8da84323cb16bd289f",
            "placeholder": "​",
            "style": "IPY_MODEL_14aa91dbc73d41609128f731705bff2a",
            "value": " 488k/488k [00:00&lt;00:00, 1.14MB/s]"
          }
        },
        "08e88ca0958d4b248bdd77fc339f9140": {
          "model_module": "@jupyter-widgets/base",
          "model_name": "LayoutModel",
          "model_module_version": "1.2.0",
          "state": {
            "_model_module": "@jupyter-widgets/base",
            "_model_module_version": "1.2.0",
            "_model_name": "LayoutModel",
            "_view_count": null,
            "_view_module": "@jupyter-widgets/base",
            "_view_module_version": "1.2.0",
            "_view_name": "LayoutView",
            "align_content": null,
            "align_items": null,
            "align_self": null,
            "border": null,
            "bottom": null,
            "display": null,
            "flex": null,
            "flex_flow": null,
            "grid_area": null,
            "grid_auto_columns": null,
            "grid_auto_flow": null,
            "grid_auto_rows": null,
            "grid_column": null,
            "grid_gap": null,
            "grid_row": null,
            "grid_template_areas": null,
            "grid_template_columns": null,
            "grid_template_rows": null,
            "height": null,
            "justify_content": null,
            "justify_items": null,
            "left": null,
            "margin": null,
            "max_height": null,
            "max_width": null,
            "min_height": null,
            "min_width": null,
            "object_fit": null,
            "object_position": null,
            "order": null,
            "overflow": null,
            "overflow_x": null,
            "overflow_y": null,
            "padding": null,
            "right": null,
            "top": null,
            "visibility": null,
            "width": null
          }
        },
        "4e9b8406937d47ac81b607411f2b0e54": {
          "model_module": "@jupyter-widgets/base",
          "model_name": "LayoutModel",
          "model_module_version": "1.2.0",
          "state": {
            "_model_module": "@jupyter-widgets/base",
            "_model_module_version": "1.2.0",
            "_model_name": "LayoutModel",
            "_view_count": null,
            "_view_module": "@jupyter-widgets/base",
            "_view_module_version": "1.2.0",
            "_view_name": "LayoutView",
            "align_content": null,
            "align_items": null,
            "align_self": null,
            "border": null,
            "bottom": null,
            "display": null,
            "flex": null,
            "flex_flow": null,
            "grid_area": null,
            "grid_auto_columns": null,
            "grid_auto_flow": null,
            "grid_auto_rows": null,
            "grid_column": null,
            "grid_gap": null,
            "grid_row": null,
            "grid_template_areas": null,
            "grid_template_columns": null,
            "grid_template_rows": null,
            "height": null,
            "justify_content": null,
            "justify_items": null,
            "left": null,
            "margin": null,
            "max_height": null,
            "max_width": null,
            "min_height": null,
            "min_width": null,
            "object_fit": null,
            "object_position": null,
            "order": null,
            "overflow": null,
            "overflow_x": null,
            "overflow_y": null,
            "padding": null,
            "right": null,
            "top": null,
            "visibility": null,
            "width": null
          }
        },
        "0928a4994f7c40dfa0b493960e30b6ae": {
          "model_module": "@jupyter-widgets/controls",
          "model_name": "DescriptionStyleModel",
          "model_module_version": "1.5.0",
          "state": {
            "_model_module": "@jupyter-widgets/controls",
            "_model_module_version": "1.5.0",
            "_model_name": "DescriptionStyleModel",
            "_view_count": null,
            "_view_module": "@jupyter-widgets/base",
            "_view_module_version": "1.2.0",
            "_view_name": "StyleView",
            "description_width": ""
          }
        },
        "a6edeebedce7472dbe81cafc2f8a5c30": {
          "model_module": "@jupyter-widgets/base",
          "model_name": "LayoutModel",
          "model_module_version": "1.2.0",
          "state": {
            "_model_module": "@jupyter-widgets/base",
            "_model_module_version": "1.2.0",
            "_model_name": "LayoutModel",
            "_view_count": null,
            "_view_module": "@jupyter-widgets/base",
            "_view_module_version": "1.2.0",
            "_view_name": "LayoutView",
            "align_content": null,
            "align_items": null,
            "align_self": null,
            "border": null,
            "bottom": null,
            "display": null,
            "flex": null,
            "flex_flow": null,
            "grid_area": null,
            "grid_auto_columns": null,
            "grid_auto_flow": null,
            "grid_auto_rows": null,
            "grid_column": null,
            "grid_gap": null,
            "grid_row": null,
            "grid_template_areas": null,
            "grid_template_columns": null,
            "grid_template_rows": null,
            "height": null,
            "justify_content": null,
            "justify_items": null,
            "left": null,
            "margin": null,
            "max_height": null,
            "max_width": null,
            "min_height": null,
            "min_width": null,
            "object_fit": null,
            "object_position": null,
            "order": null,
            "overflow": null,
            "overflow_x": null,
            "overflow_y": null,
            "padding": null,
            "right": null,
            "top": null,
            "visibility": null,
            "width": null
          }
        },
        "f566c7773a7641bea1c7e3384f5d2e41": {
          "model_module": "@jupyter-widgets/controls",
          "model_name": "ProgressStyleModel",
          "model_module_version": "1.5.0",
          "state": {
            "_model_module": "@jupyter-widgets/controls",
            "_model_module_version": "1.5.0",
            "_model_name": "ProgressStyleModel",
            "_view_count": null,
            "_view_module": "@jupyter-widgets/base",
            "_view_module_version": "1.2.0",
            "_view_name": "StyleView",
            "bar_color": null,
            "description_width": ""
          }
        },
        "7d971ef819fa4d8da84323cb16bd289f": {
          "model_module": "@jupyter-widgets/base",
          "model_name": "LayoutModel",
          "model_module_version": "1.2.0",
          "state": {
            "_model_module": "@jupyter-widgets/base",
            "_model_module_version": "1.2.0",
            "_model_name": "LayoutModel",
            "_view_count": null,
            "_view_module": "@jupyter-widgets/base",
            "_view_module_version": "1.2.0",
            "_view_name": "LayoutView",
            "align_content": null,
            "align_items": null,
            "align_self": null,
            "border": null,
            "bottom": null,
            "display": null,
            "flex": null,
            "flex_flow": null,
            "grid_area": null,
            "grid_auto_columns": null,
            "grid_auto_flow": null,
            "grid_auto_rows": null,
            "grid_column": null,
            "grid_gap": null,
            "grid_row": null,
            "grid_template_areas": null,
            "grid_template_columns": null,
            "grid_template_rows": null,
            "height": null,
            "justify_content": null,
            "justify_items": null,
            "left": null,
            "margin": null,
            "max_height": null,
            "max_width": null,
            "min_height": null,
            "min_width": null,
            "object_fit": null,
            "object_position": null,
            "order": null,
            "overflow": null,
            "overflow_x": null,
            "overflow_y": null,
            "padding": null,
            "right": null,
            "top": null,
            "visibility": null,
            "width": null
          }
        },
        "14aa91dbc73d41609128f731705bff2a": {
          "model_module": "@jupyter-widgets/controls",
          "model_name": "DescriptionStyleModel",
          "model_module_version": "1.5.0",
          "state": {
            "_model_module": "@jupyter-widgets/controls",
            "_model_module_version": "1.5.0",
            "_model_name": "DescriptionStyleModel",
            "_view_count": null,
            "_view_module": "@jupyter-widgets/base",
            "_view_module_version": "1.2.0",
            "_view_name": "StyleView",
            "description_width": ""
          }
        },
        "0660f6d6193145bfb430b07315609139": {
          "model_module": "@jupyter-widgets/controls",
          "model_name": "HBoxModel",
          "model_module_version": "1.5.0",
          "state": {
            "_dom_classes": [],
            "_model_module": "@jupyter-widgets/controls",
            "_model_module_version": "1.5.0",
            "_model_name": "HBoxModel",
            "_view_count": null,
            "_view_module": "@jupyter-widgets/controls",
            "_view_module_version": "1.5.0",
            "_view_name": "HBoxView",
            "box_style": "",
            "children": [
              "IPY_MODEL_55dbce5d280f474fb7999124ae6c651d",
              "IPY_MODEL_984cc5f96cc345da96c2aff6ea1996a8",
              "IPY_MODEL_b34856f900544e5786f4efe7df039435"
            ],
            "layout": "IPY_MODEL_9bd68a999a014c16ae078fe989404cd1"
          }
        },
        "55dbce5d280f474fb7999124ae6c651d": {
          "model_module": "@jupyter-widgets/controls",
          "model_name": "HTMLModel",
          "model_module_version": "1.5.0",
          "state": {
            "_dom_classes": [],
            "_model_module": "@jupyter-widgets/controls",
            "_model_module_version": "1.5.0",
            "_model_name": "HTMLModel",
            "_view_count": null,
            "_view_module": "@jupyter-widgets/controls",
            "_view_module_version": "1.5.0",
            "_view_name": "HTMLView",
            "description": "",
            "description_tooltip": null,
            "layout": "IPY_MODEL_91af8b075fb74cbab0c53d8552cc1f20",
            "placeholder": "​",
            "style": "IPY_MODEL_3b701e4f4085425ea6734f3365d9f564",
            "value": "Generating train split: 100%"
          }
        },
        "984cc5f96cc345da96c2aff6ea1996a8": {
          "model_module": "@jupyter-widgets/controls",
          "model_name": "FloatProgressModel",
          "model_module_version": "1.5.0",
          "state": {
            "_dom_classes": [],
            "_model_module": "@jupyter-widgets/controls",
            "_model_module_version": "1.5.0",
            "_model_name": "FloatProgressModel",
            "_view_count": null,
            "_view_module": "@jupyter-widgets/controls",
            "_view_module_version": "1.5.0",
            "_view_name": "ProgressView",
            "bar_style": "success",
            "description": "",
            "description_tooltip": null,
            "layout": "IPY_MODEL_e1d9ad05e8404e3a8d7d29dfa01affb2",
            "max": 8530,
            "min": 0,
            "orientation": "horizontal",
            "style": "IPY_MODEL_e328facc4c054a788e18a30bcc1dee59",
            "value": 8530
          }
        },
        "b34856f900544e5786f4efe7df039435": {
          "model_module": "@jupyter-widgets/controls",
          "model_name": "HTMLModel",
          "model_module_version": "1.5.0",
          "state": {
            "_dom_classes": [],
            "_model_module": "@jupyter-widgets/controls",
            "_model_module_version": "1.5.0",
            "_model_name": "HTMLModel",
            "_view_count": null,
            "_view_module": "@jupyter-widgets/controls",
            "_view_module_version": "1.5.0",
            "_view_name": "HTMLView",
            "description": "",
            "description_tooltip": null,
            "layout": "IPY_MODEL_2b26cb05172e47f1af9f95e52c574a9b",
            "placeholder": "​",
            "style": "IPY_MODEL_b247f75e18a34c3ca7f01ca269034ccc",
            "value": " 8530/8530 [00:00&lt;00:00, 26313.87 examples/s]"
          }
        },
        "9bd68a999a014c16ae078fe989404cd1": {
          "model_module": "@jupyter-widgets/base",
          "model_name": "LayoutModel",
          "model_module_version": "1.2.0",
          "state": {
            "_model_module": "@jupyter-widgets/base",
            "_model_module_version": "1.2.0",
            "_model_name": "LayoutModel",
            "_view_count": null,
            "_view_module": "@jupyter-widgets/base",
            "_view_module_version": "1.2.0",
            "_view_name": "LayoutView",
            "align_content": null,
            "align_items": null,
            "align_self": null,
            "border": null,
            "bottom": null,
            "display": null,
            "flex": null,
            "flex_flow": null,
            "grid_area": null,
            "grid_auto_columns": null,
            "grid_auto_flow": null,
            "grid_auto_rows": null,
            "grid_column": null,
            "grid_gap": null,
            "grid_row": null,
            "grid_template_areas": null,
            "grid_template_columns": null,
            "grid_template_rows": null,
            "height": null,
            "justify_content": null,
            "justify_items": null,
            "left": null,
            "margin": null,
            "max_height": null,
            "max_width": null,
            "min_height": null,
            "min_width": null,
            "object_fit": null,
            "object_position": null,
            "order": null,
            "overflow": null,
            "overflow_x": null,
            "overflow_y": null,
            "padding": null,
            "right": null,
            "top": null,
            "visibility": null,
            "width": null
          }
        },
        "91af8b075fb74cbab0c53d8552cc1f20": {
          "model_module": "@jupyter-widgets/base",
          "model_name": "LayoutModel",
          "model_module_version": "1.2.0",
          "state": {
            "_model_module": "@jupyter-widgets/base",
            "_model_module_version": "1.2.0",
            "_model_name": "LayoutModel",
            "_view_count": null,
            "_view_module": "@jupyter-widgets/base",
            "_view_module_version": "1.2.0",
            "_view_name": "LayoutView",
            "align_content": null,
            "align_items": null,
            "align_self": null,
            "border": null,
            "bottom": null,
            "display": null,
            "flex": null,
            "flex_flow": null,
            "grid_area": null,
            "grid_auto_columns": null,
            "grid_auto_flow": null,
            "grid_auto_rows": null,
            "grid_column": null,
            "grid_gap": null,
            "grid_row": null,
            "grid_template_areas": null,
            "grid_template_columns": null,
            "grid_template_rows": null,
            "height": null,
            "justify_content": null,
            "justify_items": null,
            "left": null,
            "margin": null,
            "max_height": null,
            "max_width": null,
            "min_height": null,
            "min_width": null,
            "object_fit": null,
            "object_position": null,
            "order": null,
            "overflow": null,
            "overflow_x": null,
            "overflow_y": null,
            "padding": null,
            "right": null,
            "top": null,
            "visibility": null,
            "width": null
          }
        },
        "3b701e4f4085425ea6734f3365d9f564": {
          "model_module": "@jupyter-widgets/controls",
          "model_name": "DescriptionStyleModel",
          "model_module_version": "1.5.0",
          "state": {
            "_model_module": "@jupyter-widgets/controls",
            "_model_module_version": "1.5.0",
            "_model_name": "DescriptionStyleModel",
            "_view_count": null,
            "_view_module": "@jupyter-widgets/base",
            "_view_module_version": "1.2.0",
            "_view_name": "StyleView",
            "description_width": ""
          }
        },
        "e1d9ad05e8404e3a8d7d29dfa01affb2": {
          "model_module": "@jupyter-widgets/base",
          "model_name": "LayoutModel",
          "model_module_version": "1.2.0",
          "state": {
            "_model_module": "@jupyter-widgets/base",
            "_model_module_version": "1.2.0",
            "_model_name": "LayoutModel",
            "_view_count": null,
            "_view_module": "@jupyter-widgets/base",
            "_view_module_version": "1.2.0",
            "_view_name": "LayoutView",
            "align_content": null,
            "align_items": null,
            "align_self": null,
            "border": null,
            "bottom": null,
            "display": null,
            "flex": null,
            "flex_flow": null,
            "grid_area": null,
            "grid_auto_columns": null,
            "grid_auto_flow": null,
            "grid_auto_rows": null,
            "grid_column": null,
            "grid_gap": null,
            "grid_row": null,
            "grid_template_areas": null,
            "grid_template_columns": null,
            "grid_template_rows": null,
            "height": null,
            "justify_content": null,
            "justify_items": null,
            "left": null,
            "margin": null,
            "max_height": null,
            "max_width": null,
            "min_height": null,
            "min_width": null,
            "object_fit": null,
            "object_position": null,
            "order": null,
            "overflow": null,
            "overflow_x": null,
            "overflow_y": null,
            "padding": null,
            "right": null,
            "top": null,
            "visibility": null,
            "width": null
          }
        },
        "e328facc4c054a788e18a30bcc1dee59": {
          "model_module": "@jupyter-widgets/controls",
          "model_name": "ProgressStyleModel",
          "model_module_version": "1.5.0",
          "state": {
            "_model_module": "@jupyter-widgets/controls",
            "_model_module_version": "1.5.0",
            "_model_name": "ProgressStyleModel",
            "_view_count": null,
            "_view_module": "@jupyter-widgets/base",
            "_view_module_version": "1.2.0",
            "_view_name": "StyleView",
            "bar_color": null,
            "description_width": ""
          }
        },
        "2b26cb05172e47f1af9f95e52c574a9b": {
          "model_module": "@jupyter-widgets/base",
          "model_name": "LayoutModel",
          "model_module_version": "1.2.0",
          "state": {
            "_model_module": "@jupyter-widgets/base",
            "_model_module_version": "1.2.0",
            "_model_name": "LayoutModel",
            "_view_count": null,
            "_view_module": "@jupyter-widgets/base",
            "_view_module_version": "1.2.0",
            "_view_name": "LayoutView",
            "align_content": null,
            "align_items": null,
            "align_self": null,
            "border": null,
            "bottom": null,
            "display": null,
            "flex": null,
            "flex_flow": null,
            "grid_area": null,
            "grid_auto_columns": null,
            "grid_auto_flow": null,
            "grid_auto_rows": null,
            "grid_column": null,
            "grid_gap": null,
            "grid_row": null,
            "grid_template_areas": null,
            "grid_template_columns": null,
            "grid_template_rows": null,
            "height": null,
            "justify_content": null,
            "justify_items": null,
            "left": null,
            "margin": null,
            "max_height": null,
            "max_width": null,
            "min_height": null,
            "min_width": null,
            "object_fit": null,
            "object_position": null,
            "order": null,
            "overflow": null,
            "overflow_x": null,
            "overflow_y": null,
            "padding": null,
            "right": null,
            "top": null,
            "visibility": null,
            "width": null
          }
        },
        "b247f75e18a34c3ca7f01ca269034ccc": {
          "model_module": "@jupyter-widgets/controls",
          "model_name": "DescriptionStyleModel",
          "model_module_version": "1.5.0",
          "state": {
            "_model_module": "@jupyter-widgets/controls",
            "_model_module_version": "1.5.0",
            "_model_name": "DescriptionStyleModel",
            "_view_count": null,
            "_view_module": "@jupyter-widgets/base",
            "_view_module_version": "1.2.0",
            "_view_name": "StyleView",
            "description_width": ""
          }
        },
        "7f725fc8f17846b2a5772cc493be2ce3": {
          "model_module": "@jupyter-widgets/controls",
          "model_name": "HBoxModel",
          "model_module_version": "1.5.0",
          "state": {
            "_dom_classes": [],
            "_model_module": "@jupyter-widgets/controls",
            "_model_module_version": "1.5.0",
            "_model_name": "HBoxModel",
            "_view_count": null,
            "_view_module": "@jupyter-widgets/controls",
            "_view_module_version": "1.5.0",
            "_view_name": "HBoxView",
            "box_style": "",
            "children": [
              "IPY_MODEL_1b50db4f1c8747a2a16006bcb3af59b9",
              "IPY_MODEL_12040b3efc8b49d09078f4b9e0d1b1f2",
              "IPY_MODEL_d8de961b704e455595e972ba87c63cbb"
            ],
            "layout": "IPY_MODEL_63842ffe716d4b368e4d938c43c3c6d0"
          }
        },
        "1b50db4f1c8747a2a16006bcb3af59b9": {
          "model_module": "@jupyter-widgets/controls",
          "model_name": "HTMLModel",
          "model_module_version": "1.5.0",
          "state": {
            "_dom_classes": [],
            "_model_module": "@jupyter-widgets/controls",
            "_model_module_version": "1.5.0",
            "_model_name": "HTMLModel",
            "_view_count": null,
            "_view_module": "@jupyter-widgets/controls",
            "_view_module_version": "1.5.0",
            "_view_name": "HTMLView",
            "description": "",
            "description_tooltip": null,
            "layout": "IPY_MODEL_92b090f950cd43fcbc17255909c701d5",
            "placeholder": "​",
            "style": "IPY_MODEL_253f6f48cbfc486393203f796f5f5c50",
            "value": "Generating validation split: 100%"
          }
        },
        "12040b3efc8b49d09078f4b9e0d1b1f2": {
          "model_module": "@jupyter-widgets/controls",
          "model_name": "FloatProgressModel",
          "model_module_version": "1.5.0",
          "state": {
            "_dom_classes": [],
            "_model_module": "@jupyter-widgets/controls",
            "_model_module_version": "1.5.0",
            "_model_name": "FloatProgressModel",
            "_view_count": null,
            "_view_module": "@jupyter-widgets/controls",
            "_view_module_version": "1.5.0",
            "_view_name": "ProgressView",
            "bar_style": "success",
            "description": "",
            "description_tooltip": null,
            "layout": "IPY_MODEL_8e4830574f5145b1ba0f621c96416912",
            "max": 1066,
            "min": 0,
            "orientation": "horizontal",
            "style": "IPY_MODEL_2cbb8c04db7f43c3a21e40bfca2e8865",
            "value": 1066
          }
        },
        "d8de961b704e455595e972ba87c63cbb": {
          "model_module": "@jupyter-widgets/controls",
          "model_name": "HTMLModel",
          "model_module_version": "1.5.0",
          "state": {
            "_dom_classes": [],
            "_model_module": "@jupyter-widgets/controls",
            "_model_module_version": "1.5.0",
            "_model_name": "HTMLModel",
            "_view_count": null,
            "_view_module": "@jupyter-widgets/controls",
            "_view_module_version": "1.5.0",
            "_view_name": "HTMLView",
            "description": "",
            "description_tooltip": null,
            "layout": "IPY_MODEL_3c8dc3c88ff44ad39d0277d0ae8f08d4",
            "placeholder": "​",
            "style": "IPY_MODEL_888cf7873e51479ca4d438f14d845839",
            "value": " 1066/1066 [00:00&lt;00:00, 10763.19 examples/s]"
          }
        },
        "63842ffe716d4b368e4d938c43c3c6d0": {
          "model_module": "@jupyter-widgets/base",
          "model_name": "LayoutModel",
          "model_module_version": "1.2.0",
          "state": {
            "_model_module": "@jupyter-widgets/base",
            "_model_module_version": "1.2.0",
            "_model_name": "LayoutModel",
            "_view_count": null,
            "_view_module": "@jupyter-widgets/base",
            "_view_module_version": "1.2.0",
            "_view_name": "LayoutView",
            "align_content": null,
            "align_items": null,
            "align_self": null,
            "border": null,
            "bottom": null,
            "display": null,
            "flex": null,
            "flex_flow": null,
            "grid_area": null,
            "grid_auto_columns": null,
            "grid_auto_flow": null,
            "grid_auto_rows": null,
            "grid_column": null,
            "grid_gap": null,
            "grid_row": null,
            "grid_template_areas": null,
            "grid_template_columns": null,
            "grid_template_rows": null,
            "height": null,
            "justify_content": null,
            "justify_items": null,
            "left": null,
            "margin": null,
            "max_height": null,
            "max_width": null,
            "min_height": null,
            "min_width": null,
            "object_fit": null,
            "object_position": null,
            "order": null,
            "overflow": null,
            "overflow_x": null,
            "overflow_y": null,
            "padding": null,
            "right": null,
            "top": null,
            "visibility": null,
            "width": null
          }
        },
        "92b090f950cd43fcbc17255909c701d5": {
          "model_module": "@jupyter-widgets/base",
          "model_name": "LayoutModel",
          "model_module_version": "1.2.0",
          "state": {
            "_model_module": "@jupyter-widgets/base",
            "_model_module_version": "1.2.0",
            "_model_name": "LayoutModel",
            "_view_count": null,
            "_view_module": "@jupyter-widgets/base",
            "_view_module_version": "1.2.0",
            "_view_name": "LayoutView",
            "align_content": null,
            "align_items": null,
            "align_self": null,
            "border": null,
            "bottom": null,
            "display": null,
            "flex": null,
            "flex_flow": null,
            "grid_area": null,
            "grid_auto_columns": null,
            "grid_auto_flow": null,
            "grid_auto_rows": null,
            "grid_column": null,
            "grid_gap": null,
            "grid_row": null,
            "grid_template_areas": null,
            "grid_template_columns": null,
            "grid_template_rows": null,
            "height": null,
            "justify_content": null,
            "justify_items": null,
            "left": null,
            "margin": null,
            "max_height": null,
            "max_width": null,
            "min_height": null,
            "min_width": null,
            "object_fit": null,
            "object_position": null,
            "order": null,
            "overflow": null,
            "overflow_x": null,
            "overflow_y": null,
            "padding": null,
            "right": null,
            "top": null,
            "visibility": null,
            "width": null
          }
        },
        "253f6f48cbfc486393203f796f5f5c50": {
          "model_module": "@jupyter-widgets/controls",
          "model_name": "DescriptionStyleModel",
          "model_module_version": "1.5.0",
          "state": {
            "_model_module": "@jupyter-widgets/controls",
            "_model_module_version": "1.5.0",
            "_model_name": "DescriptionStyleModel",
            "_view_count": null,
            "_view_module": "@jupyter-widgets/base",
            "_view_module_version": "1.2.0",
            "_view_name": "StyleView",
            "description_width": ""
          }
        },
        "8e4830574f5145b1ba0f621c96416912": {
          "model_module": "@jupyter-widgets/base",
          "model_name": "LayoutModel",
          "model_module_version": "1.2.0",
          "state": {
            "_model_module": "@jupyter-widgets/base",
            "_model_module_version": "1.2.0",
            "_model_name": "LayoutModel",
            "_view_count": null,
            "_view_module": "@jupyter-widgets/base",
            "_view_module_version": "1.2.0",
            "_view_name": "LayoutView",
            "align_content": null,
            "align_items": null,
            "align_self": null,
            "border": null,
            "bottom": null,
            "display": null,
            "flex": null,
            "flex_flow": null,
            "grid_area": null,
            "grid_auto_columns": null,
            "grid_auto_flow": null,
            "grid_auto_rows": null,
            "grid_column": null,
            "grid_gap": null,
            "grid_row": null,
            "grid_template_areas": null,
            "grid_template_columns": null,
            "grid_template_rows": null,
            "height": null,
            "justify_content": null,
            "justify_items": null,
            "left": null,
            "margin": null,
            "max_height": null,
            "max_width": null,
            "min_height": null,
            "min_width": null,
            "object_fit": null,
            "object_position": null,
            "order": null,
            "overflow": null,
            "overflow_x": null,
            "overflow_y": null,
            "padding": null,
            "right": null,
            "top": null,
            "visibility": null,
            "width": null
          }
        },
        "2cbb8c04db7f43c3a21e40bfca2e8865": {
          "model_module": "@jupyter-widgets/controls",
          "model_name": "ProgressStyleModel",
          "model_module_version": "1.5.0",
          "state": {
            "_model_module": "@jupyter-widgets/controls",
            "_model_module_version": "1.5.0",
            "_model_name": "ProgressStyleModel",
            "_view_count": null,
            "_view_module": "@jupyter-widgets/base",
            "_view_module_version": "1.2.0",
            "_view_name": "StyleView",
            "bar_color": null,
            "description_width": ""
          }
        },
        "3c8dc3c88ff44ad39d0277d0ae8f08d4": {
          "model_module": "@jupyter-widgets/base",
          "model_name": "LayoutModel",
          "model_module_version": "1.2.0",
          "state": {
            "_model_module": "@jupyter-widgets/base",
            "_model_module_version": "1.2.0",
            "_model_name": "LayoutModel",
            "_view_count": null,
            "_view_module": "@jupyter-widgets/base",
            "_view_module_version": "1.2.0",
            "_view_name": "LayoutView",
            "align_content": null,
            "align_items": null,
            "align_self": null,
            "border": null,
            "bottom": null,
            "display": null,
            "flex": null,
            "flex_flow": null,
            "grid_area": null,
            "grid_auto_columns": null,
            "grid_auto_flow": null,
            "grid_auto_rows": null,
            "grid_column": null,
            "grid_gap": null,
            "grid_row": null,
            "grid_template_areas": null,
            "grid_template_columns": null,
            "grid_template_rows": null,
            "height": null,
            "justify_content": null,
            "justify_items": null,
            "left": null,
            "margin": null,
            "max_height": null,
            "max_width": null,
            "min_height": null,
            "min_width": null,
            "object_fit": null,
            "object_position": null,
            "order": null,
            "overflow": null,
            "overflow_x": null,
            "overflow_y": null,
            "padding": null,
            "right": null,
            "top": null,
            "visibility": null,
            "width": null
          }
        },
        "888cf7873e51479ca4d438f14d845839": {
          "model_module": "@jupyter-widgets/controls",
          "model_name": "DescriptionStyleModel",
          "model_module_version": "1.5.0",
          "state": {
            "_model_module": "@jupyter-widgets/controls",
            "_model_module_version": "1.5.0",
            "_model_name": "DescriptionStyleModel",
            "_view_count": null,
            "_view_module": "@jupyter-widgets/base",
            "_view_module_version": "1.2.0",
            "_view_name": "StyleView",
            "description_width": ""
          }
        },
        "b971be9dbc0a4de88b988597e158ca07": {
          "model_module": "@jupyter-widgets/controls",
          "model_name": "HBoxModel",
          "model_module_version": "1.5.0",
          "state": {
            "_dom_classes": [],
            "_model_module": "@jupyter-widgets/controls",
            "_model_module_version": "1.5.0",
            "_model_name": "HBoxModel",
            "_view_count": null,
            "_view_module": "@jupyter-widgets/controls",
            "_view_module_version": "1.5.0",
            "_view_name": "HBoxView",
            "box_style": "",
            "children": [
              "IPY_MODEL_f4b44f7ed557437e8d3e5a189b271823",
              "IPY_MODEL_ed8f4e29e01c413ba94e1908e7157655",
              "IPY_MODEL_9da5c7df07f5479ca6aa2a86dd34b4bf"
            ],
            "layout": "IPY_MODEL_55691ab9efa541e28f811937369603cd"
          }
        },
        "f4b44f7ed557437e8d3e5a189b271823": {
          "model_module": "@jupyter-widgets/controls",
          "model_name": "HTMLModel",
          "model_module_version": "1.5.0",
          "state": {
            "_dom_classes": [],
            "_model_module": "@jupyter-widgets/controls",
            "_model_module_version": "1.5.0",
            "_model_name": "HTMLModel",
            "_view_count": null,
            "_view_module": "@jupyter-widgets/controls",
            "_view_module_version": "1.5.0",
            "_view_name": "HTMLView",
            "description": "",
            "description_tooltip": null,
            "layout": "IPY_MODEL_d39c4fc793d741219573b2d55b90abac",
            "placeholder": "​",
            "style": "IPY_MODEL_6b22f9d68803454d8a21a109c6cd6e42",
            "value": "Generating test split: 100%"
          }
        },
        "ed8f4e29e01c413ba94e1908e7157655": {
          "model_module": "@jupyter-widgets/controls",
          "model_name": "FloatProgressModel",
          "model_module_version": "1.5.0",
          "state": {
            "_dom_classes": [],
            "_model_module": "@jupyter-widgets/controls",
            "_model_module_version": "1.5.0",
            "_model_name": "FloatProgressModel",
            "_view_count": null,
            "_view_module": "@jupyter-widgets/controls",
            "_view_module_version": "1.5.0",
            "_view_name": "ProgressView",
            "bar_style": "success",
            "description": "",
            "description_tooltip": null,
            "layout": "IPY_MODEL_5caebf1f4e4641b0aa2ab5cee6cf0e19",
            "max": 1066,
            "min": 0,
            "orientation": "horizontal",
            "style": "IPY_MODEL_84cba19d33074bb89c17e593f8a84857",
            "value": 1066
          }
        },
        "9da5c7df07f5479ca6aa2a86dd34b4bf": {
          "model_module": "@jupyter-widgets/controls",
          "model_name": "HTMLModel",
          "model_module_version": "1.5.0",
          "state": {
            "_dom_classes": [],
            "_model_module": "@jupyter-widgets/controls",
            "_model_module_version": "1.5.0",
            "_model_name": "HTMLModel",
            "_view_count": null,
            "_view_module": "@jupyter-widgets/controls",
            "_view_module_version": "1.5.0",
            "_view_name": "HTMLView",
            "description": "",
            "description_tooltip": null,
            "layout": "IPY_MODEL_017866522b814a18a00bbfd2f3d8d7d5",
            "placeholder": "​",
            "style": "IPY_MODEL_effce98c830c4d849da1731969f42d10",
            "value": " 1066/1066 [00:00&lt;00:00, 12424.46 examples/s]"
          }
        },
        "55691ab9efa541e28f811937369603cd": {
          "model_module": "@jupyter-widgets/base",
          "model_name": "LayoutModel",
          "model_module_version": "1.2.0",
          "state": {
            "_model_module": "@jupyter-widgets/base",
            "_model_module_version": "1.2.0",
            "_model_name": "LayoutModel",
            "_view_count": null,
            "_view_module": "@jupyter-widgets/base",
            "_view_module_version": "1.2.0",
            "_view_name": "LayoutView",
            "align_content": null,
            "align_items": null,
            "align_self": null,
            "border": null,
            "bottom": null,
            "display": null,
            "flex": null,
            "flex_flow": null,
            "grid_area": null,
            "grid_auto_columns": null,
            "grid_auto_flow": null,
            "grid_auto_rows": null,
            "grid_column": null,
            "grid_gap": null,
            "grid_row": null,
            "grid_template_areas": null,
            "grid_template_columns": null,
            "grid_template_rows": null,
            "height": null,
            "justify_content": null,
            "justify_items": null,
            "left": null,
            "margin": null,
            "max_height": null,
            "max_width": null,
            "min_height": null,
            "min_width": null,
            "object_fit": null,
            "object_position": null,
            "order": null,
            "overflow": null,
            "overflow_x": null,
            "overflow_y": null,
            "padding": null,
            "right": null,
            "top": null,
            "visibility": null,
            "width": null
          }
        },
        "d39c4fc793d741219573b2d55b90abac": {
          "model_module": "@jupyter-widgets/base",
          "model_name": "LayoutModel",
          "model_module_version": "1.2.0",
          "state": {
            "_model_module": "@jupyter-widgets/base",
            "_model_module_version": "1.2.0",
            "_model_name": "LayoutModel",
            "_view_count": null,
            "_view_module": "@jupyter-widgets/base",
            "_view_module_version": "1.2.0",
            "_view_name": "LayoutView",
            "align_content": null,
            "align_items": null,
            "align_self": null,
            "border": null,
            "bottom": null,
            "display": null,
            "flex": null,
            "flex_flow": null,
            "grid_area": null,
            "grid_auto_columns": null,
            "grid_auto_flow": null,
            "grid_auto_rows": null,
            "grid_column": null,
            "grid_gap": null,
            "grid_row": null,
            "grid_template_areas": null,
            "grid_template_columns": null,
            "grid_template_rows": null,
            "height": null,
            "justify_content": null,
            "justify_items": null,
            "left": null,
            "margin": null,
            "max_height": null,
            "max_width": null,
            "min_height": null,
            "min_width": null,
            "object_fit": null,
            "object_position": null,
            "order": null,
            "overflow": null,
            "overflow_x": null,
            "overflow_y": null,
            "padding": null,
            "right": null,
            "top": null,
            "visibility": null,
            "width": null
          }
        },
        "6b22f9d68803454d8a21a109c6cd6e42": {
          "model_module": "@jupyter-widgets/controls",
          "model_name": "DescriptionStyleModel",
          "model_module_version": "1.5.0",
          "state": {
            "_model_module": "@jupyter-widgets/controls",
            "_model_module_version": "1.5.0",
            "_model_name": "DescriptionStyleModel",
            "_view_count": null,
            "_view_module": "@jupyter-widgets/base",
            "_view_module_version": "1.2.0",
            "_view_name": "StyleView",
            "description_width": ""
          }
        },
        "5caebf1f4e4641b0aa2ab5cee6cf0e19": {
          "model_module": "@jupyter-widgets/base",
          "model_name": "LayoutModel",
          "model_module_version": "1.2.0",
          "state": {
            "_model_module": "@jupyter-widgets/base",
            "_model_module_version": "1.2.0",
            "_model_name": "LayoutModel",
            "_view_count": null,
            "_view_module": "@jupyter-widgets/base",
            "_view_module_version": "1.2.0",
            "_view_name": "LayoutView",
            "align_content": null,
            "align_items": null,
            "align_self": null,
            "border": null,
            "bottom": null,
            "display": null,
            "flex": null,
            "flex_flow": null,
            "grid_area": null,
            "grid_auto_columns": null,
            "grid_auto_flow": null,
            "grid_auto_rows": null,
            "grid_column": null,
            "grid_gap": null,
            "grid_row": null,
            "grid_template_areas": null,
            "grid_template_columns": null,
            "grid_template_rows": null,
            "height": null,
            "justify_content": null,
            "justify_items": null,
            "left": null,
            "margin": null,
            "max_height": null,
            "max_width": null,
            "min_height": null,
            "min_width": null,
            "object_fit": null,
            "object_position": null,
            "order": null,
            "overflow": null,
            "overflow_x": null,
            "overflow_y": null,
            "padding": null,
            "right": null,
            "top": null,
            "visibility": null,
            "width": null
          }
        },
        "84cba19d33074bb89c17e593f8a84857": {
          "model_module": "@jupyter-widgets/controls",
          "model_name": "ProgressStyleModel",
          "model_module_version": "1.5.0",
          "state": {
            "_model_module": "@jupyter-widgets/controls",
            "_model_module_version": "1.5.0",
            "_model_name": "ProgressStyleModel",
            "_view_count": null,
            "_view_module": "@jupyter-widgets/base",
            "_view_module_version": "1.2.0",
            "_view_name": "StyleView",
            "bar_color": null,
            "description_width": ""
          }
        },
        "017866522b814a18a00bbfd2f3d8d7d5": {
          "model_module": "@jupyter-widgets/base",
          "model_name": "LayoutModel",
          "model_module_version": "1.2.0",
          "state": {
            "_model_module": "@jupyter-widgets/base",
            "_model_module_version": "1.2.0",
            "_model_name": "LayoutModel",
            "_view_count": null,
            "_view_module": "@jupyter-widgets/base",
            "_view_module_version": "1.2.0",
            "_view_name": "LayoutView",
            "align_content": null,
            "align_items": null,
            "align_self": null,
            "border": null,
            "bottom": null,
            "display": null,
            "flex": null,
            "flex_flow": null,
            "grid_area": null,
            "grid_auto_columns": null,
            "grid_auto_flow": null,
            "grid_auto_rows": null,
            "grid_column": null,
            "grid_gap": null,
            "grid_row": null,
            "grid_template_areas": null,
            "grid_template_columns": null,
            "grid_template_rows": null,
            "height": null,
            "justify_content": null,
            "justify_items": null,
            "left": null,
            "margin": null,
            "max_height": null,
            "max_width": null,
            "min_height": null,
            "min_width": null,
            "object_fit": null,
            "object_position": null,
            "order": null,
            "overflow": null,
            "overflow_x": null,
            "overflow_y": null,
            "padding": null,
            "right": null,
            "top": null,
            "visibility": null,
            "width": null
          }
        },
        "effce98c830c4d849da1731969f42d10": {
          "model_module": "@jupyter-widgets/controls",
          "model_name": "DescriptionStyleModel",
          "model_module_version": "1.5.0",
          "state": {
            "_model_module": "@jupyter-widgets/controls",
            "_model_module_version": "1.5.0",
            "_model_name": "DescriptionStyleModel",
            "_view_count": null,
            "_view_module": "@jupyter-widgets/base",
            "_view_module_version": "1.2.0",
            "_view_name": "StyleView",
            "description_width": ""
          }
        }
      }
    }
  },
  "nbformat": 4,
  "nbformat_minor": 0
}