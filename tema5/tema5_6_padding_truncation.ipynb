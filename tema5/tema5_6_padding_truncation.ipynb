{
  "nbformat": 4,
  "nbformat_minor": 0,
  "metadata": {
    "colab": {
      "provenance": [],
      "toc_visible": true,
      "authorship_tag": "ABX9TyOMp/mnenUGmiCijGqqmCsq",
      "include_colab_link": true
    },
    "kernelspec": {
      "name": "python3",
      "display_name": "Python 3"
    },
    "language_info": {
      "name": "python"
    },
    "widgets": {
      "application/vnd.jupyter.widget-state+json": {
        "ad9575e2434f491392e8674e7eafdc25": {
          "model_module": "@jupyter-widgets/controls",
          "model_name": "HBoxModel",
          "model_module_version": "1.5.0",
          "state": {
            "_dom_classes": [],
            "_model_module": "@jupyter-widgets/controls",
            "_model_module_version": "1.5.0",
            "_model_name": "HBoxModel",
            "_view_count": null,
            "_view_module": "@jupyter-widgets/controls",
            "_view_module_version": "1.5.0",
            "_view_name": "HBoxView",
            "box_style": "",
            "children": [
              "IPY_MODEL_39f57025a2c442c7a84870230e273b1c",
              "IPY_MODEL_c616b8e3385f404c99c438444dad9eb3",
              "IPY_MODEL_e69b8964e22e4b90b0a04d5dba242219"
            ],
            "layout": "IPY_MODEL_16a798f0b09447398165bc930f312bd7"
          }
        },
        "39f57025a2c442c7a84870230e273b1c": {
          "model_module": "@jupyter-widgets/controls",
          "model_name": "HTMLModel",
          "model_module_version": "1.5.0",
          "state": {
            "_dom_classes": [],
            "_model_module": "@jupyter-widgets/controls",
            "_model_module_version": "1.5.0",
            "_model_name": "HTMLModel",
            "_view_count": null,
            "_view_module": "@jupyter-widgets/controls",
            "_view_module_version": "1.5.0",
            "_view_name": "HTMLView",
            "description": "",
            "description_tooltip": null,
            "layout": "IPY_MODEL_75b542c941304f09b269336d15a67178",
            "placeholder": "​",
            "style": "IPY_MODEL_762ab6f9db3841e999e6b58f8b68daff",
            "value": "Downloading (…)okenizer_config.json: 100%"
          }
        },
        "c616b8e3385f404c99c438444dad9eb3": {
          "model_module": "@jupyter-widgets/controls",
          "model_name": "FloatProgressModel",
          "model_module_version": "1.5.0",
          "state": {
            "_dom_classes": [],
            "_model_module": "@jupyter-widgets/controls",
            "_model_module_version": "1.5.0",
            "_model_name": "FloatProgressModel",
            "_view_count": null,
            "_view_module": "@jupyter-widgets/controls",
            "_view_module_version": "1.5.0",
            "_view_name": "ProgressView",
            "bar_style": "success",
            "description": "",
            "description_tooltip": null,
            "layout": "IPY_MODEL_4e66c9192eba4e2883bb8bb6bb151842",
            "max": 28,
            "min": 0,
            "orientation": "horizontal",
            "style": "IPY_MODEL_692003747b3a4b5e9af0b40a74caf69b",
            "value": 28
          }
        },
        "e69b8964e22e4b90b0a04d5dba242219": {
          "model_module": "@jupyter-widgets/controls",
          "model_name": "HTMLModel",
          "model_module_version": "1.5.0",
          "state": {
            "_dom_classes": [],
            "_model_module": "@jupyter-widgets/controls",
            "_model_module_version": "1.5.0",
            "_model_name": "HTMLModel",
            "_view_count": null,
            "_view_module": "@jupyter-widgets/controls",
            "_view_module_version": "1.5.0",
            "_view_name": "HTMLView",
            "description": "",
            "description_tooltip": null,
            "layout": "IPY_MODEL_371ce62df02f4fb5b0fe49a15e5d61c4",
            "placeholder": "​",
            "style": "IPY_MODEL_f40877e4753e4e62a536bc21edcc5375",
            "value": " 28.0/28.0 [00:00&lt;00:00, 986B/s]"
          }
        },
        "16a798f0b09447398165bc930f312bd7": {
          "model_module": "@jupyter-widgets/base",
          "model_name": "LayoutModel",
          "model_module_version": "1.2.0",
          "state": {
            "_model_module": "@jupyter-widgets/base",
            "_model_module_version": "1.2.0",
            "_model_name": "LayoutModel",
            "_view_count": null,
            "_view_module": "@jupyter-widgets/base",
            "_view_module_version": "1.2.0",
            "_view_name": "LayoutView",
            "align_content": null,
            "align_items": null,
            "align_self": null,
            "border": null,
            "bottom": null,
            "display": null,
            "flex": null,
            "flex_flow": null,
            "grid_area": null,
            "grid_auto_columns": null,
            "grid_auto_flow": null,
            "grid_auto_rows": null,
            "grid_column": null,
            "grid_gap": null,
            "grid_row": null,
            "grid_template_areas": null,
            "grid_template_columns": null,
            "grid_template_rows": null,
            "height": null,
            "justify_content": null,
            "justify_items": null,
            "left": null,
            "margin": null,
            "max_height": null,
            "max_width": null,
            "min_height": null,
            "min_width": null,
            "object_fit": null,
            "object_position": null,
            "order": null,
            "overflow": null,
            "overflow_x": null,
            "overflow_y": null,
            "padding": null,
            "right": null,
            "top": null,
            "visibility": null,
            "width": null
          }
        },
        "75b542c941304f09b269336d15a67178": {
          "model_module": "@jupyter-widgets/base",
          "model_name": "LayoutModel",
          "model_module_version": "1.2.0",
          "state": {
            "_model_module": "@jupyter-widgets/base",
            "_model_module_version": "1.2.0",
            "_model_name": "LayoutModel",
            "_view_count": null,
            "_view_module": "@jupyter-widgets/base",
            "_view_module_version": "1.2.0",
            "_view_name": "LayoutView",
            "align_content": null,
            "align_items": null,
            "align_self": null,
            "border": null,
            "bottom": null,
            "display": null,
            "flex": null,
            "flex_flow": null,
            "grid_area": null,
            "grid_auto_columns": null,
            "grid_auto_flow": null,
            "grid_auto_rows": null,
            "grid_column": null,
            "grid_gap": null,
            "grid_row": null,
            "grid_template_areas": null,
            "grid_template_columns": null,
            "grid_template_rows": null,
            "height": null,
            "justify_content": null,
            "justify_items": null,
            "left": null,
            "margin": null,
            "max_height": null,
            "max_width": null,
            "min_height": null,
            "min_width": null,
            "object_fit": null,
            "object_position": null,
            "order": null,
            "overflow": null,
            "overflow_x": null,
            "overflow_y": null,
            "padding": null,
            "right": null,
            "top": null,
            "visibility": null,
            "width": null
          }
        },
        "762ab6f9db3841e999e6b58f8b68daff": {
          "model_module": "@jupyter-widgets/controls",
          "model_name": "DescriptionStyleModel",
          "model_module_version": "1.5.0",
          "state": {
            "_model_module": "@jupyter-widgets/controls",
            "_model_module_version": "1.5.0",
            "_model_name": "DescriptionStyleModel",
            "_view_count": null,
            "_view_module": "@jupyter-widgets/base",
            "_view_module_version": "1.2.0",
            "_view_name": "StyleView",
            "description_width": ""
          }
        },
        "4e66c9192eba4e2883bb8bb6bb151842": {
          "model_module": "@jupyter-widgets/base",
          "model_name": "LayoutModel",
          "model_module_version": "1.2.0",
          "state": {
            "_model_module": "@jupyter-widgets/base",
            "_model_module_version": "1.2.0",
            "_model_name": "LayoutModel",
            "_view_count": null,
            "_view_module": "@jupyter-widgets/base",
            "_view_module_version": "1.2.0",
            "_view_name": "LayoutView",
            "align_content": null,
            "align_items": null,
            "align_self": null,
            "border": null,
            "bottom": null,
            "display": null,
            "flex": null,
            "flex_flow": null,
            "grid_area": null,
            "grid_auto_columns": null,
            "grid_auto_flow": null,
            "grid_auto_rows": null,
            "grid_column": null,
            "grid_gap": null,
            "grid_row": null,
            "grid_template_areas": null,
            "grid_template_columns": null,
            "grid_template_rows": null,
            "height": null,
            "justify_content": null,
            "justify_items": null,
            "left": null,
            "margin": null,
            "max_height": null,
            "max_width": null,
            "min_height": null,
            "min_width": null,
            "object_fit": null,
            "object_position": null,
            "order": null,
            "overflow": null,
            "overflow_x": null,
            "overflow_y": null,
            "padding": null,
            "right": null,
            "top": null,
            "visibility": null,
            "width": null
          }
        },
        "692003747b3a4b5e9af0b40a74caf69b": {
          "model_module": "@jupyter-widgets/controls",
          "model_name": "ProgressStyleModel",
          "model_module_version": "1.5.0",
          "state": {
            "_model_module": "@jupyter-widgets/controls",
            "_model_module_version": "1.5.0",
            "_model_name": "ProgressStyleModel",
            "_view_count": null,
            "_view_module": "@jupyter-widgets/base",
            "_view_module_version": "1.2.0",
            "_view_name": "StyleView",
            "bar_color": null,
            "description_width": ""
          }
        },
        "371ce62df02f4fb5b0fe49a15e5d61c4": {
          "model_module": "@jupyter-widgets/base",
          "model_name": "LayoutModel",
          "model_module_version": "1.2.0",
          "state": {
            "_model_module": "@jupyter-widgets/base",
            "_model_module_version": "1.2.0",
            "_model_name": "LayoutModel",
            "_view_count": null,
            "_view_module": "@jupyter-widgets/base",
            "_view_module_version": "1.2.0",
            "_view_name": "LayoutView",
            "align_content": null,
            "align_items": null,
            "align_self": null,
            "border": null,
            "bottom": null,
            "display": null,
            "flex": null,
            "flex_flow": null,
            "grid_area": null,
            "grid_auto_columns": null,
            "grid_auto_flow": null,
            "grid_auto_rows": null,
            "grid_column": null,
            "grid_gap": null,
            "grid_row": null,
            "grid_template_areas": null,
            "grid_template_columns": null,
            "grid_template_rows": null,
            "height": null,
            "justify_content": null,
            "justify_items": null,
            "left": null,
            "margin": null,
            "max_height": null,
            "max_width": null,
            "min_height": null,
            "min_width": null,
            "object_fit": null,
            "object_position": null,
            "order": null,
            "overflow": null,
            "overflow_x": null,
            "overflow_y": null,
            "padding": null,
            "right": null,
            "top": null,
            "visibility": null,
            "width": null
          }
        },
        "f40877e4753e4e62a536bc21edcc5375": {
          "model_module": "@jupyter-widgets/controls",
          "model_name": "DescriptionStyleModel",
          "model_module_version": "1.5.0",
          "state": {
            "_model_module": "@jupyter-widgets/controls",
            "_model_module_version": "1.5.0",
            "_model_name": "DescriptionStyleModel",
            "_view_count": null,
            "_view_module": "@jupyter-widgets/base",
            "_view_module_version": "1.2.0",
            "_view_name": "StyleView",
            "description_width": ""
          }
        },
        "ca04909c72f24e6a90f1f92a8f4b55f7": {
          "model_module": "@jupyter-widgets/controls",
          "model_name": "HBoxModel",
          "model_module_version": "1.5.0",
          "state": {
            "_dom_classes": [],
            "_model_module": "@jupyter-widgets/controls",
            "_model_module_version": "1.5.0",
            "_model_name": "HBoxModel",
            "_view_count": null,
            "_view_module": "@jupyter-widgets/controls",
            "_view_module_version": "1.5.0",
            "_view_name": "HBoxView",
            "box_style": "",
            "children": [
              "IPY_MODEL_b6d7fd75e9b64e3cbfcc2f2a47b8ada0",
              "IPY_MODEL_1915422d197c47368077a757bfb64b98",
              "IPY_MODEL_07b97abd076741f587a1e63bef947303"
            ],
            "layout": "IPY_MODEL_c3df01d8502d4a95b4f883b8f035784f"
          }
        },
        "b6d7fd75e9b64e3cbfcc2f2a47b8ada0": {
          "model_module": "@jupyter-widgets/controls",
          "model_name": "HTMLModel",
          "model_module_version": "1.5.0",
          "state": {
            "_dom_classes": [],
            "_model_module": "@jupyter-widgets/controls",
            "_model_module_version": "1.5.0",
            "_model_name": "HTMLModel",
            "_view_count": null,
            "_view_module": "@jupyter-widgets/controls",
            "_view_module_version": "1.5.0",
            "_view_name": "HTMLView",
            "description": "",
            "description_tooltip": null,
            "layout": "IPY_MODEL_cd5f5c4029f2458d880046367ed5c9c6",
            "placeholder": "​",
            "style": "IPY_MODEL_096c75ca8e634db0951e28153bc4e29c",
            "value": "Downloading (…)lve/main/config.json: 100%"
          }
        },
        "1915422d197c47368077a757bfb64b98": {
          "model_module": "@jupyter-widgets/controls",
          "model_name": "FloatProgressModel",
          "model_module_version": "1.5.0",
          "state": {
            "_dom_classes": [],
            "_model_module": "@jupyter-widgets/controls",
            "_model_module_version": "1.5.0",
            "_model_name": "FloatProgressModel",
            "_view_count": null,
            "_view_module": "@jupyter-widgets/controls",
            "_view_module_version": "1.5.0",
            "_view_name": "ProgressView",
            "bar_style": "success",
            "description": "",
            "description_tooltip": null,
            "layout": "IPY_MODEL_fd32c3773df24032a538897c643daf65",
            "max": 570,
            "min": 0,
            "orientation": "horizontal",
            "style": "IPY_MODEL_de087a7a3c2441a2af20e1e7c8d6d6b9",
            "value": 570
          }
        },
        "07b97abd076741f587a1e63bef947303": {
          "model_module": "@jupyter-widgets/controls",
          "model_name": "HTMLModel",
          "model_module_version": "1.5.0",
          "state": {
            "_dom_classes": [],
            "_model_module": "@jupyter-widgets/controls",
            "_model_module_version": "1.5.0",
            "_model_name": "HTMLModel",
            "_view_count": null,
            "_view_module": "@jupyter-widgets/controls",
            "_view_module_version": "1.5.0",
            "_view_name": "HTMLView",
            "description": "",
            "description_tooltip": null,
            "layout": "IPY_MODEL_e06306b4c7624243ad75afbbc17de5f4",
            "placeholder": "​",
            "style": "IPY_MODEL_1d40ec30aa404d80a381ce196bb29fc1",
            "value": " 570/570 [00:00&lt;00:00, 23.7kB/s]"
          }
        },
        "c3df01d8502d4a95b4f883b8f035784f": {
          "model_module": "@jupyter-widgets/base",
          "model_name": "LayoutModel",
          "model_module_version": "1.2.0",
          "state": {
            "_model_module": "@jupyter-widgets/base",
            "_model_module_version": "1.2.0",
            "_model_name": "LayoutModel",
            "_view_count": null,
            "_view_module": "@jupyter-widgets/base",
            "_view_module_version": "1.2.0",
            "_view_name": "LayoutView",
            "align_content": null,
            "align_items": null,
            "align_self": null,
            "border": null,
            "bottom": null,
            "display": null,
            "flex": null,
            "flex_flow": null,
            "grid_area": null,
            "grid_auto_columns": null,
            "grid_auto_flow": null,
            "grid_auto_rows": null,
            "grid_column": null,
            "grid_gap": null,
            "grid_row": null,
            "grid_template_areas": null,
            "grid_template_columns": null,
            "grid_template_rows": null,
            "height": null,
            "justify_content": null,
            "justify_items": null,
            "left": null,
            "margin": null,
            "max_height": null,
            "max_width": null,
            "min_height": null,
            "min_width": null,
            "object_fit": null,
            "object_position": null,
            "order": null,
            "overflow": null,
            "overflow_x": null,
            "overflow_y": null,
            "padding": null,
            "right": null,
            "top": null,
            "visibility": null,
            "width": null
          }
        },
        "cd5f5c4029f2458d880046367ed5c9c6": {
          "model_module": "@jupyter-widgets/base",
          "model_name": "LayoutModel",
          "model_module_version": "1.2.0",
          "state": {
            "_model_module": "@jupyter-widgets/base",
            "_model_module_version": "1.2.0",
            "_model_name": "LayoutModel",
            "_view_count": null,
            "_view_module": "@jupyter-widgets/base",
            "_view_module_version": "1.2.0",
            "_view_name": "LayoutView",
            "align_content": null,
            "align_items": null,
            "align_self": null,
            "border": null,
            "bottom": null,
            "display": null,
            "flex": null,
            "flex_flow": null,
            "grid_area": null,
            "grid_auto_columns": null,
            "grid_auto_flow": null,
            "grid_auto_rows": null,
            "grid_column": null,
            "grid_gap": null,
            "grid_row": null,
            "grid_template_areas": null,
            "grid_template_columns": null,
            "grid_template_rows": null,
            "height": null,
            "justify_content": null,
            "justify_items": null,
            "left": null,
            "margin": null,
            "max_height": null,
            "max_width": null,
            "min_height": null,
            "min_width": null,
            "object_fit": null,
            "object_position": null,
            "order": null,
            "overflow": null,
            "overflow_x": null,
            "overflow_y": null,
            "padding": null,
            "right": null,
            "top": null,
            "visibility": null,
            "width": null
          }
        },
        "096c75ca8e634db0951e28153bc4e29c": {
          "model_module": "@jupyter-widgets/controls",
          "model_name": "DescriptionStyleModel",
          "model_module_version": "1.5.0",
          "state": {
            "_model_module": "@jupyter-widgets/controls",
            "_model_module_version": "1.5.0",
            "_model_name": "DescriptionStyleModel",
            "_view_count": null,
            "_view_module": "@jupyter-widgets/base",
            "_view_module_version": "1.2.0",
            "_view_name": "StyleView",
            "description_width": ""
          }
        },
        "fd32c3773df24032a538897c643daf65": {
          "model_module": "@jupyter-widgets/base",
          "model_name": "LayoutModel",
          "model_module_version": "1.2.0",
          "state": {
            "_model_module": "@jupyter-widgets/base",
            "_model_module_version": "1.2.0",
            "_model_name": "LayoutModel",
            "_view_count": null,
            "_view_module": "@jupyter-widgets/base",
            "_view_module_version": "1.2.0",
            "_view_name": "LayoutView",
            "align_content": null,
            "align_items": null,
            "align_self": null,
            "border": null,
            "bottom": null,
            "display": null,
            "flex": null,
            "flex_flow": null,
            "grid_area": null,
            "grid_auto_columns": null,
            "grid_auto_flow": null,
            "grid_auto_rows": null,
            "grid_column": null,
            "grid_gap": null,
            "grid_row": null,
            "grid_template_areas": null,
            "grid_template_columns": null,
            "grid_template_rows": null,
            "height": null,
            "justify_content": null,
            "justify_items": null,
            "left": null,
            "margin": null,
            "max_height": null,
            "max_width": null,
            "min_height": null,
            "min_width": null,
            "object_fit": null,
            "object_position": null,
            "order": null,
            "overflow": null,
            "overflow_x": null,
            "overflow_y": null,
            "padding": null,
            "right": null,
            "top": null,
            "visibility": null,
            "width": null
          }
        },
        "de087a7a3c2441a2af20e1e7c8d6d6b9": {
          "model_module": "@jupyter-widgets/controls",
          "model_name": "ProgressStyleModel",
          "model_module_version": "1.5.0",
          "state": {
            "_model_module": "@jupyter-widgets/controls",
            "_model_module_version": "1.5.0",
            "_model_name": "ProgressStyleModel",
            "_view_count": null,
            "_view_module": "@jupyter-widgets/base",
            "_view_module_version": "1.2.0",
            "_view_name": "StyleView",
            "bar_color": null,
            "description_width": ""
          }
        },
        "e06306b4c7624243ad75afbbc17de5f4": {
          "model_module": "@jupyter-widgets/base",
          "model_name": "LayoutModel",
          "model_module_version": "1.2.0",
          "state": {
            "_model_module": "@jupyter-widgets/base",
            "_model_module_version": "1.2.0",
            "_model_name": "LayoutModel",
            "_view_count": null,
            "_view_module": "@jupyter-widgets/base",
            "_view_module_version": "1.2.0",
            "_view_name": "LayoutView",
            "align_content": null,
            "align_items": null,
            "align_self": null,
            "border": null,
            "bottom": null,
            "display": null,
            "flex": null,
            "flex_flow": null,
            "grid_area": null,
            "grid_auto_columns": null,
            "grid_auto_flow": null,
            "grid_auto_rows": null,
            "grid_column": null,
            "grid_gap": null,
            "grid_row": null,
            "grid_template_areas": null,
            "grid_template_columns": null,
            "grid_template_rows": null,
            "height": null,
            "justify_content": null,
            "justify_items": null,
            "left": null,
            "margin": null,
            "max_height": null,
            "max_width": null,
            "min_height": null,
            "min_width": null,
            "object_fit": null,
            "object_position": null,
            "order": null,
            "overflow": null,
            "overflow_x": null,
            "overflow_y": null,
            "padding": null,
            "right": null,
            "top": null,
            "visibility": null,
            "width": null
          }
        },
        "1d40ec30aa404d80a381ce196bb29fc1": {
          "model_module": "@jupyter-widgets/controls",
          "model_name": "DescriptionStyleModel",
          "model_module_version": "1.5.0",
          "state": {
            "_model_module": "@jupyter-widgets/controls",
            "_model_module_version": "1.5.0",
            "_model_name": "DescriptionStyleModel",
            "_view_count": null,
            "_view_module": "@jupyter-widgets/base",
            "_view_module_version": "1.2.0",
            "_view_name": "StyleView",
            "description_width": ""
          }
        },
        "d765d18e67574be09f04a054c380211f": {
          "model_module": "@jupyter-widgets/controls",
          "model_name": "HBoxModel",
          "model_module_version": "1.5.0",
          "state": {
            "_dom_classes": [],
            "_model_module": "@jupyter-widgets/controls",
            "_model_module_version": "1.5.0",
            "_model_name": "HBoxModel",
            "_view_count": null,
            "_view_module": "@jupyter-widgets/controls",
            "_view_module_version": "1.5.0",
            "_view_name": "HBoxView",
            "box_style": "",
            "children": [
              "IPY_MODEL_b421790e3f1447358a2479e56396192a",
              "IPY_MODEL_47099a3e8e754854a99a5ea8e7343b66",
              "IPY_MODEL_2246faa8208f415ca5cc233148700140"
            ],
            "layout": "IPY_MODEL_4b1ba22f210d4141b2a0d6b6befe5d1a"
          }
        },
        "b421790e3f1447358a2479e56396192a": {
          "model_module": "@jupyter-widgets/controls",
          "model_name": "HTMLModel",
          "model_module_version": "1.5.0",
          "state": {
            "_dom_classes": [],
            "_model_module": "@jupyter-widgets/controls",
            "_model_module_version": "1.5.0",
            "_model_name": "HTMLModel",
            "_view_count": null,
            "_view_module": "@jupyter-widgets/controls",
            "_view_module_version": "1.5.0",
            "_view_name": "HTMLView",
            "description": "",
            "description_tooltip": null,
            "layout": "IPY_MODEL_c2426e306661491a965de037796174af",
            "placeholder": "​",
            "style": "IPY_MODEL_2a1f57fd2f7a40b585eca5e7ac41babd",
            "value": "Downloading (…)solve/main/vocab.txt: 100%"
          }
        },
        "47099a3e8e754854a99a5ea8e7343b66": {
          "model_module": "@jupyter-widgets/controls",
          "model_name": "FloatProgressModel",
          "model_module_version": "1.5.0",
          "state": {
            "_dom_classes": [],
            "_model_module": "@jupyter-widgets/controls",
            "_model_module_version": "1.5.0",
            "_model_name": "FloatProgressModel",
            "_view_count": null,
            "_view_module": "@jupyter-widgets/controls",
            "_view_module_version": "1.5.0",
            "_view_name": "ProgressView",
            "bar_style": "success",
            "description": "",
            "description_tooltip": null,
            "layout": "IPY_MODEL_40fa266845c242f6867dfd6f7bd99ee3",
            "max": 231508,
            "min": 0,
            "orientation": "horizontal",
            "style": "IPY_MODEL_14eaafd1f2b04e1ca1fc3d27798dd6ce",
            "value": 231508
          }
        },
        "2246faa8208f415ca5cc233148700140": {
          "model_module": "@jupyter-widgets/controls",
          "model_name": "HTMLModel",
          "model_module_version": "1.5.0",
          "state": {
            "_dom_classes": [],
            "_model_module": "@jupyter-widgets/controls",
            "_model_module_version": "1.5.0",
            "_model_name": "HTMLModel",
            "_view_count": null,
            "_view_module": "@jupyter-widgets/controls",
            "_view_module_version": "1.5.0",
            "_view_name": "HTMLView",
            "description": "",
            "description_tooltip": null,
            "layout": "IPY_MODEL_bfe8c99a15d04f5ab7b3a6f1e9de16c3",
            "placeholder": "​",
            "style": "IPY_MODEL_a55cd44b75d943479e3331b3e65446cd",
            "value": " 232k/232k [00:00&lt;00:00, 1.38MB/s]"
          }
        },
        "4b1ba22f210d4141b2a0d6b6befe5d1a": {
          "model_module": "@jupyter-widgets/base",
          "model_name": "LayoutModel",
          "model_module_version": "1.2.0",
          "state": {
            "_model_module": "@jupyter-widgets/base",
            "_model_module_version": "1.2.0",
            "_model_name": "LayoutModel",
            "_view_count": null,
            "_view_module": "@jupyter-widgets/base",
            "_view_module_version": "1.2.0",
            "_view_name": "LayoutView",
            "align_content": null,
            "align_items": null,
            "align_self": null,
            "border": null,
            "bottom": null,
            "display": null,
            "flex": null,
            "flex_flow": null,
            "grid_area": null,
            "grid_auto_columns": null,
            "grid_auto_flow": null,
            "grid_auto_rows": null,
            "grid_column": null,
            "grid_gap": null,
            "grid_row": null,
            "grid_template_areas": null,
            "grid_template_columns": null,
            "grid_template_rows": null,
            "height": null,
            "justify_content": null,
            "justify_items": null,
            "left": null,
            "margin": null,
            "max_height": null,
            "max_width": null,
            "min_height": null,
            "min_width": null,
            "object_fit": null,
            "object_position": null,
            "order": null,
            "overflow": null,
            "overflow_x": null,
            "overflow_y": null,
            "padding": null,
            "right": null,
            "top": null,
            "visibility": null,
            "width": null
          }
        },
        "c2426e306661491a965de037796174af": {
          "model_module": "@jupyter-widgets/base",
          "model_name": "LayoutModel",
          "model_module_version": "1.2.0",
          "state": {
            "_model_module": "@jupyter-widgets/base",
            "_model_module_version": "1.2.0",
            "_model_name": "LayoutModel",
            "_view_count": null,
            "_view_module": "@jupyter-widgets/base",
            "_view_module_version": "1.2.0",
            "_view_name": "LayoutView",
            "align_content": null,
            "align_items": null,
            "align_self": null,
            "border": null,
            "bottom": null,
            "display": null,
            "flex": null,
            "flex_flow": null,
            "grid_area": null,
            "grid_auto_columns": null,
            "grid_auto_flow": null,
            "grid_auto_rows": null,
            "grid_column": null,
            "grid_gap": null,
            "grid_row": null,
            "grid_template_areas": null,
            "grid_template_columns": null,
            "grid_template_rows": null,
            "height": null,
            "justify_content": null,
            "justify_items": null,
            "left": null,
            "margin": null,
            "max_height": null,
            "max_width": null,
            "min_height": null,
            "min_width": null,
            "object_fit": null,
            "object_position": null,
            "order": null,
            "overflow": null,
            "overflow_x": null,
            "overflow_y": null,
            "padding": null,
            "right": null,
            "top": null,
            "visibility": null,
            "width": null
          }
        },
        "2a1f57fd2f7a40b585eca5e7ac41babd": {
          "model_module": "@jupyter-widgets/controls",
          "model_name": "DescriptionStyleModel",
          "model_module_version": "1.5.0",
          "state": {
            "_model_module": "@jupyter-widgets/controls",
            "_model_module_version": "1.5.0",
            "_model_name": "DescriptionStyleModel",
            "_view_count": null,
            "_view_module": "@jupyter-widgets/base",
            "_view_module_version": "1.2.0",
            "_view_name": "StyleView",
            "description_width": ""
          }
        },
        "40fa266845c242f6867dfd6f7bd99ee3": {
          "model_module": "@jupyter-widgets/base",
          "model_name": "LayoutModel",
          "model_module_version": "1.2.0",
          "state": {
            "_model_module": "@jupyter-widgets/base",
            "_model_module_version": "1.2.0",
            "_model_name": "LayoutModel",
            "_view_count": null,
            "_view_module": "@jupyter-widgets/base",
            "_view_module_version": "1.2.0",
            "_view_name": "LayoutView",
            "align_content": null,
            "align_items": null,
            "align_self": null,
            "border": null,
            "bottom": null,
            "display": null,
            "flex": null,
            "flex_flow": null,
            "grid_area": null,
            "grid_auto_columns": null,
            "grid_auto_flow": null,
            "grid_auto_rows": null,
            "grid_column": null,
            "grid_gap": null,
            "grid_row": null,
            "grid_template_areas": null,
            "grid_template_columns": null,
            "grid_template_rows": null,
            "height": null,
            "justify_content": null,
            "justify_items": null,
            "left": null,
            "margin": null,
            "max_height": null,
            "max_width": null,
            "min_height": null,
            "min_width": null,
            "object_fit": null,
            "object_position": null,
            "order": null,
            "overflow": null,
            "overflow_x": null,
            "overflow_y": null,
            "padding": null,
            "right": null,
            "top": null,
            "visibility": null,
            "width": null
          }
        },
        "14eaafd1f2b04e1ca1fc3d27798dd6ce": {
          "model_module": "@jupyter-widgets/controls",
          "model_name": "ProgressStyleModel",
          "model_module_version": "1.5.0",
          "state": {
            "_model_module": "@jupyter-widgets/controls",
            "_model_module_version": "1.5.0",
            "_model_name": "ProgressStyleModel",
            "_view_count": null,
            "_view_module": "@jupyter-widgets/base",
            "_view_module_version": "1.2.0",
            "_view_name": "StyleView",
            "bar_color": null,
            "description_width": ""
          }
        },
        "bfe8c99a15d04f5ab7b3a6f1e9de16c3": {
          "model_module": "@jupyter-widgets/base",
          "model_name": "LayoutModel",
          "model_module_version": "1.2.0",
          "state": {
            "_model_module": "@jupyter-widgets/base",
            "_model_module_version": "1.2.0",
            "_model_name": "LayoutModel",
            "_view_count": null,
            "_view_module": "@jupyter-widgets/base",
            "_view_module_version": "1.2.0",
            "_view_name": "LayoutView",
            "align_content": null,
            "align_items": null,
            "align_self": null,
            "border": null,
            "bottom": null,
            "display": null,
            "flex": null,
            "flex_flow": null,
            "grid_area": null,
            "grid_auto_columns": null,
            "grid_auto_flow": null,
            "grid_auto_rows": null,
            "grid_column": null,
            "grid_gap": null,
            "grid_row": null,
            "grid_template_areas": null,
            "grid_template_columns": null,
            "grid_template_rows": null,
            "height": null,
            "justify_content": null,
            "justify_items": null,
            "left": null,
            "margin": null,
            "max_height": null,
            "max_width": null,
            "min_height": null,
            "min_width": null,
            "object_fit": null,
            "object_position": null,
            "order": null,
            "overflow": null,
            "overflow_x": null,
            "overflow_y": null,
            "padding": null,
            "right": null,
            "top": null,
            "visibility": null,
            "width": null
          }
        },
        "a55cd44b75d943479e3331b3e65446cd": {
          "model_module": "@jupyter-widgets/controls",
          "model_name": "DescriptionStyleModel",
          "model_module_version": "1.5.0",
          "state": {
            "_model_module": "@jupyter-widgets/controls",
            "_model_module_version": "1.5.0",
            "_model_name": "DescriptionStyleModel",
            "_view_count": null,
            "_view_module": "@jupyter-widgets/base",
            "_view_module_version": "1.2.0",
            "_view_name": "StyleView",
            "description_width": ""
          }
        },
        "dc66be78087947e685549f3899c1b4da": {
          "model_module": "@jupyter-widgets/controls",
          "model_name": "HBoxModel",
          "model_module_version": "1.5.0",
          "state": {
            "_dom_classes": [],
            "_model_module": "@jupyter-widgets/controls",
            "_model_module_version": "1.5.0",
            "_model_name": "HBoxModel",
            "_view_count": null,
            "_view_module": "@jupyter-widgets/controls",
            "_view_module_version": "1.5.0",
            "_view_name": "HBoxView",
            "box_style": "",
            "children": [
              "IPY_MODEL_c5fe72dae74e4471b57c8e0613380a4f",
              "IPY_MODEL_398b507ca9884cb19e7fa71d30b6bdfc",
              "IPY_MODEL_6e17d4e66cbc403f952c6e3e6d8de0b9"
            ],
            "layout": "IPY_MODEL_d0655f42c09048eab00e33659231fc2f"
          }
        },
        "c5fe72dae74e4471b57c8e0613380a4f": {
          "model_module": "@jupyter-widgets/controls",
          "model_name": "HTMLModel",
          "model_module_version": "1.5.0",
          "state": {
            "_dom_classes": [],
            "_model_module": "@jupyter-widgets/controls",
            "_model_module_version": "1.5.0",
            "_model_name": "HTMLModel",
            "_view_count": null,
            "_view_module": "@jupyter-widgets/controls",
            "_view_module_version": "1.5.0",
            "_view_name": "HTMLView",
            "description": "",
            "description_tooltip": null,
            "layout": "IPY_MODEL_e4a6f6ae59794946ba95e15431f844e5",
            "placeholder": "​",
            "style": "IPY_MODEL_69ea7df6c7114f2fa893a76020d1f016",
            "value": "Downloading (…)/main/tokenizer.json: 100%"
          }
        },
        "398b507ca9884cb19e7fa71d30b6bdfc": {
          "model_module": "@jupyter-widgets/controls",
          "model_name": "FloatProgressModel",
          "model_module_version": "1.5.0",
          "state": {
            "_dom_classes": [],
            "_model_module": "@jupyter-widgets/controls",
            "_model_module_version": "1.5.0",
            "_model_name": "FloatProgressModel",
            "_view_count": null,
            "_view_module": "@jupyter-widgets/controls",
            "_view_module_version": "1.5.0",
            "_view_name": "ProgressView",
            "bar_style": "success",
            "description": "",
            "description_tooltip": null,
            "layout": "IPY_MODEL_c768b36aad75424d824370310b822a31",
            "max": 466062,
            "min": 0,
            "orientation": "horizontal",
            "style": "IPY_MODEL_c43513568eee4b88ba17a07f4ef0fbec",
            "value": 466062
          }
        },
        "6e17d4e66cbc403f952c6e3e6d8de0b9": {
          "model_module": "@jupyter-widgets/controls",
          "model_name": "HTMLModel",
          "model_module_version": "1.5.0",
          "state": {
            "_dom_classes": [],
            "_model_module": "@jupyter-widgets/controls",
            "_model_module_version": "1.5.0",
            "_model_name": "HTMLModel",
            "_view_count": null,
            "_view_module": "@jupyter-widgets/controls",
            "_view_module_version": "1.5.0",
            "_view_name": "HTMLView",
            "description": "",
            "description_tooltip": null,
            "layout": "IPY_MODEL_3559a13b32524e1a8629bda106dac062",
            "placeholder": "​",
            "style": "IPY_MODEL_76acd0a7c3d24fc9b374fc5dc6043eb7",
            "value": " 466k/466k [00:00&lt;00:00, 3.10MB/s]"
          }
        },
        "d0655f42c09048eab00e33659231fc2f": {
          "model_module": "@jupyter-widgets/base",
          "model_name": "LayoutModel",
          "model_module_version": "1.2.0",
          "state": {
            "_model_module": "@jupyter-widgets/base",
            "_model_module_version": "1.2.0",
            "_model_name": "LayoutModel",
            "_view_count": null,
            "_view_module": "@jupyter-widgets/base",
            "_view_module_version": "1.2.0",
            "_view_name": "LayoutView",
            "align_content": null,
            "align_items": null,
            "align_self": null,
            "border": null,
            "bottom": null,
            "display": null,
            "flex": null,
            "flex_flow": null,
            "grid_area": null,
            "grid_auto_columns": null,
            "grid_auto_flow": null,
            "grid_auto_rows": null,
            "grid_column": null,
            "grid_gap": null,
            "grid_row": null,
            "grid_template_areas": null,
            "grid_template_columns": null,
            "grid_template_rows": null,
            "height": null,
            "justify_content": null,
            "justify_items": null,
            "left": null,
            "margin": null,
            "max_height": null,
            "max_width": null,
            "min_height": null,
            "min_width": null,
            "object_fit": null,
            "object_position": null,
            "order": null,
            "overflow": null,
            "overflow_x": null,
            "overflow_y": null,
            "padding": null,
            "right": null,
            "top": null,
            "visibility": null,
            "width": null
          }
        },
        "e4a6f6ae59794946ba95e15431f844e5": {
          "model_module": "@jupyter-widgets/base",
          "model_name": "LayoutModel",
          "model_module_version": "1.2.0",
          "state": {
            "_model_module": "@jupyter-widgets/base",
            "_model_module_version": "1.2.0",
            "_model_name": "LayoutModel",
            "_view_count": null,
            "_view_module": "@jupyter-widgets/base",
            "_view_module_version": "1.2.0",
            "_view_name": "LayoutView",
            "align_content": null,
            "align_items": null,
            "align_self": null,
            "border": null,
            "bottom": null,
            "display": null,
            "flex": null,
            "flex_flow": null,
            "grid_area": null,
            "grid_auto_columns": null,
            "grid_auto_flow": null,
            "grid_auto_rows": null,
            "grid_column": null,
            "grid_gap": null,
            "grid_row": null,
            "grid_template_areas": null,
            "grid_template_columns": null,
            "grid_template_rows": null,
            "height": null,
            "justify_content": null,
            "justify_items": null,
            "left": null,
            "margin": null,
            "max_height": null,
            "max_width": null,
            "min_height": null,
            "min_width": null,
            "object_fit": null,
            "object_position": null,
            "order": null,
            "overflow": null,
            "overflow_x": null,
            "overflow_y": null,
            "padding": null,
            "right": null,
            "top": null,
            "visibility": null,
            "width": null
          }
        },
        "69ea7df6c7114f2fa893a76020d1f016": {
          "model_module": "@jupyter-widgets/controls",
          "model_name": "DescriptionStyleModel",
          "model_module_version": "1.5.0",
          "state": {
            "_model_module": "@jupyter-widgets/controls",
            "_model_module_version": "1.5.0",
            "_model_name": "DescriptionStyleModel",
            "_view_count": null,
            "_view_module": "@jupyter-widgets/base",
            "_view_module_version": "1.2.0",
            "_view_name": "StyleView",
            "description_width": ""
          }
        },
        "c768b36aad75424d824370310b822a31": {
          "model_module": "@jupyter-widgets/base",
          "model_name": "LayoutModel",
          "model_module_version": "1.2.0",
          "state": {
            "_model_module": "@jupyter-widgets/base",
            "_model_module_version": "1.2.0",
            "_model_name": "LayoutModel",
            "_view_count": null,
            "_view_module": "@jupyter-widgets/base",
            "_view_module_version": "1.2.0",
            "_view_name": "LayoutView",
            "align_content": null,
            "align_items": null,
            "align_self": null,
            "border": null,
            "bottom": null,
            "display": null,
            "flex": null,
            "flex_flow": null,
            "grid_area": null,
            "grid_auto_columns": null,
            "grid_auto_flow": null,
            "grid_auto_rows": null,
            "grid_column": null,
            "grid_gap": null,
            "grid_row": null,
            "grid_template_areas": null,
            "grid_template_columns": null,
            "grid_template_rows": null,
            "height": null,
            "justify_content": null,
            "justify_items": null,
            "left": null,
            "margin": null,
            "max_height": null,
            "max_width": null,
            "min_height": null,
            "min_width": null,
            "object_fit": null,
            "object_position": null,
            "order": null,
            "overflow": null,
            "overflow_x": null,
            "overflow_y": null,
            "padding": null,
            "right": null,
            "top": null,
            "visibility": null,
            "width": null
          }
        },
        "c43513568eee4b88ba17a07f4ef0fbec": {
          "model_module": "@jupyter-widgets/controls",
          "model_name": "ProgressStyleModel",
          "model_module_version": "1.5.0",
          "state": {
            "_model_module": "@jupyter-widgets/controls",
            "_model_module_version": "1.5.0",
            "_model_name": "ProgressStyleModel",
            "_view_count": null,
            "_view_module": "@jupyter-widgets/base",
            "_view_module_version": "1.2.0",
            "_view_name": "StyleView",
            "bar_color": null,
            "description_width": ""
          }
        },
        "3559a13b32524e1a8629bda106dac062": {
          "model_module": "@jupyter-widgets/base",
          "model_name": "LayoutModel",
          "model_module_version": "1.2.0",
          "state": {
            "_model_module": "@jupyter-widgets/base",
            "_model_module_version": "1.2.0",
            "_model_name": "LayoutModel",
            "_view_count": null,
            "_view_module": "@jupyter-widgets/base",
            "_view_module_version": "1.2.0",
            "_view_name": "LayoutView",
            "align_content": null,
            "align_items": null,
            "align_self": null,
            "border": null,
            "bottom": null,
            "display": null,
            "flex": null,
            "flex_flow": null,
            "grid_area": null,
            "grid_auto_columns": null,
            "grid_auto_flow": null,
            "grid_auto_rows": null,
            "grid_column": null,
            "grid_gap": null,
            "grid_row": null,
            "grid_template_areas": null,
            "grid_template_columns": null,
            "grid_template_rows": null,
            "height": null,
            "justify_content": null,
            "justify_items": null,
            "left": null,
            "margin": null,
            "max_height": null,
            "max_width": null,
            "min_height": null,
            "min_width": null,
            "object_fit": null,
            "object_position": null,
            "order": null,
            "overflow": null,
            "overflow_x": null,
            "overflow_y": null,
            "padding": null,
            "right": null,
            "top": null,
            "visibility": null,
            "width": null
          }
        },
        "76acd0a7c3d24fc9b374fc5dc6043eb7": {
          "model_module": "@jupyter-widgets/controls",
          "model_name": "DescriptionStyleModel",
          "model_module_version": "1.5.0",
          "state": {
            "_model_module": "@jupyter-widgets/controls",
            "_model_module_version": "1.5.0",
            "_model_name": "DescriptionStyleModel",
            "_view_count": null,
            "_view_module": "@jupyter-widgets/base",
            "_view_module_version": "1.2.0",
            "_view_name": "StyleView",
            "description_width": ""
          }
        }
      }
    }
  },
  "cells": [
    {
      "cell_type": "markdown",
      "metadata": {
        "id": "view-in-github",
        "colab_type": "text"
      },
      "source": [
        "<a href=\"https://colab.research.google.com/github/isegura/OCW-UC3M-NLPDeep-2023/blob/main/tema5_6_padding_truncation.ipynb\" target=\"_parent\"><img src=\"https://colab.research.google.com/assets/colab-badge.svg\" alt=\"Open In Colab\"/></a>"
      ]
    },
    {
      "cell_type": "markdown",
      "source": [
        "<center>\n",
        "<img src=\"https://upload.wikimedia.org/wikipedia/commons/4/47/Acronimo_y_nombre_uc3m.png\" width=50%/>\n",
        "\n",
        "<h1><font color='#12007a'>Procesamiento de Lenguaje Natural con Aprendizaje Profundo</font></h1>\n",
        "<p>Autora: Isabel Segura Bedmar</p>\n",
        "\n",
        "<img align='right' src=\"https://mirrors.creativecommons.org/presskit/buttons/88x31/png/by-nc-sa.png\" width=15%/>\n",
        "</center>   "
      ],
      "metadata": {
        "id": "hHp0AbtSghD_"
      }
    },
    {
      "cell_type": "markdown",
      "source": [
        "# 5.6. Procesos de padding y truncation en transformers\n",
        "\n",
        "En un ejercicio anterior, aprendimos a tokenizar un texto con un tokenizador de un modelo transformer.\n",
        "\n",
        "En este ejercicio, vamos practicaremos con los procesos de padding y truncation, que nos van a ayudar a que todas las entradas del transformer tengan el mismo tamaño.\n",
        "\n"
      ],
      "metadata": {
        "id": "lUjV4HDK41cr"
      }
    },
    {
      "cell_type": "markdown",
      "source": [
        "\n",
        "\n",
        "## Instalación librería transformers\n",
        "\n",
        "El primer paso será instalar la librería transformers de Hugging Face que nos permitirá cargar el modelo tranformer y su tokenizador. Además, vamos a instalar la librería datasets.\n",
        "Las instalaremos en modo silencioso (-q) para que no muestra las dependencias durante la instalación.\n"
      ],
      "metadata": {
        "id": "PcM1hYjzg0MO"
      }
    },
    {
      "cell_type": "code",
      "source": [
        "!pip install -q transformers datasets"
      ],
      "metadata": {
        "id": "3fpM4lPV7Jp3",
        "colab": {
          "base_uri": "https://localhost:8080/"
        },
        "outputId": "e5920ae6-67a5-499e-beb0-869c6baebbe2"
      },
      "execution_count": null,
      "outputs": [
        {
          "output_type": "stream",
          "name": "stdout",
          "text": [
            "\u001b[2K     \u001b[90m━━━━━━━━━━━━━━━━━━━━━━━━━━━━━━━━━━━━━━━━\u001b[0m \u001b[32m7.7/7.7 MB\u001b[0m \u001b[31m47.9 MB/s\u001b[0m eta \u001b[36m0:00:00\u001b[0m\n",
            "\u001b[2K     \u001b[90m━━━━━━━━━━━━━━━━━━━━━━━━━━━━━━━━━━━━━━\u001b[0m \u001b[32m519.6/519.6 kB\u001b[0m \u001b[31m26.7 MB/s\u001b[0m eta \u001b[36m0:00:00\u001b[0m\n",
            "\u001b[2K     \u001b[90m━━━━━━━━━━━━━━━━━━━━━━━━━━━━━━━━━━━━━━\u001b[0m \u001b[32m295.0/295.0 kB\u001b[0m \u001b[31m14.5 MB/s\u001b[0m eta \u001b[36m0:00:00\u001b[0m\n",
            "\u001b[2K     \u001b[90m━━━━━━━━━━━━━━━━━━━━━━━━━━━━━━━━━━━━━━━━\u001b[0m \u001b[32m3.8/3.8 MB\u001b[0m \u001b[31m34.6 MB/s\u001b[0m eta \u001b[36m0:00:00\u001b[0m\n",
            "\u001b[2K     \u001b[90m━━━━━━━━━━━━━━━━━━━━━━━━━━━━━━━━━━━━━━━━\u001b[0m \u001b[32m1.3/1.3 MB\u001b[0m \u001b[31m21.8 MB/s\u001b[0m eta \u001b[36m0:00:00\u001b[0m\n",
            "\u001b[2K     \u001b[90m━━━━━━━━━━━━━━━━━━━━━━━━━━━━━━━━━━━━━━━\u001b[0m \u001b[32m115.3/115.3 kB\u001b[0m \u001b[31m6.0 MB/s\u001b[0m eta \u001b[36m0:00:00\u001b[0m\n",
            "\u001b[2K     \u001b[90m━━━━━━━━━━━━━━━━━━━━━━━━━━━━━━━━━━━━━━━\u001b[0m \u001b[32m194.1/194.1 kB\u001b[0m \u001b[31m9.1 MB/s\u001b[0m eta \u001b[36m0:00:00\u001b[0m\n",
            "\u001b[2K     \u001b[90m━━━━━━━━━━━━━━━━━━━━━━━━━━━━━━━━━━━━━━\u001b[0m \u001b[32m134.8/134.8 kB\u001b[0m \u001b[31m11.9 MB/s\u001b[0m eta \u001b[36m0:00:00\u001b[0m\n",
            "\u001b[2K     \u001b[90m━━━━━━━━━━━━━━━━━━━━━━━━━━━━━━━━━━━━━━\u001b[0m \u001b[32m268.8/268.8 kB\u001b[0m \u001b[31m15.5 MB/s\u001b[0m eta \u001b[36m0:00:00\u001b[0m\n",
            "\u001b[?25h"
          ]
        }
      ]
    },
    {
      "cell_type": "markdown",
      "source": [
        "## Cargar tokenizador\n",
        "\n",
        "Para cargar el tokenizador, usaremos la clase **AutoTokenizer**, a la que simplemente tendremos que indicarle en su método **from_pretrained** el tokenizador del modelo tranformer que queremos utilizar. En este ejercicio, usaremos BERT Base en su versión uncased\n"
      ],
      "metadata": {
        "id": "-Iuxwtpuepdo"
      }
    },
    {
      "cell_type": "code",
      "source": [
        "from transformers import AutoTokenizer\n",
        "tokenizer = AutoTokenizer.from_pretrained('bert-base-uncased')"
      ],
      "metadata": {
        "id": "406KXaUrera-",
        "colab": {
          "base_uri": "https://localhost:8080/",
          "height": 145,
          "referenced_widgets": [
            "ad9575e2434f491392e8674e7eafdc25",
            "39f57025a2c442c7a84870230e273b1c",
            "c616b8e3385f404c99c438444dad9eb3",
            "e69b8964e22e4b90b0a04d5dba242219",
            "16a798f0b09447398165bc930f312bd7",
            "75b542c941304f09b269336d15a67178",
            "762ab6f9db3841e999e6b58f8b68daff",
            "4e66c9192eba4e2883bb8bb6bb151842",
            "692003747b3a4b5e9af0b40a74caf69b",
            "371ce62df02f4fb5b0fe49a15e5d61c4",
            "f40877e4753e4e62a536bc21edcc5375",
            "ca04909c72f24e6a90f1f92a8f4b55f7",
            "b6d7fd75e9b64e3cbfcc2f2a47b8ada0",
            "1915422d197c47368077a757bfb64b98",
            "07b97abd076741f587a1e63bef947303",
            "c3df01d8502d4a95b4f883b8f035784f",
            "cd5f5c4029f2458d880046367ed5c9c6",
            "096c75ca8e634db0951e28153bc4e29c",
            "fd32c3773df24032a538897c643daf65",
            "de087a7a3c2441a2af20e1e7c8d6d6b9",
            "e06306b4c7624243ad75afbbc17de5f4",
            "1d40ec30aa404d80a381ce196bb29fc1",
            "d765d18e67574be09f04a054c380211f",
            "b421790e3f1447358a2479e56396192a",
            "47099a3e8e754854a99a5ea8e7343b66",
            "2246faa8208f415ca5cc233148700140",
            "4b1ba22f210d4141b2a0d6b6befe5d1a",
            "c2426e306661491a965de037796174af",
            "2a1f57fd2f7a40b585eca5e7ac41babd",
            "40fa266845c242f6867dfd6f7bd99ee3",
            "14eaafd1f2b04e1ca1fc3d27798dd6ce",
            "bfe8c99a15d04f5ab7b3a6f1e9de16c3",
            "a55cd44b75d943479e3331b3e65446cd",
            "dc66be78087947e685549f3899c1b4da",
            "c5fe72dae74e4471b57c8e0613380a4f",
            "398b507ca9884cb19e7fa71d30b6bdfc",
            "6e17d4e66cbc403f952c6e3e6d8de0b9",
            "d0655f42c09048eab00e33659231fc2f",
            "e4a6f6ae59794946ba95e15431f844e5",
            "69ea7df6c7114f2fa893a76020d1f016",
            "c768b36aad75424d824370310b822a31",
            "c43513568eee4b88ba17a07f4ef0fbec",
            "3559a13b32524e1a8629bda106dac062",
            "76acd0a7c3d24fc9b374fc5dc6043eb7"
          ]
        },
        "outputId": "841f594a-fddc-4e95-ea65-4982fc35bbb8"
      },
      "execution_count": null,
      "outputs": [
        {
          "output_type": "display_data",
          "data": {
            "text/plain": [
              "Downloading (…)okenizer_config.json:   0%|          | 0.00/28.0 [00:00<?, ?B/s]"
            ],
            "application/vnd.jupyter.widget-view+json": {
              "version_major": 2,
              "version_minor": 0,
              "model_id": "ad9575e2434f491392e8674e7eafdc25"
            }
          },
          "metadata": {}
        },
        {
          "output_type": "display_data",
          "data": {
            "text/plain": [
              "Downloading (…)lve/main/config.json:   0%|          | 0.00/570 [00:00<?, ?B/s]"
            ],
            "application/vnd.jupyter.widget-view+json": {
              "version_major": 2,
              "version_minor": 0,
              "model_id": "ca04909c72f24e6a90f1f92a8f4b55f7"
            }
          },
          "metadata": {}
        },
        {
          "output_type": "display_data",
          "data": {
            "text/plain": [
              "Downloading (…)solve/main/vocab.txt:   0%|          | 0.00/232k [00:00<?, ?B/s]"
            ],
            "application/vnd.jupyter.widget-view+json": {
              "version_major": 2,
              "version_minor": 0,
              "model_id": "d765d18e67574be09f04a054c380211f"
            }
          },
          "metadata": {}
        },
        {
          "output_type": "display_data",
          "data": {
            "text/plain": [
              "Downloading (…)/main/tokenizer.json:   0%|          | 0.00/466k [00:00<?, ?B/s]"
            ],
            "application/vnd.jupyter.widget-view+json": {
              "version_major": 2,
              "version_minor": 0,
              "model_id": "dc66be78087947e685549f3899c1b4da"
            }
          },
          "metadata": {}
        }
      ]
    },
    {
      "cell_type": "markdown",
      "source": [
        "## Cargar un dataset\n",
        "También vamos a cargar un dataset (split train de 'rottten_tomamotes'). Puedes cargar todo el split, aunque para poder ver mejor los resultados te recomendamos que únicamente tomes 10 registros."
      ],
      "metadata": {
        "id": "Zx_R2Nb5h1bX"
      }
    },
    {
      "cell_type": "code",
      "source": [
        "from datasets import load_dataset\n",
        "# data = load_dataset(\"rotten_tomatoes\", split='train')\n",
        "data = load_dataset(\"rotten_tomatoes\", split='train[0:10]')\n",
        "data"
      ],
      "metadata": {
        "colab": {
          "base_uri": "https://localhost:8080/"
        },
        "id": "Jh2FqusbwIMw",
        "outputId": "0278e91d-62f5-4bd9-efb0-0cd231dc9f92"
      },
      "execution_count": null,
      "outputs": [
        {
          "output_type": "execute_result",
          "data": {
            "text/plain": [
              "Dataset({\n",
              "    features: ['text', 'label'],\n",
              "    num_rows: 10\n",
              "})"
            ]
          },
          "metadata": {},
          "execution_count": 6
        }
      ]
    },
    {
      "cell_type": "markdown",
      "source": [
        "## Tokenizar la colección de textos"
      ],
      "metadata": {
        "id": "BM7KchCjnJSh"
      }
    },
    {
      "cell_type": "code",
      "source": [
        "encoded_inputs = tokenizer(data['text'])\n",
        "encoded_inputs"
      ],
      "metadata": {
        "colab": {
          "base_uri": "https://localhost:8080/"
        },
        "id": "RN60LGBznMMp",
        "outputId": "5322847e-553b-48e9-9e61-63d50ad46d27"
      },
      "execution_count": null,
      "outputs": [
        {
          "output_type": "execute_result",
          "data": {
            "text/plain": [
              "{'input_ids': [[101, 1996, 2600, 2003, 16036, 2000, 2022, 1996, 7398, 2301, 1005, 1055, 2047, 1000, 16608, 1000, 1998, 2008, 2002, 1005, 1055, 2183, 2000, 2191, 1037, 17624, 2130, 3618, 2084, 7779, 29058, 8625, 13327, 1010, 3744, 1011, 18856, 19513, 3158, 5477, 4168, 2030, 7112, 16562, 2140, 1012, 102], [101, 1996, 9882, 2135, 9603, 13633, 1997, 1000, 1996, 2935, 1997, 1996, 7635, 1000, 11544, 2003, 2061, 4121, 2008, 1037, 5930, 1997, 2616, 3685, 23613, 6235, 2522, 1011, 3213, 1013, 2472, 2848, 4027, 1005, 1055, 4423, 4432, 1997, 1046, 1012, 1054, 1012, 1054, 1012, 23602, 1005, 1055, 2690, 1011, 3011, 1012, 102], [101, 4621, 2021, 2205, 1011, 8915, 23267, 16012, 24330, 102], [101, 2065, 2017, 2823, 2066, 2000, 2175, 2000, 1996, 5691, 2000, 2031, 4569, 1010, 2001, 28518, 2003, 1037, 2204, 2173, 2000, 2707, 1012, 102], [101, 19391, 2004, 2242, 4678, 1010, 2019, 3277, 3185, 2008, 1005, 1055, 2061, 7481, 1998, 10326, 2135, 5159, 2008, 2009, 2987, 1005, 1056, 2514, 2066, 2028, 1012, 102], [101, 1996, 2143, 3640, 2070, 2307, 12369, 2046, 1996, 11265, 10976, 4588, 9273, 3388, 1997, 2035, 5888, 1011, 1011, 2130, 2216, 2040, 2031, 2584, 1996, 7619, 2327, 1997, 1996, 2208, 1012, 102], [101, 4107, 2008, 4678, 5257, 1997, 4024, 1998, 2495, 1012, 102], [101, 3383, 2053, 3861, 2412, 2081, 2038, 2062, 6719, 3662, 2008, 1996, 2346, 2000, 3109, 2003, 12308, 2007, 2204, 11174, 1012, 102], [101, 20634, 2015, 4332, 1999, 1037, 10245, 7685, 9000, 2008, 14484, 2012, 1996, 7926, 1025, 2009, 1005, 1055, 2061, 12266, 2017, 2215, 2000, 5223, 2009, 1012, 2021, 2002, 5064, 8005, 2009, 2125, 1012, 102], [101, 2202, 2729, 1997, 2026, 4937, 4107, 1037, 27150, 2135, 2367, 14704, 1997, 4004, 5988, 1012, 102]], 'token_type_ids': [[0, 0, 0, 0, 0, 0, 0, 0, 0, 0, 0, 0, 0, 0, 0, 0, 0, 0, 0, 0, 0, 0, 0, 0, 0, 0, 0, 0, 0, 0, 0, 0, 0, 0, 0, 0, 0, 0, 0, 0, 0, 0, 0, 0, 0, 0, 0], [0, 0, 0, 0, 0, 0, 0, 0, 0, 0, 0, 0, 0, 0, 0, 0, 0, 0, 0, 0, 0, 0, 0, 0, 0, 0, 0, 0, 0, 0, 0, 0, 0, 0, 0, 0, 0, 0, 0, 0, 0, 0, 0, 0, 0, 0, 0, 0, 0, 0, 0, 0], [0, 0, 0, 0, 0, 0, 0, 0, 0, 0], [0, 0, 0, 0, 0, 0, 0, 0, 0, 0, 0, 0, 0, 0, 0, 0, 0, 0, 0, 0, 0, 0, 0, 0], [0, 0, 0, 0, 0, 0, 0, 0, 0, 0, 0, 0, 0, 0, 0, 0, 0, 0, 0, 0, 0, 0, 0, 0, 0, 0, 0, 0], [0, 0, 0, 0, 0, 0, 0, 0, 0, 0, 0, 0, 0, 0, 0, 0, 0, 0, 0, 0, 0, 0, 0, 0, 0, 0, 0, 0, 0, 0, 0, 0], [0, 0, 0, 0, 0, 0, 0, 0, 0, 0, 0], [0, 0, 0, 0, 0, 0, 0, 0, 0, 0, 0, 0, 0, 0, 0, 0, 0, 0, 0, 0, 0, 0], [0, 0, 0, 0, 0, 0, 0, 0, 0, 0, 0, 0, 0, 0, 0, 0, 0, 0, 0, 0, 0, 0, 0, 0, 0, 0, 0, 0, 0, 0, 0, 0, 0, 0], [0, 0, 0, 0, 0, 0, 0, 0, 0, 0, 0, 0, 0, 0, 0, 0, 0]], 'attention_mask': [[1, 1, 1, 1, 1, 1, 1, 1, 1, 1, 1, 1, 1, 1, 1, 1, 1, 1, 1, 1, 1, 1, 1, 1, 1, 1, 1, 1, 1, 1, 1, 1, 1, 1, 1, 1, 1, 1, 1, 1, 1, 1, 1, 1, 1, 1, 1], [1, 1, 1, 1, 1, 1, 1, 1, 1, 1, 1, 1, 1, 1, 1, 1, 1, 1, 1, 1, 1, 1, 1, 1, 1, 1, 1, 1, 1, 1, 1, 1, 1, 1, 1, 1, 1, 1, 1, 1, 1, 1, 1, 1, 1, 1, 1, 1, 1, 1, 1, 1], [1, 1, 1, 1, 1, 1, 1, 1, 1, 1], [1, 1, 1, 1, 1, 1, 1, 1, 1, 1, 1, 1, 1, 1, 1, 1, 1, 1, 1, 1, 1, 1, 1, 1], [1, 1, 1, 1, 1, 1, 1, 1, 1, 1, 1, 1, 1, 1, 1, 1, 1, 1, 1, 1, 1, 1, 1, 1, 1, 1, 1, 1], [1, 1, 1, 1, 1, 1, 1, 1, 1, 1, 1, 1, 1, 1, 1, 1, 1, 1, 1, 1, 1, 1, 1, 1, 1, 1, 1, 1, 1, 1, 1, 1], [1, 1, 1, 1, 1, 1, 1, 1, 1, 1, 1], [1, 1, 1, 1, 1, 1, 1, 1, 1, 1, 1, 1, 1, 1, 1, 1, 1, 1, 1, 1, 1, 1], [1, 1, 1, 1, 1, 1, 1, 1, 1, 1, 1, 1, 1, 1, 1, 1, 1, 1, 1, 1, 1, 1, 1, 1, 1, 1, 1, 1, 1, 1, 1, 1, 1, 1], [1, 1, 1, 1, 1, 1, 1, 1, 1, 1, 1, 1, 1, 1, 1, 1, 1]]}"
            ]
          },
          "metadata": {},
          "execution_count": 7
        }
      ]
    },
    {
      "cell_type": "markdown",
      "source": [
        "Podemos ver que sigue devolviendo un diccionario con los tres campos input_ids, token_type_ids y attention_mask, pero ahora cada campo no contiene una lista, sino contiene una lista de sublistas, donde cada sublista es uno de los textos en la colección de entrada.\n",
        "\n",
        "Podemos ver la codificación del primer texto:"
      ],
      "metadata": {
        "id": "lyIOKc9gh6wK"
      }
    },
    {
      "cell_type": "code",
      "source": [
        "print(data['text'][0])\n",
        "print(\"input_ids:\", encoded_inputs.input_ids[0])\n",
        "print(\"token_type_ids:\", encoded_inputs.token_type_ids[0])\n",
        "print(\"attention_mask:\", encoded_inputs.attention_mask[0])\n"
      ],
      "metadata": {
        "colab": {
          "base_uri": "https://localhost:8080/"
        },
        "id": "KWTDpgEm80GB",
        "outputId": "a42ef622-813a-43c6-f573-46454cda50f4"
      },
      "execution_count": null,
      "outputs": [
        {
          "output_type": "stream",
          "name": "stdout",
          "text": [
            "the rock is destined to be the 21st century's new \" conan \" and that he's going to make a splash even greater than arnold schwarzenegger , jean-claud van damme or steven segal .\n",
            "input_ids: [101, 1996, 2600, 2003, 16036, 2000, 2022, 1996, 7398, 2301, 1005, 1055, 2047, 1000, 16608, 1000, 1998, 2008, 2002, 1005, 1055, 2183, 2000, 2191, 1037, 17624, 2130, 3618, 2084, 7779, 29058, 8625, 13327, 1010, 3744, 1011, 18856, 19513, 3158, 5477, 4168, 2030, 7112, 16562, 2140, 1012, 102]\n",
            "token_type_ids: [0, 0, 0, 0, 0, 0, 0, 0, 0, 0, 0, 0, 0, 0, 0, 0, 0, 0, 0, 0, 0, 0, 0, 0, 0, 0, 0, 0, 0, 0, 0, 0, 0, 0, 0, 0, 0, 0, 0, 0, 0, 0, 0, 0, 0, 0, 0]\n",
            "attention_mask: [1, 1, 1, 1, 1, 1, 1, 1, 1, 1, 1, 1, 1, 1, 1, 1, 1, 1, 1, 1, 1, 1, 1, 1, 1, 1, 1, 1, 1, 1, 1, 1, 1, 1, 1, 1, 1, 1, 1, 1, 1, 1, 1, 1, 1, 1, 1]\n"
          ]
        }
      ]
    },
    {
      "cell_type": "markdown",
      "source": [
        "Vamos a decodificar los input_ids, parpa ver si el texto coincide con el primer texto (vemos que en efecto coinciden):"
      ],
      "metadata": {
        "id": "UfxWt3xvoBWC"
      }
    },
    {
      "cell_type": "code",
      "source": [
        "tokenizer.convert_ids_to_tokens(encoded_inputs.input_ids[0])\n"
      ],
      "metadata": {
        "colab": {
          "base_uri": "https://localhost:8080/"
        },
        "id": "hW2gwk_boGL7",
        "outputId": "3bca61d5-f090-431f-cf3a-5b1317e3ae00"
      },
      "execution_count": null,
      "outputs": [
        {
          "output_type": "execute_result",
          "data": {
            "text/plain": [
              "['[CLS]',\n",
              " 'the',\n",
              " 'rock',\n",
              " 'is',\n",
              " 'destined',\n",
              " 'to',\n",
              " 'be',\n",
              " 'the',\n",
              " '21st',\n",
              " 'century',\n",
              " \"'\",\n",
              " 's',\n",
              " 'new',\n",
              " '\"',\n",
              " 'conan',\n",
              " '\"',\n",
              " 'and',\n",
              " 'that',\n",
              " 'he',\n",
              " \"'\",\n",
              " 's',\n",
              " 'going',\n",
              " 'to',\n",
              " 'make',\n",
              " 'a',\n",
              " 'splash',\n",
              " 'even',\n",
              " 'greater',\n",
              " 'than',\n",
              " 'arnold',\n",
              " 'schwarz',\n",
              " '##ene',\n",
              " '##gger',\n",
              " ',',\n",
              " 'jean',\n",
              " '-',\n",
              " 'cl',\n",
              " '##aud',\n",
              " 'van',\n",
              " 'dam',\n",
              " '##me',\n",
              " 'or',\n",
              " 'steven',\n",
              " 'sega',\n",
              " '##l',\n",
              " '.',\n",
              " '[SEP]']"
            ]
          },
          "metadata": {},
          "execution_count": 10
        }
      ]
    },
    {
      "cell_type": "markdown",
      "source": [
        "Vamos a ver la longitud de las listas. Podemos ver que las tres listas que contiene encoded_inputs, tienen la misma longitud que data, es decir, que el número de textos que hemos tokenizado."
      ],
      "metadata": {
        "id": "8oh4XVqQoe0n"
      }
    },
    {
      "cell_type": "code",
      "source": [
        "print(\"número de textos:\", len(data))\n",
        "print(\"número de vectores en input_ids:\", len(encoded_inputs.input_ids))\n",
        "print(\"número de vectores en token_type_ids:\", len(encoded_inputs.token_type_ids))\n",
        "print(\"número de vectores en attention_mask:\", len(encoded_inputs.attention_mask))"
      ],
      "metadata": {
        "id": "_NHJOEDV3soF",
        "colab": {
          "base_uri": "https://localhost:8080/"
        },
        "outputId": "8362b974-2436-4700-e5b8-862fd9f431ca"
      },
      "execution_count": null,
      "outputs": [
        {
          "output_type": "stream",
          "name": "stdout",
          "text": [
            "número de textos: 10\n",
            "número de vectores en input_ids: 10\n",
            "número de vectores en token_type_ids: 10\n",
            "número de vectores en attention_mask: 10\n"
          ]
        }
      ]
    },
    {
      "cell_type": "markdown",
      "source": [
        "Ahora vamos a ver el tamaño de cada una de las sublistas. Será suficiente con estudiar el tamaño de las sublistas en input_ids:"
      ],
      "metadata": {
        "id": "oT6SCY9AoyBb"
      }
    },
    {
      "cell_type": "code",
      "source": [
        "sizes=[]\n",
        "\n",
        "for i in range(len(encoded_inputs.input_ids)):\n",
        "    print('Texto: ', data[i])\n",
        "    print('número de tokens en el texto', i, \" : \", len(encoded_inputs.input_ids[i]))\n",
        "    sizes.append(len(encoded_inputs.input_ids[i]))\n"
      ],
      "metadata": {
        "id": "uiJLYIWL6kAd",
        "colab": {
          "base_uri": "https://localhost:8080/"
        },
        "outputId": "09087722-7d03-4526-cafd-0971bf2ab086"
      },
      "execution_count": null,
      "outputs": [
        {
          "output_type": "stream",
          "name": "stdout",
          "text": [
            "Texto:  {'text': 'the rock is destined to be the 21st century\\'s new \" conan \" and that he\\'s going to make a splash even greater than arnold schwarzenegger , jean-claud van damme or steven segal .', 'label': 1}\n",
            "número de tokens en el texto 0  :  47\n",
            "Texto:  {'text': 'the gorgeously elaborate continuation of \" the lord of the rings \" trilogy is so huge that a column of words cannot adequately describe co-writer/director peter jackson\\'s expanded vision of j . r . r . tolkien\\'s middle-earth .', 'label': 1}\n",
            "número de tokens en el texto 1  :  52\n",
            "Texto:  {'text': 'effective but too-tepid biopic', 'label': 1}\n",
            "número de tokens en el texto 2  :  10\n",
            "Texto:  {'text': 'if you sometimes like to go to the movies to have fun , wasabi is a good place to start .', 'label': 1}\n",
            "número de tokens en el texto 3  :  24\n",
            "Texto:  {'text': \"emerges as something rare , an issue movie that's so honest and keenly observed that it doesn't feel like one .\", 'label': 1}\n",
            "número de tokens en el texto 4  :  28\n",
            "Texto:  {'text': 'the film provides some great insight into the neurotic mindset of all comics -- even those who have reached the absolute top of the game .', 'label': 1}\n",
            "número de tokens en el texto 5  :  32\n",
            "Texto:  {'text': 'offers that rare combination of entertainment and education .', 'label': 1}\n",
            "número de tokens en el texto 6  :  11\n",
            "Texto:  {'text': 'perhaps no picture ever made has more literally showed that the road to hell is paved with good intentions .', 'label': 1}\n",
            "número de tokens en el texto 7  :  22\n",
            "Texto:  {'text': \"steers turns in a snappy screenplay that curls at the edges ; it's so clever you want to hate it . but he somehow pulls it off .\", 'label': 1}\n",
            "número de tokens en el texto 8  :  34\n",
            "Texto:  {'text': 'take care of my cat offers a refreshingly different slice of asian cinema .', 'label': 1}\n",
            "número de tokens en el texto 9  :  17\n"
          ]
        }
      ]
    },
    {
      "cell_type": "markdown",
      "source": [
        "Podemos ver que cada sublista (cada texto) tiene un tamaño distinto (número de tokens distinto). Esto es completamente normal en cualquier colección de textos. Sin embargo, las redes neuronales, y en particular los transformers, necesitan que todas sus entradas, tengan el mismo tamaño."
      ],
      "metadata": {
        "id": "BOgUkhQYo8e9"
      }
    },
    {
      "cell_type": "markdown",
      "source": [
        "## Padding y truncation\n",
        "¿Cómo podemos conseguir qué todos los textos tengan el mismo tamaño (número de tokens)?. En este curso, ya hemos hablado de estos dos procesos que son muy comunes en redes neuronales para conseguir que todas las entradas a una red tengan el mismo tamaño. Vamos a recordarlas brevemente:\n",
        "\n",
        "- **Truncation** consiste en eliminar tokens de un texto.\n",
        "- **Padding** consiste en añadir un token especial (índice 0).\n",
        "\n"
      ],
      "metadata": {
        "id": "NmqAgBEl8ifs"
      }
    },
    {
      "cell_type": "markdown",
      "source": [
        "\n",
        "En primer lugar, deberemos estimar un tamaño que sea lo suficientemente representativo de toda la colección."
      ],
      "metadata": {
        "id": "l66RiyDT6uTl"
      }
    },
    {
      "cell_type": "code",
      "source": [
        "print('Tamaños de los textos:', sizes)\n",
        "print()\n",
        "\n",
        "import pandas as pd\n",
        "s = pd.Series(sizes)\n",
        "print('Estadística de la muestra')\n",
        "s.describe()\n"
      ],
      "metadata": {
        "colab": {
          "base_uri": "https://localhost:8080/"
        },
        "id": "er5OMZbNw3ZK",
        "outputId": "0db6b0df-ba75-4a9e-8506-df6f83cbbab1"
      },
      "execution_count": null,
      "outputs": [
        {
          "output_type": "stream",
          "name": "stdout",
          "text": [
            "Tamaños de los textos: [47, 52, 10, 24, 28, 32, 11, 22, 34, 17]\n",
            "\n",
            "Estadística de la muestra\n"
          ]
        },
        {
          "output_type": "execute_result",
          "data": {
            "text/plain": [
              "count    10.000000\n",
              "mean     27.700000\n",
              "std      14.040022\n",
              "min      10.000000\n",
              "25%      18.250000\n",
              "50%      26.000000\n",
              "75%      33.500000\n",
              "max      52.000000\n",
              "dtype: float64"
            ]
          },
          "metadata": {},
          "execution_count": 17
        }
      ]
    },
    {
      "cell_type": "markdown",
      "source": [
        "Vemos que el tamaño medio es de 27.7 tokens y el tamaño máximo 52, y su percentil 75 es 33.5.\n",
        "Si tenemos una colección muy grande de textos y sus tamaños son muy diferentes, seleccionar el tamaño máximo podría ser una opción que nos haga desperdiciar memoria.\n",
        "\n",
        "En este caso una buena elección, podría ser 34 tokens, pero vamos a seleccionar únicamente 20 tokens, porque esto nos va a permitir ver de forma más sencilla el efecto del padding y truncation.\n"
      ],
      "metadata": {
        "id": "1mmLmecEzaxM"
      }
    },
    {
      "cell_type": "markdown",
      "source": [
        "Ya podemos aplicar el tokenizador, indicando ahora el tamaño máximo de nuestras entradas (hemos seleccionado 20), y también qué procesos vamos a utilizar. Vamos a ver su salida"
      ],
      "metadata": {
        "id": "tSHjhHcLqI4n"
      }
    },
    {
      "cell_type": "code",
      "source": [
        "batch = tokenizer(data['text'], max_length=20, padding=True, truncation=True, return_tensors=\"pt\")"
      ],
      "metadata": {
        "id": "15aoMlB7zcg8"
      },
      "execution_count": null,
      "outputs": []
    },
    {
      "cell_type": "code",
      "source": [
        "batch['input_ids']"
      ],
      "metadata": {
        "colab": {
          "base_uri": "https://localhost:8080/"
        },
        "id": "vDqhCXiNHSVk",
        "outputId": "b611f8df-0f65-4b49-cc83-20277d5441a8"
      },
      "execution_count": null,
      "outputs": [
        {
          "output_type": "execute_result",
          "data": {
            "text/plain": [
              "tensor([[  101,  1996,  2600,  2003, 16036,  2000,  2022,  1996,  7398,  2301,\n",
              "          1005,  1055,  2047,  1000, 16608,  1000,  1998,  2008,  2002,   102],\n",
              "        [  101,  1996,  9882,  2135,  9603, 13633,  1997,  1000,  1996,  2935,\n",
              "          1997,  1996,  7635,  1000, 11544,  2003,  2061,  4121,  2008,   102],\n",
              "        [  101,  4621,  2021,  2205,  1011,  8915, 23267, 16012, 24330,   102,\n",
              "             0,     0,     0,     0,     0,     0,     0,     0,     0,     0],\n",
              "        [  101,  2065,  2017,  2823,  2066,  2000,  2175,  2000,  1996,  5691,\n",
              "          2000,  2031,  4569,  1010,  2001, 28518,  2003,  1037,  2204,   102],\n",
              "        [  101, 19391,  2004,  2242,  4678,  1010,  2019,  3277,  3185,  2008,\n",
              "          1005,  1055,  2061,  7481,  1998, 10326,  2135,  5159,  2008,   102],\n",
              "        [  101,  1996,  2143,  3640,  2070,  2307, 12369,  2046,  1996, 11265,\n",
              "         10976,  4588,  9273,  3388,  1997,  2035,  5888,  1011,  1011,   102],\n",
              "        [  101,  4107,  2008,  4678,  5257,  1997,  4024,  1998,  2495,  1012,\n",
              "           102,     0,     0,     0,     0,     0,     0,     0,     0,     0],\n",
              "        [  101,  3383,  2053,  3861,  2412,  2081,  2038,  2062,  6719,  3662,\n",
              "          2008,  1996,  2346,  2000,  3109,  2003, 12308,  2007,  2204,   102],\n",
              "        [  101, 20634,  2015,  4332,  1999,  1037, 10245,  7685,  9000,  2008,\n",
              "         14484,  2012,  1996,  7926,  1025,  2009,  1005,  1055,  2061,   102],\n",
              "        [  101,  2202,  2729,  1997,  2026,  4937,  4107,  1037, 27150,  2135,\n",
              "          2367, 14704,  1997,  4004,  5988,  1012,   102,     0,     0,     0]])"
            ]
          },
          "metadata": {},
          "execution_count": 19
        }
      ]
    },
    {
      "cell_type": "markdown",
      "source": [
        "Podemos ver que ahora sí todas las secuencias tienen la misma longitud:"
      ],
      "metadata": {
        "id": "OP05xR9n_uY-"
      }
    },
    {
      "cell_type": "code",
      "source": [
        "for sublist in batch['input_ids']:\n",
        "    print(len(sublist))"
      ],
      "metadata": {
        "colab": {
          "base_uri": "https://localhost:8080/"
        },
        "id": "rlzNXxHg_pI8",
        "outputId": "0602397c-36b4-4d74-b290-c0952faccaa4"
      },
      "execution_count": null,
      "outputs": [
        {
          "output_type": "stream",
          "name": "stdout",
          "text": [
            "20\n",
            "20\n",
            "20\n",
            "20\n",
            "20\n",
            "20\n",
            "20\n",
            "20\n",
            "20\n",
            "20\n"
          ]
        }
      ]
    },
    {
      "cell_type": "markdown",
      "source": [
        "En el primer texto, podemos que se han eliminado tokens del final:"
      ],
      "metadata": {
        "id": "F9UHkzVb0giu"
      }
    },
    {
      "cell_type": "code",
      "source": [
        "print(data[0])\n",
        "\n",
        "print('input_ids  después de padding y truncation ', batch.input_ids[0])\n",
        "print('número de tokens después de padding y truncation', len(batch.input_ids[0]))\n",
        "\n",
        "print()\n",
        "print('input_ids  sin de padding y truncation ', encoded_inputs.input_ids[0])\n",
        "print('número de tokens sin padding y truncation', len(encoded_inputs.input_ids[0]))\n",
        "\n"
      ],
      "metadata": {
        "colab": {
          "base_uri": "https://localhost:8080/"
        },
        "id": "7hnnAw-Hzo1O",
        "outputId": "5b3a6eb6-4905-4637-d4c3-79a613b4f1b5"
      },
      "execution_count": null,
      "outputs": [
        {
          "output_type": "stream",
          "name": "stdout",
          "text": [
            "{'text': 'the rock is destined to be the 21st century\\'s new \" conan \" and that he\\'s going to make a splash even greater than arnold schwarzenegger , jean-claud van damme or steven segal .', 'label': 1}\n",
            "input_ids  después de padding y truncation  tensor([  101,  1996,  2600,  2003, 16036,  2000,  2022,  1996,  7398,  2301,\n",
            "         1005,  1055,  2047,  1000, 16608,  1000,  1998,  2008,  2002,   102])\n",
            "número de tokens después de padding y truncation 20\n",
            "\n",
            "input_ids  sin de padding y truncation  [101, 1996, 2600, 2003, 16036, 2000, 2022, 1996, 7398, 2301, 1005, 1055, 2047, 1000, 16608, 1000, 1998, 2008, 2002, 1005, 1055, 2183, 2000, 2191, 1037, 17624, 2130, 3618, 2084, 7779, 29058, 8625, 13327, 1010, 3744, 1011, 18856, 19513, 3158, 5477, 4168, 2030, 7112, 16562, 2140, 1012, 102]\n",
            "número de tokens sin padding y truncation 47\n"
          ]
        }
      ]
    },
    {
      "cell_type": "markdown",
      "source": [
        "La listas de attention_mask cambian de tamaño, pero para el primer texto, sus valores son siempre 1."
      ],
      "metadata": {
        "id": "XfJ1OqljqlOO"
      }
    },
    {
      "cell_type": "code",
      "source": [
        "print('attention_mask después de padding y truncation: ', batch.attention_mask[0])\n",
        "print('attention_mask sin padding y truncation: ',  encoded_inputs.attention_mask[0])\n"
      ],
      "metadata": {
        "colab": {
          "base_uri": "https://localhost:8080/"
        },
        "id": "p9tLqS420ygT",
        "outputId": "f7eff46d-bf71-415a-deef-b41a40ae7481"
      },
      "execution_count": null,
      "outputs": [
        {
          "output_type": "stream",
          "name": "stdout",
          "text": [
            "attention_mask después de padding y truncation:  tensor([1, 1, 1, 1, 1, 1, 1, 1, 1, 1, 1, 1, 1, 1, 1, 1, 1, 1, 1, 1])\n",
            "attention_mask sin padding y truncation:  [1, 1, 1, 1, 1, 1, 1, 1, 1, 1, 1, 1, 1, 1, 1, 1, 1, 1, 1, 1, 1, 1, 1, 1, 1, 1, 1, 1, 1, 1, 1, 1, 1, 1, 1, 1, 1, 1, 1, 1, 1, 1, 1, 1, 1, 1, 1]\n"
          ]
        }
      ]
    },
    {
      "cell_type": "markdown",
      "source": [
        "Sin embargo, en siguiente texto sí se ha aplicado padding:"
      ],
      "metadata": {
        "id": "Y1LRlVoV0s3x"
      }
    },
    {
      "cell_type": "code",
      "source": [
        "print(data[6])\n",
        "print('input_ids  después de padding y truncation ', batch.input_ids[6])\n",
        "print('número de tokens después de padding y truncation', len(batch.input_ids[6]))\n",
        "\n",
        "print()\n",
        "print('input_ids  sin de padding y truncation ', encoded_inputs.input_ids[6])\n",
        "print('número de tokens sin padding y truncation', len(encoded_inputs.input_ids[6]))\n",
        "\n"
      ],
      "metadata": {
        "colab": {
          "base_uri": "https://localhost:8080/"
        },
        "id": "TBngdmwz0r-N",
        "outputId": "14ea4940-9bd8-4499-fa2a-802f02a58e10"
      },
      "execution_count": null,
      "outputs": [
        {
          "output_type": "stream",
          "name": "stdout",
          "text": [
            "{'text': 'offers that rare combination of entertainment and education .', 'label': 1}\n",
            "input_ids  después de padding y truncation  tensor([ 101, 4107, 2008, 4678, 5257, 1997, 4024, 1998, 2495, 1012,  102,    0,\n",
            "           0,    0,    0,    0,    0,    0,    0,    0])\n",
            "número de tokens después de padding y truncation 20\n",
            "\n",
            "input_ids  sin de padding y truncation  [101, 4107, 2008, 4678, 5257, 1997, 4024, 1998, 2495, 1012, 102]\n",
            "número de tokens sin padding y truncation 11\n"
          ]
        }
      ]
    },
    {
      "cell_type": "markdown",
      "source": [
        "Vemos que ahora sí las listas de attention_mask que devuelve el tokenizador (aplicando padding y truncation) sí contiene ya 0's (el padding se aplica al final del texto)"
      ],
      "metadata": {
        "id": "D0xfG368rBU6"
      }
    },
    {
      "cell_type": "code",
      "source": [
        "print('attention_mask sin padding y truncation: ',  encoded_inputs.attention_mask[6])\n",
        "print('attention_mask después de padding y truncation: ', batch.attention_mask[6])\n"
      ],
      "metadata": {
        "colab": {
          "base_uri": "https://localhost:8080/"
        },
        "id": "xC1rK5Ah1dnS",
        "outputId": "7bb1fbdb-cf90-4aa8-9c5b-9566023fe122"
      },
      "execution_count": null,
      "outputs": [
        {
          "output_type": "stream",
          "name": "stdout",
          "text": [
            "attention_mask sin padding y truncation:  [1, 1, 1, 1, 1, 1, 1, 1, 1, 1, 1]\n",
            "attention_mask después de padding y truncation:  tensor([1, 1, 1, 1, 1, 1, 1, 1, 1, 1, 1, 0, 0, 0, 0, 0, 0, 0, 0, 0])\n"
          ]
        }
      ]
    },
    {
      "cell_type": "markdown",
      "source": [
        "¿Qué ocurre si no específicamos un tamaño máximo?"
      ],
      "metadata": {
        "id": "3-C2UHj035xI"
      }
    },
    {
      "cell_type": "code",
      "source": [
        "batch = tokenizer(data['text'], padding=True, return_tensors=\"pt\")\n"
      ],
      "metadata": {
        "id": "V3Jxngx72Ygw"
      },
      "execution_count": null,
      "outputs": []
    },
    {
      "cell_type": "markdown",
      "source": [
        "El tokenizador tomará como valor máixmo el mayor tamaño (52), y en este caso, el argumento de truncation no tendrá ningún efecto, ya que todas las entradas tendrán la longitud máxima."
      ],
      "metadata": {
        "id": "63U7PAI04BYA"
      }
    },
    {
      "cell_type": "code",
      "source": [
        "print(len(batch.input_ids[1]), batch.input_ids[1])\n",
        "print(len(batch.input_ids[6]), batch.input_ids[6])\n"
      ],
      "metadata": {
        "colab": {
          "base_uri": "https://localhost:8080/"
        },
        "id": "_sniLa7K2ffQ",
        "outputId": "eadbb197-23ae-46e9-dd63-16914fd5129a"
      },
      "execution_count": null,
      "outputs": [
        {
          "output_type": "stream",
          "name": "stdout",
          "text": [
            "52 tensor([  101,  1996,  9882,  2135,  9603, 13633,  1997,  1000,  1996,  2935,\n",
            "         1997,  1996,  7635,  1000, 11544,  2003,  2061,  4121,  2008,  1037,\n",
            "         5930,  1997,  2616,  3685, 23613,  6235,  2522,  1011,  3213,  1013,\n",
            "         2472,  2848,  4027,  1005,  1055,  4423,  4432,  1997,  1046,  1012,\n",
            "         1054,  1012,  1054,  1012, 23602,  1005,  1055,  2690,  1011,  3011,\n",
            "         1012,   102])\n",
            "52 tensor([ 101, 4107, 2008, 4678, 5257, 1997, 4024, 1998, 2495, 1012,  102,    0,\n",
            "           0,    0,    0,    0,    0,    0,    0,    0,    0,    0,    0,    0,\n",
            "           0,    0,    0,    0,    0,    0,    0,    0,    0,    0,    0,    0,\n",
            "           0,    0,    0,    0,    0,    0,    0,    0,    0,    0,    0,    0,\n",
            "           0,    0,    0,    0])\n"
          ]
        }
      ]
    },
    {
      "cell_type": "markdown",
      "source": [
        "Vamos a revisar los distintos argumentos de la tokenización:\n",
        "\n",
        "\n",
        "- **max_length**: controla la longitud para las operaciones de padding y truncation. Si no se usa este parámetro, su valor será la longitud máxima que el modelo puede aceptar (normalmente 512 tokens).\n",
        "- **padding**: su valor puede ser:\n",
        "    - True o 'longest' añaden padding considerando la oración más larga en el batch.\n",
        "    - 'max_length' añade padding considerando la longitud máxima indicada en el argumento **max_length**.\n",
        "    - False o 'do_not_pad', no se aplica padding.\n",
        "    \n",
        "- **Truncation**, su valor puede ser:\n",
        "    - True o 'longest_first' trunca las oraciones a la longitud máxima que se ha especificado **max_length** o la máxima longitud permitida por el modelo (por ejemplo, 512 tokens en el caso de la mayoría de los modelos). Si hay dos oraciones, se trunca token por token en la oración más larga del par, hasta alcanzar la longitud adecuada.\n",
        "    \n",
        "    - 'only_second' trunca las oraciones a la longitud máxima que se ha especificado **max_length** o la máxima longitud permitida por el modelo. Solo truncará la segunda oración de un par si se proporciona un par de secuencias (o un lote de pares de secuencias).\n",
        "\n",
        "    - 'only_first'  trunca las oraciones a la longitud máxima que se ha especificado **max_length** o la máxima longitud permitida por el modelo. Solo truncará la primera oración de un par si se proporciona un par de secuencias (o un lote de pares de secuencias).\n",
        "\n",
        "    - False 0 'do_not_truncate' no trunca la oración.\n"
      ],
      "metadata": {
        "id": "tvOgP5SZvWt_"
      }
    },
    {
      "cell_type": "markdown",
      "source": [
        "Te recomiendo que visites el siguiente enlace https://huggingface.co/docs/transformers/pad_truncation donde encontrarás más información sobre los distintos valores de los argumentos **padding** y **truncation** que puedes utilizar para procesar una colección de textos."
      ],
      "metadata": {
        "id": "f7wCNqMc2Jsi"
      }
    }
  ]
}
