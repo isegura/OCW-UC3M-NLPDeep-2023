{
  "nbformat": 4,
  "nbformat_minor": 0,
  "metadata": {
    "colab": {
      "provenance": [],
      "toc_visible": true
    },
    "kernelspec": {
      "name": "python3",
      "display_name": "Python 3"
    },
    "language_info": {
      "name": "python"
    },
    "accelerator": "GPU",
    "gpuClass": "standard"
  },
  "cells": [
    {
      "cell_type": "markdown",
      "source": [
        "<center>\n",
        "<img src=\"https://upload.wikimedia.org/wikipedia/commons/4/47/Acronimo_y_nombre_uc3m.png\"/>\n",
        "\n",
        "<img src=\"https://mirrors.creativecommons.org/presskit/buttons/88x31/png/by-nc-sa.png\" width=15%/>\n",
        "</center> "
      ],
      "metadata": {
        "id": "924sOLnZnZGl"
      }
    },
    {
      "cell_type": "markdown",
      "source": [
        "# Métricas para regresión\n",
        "\n",
        "En este notebook, aprenderemos varias métricas para evaluar modelos de regresión y cómo calcularlos usando la biblioteca sklearn.\n",
        "\n",
        "Como bien sabes, la **regresión** es un tipo de aprendizaje automático que ayuda a encontrar la relación entre la variable independiente y la dependiente. La regresión se puede definir como un problema de aprendizaje automático en el que tenemos que **predecir valores discretos** como precio, calificación, tarifas, etc.\n"
      ],
      "metadata": {
        "id": "ocVDTh1djiOD"
      }
    },
    {
      "cell_type": "markdown",
      "source": [
        "## Mean Absolute Error(MAE)\n",
        "MAE es una métrica muy simple que calcula la diferencia absoluta entre los valores reales y predecidos.\n",
        "Para calcular MAE, debe sumar todos los errores y dividirlos por el número total de observaciones.\n",
        "\n",
        "$MAE = \\frac{1}{n}\\sum_{i}(|y_{i}-y_{pred_{i}}|)$\n",
        "\n",
        "\n",
        "<!--<img src='https://miro.medium.com/max/723/1*9BhnZiaHkApC-gQt3rYpMQ.png' width=50%>-->\n",
        "\n"
      ],
      "metadata": {
        "id": "gh_YGHGtqQMW"
      }
    },
    {
      "cell_type": "markdown",
      "source": [
        "Vamos calcularlo para ello emplearemos dos listas con número reales que creamos de forma aleatoria"
      ],
      "metadata": {
        "id": "ZWz5W1VdryTH"
      }
    },
    {
      "cell_type": "markdown",
      "source": [],
      "metadata": {
        "id": "LqQ6YMAykP8q"
      }
    },
    {
      "cell_type": "code",
      "source": [
        "import numpy as np \n",
        "y_test = []\n",
        "y_pred = []\n",
        "\n",
        "for i in range(5):\n",
        "    y_test.append(np.random.random(1)[0])\n",
        "    y_pred.append(np.random.random(1)[0])\n",
        "\n",
        "y_test, y_pred"
      ],
      "metadata": {
        "colab": {
          "base_uri": "https://localhost:8080/"
        },
        "id": "DCgji4UT9M8U",
        "outputId": "cce52771-2ec3-4f6b-85b2-9d0778b4a103"
      },
      "execution_count": 1,
      "outputs": [
        {
          "output_type": "execute_result",
          "data": {
            "text/plain": [
              "([0.6463883443925151,\n",
              "  0.17679405296035167,\n",
              "  0.04561151360498161,\n",
              "  0.5298830184914657,\n",
              "  0.5899444707947457],\n",
              " [0.14601623580855794,\n",
              "  0.4656718663415963,\n",
              "  0.8931756423014963,\n",
              "  0.7600174111848965,\n",
              "  0.11892498999408507])"
            ]
          },
          "metadata": {},
          "execution_count": 1
        }
      ]
    },
    {
      "cell_type": "markdown",
      "source": [
        "Calculamos el valor  MAE:"
      ],
      "metadata": {
        "id": "O0-w53I49gVb"
      }
    },
    {
      "cell_type": "code",
      "source": [
        "\n",
        "total = 0\n",
        "for (actual,predicted) in zip(y_test, y_pred):\n",
        "    # print(actual,predicted)\n",
        "    total += abs(actual-predicted)\n",
        "\n",
        "MAE = total / len(y_pred)\n",
        "\n",
        "print('Mean Absolute Error (MAE) is: ', MAE)"
      ],
      "metadata": {
        "colab": {
          "base_uri": "https://localhost:8080/"
        },
        "id": "TQSvw6oar1A_",
        "outputId": "12697e23-861f-422f-fefb-b708b6696176"
      },
      "execution_count": 2,
      "outputs": [
        {
          "output_type": "stream",
          "name": "stdout",
          "text": [
            "Mean Absolute Error (MAE) is:  0.46759358483116154\n"
          ]
        }
      ]
    },
    {
      "cell_type": "markdown",
      "source": [
        "Es muy fácil obtenerlo. Además, sklearn ya proporciona un método: "
      ],
      "metadata": {
        "id": "imeGgX_Usbb-"
      }
    },
    {
      "cell_type": "code",
      "source": [
        "from sklearn.metrics import mean_absolute_error\n",
        "errors = mean_absolute_error(y_test, y_pred)\n",
        "# report error\n",
        "print(errors)"
      ],
      "metadata": {
        "colab": {
          "base_uri": "https://localhost:8080/"
        },
        "id": "JiY2MzlIsfS6",
        "outputId": "2b2958ec-c335-402a-b426-f28e7ccee02c"
      },
      "execution_count": 3,
      "outputs": [
        {
          "output_type": "stream",
          "name": "stdout",
          "text": [
            "0.46759358483116154\n"
          ]
        }
      ]
    },
    {
      "cell_type": "markdown",
      "source": [
        "El objetivo de cualquier modelo sería obtener el menor valor posible de MAE (error). \n",
        "\n"
      ],
      "metadata": {
        "id": "NzBPVxINtJio"
      }
    },
    {
      "cell_type": "markdown",
      "source": [
        "## Mean Squared Error(MSE)\n",
        "\n",
        "Representa la distancia al cuadrado entre los valores reales y las prediciones. Usar el cuadrado evita cancelación de términos negativos.\n",
        "\n",
        "Es una de las utilizada porque su sencillez.\n",
        "\n",
        "$MSE = \\frac{1}{n}\\sum_{i}(y_{i}-y_{pred_{i}})^{2}$\n",
        "\n",
        "<!-- <img src='https://lh3.googleusercontent.com/-JBio3Q_1FiI/YB2oQKEmRBI/AAAAAAAAAkM/c8KJ3wPwtMEd3Ik0nYMMdmr_pRqMF6MlQCLcBGAsYHQ/w550-h177/image.png'> -->\n"
      ],
      "metadata": {
        "id": "IUkBuDI_yb_N"
      }
    },
    {
      "cell_type": "code",
      "source": [
        "sum_total = 0\n",
        "for (actual,predicted) in zip(y_test, y_pred):\n",
        "    sum_total += (actual-predicted)**2\n",
        "\n",
        "MSE = sum_total / len(y_pred)\n",
        "\n",
        "print('Mean Squared Error (MSE): ', MSE)"
      ],
      "metadata": {
        "id": "vEdte__cytlU",
        "colab": {
          "base_uri": "https://localhost:8080/"
        },
        "outputId": "ff663965-005a-467e-b3a9-8c4031261715"
      },
      "execution_count": 4,
      "outputs": [
        {
          "output_type": "stream",
          "name": "stdout",
          "text": [
            "Mean Squared Error (MSE):  0.26540175607197297\n"
          ]
        }
      ]
    },
    {
      "cell_type": "markdown",
      "source": [
        "Sklearn también ofrece una función para calcularlo:"
      ],
      "metadata": {
        "id": "hg3Yh1pEy3Wx"
      }
    },
    {
      "cell_type": "code",
      "source": [
        "from sklearn.metrics import mean_squared_error\n",
        "errors = mean_squared_error(y_test, y_pred)\n",
        "print('mse:', errors)"
      ],
      "metadata": {
        "id": "rwPeRCb8y8t3",
        "colab": {
          "base_uri": "https://localhost:8080/"
        },
        "outputId": "ed1e36ad-f1a7-4522-b77c-53900d7e1d48"
      },
      "execution_count": 5,
      "outputs": [
        {
          "output_type": "stream",
          "name": "stdout",
          "text": [
            "mse: 0.26540175607197297\n"
          ]
        }
      ]
    },
    {
      "cell_type": "markdown",
      "source": [
        "## Root Mean Squared Error(RMSE)\n",
        "Es la raíz cuadrada de MSE.\n",
        "\n",
        "$RMSE = \\sqrt\\frac{\\sum_{i}(y_{pred_{i}}-y_{i})^{2}}{n}$\n",
        "\n",
        "\n",
        "\n",
        "<!--<img src='https://miro.medium.com/max/966/1*lqDsPkfXPGen32Uem1PTNg.png'>-->\n",
        "\n",
        "\n",
        "https://abdatum.com/ciencia/rmse\n"
      ],
      "metadata": {
        "id": "KyI1KhD3zJiE"
      }
    },
    {
      "cell_type": "code",
      "source": [
        "import numpy as np\n",
        "\n",
        "RMSE = np.sqrt(MSE) # MSE ** 0.5\n",
        "print('Root Mean Squared Error (RMSE): ', RMSE)\n",
        "print(\"RMSE\", np.sqrt(mean_squared_error(y_test,y_pred)))\n"
      ],
      "metadata": {
        "id": "-B1_gz9uzSnV",
        "colab": {
          "base_uri": "https://localhost:8080/"
        },
        "outputId": "89426d76-ffd1-47ab-f30f-faa4fb05c525"
      },
      "execution_count": 6,
      "outputs": [
        {
          "output_type": "stream",
          "name": "stdout",
          "text": [
            "Root Mean Squared Error (RMSE):  0.5151715792548857\n",
            "RMSE 0.5151715792548857\n"
          ]
        }
      ]
    },
    {
      "cell_type": "markdown",
      "source": [
        "## Root Mean Squared Log Error(RMSLE)\n",
        "\n",
        "Si calculamos el log de RMSE disminuye la escala del error. La métrica es muy útil cuando la salida puede tomar valores en un rango muy amplio. Gracias a la función log, logramos que los errores estén normalizados. \n",
        "Para calcularlo simplemente tenemos que aplicar la función **log** de numpy sobre RMSE:\n"
      ],
      "metadata": {
        "id": "48YgmzF-zyiJ"
      }
    },
    {
      "cell_type": "code",
      "source": [
        "print(\"RMSLE\", np.log(np.sqrt(mean_squared_error(y_test,y_pred))))\n"
      ],
      "metadata": {
        "id": "kxJR62Ac0GAW",
        "colab": {
          "base_uri": "https://localhost:8080/"
        },
        "outputId": "f0ef4995-9f8c-4066-ff17-07b1745f7445"
      },
      "execution_count": 7,
      "outputs": [
        {
          "output_type": "stream",
          "name": "stdout",
          "text": [
            "RMSLE -0.6632552702033502\n"
          ]
        }
      ]
    },
    {
      "cell_type": "markdown",
      "source": [
        "## R Squared (R2)\n",
        "Las métricas anteriores eran métricas que calculaban el error, sin embargo, \n",
        "R2 nos dice cómo de bien funciona nuestro modelo. \n",
        "\n",
        "$R^{2} = 1 - \\frac{SS_{RES}}{SS_{RES}} = 1 - \\frac{\\sum_{i}(y_{i}-y_{pred_{i}})^{2}}{\\sum_{i}(y_{i}-y_{avg})^{2}}$\n",
        "<img src='https://miro.medium.com/max/1200/1*_mVvAFVEGinHlijmmeWwzg.png'>\n",
        "\n",
        "where:\n",
        "- $y_{i}$ es el valor real en el conjunto test.\n",
        "- $y_{pred}_{i}$ es el valor inferido para el ejemplo i.\n",
        "- $y_{avg}$ es la mediana de todos los valores de y. \n",
        "\n",
        "<!--<img src='https://encrypted-tbn0.gstatic.com/images?q=tbn:ANd9GcRYlppEmuer0Gf0XNuca0ENDiZwrPtdWK16ZDDiZ_6o2vxR4viREzIP6gGcrMlzxARZLQY&usqp=CAU'>-->\n",
        "\n",
        "Se marca un umbral en 0.5, la media. R2 mide si la regresión es mejor que ese umbral. R2  también se conoce como **Coeficiente de determinación** o, a veces, también como Bondad de ajuste."
      ],
      "metadata": {
        "id": "JyDAleyZ2DR6"
      }
    },
    {
      "cell_type": "markdown",
      "source": [
        "Sklearn proporciona una función para calcularla directamente:"
      ],
      "metadata": {
        "id": "lXqx850x3xY7"
      }
    },
    {
      "cell_type": "code",
      "source": [
        "from sklearn.metrics import r2_score\n",
        "r2 = r2_score(y_test,y_pred)\n",
        "print(r2)"
      ],
      "metadata": {
        "colab": {
          "base_uri": "https://localhost:8080/"
        },
        "id": "BUhpp1Be313N",
        "outputId": "91b97fc4-ec72-44d3-c957-cca31fb66ef5"
      },
      "execution_count": 8,
      "outputs": [
        {
          "output_type": "stream",
          "name": "stdout",
          "text": [
            "-3.591060000272134\n"
          ]
        }
      ]
    },
    {
      "cell_type": "markdown",
      "source": [
        "**¿Cómo interpretas la puntuación R2?**\n",
        "\n",
        "Si R2 es 0, ambas líneas, regresión y media tiene un valor de 1 (1-1=0). Es decir, se superponen, lo que significa que el rendimiento del modelo es peor, no es capaz de aprovechar la salida.\n",
        "\n",
        "Si R2 es 1, significa que el dividendo $$ es 0. Es decir, que la regresión no comete ningún error, lo que no es posible en el mundo real. Es decir, cuánto más próximo el valor de R2 sea a 1, mejor será el rendimiento del modelo.\n",
        "\n",
        "Los valores habituaes son entre 0 y 1. Por ejemplo, si el valor es 0.8, significa que su modelo es capaz de explicar el 80% de los datos. \n"
      ],
      "metadata": {
        "id": "gjtneUaw35yF"
      }
    },
    {
      "cell_type": "markdown",
      "source": [
        "##  Pearson's R\n",
        "\n",
        "Esta métrica puede ser calculada usando scipy o sklearn. \n",
        "\n",
        "El coeficiente de correlación de Pearson mide la relación lineal entre dos conjuntos de datos. Al igual que otros coeficientes de correlación, éste varía entre -1 y +1, donde 0 implica que no hay correlación. Las correlaciones de -1 o +1 implican una relación lineal exacta. Las correlaciones positivas implican que a medida que x aumenta, también lo hace y. Las correlaciones negativas implican que a medida que x aumenta, y disminuye.\n",
        "\n"
      ],
      "metadata": {
        "id": "WCuPfg2W4nO0"
      }
    },
    {
      "cell_type": "code",
      "source": [
        "from scipy import stats\n",
        "res = stats.pearsonr(y_test, y_pred)\n",
        "res"
      ],
      "metadata": {
        "colab": {
          "base_uri": "https://localhost:8080/"
        },
        "id": "fO7VXwWG35UZ",
        "outputId": "2b026313-3ff3-4e64-d426-84392ce9d907"
      },
      "execution_count": 9,
      "outputs": [
        {
          "output_type": "execute_result",
          "data": {
            "text/plain": [
              "PearsonRResult(statistic=-0.684101307661378, pvalue=0.20273211283887804)"
            ]
          },
          "metadata": {},
          "execution_count": 9
        }
      ]
    }
  ]
}