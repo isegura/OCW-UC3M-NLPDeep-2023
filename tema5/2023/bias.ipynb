{
  "nbformat": 4,
  "nbformat_minor": 0,
  "metadata": {
    "colab": {
      "provenance": [],
      "private_outputs": true
    },
    "kernelspec": {
      "name": "python3",
      "display_name": "Python 3"
    },
    "language_info": {
      "name": "python"
    },
    "accelerator": "GPU",
    "gpuClass": "standard"
  },
  "cells": [
    {
      "cell_type": "markdown",
      "source": [
        "<center>\n",
        "<img src=\"https://upload.wikimedia.org/wikipedia/commons/4/47/Acronimo_y_nombre_uc3m.png\"/>\n",
        "\n",
        "<img src=\"https://mirrors.creativecommons.org/presskit/buttons/88x31/png/by-nc-sa.png\" width=15%/>\n",
        "</center>  "
      ],
      "metadata": {
        "id": "SPFzvf18T6j4"
      }
    },
    {
      "cell_type": "markdown",
      "source": [
        "## ¿Los transformers son sexistas?\n",
        "\n",
        "Los modelos de transformadores son herramientas poderosas, pero tienen algunas limitaciones.\n",
        "\n",
        "Muchos de los modelos transformers han sido pre-entrenados con textos extraídos de todo Internet. Por tanto, es posible que se hayan utilizado textos con contenido sexista, racista u homofóbo.\n",
        "\n",
        "Por el contrario, BERT fue entrenado con textos de Wikipedia y textos de BookCorpus (libros no publicados). \n",
        "\n",
        "Vamos a ver si BERT es sexista o no?"
      ],
      "metadata": {
        "id": "uV7y5dJDf-T4"
      }
    },
    {
      "cell_type": "code",
      "source": [
        "!pip install transformers"
      ],
      "metadata": {
        "id": "-tFxHNfFfuDs"
      },
      "execution_count": null,
      "outputs": []
    },
    {
      "cell_type": "code",
      "execution_count": null,
      "metadata": {
        "id": "cpT7fYgDfku0"
      },
      "outputs": [],
      "source": [
        "from transformers import pipeline\n",
        "\n",
        "unmasker = pipeline(\"fill-mask\", model=\"bert-base-uncased\")\n",
        "\n",
        "result = unmasker(\"This man works as a [MASK].\")\n",
        "print([r[\"token_str\"] for r in result])\n",
        "\n",
        "result = unmasker(\"This woman works as a [MASK].\")\n",
        "print([r[\"token_str\"] for r in result])\n",
        "\n"
      ]
    },
    {
      "cell_type": "markdown",
      "source": [
        "Los tipos de trabajo para hombre y mujer son bastante distintos!!!\n",
        "\n",
        "Esto sucede a pesar de que BERT se entrenó utilizando datos aparentemente neutrales, como los textos Wikipedia y BookCorpus. Es de esperar que este  comportamiento será aún peor en modelos transformers pre-entrenados con textos de Internet.\n"
      ],
      "metadata": {
        "id": "jqwQCSY2gUd7"
      }
    },
    {
      "cell_type": "markdown",
      "source": [
        "En el siguiente ejemplo, podemos ver que BERT además de sexista, también es racista!!!"
      ],
      "metadata": {
        "id": "zadGisQpXVP9"
      }
    },
    {
      "cell_type": "code",
      "source": [
        "\n",
        "result = unmasker(\"The man works as a [MASK].\")\n",
        "print([r[\"token_str\"] for r in result])\n",
        "\n",
        "\n",
        "result = unmasker(\"The gypsy works as a [MASK].\")\n",
        "print([r[\"token_str\"] for r in result])\n"
      ],
      "metadata": {
        "id": "sb3_6lrnVgS3"
      },
      "execution_count": null,
      "outputs": []
    }
  ]
}
