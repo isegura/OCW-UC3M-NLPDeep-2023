{
  "nbformat": 4,
  "nbformat_minor": 0,
  "metadata": {
    "colab": {
      "provenance": [],
      "toc_visible": true
    },
    "kernelspec": {
      "name": "python3",
      "display_name": "Python 3"
    },
    "language_info": {
      "name": "python"
    },
    "accelerator": "GPU",
    "gpuClass": "standard"
  },
  "cells": [
    {
      "cell_type": "markdown",
      "source": [
        "# Práctica Distilbert\n",
        "El objetivo de la práctica es desarrollar un sistema para el análisis de sentimiento sobre el dataset dataset **SST-2** (dos clases positiva y negativa). \n",
        "El sistema debe estar basado en un modelo transformer como BERT. \n",
        "Se pide enconcreto que compares los dos modelos BERT y DistilBERT, tanto en sus resultados como en el tiempo de entrenamiento. \n"
      ],
      "metadata": {
        "id": "40QAI_D2scvc"
      }
    },
    {
      "cell_type": "code",
      "execution_count": null,
      "metadata": {
        "id": "SxGuD5f_sZzv"
      },
      "outputs": [],
      "source": [
        "!pip install datasets transformers evaluate"
      ]
    },
    {
      "cell_type": "markdown",
      "source": [
        "## Data\n"
      ],
      "metadata": {
        "id": "jr2Iz72i0Gk3"
      }
    },
    {
      "cell_type": "code",
      "source": [
        "from datasets import load_dataset\n",
        "dataset = load_dataset(\"glue\", \"sst2\")\n",
        "dataset"
      ],
      "metadata": {
        "id": "xhPJRwdmtmTs"
      },
      "execution_count": null,
      "outputs": []
    },
    {
      "cell_type": "code",
      "source": [
        "import random\n",
        "for i in range(5):\n",
        "    index = random.randint(0,dataset[\"train\"].num_rows)\n",
        "    print(\"sentence:\", dataset[\"train\"][index][\"sentence\"])\n",
        "    print(\"label:\", dataset[\"train\"][index][\"label\"])\n",
        "    print()\n",
        "     "
      ],
      "metadata": {
        "id": "i8Bqiu99t3Po"
      },
      "execution_count": null,
      "outputs": []
    },
    {
      "cell_type": "code",
      "source": [
        "from transformers import AutoTokenizer\n",
        "model_name='distilbert-base-uncased'\n",
        "tokenizer = AutoTokenizer.from_pretrained(model_name, use_fast=True)"
      ],
      "metadata": {
        "id": "K6a4uoWpwDDf"
      },
      "execution_count": null,
      "outputs": []
    },
    {
      "cell_type": "code",
      "source": [
        "def tokenize(example):\n",
        "    return tokenizer(example[\"sentence\"], truncation=True)\n",
        "\n",
        "encoded_dataset = dataset.map(tokenize, batched=True)\n",
        "encoded_dataset"
      ],
      "metadata": {
        "id": "VCo74mLMwaVr"
      },
      "execution_count": null,
      "outputs": []
    },
    {
      "cell_type": "markdown",
      "source": [
        "Podemos ver que el tokenizador únicamente ha creado los campos: **input_ids** and **attention_mask**, pero no utiliza el **token_type_ids** porque distilbert no es entrenado para la tarea de Next Prediction Sentence. \n"
      ],
      "metadata": {
        "id": "BC_oWs-jw1nR"
      }
    },
    {
      "cell_type": "markdown",
      "source": [
        "## Model\n"
      ],
      "metadata": {
        "id": "PZ8_6_600Ld-"
      }
    },
    {
      "cell_type": "code",
      "source": [
        "from transformers import AutoModelForSequenceClassification\n",
        "\n",
        "num_labels = 2 # because this is a binary text classification task \n",
        "model = AutoModelForSequenceClassification.from_pretrained(model_name, num_labels=num_labels)"
      ],
      "metadata": {
        "id": "a06CqTHQxgVu"
      },
      "execution_count": null,
      "outputs": []
    },
    {
      "cell_type": "code",
      "source": [
        "from transformers import TrainingArguments\n",
        "\n",
        "args = TrainingArguments(\n",
        "    output_dir='./outputs/',\n",
        "    evaluation_strategy = \"epoch\",\n",
        "    save_strategy = \"epoch\",\n",
        "    learning_rate=2e-5,\n",
        "    per_device_train_batch_size=16,\n",
        "    per_device_eval_batch_size=16,\n",
        "    num_train_epochs=1, # 5, we changed to 1 for a faster training. You should increase its value to 3 or 5\n",
        "    weight_decay=0.01,\n",
        "    load_best_model_at_end=True,\n",
        "    metric_for_best_model=\"accuracy\",   \n",
        ")\n",
        "\n"
      ],
      "metadata": {
        "id": "HNCIql21x0--"
      },
      "execution_count": null,
      "outputs": []
    },
    {
      "cell_type": "code",
      "source": [
        "import numpy as np\n",
        "from sklearn.metrics import accuracy_score, precision_recall_fscore_support\n",
        "\n",
        "\n",
        "def compute_metrics(eval_predictions):\n",
        "    predictions, labels = eval_predictions\n",
        "    #     predictions = np.argmax(predictions, axis=1)\n",
        "    y_pred = predictions.argmax(-1)\n",
        "    precision, recall, f1, _ = precision_recall_fscore_support(labels, y_pred, average='macro')\n",
        "    acc = accuracy_score(labels, y_pred)\n",
        "    return {\n",
        "        'accuracy': acc,\n",
        "        'f1': f1,\n",
        "        'precision': precision,\n",
        "        'recall': recall\n",
        "    }\n"
      ],
      "metadata": {
        "id": "4hR0ma5ky2-M"
      },
      "execution_count": null,
      "outputs": []
    },
    {
      "cell_type": "code",
      "source": [
        "from transformers import Trainer\n",
        "\n",
        "trainer = Trainer(\n",
        "    model,  # the model\n",
        "    args,   # the arguments of the model\n",
        "    train_dataset=encoded_dataset[\"train\"], # the training dataset\n",
        "    eval_dataset=encoded_dataset[\"validation\"], #the validation dataset\n",
        "    tokenizer=tokenizer,    # the tokenizer\n",
        "    compute_metrics=compute_metrics # the metrics for obtain the metrics on the evaluation\n",
        ")\n",
        "# training\n",
        "trainer.train()"
      ],
      "metadata": {
        "id": "0q2lvSdvzCTY"
      },
      "execution_count": null,
      "outputs": []
    },
    {
      "cell_type": "code",
      "source": [
        "trainer.evaluate()"
      ],
      "metadata": {
        "id": "RgSweZhkz0ml"
      },
      "execution_count": null,
      "outputs": []
    },
    {
      "cell_type": "code",
      "source": [
        "index_random = random.randint(0,encoded_dataset['test'].num_rows)\n",
        "print(encoded_dataset['test'][index_random]['sentence'])\n",
        "print(encoded_dataset['test'][index_random]['label'])"
      ],
      "metadata": {
        "id": "ACulbnyr2cpm"
      },
      "execution_count": null,
      "outputs": []
    },
    {
      "cell_type": "code",
      "source": [
        "def get_prediction(text):\n",
        "    # prepare our text into tokenized sequence\n",
        "    inputs = tokenizer(text, padding=\"max_length\", truncation=True, return_tensors=\"pt\").to(\"cuda\")\n",
        "    # perform inference to our model\n",
        "    outputs = model(**inputs)\n",
        "    # get output probabilities by doing softmax\n",
        "    probs = outputs[0].softmax(1)\n",
        "    # executing argmax function to get the candidate label\n",
        "    # return probs.argmax() is a tensor. We have to return its item\n",
        "    return probs.argmax().item()\n",
        "\n",
        "y_pred=[get_prediction(text) for text in encoded_dataset[\"test\"][\"sentence\"]]\n"
      ],
      "metadata": {
        "id": "9__wx1so2oYW"
      },
      "execution_count": null,
      "outputs": []
    },
    {
      "cell_type": "code",
      "source": [
        "for i in range(10):\n",
        "    print(encoded_dataset['test'][i]['sentence'])\n",
        "    print('Predicted label: ', y_pred[i])\n",
        "    print()"
      ],
      "metadata": {
        "id": "GHmBKuhD3CPC"
      },
      "execution_count": null,
      "outputs": []
    }
  ]
}