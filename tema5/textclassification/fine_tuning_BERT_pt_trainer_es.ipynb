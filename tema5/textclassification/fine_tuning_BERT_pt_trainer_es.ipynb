{
  "cells": [
    {
      "cell_type": "markdown",
      "source": [
        "<center>\n",
        "<img src=\"https://upload.wikimedia.org/wikipedia/commons/4/47/Acronimo_y_nombre_uc3m.png\"/>\n",
        "\n",
        "<img src=\"https://mirrors.creativecommons.org/presskit/buttons/88x31/png/by-nc-sa.png\" width=15%/>\n",
        "</center>   "
      ],
      "metadata": {
        "id": "0okBCbNNZe6g"
      }
    },
    {
      "cell_type": "markdown",
      "metadata": {
        "id": "N4xhgjcMCFD-"
      },
      "source": [
        "# Ajustar un modelo pre-entrenado para la clasifición de textos (PyTorch)\n",
        "\n",
        "La **clasificación de textos** es una aplicación muy popular de PLN cuyo objetivo es clasificar un texto con una categoría o etiqueta predefinida. Podemos distinguir entre la **clasificación binaria** donde únicamente hay dos clases, o multiclase donde el conjunto de clases predefinidas son tres o más. La diferencia entre **multiclase** y **multilabel** es que en la primera tarea, un texto es clasificada con una única clase, mientras que en la segunda, un texto puede clasificar con varias etiquetas.\n",
        "\n",
        "En este notebook , estudiaremos cómo ajustar un modelo transformer, en concreto BERT, para la tarea de clasificación de textos. \n",
        "\n",
        "Las ventajas de utilizar un modelo pre-entrenado son las siguientes:\n",
        "- menor coste computacional (vectores ya están pre-entrenados)\n",
        "- reducen el tiempo y esfuerzo porque puedes utlizar modelos sin tener que entrenar desde cero. \n",
        "\n",
        "\n",
        "HuggingFace incluye muchísimos modelos pre-entrenados para muchas tareas de NLP. \n",
        "\n",
        "## ¿Qué es fine-tuning?\n",
        "\n",
        "\n",
        "Fine-tuning es el proceso de usar un modelo pre-entrenado y entrenarlo sobre un dataset para una tarea concreta, como por ejemplo, clasificación de textos o NER. \n",
        "\n",
        "\n",
        "Fuente:\n",
        "https://huggingface.co/docs/transformers/training"
      ]
    },
    {
      "cell_type": "markdown",
      "metadata": {
        "id": "Fto0gjPZD60u"
      },
      "source": [
        "Instalamos las librerías que vamos a necesitar:"
      ]
    },
    {
      "cell_type": "code",
      "execution_count": null,
      "metadata": {
        "colab": {
          "base_uri": "https://localhost:8080/"
        },
        "id": "ULuW4vDnF75z",
        "outputId": "c44488bf-8202-42e3-b193-ccc92e98a040"
      },
      "outputs": [
        {
          "output_type": "stream",
          "name": "stdout",
          "text": [
            "Looking in indexes: https://pypi.org/simple, https://us-python.pkg.dev/colab-wheels/public/simple/\n",
            "Requirement already satisfied: transformers in /usr/local/lib/python3.8/dist-packages (4.26.1)\n",
            "Requirement already satisfied: datasets in /usr/local/lib/python3.8/dist-packages (2.10.1)\n",
            "Requirement already satisfied: tokenizers!=0.11.3,<0.14,>=0.11.1 in /usr/local/lib/python3.8/dist-packages (from transformers) (0.13.2)\n",
            "Requirement already satisfied: tqdm>=4.27 in /usr/local/lib/python3.8/dist-packages (from transformers) (4.64.1)\n",
            "Requirement already satisfied: numpy>=1.17 in /usr/local/lib/python3.8/dist-packages (from transformers) (1.22.4)\n",
            "Requirement already satisfied: packaging>=20.0 in /usr/local/lib/python3.8/dist-packages (from transformers) (23.0)\n",
            "Requirement already satisfied: filelock in /usr/local/lib/python3.8/dist-packages (from transformers) (3.9.0)\n",
            "Requirement already satisfied: huggingface-hub<1.0,>=0.11.0 in /usr/local/lib/python3.8/dist-packages (from transformers) (0.12.1)\n",
            "Requirement already satisfied: regex!=2019.12.17 in /usr/local/lib/python3.8/dist-packages (from transformers) (2022.6.2)\n",
            "Requirement already satisfied: requests in /usr/local/lib/python3.8/dist-packages (from transformers) (2.25.1)\n",
            "Requirement already satisfied: pyyaml>=5.1 in /usr/local/lib/python3.8/dist-packages (from transformers) (6.0)\n",
            "Requirement already satisfied: xxhash in /usr/local/lib/python3.8/dist-packages (from datasets) (3.2.0)\n",
            "Requirement already satisfied: pandas in /usr/local/lib/python3.8/dist-packages (from datasets) (1.3.5)\n",
            "Requirement already satisfied: dill<0.3.7,>=0.3.0 in /usr/local/lib/python3.8/dist-packages (from datasets) (0.3.6)\n",
            "Requirement already satisfied: multiprocess in /usr/local/lib/python3.8/dist-packages (from datasets) (0.70.14)\n",
            "Requirement already satisfied: pyarrow>=6.0.0 in /usr/local/lib/python3.8/dist-packages (from datasets) (9.0.0)\n",
            "Requirement already satisfied: aiohttp in /usr/local/lib/python3.8/dist-packages (from datasets) (3.8.4)\n",
            "Requirement already satisfied: fsspec[http]>=2021.11.1 in /usr/local/lib/python3.8/dist-packages (from datasets) (2023.1.0)\n",
            "Requirement already satisfied: responses<0.19 in /usr/local/lib/python3.8/dist-packages (from datasets) (0.18.0)\n",
            "Requirement already satisfied: yarl<2.0,>=1.0 in /usr/local/lib/python3.8/dist-packages (from aiohttp->datasets) (1.8.2)\n",
            "Requirement already satisfied: frozenlist>=1.1.1 in /usr/local/lib/python3.8/dist-packages (from aiohttp->datasets) (1.3.3)\n",
            "Requirement already satisfied: aiosignal>=1.1.2 in /usr/local/lib/python3.8/dist-packages (from aiohttp->datasets) (1.3.1)\n",
            "Requirement already satisfied: attrs>=17.3.0 in /usr/local/lib/python3.8/dist-packages (from aiohttp->datasets) (22.2.0)\n",
            "Requirement already satisfied: charset-normalizer<4.0,>=2.0 in /usr/local/lib/python3.8/dist-packages (from aiohttp->datasets) (3.0.1)\n",
            "Requirement already satisfied: async-timeout<5.0,>=4.0.0a3 in /usr/local/lib/python3.8/dist-packages (from aiohttp->datasets) (4.0.2)\n",
            "Requirement already satisfied: multidict<7.0,>=4.5 in /usr/local/lib/python3.8/dist-packages (from aiohttp->datasets) (6.0.4)\n",
            "Requirement already satisfied: typing-extensions>=3.7.4.3 in /usr/local/lib/python3.8/dist-packages (from huggingface-hub<1.0,>=0.11.0->transformers) (4.5.0)\n",
            "Requirement already satisfied: urllib3<1.27,>=1.21.1 in /usr/local/lib/python3.8/dist-packages (from requests->transformers) (1.26.14)\n",
            "Requirement already satisfied: idna<3,>=2.5 in /usr/local/lib/python3.8/dist-packages (from requests->transformers) (2.10)\n",
            "Requirement already satisfied: certifi>=2017.4.17 in /usr/local/lib/python3.8/dist-packages (from requests->transformers) (2022.12.7)\n",
            "Requirement already satisfied: chardet<5,>=3.0.2 in /usr/local/lib/python3.8/dist-packages (from requests->transformers) (4.0.0)\n",
            "Requirement already satisfied: pytz>=2017.3 in /usr/local/lib/python3.8/dist-packages (from pandas->datasets) (2022.7.1)\n",
            "Requirement already satisfied: python-dateutil>=2.7.3 in /usr/local/lib/python3.8/dist-packages (from pandas->datasets) (2.8.2)\n",
            "Requirement already satisfied: six>=1.5 in /usr/local/lib/python3.8/dist-packages (from python-dateutil>=2.7.3->pandas->datasets) (1.15.0)\n"
          ]
        }
      ],
      "source": [
        "!pip install transformers datasets "
      ]
    },
    {
      "cell_type": "markdown",
      "metadata": {
        "id": "G04qZsMwD-md"
      },
      "source": [
        "## Data\n",
        "\n",
        "Como dataset vamos a utilizar uno proporcionado por HuggingFace, **trec** (https://huggingface.co/datasets/trec), que es una colección de preguntas que han sido clasificadas por el tipo de respuesta que espera. En concreto, las clases son las siguientes (se recogen en el campo **coarse_label**). \n",
        "\n",
        "- 'ABBR' (0): la respuesta esperada es una abreviatura.\n",
        "- 'ENTY' (1): la respuesta esperada es una entidad.\n",
        "- 'DESC' (2): la respuesta esperada es una descripción.\n",
        "- 'HUM' (3): la respuesta esperada es una persona.\n",
        "- 'LOC' (4): la respuesta esperada es un lugar.\n",
        "- 'NUM' (5): la respuesta esperada es un valor numérico.\n",
        "\n",
        "El dataset incluye un segundo campo, **fine_label**, donde se da una clasificación más fina del tipo de respuesta esperada para cada pregunta. En este notebook, nos centraremos únicamente en la clasificación basada en **coarse_label**.\n",
        "\n",
        "El dataset es distribuido con dos splits: train y test.\n",
        "\n"
      ]
    },
    {
      "cell_type": "code",
      "execution_count": null,
      "metadata": {
        "colab": {
          "base_uri": "https://localhost:8080/",
          "height": 265,
          "referenced_widgets": [
            "ccc93d614cd245719c14b05c1cf83430",
            "03b7e90c11ff40c99478123f320a3250",
            "e9ba077a3bf54fa78e0bf82ee5a3e0d3",
            "ec4f6f95050b4e72b07541b8b21cfa86",
            "3c45f7b7723b4b22b4195a6194af5339",
            "bb2a69dc251f456c81d2d3a3299c193a",
            "683083291ede47569e0d2f3e6d6dcbc2",
            "22cb19f3b1194351b51236967f653940",
            "2b74003540714171a20cd47dfbab0a72",
            "806307534eba4a1a85543bc379090eb5",
            "669d3f28adf44127b3fa91f8bbabd35a"
          ]
        },
        "id": "4SHWKjg9FqYW",
        "outputId": "d84970c7-8894-4a41-c9e3-f2cc5d7dbd5e"
      },
      "outputs": [
        {
          "output_type": "stream",
          "name": "stderr",
          "text": [
            "WARNING:datasets.builder:Found cached dataset trec (/root/.cache/huggingface/datasets/trec/default/2.0.0/f2469cab1b5fceec7249fda55360dfdbd92a7a5b545e91ea0f78ad108ffac1c2)\n"
          ]
        },
        {
          "output_type": "display_data",
          "data": {
            "text/plain": [
              "  0%|          | 0/2 [00:00<?, ?it/s]"
            ],
            "application/vnd.jupyter.widget-view+json": {
              "version_major": 2,
              "version_minor": 0,
              "model_id": "ccc93d614cd245719c14b05c1cf83430"
            }
          },
          "metadata": {}
        },
        {
          "output_type": "execute_result",
          "data": {
            "text/plain": [
              "DatasetDict({\n",
              "    train: Dataset({\n",
              "        features: ['text', 'coarse_label', 'fine_label'],\n",
              "        num_rows: 5452\n",
              "    })\n",
              "    test: Dataset({\n",
              "        features: ['text', 'coarse_label', 'fine_label'],\n",
              "        num_rows: 500\n",
              "    })\n",
              "})"
            ]
          },
          "metadata": {},
          "execution_count": 2
        }
      ],
      "source": [
        "from datasets import load_dataset\n",
        "dict_dataset = load_dataset(\"trec\")\n",
        "dict_dataset\n"
      ]
    },
    {
      "cell_type": "markdown",
      "source": [
        "Mostramos las clases asociadas con coarse_label:"
      ],
      "metadata": {
        "id": "q306UoJdW0P-"
      }
    },
    {
      "cell_type": "code",
      "source": [
        "TARGET_LABELS = dict_dataset['train'].features['coarse_label'].names\n"
      ],
      "metadata": {
        "id": "U8W4sJqQWzRw"
      },
      "execution_count": null,
      "outputs": []
    },
    {
      "cell_type": "markdown",
      "metadata": {
        "id": "8CBMJw1SdTZq"
      },
      "source": [
        "Borramos el campo **fine_label**, porque no lo vamos a usar, y renombramos **coarse_label** a **label**"
      ]
    },
    {
      "cell_type": "code",
      "execution_count": null,
      "metadata": {
        "colab": {
          "base_uri": "https://localhost:8080/"
        },
        "id": "j6T3_KnZdZf0",
        "outputId": "bd77c141-8035-4125-a3af-64691fae2df3"
      },
      "outputs": [
        {
          "output_type": "execute_result",
          "data": {
            "text/plain": [
              "DatasetDict({\n",
              "    train: Dataset({\n",
              "        features: ['text', 'label'],\n",
              "        num_rows: 5452\n",
              "    })\n",
              "    test: Dataset({\n",
              "        features: ['text', 'label'],\n",
              "        num_rows: 500\n",
              "    })\n",
              "})"
            ]
          },
          "metadata": {},
          "execution_count": 4
        }
      ],
      "source": [
        "dict_dataset = dict_dataset.remove_columns(['fine_label'])\n",
        "dict_dataset = dict_dataset.rename_column('coarse_label','label')\n",
        "\n",
        "dict_dataset"
      ]
    },
    {
      "cell_type": "markdown",
      "metadata": {
        "id": "BXNVaaBcGHG-"
      },
      "source": [
        "El dataset contiene 5452 instancias para training, y 500 para test. \n",
        "Utilizaremos este dataset porque es pequeño y nos permitirá entrenar el modelo en poco tiempo. En HuggingFace, puedes encontrar otros datasets para trabajar en la tarea de clasificación de textos. Por ejemplo, **yelp** (https://huggingface.co/datasets/yelp_review_full) o https://huggingface.co/datasets/sst2\n",
        "\n",
        "También puedes cargar tu propio dataset desde ficheros en local, como hemos visto en notebooks anteriores:"
      ]
    },
    {
      "cell_type": "markdown",
      "metadata": {
        "id": "w6rgE3mEHXur"
      },
      "source": [
        "Vamos a revisar algunas preguntas y sus clases:"
      ]
    },
    {
      "cell_type": "code",
      "execution_count": null,
      "metadata": {
        "colab": {
          "base_uri": "https://localhost:8080/"
        },
        "id": "qxwaUqKmHXH3",
        "outputId": "460d3c6d-03ad-49ff-853d-f0a794da0479"
      },
      "outputs": [
        {
          "output_type": "stream",
          "name": "stdout",
          "text": [
            "2097 Where is the Henry Ford Museum ? LOC\n",
            "1929 What is glass made of ? ENTY\n",
            "5171 What U.S. city is known as The Rubber Capital of the World ? LOC\n",
            "5210 How many times more than 3 NUM\n",
            "2392 What first-aid product `` Helps the hurt stop hurting '' ? ENTY\n",
            "1850 Where does Mother Angelica live ? LOC\n",
            "456 What English word comes from the Old French covrefeu , meaning cover fire ? ENTY\n",
            "443 What does G.M.T. stand for ? ABBR\n",
            "390 What was the name of the lawyer who represented Randy Craft ? HUM\n",
            "4635 Where are the busiest Amtrak rail stations in the U.S. ? LOC\n"
          ]
        }
      ],
      "source": [
        "\n",
        "import random as rn\n",
        "size_training = len(dict_dataset['train'])\n",
        "for i in range(10):\n",
        "    index_random=rn.randint(0,size_training)\n",
        "    random_instance = dict_dataset['train'][index_random]\n",
        "    print(index_random, random_instance['text'], TARGET_LABELS[random_instance['label']])\n"
      ]
    },
    {
      "cell_type": "markdown",
      "metadata": {
        "id": "FEz-yyTFlcxT"
      },
      "source": [
        "### Crear un split para validación. \n",
        "Como el dataset únicamente proporciona dos splits, vamos a tomar el 10% del training como conjunto de validación. "
      ]
    },
    {
      "cell_type": "code",
      "execution_count": null,
      "metadata": {
        "colab": {
          "base_uri": "https://localhost:8080/"
        },
        "id": "jmDT9cceM9nl",
        "outputId": "65e808c9-1d2d-402f-8bc9-2176059977e1"
      },
      "outputs": [
        {
          "output_type": "execute_result",
          "data": {
            "text/plain": [
              "DatasetDict({\n",
              "    train: Dataset({\n",
              "        features: ['text', 'label'],\n",
              "        num_rows: 4906\n",
              "    })\n",
              "    test: Dataset({\n",
              "        features: ['text', 'label'],\n",
              "        num_rows: 546\n",
              "    })\n",
              "})"
            ]
          },
          "metadata": {},
          "execution_count": 6
        }
      ],
      "source": [
        "aux = dict_dataset['train'].train_test_split(test_size=0.1)\n",
        "aux"
      ]
    },
    {
      "cell_type": "code",
      "execution_count": null,
      "metadata": {
        "colab": {
          "base_uri": "https://localhost:8080/"
        },
        "id": "UFChjuMkdBFY",
        "outputId": "feb3f3a5-5d71-4b81-8b16-78d30f970ead"
      },
      "outputs": [
        {
          "output_type": "execute_result",
          "data": {
            "text/plain": [
              "DatasetDict({\n",
              "    train: Dataset({\n",
              "        features: ['text', 'label'],\n",
              "        num_rows: 4906\n",
              "    })\n",
              "    test: Dataset({\n",
              "        features: ['text', 'label'],\n",
              "        num_rows: 500\n",
              "    })\n",
              "    val: Dataset({\n",
              "        features: ['text', 'label'],\n",
              "        num_rows: 546\n",
              "    })\n",
              "})"
            ]
          },
          "metadata": {},
          "execution_count": 7
        }
      ],
      "source": [
        "dict_dataset['train']=aux['train']\n",
        "dict_dataset['val']=aux['test']\n",
        "del(aux)\n",
        "dict_dataset"
      ]
    },
    {
      "cell_type": "markdown",
      "metadata": {
        "id": "Rcx_yPPMHK_D"
      },
      "source": [
        "### Tokenización\n",
        "\n",
        "Debemos preparar los textos para que tener el formato necesario para la entrada del transformer. Para ello deberemos utilizar el tokenizador asociado al modelo que vayamos a utilizar. \n",
        "Algunos modelos ya tienen clases predefinida para su tokenizador y para tareas específias. Por ejemplo, para cargar el tokenizador de **BERT** es posible utilizar la clase **BertTokenizer**. HuggingFace proporciona una clase que te permite cargar cualquier tokenizador, indicando simplemente el nombre del modelo. Esta clase es **AutoTokenizer**.\n",
        "\n",
        "En este notebook, vamos a utilizar el modelo **bert-base-uncased**. "
      ]
    },
    {
      "cell_type": "code",
      "execution_count": null,
      "metadata": {
        "id": "ibW81YQbION-"
      },
      "outputs": [],
      "source": [
        "from transformers import AutoTokenizer\n",
        "model_name=\"bert-base-uncased\"\n",
        "tokenizer = AutoTokenizer.from_pretrained(model_name)\n"
      ]
    },
    {
      "cell_type": "markdown",
      "metadata": {
        "id": "sLcZHqFDrbhW"
      },
      "source": [
        "Antes de aplciar el tokenizador a todo el dataset, vamos a aplicarlo a un texto:"
      ]
    },
    {
      "cell_type": "code",
      "execution_count": null,
      "metadata": {
        "colab": {
          "base_uri": "https://localhost:8080/"
        },
        "id": "LddXlbDrrdc0",
        "outputId": "aefa5bfa-434b-43e0-ffe8-9da9bb6703b4"
      },
      "outputs": [
        {
          "output_type": "stream",
          "name": "stdout",
          "text": [
            "Where is the Bulls basketball team based ?\n",
            "\n"
          ]
        },
        {
          "output_type": "execute_result",
          "data": {
            "text/plain": [
              "{'input_ids': [101, 2073, 2003, 1996, 12065, 3455, 2136, 2241, 1029, 102], 'token_type_ids': [0, 0, 0, 0, 0, 0, 0, 0, 0, 0], 'attention_mask': [1, 1, 1, 1, 1, 1, 1, 1, 1, 1]}"
            ]
          },
          "metadata": {},
          "execution_count": 9
        }
      ],
      "source": [
        "sentence = dict_dataset['train'][0]['text']\n",
        "print(sentence)\n",
        "print()\n",
        "encoding = tokenizer(sentence)\n",
        "encoding"
      ]
    },
    {
      "cell_type": "markdown",
      "metadata": {
        "id": "0N3_3KEfNg51"
      },
      "source": [
        "Necesitamos conocer la longitud máximas de las oraciones en el training. En función de esta longitud máxima, podemos establecer el parámetro **MAX_LENGTH** que usaremos para representar las oraciones de nuestro dataset. Todas las oraciones tendrán la misma longitud. \n",
        "Si la longitud máxima es superior a 512 tokens, la limitaremos a 512, porque el tamaño máximo que acepta el modelo BERT es 512.  "
      ]
    },
    {
      "cell_type": "code",
      "execution_count": null,
      "metadata": {
        "colab": {
          "base_uri": "https://localhost:8080/"
        },
        "id": "sJ1MXZ2QM-0L",
        "outputId": "61182a57-e88e-4ef9-f599-61416b9bfd51"
      },
      "outputs": [
        {
          "output_type": "stream",
          "name": "stdout",
          "text": [
            "La longitud máxima de la secuencia es:  41\n",
            "max_length 41\n"
          ]
        }
      ],
      "source": [
        "MAX_LENGTH= max([len(tokenizer(text).input_ids) for text in dict_dataset['train']['text']])\n",
        "print(\"La longitud máxima de la secuencia es: \", MAX_LENGTH)\n",
        "\n",
        "MAX_LENGTH = min(512, MAX_LENGTH)\n",
        "print(\"max_length\", MAX_LENGTH)\n"
      ]
    },
    {
      "cell_type": "markdown",
      "metadata": {
        "id": "-uRNuZFEJHgi"
      },
      "source": [
        "Vamos a crear una función que nos permita aplicar el tokenizador por lotes, lo que permitirá hacerlo en menos tiempo. \n",
        "El método **map** de Datasets nos permitirá aplicarlo a todo el dataset:\n",
        "\n"
      ]
    },
    {
      "cell_type": "code",
      "execution_count": null,
      "metadata": {
        "colab": {
          "base_uri": "https://localhost:8080/",
          "height": 305,
          "referenced_widgets": [
            "a5101cf2386b463a99defbde61fe628c",
            "d0a06bdbdda74c668dd16e67a4aa6827",
            "82a216916e6c4a5d8f8e68c62f18fe43",
            "e308ccae8a3344e7a60c9e1eab8e440d",
            "a80f9d3e89654d14be6ed35ad8d5e4b2",
            "db5c4399e87f4eb3a5c07a813290ef21",
            "7d9e2825a15c4363aa13ac0abaa3cff9",
            "f9b270fba5f9427ab6b9cf4494fed8f0",
            "a65cd4f41e2f4201aeb5f87a8db9a345",
            "66d60d1244ae4cd5b57cb1a46890d431",
            "1783510d0e114b2394e5c9168558b83e",
            "7e539aef5bad41deacc83d369a96e142",
            "5f4396a45a68485ca673dc4c777d93d8",
            "1b4feeeaf3af4ee9bcb7399880eb3d86",
            "648d72f4140e4b42b6622c801364dc9b",
            "9b8efce82ea14b5ba80455302d4ef80f",
            "04c91522e86f44e19e41dbd62322d4f3",
            "56e4700e7500486cb15c80bbfa270d02",
            "2dcdf5c8b81c43eba586ccb7c22d3315",
            "9246a9fabcbf40fbb61ee57eb86f429e",
            "f0565f5407ce47e9bdffa2e593cec5bd",
            "341475982dfa4f0b92a83853d653183f"
          ]
        },
        "id": "td6fcYcUJOvk",
        "outputId": "8e6600b6-4414-4d14-96e6-e4e429087c6b"
      },
      "outputs": [
        {
          "output_type": "display_data",
          "data": {
            "text/plain": [
              "Map:   0%|          | 0/4906 [00:00<?, ? examples/s]"
            ],
            "application/vnd.jupyter.widget-view+json": {
              "version_major": 2,
              "version_minor": 0,
              "model_id": "a5101cf2386b463a99defbde61fe628c"
            }
          },
          "metadata": {}
        },
        {
          "output_type": "stream",
          "name": "stderr",
          "text": [
            "WARNING:datasets.arrow_dataset:Loading cached processed dataset at /root/.cache/huggingface/datasets/trec/default/2.0.0/f2469cab1b5fceec7249fda55360dfdbd92a7a5b545e91ea0f78ad108ffac1c2/cache-ac48d0255fce93bb.arrow\n"
          ]
        },
        {
          "output_type": "display_data",
          "data": {
            "text/plain": [
              "Map:   0%|          | 0/546 [00:00<?, ? examples/s]"
            ],
            "application/vnd.jupyter.widget-view+json": {
              "version_major": 2,
              "version_minor": 0,
              "model_id": "7e539aef5bad41deacc83d369a96e142"
            }
          },
          "metadata": {}
        },
        {
          "output_type": "execute_result",
          "data": {
            "text/plain": [
              "DatasetDict({\n",
              "    train: Dataset({\n",
              "        features: ['text', 'label', 'input_ids', 'token_type_ids', 'attention_mask'],\n",
              "        num_rows: 4906\n",
              "    })\n",
              "    test: Dataset({\n",
              "        features: ['text', 'label', 'input_ids', 'token_type_ids', 'attention_mask'],\n",
              "        num_rows: 500\n",
              "    })\n",
              "    val: Dataset({\n",
              "        features: ['text', 'label', 'input_ids', 'token_type_ids', 'attention_mask'],\n",
              "        num_rows: 546\n",
              "    })\n",
              "})"
            ]
          },
          "metadata": {},
          "execution_count": 11
        }
      ],
      "source": [
        "def tokenize(example):\n",
        "    return tokenizer(example[\"text\"], padding=\"max_length\", truncation=True, max_length=MAX_LENGTH)\n",
        "\n",
        "\n",
        "data_encodings=dict_dataset.map(tokenize, batched=True)\n",
        "data_encodings"
      ]
    },
    {
      "cell_type": "markdown",
      "metadata": {
        "id": "J_i3SSvQiRlZ"
      },
      "source": [
        "Fijate en las longitudes de las secuencias una vez codificadas. Todas tienes la misma longitud.  "
      ]
    },
    {
      "cell_type": "markdown",
      "metadata": {
        "id": "0Kv7-mILibO5"
      },
      "source": [
        "### Ejercicio: \n",
        "Prueba la funcion **tokenize** con los siguientes cambios:\n",
        "- ¿Por qué si quitas truncation no hay ninguna modificación en la longitud de las oraciones?\n",
        "- No uses el atributo padding, ¿cuál es la longitud de las oraciones?\n",
        "- No uses el atributo max_length, ¿cuál es la longitud de las oraciones?\n"
      ]
    },
    {
      "cell_type": "code",
      "source": [],
      "metadata": {
        "id": "TVWdWE3VW_16"
      },
      "execution_count": null,
      "outputs": []
    },
    {
      "cell_type": "markdown",
      "metadata": {
        "id": "h_T3iwOhNx1x"
      },
      "source": [
        "## Modelo \n",
        "\n",
        "Los textos ya están preparados!!!\n",
        "\n",
        "Ahora debemos entrenar el modelo pre-entrenado para nuestra tarea. \n",
        "\n",
        "Para entrenar, podemos elegir dos framworks concretos: **tensorflow** o **pytorch**.  En este notebook, usaremos **pytorch**, que en general es más sencillo que **tensorflow**.\n",
        "\n",
        "**Pytorch** proporciona una clase **AutoModelForSequenceClassification**, que ya carga un  transformer adaptado para dicha tarea. Esta clase permite cargar cualquier transformer, aunque muchos de ellos ya incluyen una clase específica para esta tarea. Por ejemplo, para BERT, es posible utilizar la clase **BertForSequenceClassification**. En realidad, **AutoModelForSequenceClassification** llama a la clase **BertForSequenceClassification**.\n",
        "\n",
        "En esta clase, únicamente es necesario indicar el nombre del transformer, y el **número de clases**, en el argumento, **num_labels**. En nuestro caso, es 6.  \n"
      ]
    },
    {
      "cell_type": "code",
      "execution_count": null,
      "metadata": {
        "colab": {
          "base_uri": "https://localhost:8080/"
        },
        "id": "9JBNq8fxOobS",
        "outputId": "be7514fe-2110-40fb-dc0e-382af2dd7abb"
      },
      "outputs": [
        {
          "output_type": "stream",
          "name": "stdout",
          "text": [
            "TARGET_LABELS: ['ABBR', 'ENTY', 'DESC', 'HUM', 'LOC', 'NUM'] num_labels: 6\n"
          ]
        },
        {
          "output_type": "stream",
          "name": "stderr",
          "text": [
            "Some weights of the model checkpoint at bert-base-uncased were not used when initializing BertForSequenceClassification: ['cls.predictions.decoder.weight', 'cls.predictions.transform.dense.bias', 'cls.predictions.transform.LayerNorm.weight', 'cls.predictions.bias', 'cls.seq_relationship.weight', 'cls.seq_relationship.bias', 'cls.predictions.transform.LayerNorm.bias', 'cls.predictions.transform.dense.weight']\n",
            "- This IS expected if you are initializing BertForSequenceClassification from the checkpoint of a model trained on another task or with another architecture (e.g. initializing a BertForSequenceClassification model from a BertForPreTraining model).\n",
            "- This IS NOT expected if you are initializing BertForSequenceClassification from the checkpoint of a model that you expect to be exactly identical (initializing a BertForSequenceClassification model from a BertForSequenceClassification model).\n",
            "Some weights of BertForSequenceClassification were not initialized from the model checkpoint at bert-base-uncased and are newly initialized: ['classifier.bias', 'classifier.weight']\n",
            "You should probably TRAIN this model on a down-stream task to be able to use it for predictions and inference.\n"
          ]
        }
      ],
      "source": [
        "from transformers import AutoModelForSequenceClassification\n",
        "\n",
        "TARGET_LABELS = dict_dataset['train'].features['label'].names\n",
        "NUM_LABELS = len(TARGET_LABELS)\n",
        "\n",
        "print('TARGET_LABELS:', TARGET_LABELS, 'num_labels:', NUM_LABELS )\n",
        "\n",
        "model = AutoModelForSequenceClassification.from_pretrained(model_name, num_labels=NUM_LABELS) "
      ]
    },
    {
      "cell_type": "markdown",
      "metadata": {
        "id": "MaFmjsJSO3XC"
      },
      "source": [
        "La ejecución de la celda anterior Produce un warning informando que algunos de los pesos pre-entrenados no están siendo utilizados y algunos han sido inicializados aleatoriamente. ¡No te preocupes, esto es completamente normal!\n",
        "\n",
        "Los vectores finales del modelo pre-entrenado BERT es sustituido por nuevo encabezado para la clasificación que ha sido inicializado aleatoriamente. Durante el entrenamiento, este vectores se ajustan para la tarea de clasificación, transfiriéndole el conocimiento del modelo pre-entrenado. entrenado."
      ]
    },
    {
      "cell_type": "markdown",
      "metadata": {
        "id": "ZPr0aTbePLML"
      },
      "source": [
        "#### Hyperparameteres\n",
        "\n",
        "Necesitamos definir los hiperparámetros que se emplearán durante el proceso de entrenamiento. Algunos de estos hiperpárametros son el número de epochs para el entrenamiento, el tamaño del lote (batch), learning rate, etc.  Puedes experimentar con estos hiperparámetros para encontrar la configuración óptima para tu tarea. \n",
        "\n",
        "En nuestro caso, trabajaremos con los hipérparametros por defecto. Necesitamos crear un objeto de la clase TrainingArguments, que incluye todos los hiperparámetros (ya inicializados con valores por defecto) que puedes ajustar. "
      ]
    },
    {
      "cell_type": "code",
      "execution_count": null,
      "metadata": {
        "id": "PrE8OCVCPnBv"
      },
      "outputs": [],
      "source": [
        "from transformers import TrainingArguments\n",
        "args = TrainingArguments(output_dir=\"./outputs\")\n",
        "# args"
      ]
    },
    {
      "cell_type": "markdown",
      "metadata": {
        "id": "WJKfVj0qbO4e"
      },
      "source": [
        "Vamos a modificar algunos de ellos, por ejemplo, el tamaño del batch tanto para training como para evaluación (de 8 a 32). Además, vamos a especificar la estrategia de evaluación a epoch para que nos proporcione los resultados después de cada epoch. \n"
      ]
    },
    {
      "cell_type": "code",
      "execution_count": null,
      "metadata": {
        "id": "BZWFZgDgbMHF"
      },
      "outputs": [],
      "source": [
        "args.evaluation_strategy=\"epoch\"\n",
        "args.per_device_train_batch_size = 32\n",
        "args.per_device_eval_batch_size = 32\n"
      ]
    },
    {
      "cell_type": "markdown",
      "metadata": {
        "id": "6BDZuYEmQlsM"
      },
      "source": [
        "#### Métricas\n",
        "\n",
        "También tenemos que definir el conjunto de métricas que se utilizaran para evaluar el modelo sobre el conjunto de validación. Este conjunto de métricas depende de cada tarea. En el caso de la clasificación de textos, además del accuracy, es interesante conocer la precisión, recall y f1. \n",
        "\n",
        "Vamos a definir una función que compute estas métricas. \n"
      ]
    },
    {
      "cell_type": "code",
      "execution_count": null,
      "metadata": {
        "id": "yy1MU6W6Q-Hl"
      },
      "outputs": [],
      "source": [
        "import numpy as np\n",
        "from sklearn.metrics import accuracy_score, precision_recall_fscore_support\n",
        "\n",
        "def compute_metrics(pred):\n",
        "    \"\"\"recibe un lote prediciones inferidas por el modelo. \"\"\"\n",
        "    y_true = pred.label_ids # son las labels en el gold standard\n",
        "    y_pred = pred.predictions.argmax(-1) # pred.predictions devuelve una lista con las predicciones\n",
        "                                        # para casda clase. Debemos quedarnos con la de mayor probabilidad.\n",
        "\n",
        "    # como son varias clases, utilizaremos la macro\n",
        "    precision, recall, f1, _ = precision_recall_fscore_support(y_true, y_pred, average='macro')\n",
        "    acc = accuracy_score(y_true, y_pred)\n",
        "    return {\n",
        "        'accuracy': acc,\n",
        "        'f1': f1,\n",
        "        'precision': precision,\n",
        "        'recall': recall\n",
        "    }"
      ]
    },
    {
      "cell_type": "markdown",
      "metadata": {
        "id": "_Hj7Om7obd1S"
      },
      "source": [
        "#### Trainer\n",
        "\n",
        "Ya estamos listos para entrenar el modelo. Para ello, Pytorch ya nos proporciona una clase **Trainer**,  que está optimizada para entrenar transformers, y que además nos va a ahorrar mucho trabajo (no será necesario escribir el ciclo de entrenamiento por epochs y calcular las métricas sobre el conjunto de validación). \n",
        "\n",
        "Para crear este objeto Trainer, deberemos pasarle el modelo, los argumentos, la función para compuar las métricas, y el conjunto de entrenamiento y validación."
      ]
    },
    {
      "cell_type": "code",
      "execution_count": null,
      "metadata": {
        "id": "BibvOXZ9bnGY"
      },
      "outputs": [],
      "source": [
        "from transformers import Trainer\n",
        "\n",
        "trainer = Trainer(\n",
        "    model=model,            # modelo que será ajustado\n",
        "    args = args,     # hiperparámetros\n",
        "    train_dataset=data_encodings['train'], # conjunto training\n",
        "    eval_dataset=data_encodings['val'],   # conjunto de validación\n",
        "    compute_metrics=compute_metrics,    # función para computar las métricas\n",
        ")"
      ]
    },
    {
      "cell_type": "markdown",
      "metadata": {
        "id": "diN_CU18b8vR"
      },
      "source": [
        "Por fin, podemos entrenar para ajustar el modelo a la tarea de clasificación de textos: "
      ]
    },
    {
      "cell_type": "code",
      "execution_count": null,
      "metadata": {
        "colab": {
          "base_uri": "https://localhost:8080/",
          "height": 725
        },
        "id": "1edWWjFUbqSa",
        "outputId": "771cfc42-1434-4477-8da8-a22a41c6d3c8"
      },
      "outputs": [
        {
          "output_type": "stream",
          "name": "stderr",
          "text": [
            "The following columns in the training set don't have a corresponding argument in `BertForSequenceClassification.forward` and have been ignored: text. If text are not expected by `BertForSequenceClassification.forward`,  you can safely ignore this message.\n",
            "/usr/local/lib/python3.8/dist-packages/transformers/optimization.py:306: FutureWarning: This implementation of AdamW is deprecated and will be removed in a future version. Use the PyTorch implementation torch.optim.AdamW instead, or set `no_deprecation_warning=True` to disable this warning\n",
            "  warnings.warn(\n",
            "***** Running training *****\n",
            "  Num examples = 4906\n",
            "  Num Epochs = 3\n",
            "  Instantaneous batch size per device = 32\n",
            "  Total train batch size (w. parallel, distributed & accumulation) = 32\n",
            "  Gradient Accumulation steps = 1\n",
            "  Total optimization steps = 462\n",
            "  Number of trainable parameters = 109486854\n"
          ]
        },
        {
          "output_type": "display_data",
          "data": {
            "text/plain": [
              "<IPython.core.display.HTML object>"
            ],
            "text/html": [
              "\n",
              "    <div>\n",
              "      \n",
              "      <progress value='462' max='462' style='width:300px; height:20px; vertical-align: middle;'></progress>\n",
              "      [462/462 02:10, Epoch 3/3]\n",
              "    </div>\n",
              "    <table border=\"1\" class=\"dataframe\">\n",
              "  <thead>\n",
              " <tr style=\"text-align: left;\">\n",
              "      <th>Epoch</th>\n",
              "      <th>Training Loss</th>\n",
              "      <th>Validation Loss</th>\n",
              "      <th>Accuracy</th>\n",
              "      <th>F1</th>\n",
              "      <th>Precision</th>\n",
              "      <th>Recall</th>\n",
              "    </tr>\n",
              "  </thead>\n",
              "  <tbody>\n",
              "    <tr>\n",
              "      <td>1</td>\n",
              "      <td>No log</td>\n",
              "      <td>0.230648</td>\n",
              "      <td>0.937729</td>\n",
              "      <td>0.904296</td>\n",
              "      <td>0.924199</td>\n",
              "      <td>0.892478</td>\n",
              "    </tr>\n",
              "    <tr>\n",
              "      <td>2</td>\n",
              "      <td>No log</td>\n",
              "      <td>0.235771</td>\n",
              "      <td>0.945055</td>\n",
              "      <td>0.917369</td>\n",
              "      <td>0.957882</td>\n",
              "      <td>0.898193</td>\n",
              "    </tr>\n",
              "    <tr>\n",
              "      <td>3</td>\n",
              "      <td>No log</td>\n",
              "      <td>0.246964</td>\n",
              "      <td>0.943223</td>\n",
              "      <td>0.931148</td>\n",
              "      <td>0.957823</td>\n",
              "      <td>0.915403</td>\n",
              "    </tr>\n",
              "  </tbody>\n",
              "</table><p>"
            ]
          },
          "metadata": {}
        },
        {
          "output_type": "stream",
          "name": "stderr",
          "text": [
            "The following columns in the evaluation set don't have a corresponding argument in `BertForSequenceClassification.forward` and have been ignored: text. If text are not expected by `BertForSequenceClassification.forward`,  you can safely ignore this message.\n",
            "***** Running Evaluation *****\n",
            "  Num examples = 546\n",
            "  Batch size = 32\n",
            "The following columns in the evaluation set don't have a corresponding argument in `BertForSequenceClassification.forward` and have been ignored: text. If text are not expected by `BertForSequenceClassification.forward`,  you can safely ignore this message.\n",
            "***** Running Evaluation *****\n",
            "  Num examples = 546\n",
            "  Batch size = 32\n",
            "The following columns in the evaluation set don't have a corresponding argument in `BertForSequenceClassification.forward` and have been ignored: text. If text are not expected by `BertForSequenceClassification.forward`,  you can safely ignore this message.\n",
            "***** Running Evaluation *****\n",
            "  Num examples = 546\n",
            "  Batch size = 32\n",
            "\n",
            "\n",
            "Training completed. Do not forget to share your model on huggingface.co/models =)\n",
            "\n",
            "\n"
          ]
        },
        {
          "output_type": "execute_result",
          "data": {
            "text/plain": [
              "TrainOutput(global_step=462, training_loss=0.23365841489849667, metrics={'train_runtime': 132.0423, 'train_samples_per_second': 111.464, 'train_steps_per_second': 3.499, 'total_flos': 310111154677368.0, 'train_loss': 0.23365841489849667, 'epoch': 3.0})"
            ]
          },
          "metadata": {},
          "execution_count": 17
        }
      ],
      "source": [
        "trainer.train()"
      ]
    },
    {
      "cell_type": "markdown",
      "metadata": {
        "id": "a47q2iZ7dMC0"
      },
      "source": [
        "Una vez finalizado el entrenamiento, es posible evaluar el modelo final sobre el conjunto de datos de validación. Las métricas obtenidas son: "
      ]
    },
    {
      "cell_type": "code",
      "execution_count": null,
      "metadata": {
        "id": "C3d0PThcdMMu",
        "colab": {
          "base_uri": "https://localhost:8080/",
          "height": 289
        },
        "outputId": "b120bd0b-3469-4b35-8d46-e45fb2c9bc86"
      },
      "outputs": [
        {
          "output_type": "stream",
          "name": "stderr",
          "text": [
            "The following columns in the evaluation set don't have a corresponding argument in `BertForSequenceClassification.forward` and have been ignored: text. If text are not expected by `BertForSequenceClassification.forward`,  you can safely ignore this message.\n",
            "***** Running Evaluation *****\n",
            "  Num examples = 546\n",
            "  Batch size = 32\n"
          ]
        },
        {
          "output_type": "display_data",
          "data": {
            "text/plain": [
              "<IPython.core.display.HTML object>"
            ],
            "text/html": [
              "\n",
              "    <div>\n",
              "      \n",
              "      <progress value='18' max='18' style='width:300px; height:20px; vertical-align: middle;'></progress>\n",
              "      [18/18 00:01]\n",
              "    </div>\n",
              "    "
            ]
          },
          "metadata": {}
        },
        {
          "output_type": "execute_result",
          "data": {
            "text/plain": [
              "{'eval_loss': 0.24696356058120728,\n",
              " 'eval_accuracy': 0.9432234432234432,\n",
              " 'eval_f1': 0.9311484520950476,\n",
              " 'eval_precision': 0.9578225504847824,\n",
              " 'eval_recall': 0.9154029438532766,\n",
              " 'eval_runtime': 1.7654,\n",
              " 'eval_samples_per_second': 309.275,\n",
              " 'eval_steps_per_second': 10.196,\n",
              " 'epoch': 3.0}"
            ]
          },
          "metadata": {},
          "execution_count": 18
        }
      ],
      "source": [
        "trainer.evaluate()"
      ]
    },
    {
      "cell_type": "markdown",
      "metadata": {
        "id": "2QIFr6audqR7"
      },
      "source": [
        "## Evaluación\n",
        "\n",
        "Por último, vamos a utilizar el modelo para predecir las clases para textos que no han sido utilizados durane el entrenamiento. Es decir, vamos a aplicar el modelo sobre el conjunto test.\n",
        "\n",
        "La siguiente función recibe un texto y devuelve la clase inferida por el modelo. La función codifica el texto usando el tokenizador y el modelo es aplicado sobre esta codificación. Sobre la salida del modelo, aplicaremos una función softmax, que calcule la probabilidad de cada clase. Finalmente, devolvemos la clase con mayor probabilidad (usaremos la función **argmax** .\n"
      ]
    },
    {
      "cell_type": "code",
      "execution_count": null,
      "metadata": {
        "id": "3rAM5vigeAa5"
      },
      "outputs": [],
      "source": [
        "def get_prediction(text):\n",
        "    # prepara el texto, aplicamos la misma tokenización que la utilizada en el training\n",
        "    inputs = tokenizer(text, padding=\"max_length\", truncation=True, return_tensors=\"pt\").to(\"cuda\")\n",
        "    # aplicamos el modelo\n",
        "    outputs = model(**inputs)\n",
        "    # obtenemos la probabilidad para cada clase\n",
        "    probs = outputs[0].softmax(1)\n",
        "    # argmax nos devuelve la clase con mayor probabilidad.\n",
        "    # argmax devuelve un tensor. Debemos devolver su valor asociado \n",
        "    return probs.argmax().item()"
      ]
    },
    {
      "cell_type": "markdown",
      "metadata": {
        "id": "08YUmfQ1koBk"
      },
      "source": [
        "Vamos a aplicar la función **get_prediction** al conjunto de evaluación:"
      ]
    },
    {
      "cell_type": "code",
      "execution_count": null,
      "metadata": {
        "id": "WI88rtXmj_9J"
      },
      "outputs": [],
      "source": [
        "y_pred=[get_prediction(text) for text in dict_dataset['test']['text']]\n"
      ]
    },
    {
      "cell_type": "markdown",
      "metadata": {
        "id": "FC8RwAYqkHgW"
      },
      "source": [
        "Mostramos los resultados finales. "
      ]
    },
    {
      "cell_type": "code",
      "execution_count": null,
      "metadata": {
        "id": "uhbOrTOOkKp-",
        "colab": {
          "base_uri": "https://localhost:8080/"
        },
        "outputId": "b9b1ea7f-12f8-4cf0-d68a-1c700bfc1d82"
      },
      "outputs": [
        {
          "output_type": "stream",
          "name": "stdout",
          "text": [
            "              precision    recall  f1-score   support\n",
            "\n",
            "        ABBR       1.00      0.89      0.94         9\n",
            "        ENTY       0.98      0.91      0.95        94\n",
            "        DESC       0.97      1.00      0.98       138\n",
            "         HUM       1.00      0.98      0.99        65\n",
            "         LOC       0.98      0.98      0.98        81\n",
            "         NUM       0.97      1.00      0.99       113\n",
            "\n",
            "    accuracy                           0.98       500\n",
            "   macro avg       0.98      0.96      0.97       500\n",
            "weighted avg       0.98      0.98      0.98       500\n",
            "\n"
          ]
        }
      ],
      "source": [
        "from sklearn.metrics import classification_report\n",
        "print(classification_report(y_true=dict_dataset['test']['label'], y_pred=y_pred, target_names=TARGET_LABELS))"
      ]
    },
    {
      "cell_type": "markdown",
      "metadata": {
        "id": "0-3JqK0az3vI"
      },
      "source": [
        "## Práctica 1: \n",
        "Explorar los mdoelos proporcionados por HuggingFace (https://huggingface.co/models), y busca algunos modelos que puedas ajustar para la tarea de clasificción de textos en inglés. Por ejemplo, algunos poddrían ser:\n",
        "- bert-base-cased\n",
        "- distilbert-base-uncased\n",
        "- albert-base-v2\n",
        "- xlm-roberta-base\n",
        "\n",
        "Compara los resultados de los modelos. Basta con que cambies el valor de la vairable **model_name** y vuelvas a ejecutar.\n",
        "\n",
        "¿Qué modelo obteine mejor macro F1?, ¿cuál es más rápido?\n"
      ]
    },
    {
      "cell_type": "markdown",
      "source": [
        "## Práctica 2: \n",
        "\n",
        "Usa lo aprendido en este notebook para ajustar un modelo transformer a la tarea EXIST 2022, tanto en clasificación binaria y multiclasificación.\n",
        "¿Qué resultados obtienes?, ¿cuál es el mejor modelo?"
      ],
      "metadata": {
        "id": "2RRgXRICYNx-"
      }
    },
    {
      "cell_type": "markdown",
      "source": [
        "## Conclusiones\n",
        "\n",
        "Después de este notebook, ya estarías listo para utilizar muchos de los modelos transformers (especialmente los basados en BERT) en la competición en la que vas a competir y ser evaluados en la asignatura. \n",
        "\n",
        "Lleva un registro de los resultados (por ejemplo, en un excel) para poder comparar los modelos, y elegir el mejor o mejores, utilizados para generar las submissions en la competición.\n",
        "\n"
      ],
      "metadata": {
        "id": "Mx566vfcYerV"
      }
    }
  ],
  "metadata": {
    "accelerator": "GPU",
    "colab": {
      "toc_visible": true,
      "provenance": []
    },
    "gpuClass": "standard",
    "kernelspec": {
      "display_name": "Python 3",
      "name": "python3"
    },
    "language_info": {
      "name": "python"
    },
    "widgets": {
      "application/vnd.jupyter.widget-state+json": {
        "ccc93d614cd245719c14b05c1cf83430": {
          "model_module": "@jupyter-widgets/controls",
          "model_name": "HBoxModel",
          "model_module_version": "1.5.0",
          "state": {
            "_dom_classes": [],
            "_model_module": "@jupyter-widgets/controls",
            "_model_module_version": "1.5.0",
            "_model_name": "HBoxModel",
            "_view_count": null,
            "_view_module": "@jupyter-widgets/controls",
            "_view_module_version": "1.5.0",
            "_view_name": "HBoxView",
            "box_style": "",
            "children": [
              "IPY_MODEL_03b7e90c11ff40c99478123f320a3250",
              "IPY_MODEL_e9ba077a3bf54fa78e0bf82ee5a3e0d3",
              "IPY_MODEL_ec4f6f95050b4e72b07541b8b21cfa86"
            ],
            "layout": "IPY_MODEL_3c45f7b7723b4b22b4195a6194af5339"
          }
        },
        "03b7e90c11ff40c99478123f320a3250": {
          "model_module": "@jupyter-widgets/controls",
          "model_name": "HTMLModel",
          "model_module_version": "1.5.0",
          "state": {
            "_dom_classes": [],
            "_model_module": "@jupyter-widgets/controls",
            "_model_module_version": "1.5.0",
            "_model_name": "HTMLModel",
            "_view_count": null,
            "_view_module": "@jupyter-widgets/controls",
            "_view_module_version": "1.5.0",
            "_view_name": "HTMLView",
            "description": "",
            "description_tooltip": null,
            "layout": "IPY_MODEL_bb2a69dc251f456c81d2d3a3299c193a",
            "placeholder": "​",
            "style": "IPY_MODEL_683083291ede47569e0d2f3e6d6dcbc2",
            "value": "100%"
          }
        },
        "e9ba077a3bf54fa78e0bf82ee5a3e0d3": {
          "model_module": "@jupyter-widgets/controls",
          "model_name": "FloatProgressModel",
          "model_module_version": "1.5.0",
          "state": {
            "_dom_classes": [],
            "_model_module": "@jupyter-widgets/controls",
            "_model_module_version": "1.5.0",
            "_model_name": "FloatProgressModel",
            "_view_count": null,
            "_view_module": "@jupyter-widgets/controls",
            "_view_module_version": "1.5.0",
            "_view_name": "ProgressView",
            "bar_style": "success",
            "description": "",
            "description_tooltip": null,
            "layout": "IPY_MODEL_22cb19f3b1194351b51236967f653940",
            "max": 2,
            "min": 0,
            "orientation": "horizontal",
            "style": "IPY_MODEL_2b74003540714171a20cd47dfbab0a72",
            "value": 2
          }
        },
        "ec4f6f95050b4e72b07541b8b21cfa86": {
          "model_module": "@jupyter-widgets/controls",
          "model_name": "HTMLModel",
          "model_module_version": "1.5.0",
          "state": {
            "_dom_classes": [],
            "_model_module": "@jupyter-widgets/controls",
            "_model_module_version": "1.5.0",
            "_model_name": "HTMLModel",
            "_view_count": null,
            "_view_module": "@jupyter-widgets/controls",
            "_view_module_version": "1.5.0",
            "_view_name": "HTMLView",
            "description": "",
            "description_tooltip": null,
            "layout": "IPY_MODEL_806307534eba4a1a85543bc379090eb5",
            "placeholder": "​",
            "style": "IPY_MODEL_669d3f28adf44127b3fa91f8bbabd35a",
            "value": " 2/2 [00:00&lt;00:00, 54.07it/s]"
          }
        },
        "3c45f7b7723b4b22b4195a6194af5339": {
          "model_module": "@jupyter-widgets/base",
          "model_name": "LayoutModel",
          "model_module_version": "1.2.0",
          "state": {
            "_model_module": "@jupyter-widgets/base",
            "_model_module_version": "1.2.0",
            "_model_name": "LayoutModel",
            "_view_count": null,
            "_view_module": "@jupyter-widgets/base",
            "_view_module_version": "1.2.0",
            "_view_name": "LayoutView",
            "align_content": null,
            "align_items": null,
            "align_self": null,
            "border": null,
            "bottom": null,
            "display": null,
            "flex": null,
            "flex_flow": null,
            "grid_area": null,
            "grid_auto_columns": null,
            "grid_auto_flow": null,
            "grid_auto_rows": null,
            "grid_column": null,
            "grid_gap": null,
            "grid_row": null,
            "grid_template_areas": null,
            "grid_template_columns": null,
            "grid_template_rows": null,
            "height": null,
            "justify_content": null,
            "justify_items": null,
            "left": null,
            "margin": null,
            "max_height": null,
            "max_width": null,
            "min_height": null,
            "min_width": null,
            "object_fit": null,
            "object_position": null,
            "order": null,
            "overflow": null,
            "overflow_x": null,
            "overflow_y": null,
            "padding": null,
            "right": null,
            "top": null,
            "visibility": null,
            "width": null
          }
        },
        "bb2a69dc251f456c81d2d3a3299c193a": {
          "model_module": "@jupyter-widgets/base",
          "model_name": "LayoutModel",
          "model_module_version": "1.2.0",
          "state": {
            "_model_module": "@jupyter-widgets/base",
            "_model_module_version": "1.2.0",
            "_model_name": "LayoutModel",
            "_view_count": null,
            "_view_module": "@jupyter-widgets/base",
            "_view_module_version": "1.2.0",
            "_view_name": "LayoutView",
            "align_content": null,
            "align_items": null,
            "align_self": null,
            "border": null,
            "bottom": null,
            "display": null,
            "flex": null,
            "flex_flow": null,
            "grid_area": null,
            "grid_auto_columns": null,
            "grid_auto_flow": null,
            "grid_auto_rows": null,
            "grid_column": null,
            "grid_gap": null,
            "grid_row": null,
            "grid_template_areas": null,
            "grid_template_columns": null,
            "grid_template_rows": null,
            "height": null,
            "justify_content": null,
            "justify_items": null,
            "left": null,
            "margin": null,
            "max_height": null,
            "max_width": null,
            "min_height": null,
            "min_width": null,
            "object_fit": null,
            "object_position": null,
            "order": null,
            "overflow": null,
            "overflow_x": null,
            "overflow_y": null,
            "padding": null,
            "right": null,
            "top": null,
            "visibility": null,
            "width": null
          }
        },
        "683083291ede47569e0d2f3e6d6dcbc2": {
          "model_module": "@jupyter-widgets/controls",
          "model_name": "DescriptionStyleModel",
          "model_module_version": "1.5.0",
          "state": {
            "_model_module": "@jupyter-widgets/controls",
            "_model_module_version": "1.5.0",
            "_model_name": "DescriptionStyleModel",
            "_view_count": null,
            "_view_module": "@jupyter-widgets/base",
            "_view_module_version": "1.2.0",
            "_view_name": "StyleView",
            "description_width": ""
          }
        },
        "22cb19f3b1194351b51236967f653940": {
          "model_module": "@jupyter-widgets/base",
          "model_name": "LayoutModel",
          "model_module_version": "1.2.0",
          "state": {
            "_model_module": "@jupyter-widgets/base",
            "_model_module_version": "1.2.0",
            "_model_name": "LayoutModel",
            "_view_count": null,
            "_view_module": "@jupyter-widgets/base",
            "_view_module_version": "1.2.0",
            "_view_name": "LayoutView",
            "align_content": null,
            "align_items": null,
            "align_self": null,
            "border": null,
            "bottom": null,
            "display": null,
            "flex": null,
            "flex_flow": null,
            "grid_area": null,
            "grid_auto_columns": null,
            "grid_auto_flow": null,
            "grid_auto_rows": null,
            "grid_column": null,
            "grid_gap": null,
            "grid_row": null,
            "grid_template_areas": null,
            "grid_template_columns": null,
            "grid_template_rows": null,
            "height": null,
            "justify_content": null,
            "justify_items": null,
            "left": null,
            "margin": null,
            "max_height": null,
            "max_width": null,
            "min_height": null,
            "min_width": null,
            "object_fit": null,
            "object_position": null,
            "order": null,
            "overflow": null,
            "overflow_x": null,
            "overflow_y": null,
            "padding": null,
            "right": null,
            "top": null,
            "visibility": null,
            "width": null
          }
        },
        "2b74003540714171a20cd47dfbab0a72": {
          "model_module": "@jupyter-widgets/controls",
          "model_name": "ProgressStyleModel",
          "model_module_version": "1.5.0",
          "state": {
            "_model_module": "@jupyter-widgets/controls",
            "_model_module_version": "1.5.0",
            "_model_name": "ProgressStyleModel",
            "_view_count": null,
            "_view_module": "@jupyter-widgets/base",
            "_view_module_version": "1.2.0",
            "_view_name": "StyleView",
            "bar_color": null,
            "description_width": ""
          }
        },
        "806307534eba4a1a85543bc379090eb5": {
          "model_module": "@jupyter-widgets/base",
          "model_name": "LayoutModel",
          "model_module_version": "1.2.0",
          "state": {
            "_model_module": "@jupyter-widgets/base",
            "_model_module_version": "1.2.0",
            "_model_name": "LayoutModel",
            "_view_count": null,
            "_view_module": "@jupyter-widgets/base",
            "_view_module_version": "1.2.0",
            "_view_name": "LayoutView",
            "align_content": null,
            "align_items": null,
            "align_self": null,
            "border": null,
            "bottom": null,
            "display": null,
            "flex": null,
            "flex_flow": null,
            "grid_area": null,
            "grid_auto_columns": null,
            "grid_auto_flow": null,
            "grid_auto_rows": null,
            "grid_column": null,
            "grid_gap": null,
            "grid_row": null,
            "grid_template_areas": null,
            "grid_template_columns": null,
            "grid_template_rows": null,
            "height": null,
            "justify_content": null,
            "justify_items": null,
            "left": null,
            "margin": null,
            "max_height": null,
            "max_width": null,
            "min_height": null,
            "min_width": null,
            "object_fit": null,
            "object_position": null,
            "order": null,
            "overflow": null,
            "overflow_x": null,
            "overflow_y": null,
            "padding": null,
            "right": null,
            "top": null,
            "visibility": null,
            "width": null
          }
        },
        "669d3f28adf44127b3fa91f8bbabd35a": {
          "model_module": "@jupyter-widgets/controls",
          "model_name": "DescriptionStyleModel",
          "model_module_version": "1.5.0",
          "state": {
            "_model_module": "@jupyter-widgets/controls",
            "_model_module_version": "1.5.0",
            "_model_name": "DescriptionStyleModel",
            "_view_count": null,
            "_view_module": "@jupyter-widgets/base",
            "_view_module_version": "1.2.0",
            "_view_name": "StyleView",
            "description_width": ""
          }
        },
        "a5101cf2386b463a99defbde61fe628c": {
          "model_module": "@jupyter-widgets/controls",
          "model_name": "HBoxModel",
          "model_module_version": "1.5.0",
          "state": {
            "_dom_classes": [],
            "_model_module": "@jupyter-widgets/controls",
            "_model_module_version": "1.5.0",
            "_model_name": "HBoxModel",
            "_view_count": null,
            "_view_module": "@jupyter-widgets/controls",
            "_view_module_version": "1.5.0",
            "_view_name": "HBoxView",
            "box_style": "",
            "children": [
              "IPY_MODEL_d0a06bdbdda74c668dd16e67a4aa6827",
              "IPY_MODEL_82a216916e6c4a5d8f8e68c62f18fe43",
              "IPY_MODEL_e308ccae8a3344e7a60c9e1eab8e440d"
            ],
            "layout": "IPY_MODEL_a80f9d3e89654d14be6ed35ad8d5e4b2"
          }
        },
        "d0a06bdbdda74c668dd16e67a4aa6827": {
          "model_module": "@jupyter-widgets/controls",
          "model_name": "HTMLModel",
          "model_module_version": "1.5.0",
          "state": {
            "_dom_classes": [],
            "_model_module": "@jupyter-widgets/controls",
            "_model_module_version": "1.5.0",
            "_model_name": "HTMLModel",
            "_view_count": null,
            "_view_module": "@jupyter-widgets/controls",
            "_view_module_version": "1.5.0",
            "_view_name": "HTMLView",
            "description": "",
            "description_tooltip": null,
            "layout": "IPY_MODEL_db5c4399e87f4eb3a5c07a813290ef21",
            "placeholder": "​",
            "style": "IPY_MODEL_7d9e2825a15c4363aa13ac0abaa3cff9",
            "value": "Map: 100%"
          }
        },
        "82a216916e6c4a5d8f8e68c62f18fe43": {
          "model_module": "@jupyter-widgets/controls",
          "model_name": "FloatProgressModel",
          "model_module_version": "1.5.0",
          "state": {
            "_dom_classes": [],
            "_model_module": "@jupyter-widgets/controls",
            "_model_module_version": "1.5.0",
            "_model_name": "FloatProgressModel",
            "_view_count": null,
            "_view_module": "@jupyter-widgets/controls",
            "_view_module_version": "1.5.0",
            "_view_name": "ProgressView",
            "bar_style": "",
            "description": "",
            "description_tooltip": null,
            "layout": "IPY_MODEL_f9b270fba5f9427ab6b9cf4494fed8f0",
            "max": 4906,
            "min": 0,
            "orientation": "horizontal",
            "style": "IPY_MODEL_a65cd4f41e2f4201aeb5f87a8db9a345",
            "value": 4906
          }
        },
        "e308ccae8a3344e7a60c9e1eab8e440d": {
          "model_module": "@jupyter-widgets/controls",
          "model_name": "HTMLModel",
          "model_module_version": "1.5.0",
          "state": {
            "_dom_classes": [],
            "_model_module": "@jupyter-widgets/controls",
            "_model_module_version": "1.5.0",
            "_model_name": "HTMLModel",
            "_view_count": null,
            "_view_module": "@jupyter-widgets/controls",
            "_view_module_version": "1.5.0",
            "_view_name": "HTMLView",
            "description": "",
            "description_tooltip": null,
            "layout": "IPY_MODEL_66d60d1244ae4cd5b57cb1a46890d431",
            "placeholder": "​",
            "style": "IPY_MODEL_1783510d0e114b2394e5c9168558b83e",
            "value": " 4906/4906 [00:01&lt;00:00, 3856.85 examples/s]"
          }
        },
        "a80f9d3e89654d14be6ed35ad8d5e4b2": {
          "model_module": "@jupyter-widgets/base",
          "model_name": "LayoutModel",
          "model_module_version": "1.2.0",
          "state": {
            "_model_module": "@jupyter-widgets/base",
            "_model_module_version": "1.2.0",
            "_model_name": "LayoutModel",
            "_view_count": null,
            "_view_module": "@jupyter-widgets/base",
            "_view_module_version": "1.2.0",
            "_view_name": "LayoutView",
            "align_content": null,
            "align_items": null,
            "align_self": null,
            "border": null,
            "bottom": null,
            "display": null,
            "flex": null,
            "flex_flow": null,
            "grid_area": null,
            "grid_auto_columns": null,
            "grid_auto_flow": null,
            "grid_auto_rows": null,
            "grid_column": null,
            "grid_gap": null,
            "grid_row": null,
            "grid_template_areas": null,
            "grid_template_columns": null,
            "grid_template_rows": null,
            "height": null,
            "justify_content": null,
            "justify_items": null,
            "left": null,
            "margin": null,
            "max_height": null,
            "max_width": null,
            "min_height": null,
            "min_width": null,
            "object_fit": null,
            "object_position": null,
            "order": null,
            "overflow": null,
            "overflow_x": null,
            "overflow_y": null,
            "padding": null,
            "right": null,
            "top": null,
            "visibility": "hidden",
            "width": null
          }
        },
        "db5c4399e87f4eb3a5c07a813290ef21": {
          "model_module": "@jupyter-widgets/base",
          "model_name": "LayoutModel",
          "model_module_version": "1.2.0",
          "state": {
            "_model_module": "@jupyter-widgets/base",
            "_model_module_version": "1.2.0",
            "_model_name": "LayoutModel",
            "_view_count": null,
            "_view_module": "@jupyter-widgets/base",
            "_view_module_version": "1.2.0",
            "_view_name": "LayoutView",
            "align_content": null,
            "align_items": null,
            "align_self": null,
            "border": null,
            "bottom": null,
            "display": null,
            "flex": null,
            "flex_flow": null,
            "grid_area": null,
            "grid_auto_columns": null,
            "grid_auto_flow": null,
            "grid_auto_rows": null,
            "grid_column": null,
            "grid_gap": null,
            "grid_row": null,
            "grid_template_areas": null,
            "grid_template_columns": null,
            "grid_template_rows": null,
            "height": null,
            "justify_content": null,
            "justify_items": null,
            "left": null,
            "margin": null,
            "max_height": null,
            "max_width": null,
            "min_height": null,
            "min_width": null,
            "object_fit": null,
            "object_position": null,
            "order": null,
            "overflow": null,
            "overflow_x": null,
            "overflow_y": null,
            "padding": null,
            "right": null,
            "top": null,
            "visibility": null,
            "width": null
          }
        },
        "7d9e2825a15c4363aa13ac0abaa3cff9": {
          "model_module": "@jupyter-widgets/controls",
          "model_name": "DescriptionStyleModel",
          "model_module_version": "1.5.0",
          "state": {
            "_model_module": "@jupyter-widgets/controls",
            "_model_module_version": "1.5.0",
            "_model_name": "DescriptionStyleModel",
            "_view_count": null,
            "_view_module": "@jupyter-widgets/base",
            "_view_module_version": "1.2.0",
            "_view_name": "StyleView",
            "description_width": ""
          }
        },
        "f9b270fba5f9427ab6b9cf4494fed8f0": {
          "model_module": "@jupyter-widgets/base",
          "model_name": "LayoutModel",
          "model_module_version": "1.2.0",
          "state": {
            "_model_module": "@jupyter-widgets/base",
            "_model_module_version": "1.2.0",
            "_model_name": "LayoutModel",
            "_view_count": null,
            "_view_module": "@jupyter-widgets/base",
            "_view_module_version": "1.2.0",
            "_view_name": "LayoutView",
            "align_content": null,
            "align_items": null,
            "align_self": null,
            "border": null,
            "bottom": null,
            "display": null,
            "flex": null,
            "flex_flow": null,
            "grid_area": null,
            "grid_auto_columns": null,
            "grid_auto_flow": null,
            "grid_auto_rows": null,
            "grid_column": null,
            "grid_gap": null,
            "grid_row": null,
            "grid_template_areas": null,
            "grid_template_columns": null,
            "grid_template_rows": null,
            "height": null,
            "justify_content": null,
            "justify_items": null,
            "left": null,
            "margin": null,
            "max_height": null,
            "max_width": null,
            "min_height": null,
            "min_width": null,
            "object_fit": null,
            "object_position": null,
            "order": null,
            "overflow": null,
            "overflow_x": null,
            "overflow_y": null,
            "padding": null,
            "right": null,
            "top": null,
            "visibility": null,
            "width": null
          }
        },
        "a65cd4f41e2f4201aeb5f87a8db9a345": {
          "model_module": "@jupyter-widgets/controls",
          "model_name": "ProgressStyleModel",
          "model_module_version": "1.5.0",
          "state": {
            "_model_module": "@jupyter-widgets/controls",
            "_model_module_version": "1.5.0",
            "_model_name": "ProgressStyleModel",
            "_view_count": null,
            "_view_module": "@jupyter-widgets/base",
            "_view_module_version": "1.2.0",
            "_view_name": "StyleView",
            "bar_color": null,
            "description_width": ""
          }
        },
        "66d60d1244ae4cd5b57cb1a46890d431": {
          "model_module": "@jupyter-widgets/base",
          "model_name": "LayoutModel",
          "model_module_version": "1.2.0",
          "state": {
            "_model_module": "@jupyter-widgets/base",
            "_model_module_version": "1.2.0",
            "_model_name": "LayoutModel",
            "_view_count": null,
            "_view_module": "@jupyter-widgets/base",
            "_view_module_version": "1.2.0",
            "_view_name": "LayoutView",
            "align_content": null,
            "align_items": null,
            "align_self": null,
            "border": null,
            "bottom": null,
            "display": null,
            "flex": null,
            "flex_flow": null,
            "grid_area": null,
            "grid_auto_columns": null,
            "grid_auto_flow": null,
            "grid_auto_rows": null,
            "grid_column": null,
            "grid_gap": null,
            "grid_row": null,
            "grid_template_areas": null,
            "grid_template_columns": null,
            "grid_template_rows": null,
            "height": null,
            "justify_content": null,
            "justify_items": null,
            "left": null,
            "margin": null,
            "max_height": null,
            "max_width": null,
            "min_height": null,
            "min_width": null,
            "object_fit": null,
            "object_position": null,
            "order": null,
            "overflow": null,
            "overflow_x": null,
            "overflow_y": null,
            "padding": null,
            "right": null,
            "top": null,
            "visibility": null,
            "width": null
          }
        },
        "1783510d0e114b2394e5c9168558b83e": {
          "model_module": "@jupyter-widgets/controls",
          "model_name": "DescriptionStyleModel",
          "model_module_version": "1.5.0",
          "state": {
            "_model_module": "@jupyter-widgets/controls",
            "_model_module_version": "1.5.0",
            "_model_name": "DescriptionStyleModel",
            "_view_count": null,
            "_view_module": "@jupyter-widgets/base",
            "_view_module_version": "1.2.0",
            "_view_name": "StyleView",
            "description_width": ""
          }
        },
        "7e539aef5bad41deacc83d369a96e142": {
          "model_module": "@jupyter-widgets/controls",
          "model_name": "HBoxModel",
          "model_module_version": "1.5.0",
          "state": {
            "_dom_classes": [],
            "_model_module": "@jupyter-widgets/controls",
            "_model_module_version": "1.5.0",
            "_model_name": "HBoxModel",
            "_view_count": null,
            "_view_module": "@jupyter-widgets/controls",
            "_view_module_version": "1.5.0",
            "_view_name": "HBoxView",
            "box_style": "",
            "children": [
              "IPY_MODEL_5f4396a45a68485ca673dc4c777d93d8",
              "IPY_MODEL_1b4feeeaf3af4ee9bcb7399880eb3d86",
              "IPY_MODEL_648d72f4140e4b42b6622c801364dc9b"
            ],
            "layout": "IPY_MODEL_9b8efce82ea14b5ba80455302d4ef80f"
          }
        },
        "5f4396a45a68485ca673dc4c777d93d8": {
          "model_module": "@jupyter-widgets/controls",
          "model_name": "HTMLModel",
          "model_module_version": "1.5.0",
          "state": {
            "_dom_classes": [],
            "_model_module": "@jupyter-widgets/controls",
            "_model_module_version": "1.5.0",
            "_model_name": "HTMLModel",
            "_view_count": null,
            "_view_module": "@jupyter-widgets/controls",
            "_view_module_version": "1.5.0",
            "_view_name": "HTMLView",
            "description": "",
            "description_tooltip": null,
            "layout": "IPY_MODEL_04c91522e86f44e19e41dbd62322d4f3",
            "placeholder": "​",
            "style": "IPY_MODEL_56e4700e7500486cb15c80bbfa270d02",
            "value": "Map: 100%"
          }
        },
        "1b4feeeaf3af4ee9bcb7399880eb3d86": {
          "model_module": "@jupyter-widgets/controls",
          "model_name": "FloatProgressModel",
          "model_module_version": "1.5.0",
          "state": {
            "_dom_classes": [],
            "_model_module": "@jupyter-widgets/controls",
            "_model_module_version": "1.5.0",
            "_model_name": "FloatProgressModel",
            "_view_count": null,
            "_view_module": "@jupyter-widgets/controls",
            "_view_module_version": "1.5.0",
            "_view_name": "ProgressView",
            "bar_style": "",
            "description": "",
            "description_tooltip": null,
            "layout": "IPY_MODEL_2dcdf5c8b81c43eba586ccb7c22d3315",
            "max": 546,
            "min": 0,
            "orientation": "horizontal",
            "style": "IPY_MODEL_9246a9fabcbf40fbb61ee57eb86f429e",
            "value": 546
          }
        },
        "648d72f4140e4b42b6622c801364dc9b": {
          "model_module": "@jupyter-widgets/controls",
          "model_name": "HTMLModel",
          "model_module_version": "1.5.0",
          "state": {
            "_dom_classes": [],
            "_model_module": "@jupyter-widgets/controls",
            "_model_module_version": "1.5.0",
            "_model_name": "HTMLModel",
            "_view_count": null,
            "_view_module": "@jupyter-widgets/controls",
            "_view_module_version": "1.5.0",
            "_view_name": "HTMLView",
            "description": "",
            "description_tooltip": null,
            "layout": "IPY_MODEL_f0565f5407ce47e9bdffa2e593cec5bd",
            "placeholder": "​",
            "style": "IPY_MODEL_341475982dfa4f0b92a83853d653183f",
            "value": " 546/546 [00:00&lt;00:00, 2881.70 examples/s]"
          }
        },
        "9b8efce82ea14b5ba80455302d4ef80f": {
          "model_module": "@jupyter-widgets/base",
          "model_name": "LayoutModel",
          "model_module_version": "1.2.0",
          "state": {
            "_model_module": "@jupyter-widgets/base",
            "_model_module_version": "1.2.0",
            "_model_name": "LayoutModel",
            "_view_count": null,
            "_view_module": "@jupyter-widgets/base",
            "_view_module_version": "1.2.0",
            "_view_name": "LayoutView",
            "align_content": null,
            "align_items": null,
            "align_self": null,
            "border": null,
            "bottom": null,
            "display": null,
            "flex": null,
            "flex_flow": null,
            "grid_area": null,
            "grid_auto_columns": null,
            "grid_auto_flow": null,
            "grid_auto_rows": null,
            "grid_column": null,
            "grid_gap": null,
            "grid_row": null,
            "grid_template_areas": null,
            "grid_template_columns": null,
            "grid_template_rows": null,
            "height": null,
            "justify_content": null,
            "justify_items": null,
            "left": null,
            "margin": null,
            "max_height": null,
            "max_width": null,
            "min_height": null,
            "min_width": null,
            "object_fit": null,
            "object_position": null,
            "order": null,
            "overflow": null,
            "overflow_x": null,
            "overflow_y": null,
            "padding": null,
            "right": null,
            "top": null,
            "visibility": "hidden",
            "width": null
          }
        },
        "04c91522e86f44e19e41dbd62322d4f3": {
          "model_module": "@jupyter-widgets/base",
          "model_name": "LayoutModel",
          "model_module_version": "1.2.0",
          "state": {
            "_model_module": "@jupyter-widgets/base",
            "_model_module_version": "1.2.0",
            "_model_name": "LayoutModel",
            "_view_count": null,
            "_view_module": "@jupyter-widgets/base",
            "_view_module_version": "1.2.0",
            "_view_name": "LayoutView",
            "align_content": null,
            "align_items": null,
            "align_self": null,
            "border": null,
            "bottom": null,
            "display": null,
            "flex": null,
            "flex_flow": null,
            "grid_area": null,
            "grid_auto_columns": null,
            "grid_auto_flow": null,
            "grid_auto_rows": null,
            "grid_column": null,
            "grid_gap": null,
            "grid_row": null,
            "grid_template_areas": null,
            "grid_template_columns": null,
            "grid_template_rows": null,
            "height": null,
            "justify_content": null,
            "justify_items": null,
            "left": null,
            "margin": null,
            "max_height": null,
            "max_width": null,
            "min_height": null,
            "min_width": null,
            "object_fit": null,
            "object_position": null,
            "order": null,
            "overflow": null,
            "overflow_x": null,
            "overflow_y": null,
            "padding": null,
            "right": null,
            "top": null,
            "visibility": null,
            "width": null
          }
        },
        "56e4700e7500486cb15c80bbfa270d02": {
          "model_module": "@jupyter-widgets/controls",
          "model_name": "DescriptionStyleModel",
          "model_module_version": "1.5.0",
          "state": {
            "_model_module": "@jupyter-widgets/controls",
            "_model_module_version": "1.5.0",
            "_model_name": "DescriptionStyleModel",
            "_view_count": null,
            "_view_module": "@jupyter-widgets/base",
            "_view_module_version": "1.2.0",
            "_view_name": "StyleView",
            "description_width": ""
          }
        },
        "2dcdf5c8b81c43eba586ccb7c22d3315": {
          "model_module": "@jupyter-widgets/base",
          "model_name": "LayoutModel",
          "model_module_version": "1.2.0",
          "state": {
            "_model_module": "@jupyter-widgets/base",
            "_model_module_version": "1.2.0",
            "_model_name": "LayoutModel",
            "_view_count": null,
            "_view_module": "@jupyter-widgets/base",
            "_view_module_version": "1.2.0",
            "_view_name": "LayoutView",
            "align_content": null,
            "align_items": null,
            "align_self": null,
            "border": null,
            "bottom": null,
            "display": null,
            "flex": null,
            "flex_flow": null,
            "grid_area": null,
            "grid_auto_columns": null,
            "grid_auto_flow": null,
            "grid_auto_rows": null,
            "grid_column": null,
            "grid_gap": null,
            "grid_row": null,
            "grid_template_areas": null,
            "grid_template_columns": null,
            "grid_template_rows": null,
            "height": null,
            "justify_content": null,
            "justify_items": null,
            "left": null,
            "margin": null,
            "max_height": null,
            "max_width": null,
            "min_height": null,
            "min_width": null,
            "object_fit": null,
            "object_position": null,
            "order": null,
            "overflow": null,
            "overflow_x": null,
            "overflow_y": null,
            "padding": null,
            "right": null,
            "top": null,
            "visibility": null,
            "width": null
          }
        },
        "9246a9fabcbf40fbb61ee57eb86f429e": {
          "model_module": "@jupyter-widgets/controls",
          "model_name": "ProgressStyleModel",
          "model_module_version": "1.5.0",
          "state": {
            "_model_module": "@jupyter-widgets/controls",
            "_model_module_version": "1.5.0",
            "_model_name": "ProgressStyleModel",
            "_view_count": null,
            "_view_module": "@jupyter-widgets/base",
            "_view_module_version": "1.2.0",
            "_view_name": "StyleView",
            "bar_color": null,
            "description_width": ""
          }
        },
        "f0565f5407ce47e9bdffa2e593cec5bd": {
          "model_module": "@jupyter-widgets/base",
          "model_name": "LayoutModel",
          "model_module_version": "1.2.0",
          "state": {
            "_model_module": "@jupyter-widgets/base",
            "_model_module_version": "1.2.0",
            "_model_name": "LayoutModel",
            "_view_count": null,
            "_view_module": "@jupyter-widgets/base",
            "_view_module_version": "1.2.0",
            "_view_name": "LayoutView",
            "align_content": null,
            "align_items": null,
            "align_self": null,
            "border": null,
            "bottom": null,
            "display": null,
            "flex": null,
            "flex_flow": null,
            "grid_area": null,
            "grid_auto_columns": null,
            "grid_auto_flow": null,
            "grid_auto_rows": null,
            "grid_column": null,
            "grid_gap": null,
            "grid_row": null,
            "grid_template_areas": null,
            "grid_template_columns": null,
            "grid_template_rows": null,
            "height": null,
            "justify_content": null,
            "justify_items": null,
            "left": null,
            "margin": null,
            "max_height": null,
            "max_width": null,
            "min_height": null,
            "min_width": null,
            "object_fit": null,
            "object_position": null,
            "order": null,
            "overflow": null,
            "overflow_x": null,
            "overflow_y": null,
            "padding": null,
            "right": null,
            "top": null,
            "visibility": null,
            "width": null
          }
        },
        "341475982dfa4f0b92a83853d653183f": {
          "model_module": "@jupyter-widgets/controls",
          "model_name": "DescriptionStyleModel",
          "model_module_version": "1.5.0",
          "state": {
            "_model_module": "@jupyter-widgets/controls",
            "_model_module_version": "1.5.0",
            "_model_name": "DescriptionStyleModel",
            "_view_count": null,
            "_view_module": "@jupyter-widgets/base",
            "_view_module_version": "1.2.0",
            "_view_name": "StyleView",
            "description_width": ""
          }
        }
      }
    }
  },
  "nbformat": 4,
  "nbformat_minor": 0
}