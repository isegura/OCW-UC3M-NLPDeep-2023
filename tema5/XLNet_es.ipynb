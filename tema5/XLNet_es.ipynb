{
  "nbformat": 4,
  "nbformat_minor": 0,
  "metadata": {
    "colab": {
      "provenance": [],
      "toc_visible": true
    },
    "kernelspec": {
      "name": "python3",
      "display_name": "Python 3"
    },
    "language_info": {
      "name": "python"
    },
    "accelerator": "GPU",
    "widgets": {
      "application/vnd.jupyter.widget-state+json": {
        "60095821429843adad2561165aba523d": {
          "model_module": "@jupyter-widgets/controls",
          "model_name": "HBoxModel",
          "model_module_version": "1.5.0",
          "state": {
            "_dom_classes": [],
            "_model_module": "@jupyter-widgets/controls",
            "_model_module_version": "1.5.0",
            "_model_name": "HBoxModel",
            "_view_count": null,
            "_view_module": "@jupyter-widgets/controls",
            "_view_module_version": "1.5.0",
            "_view_name": "HBoxView",
            "box_style": "",
            "children": [
              "IPY_MODEL_05f0e67845c641e0a5f9b4d83971eff3",
              "IPY_MODEL_d25b40b10c6e49e2bfeaa7d494930218",
              "IPY_MODEL_14ecda9003424863bc2ff3fb0353eeda"
            ],
            "layout": "IPY_MODEL_0d5ba19aefc54623af40172d9933e6a2"
          }
        },
        "05f0e67845c641e0a5f9b4d83971eff3": {
          "model_module": "@jupyter-widgets/controls",
          "model_name": "HTMLModel",
          "model_module_version": "1.5.0",
          "state": {
            "_dom_classes": [],
            "_model_module": "@jupyter-widgets/controls",
            "_model_module_version": "1.5.0",
            "_model_name": "HTMLModel",
            "_view_count": null,
            "_view_module": "@jupyter-widgets/controls",
            "_view_module_version": "1.5.0",
            "_view_name": "HTMLView",
            "description": "",
            "description_tooltip": null,
            "layout": "IPY_MODEL_702caecb47af411bb8ff3f4e2b3555aa",
            "placeholder": "​",
            "style": "IPY_MODEL_9a85c88bc4cf4ebf8c24ee890377f6ca",
            "value": "Downloading (…)ve/main/spiece.model: 100%"
          }
        },
        "d25b40b10c6e49e2bfeaa7d494930218": {
          "model_module": "@jupyter-widgets/controls",
          "model_name": "FloatProgressModel",
          "model_module_version": "1.5.0",
          "state": {
            "_dom_classes": [],
            "_model_module": "@jupyter-widgets/controls",
            "_model_module_version": "1.5.0",
            "_model_name": "FloatProgressModel",
            "_view_count": null,
            "_view_module": "@jupyter-widgets/controls",
            "_view_module_version": "1.5.0",
            "_view_name": "ProgressView",
            "bar_style": "success",
            "description": "",
            "description_tooltip": null,
            "layout": "IPY_MODEL_d0bc737dc02e43259be4bf4ad30f2100",
            "max": 798011,
            "min": 0,
            "orientation": "horizontal",
            "style": "IPY_MODEL_cb567678756b4614b8c2b327bd4075a1",
            "value": 798011
          }
        },
        "14ecda9003424863bc2ff3fb0353eeda": {
          "model_module": "@jupyter-widgets/controls",
          "model_name": "HTMLModel",
          "model_module_version": "1.5.0",
          "state": {
            "_dom_classes": [],
            "_model_module": "@jupyter-widgets/controls",
            "_model_module_version": "1.5.0",
            "_model_name": "HTMLModel",
            "_view_count": null,
            "_view_module": "@jupyter-widgets/controls",
            "_view_module_version": "1.5.0",
            "_view_name": "HTMLView",
            "description": "",
            "description_tooltip": null,
            "layout": "IPY_MODEL_dee7420d9ebd46e2acb7fdddca2aa9e3",
            "placeholder": "​",
            "style": "IPY_MODEL_46e7cf302c444be6b6aa6438b16715d4",
            "value": " 798k/798k [00:00&lt;00:00, 4.43MB/s]"
          }
        },
        "0d5ba19aefc54623af40172d9933e6a2": {
          "model_module": "@jupyter-widgets/base",
          "model_name": "LayoutModel",
          "model_module_version": "1.2.0",
          "state": {
            "_model_module": "@jupyter-widgets/base",
            "_model_module_version": "1.2.0",
            "_model_name": "LayoutModel",
            "_view_count": null,
            "_view_module": "@jupyter-widgets/base",
            "_view_module_version": "1.2.0",
            "_view_name": "LayoutView",
            "align_content": null,
            "align_items": null,
            "align_self": null,
            "border": null,
            "bottom": null,
            "display": null,
            "flex": null,
            "flex_flow": null,
            "grid_area": null,
            "grid_auto_columns": null,
            "grid_auto_flow": null,
            "grid_auto_rows": null,
            "grid_column": null,
            "grid_gap": null,
            "grid_row": null,
            "grid_template_areas": null,
            "grid_template_columns": null,
            "grid_template_rows": null,
            "height": null,
            "justify_content": null,
            "justify_items": null,
            "left": null,
            "margin": null,
            "max_height": null,
            "max_width": null,
            "min_height": null,
            "min_width": null,
            "object_fit": null,
            "object_position": null,
            "order": null,
            "overflow": null,
            "overflow_x": null,
            "overflow_y": null,
            "padding": null,
            "right": null,
            "top": null,
            "visibility": null,
            "width": null
          }
        },
        "702caecb47af411bb8ff3f4e2b3555aa": {
          "model_module": "@jupyter-widgets/base",
          "model_name": "LayoutModel",
          "model_module_version": "1.2.0",
          "state": {
            "_model_module": "@jupyter-widgets/base",
            "_model_module_version": "1.2.0",
            "_model_name": "LayoutModel",
            "_view_count": null,
            "_view_module": "@jupyter-widgets/base",
            "_view_module_version": "1.2.0",
            "_view_name": "LayoutView",
            "align_content": null,
            "align_items": null,
            "align_self": null,
            "border": null,
            "bottom": null,
            "display": null,
            "flex": null,
            "flex_flow": null,
            "grid_area": null,
            "grid_auto_columns": null,
            "grid_auto_flow": null,
            "grid_auto_rows": null,
            "grid_column": null,
            "grid_gap": null,
            "grid_row": null,
            "grid_template_areas": null,
            "grid_template_columns": null,
            "grid_template_rows": null,
            "height": null,
            "justify_content": null,
            "justify_items": null,
            "left": null,
            "margin": null,
            "max_height": null,
            "max_width": null,
            "min_height": null,
            "min_width": null,
            "object_fit": null,
            "object_position": null,
            "order": null,
            "overflow": null,
            "overflow_x": null,
            "overflow_y": null,
            "padding": null,
            "right": null,
            "top": null,
            "visibility": null,
            "width": null
          }
        },
        "9a85c88bc4cf4ebf8c24ee890377f6ca": {
          "model_module": "@jupyter-widgets/controls",
          "model_name": "DescriptionStyleModel",
          "model_module_version": "1.5.0",
          "state": {
            "_model_module": "@jupyter-widgets/controls",
            "_model_module_version": "1.5.0",
            "_model_name": "DescriptionStyleModel",
            "_view_count": null,
            "_view_module": "@jupyter-widgets/base",
            "_view_module_version": "1.2.0",
            "_view_name": "StyleView",
            "description_width": ""
          }
        },
        "d0bc737dc02e43259be4bf4ad30f2100": {
          "model_module": "@jupyter-widgets/base",
          "model_name": "LayoutModel",
          "model_module_version": "1.2.0",
          "state": {
            "_model_module": "@jupyter-widgets/base",
            "_model_module_version": "1.2.0",
            "_model_name": "LayoutModel",
            "_view_count": null,
            "_view_module": "@jupyter-widgets/base",
            "_view_module_version": "1.2.0",
            "_view_name": "LayoutView",
            "align_content": null,
            "align_items": null,
            "align_self": null,
            "border": null,
            "bottom": null,
            "display": null,
            "flex": null,
            "flex_flow": null,
            "grid_area": null,
            "grid_auto_columns": null,
            "grid_auto_flow": null,
            "grid_auto_rows": null,
            "grid_column": null,
            "grid_gap": null,
            "grid_row": null,
            "grid_template_areas": null,
            "grid_template_columns": null,
            "grid_template_rows": null,
            "height": null,
            "justify_content": null,
            "justify_items": null,
            "left": null,
            "margin": null,
            "max_height": null,
            "max_width": null,
            "min_height": null,
            "min_width": null,
            "object_fit": null,
            "object_position": null,
            "order": null,
            "overflow": null,
            "overflow_x": null,
            "overflow_y": null,
            "padding": null,
            "right": null,
            "top": null,
            "visibility": null,
            "width": null
          }
        },
        "cb567678756b4614b8c2b327bd4075a1": {
          "model_module": "@jupyter-widgets/controls",
          "model_name": "ProgressStyleModel",
          "model_module_version": "1.5.0",
          "state": {
            "_model_module": "@jupyter-widgets/controls",
            "_model_module_version": "1.5.0",
            "_model_name": "ProgressStyleModel",
            "_view_count": null,
            "_view_module": "@jupyter-widgets/base",
            "_view_module_version": "1.2.0",
            "_view_name": "StyleView",
            "bar_color": null,
            "description_width": ""
          }
        },
        "dee7420d9ebd46e2acb7fdddca2aa9e3": {
          "model_module": "@jupyter-widgets/base",
          "model_name": "LayoutModel",
          "model_module_version": "1.2.0",
          "state": {
            "_model_module": "@jupyter-widgets/base",
            "_model_module_version": "1.2.0",
            "_model_name": "LayoutModel",
            "_view_count": null,
            "_view_module": "@jupyter-widgets/base",
            "_view_module_version": "1.2.0",
            "_view_name": "LayoutView",
            "align_content": null,
            "align_items": null,
            "align_self": null,
            "border": null,
            "bottom": null,
            "display": null,
            "flex": null,
            "flex_flow": null,
            "grid_area": null,
            "grid_auto_columns": null,
            "grid_auto_flow": null,
            "grid_auto_rows": null,
            "grid_column": null,
            "grid_gap": null,
            "grid_row": null,
            "grid_template_areas": null,
            "grid_template_columns": null,
            "grid_template_rows": null,
            "height": null,
            "justify_content": null,
            "justify_items": null,
            "left": null,
            "margin": null,
            "max_height": null,
            "max_width": null,
            "min_height": null,
            "min_width": null,
            "object_fit": null,
            "object_position": null,
            "order": null,
            "overflow": null,
            "overflow_x": null,
            "overflow_y": null,
            "padding": null,
            "right": null,
            "top": null,
            "visibility": null,
            "width": null
          }
        },
        "46e7cf302c444be6b6aa6438b16715d4": {
          "model_module": "@jupyter-widgets/controls",
          "model_name": "DescriptionStyleModel",
          "model_module_version": "1.5.0",
          "state": {
            "_model_module": "@jupyter-widgets/controls",
            "_model_module_version": "1.5.0",
            "_model_name": "DescriptionStyleModel",
            "_view_count": null,
            "_view_module": "@jupyter-widgets/base",
            "_view_module_version": "1.2.0",
            "_view_name": "StyleView",
            "description_width": ""
          }
        },
        "e52077d67d0d4a53af335a7e8b86efa9": {
          "model_module": "@jupyter-widgets/controls",
          "model_name": "HBoxModel",
          "model_module_version": "1.5.0",
          "state": {
            "_dom_classes": [],
            "_model_module": "@jupyter-widgets/controls",
            "_model_module_version": "1.5.0",
            "_model_name": "HBoxModel",
            "_view_count": null,
            "_view_module": "@jupyter-widgets/controls",
            "_view_module_version": "1.5.0",
            "_view_name": "HBoxView",
            "box_style": "",
            "children": [
              "IPY_MODEL_c64f583d099a4adca9e3406995e37308",
              "IPY_MODEL_06b24cfaf70f4c83aa5b15225103e50c",
              "IPY_MODEL_dcfe33c839774449bd3c5329fb5b24f3"
            ],
            "layout": "IPY_MODEL_bb1f7b2eef8649b3b73b46f4ab62f9d1"
          }
        },
        "c64f583d099a4adca9e3406995e37308": {
          "model_module": "@jupyter-widgets/controls",
          "model_name": "HTMLModel",
          "model_module_version": "1.5.0",
          "state": {
            "_dom_classes": [],
            "_model_module": "@jupyter-widgets/controls",
            "_model_module_version": "1.5.0",
            "_model_name": "HTMLModel",
            "_view_count": null,
            "_view_module": "@jupyter-widgets/controls",
            "_view_module_version": "1.5.0",
            "_view_name": "HTMLView",
            "description": "",
            "description_tooltip": null,
            "layout": "IPY_MODEL_03c36150646c47fba69cc78b5e56817c",
            "placeholder": "​",
            "style": "IPY_MODEL_e795014eafd840c0900364e37167f74a",
            "value": "Downloading (…)lve/main/config.json: 100%"
          }
        },
        "06b24cfaf70f4c83aa5b15225103e50c": {
          "model_module": "@jupyter-widgets/controls",
          "model_name": "FloatProgressModel",
          "model_module_version": "1.5.0",
          "state": {
            "_dom_classes": [],
            "_model_module": "@jupyter-widgets/controls",
            "_model_module_version": "1.5.0",
            "_model_name": "FloatProgressModel",
            "_view_count": null,
            "_view_module": "@jupyter-widgets/controls",
            "_view_module_version": "1.5.0",
            "_view_name": "ProgressView",
            "bar_style": "success",
            "description": "",
            "description_tooltip": null,
            "layout": "IPY_MODEL_9c818078c7a4493dad18ec05f868a20b",
            "max": 760,
            "min": 0,
            "orientation": "horizontal",
            "style": "IPY_MODEL_f976fa45862843fdb308cc4313ebc16c",
            "value": 760
          }
        },
        "dcfe33c839774449bd3c5329fb5b24f3": {
          "model_module": "@jupyter-widgets/controls",
          "model_name": "HTMLModel",
          "model_module_version": "1.5.0",
          "state": {
            "_dom_classes": [],
            "_model_module": "@jupyter-widgets/controls",
            "_model_module_version": "1.5.0",
            "_model_name": "HTMLModel",
            "_view_count": null,
            "_view_module": "@jupyter-widgets/controls",
            "_view_module_version": "1.5.0",
            "_view_name": "HTMLView",
            "description": "",
            "description_tooltip": null,
            "layout": "IPY_MODEL_03efe7d2ecaf4c869347c357bddfe01e",
            "placeholder": "​",
            "style": "IPY_MODEL_993990a623eb4bebb4bb56a67b31c3e6",
            "value": " 760/760 [00:00&lt;00:00, 29.3kB/s]"
          }
        },
        "bb1f7b2eef8649b3b73b46f4ab62f9d1": {
          "model_module": "@jupyter-widgets/base",
          "model_name": "LayoutModel",
          "model_module_version": "1.2.0",
          "state": {
            "_model_module": "@jupyter-widgets/base",
            "_model_module_version": "1.2.0",
            "_model_name": "LayoutModel",
            "_view_count": null,
            "_view_module": "@jupyter-widgets/base",
            "_view_module_version": "1.2.0",
            "_view_name": "LayoutView",
            "align_content": null,
            "align_items": null,
            "align_self": null,
            "border": null,
            "bottom": null,
            "display": null,
            "flex": null,
            "flex_flow": null,
            "grid_area": null,
            "grid_auto_columns": null,
            "grid_auto_flow": null,
            "grid_auto_rows": null,
            "grid_column": null,
            "grid_gap": null,
            "grid_row": null,
            "grid_template_areas": null,
            "grid_template_columns": null,
            "grid_template_rows": null,
            "height": null,
            "justify_content": null,
            "justify_items": null,
            "left": null,
            "margin": null,
            "max_height": null,
            "max_width": null,
            "min_height": null,
            "min_width": null,
            "object_fit": null,
            "object_position": null,
            "order": null,
            "overflow": null,
            "overflow_x": null,
            "overflow_y": null,
            "padding": null,
            "right": null,
            "top": null,
            "visibility": null,
            "width": null
          }
        },
        "03c36150646c47fba69cc78b5e56817c": {
          "model_module": "@jupyter-widgets/base",
          "model_name": "LayoutModel",
          "model_module_version": "1.2.0",
          "state": {
            "_model_module": "@jupyter-widgets/base",
            "_model_module_version": "1.2.0",
            "_model_name": "LayoutModel",
            "_view_count": null,
            "_view_module": "@jupyter-widgets/base",
            "_view_module_version": "1.2.0",
            "_view_name": "LayoutView",
            "align_content": null,
            "align_items": null,
            "align_self": null,
            "border": null,
            "bottom": null,
            "display": null,
            "flex": null,
            "flex_flow": null,
            "grid_area": null,
            "grid_auto_columns": null,
            "grid_auto_flow": null,
            "grid_auto_rows": null,
            "grid_column": null,
            "grid_gap": null,
            "grid_row": null,
            "grid_template_areas": null,
            "grid_template_columns": null,
            "grid_template_rows": null,
            "height": null,
            "justify_content": null,
            "justify_items": null,
            "left": null,
            "margin": null,
            "max_height": null,
            "max_width": null,
            "min_height": null,
            "min_width": null,
            "object_fit": null,
            "object_position": null,
            "order": null,
            "overflow": null,
            "overflow_x": null,
            "overflow_y": null,
            "padding": null,
            "right": null,
            "top": null,
            "visibility": null,
            "width": null
          }
        },
        "e795014eafd840c0900364e37167f74a": {
          "model_module": "@jupyter-widgets/controls",
          "model_name": "DescriptionStyleModel",
          "model_module_version": "1.5.0",
          "state": {
            "_model_module": "@jupyter-widgets/controls",
            "_model_module_version": "1.5.0",
            "_model_name": "DescriptionStyleModel",
            "_view_count": null,
            "_view_module": "@jupyter-widgets/base",
            "_view_module_version": "1.2.0",
            "_view_name": "StyleView",
            "description_width": ""
          }
        },
        "9c818078c7a4493dad18ec05f868a20b": {
          "model_module": "@jupyter-widgets/base",
          "model_name": "LayoutModel",
          "model_module_version": "1.2.0",
          "state": {
            "_model_module": "@jupyter-widgets/base",
            "_model_module_version": "1.2.0",
            "_model_name": "LayoutModel",
            "_view_count": null,
            "_view_module": "@jupyter-widgets/base",
            "_view_module_version": "1.2.0",
            "_view_name": "LayoutView",
            "align_content": null,
            "align_items": null,
            "align_self": null,
            "border": null,
            "bottom": null,
            "display": null,
            "flex": null,
            "flex_flow": null,
            "grid_area": null,
            "grid_auto_columns": null,
            "grid_auto_flow": null,
            "grid_auto_rows": null,
            "grid_column": null,
            "grid_gap": null,
            "grid_row": null,
            "grid_template_areas": null,
            "grid_template_columns": null,
            "grid_template_rows": null,
            "height": null,
            "justify_content": null,
            "justify_items": null,
            "left": null,
            "margin": null,
            "max_height": null,
            "max_width": null,
            "min_height": null,
            "min_width": null,
            "object_fit": null,
            "object_position": null,
            "order": null,
            "overflow": null,
            "overflow_x": null,
            "overflow_y": null,
            "padding": null,
            "right": null,
            "top": null,
            "visibility": null,
            "width": null
          }
        },
        "f976fa45862843fdb308cc4313ebc16c": {
          "model_module": "@jupyter-widgets/controls",
          "model_name": "ProgressStyleModel",
          "model_module_version": "1.5.0",
          "state": {
            "_model_module": "@jupyter-widgets/controls",
            "_model_module_version": "1.5.0",
            "_model_name": "ProgressStyleModel",
            "_view_count": null,
            "_view_module": "@jupyter-widgets/base",
            "_view_module_version": "1.2.0",
            "_view_name": "StyleView",
            "bar_color": null,
            "description_width": ""
          }
        },
        "03efe7d2ecaf4c869347c357bddfe01e": {
          "model_module": "@jupyter-widgets/base",
          "model_name": "LayoutModel",
          "model_module_version": "1.2.0",
          "state": {
            "_model_module": "@jupyter-widgets/base",
            "_model_module_version": "1.2.0",
            "_model_name": "LayoutModel",
            "_view_count": null,
            "_view_module": "@jupyter-widgets/base",
            "_view_module_version": "1.2.0",
            "_view_name": "LayoutView",
            "align_content": null,
            "align_items": null,
            "align_self": null,
            "border": null,
            "bottom": null,
            "display": null,
            "flex": null,
            "flex_flow": null,
            "grid_area": null,
            "grid_auto_columns": null,
            "grid_auto_flow": null,
            "grid_auto_rows": null,
            "grid_column": null,
            "grid_gap": null,
            "grid_row": null,
            "grid_template_areas": null,
            "grid_template_columns": null,
            "grid_template_rows": null,
            "height": null,
            "justify_content": null,
            "justify_items": null,
            "left": null,
            "margin": null,
            "max_height": null,
            "max_width": null,
            "min_height": null,
            "min_width": null,
            "object_fit": null,
            "object_position": null,
            "order": null,
            "overflow": null,
            "overflow_x": null,
            "overflow_y": null,
            "padding": null,
            "right": null,
            "top": null,
            "visibility": null,
            "width": null
          }
        },
        "993990a623eb4bebb4bb56a67b31c3e6": {
          "model_module": "@jupyter-widgets/controls",
          "model_name": "DescriptionStyleModel",
          "model_module_version": "1.5.0",
          "state": {
            "_model_module": "@jupyter-widgets/controls",
            "_model_module_version": "1.5.0",
            "_model_name": "DescriptionStyleModel",
            "_view_count": null,
            "_view_module": "@jupyter-widgets/base",
            "_view_module_version": "1.2.0",
            "_view_name": "StyleView",
            "description_width": ""
          }
        },
        "b6300a1666ed4b9daae40cdc8e43ede4": {
          "model_module": "@jupyter-widgets/controls",
          "model_name": "HBoxModel",
          "model_module_version": "1.5.0",
          "state": {
            "_dom_classes": [],
            "_model_module": "@jupyter-widgets/controls",
            "_model_module_version": "1.5.0",
            "_model_name": "HBoxModel",
            "_view_count": null,
            "_view_module": "@jupyter-widgets/controls",
            "_view_module_version": "1.5.0",
            "_view_name": "HBoxView",
            "box_style": "",
            "children": [
              "IPY_MODEL_84f526391dd2457db46522a2b40044b3",
              "IPY_MODEL_5f848d66cfdd4c95a4902e4ad117ae51",
              "IPY_MODEL_ddd5344583b946258b6d0d6b86057982"
            ],
            "layout": "IPY_MODEL_8d25ec5a11714bfe9d49e28d64cf99a7"
          }
        },
        "84f526391dd2457db46522a2b40044b3": {
          "model_module": "@jupyter-widgets/controls",
          "model_name": "HTMLModel",
          "model_module_version": "1.5.0",
          "state": {
            "_dom_classes": [],
            "_model_module": "@jupyter-widgets/controls",
            "_model_module_version": "1.5.0",
            "_model_name": "HTMLModel",
            "_view_count": null,
            "_view_module": "@jupyter-widgets/controls",
            "_view_module_version": "1.5.0",
            "_view_name": "HTMLView",
            "description": "",
            "description_tooltip": null,
            "layout": "IPY_MODEL_b0425e4a44c544a29be093bd88b05645",
            "placeholder": "​",
            "style": "IPY_MODEL_1d99da120a0b44429629f8fe14768e3a",
            "value": "Downloading pytorch_model.bin: 100%"
          }
        },
        "5f848d66cfdd4c95a4902e4ad117ae51": {
          "model_module": "@jupyter-widgets/controls",
          "model_name": "FloatProgressModel",
          "model_module_version": "1.5.0",
          "state": {
            "_dom_classes": [],
            "_model_module": "@jupyter-widgets/controls",
            "_model_module_version": "1.5.0",
            "_model_name": "FloatProgressModel",
            "_view_count": null,
            "_view_module": "@jupyter-widgets/controls",
            "_view_module_version": "1.5.0",
            "_view_name": "ProgressView",
            "bar_style": "success",
            "description": "",
            "description_tooltip": null,
            "layout": "IPY_MODEL_35c76a943fe1467ba4a089fff80ffd99",
            "max": 467042463,
            "min": 0,
            "orientation": "horizontal",
            "style": "IPY_MODEL_0c645ff5550744438e2277adc5b44a10",
            "value": 467042463
          }
        },
        "ddd5344583b946258b6d0d6b86057982": {
          "model_module": "@jupyter-widgets/controls",
          "model_name": "HTMLModel",
          "model_module_version": "1.5.0",
          "state": {
            "_dom_classes": [],
            "_model_module": "@jupyter-widgets/controls",
            "_model_module_version": "1.5.0",
            "_model_name": "HTMLModel",
            "_view_count": null,
            "_view_module": "@jupyter-widgets/controls",
            "_view_module_version": "1.5.0",
            "_view_name": "HTMLView",
            "description": "",
            "description_tooltip": null,
            "layout": "IPY_MODEL_f2de8f7bfa2f484f91e90c870f764993",
            "placeholder": "​",
            "style": "IPY_MODEL_e6dc7a0da9cb4778b79d0b3025994714",
            "value": " 467M/467M [00:04&lt;00:00, 103MB/s]"
          }
        },
        "8d25ec5a11714bfe9d49e28d64cf99a7": {
          "model_module": "@jupyter-widgets/base",
          "model_name": "LayoutModel",
          "model_module_version": "1.2.0",
          "state": {
            "_model_module": "@jupyter-widgets/base",
            "_model_module_version": "1.2.0",
            "_model_name": "LayoutModel",
            "_view_count": null,
            "_view_module": "@jupyter-widgets/base",
            "_view_module_version": "1.2.0",
            "_view_name": "LayoutView",
            "align_content": null,
            "align_items": null,
            "align_self": null,
            "border": null,
            "bottom": null,
            "display": null,
            "flex": null,
            "flex_flow": null,
            "grid_area": null,
            "grid_auto_columns": null,
            "grid_auto_flow": null,
            "grid_auto_rows": null,
            "grid_column": null,
            "grid_gap": null,
            "grid_row": null,
            "grid_template_areas": null,
            "grid_template_columns": null,
            "grid_template_rows": null,
            "height": null,
            "justify_content": null,
            "justify_items": null,
            "left": null,
            "margin": null,
            "max_height": null,
            "max_width": null,
            "min_height": null,
            "min_width": null,
            "object_fit": null,
            "object_position": null,
            "order": null,
            "overflow": null,
            "overflow_x": null,
            "overflow_y": null,
            "padding": null,
            "right": null,
            "top": null,
            "visibility": null,
            "width": null
          }
        },
        "b0425e4a44c544a29be093bd88b05645": {
          "model_module": "@jupyter-widgets/base",
          "model_name": "LayoutModel",
          "model_module_version": "1.2.0",
          "state": {
            "_model_module": "@jupyter-widgets/base",
            "_model_module_version": "1.2.0",
            "_model_name": "LayoutModel",
            "_view_count": null,
            "_view_module": "@jupyter-widgets/base",
            "_view_module_version": "1.2.0",
            "_view_name": "LayoutView",
            "align_content": null,
            "align_items": null,
            "align_self": null,
            "border": null,
            "bottom": null,
            "display": null,
            "flex": null,
            "flex_flow": null,
            "grid_area": null,
            "grid_auto_columns": null,
            "grid_auto_flow": null,
            "grid_auto_rows": null,
            "grid_column": null,
            "grid_gap": null,
            "grid_row": null,
            "grid_template_areas": null,
            "grid_template_columns": null,
            "grid_template_rows": null,
            "height": null,
            "justify_content": null,
            "justify_items": null,
            "left": null,
            "margin": null,
            "max_height": null,
            "max_width": null,
            "min_height": null,
            "min_width": null,
            "object_fit": null,
            "object_position": null,
            "order": null,
            "overflow": null,
            "overflow_x": null,
            "overflow_y": null,
            "padding": null,
            "right": null,
            "top": null,
            "visibility": null,
            "width": null
          }
        },
        "1d99da120a0b44429629f8fe14768e3a": {
          "model_module": "@jupyter-widgets/controls",
          "model_name": "DescriptionStyleModel",
          "model_module_version": "1.5.0",
          "state": {
            "_model_module": "@jupyter-widgets/controls",
            "_model_module_version": "1.5.0",
            "_model_name": "DescriptionStyleModel",
            "_view_count": null,
            "_view_module": "@jupyter-widgets/base",
            "_view_module_version": "1.2.0",
            "_view_name": "StyleView",
            "description_width": ""
          }
        },
        "35c76a943fe1467ba4a089fff80ffd99": {
          "model_module": "@jupyter-widgets/base",
          "model_name": "LayoutModel",
          "model_module_version": "1.2.0",
          "state": {
            "_model_module": "@jupyter-widgets/base",
            "_model_module_version": "1.2.0",
            "_model_name": "LayoutModel",
            "_view_count": null,
            "_view_module": "@jupyter-widgets/base",
            "_view_module_version": "1.2.0",
            "_view_name": "LayoutView",
            "align_content": null,
            "align_items": null,
            "align_self": null,
            "border": null,
            "bottom": null,
            "display": null,
            "flex": null,
            "flex_flow": null,
            "grid_area": null,
            "grid_auto_columns": null,
            "grid_auto_flow": null,
            "grid_auto_rows": null,
            "grid_column": null,
            "grid_gap": null,
            "grid_row": null,
            "grid_template_areas": null,
            "grid_template_columns": null,
            "grid_template_rows": null,
            "height": null,
            "justify_content": null,
            "justify_items": null,
            "left": null,
            "margin": null,
            "max_height": null,
            "max_width": null,
            "min_height": null,
            "min_width": null,
            "object_fit": null,
            "object_position": null,
            "order": null,
            "overflow": null,
            "overflow_x": null,
            "overflow_y": null,
            "padding": null,
            "right": null,
            "top": null,
            "visibility": null,
            "width": null
          }
        },
        "0c645ff5550744438e2277adc5b44a10": {
          "model_module": "@jupyter-widgets/controls",
          "model_name": "ProgressStyleModel",
          "model_module_version": "1.5.0",
          "state": {
            "_model_module": "@jupyter-widgets/controls",
            "_model_module_version": "1.5.0",
            "_model_name": "ProgressStyleModel",
            "_view_count": null,
            "_view_module": "@jupyter-widgets/base",
            "_view_module_version": "1.2.0",
            "_view_name": "StyleView",
            "bar_color": null,
            "description_width": ""
          }
        },
        "f2de8f7bfa2f484f91e90c870f764993": {
          "model_module": "@jupyter-widgets/base",
          "model_name": "LayoutModel",
          "model_module_version": "1.2.0",
          "state": {
            "_model_module": "@jupyter-widgets/base",
            "_model_module_version": "1.2.0",
            "_model_name": "LayoutModel",
            "_view_count": null,
            "_view_module": "@jupyter-widgets/base",
            "_view_module_version": "1.2.0",
            "_view_name": "LayoutView",
            "align_content": null,
            "align_items": null,
            "align_self": null,
            "border": null,
            "bottom": null,
            "display": null,
            "flex": null,
            "flex_flow": null,
            "grid_area": null,
            "grid_auto_columns": null,
            "grid_auto_flow": null,
            "grid_auto_rows": null,
            "grid_column": null,
            "grid_gap": null,
            "grid_row": null,
            "grid_template_areas": null,
            "grid_template_columns": null,
            "grid_template_rows": null,
            "height": null,
            "justify_content": null,
            "justify_items": null,
            "left": null,
            "margin": null,
            "max_height": null,
            "max_width": null,
            "min_height": null,
            "min_width": null,
            "object_fit": null,
            "object_position": null,
            "order": null,
            "overflow": null,
            "overflow_x": null,
            "overflow_y": null,
            "padding": null,
            "right": null,
            "top": null,
            "visibility": null,
            "width": null
          }
        },
        "e6dc7a0da9cb4778b79d0b3025994714": {
          "model_module": "@jupyter-widgets/controls",
          "model_name": "DescriptionStyleModel",
          "model_module_version": "1.5.0",
          "state": {
            "_model_module": "@jupyter-widgets/controls",
            "_model_module_version": "1.5.0",
            "_model_name": "DescriptionStyleModel",
            "_view_count": null,
            "_view_module": "@jupyter-widgets/base",
            "_view_module_version": "1.2.0",
            "_view_name": "StyleView",
            "description_width": ""
          }
        }
      }
    }
  },
  "cells": [
    {
      "cell_type": "markdown",
      "source": [
        "<center>\n",
        "<img src=\"https://upload.wikimedia.org/wikipedia/commons/4/47/Acronimo_y_nombre_uc3m.png\"/>\n",
        "\n",
        "<img src=\"https://mirrors.creativecommons.org/presskit/buttons/88x31/png/by-nc-sa.png\" width=15%/>\n",
        "</center>   "
      ],
      "metadata": {
        "id": "dFaUAFC_dciS"
      }
    },
    {
      "cell_type": "markdown",
      "source": [
        "# XLNet\n",
        "\n",
        "BERT es uno de los modelos transformers más potentes y versátiles, que puede ser aplicado a una amplia variedad de tareas de PLN con bueno resultados. \n",
        "Sin embargo, BERT tiene dos importantes limitaciones:\n",
        "\n",
        "\n",
        "1. Una de las estrategias que utiliza BERT para su entrenamiento es enmascarar tokens de la entrada para generar los embeddings. No sabemos cómo BERT utiliza esos tokens enmascarados. \n",
        "2. Si en una oración, hay más de dos tokens enmascarados, las dependencias entre estos tokens no pueden ser capturadas, así que podemos perder información importante de cada uno de ellos. \n",
        "3. La entrada de BERT está limitada a 512 tokens. \n",
        "\n",
        "En este notebook, presentaremos un nuevo modelo transformer, **XLNet**, que trata de superar las limitaciones de BERT, al capturar el contexto alrededor de un token aplicando un modelo de lenguaje basado en permutaciones. \n",
        "\n",
        "<center>\n",
        "<img src='https://production-media.paperswithcode.com/methods/0_dwpaEuNcwmPQUOKi_COw4cmZ.png'>\n",
        "</center>\n",
        "\n",
        "\n",
        "Review this tutorial: \n",
        "- https://towardsdatascience.com/what-is-xlnet-and-why-it-outperforms-bert-8d8fce710335\n"
      ],
      "metadata": {
        "id": "0BK-PkWVW2ke"
      }
    },
    {
      "cell_type": "markdown",
      "source": [
        "##¿Qué es XLNet?\n",
        "\n",
        "Es un modelo auto-regresivo, es decir, está entrenado para predecir la siguiente palabra a partir de una secuencia de palabras. XLNet utiliza un modelo de lenguaje basado en permutaciones para aprender representaciones de las palabras que sean capaces de capturar su contexto en ambas direcciones.\n",
        "\n",
        "A diferencia de BERT, XLNet no utiliza ninguna estrategia de enmascaramiento de palabras. En su lugar, realiza permutaciones para capturar el contexto de una palabra, entrenando un modelo auto-regresivo a partir de todas las posibles permutaciones de las palabras en un oración. \n",
        "\n",
        "De esta forma para cada token, XLNet utiliza toda la información contextual del resto de tokens en la oración. Esto permite va a permitir obtener buenas representaciones de las palabras. \n",
        "\n",
        "Como muchos otros modelos transformers, XLNet añada una capa línea después de su modelo autoregresivo para que pueda ser adaptado fácilmente a otras tareas. \n",
        "\n",
        "XLNet es uno de los pocos modelos que no limitan el tamaño de la secuencia de entrada. \n"
      ],
      "metadata": {
        "id": "pdfmn2x4hKZG"
      }
    },
    {
      "cell_type": "markdown",
      "source": [
        "## Cómo utilizar XLNet desde HuggingFace\n",
        "\n",
        "Además de instalar la librería transformers, también necesitamos instalar **sentencepiece**, una re-implementación del tokenizador para ciertos transformers como T5 o XLNet. \n",
        "\n"
      ],
      "metadata": {
        "id": "S5t0CkkrgUsm"
      }
    },
    {
      "cell_type": "code",
      "source": [
        "!pip install transformers sentencepiece\n"
      ],
      "metadata": {
        "colab": {
          "base_uri": "https://localhost:8080/"
        },
        "id": "iwuSy-27gjnV",
        "outputId": "d2004d3c-5c64-4fb5-a24a-424689741952"
      },
      "execution_count": 4,
      "outputs": [
        {
          "output_type": "stream",
          "name": "stdout",
          "text": [
            "Looking in indexes: https://pypi.org/simple, https://us-python.pkg.dev/colab-wheels/public/simple/\n",
            "Requirement already satisfied: transformers in /usr/local/lib/python3.9/dist-packages (4.26.1)\n",
            "Collecting sentencepiece\n",
            "  Downloading sentencepiece-0.1.97-cp39-cp39-manylinux_2_17_x86_64.manylinux2014_x86_64.whl (1.3 MB)\n",
            "\u001b[2K     \u001b[90m━━━━━━━━━━━━━━━━━━━━━━━━━━━━━━━━━━━━━━━━\u001b[0m \u001b[32m1.3/1.3 MB\u001b[0m \u001b[31m15.5 MB/s\u001b[0m eta \u001b[36m0:00:00\u001b[0m\n",
            "\u001b[?25hRequirement already satisfied: pyyaml>=5.1 in /usr/local/lib/python3.9/dist-packages (from transformers) (6.0)\n",
            "Requirement already satisfied: regex!=2019.12.17 in /usr/local/lib/python3.9/dist-packages (from transformers) (2022.6.2)\n",
            "Requirement already satisfied: tokenizers!=0.11.3,<0.14,>=0.11.1 in /usr/local/lib/python3.9/dist-packages (from transformers) (0.13.2)\n",
            "Requirement already satisfied: packaging>=20.0 in /usr/local/lib/python3.9/dist-packages (from transformers) (23.0)\n",
            "Requirement already satisfied: requests in /usr/local/lib/python3.9/dist-packages (from transformers) (2.25.1)\n",
            "Requirement already satisfied: tqdm>=4.27 in /usr/local/lib/python3.9/dist-packages (from transformers) (4.65.0)\n",
            "Requirement already satisfied: filelock in /usr/local/lib/python3.9/dist-packages (from transformers) (3.9.0)\n",
            "Requirement already satisfied: numpy>=1.17 in /usr/local/lib/python3.9/dist-packages (from transformers) (1.22.4)\n",
            "Requirement already satisfied: huggingface-hub<1.0,>=0.11.0 in /usr/local/lib/python3.9/dist-packages (from transformers) (0.13.2)\n",
            "Requirement already satisfied: typing-extensions>=3.7.4.3 in /usr/local/lib/python3.9/dist-packages (from huggingface-hub<1.0,>=0.11.0->transformers) (4.5.0)\n",
            "Requirement already satisfied: urllib3<1.27,>=1.21.1 in /usr/local/lib/python3.9/dist-packages (from requests->transformers) (1.26.15)\n",
            "Requirement already satisfied: chardet<5,>=3.0.2 in /usr/local/lib/python3.9/dist-packages (from requests->transformers) (4.0.0)\n",
            "Requirement already satisfied: idna<3,>=2.5 in /usr/local/lib/python3.9/dist-packages (from requests->transformers) (2.10)\n",
            "Requirement already satisfied: certifi>=2017.4.17 in /usr/local/lib/python3.9/dist-packages (from requests->transformers) (2022.12.7)\n",
            "Installing collected packages: sentencepiece\n",
            "Successfully installed sentencepiece-0.1.97\n"
          ]
        }
      ]
    },
    {
      "cell_type": "code",
      "source": [
        "from transformers import XLNetTokenizer, XLNetForMultipleChoice\n",
        "import torch\n",
        "\n",
        "\n"
      ],
      "metadata": {
        "id": "7EpBwXwngxFE"
      },
      "execution_count": 5,
      "outputs": []
    },
    {
      "cell_type": "markdown",
      "source": [
        "### XLNet para Queation Answering.\n",
        "\n",
        "Una de las principales ventajas de HuggingFace es que ya proporciona modelos previamente entrenados y ajustados para tareas específicas. En este caso, vamos a utilizar la clase **XLNetForMultipleChoice** que ya encapsula el modelo ajustado para la tarea de encontrar la respuesta correcta a una pregunta entre múltiples respuestas. "
      ],
      "metadata": {
        "id": "druQpebzhNU7"
      }
    },
    {
      "cell_type": "code",
      "source": [
        "tokenizer = XLNetTokenizer.from_pretrained(\"xlnet-base-cased\")\n",
        "model = XLNetForMultipleChoice.from_pretrained(\"xlnet-base-cased\", return_dict = True).to(\"cuda\")\n",
        "\n"
      ],
      "metadata": {
        "colab": {
          "base_uri": "https://localhost:8080/",
          "height": 222,
          "referenced_widgets": [
            "60095821429843adad2561165aba523d",
            "05f0e67845c641e0a5f9b4d83971eff3",
            "d25b40b10c6e49e2bfeaa7d494930218",
            "14ecda9003424863bc2ff3fb0353eeda",
            "0d5ba19aefc54623af40172d9933e6a2",
            "702caecb47af411bb8ff3f4e2b3555aa",
            "9a85c88bc4cf4ebf8c24ee890377f6ca",
            "d0bc737dc02e43259be4bf4ad30f2100",
            "cb567678756b4614b8c2b327bd4075a1",
            "dee7420d9ebd46e2acb7fdddca2aa9e3",
            "46e7cf302c444be6b6aa6438b16715d4",
            "e52077d67d0d4a53af335a7e8b86efa9",
            "c64f583d099a4adca9e3406995e37308",
            "06b24cfaf70f4c83aa5b15225103e50c",
            "dcfe33c839774449bd3c5329fb5b24f3",
            "bb1f7b2eef8649b3b73b46f4ab62f9d1",
            "03c36150646c47fba69cc78b5e56817c",
            "e795014eafd840c0900364e37167f74a",
            "9c818078c7a4493dad18ec05f868a20b",
            "f976fa45862843fdb308cc4313ebc16c",
            "03efe7d2ecaf4c869347c357bddfe01e",
            "993990a623eb4bebb4bb56a67b31c3e6",
            "b6300a1666ed4b9daae40cdc8e43ede4",
            "84f526391dd2457db46522a2b40044b3",
            "5f848d66cfdd4c95a4902e4ad117ae51",
            "ddd5344583b946258b6d0d6b86057982",
            "8d25ec5a11714bfe9d49e28d64cf99a7",
            "b0425e4a44c544a29be093bd88b05645",
            "1d99da120a0b44429629f8fe14768e3a",
            "35c76a943fe1467ba4a089fff80ffd99",
            "0c645ff5550744438e2277adc5b44a10",
            "f2de8f7bfa2f484f91e90c870f764993",
            "e6dc7a0da9cb4778b79d0b3025994714"
          ]
        },
        "id": "JnPaJ0gkgz7r",
        "outputId": "686c48dc-80f0-4009-8918-3254693da479"
      },
      "execution_count": 6,
      "outputs": [
        {
          "output_type": "display_data",
          "data": {
            "text/plain": [
              "Downloading (…)ve/main/spiece.model:   0%|          | 0.00/798k [00:00<?, ?B/s]"
            ],
            "application/vnd.jupyter.widget-view+json": {
              "version_major": 2,
              "version_minor": 0,
              "model_id": "60095821429843adad2561165aba523d"
            }
          },
          "metadata": {}
        },
        {
          "output_type": "display_data",
          "data": {
            "text/plain": [
              "Downloading (…)lve/main/config.json:   0%|          | 0.00/760 [00:00<?, ?B/s]"
            ],
            "application/vnd.jupyter.widget-view+json": {
              "version_major": 2,
              "version_minor": 0,
              "model_id": "e52077d67d0d4a53af335a7e8b86efa9"
            }
          },
          "metadata": {}
        },
        {
          "output_type": "display_data",
          "data": {
            "text/plain": [
              "Downloading pytorch_model.bin:   0%|          | 0.00/467M [00:00<?, ?B/s]"
            ],
            "application/vnd.jupyter.widget-view+json": {
              "version_major": 2,
              "version_minor": 0,
              "model_id": "b6300a1666ed4b9daae40cdc8e43ede4"
            }
          },
          "metadata": {}
        },
        {
          "output_type": "stream",
          "name": "stderr",
          "text": [
            "Some weights of the model checkpoint at xlnet-base-cased were not used when initializing XLNetForMultipleChoice: ['lm_loss.weight', 'lm_loss.bias']\n",
            "- This IS expected if you are initializing XLNetForMultipleChoice from the checkpoint of a model trained on another task or with another architecture (e.g. initializing a BertForSequenceClassification model from a BertForPreTraining model).\n",
            "- This IS NOT expected if you are initializing XLNetForMultipleChoice from the checkpoint of a model that you expect to be exactly identical (initializing a BertForSequenceClassification model from a BertForSequenceClassification model).\n",
            "Some weights of XLNetForMultipleChoice were not initialized from the model checkpoint at xlnet-base-cased and are newly initialized: ['logits_proj.weight', 'sequence_summary.summary.weight', 'sequence_summary.summary.bias', 'logits_proj.bias']\n",
            "You should probably TRAIN this model on a down-stream task to be able to use it for predictions and inference.\n"
          ]
        }
      ]
    },
    {
      "cell_type": "markdown",
      "source": [
        "El modelo toma como entrada una pregunta y una serie de posibles respuestas. Entonces, va a computar la probabilidad de cada respuesta. Para hacer esto, utiliza la función **softmax** sobre la salida de XLNet. El valor más alto será la respuesta correcta. \n",
        "\n"
      ],
      "metadata": {
        "id": "Xwytdg3OiSlU"
      }
    },
    {
      "cell_type": "code",
      "source": [
        "from torch.nn import functional as F\n",
        "\n",
        "prompt = \"What is the capital of Spain?\"\n",
        "answers = [\"Paris\", \"London\", \"Lyon\", \"Berlin\", \"Madrid\"]\n",
        "\n",
        "encoding = tokenizer([prompt, prompt, prompt, prompt, prompt], answers, return_tensors=\"pt\", padding = True).to(\"cuda\")\n",
        "\n",
        "outputs = model(**{k: v.unsqueeze(0) for k, v in encoding.items()}) \n",
        "\n",
        "logits = outputs.logits\n",
        "softmax = F.softmax(logits, dim = -1)\n",
        "index = torch.argmax(softmax, dim = -1)\n",
        "print(\"The correct answer is\", answers[index])"
      ],
      "metadata": {
        "colab": {
          "base_uri": "https://localhost:8080/"
        },
        "id": "USHIxX2NiT21",
        "outputId": "35eedcdf-bce5-474b-95b0-7fc2cd9510db"
      },
      "execution_count": 15,
      "outputs": [
        {
          "output_type": "stream",
          "name": "stdout",
          "text": [
            "tensor([[0.1879, 0.2055, 0.1661, 0.2092, 0.2312]], device='cuda:0',\n",
            "       grad_fn=<SoftmaxBackward0>)\n",
            "The correct answer is Madrid\n"
          ]
        }
      ]
    },
    {
      "cell_type": "markdown",
      "source": [
        "Vamos a mostrar la probabilidad que el modelo obtuvó para cada una de las posibles respuestas: "
      ],
      "metadata": {
        "id": "_sgDm_aqjL5q"
      }
    },
    {
      "cell_type": "code",
      "source": [
        "for i in range(len(answers)):\n",
        "    print(answers[i], softmax[0][i])\n"
      ],
      "metadata": {
        "colab": {
          "base_uri": "https://localhost:8080/"
        },
        "id": "jEG99nQejOzI",
        "outputId": "08bbcf76-87aa-4a31-d1eb-359d28ce022f"
      },
      "execution_count": null,
      "outputs": [
        {
          "output_type": "stream",
          "name": "stdout",
          "text": [
            "Paris tensor(0.2096, device='cuda:0', grad_fn=<SelectBackward0>)\n",
            "London tensor(0.2278, device='cuda:0', grad_fn=<SelectBackward0>)\n",
            "Lyon tensor(0.1935, device='cuda:0', grad_fn=<SelectBackward0>)\n",
            "Berlin tensor(0.1714, device='cuda:0', grad_fn=<SelectBackward0>)\n",
            "Madrid tensor(0.1977, device='cuda:0', grad_fn=<SelectBackward0>)\n"
          ]
        }
      ]
    },
    {
      "cell_type": "markdown",
      "source": [
        "Podmeos ver que realmente las probabilidades no son muy buenas. Esto es porque la capa lineal del modelo que sigue al modelo auto-regresivo, no ha sido entrenado para esta tarea. Es decir, mirando esos valores, es bastante evidente deducir que el modelo necesita ser ajustado para conseguir mejores resultados. "
      ],
      "metadata": {
        "id": "OFFF4WTUjo61"
      }
    },
    {
      "cell_type": "markdown",
      "source": [
        "### XLNet para Extractive Question Answering\n",
        "\n",
        "Esta tarea es un poco más compleja. La entrada es una pregunta y un texto que contiene su respuesta. El modelo debe ser capaz de extraer su respuesta. "
      ],
      "metadata": {
        "id": "tcETWxZHj5rk"
      }
    },
    {
      "cell_type": "code",
      "source": [
        "from transformers import XLNetForQuestionAnsweringSimple\n",
        "\n",
        "tokenizer = XLNetTokenizer.from_pretrained('xlnet-base-cased')\n",
        "model = XLNetForQuestionAnsweringSimple.from_pretrained(\"xlnet-base-cased\",return_dict = True)\n"
      ],
      "metadata": {
        "colab": {
          "base_uri": "https://localhost:8080/"
        },
        "id": "LnRgTVCPjoL8",
        "outputId": "33b14e00-602c-40e7-ba5d-8e4e35177325"
      },
      "execution_count": 16,
      "outputs": [
        {
          "output_type": "stream",
          "name": "stderr",
          "text": [
            "Some weights of the model checkpoint at xlnet-base-cased were not used when initializing XLNetForQuestionAnsweringSimple: ['lm_loss.weight', 'lm_loss.bias']\n",
            "- This IS expected if you are initializing XLNetForQuestionAnsweringSimple from the checkpoint of a model trained on another task or with another architecture (e.g. initializing a BertForSequenceClassification model from a BertForPreTraining model).\n",
            "- This IS NOT expected if you are initializing XLNetForQuestionAnsweringSimple from the checkpoint of a model that you expect to be exactly identical (initializing a BertForSequenceClassification model from a BertForSequenceClassification model).\n",
            "Some weights of XLNetForQuestionAnsweringSimple were not initialized from the model checkpoint at xlnet-base-cased and are newly initialized: ['qa_outputs.bias', 'qa_outputs.weight']\n",
            "You should probably TRAIN this model on a down-stream task to be able to use it for predictions and inference.\n"
          ]
        }
      ]
    },
    {
      "cell_type": "code",
      "source": [
        "question = \"How many continents are there in the world?\"\n",
        "text = \"There are 7 continents in the world.\"\n",
        "\n",
        "inputs = tokenizer.encode_plus(question, text, return_tensors='pt')\n",
        "output = model(**inputs)\n",
        "\n",
        "start_max = torch.argmax(F.softmax(output.start_logits, dim = -1))\n",
        "end_max = torch.argmax(F.softmax(output.end_logits, dim=-1)) + 1 \n",
        "## add one because of python list indexing\n",
        "answer = tokenizer.decode(inputs[\"input_ids\"][0][start_max : end_max])\n",
        "print('answer: ', answer)\n"
      ],
      "metadata": {
        "colab": {
          "base_uri": "https://localhost:8080/"
        },
        "id": "ese4De_SkKkI",
        "outputId": "c89c5562-a2a2-49f4-e260-8294ae79fcbc"
      },
      "execution_count": 17,
      "outputs": [
        {
          "output_type": "stream",
          "name": "stdout",
          "text": [
            "answer:  ?<sep> There are 7 continent\n"
          ]
        }
      ]
    },
    {
      "cell_type": "markdown",
      "source": [
        "### XLNet para modelado de lenguaje\n",
        "\n",
        "En este caso, la entrada del modelo es una oración incompleta, que el modelo debe completar. \n"
      ],
      "metadata": {
        "id": "f7enxn_sjNPF"
      }
    },
    {
      "cell_type": "code",
      "source": [
        "from transformers import XLNetTokenizer, XLNetLMHeadModel\n",
        "tokenizer = XLNetTokenizer.from_pretrained('xlnet-base-cased')\n",
        "model = XLNetLMHeadModel.from_pretrained('xlnet-base-cased', return_dict = True)\n"
      ],
      "metadata": {
        "id": "YFNC8BrZkeXt"
      },
      "execution_count": 19,
      "outputs": []
    },
    {
      "cell_type": "markdown",
      "source": [
        "Es necesario indicar donde está el token que debe predecir el modelo. "
      ],
      "metadata": {
        "id": "Ur7aspeqlB8_"
      }
    },
    {
      "cell_type": "code",
      "source": [
        "text = \"The sky is very clear at \" + tokenizer.mask_token\n",
        "print('origin text:', text)\n",
        "\n",
        "# encoding the input text\n",
        "input = tokenizer.encode_plus(text, return_tensors = \"pt\")\n",
        "\n",
        "output = model(**input).logits[:, -1, :]\n",
        "# softmax calculates a probability for each word in the XLNet's vocabulary\n",
        "softmax = F.softmax(output, dim = -1)\n",
        "\n",
        "index = torch.argmax(softmax, dim = -1)\n",
        "# transform from index to word\n",
        "next_word = tokenizer.decode(index)\n",
        "print(\"precidtect word: \", next_word)\n",
        "\n",
        "new_sentence = text.replace(tokenizer.mask_token, next_word)\n",
        "print('complete sentence: ', new_sentence)"
      ],
      "metadata": {
        "colab": {
          "base_uri": "https://localhost:8080/"
        },
        "id": "4wzyxW_mkwCQ",
        "outputId": "98dea25a-8f2e-4a44-cab2-d49dc75bd27d"
      },
      "execution_count": 20,
      "outputs": [
        {
          "output_type": "stream",
          "name": "stdout",
          "text": [
            "origin text: The sky is very clear at <mask>\n",
            "precidtect word:  He\n",
            "complete sentence:  The sky is very clear at He\n"
          ]
        }
      ]
    },
    {
      "cell_type": "markdown",
      "source": [
        "El modelo no está funcionando bien, porque no ha sido entrenado para esa tarea. El modelo debe ser ajustado para esa tarea.\n",
        "\n"
      ],
      "metadata": {
        "id": "lUVrHlNwli6Q"
      }
    },
    {
      "cell_type": "markdown",
      "source": [
        "Es posible obtener también los mejores k candidatos propuestos por el modelo.  Para ello, usamos la función **torch.topk**"
      ],
      "metadata": {
        "id": "KfNPGdbdmDP6"
      }
    },
    {
      "cell_type": "code",
      "source": [
        "text = \"The sky is very clear at \" + tokenizer.mask_token\n",
        "mask_index = torch.where(input[\"input_ids\"][0] == tokenizer.mask_token_id)\n",
        "input = tokenizer.encode_plus(text, return_tensors = \"pt\")\n",
        "output = model(**input).logits\n",
        "softmax = F.softmax(output, dim = -1)\n",
        "mask_word = softmax[0, mask_index, :]\n",
        "\n",
        "top_10 = torch.topk(mask_word, 10, dim = 1)[1][0]\n",
        "\n",
        "for token in top_10:\n",
        "  word = tokenizer.decode([token])\n",
        "  new_sentence = text.replace(tokenizer.mask_token, word)\n",
        "  print(new_sentence)"
      ],
      "metadata": {
        "colab": {
          "base_uri": "https://localhost:8080/"
        },
        "id": "OXiTurN2l_Rq",
        "outputId": "e3ec5a12-0822-494e-d3b1-cfb458ec3d7c"
      },
      "execution_count": 21,
      "outputs": [
        {
          "output_type": "stream",
          "name": "stdout",
          "text": [
            "The sky is very clear at d\n",
            "The sky is very clear at s\n",
            "The sky is very clear at strongly\n",
            "The sky is very clear at I\n",
            "The sky is very clear at told\n",
            "The sky is very clear at .\n",
            "The sky is very clear at \n",
            "The sky is very clear at He\n",
            "The sky is very clear at ed\n",
            "The sky is very clear at heavily\n"
          ]
        }
      ]
    },
    {
      "cell_type": "markdown",
      "source": [
        "###  Cómo utilizar XLNet para cualquier tarea PLN\n",
        "\n",
        "Si quieres entrenar un modelo XLNet para una tarea específica, debes seguir los siguientes pasos:\n",
        "- Cargar el modelo XLNet base.\n",
        "- Agrega las capas adicionales para ajustar a la tarea (generalmente es una capa lineal).\n",
        "- Finalmente, re-entrenar toda la arquitectura utilizando un conjunto de datos específico para la tarea.\n",
        "\n",
        "La mejor forma de hacerlo es utilizar la siguiente clase de Pytorch: "
      ],
      "metadata": {
        "id": "SmaDLjuBmfHT"
      }
    },
    {
      "cell_type": "code",
      "source": [
        "from transformers import XLNetModel\n",
        "import torch.nn as nn\n",
        "\n",
        "class XLNet_Model(nn.Module):\n",
        "  def __init__(self, classes):\n",
        "    super(XLNet_Model, self).__init__()\n",
        "    self.xlnet = XLNetModel.from_pretrained('xlnet-base-cased')\n",
        "    # the actual value of xlnet.config.hidden_size  is 768)\n",
        "    self.out = nn.Linear(self.xlnet.config.hidden_size, classes)\n",
        "\n",
        "  def forward(self, input):\n",
        "    outputs = self.xlnet(**input)\n",
        "    out = self.out(outputs.last_hidden_state)\n",
        "    return out\n",
        "\n",
        "    "
      ],
      "metadata": {
        "id": "x35u7MgqmeY7"
      },
      "execution_count": 22,
      "outputs": []
    }
  ]
}